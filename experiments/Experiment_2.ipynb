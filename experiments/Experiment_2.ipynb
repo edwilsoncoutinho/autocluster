{
 "cells": [
  {
   "cell_type": "markdown",
   "metadata": {},
   "source": [
    "### Research Question 2.1: How much does metalearning help with clustering?\n",
    "\n",
    "In theory, metalearning should improve many aspects of machine learning.\n",
    "For the application of clustering, where does this benefit lie? \n",
    "- In iterations needed for convergenece?\n",
    "- In final quality of convergence?\n",
    "\n",
    "### Research Question 2.2: How should we preform metalearning?\n",
    "\n",
    "- Which features should we use to preform metalearning?\n",
    "- What linear combination of the features should we take \n",
    "There is also the question of which specific subset of metalearning features should we take into account, as well as the method in which we calculate the distance between these features.\n",
    "For example, it is obvious that "
   ]
  }
 ],
 "metadata": {
  "kernelspec": {
   "display_name": "Python [conda env:automl]",
   "language": "python",
   "name": "conda-env-automl-py"
  },
  "language_info": {
   "name": ""
  }
 },
 "nbformat": 4,
 "nbformat_minor": 4
}
