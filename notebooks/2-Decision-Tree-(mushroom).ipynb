{
 "cells": [
  {
   "cell_type": "code",
   "execution_count": 87,
   "metadata": {},
   "outputs": [
    {
     "name": "stdout",
     "output_type": "stream",
     "text": [
      "The autoreload extension is already loaded. To reload it, use:\n",
      "  %reload_ext autoreload\n"
     ]
    }
   ],
   "source": [
    "import pandas as pd\n",
    "from dataset import Dataset\n",
    "\n",
    "%load_ext autoreload\n",
    "%autoreload 2"
   ]
  },
  {
   "cell_type": "markdown",
   "metadata": {},
   "source": [
    "## Create dataset object"
   ]
  },
  {
   "cell_type": "code",
   "execution_count": 88,
   "metadata": {},
   "outputs": [],
   "source": [
    "categorical_cols = ['cap-shape', 'cap-surface', 'cap-color', 'bruises', 'odor',\n",
    "                   'gill-attachment', 'gill-spacing', 'gill-color',\n",
    "                   'stalk-shape', 'stalk-root', 'stalk-surface-above-ring',\n",
    "                   'stalk-surface-below-ring', 'stalk-color-above-ring',\n",
    "                   'stalk-color-below-ring', 'veil-type', 'veil-color', 'ring-number',\n",
    "                   'ring-type', 'spore-print-color', 'population', 'habitat']\n",
    "ignore_cols = []\n",
    "numeric_cols = []\n",
    "ordinal_cols = {\n",
    "    'gill-size': ['n', 'b']\n",
    "}\n",
    "\n",
    "mushroom_dataset = Dataset(\"../data/mushrooms.csv\", y_col='class', \n",
    "                           train_size=0.5, \n",
    "                           test_size=0.5,\n",
    "                           categorical_cols=categorical_cols,\n",
    "                           ignore_cols=ignore_cols,\n",
    "                           numeric_cols=numeric_cols,\n",
    "                           ordinal_cols=ordinal_cols,\n",
    "                           classification=True\n",
    "                          )"
   ]
  },
  {
   "cell_type": "code",
   "execution_count": 90,
   "metadata": {},
   "outputs": [
    {
     "data": {
      "text/plain": [
       "(8124, 116)"
      ]
     },
     "execution_count": 90,
     "metadata": {},
     "output_type": "execute_result"
    }
   ],
   "source": [
    "mushroom_dataset.X.shape"
   ]
  },
  {
   "cell_type": "code",
   "execution_count": 91,
   "metadata": {},
   "outputs": [
    {
     "name": "stdout",
     "output_type": "stream",
     "text": [
      "{'X_test': (4062, 116), 'X_train': (4062, 116), 'y_test': (4062, 1), 'y_train': (4062, 1)}\n"
     ]
    }
   ],
   "source": [
    "mushroom_dataset.print_shapes()"
   ]
  },
  {
   "cell_type": "code",
   "execution_count": 96,
   "metadata": {},
   "outputs": [
    {
     "data": {
      "text/plain": [
       "{'bruises': {0: 'f', 1: 't'},\n",
       " 'cap-color': {0: 'b',\n",
       "  1: 'c',\n",
       "  2: 'e',\n",
       "  3: 'g',\n",
       "  4: 'n',\n",
       "  5: 'p',\n",
       "  6: 'r',\n",
       "  7: 'u',\n",
       "  8: 'w',\n",
       "  9: 'y'},\n",
       " 'cap-shape': {0: 'b', 1: 'c', 2: 'f', 3: 'k', 4: 's', 5: 'x'},\n",
       " 'cap-surface': {0: 'f', 1: 'g', 2: 's', 3: 'y'},\n",
       " 'class': {0: 'e', 1: 'p'},\n",
       " 'gill-attachment': {0: 'a', 1: 'f'},\n",
       " 'gill-color': {0: 'b',\n",
       "  1: 'e',\n",
       "  2: 'g',\n",
       "  3: 'h',\n",
       "  4: 'k',\n",
       "  5: 'n',\n",
       "  6: 'o',\n",
       "  7: 'p',\n",
       "  8: 'r',\n",
       "  9: 'u',\n",
       "  10: 'w',\n",
       "  11: 'y'},\n",
       " 'gill-size': {'b': 1, 'n': 0},\n",
       " 'gill-spacing': {0: 'c', 1: 'w'},\n",
       " 'habitat': {0: 'd', 1: 'g', 2: 'l', 3: 'm', 4: 'p', 5: 'u', 6: 'w'},\n",
       " 'odor': {0: 'a',\n",
       "  1: 'c',\n",
       "  2: 'f',\n",
       "  3: 'l',\n",
       "  4: 'm',\n",
       "  5: 'n',\n",
       "  6: 'p',\n",
       "  7: 's',\n",
       "  8: 'y'},\n",
       " 'population': {0: 'a', 1: 'c', 2: 'n', 3: 's', 4: 'v', 5: 'y'},\n",
       " 'ring-number': {0: 'n', 1: 'o', 2: 't'},\n",
       " 'ring-type': {0: 'e', 1: 'f', 2: 'l', 3: 'n', 4: 'p'},\n",
       " 'spore-print-color': {0: 'b',\n",
       "  1: 'h',\n",
       "  2: 'k',\n",
       "  3: 'n',\n",
       "  4: 'o',\n",
       "  5: 'r',\n",
       "  6: 'u',\n",
       "  7: 'w',\n",
       "  8: 'y'},\n",
       " 'stalk-color-above-ring': {0: 'b',\n",
       "  1: 'c',\n",
       "  2: 'e',\n",
       "  3: 'g',\n",
       "  4: 'n',\n",
       "  5: 'o',\n",
       "  6: 'p',\n",
       "  7: 'w',\n",
       "  8: 'y'},\n",
       " 'stalk-color-below-ring': {0: 'b',\n",
       "  1: 'c',\n",
       "  2: 'e',\n",
       "  3: 'g',\n",
       "  4: 'n',\n",
       "  5: 'o',\n",
       "  6: 'p',\n",
       "  7: 'w',\n",
       "  8: 'y'},\n",
       " 'stalk-root': {0: '?', 1: 'b', 2: 'c', 3: 'e', 4: 'r'},\n",
       " 'stalk-shape': {0: 'e', 1: 't'},\n",
       " 'stalk-surface-above-ring': {0: 'f', 1: 'k', 2: 's', 3: 'y'},\n",
       " 'stalk-surface-below-ring': {0: 'f', 1: 'k', 2: 's', 3: 'y'},\n",
       " 'veil-color': {0: 'n', 1: 'o', 2: 'w', 3: 'y'},\n",
       " 'veil-type': {0: 'p'}}"
      ]
     },
     "execution_count": 96,
     "metadata": {},
     "output_type": "execute_result"
    }
   ],
   "source": [
    "mushroom_dataset.encodings"
   ]
  },
  {
   "cell_type": "markdown",
   "metadata": {},
   "source": [
    "## DecisionTreeClassifier"
   ]
  },
  {
   "cell_type": "code",
   "execution_count": 97,
   "metadata": {},
   "outputs": [
    {
     "name": "stderr",
     "output_type": "stream",
     "text": [
      "/home/wywongbd/anaconda3/envs/spia2019/lib/python3.5/importlib/_bootstrap.py:222: RuntimeWarning: numpy.ufunc size changed, may indicate binary incompatibility. Expected 192 from C header, got 216 from PyObject\n",
      "  return f(*args, **kwds)\n"
     ]
    }
   ],
   "source": [
    "from sklearn.tree import DecisionTreeClassifier\n",
    "from sklearn.ensemble import RandomForestClassifier, GradientBoostingClassifier\n",
    "from sklearn import tree\n",
    "\n",
    "from utils import evaluate_classifier"
   ]
  },
  {
   "cell_type": "code",
   "execution_count": 99,
   "metadata": {},
   "outputs": [
    {
     "name": "stdout",
     "output_type": "stream",
     "text": [
      "1.0\n",
      "1.0\n"
     ]
    }
   ],
   "source": [
    "clf = DecisionTreeClassifier(criterion='gini')\n",
    "clf = clf.fit(mushroom_dataset.X_train, mushroom_dataset.y_train.ravel())\n",
    "print(evaluate_classifier(clf, mushroom_dataset.X_train, mushroom_dataset.y_train))\n",
    "print(evaluate_classifier(clf, mushroom_dataset.X_test, mushroom_dataset.y_test))"
   ]
  },
  {
   "cell_type": "markdown",
   "metadata": {},
   "source": [
    "## RandomForestClassifier"
   ]
  },
  {
   "cell_type": "code",
   "execution_count": 102,
   "metadata": {},
   "outputs": [
    {
     "name": "stdout",
     "output_type": "stream",
     "text": [
      "1.0\n",
      "1.0\n"
     ]
    },
    {
     "name": "stderr",
     "output_type": "stream",
     "text": [
      "/home/wywongbd/anaconda3/envs/spia2019/lib/python3.5/site-packages/sklearn/ensemble/forest.py:245: FutureWarning: The default value of n_estimators will change from 10 in version 0.20 to 100 in 0.22.\n",
      "  \"10 in version 0.20 to 100 in 0.22.\", FutureWarning)\n"
     ]
    }
   ],
   "source": [
    "clf = RandomForestClassifier()\n",
    "clf = clf.fit(mushroom_dataset.X_train, mushroom_dataset.y_train.ravel())\n",
    "print(evaluate_classifier(clf, mushroom_dataset.X_train, mushroom_dataset.y_train))\n",
    "print(evaluate_classifier(clf, mushroom_dataset.X_test, mushroom_dataset.y_test))"
   ]
  },
  {
   "cell_type": "markdown",
   "metadata": {},
   "source": [
    "## GradientBoostedClassifier"
   ]
  },
  {
   "cell_type": "code",
   "execution_count": 103,
   "metadata": {},
   "outputs": [
    {
     "name": "stdout",
     "output_type": "stream",
     "text": [
      "1.0\n",
      "1.0\n"
     ]
    }
   ],
   "source": [
    "clf = GradientBoostingClassifier(learning_rate=0.1)\n",
    "clf = clf.fit(mushroom_dataset.X_train, mushroom_dataset.y_train.ravel())\n",
    "print(evaluate_classifier(clf, mushroom_dataset.X_train, mushroom_dataset.y_train))\n",
    "print(evaluate_classifier(clf, mushroom_dataset.X_test, mushroom_dataset.y_test))"
   ]
  },
  {
   "cell_type": "code",
   "execution_count": null,
   "metadata": {},
   "outputs": [],
   "source": []
  }
 ],
 "metadata": {
  "kernelspec": {
   "display_name": "Python [conda env:spia2019]",
   "language": "python",
   "name": "conda-env-spia2019-py"
  },
  "language_info": {
   "codemirror_mode": {
    "name": "ipython",
    "version": 3
   },
   "file_extension": ".py",
   "mimetype": "text/x-python",
   "name": "python",
   "nbconvert_exporter": "python",
   "pygments_lexer": "ipython3",
   "version": "3.5.6"
  }
 },
 "nbformat": 4,
 "nbformat_minor": 2
}
