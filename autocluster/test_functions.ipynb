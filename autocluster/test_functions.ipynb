{
 "cells": [
  {
   "cell_type": "code",
   "execution_count": 1,
   "metadata": {},
   "outputs": [],
   "source": [
    "from log_helper.log_helper import LogHelper\n",
    "from datetime import datetime\n",
    "from pytz import timezone\n",
    "\n",
    "import os\n",
    "import pathlib\n",
    "import logging"
   ]
  },
  {
   "cell_type": "code",
   "execution_count": 2,
   "metadata": {},
   "outputs": [
    {
     "name": "stderr",
     "output_type": "stream",
     "text": [
      "2019-07-04 11:34:52,318 INFO - log_helper.log_helper - Finished configuring logger\n"
     ]
    }
   ],
   "source": [
    "##################################################################################################\n",
    "# Setup logger and output dir                                                                    #\n",
    "##################################################################################################\n",
    "output_dir = 'log/test-{}'.format(datetime.now(timezone('Asia/Seoul')).strftime('%Y-%m-%d_%H-%M-%S-%f')[:-3])\n",
    "if not os.path.exists(output_dir):\n",
    "    pathlib.Path(output_dir).mkdir(parents=True, exist_ok=True)\n",
    "\n",
    "# Setup logger\n",
    "LogHelper.setup(log_path='{}/test.log'.format(output_dir), log_level=logging.INFO)\n",
    "_logger = logging.getLogger(__name__)"
   ]
  },
  {
   "cell_type": "code",
   "execution_count": 2,
   "metadata": {},
   "outputs": [],
   "source": [
    "import numpy as np"
   ]
  },
  {
   "cell_type": "code",
   "execution_count": 3,
   "metadata": {},
   "outputs": [],
   "source": [
    "from dataset import Dataset"
   ]
  },
  {
   "cell_type": "code",
   "execution_count": 4,
   "metadata": {},
   "outputs": [],
   "source": [
    "X = np.array([\n",
    "    [1, 2, 3, 4, 5, 6],\n",
    "    [7, 8, 9, 10, 11, 12],\n",
    "    [13, 14, 15, 16, 17, 18],\n",
    "    [19, 20, 21, 22, 23, 24],\n",
    "    [25, 26, 27, 28, 29, 30]\n",
    "])"
   ]
  },
  {
   "cell_type": "code",
   "execution_count": 5,
   "metadata": {},
   "outputs": [],
   "source": [
    "dataset = Dataset(X)"
   ]
  },
  {
   "cell_type": "code",
   "execution_count": 6,
   "metadata": {},
   "outputs": [
    {
     "data": {
      "text/plain": [
       "array([[-1.41421356, -1.41421356, -1.41421356, -1.41421356, -1.41421356,\n",
       "        -1.41421356],\n",
       "       [-0.70710678, -0.70710678, -0.70710678, -0.70710678, -0.70710678,\n",
       "        -0.70710678],\n",
       "       [ 0.        ,  0.        ,  0.        ,  0.        ,  0.        ,\n",
       "         0.        ],\n",
       "       [ 0.70710678,  0.70710678,  0.70710678,  0.70710678,  0.70710678,\n",
       "         0.70710678],\n",
       "       [ 1.41421356,  1.41421356,  1.41421356,  1.41421356,  1.41421356,\n",
       "         1.41421356]])"
      ]
     },
     "execution_count": 6,
     "metadata": {},
     "output_type": "execute_result"
    }
   ],
   "source": [
    "dataset.standard_scaler.transform(X)"
   ]
  },
  {
   "cell_type": "code",
   "execution_count": 7,
   "metadata": {},
   "outputs": [
    {
     "data": {
      "text/plain": [
       "array([[-1. , -1. , -1. , -1. , -1. , -1. ],\n",
       "       [-0.5, -0.5, -0.5, -0.5, -0.5, -0.5],\n",
       "       [ 0. ,  0. ,  0. ,  0. ,  0. ,  0. ],\n",
       "       [ 0.5,  0.5,  0.5,  0.5,  0.5,  0.5],\n",
       "       [ 1. ,  1. ,  1. ,  1. ,  1. ,  1. ]])"
      ]
     },
     "execution_count": 7,
     "metadata": {},
     "output_type": "execute_result"
    }
   ],
   "source": [
    "dataset.robust_scaler.transform(X)"
   ]
  },
  {
   "cell_type": "code",
   "execution_count": 8,
   "metadata": {},
   "outputs": [
    {
     "data": {
      "text/plain": [
       "array([[ 1,  2,  3,  4,  5,  6],\n",
       "       [ 7,  8,  9, 10, 11, 12],\n",
       "       [13, 14, 15, 16, 17, 18],\n",
       "       [19, 20, 21, 22, 23, 24],\n",
       "       [25, 26, 27, 28, 29, 30]])"
      ]
     },
     "execution_count": 8,
     "metadata": {},
     "output_type": "execute_result"
    }
   ],
   "source": [
    "dataset.data"
   ]
  },
  {
   "cell_type": "code",
   "execution_count": 9,
   "metadata": {},
   "outputs": [
    {
     "data": {
      "text/plain": [
       "array([[ 1,  2,  3,  4,  5],\n",
       "       [ 6,  7,  8,  9, 10],\n",
       "       [11, 12, 13, 14, 15],\n",
       "       [16, 17, 18, 19, 20],\n",
       "       [21, 22, 23, 24, 25],\n",
       "       [26, 27, 28, 29, 30],\n",
       "       [ 1,  2,  3,  4,  5],\n",
       "       [ 6,  7,  8,  9, 10],\n",
       "       [11, 12, 13, 14, 15],\n",
       "       [16, 17, 18, 19, 20],\n",
       "       [21, 22, 23, 24, 25],\n",
       "       [26, 27, 28, 29, 30]])"
      ]
     },
     "execution_count": 9,
     "metadata": {},
     "output_type": "execute_result"
    }
   ],
   "source": [
    "np.append(X, X).reshape(12, 5)"
   ]
  },
  {
   "cell_type": "code",
   "execution_count": 10,
   "metadata": {},
   "outputs": [],
   "source": [
    "dataset.data = np.append(X, X).reshape(12, 5)"
   ]
  },
  {
   "cell_type": "code",
   "execution_count": 11,
   "metadata": {},
   "outputs": [
    {
     "data": {
      "text/plain": [
       "array([[-1.46385011, -1.46385011, -1.46385011, -1.46385011, -1.46385011],\n",
       "       [-0.87831007, -0.87831007, -0.87831007, -0.87831007, -0.87831007],\n",
       "       [-0.29277002, -0.29277002, -0.29277002, -0.29277002, -0.29277002],\n",
       "       [ 0.29277002,  0.29277002,  0.29277002,  0.29277002,  0.29277002],\n",
       "       [ 0.87831007,  0.87831007,  0.87831007,  0.87831007,  0.87831007],\n",
       "       [ 1.46385011,  1.46385011,  1.46385011,  1.46385011,  1.46385011],\n",
       "       [-1.46385011, -1.46385011, -1.46385011, -1.46385011, -1.46385011],\n",
       "       [-0.87831007, -0.87831007, -0.87831007, -0.87831007, -0.87831007],\n",
       "       [-0.29277002, -0.29277002, -0.29277002, -0.29277002, -0.29277002],\n",
       "       [ 0.29277002,  0.29277002,  0.29277002,  0.29277002,  0.29277002],\n",
       "       [ 0.87831007,  0.87831007,  0.87831007,  0.87831007,  0.87831007],\n",
       "       [ 1.46385011,  1.46385011,  1.46385011,  1.46385011,  1.46385011]])"
      ]
     },
     "execution_count": 11,
     "metadata": {},
     "output_type": "execute_result"
    }
   ],
   "source": [
    "dataset.standard_scaler.transform(np.append(X, X).reshape(12, 5))"
   ]
  },
  {
   "cell_type": "code",
   "execution_count": 12,
   "metadata": {},
   "outputs": [
    {
     "data": {
      "text/plain": [
       "array([[-0.83333333, -0.83333333, -0.83333333, -0.83333333, -0.83333333],\n",
       "       [-0.5       , -0.5       , -0.5       , -0.5       , -0.5       ],\n",
       "       [-0.16666667, -0.16666667, -0.16666667, -0.16666667, -0.16666667],\n",
       "       [ 0.16666667,  0.16666667,  0.16666667,  0.16666667,  0.16666667],\n",
       "       [ 0.5       ,  0.5       ,  0.5       ,  0.5       ,  0.5       ],\n",
       "       [ 0.83333333,  0.83333333,  0.83333333,  0.83333333,  0.83333333],\n",
       "       [-0.83333333, -0.83333333, -0.83333333, -0.83333333, -0.83333333],\n",
       "       [-0.5       , -0.5       , -0.5       , -0.5       , -0.5       ],\n",
       "       [-0.16666667, -0.16666667, -0.16666667, -0.16666667, -0.16666667],\n",
       "       [ 0.16666667,  0.16666667,  0.16666667,  0.16666667,  0.16666667],\n",
       "       [ 0.5       ,  0.5       ,  0.5       ,  0.5       ,  0.5       ],\n",
       "       [ 0.83333333,  0.83333333,  0.83333333,  0.83333333,  0.83333333]])"
      ]
     },
     "execution_count": 12,
     "metadata": {},
     "output_type": "execute_result"
    }
   ],
   "source": [
    "dataset.robust_scaler.transform(np.append(X, X).reshape(12, 5))"
   ]
  },
  {
   "cell_type": "code",
   "execution_count": null,
   "metadata": {},
   "outputs": [],
   "source": []
  }
 ],
 "metadata": {
  "kernelspec": {
   "display_name": "Python [conda env:spia2019]",
   "language": "python",
   "name": "conda-env-spia2019-py"
  },
  "language_info": {
   "codemirror_mode": {
    "name": "ipython",
    "version": 3
   },
   "file_extension": ".py",
   "mimetype": "text/x-python",
   "name": "python",
   "nbconvert_exporter": "python",
   "pygments_lexer": "ipython3",
   "version": "3.5.6"
  }
 },
 "nbformat": 4,
 "nbformat_minor": 2
}
