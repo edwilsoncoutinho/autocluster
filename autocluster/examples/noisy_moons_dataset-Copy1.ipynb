{
 "cells": [
  {
   "cell_type": "markdown",
   "metadata": {},
   "source": [
    "### Research Question 1: Does TSNE help us improve the \"quality\" of our clustering?\n",
    "\n",
    "Quality is defined as the clustering seeming continuous to human observers\n",
    "Due the difficulty of visualizing continuity in high dimensions, we may use the clustering's v measure score for categorical datasets which have sufficient \"seperation\", i.e. the classifications are not ordinal "
   ]
  },
  {
   "cell_type": "markdown",
   "metadata": {},
   "source": [
    "### Experiment 1:\n",
    "\n",
    "Research Question:\n",
    "Does TSNE help us to cluster well seperated data better?\n",
    "\n",
    "The hand gestures dataset contains data for hand gestures are categorical, and the hand gestures are sufficiently distinct. It is well suited for testing via v_measure\n",
    "\n",
    "- Run the algorithm, with TSNE, for 200 iterations, on the dataset\n",
    "- check the v measure score\n",
    "- Run the algorithm without TSNE, for 200 iterations, on the dataset\n",
    "- check the v measure score\n",
    "- Make note of the time taken, may be useful in the future when evaluating whether increased timecost is worthwhile\n",
    "\n",
    "if the TSNE improves v measure score, then TSNE contributes to improved clustering\n",
    "if it has no effect, it is unnecessary cost\n",
    "if it makes it worse, the heuristic we are giving the algorithm results in dimension reduction that warp the clusters\n",
    "\n",
    "due to many of these processes being random, we may need to run multiple times\n",
    "\n",
    "Repeat if needed for other dimension reduction algorithms"
   ]
  },
  {
   "cell_type": "code",
   "execution_count": 1,
   "metadata": {},
   "outputs": [],
   "source": [
    "import os\n",
    "\n",
    "# change working directory, run this cell once\n",
    "os.chdir(\"../\")\n",
    "\n",
    "# supress warnings\n",
    "import warnings\n",
    "warnings.filterwarnings(\"ignore\")"
   ]
  },
  {
   "cell_type": "code",
   "execution_count": 19,
   "metadata": {},
   "outputs": [
    {
     "name": "stdout",
     "output_type": "stream",
     "text": [
      "The autoreload extension is already loaded. To reload it, use:\n",
      "  %reload_ext autoreload\n"
     ]
    }
   ],
   "source": [
    "from autocluster import AutoCluster\n",
    "from evaluators import get_evaluator\n",
    "from sklearn import datasets\n",
    "from collections import Counter\n",
    "from utils.metafeatures import MetafeatureMapper\n",
    "from sklearn.metrics.cluster import v_measure_score\n",
    "import pandas as pd\n",
    "\n",
    "%load_ext autoreload\n",
    "%autoreload 2"
   ]
  },
  {
   "cell_type": "code",
   "execution_count": 20,
   "metadata": {},
   "outputs": [
    {
     "data": {
      "text/html": [
       "<div>\n",
       "<style scoped>\n",
       "    .dataframe tbody tr th:only-of-type {\n",
       "        vertical-align: middle;\n",
       "    }\n",
       "\n",
       "    .dataframe tbody tr th {\n",
       "        vertical-align: top;\n",
       "    }\n",
       "\n",
       "    .dataframe thead th {\n",
       "        text-align: right;\n",
       "    }\n",
       "</style>\n",
       "<table border=\"1\" class=\"dataframe\">\n",
       "  <thead>\n",
       "    <tr style=\"text-align: right;\">\n",
       "      <th></th>\n",
       "      <th>0</th>\n",
       "      <th>1</th>\n",
       "      <th>2</th>\n",
       "      <th>3</th>\n",
       "      <th>4</th>\n",
       "      <th>5</th>\n",
       "      <th>6</th>\n",
       "      <th>7</th>\n",
       "      <th>8</th>\n",
       "      <th>9</th>\n",
       "      <th>...</th>\n",
       "      <th>55</th>\n",
       "      <th>56</th>\n",
       "      <th>57</th>\n",
       "      <th>58</th>\n",
       "      <th>59</th>\n",
       "      <th>60</th>\n",
       "      <th>61</th>\n",
       "      <th>62</th>\n",
       "      <th>63</th>\n",
       "      <th>class</th>\n",
       "    </tr>\n",
       "  </thead>\n",
       "  <tbody>\n",
       "    <tr>\n",
       "      <th>0</th>\n",
       "      <td>26.0</td>\n",
       "      <td>4.0</td>\n",
       "      <td>5.0</td>\n",
       "      <td>8.0</td>\n",
       "      <td>-1.0</td>\n",
       "      <td>-13.0</td>\n",
       "      <td>-109.0</td>\n",
       "      <td>-66.0</td>\n",
       "      <td>-9.0</td>\n",
       "      <td>2.0</td>\n",
       "      <td>...</td>\n",
       "      <td>-28.0</td>\n",
       "      <td>61.0</td>\n",
       "      <td>4.0</td>\n",
       "      <td>8.0</td>\n",
       "      <td>5.0</td>\n",
       "      <td>4.0</td>\n",
       "      <td>-7.0</td>\n",
       "      <td>-59.0</td>\n",
       "      <td>16.0</td>\n",
       "      <td>0</td>\n",
       "    </tr>\n",
       "    <tr>\n",
       "      <th>1</th>\n",
       "      <td>-47.0</td>\n",
       "      <td>-6.0</td>\n",
       "      <td>-5.0</td>\n",
       "      <td>-7.0</td>\n",
       "      <td>13.0</td>\n",
       "      <td>-1.0</td>\n",
       "      <td>35.0</td>\n",
       "      <td>-10.0</td>\n",
       "      <td>10.0</td>\n",
       "      <td>-4.0</td>\n",
       "      <td>...</td>\n",
       "      <td>-25.0</td>\n",
       "      <td>47.0</td>\n",
       "      <td>6.0</td>\n",
       "      <td>6.0</td>\n",
       "      <td>5.0</td>\n",
       "      <td>13.0</td>\n",
       "      <td>21.0</td>\n",
       "      <td>111.0</td>\n",
       "      <td>15.0</td>\n",
       "      <td>0</td>\n",
       "    </tr>\n",
       "    <tr>\n",
       "      <th>2</th>\n",
       "      <td>-19.0</td>\n",
       "      <td>-8.0</td>\n",
       "      <td>-8.0</td>\n",
       "      <td>-8.0</td>\n",
       "      <td>-21.0</td>\n",
       "      <td>-6.0</td>\n",
       "      <td>-79.0</td>\n",
       "      <td>12.0</td>\n",
       "      <td>0.0</td>\n",
       "      <td>5.0</td>\n",
       "      <td>...</td>\n",
       "      <td>-83.0</td>\n",
       "      <td>7.0</td>\n",
       "      <td>7.0</td>\n",
       "      <td>1.0</td>\n",
       "      <td>-8.0</td>\n",
       "      <td>7.0</td>\n",
       "      <td>21.0</td>\n",
       "      <td>114.0</td>\n",
       "      <td>48.0</td>\n",
       "      <td>0</td>\n",
       "    </tr>\n",
       "    <tr>\n",
       "      <th>3</th>\n",
       "      <td>2.0</td>\n",
       "      <td>3.0</td>\n",
       "      <td>0.0</td>\n",
       "      <td>2.0</td>\n",
       "      <td>0.0</td>\n",
       "      <td>22.0</td>\n",
       "      <td>106.0</td>\n",
       "      <td>-14.0</td>\n",
       "      <td>-16.0</td>\n",
       "      <td>-2.0</td>\n",
       "      <td>...</td>\n",
       "      <td>-38.0</td>\n",
       "      <td>-11.0</td>\n",
       "      <td>4.0</td>\n",
       "      <td>7.0</td>\n",
       "      <td>11.0</td>\n",
       "      <td>33.0</td>\n",
       "      <td>39.0</td>\n",
       "      <td>119.0</td>\n",
       "      <td>43.0</td>\n",
       "      <td>0</td>\n",
       "    </tr>\n",
       "    <tr>\n",
       "      <th>4</th>\n",
       "      <td>6.0</td>\n",
       "      <td>0.0</td>\n",
       "      <td>0.0</td>\n",
       "      <td>-2.0</td>\n",
       "      <td>-14.0</td>\n",
       "      <td>10.0</td>\n",
       "      <td>-51.0</td>\n",
       "      <td>5.0</td>\n",
       "      <td>7.0</td>\n",
       "      <td>0.0</td>\n",
       "      <td>...</td>\n",
       "      <td>38.0</td>\n",
       "      <td>-35.0</td>\n",
       "      <td>-8.0</td>\n",
       "      <td>2.0</td>\n",
       "      <td>6.0</td>\n",
       "      <td>-13.0</td>\n",
       "      <td>-24.0</td>\n",
       "      <td>-112.0</td>\n",
       "      <td>-69.0</td>\n",
       "      <td>0</td>\n",
       "    </tr>\n",
       "  </tbody>\n",
       "</table>\n",
       "<p>5 rows × 65 columns</p>\n",
       "</div>"
      ],
      "text/plain": [
       "      0    1    2    3     4     5      6     7     8    9  ...    55    56  \\\n",
       "0  26.0  4.0  5.0  8.0  -1.0 -13.0 -109.0 -66.0  -9.0  2.0  ... -28.0  61.0   \n",
       "1 -47.0 -6.0 -5.0 -7.0  13.0  -1.0   35.0 -10.0  10.0 -4.0  ... -25.0  47.0   \n",
       "2 -19.0 -8.0 -8.0 -8.0 -21.0  -6.0  -79.0  12.0   0.0  5.0  ... -83.0   7.0   \n",
       "3   2.0  3.0  0.0  2.0   0.0  22.0  106.0 -14.0 -16.0 -2.0  ... -38.0 -11.0   \n",
       "4   6.0  0.0  0.0 -2.0 -14.0  10.0  -51.0   5.0   7.0  0.0  ...  38.0 -35.0   \n",
       "\n",
       "    57   58    59    60    61     62    63  class  \n",
       "0  4.0  8.0   5.0   4.0  -7.0  -59.0  16.0      0  \n",
       "1  6.0  6.0   5.0  13.0  21.0  111.0  15.0      0  \n",
       "2  7.0  1.0  -8.0   7.0  21.0  114.0  48.0      0  \n",
       "3  4.0  7.0  11.0  33.0  39.0  119.0  43.0      0  \n",
       "4 -8.0  2.0   6.0 -13.0 -24.0 -112.0 -69.0      0  \n",
       "\n",
       "[5 rows x 65 columns]"
      ]
     },
     "execution_count": 20,
     "metadata": {},
     "output_type": "execute_result"
    }
   ],
   "source": [
    "df = pd.read_csv(\"../data/hand_gestures_classification_merged.csv\")\n",
    "df.head(5)"
   ]
  },
  {
   "cell_type": "code",
   "execution_count": 21,
   "metadata": {},
   "outputs": [
    {
     "data": {
      "text/plain": [
       "(1168, 65)"
      ]
     },
     "execution_count": 21,
     "metadata": {},
     "output_type": "execute_result"
    }
   ],
   "source": [
    "df = df.sample(frac=0.1, random_state=27)\n",
    "df.shape"
   ]
  },
  {
   "cell_type": "code",
   "execution_count": 22,
   "metadata": {},
   "outputs": [
    {
     "data": {
      "text/html": [
       "<div>\n",
       "<style scoped>\n",
       "    .dataframe tbody tr th:only-of-type {\n",
       "        vertical-align: middle;\n",
       "    }\n",
       "\n",
       "    .dataframe tbody tr th {\n",
       "        vertical-align: top;\n",
       "    }\n",
       "\n",
       "    .dataframe thead th {\n",
       "        text-align: right;\n",
       "    }\n",
       "</style>\n",
       "<table border=\"1\" class=\"dataframe\">\n",
       "  <thead>\n",
       "    <tr style=\"text-align: right;\">\n",
       "      <th></th>\n",
       "      <th>0</th>\n",
       "      <th>1</th>\n",
       "      <th>2</th>\n",
       "      <th>3</th>\n",
       "      <th>4</th>\n",
       "      <th>5</th>\n",
       "      <th>6</th>\n",
       "      <th>7</th>\n",
       "      <th>8</th>\n",
       "      <th>9</th>\n",
       "      <th>...</th>\n",
       "      <th>54</th>\n",
       "      <th>55</th>\n",
       "      <th>56</th>\n",
       "      <th>57</th>\n",
       "      <th>58</th>\n",
       "      <th>59</th>\n",
       "      <th>60</th>\n",
       "      <th>61</th>\n",
       "      <th>62</th>\n",
       "      <th>63</th>\n",
       "    </tr>\n",
       "  </thead>\n",
       "  <tbody>\n",
       "    <tr>\n",
       "      <th>2678</th>\n",
       "      <td>-24.0</td>\n",
       "      <td>0.0</td>\n",
       "      <td>1.0</td>\n",
       "      <td>4.0</td>\n",
       "      <td>1.0</td>\n",
       "      <td>-7.0</td>\n",
       "      <td>-7.0</td>\n",
       "      <td>-3.0</td>\n",
       "      <td>-5.0</td>\n",
       "      <td>3.0</td>\n",
       "      <td>...</td>\n",
       "      <td>13.0</td>\n",
       "      <td>21.0</td>\n",
       "      <td>-1.0</td>\n",
       "      <td>2.0</td>\n",
       "      <td>1.0</td>\n",
       "      <td>5.0</td>\n",
       "      <td>-17.0</td>\n",
       "      <td>-1.0</td>\n",
       "      <td>-37.0</td>\n",
       "      <td>-39.0</td>\n",
       "    </tr>\n",
       "    <tr>\n",
       "      <th>10005</th>\n",
       "      <td>-10.0</td>\n",
       "      <td>-8.0</td>\n",
       "      <td>-12.0</td>\n",
       "      <td>-18.0</td>\n",
       "      <td>-15.0</td>\n",
       "      <td>2.0</td>\n",
       "      <td>-4.0</td>\n",
       "      <td>-15.0</td>\n",
       "      <td>1.0</td>\n",
       "      <td>1.0</td>\n",
       "      <td>...</td>\n",
       "      <td>-20.0</td>\n",
       "      <td>4.0</td>\n",
       "      <td>-16.0</td>\n",
       "      <td>-5.0</td>\n",
       "      <td>2.0</td>\n",
       "      <td>5.0</td>\n",
       "      <td>-20.0</td>\n",
       "      <td>24.0</td>\n",
       "      <td>2.0</td>\n",
       "      <td>-57.0</td>\n",
       "    </tr>\n",
       "    <tr>\n",
       "      <th>7835</th>\n",
       "      <td>-14.0</td>\n",
       "      <td>14.0</td>\n",
       "      <td>1.0</td>\n",
       "      <td>1.0</td>\n",
       "      <td>-13.0</td>\n",
       "      <td>0.0</td>\n",
       "      <td>4.0</td>\n",
       "      <td>4.0</td>\n",
       "      <td>-12.0</td>\n",
       "      <td>-19.0</td>\n",
       "      <td>...</td>\n",
       "      <td>-5.0</td>\n",
       "      <td>-21.0</td>\n",
       "      <td>2.0</td>\n",
       "      <td>-12.0</td>\n",
       "      <td>-9.0</td>\n",
       "      <td>1.0</td>\n",
       "      <td>26.0</td>\n",
       "      <td>22.0</td>\n",
       "      <td>-9.0</td>\n",
       "      <td>6.0</td>\n",
       "    </tr>\n",
       "    <tr>\n",
       "      <th>3319</th>\n",
       "      <td>7.0</td>\n",
       "      <td>2.0</td>\n",
       "      <td>3.0</td>\n",
       "      <td>2.0</td>\n",
       "      <td>-26.0</td>\n",
       "      <td>-18.0</td>\n",
       "      <td>1.0</td>\n",
       "      <td>3.0</td>\n",
       "      <td>4.0</td>\n",
       "      <td>-2.0</td>\n",
       "      <td>...</td>\n",
       "      <td>0.0</td>\n",
       "      <td>-2.0</td>\n",
       "      <td>-21.0</td>\n",
       "      <td>-1.0</td>\n",
       "      <td>0.0</td>\n",
       "      <td>-2.0</td>\n",
       "      <td>30.0</td>\n",
       "      <td>-1.0</td>\n",
       "      <td>-1.0</td>\n",
       "      <td>-14.0</td>\n",
       "    </tr>\n",
       "    <tr>\n",
       "      <th>11380</th>\n",
       "      <td>-5.0</td>\n",
       "      <td>-1.0</td>\n",
       "      <td>-4.0</td>\n",
       "      <td>-2.0</td>\n",
       "      <td>5.0</td>\n",
       "      <td>12.0</td>\n",
       "      <td>-2.0</td>\n",
       "      <td>-23.0</td>\n",
       "      <td>-1.0</td>\n",
       "      <td>-3.0</td>\n",
       "      <td>...</td>\n",
       "      <td>-4.0</td>\n",
       "      <td>3.0</td>\n",
       "      <td>-9.0</td>\n",
       "      <td>-4.0</td>\n",
       "      <td>-6.0</td>\n",
       "      <td>-6.0</td>\n",
       "      <td>26.0</td>\n",
       "      <td>-30.0</td>\n",
       "      <td>3.0</td>\n",
       "      <td>-10.0</td>\n",
       "    </tr>\n",
       "  </tbody>\n",
       "</table>\n",
       "<p>5 rows × 64 columns</p>\n",
       "</div>"
      ],
      "text/plain": [
       "          0     1     2     3     4     5    6     7     8     9  ...    54  \\\n",
       "2678  -24.0   0.0   1.0   4.0   1.0  -7.0 -7.0  -3.0  -5.0   3.0  ...  13.0   \n",
       "10005 -10.0  -8.0 -12.0 -18.0 -15.0   2.0 -4.0 -15.0   1.0   1.0  ... -20.0   \n",
       "7835  -14.0  14.0   1.0   1.0 -13.0   0.0  4.0   4.0 -12.0 -19.0  ...  -5.0   \n",
       "3319    7.0   2.0   3.0   2.0 -26.0 -18.0  1.0   3.0   4.0  -2.0  ...   0.0   \n",
       "11380  -5.0  -1.0  -4.0  -2.0   5.0  12.0 -2.0 -23.0  -1.0  -3.0  ...  -4.0   \n",
       "\n",
       "         55    56    57   58   59    60    61    62    63  \n",
       "2678   21.0  -1.0   2.0  1.0  5.0 -17.0  -1.0 -37.0 -39.0  \n",
       "10005   4.0 -16.0  -5.0  2.0  5.0 -20.0  24.0   2.0 -57.0  \n",
       "7835  -21.0   2.0 -12.0 -9.0  1.0  26.0  22.0  -9.0   6.0  \n",
       "3319   -2.0 -21.0  -1.0  0.0 -2.0  30.0  -1.0  -1.0 -14.0  \n",
       "11380   3.0  -9.0  -4.0 -6.0 -6.0  26.0 -30.0   3.0 -10.0  \n",
       "\n",
       "[5 rows x 64 columns]"
      ]
     },
     "execution_count": 22,
     "metadata": {},
     "output_type": "execute_result"
    }
   ],
   "source": [
    "X = df.loc[:, '0':'63']\n",
    "X.head(5)"
   ]
  },
  {
   "cell_type": "code",
   "execution_count": 23,
   "metadata": {},
   "outputs": [
    {
     "data": {
      "text/plain": [
       "(1168, 64)"
      ]
     },
     "execution_count": 23,
     "metadata": {},
     "output_type": "execute_result"
    }
   ],
   "source": [
    "X.shape"
   ]
  },
  {
   "cell_type": "code",
   "execution_count": 24,
   "metadata": {},
   "outputs": [
    {
     "data": {
      "text/plain": [
       "2678     0\n",
       "10005    3\n",
       "7835     2\n",
       "3319     1\n",
       "11380    3\n",
       "Name: class, dtype: int64"
      ]
     },
     "execution_count": 24,
     "metadata": {},
     "output_type": "execute_result"
    }
   ],
   "source": [
    "y = df.loc[:,'class']\n",
    "y.head(5)"
   ]
  },
  {
   "cell_type": "code",
   "execution_count": 25,
   "metadata": {},
   "outputs": [
    {
     "data": {
      "text/plain": [
       "(1168,)"
      ]
     },
     "execution_count": 25,
     "metadata": {},
     "output_type": "execute_result"
    }
   ],
   "source": [
    "y.shape"
   ]
  },
  {
   "cell_type": "code",
   "execution_count": 30,
   "metadata": {},
   "outputs": [
    {
     "name": "stdout",
     "output_type": "stream",
     "text": [
      "1051/1168 datapoints remaining after outlier removal\n",
      "Truncated n_evaluations: 100\n",
      "Fitting configuration: \n",
      "{'dim_reduction_choice': 'NullModel', 'n_clusters___KMeans': 5, 'random_state___NullModel': 1, 'clustering_choice': 'KMeans'}\n",
      "Score obtained by this configuration: 0.49465360841592126\n",
      "Fitting configuration: \n",
      "{'random_state___NullModel': 1, 'n_clusters___Birch': 46, 'branching_factor___Birch': 668, 'clustering_choice': 'Birch', 'dim_reduction_choice': 'NullModel'}\n",
      "Score obtained by this configuration: inf\n"
     ]
    },
    {
     "name": "stderr",
     "output_type": "stream",
     "text": [
      "WARNING:smac.tae.execute_func.ExecuteTAFuncDict:Target Algorithm returned NaN or inf as quality. Algorithm run is treated as CRASHED, cost is set to 2147483647.0 for quality scenarios. (Change value through \"cost_for_crash\"-option.)\n"
     ]
    },
    {
     "name": "stdout",
     "output_type": "stream",
     "text": [
      "Fitting configuration: \n",
      "{'dim_reduction_choice': 'NullModel', 'batch_size___MiniBatchKMeans': 822, 'random_state___NullModel': 1, 'clustering_choice': 'MiniBatchKMeans', 'n_clusters___MiniBatchKMeans': 14}\n",
      "Score obtained by this configuration: inf\n"
     ]
    },
    {
     "name": "stderr",
     "output_type": "stream",
     "text": [
      "WARNING:smac.tae.execute_func.ExecuteTAFuncDict:Target Algorithm returned NaN or inf as quality. Algorithm run is treated as CRASHED, cost is set to 2147483647.0 for quality scenarios. (Change value through \"cost_for_crash\"-option.)\n"
     ]
    },
    {
     "name": "stdout",
     "output_type": "stream",
     "text": [
      "Fitting configuration: \n",
      "{'linkage___AgglomerativeClustering': 'average', 'random_state___NullModel': 1, 'clustering_choice': 'AgglomerativeClustering', 'dim_reduction_choice': 'NullModel', 'affinity___AgglomerativeClustering': 'cosine', 'n_clusters___AgglomerativeClustering': 54}\n",
      "Score obtained by this configuration: inf\n"
     ]
    },
    {
     "name": "stderr",
     "output_type": "stream",
     "text": [
      "WARNING:smac.tae.execute_func.ExecuteTAFuncDict:Target Algorithm returned NaN or inf as quality. Algorithm run is treated as CRASHED, cost is set to 2147483647.0 for quality scenarios. (Change value through \"cost_for_crash\"-option.)\n"
     ]
    },
    {
     "name": "stdout",
     "output_type": "stream",
     "text": [
      "Fitting configuration: \n",
      "{'n_components___GaussianMixture': 5, 'covariance_type___GaussianMixture': 'full', 'clustering_choice': 'GaussianMixture', 'warm_start___GaussianMixture': True, 'init_params___GaussianMixture': 'random', 'dim_reduction_choice': 'NullModel'}\n",
      "Score obtained by this configuration: inf\n"
     ]
    },
    {
     "name": "stderr",
     "output_type": "stream",
     "text": [
      "WARNING:smac.tae.execute_func.ExecuteTAFuncDict:Target Algorithm returned NaN or inf as quality. Algorithm run is treated as CRASHED, cost is set to 2147483647.0 for quality scenarios. (Change value through \"cost_for_crash\"-option.)\n"
     ]
    },
    {
     "name": "stdout",
     "output_type": "stream",
     "text": [
      "Fitting configuration: \n",
      "{'n_components___GaussianMixture': 68, 'covariance_type___GaussianMixture': 'tied', 'random_state___NullModel': 2, 'clustering_choice': 'GaussianMixture', 'init_params___GaussianMixture': 'kmeans', 'dim_reduction_choice': 'NullModel'}\n",
      "Score obtained by this configuration: inf\n"
     ]
    },
    {
     "name": "stderr",
     "output_type": "stream",
     "text": [
      "WARNING:smac.tae.execute_func.ExecuteTAFuncDict:Target Algorithm returned NaN or inf as quality. Algorithm run is treated as CRASHED, cost is set to 2147483647.0 for quality scenarios. (Change value through \"cost_for_crash\"-option.)\n"
     ]
    },
    {
     "name": "stdout",
     "output_type": "stream",
     "text": [
      "Fitting configuration: \n",
      "{'batch_size___MiniBatchKMeans': 745, 'dim_reduction_choice': 'NullModel', 'clustering_choice': 'MiniBatchKMeans', 'n_clusters___MiniBatchKMeans': 54}\n",
      "Score obtained by this configuration: inf\n"
     ]
    },
    {
     "name": "stderr",
     "output_type": "stream",
     "text": [
      "WARNING:smac.tae.execute_func.ExecuteTAFuncDict:Target Algorithm returned NaN or inf as quality. Algorithm run is treated as CRASHED, cost is set to 2147483647.0 for quality scenarios. (Change value through \"cost_for_crash\"-option.)\n"
     ]
    },
    {
     "name": "stdout",
     "output_type": "stream",
     "text": [
      "Fitting configuration: \n",
      "{'eigen_solver___SpectralClustering': 'arpack', 'random_state___NullModel': 1, 'clustering_choice': 'SpectralClustering', 'affinity___SpectralClustering': 'nearest_neighbors', 'dim_reduction_choice': 'NullModel', 'assign_labels___SpectralClustering': 'kmeans', 'n_clusters___SpectralClustering': 28}\n",
      "Score obtained by this configuration: 0.5112136606774822\n",
      "Fitting configuration: \n",
      "{'init_params___GaussianMixture': 'random', 'n_components___GaussianMixture': 9, 'covariance_type___GaussianMixture': 'full', 'dim_reduction_choice': 'NullModel', 'clustering_choice': 'GaussianMixture'}\n",
      "Score obtained by this configuration: 0.5293330527884511\n",
      "Fitting configuration: \n",
      "{'eigen_solver___SpectralClustering': 'arpack', 'n_clusters___SpectralClustering': 43, 'clustering_choice': 'SpectralClustering', 'affinity___SpectralClustering': 'nearest_neighbors', 'dim_reduction_choice': 'NullModel', 'assign_labels___SpectralClustering': 'kmeans'}\n",
      "Score obtained by this configuration: inf\n"
     ]
    },
    {
     "name": "stderr",
     "output_type": "stream",
     "text": [
      "WARNING:smac.tae.execute_func.ExecuteTAFuncDict:Target Algorithm returned NaN or inf as quality. Algorithm run is treated as CRASHED, cost is set to 2147483647.0 for quality scenarios. (Change value through \"cost_for_crash\"-option.)\n"
     ]
    },
    {
     "name": "stdout",
     "output_type": "stream",
     "text": [
      "Fitting configuration: \n",
      "{'dim_reduction_choice': 'NullModel', 'n_clusters___KMeans': 34, 'random_state___NullModel': 2, 'clustering_choice': 'KMeans'}\n",
      "Score obtained by this configuration: inf\n"
     ]
    },
    {
     "name": "stderr",
     "output_type": "stream",
     "text": [
      "WARNING:smac.tae.execute_func.ExecuteTAFuncDict:Target Algorithm returned NaN or inf as quality. Algorithm run is treated as CRASHED, cost is set to 2147483647.0 for quality scenarios. (Change value through \"cost_for_crash\"-option.)\n"
     ]
    },
    {
     "name": "stdout",
     "output_type": "stream",
     "text": [
      "Fitting configuration: \n",
      "{'eigen_solver___SpectralClustering': 'arpack', 'n_clusters___SpectralClustering': 78, 'clustering_choice': 'SpectralClustering', 'affinity___SpectralClustering': 'laplacian', 'dim_reduction_choice': 'NullModel', 'assign_labels___SpectralClustering': 'kmeans'}\n",
      "Score obtained by this configuration: inf\n"
     ]
    },
    {
     "name": "stderr",
     "output_type": "stream",
     "text": [
      "WARNING:smac.tae.execute_func.ExecuteTAFuncDict:Target Algorithm returned NaN or inf as quality. Algorithm run is treated as CRASHED, cost is set to 2147483647.0 for quality scenarios. (Change value through \"cost_for_crash\"-option.)\n"
     ]
    },
    {
     "name": "stdout",
     "output_type": "stream",
     "text": [
      "Fitting configuration: \n",
      "{'eigen_solver___SpectralClustering': 'arpack', 'n_clusters___SpectralClustering': 60, 'clustering_choice': 'SpectralClustering', 'affinity___SpectralClustering': 'rbf', 'dim_reduction_choice': 'NullModel', 'assign_labels___SpectralClustering': 'kmeans'}\n",
      "Score obtained by this configuration: inf\n"
     ]
    },
    {
     "name": "stderr",
     "output_type": "stream",
     "text": [
      "WARNING:smac.tae.execute_func.ExecuteTAFuncDict:Target Algorithm returned NaN or inf as quality. Algorithm run is treated as CRASHED, cost is set to 2147483647.0 for quality scenarios. (Change value through \"cost_for_crash\"-option.)\n"
     ]
    },
    {
     "name": "stdout",
     "output_type": "stream",
     "text": [
      "Fitting configuration: \n",
      "{'eigen_solver___SpectralClustering': 'arpack', 'random_state___NullModel': 2, 'clustering_choice': 'SpectralClustering', 'affinity___SpectralClustering': 'nearest_neighbors', 'dim_reduction_choice': 'NullModel', 'assign_labels___SpectralClustering': 'discretize', 'n_clusters___SpectralClustering': 13}\n",
      "Score obtained by this configuration: 0.5085064769296911\n",
      "Fitting configuration: \n",
      "{'eigen_solver___SpectralClustering': 'arpack', 'random_state___NullModel': 2, 'clustering_choice': 'SpectralClustering', 'affinity___SpectralClustering': 'laplacian', 'dim_reduction_choice': 'NullModel', 'assign_labels___SpectralClustering': 'discretize', 'n_clusters___SpectralClustering': 2}\n",
      "Score obtained by this configuration: inf\n"
     ]
    },
    {
     "name": "stderr",
     "output_type": "stream",
     "text": [
      "WARNING:smac.tae.execute_func.ExecuteTAFuncDict:Target Algorithm returned NaN or inf as quality. Algorithm run is treated as CRASHED, cost is set to 2147483647.0 for quality scenarios. (Change value through \"cost_for_crash\"-option.)\n"
     ]
    },
    {
     "name": "stdout",
     "output_type": "stream",
     "text": [
      "Fitting configuration: \n",
      "{'dim_reduction_choice': 'NullModel', 'batch_size___MiniBatchKMeans': 386, 'random_state___NullModel': 1, 'clustering_choice': 'MiniBatchKMeans', 'n_clusters___MiniBatchKMeans': 78}\n",
      "Score obtained by this configuration: inf\n"
     ]
    },
    {
     "name": "stderr",
     "output_type": "stream",
     "text": [
      "WARNING:smac.tae.execute_func.ExecuteTAFuncDict:Target Algorithm returned NaN or inf as quality. Algorithm run is treated as CRASHED, cost is set to 2147483647.0 for quality scenarios. (Change value through \"cost_for_crash\"-option.)\n"
     ]
    },
    {
     "name": "stdout",
     "output_type": "stream",
     "text": [
      "Fitting configuration: \n",
      "{'eigen_solver___SpectralClustering': 'arpack', 'random_state___NullModel': 1, 'clustering_choice': 'SpectralClustering', 'affinity___SpectralClustering': 'nearest_neighbors', 'dim_reduction_choice': 'NullModel', 'assign_labels___SpectralClustering': 'discretize', 'n_clusters___SpectralClustering': 20}\n",
      "Score obtained by this configuration: inf\n"
     ]
    },
    {
     "name": "stderr",
     "output_type": "stream",
     "text": [
      "WARNING:smac.tae.execute_func.ExecuteTAFuncDict:Target Algorithm returned NaN or inf as quality. Algorithm run is treated as CRASHED, cost is set to 2147483647.0 for quality scenarios. (Change value through \"cost_for_crash\"-option.)\n"
     ]
    },
    {
     "name": "stdout",
     "output_type": "stream",
     "text": [
      "Fitting configuration: \n",
      "{'n_components___GaussianMixture': 60, 'covariance_type___GaussianMixture': 'spherical', 'clustering_choice': 'GaussianMixture', 'warm_start___GaussianMixture': True, 'init_params___GaussianMixture': 'random', 'dim_reduction_choice': 'NullModel'}\n",
      "Score obtained by this configuration: inf\n"
     ]
    },
    {
     "name": "stderr",
     "output_type": "stream",
     "text": [
      "WARNING:smac.tae.execute_func.ExecuteTAFuncDict:Target Algorithm returned NaN or inf as quality. Algorithm run is treated as CRASHED, cost is set to 2147483647.0 for quality scenarios. (Change value through \"cost_for_crash\"-option.)\n"
     ]
    },
    {
     "name": "stdout",
     "output_type": "stream",
     "text": [
      "Fitting configuration: \n",
      "{'eigen_solver___SpectralClustering': 'arpack', 'random_state___NullModel': 2, 'clustering_choice': 'SpectralClustering', 'affinity___SpectralClustering': 'sigmoid', 'dim_reduction_choice': 'NullModel', 'assign_labels___SpectralClustering': 'discretize', 'n_clusters___SpectralClustering': 65}\n"
     ]
    },
    {
     "name": "stderr",
     "output_type": "stream",
     "text": [
      "Process pynisher function call:\n",
      "Traceback (most recent call last):\n",
      "  File \"/home/wywongbd/anaconda3/envs/automl/lib/python3.5/multiprocessing/process.py\", line 252, in _bootstrap\n",
      "    self.run()\n",
      "  File \"/home/wywongbd/anaconda3/envs/automl/lib/python3.5/multiprocessing/process.py\", line 93, in run\n",
      "    self._target(*self._args, **self._kwargs)\n",
      "  File \"/home/wywongbd/anaconda3/envs/automl/lib/python3.5/site-packages/pynisher/limit_function_call.py\", line 93, in subprocess_func\n",
      "    return_value = ((func(*args, **kwargs), 0))\n",
      "  File \"/home/wywongbd/autocluster/autocluster/autocluster.py\", line 257, in evaluate_model\n",
      "    scaler, dim_reduction_model, clustering_model = fit_models(cfg, train_data)\n",
      "  File \"/home/wywongbd/autocluster/autocluster/autocluster.py\", line 225, in fit_models\n",
      "    clustering_model.fit(compressed_data)\n",
      "  File \"/home/wywongbd/anaconda3/envs/automl/lib/python3.5/site-packages/sklearn/cluster/spectral.py\", line 493, in fit\n",
      "    assign_labels=self.assign_labels)\n",
      "  File \"/home/wywongbd/anaconda3/envs/automl/lib/python3.5/site-packages/sklearn/cluster/spectral.py\", line 264, in spectral_clustering\n",
      "    eigen_tol=eigen_tol, drop_first=False)\n",
      "  File \"/home/wywongbd/anaconda3/envs/automl/lib/python3.5/site-packages/sklearn/manifold/spectral_embedding_.py\", line 271, in spectral_embedding\n",
      "    tol=eigen_tol, v0=v0)\n",
      "  File \"/home/wywongbd/anaconda3/envs/automl/lib/python3.5/site-packages/scipy/sparse/linalg/eigen/arpack/arpack.py\", line 1622, in eigsh\n",
      "    symmetric=True, tol=tol)\n",
      "  File \"/home/wywongbd/anaconda3/envs/automl/lib/python3.5/site-packages/scipy/sparse/linalg/eigen/arpack/arpack.py\", line 1053, in get_OPinv_matvec\n",
      "    return LuInv(A).matvec\n",
      "  File \"/home/wywongbd/anaconda3/envs/automl/lib/python3.5/site-packages/scipy/sparse/linalg/eigen/arpack/arpack.py\", line 931, in __init__\n",
      "    self.M_lu = lu_factor(M)\n",
      "  File \"/home/wywongbd/anaconda3/envs/automl/lib/python3.5/site-packages/scipy/linalg/decomp_lu.py\", line 73, in lu_factor\n",
      "    a1 = asarray_chkfinite(a)\n",
      "  File \"/home/wywongbd/anaconda3/envs/automl/lib/python3.5/site-packages/numpy/lib/function_base.py\", line 498, in asarray_chkfinite\n",
      "    \"array must not contain infs or NaNs\")\n",
      "ValueError: array must not contain infs or NaNs\n"
     ]
    },
    {
     "name": "stdout",
     "output_type": "stream",
     "text": [
      "Fitting configuration: \n",
      "{'linkage___AgglomerativeClustering': 'complete', 'random_state___NullModel': 2, 'clustering_choice': 'AgglomerativeClustering', 'dim_reduction_choice': 'NullModel', 'affinity___AgglomerativeClustering': 'l2', 'n_clusters___AgglomerativeClustering': 13}\n",
      "Score obtained by this configuration: inf\n"
     ]
    },
    {
     "name": "stderr",
     "output_type": "stream",
     "text": [
      "WARNING:smac.tae.execute_func.ExecuteTAFuncDict:Target Algorithm returned NaN or inf as quality. Algorithm run is treated as CRASHED, cost is set to 2147483647.0 for quality scenarios. (Change value through \"cost_for_crash\"-option.)\n"
     ]
    },
    {
     "name": "stdout",
     "output_type": "stream",
     "text": [
      "Fitting configuration: \n",
      "{'dim_reduction_choice': 'NullModel', 'n_clusters___KMeans': 40, 'random_state___NullModel': 1, 'clustering_choice': 'KMeans'}\n",
      "Score obtained by this configuration: inf\n"
     ]
    },
    {
     "name": "stderr",
     "output_type": "stream",
     "text": [
      "WARNING:smac.tae.execute_func.ExecuteTAFuncDict:Target Algorithm returned NaN or inf as quality. Algorithm run is treated as CRASHED, cost is set to 2147483647.0 for quality scenarios. (Change value through \"cost_for_crash\"-option.)\n"
     ]
    },
    {
     "name": "stdout",
     "output_type": "stream",
     "text": [
      "Fitting configuration: \n",
      "{'eigen_solver___SpectralClustering': 'arpack', 'n_clusters___SpectralClustering': 2, 'clustering_choice': 'SpectralClustering', 'affinity___SpectralClustering': 'nearest_neighbors', 'dim_reduction_choice': 'NullModel', 'assign_labels___SpectralClustering': 'discretize'}\n",
      "Score obtained by this configuration: 0.4889702121306398\n",
      "Fitting configuration: \n",
      "{'dim_reduction_choice': 'NullModel', 'n_clusters___KMeans': 68, 'random_state___NullModel': 2, 'clustering_choice': 'KMeans'}\n",
      "Score obtained by this configuration: inf\n"
     ]
    },
    {
     "name": "stderr",
     "output_type": "stream",
     "text": [
      "WARNING:smac.tae.execute_func.ExecuteTAFuncDict:Target Algorithm returned NaN or inf as quality. Algorithm run is treated as CRASHED, cost is set to 2147483647.0 for quality scenarios. (Change value through \"cost_for_crash\"-option.)\n"
     ]
    },
    {
     "name": "stdout",
     "output_type": "stream",
     "text": [
      "Fitting configuration: \n",
      "{'linkage___AgglomerativeClustering': 'average', 'random_state___NullModel': 2, 'clustering_choice': 'AgglomerativeClustering', 'dim_reduction_choice': 'NullModel', 'affinity___AgglomerativeClustering': 'cityblock', 'n_clusters___AgglomerativeClustering': 50}\n",
      "Score obtained by this configuration: inf\n"
     ]
    },
    {
     "name": "stderr",
     "output_type": "stream",
     "text": [
      "WARNING:smac.tae.execute_func.ExecuteTAFuncDict:Target Algorithm returned NaN or inf as quality. Algorithm run is treated as CRASHED, cost is set to 2147483647.0 for quality scenarios. (Change value through \"cost_for_crash\"-option.)\n"
     ]
    },
    {
     "name": "stdout",
     "output_type": "stream",
     "text": [
      "Fitting configuration: \n",
      "{'eigen_solver___SpectralClustering': 'arpack', 'random_state___NullModel': 1, 'clustering_choice': 'SpectralClustering', 'affinity___SpectralClustering': 'nearest_neighbors', 'dim_reduction_choice': 'NullModel', 'assign_labels___SpectralClustering': 'discretize', 'n_clusters___SpectralClustering': 14}\n",
      "Score obtained by this configuration: 0.5078436742574942\n",
      "Fitting configuration: \n",
      "{'eigen_solver___SpectralClustering': 'arpack', 'n_clusters___SpectralClustering': 70, 'clustering_choice': 'SpectralClustering', 'affinity___SpectralClustering': 'rbf', 'dim_reduction_choice': 'NullModel', 'assign_labels___SpectralClustering': 'discretize'}\n",
      "Score obtained by this configuration: inf\n"
     ]
    },
    {
     "name": "stderr",
     "output_type": "stream",
     "text": [
      "WARNING:smac.tae.execute_func.ExecuteTAFuncDict:Target Algorithm returned NaN or inf as quality. Algorithm run is treated as CRASHED, cost is set to 2147483647.0 for quality scenarios. (Change value through \"cost_for_crash\"-option.)\n"
     ]
    },
    {
     "name": "stdout",
     "output_type": "stream",
     "text": [
      "Fitting configuration: \n",
      "{'eigen_solver___SpectralClustering': 'arpack', 'random_state___NullModel': 1, 'clustering_choice': 'SpectralClustering', 'affinity___SpectralClustering': 'nearest_neighbors', 'dim_reduction_choice': 'NullModel', 'assign_labels___SpectralClustering': 'discretize', 'n_clusters___SpectralClustering': 9}\n",
      "Score obtained by this configuration: 0.5080096096319363\n",
      "Fitting configuration: \n",
      "{'linkage___AgglomerativeClustering': 'complete', 'random_state___NullModel': 2, 'clustering_choice': 'AgglomerativeClustering', 'dim_reduction_choice': 'NullModel', 'affinity___AgglomerativeClustering': 'cosine', 'n_clusters___AgglomerativeClustering': 14}\n",
      "Score obtained by this configuration: 0.5256284429168293\n",
      "Fitting configuration: \n",
      "{'eigen_solver___SpectralClustering': 'arpack', 'random_state___NullModel': 1, 'clustering_choice': 'SpectralClustering', 'affinity___SpectralClustering': 'nearest_neighbors', 'dim_reduction_choice': 'NullModel', 'assign_labels___SpectralClustering': 'discretize', 'n_clusters___SpectralClustering': 11}\n",
      "Score obtained by this configuration: 0.5074974874550882\n",
      "Fitting configuration: \n",
      "{'random_state___NullModel': 2, 'n_clusters___Birch': 49, 'branching_factor___Birch': 541, 'clustering_choice': 'Birch', 'dim_reduction_choice': 'NullModel'}\n",
      "Score obtained by this configuration: inf\n"
     ]
    },
    {
     "name": "stderr",
     "output_type": "stream",
     "text": [
      "WARNING:smac.tae.execute_func.ExecuteTAFuncDict:Target Algorithm returned NaN or inf as quality. Algorithm run is treated as CRASHED, cost is set to 2147483647.0 for quality scenarios. (Change value through \"cost_for_crash\"-option.)\n"
     ]
    },
    {
     "name": "stdout",
     "output_type": "stream",
     "text": [
      "Fitting configuration: \n",
      "{'eigen_solver___SpectralClustering': 'arpack', 'n_clusters___SpectralClustering': 6, 'clustering_choice': 'SpectralClustering', 'affinity___SpectralClustering': 'poly', 'dim_reduction_choice': 'NullModel', 'assign_labels___SpectralClustering': 'discretize'}\n"
     ]
    },
    {
     "name": "stderr",
     "output_type": "stream",
     "text": [
      "Process pynisher function call:\n",
      "Traceback (most recent call last):\n",
      "  File \"/home/wywongbd/anaconda3/envs/automl/lib/python3.5/multiprocessing/process.py\", line 252, in _bootstrap\n",
      "    self.run()\n",
      "  File \"/home/wywongbd/anaconda3/envs/automl/lib/python3.5/multiprocessing/process.py\", line 93, in run\n",
      "    self._target(*self._args, **self._kwargs)\n",
      "  File \"/home/wywongbd/anaconda3/envs/automl/lib/python3.5/site-packages/pynisher/limit_function_call.py\", line 93, in subprocess_func\n",
      "    return_value = ((func(*args, **kwargs), 0))\n",
      "  File \"/home/wywongbd/autocluster/autocluster/autocluster.py\", line 257, in evaluate_model\n",
      "    scaler, dim_reduction_model, clustering_model = fit_models(cfg, train_data)\n",
      "  File \"/home/wywongbd/autocluster/autocluster/autocluster.py\", line 225, in fit_models\n",
      "    clustering_model.fit(compressed_data)\n",
      "  File \"/home/wywongbd/anaconda3/envs/automl/lib/python3.5/site-packages/sklearn/cluster/spectral.py\", line 493, in fit\n",
      "    assign_labels=self.assign_labels)\n",
      "  File \"/home/wywongbd/anaconda3/envs/automl/lib/python3.5/site-packages/sklearn/cluster/spectral.py\", line 264, in spectral_clustering\n",
      "    eigen_tol=eigen_tol, drop_first=False)\n",
      "  File \"/home/wywongbd/anaconda3/envs/automl/lib/python3.5/site-packages/sklearn/manifold/spectral_embedding_.py\", line 271, in spectral_embedding\n",
      "    tol=eigen_tol, v0=v0)\n",
      "  File \"/home/wywongbd/anaconda3/envs/automl/lib/python3.5/site-packages/scipy/sparse/linalg/eigen/arpack/arpack.py\", line 1622, in eigsh\n",
      "    symmetric=True, tol=tol)\n",
      "  File \"/home/wywongbd/anaconda3/envs/automl/lib/python3.5/site-packages/scipy/sparse/linalg/eigen/arpack/arpack.py\", line 1053, in get_OPinv_matvec\n",
      "    return LuInv(A).matvec\n",
      "  File \"/home/wywongbd/anaconda3/envs/automl/lib/python3.5/site-packages/scipy/sparse/linalg/eigen/arpack/arpack.py\", line 931, in __init__\n",
      "    self.M_lu = lu_factor(M)\n",
      "  File \"/home/wywongbd/anaconda3/envs/automl/lib/python3.5/site-packages/scipy/linalg/decomp_lu.py\", line 73, in lu_factor\n",
      "    a1 = asarray_chkfinite(a)\n",
      "  File \"/home/wywongbd/anaconda3/envs/automl/lib/python3.5/site-packages/numpy/lib/function_base.py\", line 498, in asarray_chkfinite\n",
      "    \"array must not contain infs or NaNs\")\n",
      "ValueError: array must not contain infs or NaNs\n"
     ]
    },
    {
     "name": "stdout",
     "output_type": "stream",
     "text": [
      "Fitting configuration: \n",
      "{'eigen_solver___SpectralClustering': 'arpack', 'random_state___NullModel': 1, 'clustering_choice': 'SpectralClustering', 'affinity___SpectralClustering': 'nearest_neighbors', 'dim_reduction_choice': 'NullModel', 'assign_labels___SpectralClustering': 'kmeans', 'n_clusters___SpectralClustering': 3}\n",
      "Score obtained by this configuration: 0.4959168827308958\n",
      "Fitting configuration: \n",
      "{'eigen_solver___SpectralClustering': 'arpack', 'random_state___NullModel': 2, 'clustering_choice': 'SpectralClustering', 'affinity___SpectralClustering': 'nearest_neighbors', 'dim_reduction_choice': 'NullModel', 'assign_labels___SpectralClustering': 'kmeans', 'n_clusters___SpectralClustering': 9}\n",
      "Score obtained by this configuration: 0.5055167696850198\n",
      "Fitting configuration: \n",
      "{'eigen_solver___SpectralClustering': 'arpack', 'random_state___NullModel': 1, 'clustering_choice': 'SpectralClustering', 'affinity___SpectralClustering': 'sigmoid', 'dim_reduction_choice': 'NullModel', 'assign_labels___SpectralClustering': 'discretize', 'n_clusters___SpectralClustering': 12}\n"
     ]
    },
    {
     "name": "stderr",
     "output_type": "stream",
     "text": [
      "Process pynisher function call:\n",
      "Traceback (most recent call last):\n",
      "  File \"/home/wywongbd/anaconda3/envs/automl/lib/python3.5/multiprocessing/process.py\", line 252, in _bootstrap\n",
      "    self.run()\n",
      "  File \"/home/wywongbd/anaconda3/envs/automl/lib/python3.5/multiprocessing/process.py\", line 93, in run\n",
      "    self._target(*self._args, **self._kwargs)\n",
      "  File \"/home/wywongbd/anaconda3/envs/automl/lib/python3.5/site-packages/pynisher/limit_function_call.py\", line 93, in subprocess_func\n",
      "    return_value = ((func(*args, **kwargs), 0))\n",
      "  File \"/home/wywongbd/autocluster/autocluster/autocluster.py\", line 257, in evaluate_model\n",
      "    scaler, dim_reduction_model, clustering_model = fit_models(cfg, train_data)\n",
      "  File \"/home/wywongbd/autocluster/autocluster/autocluster.py\", line 225, in fit_models\n",
      "    clustering_model.fit(compressed_data)\n",
      "  File \"/home/wywongbd/anaconda3/envs/automl/lib/python3.5/site-packages/sklearn/cluster/spectral.py\", line 493, in fit\n",
      "    assign_labels=self.assign_labels)\n",
      "  File \"/home/wywongbd/anaconda3/envs/automl/lib/python3.5/site-packages/sklearn/cluster/spectral.py\", line 264, in spectral_clustering\n",
      "    eigen_tol=eigen_tol, drop_first=False)\n",
      "  File \"/home/wywongbd/anaconda3/envs/automl/lib/python3.5/site-packages/sklearn/manifold/spectral_embedding_.py\", line 271, in spectral_embedding\n",
      "    tol=eigen_tol, v0=v0)\n",
      "  File \"/home/wywongbd/anaconda3/envs/automl/lib/python3.5/site-packages/scipy/sparse/linalg/eigen/arpack/arpack.py\", line 1622, in eigsh\n",
      "    symmetric=True, tol=tol)\n",
      "  File \"/home/wywongbd/anaconda3/envs/automl/lib/python3.5/site-packages/scipy/sparse/linalg/eigen/arpack/arpack.py\", line 1053, in get_OPinv_matvec\n",
      "    return LuInv(A).matvec\n",
      "  File \"/home/wywongbd/anaconda3/envs/automl/lib/python3.5/site-packages/scipy/sparse/linalg/eigen/arpack/arpack.py\", line 931, in __init__\n",
      "    self.M_lu = lu_factor(M)\n",
      "  File \"/home/wywongbd/anaconda3/envs/automl/lib/python3.5/site-packages/scipy/linalg/decomp_lu.py\", line 73, in lu_factor\n",
      "    a1 = asarray_chkfinite(a)\n",
      "  File \"/home/wywongbd/anaconda3/envs/automl/lib/python3.5/site-packages/numpy/lib/function_base.py\", line 498, in asarray_chkfinite\n",
      "    \"array must not contain infs or NaNs\")\n",
      "ValueError: array must not contain infs or NaNs\n"
     ]
    },
    {
     "name": "stdout",
     "output_type": "stream",
     "text": [
      "Fitting configuration: \n",
      "{'dim_reduction_choice': 'NullModel', 'batch_size___MiniBatchKMeans': 146, 'random_state___NullModel': 2, 'clustering_choice': 'MiniBatchKMeans', 'n_clusters___MiniBatchKMeans': 27}\n",
      "Score obtained by this configuration: inf\n"
     ]
    },
    {
     "name": "stderr",
     "output_type": "stream",
     "text": [
      "WARNING:smac.tae.execute_func.ExecuteTAFuncDict:Target Algorithm returned NaN or inf as quality. Algorithm run is treated as CRASHED, cost is set to 2147483647.0 for quality scenarios. (Change value through \"cost_for_crash\"-option.)\n"
     ]
    },
    {
     "name": "stdout",
     "output_type": "stream",
     "text": [
      "Fitting configuration: \n",
      "{'random_state___NullModel': 2, 'n_clusters___Birch': 80, 'branching_factor___Birch': 456, 'clustering_choice': 'Birch', 'dim_reduction_choice': 'NullModel'}\n",
      "Score obtained by this configuration: inf\n"
     ]
    },
    {
     "name": "stderr",
     "output_type": "stream",
     "text": [
      "WARNING:smac.tae.execute_func.ExecuteTAFuncDict:Target Algorithm returned NaN or inf as quality. Algorithm run is treated as CRASHED, cost is set to 2147483647.0 for quality scenarios. (Change value through \"cost_for_crash\"-option.)\n"
     ]
    },
    {
     "name": "stdout",
     "output_type": "stream",
     "text": [
      "Fitting configuration: \n",
      "{'eigen_solver___SpectralClustering': 'arpack', 'n_clusters___SpectralClustering': 12, 'clustering_choice': 'SpectralClustering', 'affinity___SpectralClustering': 'nearest_neighbors', 'dim_reduction_choice': 'NullModel', 'assign_labels___SpectralClustering': 'discretize'}\n",
      "Score obtained by this configuration: 0.5029599501722694\n",
      "Fitting configuration: \n",
      "{'eigen_solver___SpectralClustering': 'arpack', 'n_clusters___SpectralClustering': 55, 'clustering_choice': 'SpectralClustering', 'affinity___SpectralClustering': 'laplacian', 'dim_reduction_choice': 'NullModel', 'assign_labels___SpectralClustering': 'discretize'}\n",
      "Score obtained by this configuration: inf\n"
     ]
    },
    {
     "name": "stderr",
     "output_type": "stream",
     "text": [
      "WARNING:smac.tae.execute_func.ExecuteTAFuncDict:Target Algorithm returned NaN or inf as quality. Algorithm run is treated as CRASHED, cost is set to 2147483647.0 for quality scenarios. (Change value through \"cost_for_crash\"-option.)\n"
     ]
    },
    {
     "name": "stdout",
     "output_type": "stream",
     "text": [
      "Fitting configuration: \n",
      "{'batch_size___MiniBatchKMeans': 851, 'dim_reduction_choice': 'NullModel', 'clustering_choice': 'MiniBatchKMeans', 'n_clusters___MiniBatchKMeans': 69}\n",
      "Score obtained by this configuration: inf\n"
     ]
    },
    {
     "name": "stderr",
     "output_type": "stream",
     "text": [
      "WARNING:smac.tae.execute_func.ExecuteTAFuncDict:Target Algorithm returned NaN or inf as quality. Algorithm run is treated as CRASHED, cost is set to 2147483647.0 for quality scenarios. (Change value through \"cost_for_crash\"-option.)\n"
     ]
    },
    {
     "name": "stdout",
     "output_type": "stream",
     "text": [
      "Fitting configuration: \n",
      "{'eigen_solver___SpectralClustering': 'arpack', 'random_state___NullModel': 1, 'clustering_choice': 'SpectralClustering', 'affinity___SpectralClustering': 'nearest_neighbors', 'dim_reduction_choice': 'NullModel', 'assign_labels___SpectralClustering': 'kmeans', 'n_clusters___SpectralClustering': 11}\n",
      "Score obtained by this configuration: 0.5058156887736063\n",
      "Fitting configuration: \n",
      "{'eigen_solver___SpectralClustering': 'arpack', 'n_clusters___SpectralClustering': 32, 'clustering_choice': 'SpectralClustering', 'affinity___SpectralClustering': 'poly', 'dim_reduction_choice': 'NullModel', 'assign_labels___SpectralClustering': 'discretize'}\n"
     ]
    },
    {
     "name": "stderr",
     "output_type": "stream",
     "text": [
      "Process pynisher function call:\n",
      "Traceback (most recent call last):\n",
      "  File \"/home/wywongbd/anaconda3/envs/automl/lib/python3.5/multiprocessing/process.py\", line 252, in _bootstrap\n",
      "    self.run()\n",
      "  File \"/home/wywongbd/anaconda3/envs/automl/lib/python3.5/multiprocessing/process.py\", line 93, in run\n",
      "    self._target(*self._args, **self._kwargs)\n",
      "  File \"/home/wywongbd/anaconda3/envs/automl/lib/python3.5/site-packages/pynisher/limit_function_call.py\", line 93, in subprocess_func\n",
      "    return_value = ((func(*args, **kwargs), 0))\n",
      "  File \"/home/wywongbd/autocluster/autocluster/autocluster.py\", line 257, in evaluate_model\n",
      "    scaler, dim_reduction_model, clustering_model = fit_models(cfg, train_data)\n",
      "  File \"/home/wywongbd/autocluster/autocluster/autocluster.py\", line 225, in fit_models\n",
      "    clustering_model.fit(compressed_data)\n",
      "  File \"/home/wywongbd/anaconda3/envs/automl/lib/python3.5/site-packages/sklearn/cluster/spectral.py\", line 493, in fit\n",
      "    assign_labels=self.assign_labels)\n",
      "  File \"/home/wywongbd/anaconda3/envs/automl/lib/python3.5/site-packages/sklearn/cluster/spectral.py\", line 264, in spectral_clustering\n",
      "    eigen_tol=eigen_tol, drop_first=False)\n",
      "  File \"/home/wywongbd/anaconda3/envs/automl/lib/python3.5/site-packages/sklearn/manifold/spectral_embedding_.py\", line 271, in spectral_embedding\n",
      "    tol=eigen_tol, v0=v0)\n",
      "  File \"/home/wywongbd/anaconda3/envs/automl/lib/python3.5/site-packages/scipy/sparse/linalg/eigen/arpack/arpack.py\", line 1622, in eigsh\n",
      "    symmetric=True, tol=tol)\n",
      "  File \"/home/wywongbd/anaconda3/envs/automl/lib/python3.5/site-packages/scipy/sparse/linalg/eigen/arpack/arpack.py\", line 1053, in get_OPinv_matvec\n",
      "    return LuInv(A).matvec\n",
      "  File \"/home/wywongbd/anaconda3/envs/automl/lib/python3.5/site-packages/scipy/sparse/linalg/eigen/arpack/arpack.py\", line 931, in __init__\n",
      "    self.M_lu = lu_factor(M)\n",
      "  File \"/home/wywongbd/anaconda3/envs/automl/lib/python3.5/site-packages/scipy/linalg/decomp_lu.py\", line 73, in lu_factor\n",
      "    a1 = asarray_chkfinite(a)\n",
      "  File \"/home/wywongbd/anaconda3/envs/automl/lib/python3.5/site-packages/numpy/lib/function_base.py\", line 498, in asarray_chkfinite\n",
      "    \"array must not contain infs or NaNs\")\n",
      "ValueError: array must not contain infs or NaNs\n"
     ]
    },
    {
     "name": "stdout",
     "output_type": "stream",
     "text": [
      "Fitting configuration: \n",
      "{'n_components___GaussianMixture': 44, 'covariance_type___GaussianMixture': 'tied', 'random_state___NullModel': 2, 'clustering_choice': 'GaussianMixture', 'warm_start___GaussianMixture': True, 'init_params___GaussianMixture': 'random', 'dim_reduction_choice': 'NullModel'}\n",
      "Score obtained by this configuration: inf\n"
     ]
    },
    {
     "name": "stderr",
     "output_type": "stream",
     "text": [
      "WARNING:smac.tae.execute_func.ExecuteTAFuncDict:Target Algorithm returned NaN or inf as quality. Algorithm run is treated as CRASHED, cost is set to 2147483647.0 for quality scenarios. (Change value through \"cost_for_crash\"-option.)\n"
     ]
    },
    {
     "name": "stdout",
     "output_type": "stream",
     "text": [
      "Fitting configuration: \n",
      "{'eigen_solver___SpectralClustering': 'arpack', 'random_state___NullModel': 1, 'clustering_choice': 'SpectralClustering', 'affinity___SpectralClustering': 'nearest_neighbors', 'dim_reduction_choice': 'NullModel', 'assign_labels___SpectralClustering': 'discretize', 'n_clusters___SpectralClustering': 3}\n",
      "Score obtained by this configuration: 0.4937716614264922\n",
      "Fitting configuration: \n",
      "{'eigen_solver___SpectralClustering': 'arpack', 'n_clusters___SpectralClustering': 10, 'clustering_choice': 'SpectralClustering', 'affinity___SpectralClustering': 'nearest_neighbors', 'dim_reduction_choice': 'NullModel', 'assign_labels___SpectralClustering': 'kmeans'}\n",
      "Score obtained by this configuration: 0.5071991268605728\n",
      "Fitting configuration: \n",
      "{'linkage___AgglomerativeClustering': 'complete', 'random_state___NullModel': 1, 'clustering_choice': 'AgglomerativeClustering', 'dim_reduction_choice': 'NullModel', 'affinity___AgglomerativeClustering': 'cityblock', 'n_clusters___AgglomerativeClustering': 30}\n",
      "Score obtained by this configuration: inf\n"
     ]
    },
    {
     "name": "stderr",
     "output_type": "stream",
     "text": [
      "WARNING:smac.tae.execute_func.ExecuteTAFuncDict:Target Algorithm returned NaN or inf as quality. Algorithm run is treated as CRASHED, cost is set to 2147483647.0 for quality scenarios. (Change value through \"cost_for_crash\"-option.)\n"
     ]
    },
    {
     "name": "stdout",
     "output_type": "stream",
     "text": [
      "Fitting configuration: \n",
      "{'eigen_solver___SpectralClustering': 'arpack', 'n_clusters___SpectralClustering': 5, 'clustering_choice': 'SpectralClustering', 'affinity___SpectralClustering': 'nearest_neighbors', 'dim_reduction_choice': 'NullModel', 'assign_labels___SpectralClustering': 'discretize'}\n",
      "Score obtained by this configuration: 0.49729044211984386\n",
      "Fitting configuration: \n",
      "{'eigen_solver___SpectralClustering': 'arpack', 'n_clusters___SpectralClustering': 3, 'clustering_choice': 'SpectralClustering', 'affinity___SpectralClustering': 'nearest_neighbors', 'dim_reduction_choice': 'NullModel', 'assign_labels___SpectralClustering': 'discretize'}\n",
      "Score obtained by this configuration: 0.49234944801570824\n",
      "Fitting configuration: \n",
      "{'n_components___GaussianMixture': 17, 'covariance_type___GaussianMixture': 'diag', 'clustering_choice': 'GaussianMixture', 'warm_start___GaussianMixture': True, 'init_params___GaussianMixture': 'random', 'dim_reduction_choice': 'NullModel'}\n",
      "Score obtained by this configuration: inf\n"
     ]
    },
    {
     "name": "stderr",
     "output_type": "stream",
     "text": [
      "WARNING:smac.tae.execute_func.ExecuteTAFuncDict:Target Algorithm returned NaN or inf as quality. Algorithm run is treated as CRASHED, cost is set to 2147483647.0 for quality scenarios. (Change value through \"cost_for_crash\"-option.)\n"
     ]
    },
    {
     "name": "stdout",
     "output_type": "stream",
     "text": [
      "Fitting configuration: \n",
      "{'eigen_solver___SpectralClustering': 'arpack', 'random_state___NullModel': 1, 'clustering_choice': 'SpectralClustering', 'affinity___SpectralClustering': 'nearest_neighbors', 'dim_reduction_choice': 'NullModel', 'assign_labels___SpectralClustering': 'kmeans', 'n_clusters___SpectralClustering': 7}\n",
      "Score obtained by this configuration: 0.504119720641874\n",
      "Fitting configuration: \n",
      "{'batch_size___MiniBatchKMeans': 676, 'dim_reduction_choice': 'NullModel', 'clustering_choice': 'MiniBatchKMeans', 'n_clusters___MiniBatchKMeans': 18}\n",
      "Score obtained by this configuration: inf\n"
     ]
    },
    {
     "name": "stderr",
     "output_type": "stream",
     "text": [
      "WARNING:smac.tae.execute_func.ExecuteTAFuncDict:Target Algorithm returned NaN or inf as quality. Algorithm run is treated as CRASHED, cost is set to 2147483647.0 for quality scenarios. (Change value through \"cost_for_crash\"-option.)\n"
     ]
    },
    {
     "name": "stdout",
     "output_type": "stream",
     "text": [
      "Fitting configuration: \n",
      "{'init_params___GaussianMixture': 'kmeans', 'n_components___GaussianMixture': 63, 'covariance_type___GaussianMixture': 'spherical', 'dim_reduction_choice': 'NullModel', 'clustering_choice': 'GaussianMixture'}\n",
      "Score obtained by this configuration: inf\n"
     ]
    },
    {
     "name": "stderr",
     "output_type": "stream",
     "text": [
      "WARNING:smac.tae.execute_func.ExecuteTAFuncDict:Target Algorithm returned NaN or inf as quality. Algorithm run is treated as CRASHED, cost is set to 2147483647.0 for quality scenarios. (Change value through \"cost_for_crash\"-option.)\n"
     ]
    },
    {
     "name": "stdout",
     "output_type": "stream",
     "text": [
      "Fitting configuration: \n",
      "{'eigen_solver___SpectralClustering': 'arpack', 'random_state___NullModel': 2, 'clustering_choice': 'SpectralClustering', 'affinity___SpectralClustering': 'nearest_neighbors', 'dim_reduction_choice': 'NullModel', 'assign_labels___SpectralClustering': 'discretize', 'n_clusters___SpectralClustering': 17}\n",
      "Score obtained by this configuration: 0.5090000564805609\n",
      "Fitting configuration: \n",
      "{'dim_reduction_choice': 'NullModel', 'n_clusters___Birch': 79, 'branching_factor___Birch': 244, 'clustering_choice': 'Birch'}\n",
      "Score obtained by this configuration: inf\n"
     ]
    },
    {
     "name": "stderr",
     "output_type": "stream",
     "text": [
      "WARNING:smac.tae.execute_func.ExecuteTAFuncDict:Target Algorithm returned NaN or inf as quality. Algorithm run is treated as CRASHED, cost is set to 2147483647.0 for quality scenarios. (Change value through \"cost_for_crash\"-option.)\n"
     ]
    },
    {
     "name": "stdout",
     "output_type": "stream",
     "text": [
      "Fitting configuration: \n",
      "{'dim_reduction_choice': 'NullModel', 'batch_size___MiniBatchKMeans': 171, 'random_state___NullModel': 1, 'clustering_choice': 'MiniBatchKMeans', 'n_clusters___MiniBatchKMeans': 24}\n",
      "Score obtained by this configuration: inf\n"
     ]
    },
    {
     "name": "stderr",
     "output_type": "stream",
     "text": [
      "WARNING:smac.tae.execute_func.ExecuteTAFuncDict:Target Algorithm returned NaN or inf as quality. Algorithm run is treated as CRASHED, cost is set to 2147483647.0 for quality scenarios. (Change value through \"cost_for_crash\"-option.)\n"
     ]
    },
    {
     "name": "stdout",
     "output_type": "stream",
     "text": [
      "Fitting configuration: \n",
      "{'batch_size___MiniBatchKMeans': 357, 'dim_reduction_choice': 'NullModel', 'clustering_choice': 'MiniBatchKMeans', 'n_clusters___MiniBatchKMeans': 70}\n",
      "Score obtained by this configuration: inf\n"
     ]
    },
    {
     "name": "stderr",
     "output_type": "stream",
     "text": [
      "WARNING:smac.tae.execute_func.ExecuteTAFuncDict:Target Algorithm returned NaN or inf as quality. Algorithm run is treated as CRASHED, cost is set to 2147483647.0 for quality scenarios. (Change value through \"cost_for_crash\"-option.)\n"
     ]
    },
    {
     "name": "stdout",
     "output_type": "stream",
     "text": [
      "Fitting configuration: \n",
      "{'eigen_solver___SpectralClustering': 'arpack', 'n_clusters___SpectralClustering': 4, 'clustering_choice': 'SpectralClustering', 'affinity___SpectralClustering': 'nearest_neighbors', 'dim_reduction_choice': 'NullModel', 'assign_labels___SpectralClustering': 'discretize'}\n",
      "Score obtained by this configuration: 0.49427321366241767\n",
      "Fitting configuration: \n",
      "{'batch_size___MiniBatchKMeans': 695, 'dim_reduction_choice': 'NullModel', 'clustering_choice': 'MiniBatchKMeans', 'n_clusters___MiniBatchKMeans': 25}\n",
      "Score obtained by this configuration: inf\n"
     ]
    },
    {
     "name": "stderr",
     "output_type": "stream",
     "text": [
      "WARNING:smac.tae.execute_func.ExecuteTAFuncDict:Target Algorithm returned NaN or inf as quality. Algorithm run is treated as CRASHED, cost is set to 2147483647.0 for quality scenarios. (Change value through \"cost_for_crash\"-option.)\n"
     ]
    },
    {
     "name": "stdout",
     "output_type": "stream",
     "text": [
      "Fitting configuration: \n",
      "{'eigen_solver___SpectralClustering': 'arpack', 'n_clusters___SpectralClustering': 1, 'clustering_choice': 'SpectralClustering', 'affinity___SpectralClustering': 'nearest_neighbors', 'dim_reduction_choice': 'NullModel', 'assign_labels___SpectralClustering': 'discretize'}\n",
      "Score obtained by this configuration: inf\n"
     ]
    },
    {
     "name": "stderr",
     "output_type": "stream",
     "text": [
      "WARNING:smac.tae.execute_func.ExecuteTAFuncDict:Target Algorithm returned NaN or inf as quality. Algorithm run is treated as CRASHED, cost is set to 2147483647.0 for quality scenarios. (Change value through \"cost_for_crash\"-option.)\n"
     ]
    },
    {
     "name": "stdout",
     "output_type": "stream",
     "text": [
      "Fitting configuration: \n",
      "{'n_components___GaussianMixture': 24, 'covariance_type___GaussianMixture': 'full', 'random_state___NullModel': 1, 'clustering_choice': 'GaussianMixture', 'warm_start___GaussianMixture': True, 'init_params___GaussianMixture': 'kmeans', 'dim_reduction_choice': 'NullModel'}\n",
      "Score obtained by this configuration: inf\n"
     ]
    },
    {
     "name": "stderr",
     "output_type": "stream",
     "text": [
      "WARNING:smac.tae.execute_func.ExecuteTAFuncDict:Target Algorithm returned NaN or inf as quality. Algorithm run is treated as CRASHED, cost is set to 2147483647.0 for quality scenarios. (Change value through \"cost_for_crash\"-option.)\n"
     ]
    },
    {
     "name": "stdout",
     "output_type": "stream",
     "text": [
      "Fitting configuration: \n",
      "{'eigen_solver___SpectralClustering': 'arpack', 'random_state___NullModel': 2, 'clustering_choice': 'SpectralClustering', 'affinity___SpectralClustering': 'nearest_neighbors', 'dim_reduction_choice': 'NullModel', 'assign_labels___SpectralClustering': 'kmeans', 'n_clusters___SpectralClustering': 76}\n",
      "Score obtained by this configuration: inf\n"
     ]
    },
    {
     "name": "stderr",
     "output_type": "stream",
     "text": [
      "WARNING:smac.tae.execute_func.ExecuteTAFuncDict:Target Algorithm returned NaN or inf as quality. Algorithm run is treated as CRASHED, cost is set to 2147483647.0 for quality scenarios. (Change value through \"cost_for_crash\"-option.)\n"
     ]
    },
    {
     "name": "stdout",
     "output_type": "stream",
     "text": [
      "Fitting configuration: \n",
      "{'eigen_solver___SpectralClustering': 'arpack', 'random_state___NullModel': 2, 'clustering_choice': 'SpectralClustering', 'affinity___SpectralClustering': 'nearest_neighbors', 'dim_reduction_choice': 'NullModel', 'assign_labels___SpectralClustering': 'kmeans', 'n_clusters___SpectralClustering': 68}\n",
      "Score obtained by this configuration: inf\n"
     ]
    },
    {
     "name": "stderr",
     "output_type": "stream",
     "text": [
      "WARNING:smac.tae.execute_func.ExecuteTAFuncDict:Target Algorithm returned NaN or inf as quality. Algorithm run is treated as CRASHED, cost is set to 2147483647.0 for quality scenarios. (Change value through \"cost_for_crash\"-option.)\n"
     ]
    },
    {
     "name": "stdout",
     "output_type": "stream",
     "text": [
      "Fitting configuration: \n",
      "{'eigen_solver___SpectralClustering': 'arpack', 'random_state___NullModel': 1, 'clustering_choice': 'SpectralClustering', 'affinity___SpectralClustering': 'nearest_neighbors', 'dim_reduction_choice': 'NullModel', 'assign_labels___SpectralClustering': 'kmeans', 'n_clusters___SpectralClustering': 4}\n",
      "Score obtained by this configuration: 0.4953266319017337\n",
      "Fitting configuration: \n",
      "{'dim_reduction_choice': 'NullModel', 'n_clusters___KMeans': 35, 'random_state___NullModel': 2, 'clustering_choice': 'KMeans'}\n",
      "Score obtained by this configuration: inf\n"
     ]
    },
    {
     "name": "stderr",
     "output_type": "stream",
     "text": [
      "WARNING:smac.tae.execute_func.ExecuteTAFuncDict:Target Algorithm returned NaN or inf as quality. Algorithm run is treated as CRASHED, cost is set to 2147483647.0 for quality scenarios. (Change value through \"cost_for_crash\"-option.)\n"
     ]
    },
    {
     "name": "stdout",
     "output_type": "stream",
     "text": [
      "Fitting configuration: \n",
      "{'eigen_solver___SpectralClustering': 'arpack', 'random_state___NullModel': 1, 'clustering_choice': 'SpectralClustering', 'affinity___SpectralClustering': 'poly', 'dim_reduction_choice': 'NullModel', 'assign_labels___SpectralClustering': 'kmeans', 'n_clusters___SpectralClustering': 21}\n"
     ]
    },
    {
     "name": "stderr",
     "output_type": "stream",
     "text": [
      "Process pynisher function call:\n",
      "Traceback (most recent call last):\n",
      "  File \"/home/wywongbd/anaconda3/envs/automl/lib/python3.5/multiprocessing/process.py\", line 252, in _bootstrap\n",
      "    self.run()\n",
      "  File \"/home/wywongbd/anaconda3/envs/automl/lib/python3.5/multiprocessing/process.py\", line 93, in run\n",
      "    self._target(*self._args, **self._kwargs)\n",
      "  File \"/home/wywongbd/anaconda3/envs/automl/lib/python3.5/site-packages/pynisher/limit_function_call.py\", line 93, in subprocess_func\n",
      "    return_value = ((func(*args, **kwargs), 0))\n",
      "  File \"/home/wywongbd/autocluster/autocluster/autocluster.py\", line 257, in evaluate_model\n",
      "    scaler, dim_reduction_model, clustering_model = fit_models(cfg, train_data)\n",
      "  File \"/home/wywongbd/autocluster/autocluster/autocluster.py\", line 225, in fit_models\n",
      "    clustering_model.fit(compressed_data)\n",
      "  File \"/home/wywongbd/anaconda3/envs/automl/lib/python3.5/site-packages/sklearn/cluster/spectral.py\", line 493, in fit\n",
      "    assign_labels=self.assign_labels)\n",
      "  File \"/home/wywongbd/anaconda3/envs/automl/lib/python3.5/site-packages/sklearn/cluster/spectral.py\", line 264, in spectral_clustering\n",
      "    eigen_tol=eigen_tol, drop_first=False)\n",
      "  File \"/home/wywongbd/anaconda3/envs/automl/lib/python3.5/site-packages/sklearn/manifold/spectral_embedding_.py\", line 271, in spectral_embedding\n",
      "    tol=eigen_tol, v0=v0)\n",
      "  File \"/home/wywongbd/anaconda3/envs/automl/lib/python3.5/site-packages/scipy/sparse/linalg/eigen/arpack/arpack.py\", line 1622, in eigsh\n",
      "    symmetric=True, tol=tol)\n",
      "  File \"/home/wywongbd/anaconda3/envs/automl/lib/python3.5/site-packages/scipy/sparse/linalg/eigen/arpack/arpack.py\", line 1053, in get_OPinv_matvec\n",
      "    return LuInv(A).matvec\n",
      "  File \"/home/wywongbd/anaconda3/envs/automl/lib/python3.5/site-packages/scipy/sparse/linalg/eigen/arpack/arpack.py\", line 931, in __init__\n",
      "    self.M_lu = lu_factor(M)\n",
      "  File \"/home/wywongbd/anaconda3/envs/automl/lib/python3.5/site-packages/scipy/linalg/decomp_lu.py\", line 73, in lu_factor\n",
      "    a1 = asarray_chkfinite(a)\n",
      "  File \"/home/wywongbd/anaconda3/envs/automl/lib/python3.5/site-packages/numpy/lib/function_base.py\", line 498, in asarray_chkfinite\n",
      "    \"array must not contain infs or NaNs\")\n",
      "ValueError: array must not contain infs or NaNs\n"
     ]
    },
    {
     "name": "stdout",
     "output_type": "stream",
     "text": [
      "Fitting configuration: \n",
      "{'n_components___GaussianMixture': 8, 'covariance_type___GaussianMixture': 'diag', 'random_state___NullModel': 1, 'clustering_choice': 'GaussianMixture', 'warm_start___GaussianMixture': True, 'init_params___GaussianMixture': 'kmeans', 'dim_reduction_choice': 'NullModel'}\n",
      "Score obtained by this configuration: inf\n"
     ]
    },
    {
     "name": "stderr",
     "output_type": "stream",
     "text": [
      "WARNING:smac.tae.execute_func.ExecuteTAFuncDict:Target Algorithm returned NaN or inf as quality. Algorithm run is treated as CRASHED, cost is set to 2147483647.0 for quality scenarios. (Change value through \"cost_for_crash\"-option.)\n"
     ]
    },
    {
     "name": "stdout",
     "output_type": "stream",
     "text": [
      "Fitting configuration: \n",
      "{'random_state___NullModel': 2, 'n_clusters___Birch': 25, 'branching_factor___Birch': 253, 'clustering_choice': 'Birch', 'dim_reduction_choice': 'NullModel'}\n",
      "Score obtained by this configuration: inf\n"
     ]
    },
    {
     "name": "stderr",
     "output_type": "stream",
     "text": [
      "WARNING:smac.tae.execute_func.ExecuteTAFuncDict:Target Algorithm returned NaN or inf as quality. Algorithm run is treated as CRASHED, cost is set to 2147483647.0 for quality scenarios. (Change value through \"cost_for_crash\"-option.)\n"
     ]
    },
    {
     "name": "stdout",
     "output_type": "stream",
     "text": [
      "Fitting configuration: \n",
      "{'linkage___AgglomerativeClustering': 'single', 'random_state___NullModel': 2, 'clustering_choice': 'AgglomerativeClustering', 'dim_reduction_choice': 'NullModel', 'affinity___AgglomerativeClustering': 'manhattan', 'n_clusters___AgglomerativeClustering': 43}\n",
      "Score obtained by this configuration: inf\n"
     ]
    },
    {
     "name": "stderr",
     "output_type": "stream",
     "text": [
      "WARNING:smac.tae.execute_func.ExecuteTAFuncDict:Target Algorithm returned NaN or inf as quality. Algorithm run is treated as CRASHED, cost is set to 2147483647.0 for quality scenarios. (Change value through \"cost_for_crash\"-option.)\n"
     ]
    },
    {
     "name": "stdout",
     "output_type": "stream",
     "text": [
      "Fitting configuration: \n",
      "{'linkage___AgglomerativeClustering': 'average', 'random_state___NullModel': 1, 'clustering_choice': 'AgglomerativeClustering', 'dim_reduction_choice': 'NullModel', 'affinity___AgglomerativeClustering': 'cityblock', 'n_clusters___AgglomerativeClustering': 76}\n",
      "Score obtained by this configuration: inf\n"
     ]
    },
    {
     "name": "stderr",
     "output_type": "stream",
     "text": [
      "WARNING:smac.tae.execute_func.ExecuteTAFuncDict:Target Algorithm returned NaN or inf as quality. Algorithm run is treated as CRASHED, cost is set to 2147483647.0 for quality scenarios. (Change value through \"cost_for_crash\"-option.)\n"
     ]
    },
    {
     "name": "stdout",
     "output_type": "stream",
     "text": [
      "Fitting configuration: \n",
      "{'eigen_solver___SpectralClustering': 'arpack', 'random_state___NullModel': 1, 'clustering_choice': 'SpectralClustering', 'affinity___SpectralClustering': 'nearest_neighbors', 'dim_reduction_choice': 'NullModel', 'assign_labels___SpectralClustering': 'kmeans', 'n_clusters___SpectralClustering': 18}\n",
      "Score obtained by this configuration: 0.509712123400242\n",
      "Fitting configuration: \n",
      "{'eigen_solver___SpectralClustering': 'arpack', 'random_state___NullModel': 2, 'clustering_choice': 'SpectralClustering', 'affinity___SpectralClustering': 'laplacian', 'dim_reduction_choice': 'NullModel', 'assign_labels___SpectralClustering': 'kmeans', 'n_clusters___SpectralClustering': 8}\n",
      "Score obtained by this configuration: inf\n"
     ]
    },
    {
     "name": "stderr",
     "output_type": "stream",
     "text": [
      "WARNING:smac.tae.execute_func.ExecuteTAFuncDict:Target Algorithm returned NaN or inf as quality. Algorithm run is treated as CRASHED, cost is set to 2147483647.0 for quality scenarios. (Change value through \"cost_for_crash\"-option.)\n"
     ]
    },
    {
     "name": "stdout",
     "output_type": "stream",
     "text": [
      "Fitting configuration: \n",
      "{'eigen_solver___SpectralClustering': 'arpack', 'random_state___NullModel': 2, 'clustering_choice': 'SpectralClustering', 'affinity___SpectralClustering': 'nearest_neighbors', 'dim_reduction_choice': 'NullModel', 'assign_labels___SpectralClustering': 'kmeans', 'n_clusters___SpectralClustering': 11}\n",
      "Score obtained by this configuration: 0.5055911887352531\n",
      "Fitting configuration: \n",
      "{'eigen_solver___SpectralClustering': 'arpack', 'random_state___NullModel': 1, 'clustering_choice': 'SpectralClustering', 'affinity___SpectralClustering': 'sigmoid', 'dim_reduction_choice': 'NullModel', 'assign_labels___SpectralClustering': 'kmeans', 'n_clusters___SpectralClustering': 47}\n"
     ]
    },
    {
     "name": "stderr",
     "output_type": "stream",
     "text": [
      "Process pynisher function call:\n",
      "Traceback (most recent call last):\n",
      "  File \"/home/wywongbd/anaconda3/envs/automl/lib/python3.5/multiprocessing/process.py\", line 252, in _bootstrap\n",
      "    self.run()\n",
      "  File \"/home/wywongbd/anaconda3/envs/automl/lib/python3.5/multiprocessing/process.py\", line 93, in run\n",
      "    self._target(*self._args, **self._kwargs)\n",
      "  File \"/home/wywongbd/anaconda3/envs/automl/lib/python3.5/site-packages/pynisher/limit_function_call.py\", line 93, in subprocess_func\n",
      "    return_value = ((func(*args, **kwargs), 0))\n",
      "  File \"/home/wywongbd/autocluster/autocluster/autocluster.py\", line 257, in evaluate_model\n",
      "    scaler, dim_reduction_model, clustering_model = fit_models(cfg, train_data)\n",
      "  File \"/home/wywongbd/autocluster/autocluster/autocluster.py\", line 225, in fit_models\n",
      "    clustering_model.fit(compressed_data)\n",
      "  File \"/home/wywongbd/anaconda3/envs/automl/lib/python3.5/site-packages/sklearn/cluster/spectral.py\", line 493, in fit\n",
      "    assign_labels=self.assign_labels)\n",
      "  File \"/home/wywongbd/anaconda3/envs/automl/lib/python3.5/site-packages/sklearn/cluster/spectral.py\", line 264, in spectral_clustering\n",
      "    eigen_tol=eigen_tol, drop_first=False)\n",
      "  File \"/home/wywongbd/anaconda3/envs/automl/lib/python3.5/site-packages/sklearn/manifold/spectral_embedding_.py\", line 271, in spectral_embedding\n",
      "    tol=eigen_tol, v0=v0)\n",
      "  File \"/home/wywongbd/anaconda3/envs/automl/lib/python3.5/site-packages/scipy/sparse/linalg/eigen/arpack/arpack.py\", line 1622, in eigsh\n",
      "    symmetric=True, tol=tol)\n",
      "  File \"/home/wywongbd/anaconda3/envs/automl/lib/python3.5/site-packages/scipy/sparse/linalg/eigen/arpack/arpack.py\", line 1053, in get_OPinv_matvec\n",
      "    return LuInv(A).matvec\n",
      "  File \"/home/wywongbd/anaconda3/envs/automl/lib/python3.5/site-packages/scipy/sparse/linalg/eigen/arpack/arpack.py\", line 931, in __init__\n",
      "    self.M_lu = lu_factor(M)\n",
      "  File \"/home/wywongbd/anaconda3/envs/automl/lib/python3.5/site-packages/scipy/linalg/decomp_lu.py\", line 73, in lu_factor\n",
      "    a1 = asarray_chkfinite(a)\n",
      "  File \"/home/wywongbd/anaconda3/envs/automl/lib/python3.5/site-packages/numpy/lib/function_base.py\", line 498, in asarray_chkfinite\n",
      "    \"array must not contain infs or NaNs\")\n",
      "ValueError: array must not contain infs or NaNs\n"
     ]
    },
    {
     "name": "stdout",
     "output_type": "stream",
     "text": [
      "Fitting configuration: \n",
      "{'init_params___GaussianMixture': 'random', 'n_components___GaussianMixture': 12, 'covariance_type___GaussianMixture': 'diag', 'dim_reduction_choice': 'NullModel', 'clustering_choice': 'GaussianMixture'}\n",
      "Score obtained by this configuration: 0.5405618821442465\n",
      "Fitting configuration: \n",
      "{'init_params___GaussianMixture': 'random', 'n_components___GaussianMixture': 14, 'covariance_type___GaussianMixture': 'tied', 'dim_reduction_choice': 'NullModel', 'clustering_choice': 'GaussianMixture'}\n",
      "Score obtained by this configuration: 0.5277492966240284\n",
      "Fitting configuration: \n",
      "{'eigen_solver___SpectralClustering': 'arpack', 'random_state___NullModel': 2, 'clustering_choice': 'SpectralClustering', 'affinity___SpectralClustering': 'laplacian', 'dim_reduction_choice': 'NullModel', 'assign_labels___SpectralClustering': 'discretize', 'n_clusters___SpectralClustering': 4}\n",
      "Score obtained by this configuration: inf\n"
     ]
    },
    {
     "name": "stderr",
     "output_type": "stream",
     "text": [
      "WARNING:smac.tae.execute_func.ExecuteTAFuncDict:Target Algorithm returned NaN or inf as quality. Algorithm run is treated as CRASHED, cost is set to 2147483647.0 for quality scenarios. (Change value through \"cost_for_crash\"-option.)\n"
     ]
    },
    {
     "name": "stdout",
     "output_type": "stream",
     "text": [
      "Fitting configuration: \n",
      "{'eigen_solver___SpectralClustering': 'arpack', 'random_state___NullModel': 1, 'clustering_choice': 'SpectralClustering', 'affinity___SpectralClustering': 'poly', 'dim_reduction_choice': 'NullModel', 'assign_labels___SpectralClustering': 'discretize', 'n_clusters___SpectralClustering': 52}\n"
     ]
    },
    {
     "name": "stderr",
     "output_type": "stream",
     "text": [
      "Process pynisher function call:\n",
      "Traceback (most recent call last):\n",
      "  File \"/home/wywongbd/anaconda3/envs/automl/lib/python3.5/multiprocessing/process.py\", line 252, in _bootstrap\n",
      "    self.run()\n",
      "  File \"/home/wywongbd/anaconda3/envs/automl/lib/python3.5/multiprocessing/process.py\", line 93, in run\n",
      "    self._target(*self._args, **self._kwargs)\n",
      "  File \"/home/wywongbd/anaconda3/envs/automl/lib/python3.5/site-packages/pynisher/limit_function_call.py\", line 93, in subprocess_func\n",
      "    return_value = ((func(*args, **kwargs), 0))\n",
      "  File \"/home/wywongbd/autocluster/autocluster/autocluster.py\", line 257, in evaluate_model\n",
      "    scaler, dim_reduction_model, clustering_model = fit_models(cfg, train_data)\n",
      "  File \"/home/wywongbd/autocluster/autocluster/autocluster.py\", line 225, in fit_models\n",
      "    clustering_model.fit(compressed_data)\n",
      "  File \"/home/wywongbd/anaconda3/envs/automl/lib/python3.5/site-packages/sklearn/cluster/spectral.py\", line 493, in fit\n",
      "    assign_labels=self.assign_labels)\n",
      "  File \"/home/wywongbd/anaconda3/envs/automl/lib/python3.5/site-packages/sklearn/cluster/spectral.py\", line 264, in spectral_clustering\n",
      "    eigen_tol=eigen_tol, drop_first=False)\n",
      "  File \"/home/wywongbd/anaconda3/envs/automl/lib/python3.5/site-packages/sklearn/manifold/spectral_embedding_.py\", line 271, in spectral_embedding\n",
      "    tol=eigen_tol, v0=v0)\n",
      "  File \"/home/wywongbd/anaconda3/envs/automl/lib/python3.5/site-packages/scipy/sparse/linalg/eigen/arpack/arpack.py\", line 1622, in eigsh\n",
      "    symmetric=True, tol=tol)\n",
      "  File \"/home/wywongbd/anaconda3/envs/automl/lib/python3.5/site-packages/scipy/sparse/linalg/eigen/arpack/arpack.py\", line 1053, in get_OPinv_matvec\n",
      "    return LuInv(A).matvec\n",
      "  File \"/home/wywongbd/anaconda3/envs/automl/lib/python3.5/site-packages/scipy/sparse/linalg/eigen/arpack/arpack.py\", line 931, in __init__\n",
      "    self.M_lu = lu_factor(M)\n",
      "  File \"/home/wywongbd/anaconda3/envs/automl/lib/python3.5/site-packages/scipy/linalg/decomp_lu.py\", line 73, in lu_factor\n",
      "    a1 = asarray_chkfinite(a)\n",
      "  File \"/home/wywongbd/anaconda3/envs/automl/lib/python3.5/site-packages/numpy/lib/function_base.py\", line 498, in asarray_chkfinite\n",
      "    \"array must not contain infs or NaNs\")\n",
      "ValueError: array must not contain infs or NaNs\n"
     ]
    },
    {
     "name": "stdout",
     "output_type": "stream",
     "text": [
      "Fitting configuration: \n",
      "{'eigen_solver___SpectralClustering': 'arpack', 'random_state___NullModel': 2, 'clustering_choice': 'SpectralClustering', 'affinity___SpectralClustering': 'nearest_neighbors', 'dim_reduction_choice': 'NullModel', 'assign_labels___SpectralClustering': 'kmeans', 'n_clusters___SpectralClustering': 6}\n",
      "Score obtained by this configuration: 0.5022185358854833\n",
      "Fitting configuration: \n",
      "{'eigen_solver___SpectralClustering': 'arpack', 'random_state___NullModel': 1, 'clustering_choice': 'SpectralClustering', 'affinity___SpectralClustering': 'nearest_neighbors', 'dim_reduction_choice': 'NullModel', 'assign_labels___SpectralClustering': 'kmeans', 'n_clusters___SpectralClustering': 5}\n",
      "Score obtained by this configuration: 0.4999321018961596\n",
      "Fitting configuration: \n",
      "{'eigen_solver___SpectralClustering': 'arpack', 'random_state___NullModel': 1, 'clustering_choice': 'SpectralClustering', 'affinity___SpectralClustering': 'laplacian', 'dim_reduction_choice': 'NullModel', 'assign_labels___SpectralClustering': 'discretize', 'n_clusters___SpectralClustering': 23}\n",
      "Score obtained by this configuration: inf\n"
     ]
    },
    {
     "name": "stderr",
     "output_type": "stream",
     "text": [
      "WARNING:smac.tae.execute_func.ExecuteTAFuncDict:Target Algorithm returned NaN or inf as quality. Algorithm run is treated as CRASHED, cost is set to 2147483647.0 for quality scenarios. (Change value through \"cost_for_crash\"-option.)\n"
     ]
    },
    {
     "name": "stdout",
     "output_type": "stream",
     "text": [
      "Fitting configuration: \n",
      "{'eigen_solver___SpectralClustering': 'arpack', 'n_clusters___SpectralClustering': 16, 'clustering_choice': 'SpectralClustering', 'affinity___SpectralClustering': 'nearest_neighbors', 'dim_reduction_choice': 'NullModel', 'assign_labels___SpectralClustering': 'kmeans'}\n",
      "Score obtained by this configuration: 0.5061921973541558\n",
      "Fitting configuration: \n",
      "{'linkage___AgglomerativeClustering': 'complete', 'random_state___NullModel': 1, 'clustering_choice': 'AgglomerativeClustering', 'dim_reduction_choice': 'NullModel', 'affinity___AgglomerativeClustering': 'manhattan', 'n_clusters___AgglomerativeClustering': 18}\n",
      "Score obtained by this configuration: inf\n"
     ]
    },
    {
     "name": "stderr",
     "output_type": "stream",
     "text": [
      "WARNING:smac.tae.execute_func.ExecuteTAFuncDict:Target Algorithm returned NaN or inf as quality. Algorithm run is treated as CRASHED, cost is set to 2147483647.0 for quality scenarios. (Change value through \"cost_for_crash\"-option.)\n"
     ]
    },
    {
     "name": "stdout",
     "output_type": "stream",
     "text": [
      "Fitting configuration: \n",
      "{'eigen_solver___SpectralClustering': 'arpack', 'n_clusters___SpectralClustering': 18, 'clustering_choice': 'SpectralClustering', 'affinity___SpectralClustering': 'nearest_neighbors', 'dim_reduction_choice': 'NullModel', 'assign_labels___SpectralClustering': 'kmeans'}\n",
      "Score obtained by this configuration: 0.5110111981674145\n",
      "Fitting configuration: \n",
      "{'dim_reduction_choice': 'NullModel', 'n_clusters___Birch': 17, 'branching_factor___Birch': 194, 'clustering_choice': 'Birch'}\n",
      "Score obtained by this configuration: inf\n"
     ]
    },
    {
     "name": "stderr",
     "output_type": "stream",
     "text": [
      "WARNING:smac.tae.execute_func.ExecuteTAFuncDict:Target Algorithm returned NaN or inf as quality. Algorithm run is treated as CRASHED, cost is set to 2147483647.0 for quality scenarios. (Change value through \"cost_for_crash\"-option.)\n"
     ]
    },
    {
     "name": "stdout",
     "output_type": "stream",
     "text": [
      "Fitting configuration: \n",
      "{'eigen_solver___SpectralClustering': 'arpack', 'n_clusters___SpectralClustering': 22, 'clustering_choice': 'SpectralClustering', 'affinity___SpectralClustering': 'nearest_neighbors', 'dim_reduction_choice': 'NullModel', 'assign_labels___SpectralClustering': 'kmeans'}\n",
      "Score obtained by this configuration: 0.5074998630934612\n",
      "Fitting configuration: \n",
      "{'init_params___GaussianMixture': 'kmeans', 'n_components___GaussianMixture': 62, 'covariance_type___GaussianMixture': 'full', 'dim_reduction_choice': 'NullModel', 'clustering_choice': 'GaussianMixture'}\n",
      "Score obtained by this configuration: inf\n"
     ]
    },
    {
     "name": "stderr",
     "output_type": "stream",
     "text": [
      "WARNING:smac.tae.execute_func.ExecuteTAFuncDict:Target Algorithm returned NaN or inf as quality. Algorithm run is treated as CRASHED, cost is set to 2147483647.0 for quality scenarios. (Change value through \"cost_for_crash\"-option.)\n"
     ]
    },
    {
     "name": "stdout",
     "output_type": "stream",
     "text": [
      "Fitting configuration: \n",
      "{'eigen_solver___SpectralClustering': 'arpack', 'random_state___NullModel': 1, 'clustering_choice': 'SpectralClustering', 'affinity___SpectralClustering': 'nearest_neighbors', 'dim_reduction_choice': 'NullModel', 'assign_labels___SpectralClustering': 'kmeans', 'n_clusters___SpectralClustering': 19}\n",
      "Score obtained by this configuration: 0.510591069659629\n",
      "Fitting configuration: \n",
      "{'dim_reduction_choice': 'NullModel', 'n_clusters___KMeans': 4, 'random_state___NullModel': 2, 'clustering_choice': 'KMeans'}\n",
      "Score obtained by this configuration: 0.4901392444007044\n",
      "Fitting configuration: \n",
      "{'n_components___GaussianMixture': 69, 'covariance_type___GaussianMixture': 'diag', 'random_state___NullModel': 2, 'clustering_choice': 'GaussianMixture', 'warm_start___GaussianMixture': True, 'init_params___GaussianMixture': 'kmeans', 'dim_reduction_choice': 'NullModel'}\n",
      "Score obtained by this configuration: inf\n"
     ]
    },
    {
     "name": "stderr",
     "output_type": "stream",
     "text": [
      "WARNING:smac.tae.execute_func.ExecuteTAFuncDict:Target Algorithm returned NaN or inf as quality. Algorithm run is treated as CRASHED, cost is set to 2147483647.0 for quality scenarios. (Change value through \"cost_for_crash\"-option.)\n"
     ]
    },
    {
     "name": "stdout",
     "output_type": "stream",
     "text": [
      "Fitting configuration: \n",
      "{'linkage___AgglomerativeClustering': 'average', 'random_state___NullModel': 1, 'clustering_choice': 'AgglomerativeClustering', 'dim_reduction_choice': 'NullModel', 'affinity___AgglomerativeClustering': 'euclidean', 'n_clusters___AgglomerativeClustering': 11}\n",
      "Score obtained by this configuration: inf\n"
     ]
    },
    {
     "name": "stderr",
     "output_type": "stream",
     "text": [
      "WARNING:smac.tae.execute_func.ExecuteTAFuncDict:Target Algorithm returned NaN or inf as quality. Algorithm run is treated as CRASHED, cost is set to 2147483647.0 for quality scenarios. (Change value through \"cost_for_crash\"-option.)\n"
     ]
    },
    {
     "name": "stdout",
     "output_type": "stream",
     "text": [
      "Fitting configuration: \n",
      "{'eigen_solver___SpectralClustering': 'arpack', 'random_state___NullModel': 1, 'clustering_choice': 'SpectralClustering', 'affinity___SpectralClustering': 'nearest_neighbors', 'dim_reduction_choice': 'NullModel', 'assign_labels___SpectralClustering': 'discretize', 'n_clusters___SpectralClustering': 19}\n",
      "Score obtained by this configuration: 0.5108118103063176\n",
      "Fitting configuration: \n",
      "{'dim_reduction_choice': 'NullModel', 'n_clusters___Birch': 39, 'branching_factor___Birch': 564, 'clustering_choice': 'Birch'}\n",
      "Score obtained by this configuration: inf\n"
     ]
    },
    {
     "name": "stderr",
     "output_type": "stream",
     "text": [
      "WARNING:smac.tae.execute_func.ExecuteTAFuncDict:Target Algorithm returned NaN or inf as quality. Algorithm run is treated as CRASHED, cost is set to 2147483647.0 for quality scenarios. (Change value through \"cost_for_crash\"-option.)\n"
     ]
    },
    {
     "name": "stdout",
     "output_type": "stream",
     "text": [
      "Fitting configuration: \n",
      "{'eigen_solver___SpectralClustering': 'arpack', 'random_state___NullModel': 2, 'clustering_choice': 'SpectralClustering', 'affinity___SpectralClustering': 'nearest_neighbors', 'dim_reduction_choice': 'NullModel', 'assign_labels___SpectralClustering': 'kmeans', 'n_clusters___SpectralClustering': 1}\n",
      "Score obtained by this configuration: inf\n"
     ]
    },
    {
     "name": "stderr",
     "output_type": "stream",
     "text": [
      "WARNING:smac.tae.execute_func.ExecuteTAFuncDict:Target Algorithm returned NaN or inf as quality. Algorithm run is treated as CRASHED, cost is set to 2147483647.0 for quality scenarios. (Change value through \"cost_for_crash\"-option.)\n"
     ]
    },
    {
     "name": "stdout",
     "output_type": "stream",
     "text": [
      "Fitting configuration: \n",
      "{'eigen_solver___SpectralClustering': 'arpack', 'random_state___NullModel': 2, 'clustering_choice': 'SpectralClustering', 'affinity___SpectralClustering': 'nearest_neighbors', 'dim_reduction_choice': 'NullModel', 'assign_labels___SpectralClustering': 'kmeans', 'n_clusters___SpectralClustering': 3}\n",
      "Score obtained by this configuration: 0.49659515389155423\n",
      "Fitting configuration: \n",
      "{'eigen_solver___SpectralClustering': 'arpack', 'random_state___NullModel': 1, 'clustering_choice': 'SpectralClustering', 'affinity___SpectralClustering': 'nearest_neighbors', 'dim_reduction_choice': 'NullModel', 'assign_labels___SpectralClustering': 'kmeans', 'n_clusters___SpectralClustering': 22}\n",
      "Score obtained by this configuration: inf\n"
     ]
    },
    {
     "name": "stderr",
     "output_type": "stream",
     "text": [
      "WARNING:smac.tae.execute_func.ExecuteTAFuncDict:Target Algorithm returned NaN or inf as quality. Algorithm run is treated as CRASHED, cost is set to 2147483647.0 for quality scenarios. (Change value through \"cost_for_crash\"-option.)\n"
     ]
    },
    {
     "name": "stdout",
     "output_type": "stream",
     "text": [
      "Fitting configuration: \n",
      "{'eigen_solver___SpectralClustering': 'arpack', 'random_state___NullModel': 1, 'clustering_choice': 'SpectralClustering', 'affinity___SpectralClustering': 'nearest_neighbors', 'dim_reduction_choice': 'NullModel', 'assign_labels___SpectralClustering': 'kmeans', 'n_clusters___SpectralClustering': 21}\n",
      "Score obtained by this configuration: 0.5095701281925392\n",
      "Fitting configuration: \n",
      "{'eigen_solver___SpectralClustering': 'arpack', 'random_state___NullModel': 2, 'clustering_choice': 'SpectralClustering', 'affinity___SpectralClustering': 'nearest_neighbors', 'dim_reduction_choice': 'NullModel', 'assign_labels___SpectralClustering': 'discretize', 'n_clusters___SpectralClustering': 5}\n",
      "Score obtained by this configuration: 0.4976083658068305\n",
      "Fitting configuration: \n",
      "{'n_clusters___KMeans': 51, 'dim_reduction_choice': 'NullModel', 'clustering_choice': 'KMeans'}\n",
      "Score obtained by this configuration: inf\n"
     ]
    },
    {
     "name": "stderr",
     "output_type": "stream",
     "text": [
      "WARNING:smac.tae.execute_func.ExecuteTAFuncDict:Target Algorithm returned NaN or inf as quality. Algorithm run is treated as CRASHED, cost is set to 2147483647.0 for quality scenarios. (Change value through \"cost_for_crash\"-option.)\n"
     ]
    },
    {
     "name": "stdout",
     "output_type": "stream",
     "text": [
      "Fitting configuration: \n",
      "{'n_components___GaussianMixture': 43, 'covariance_type___GaussianMixture': 'diag', 'random_state___NullModel': 1, 'clustering_choice': 'GaussianMixture', 'init_params___GaussianMixture': 'random', 'dim_reduction_choice': 'NullModel'}\n",
      "Score obtained by this configuration: inf\n"
     ]
    },
    {
     "name": "stderr",
     "output_type": "stream",
     "text": [
      "WARNING:smac.tae.execute_func.ExecuteTAFuncDict:Target Algorithm returned NaN or inf as quality. Algorithm run is treated as CRASHED, cost is set to 2147483647.0 for quality scenarios. (Change value through \"cost_for_crash\"-option.)\n"
     ]
    },
    {
     "name": "stdout",
     "output_type": "stream",
     "text": [
      "Fitting configuration: \n",
      "{'eigen_solver___SpectralClustering': 'arpack', 'random_state___NullModel': 1, 'clustering_choice': 'SpectralClustering', 'affinity___SpectralClustering': 'nearest_neighbors', 'dim_reduction_choice': 'NullModel', 'assign_labels___SpectralClustering': 'discretize', 'n_clusters___SpectralClustering': 5}\n",
      "Score obtained by this configuration: 0.49694365644843125\n",
      "Fitting configuration: \n",
      "{'batch_size___MiniBatchKMeans': 53, 'dim_reduction_choice': 'NullModel', 'clustering_choice': 'MiniBatchKMeans', 'n_clusters___MiniBatchKMeans': 22}\n",
      "Score obtained by this configuration: inf\n"
     ]
    },
    {
     "name": "stderr",
     "output_type": "stream",
     "text": [
      "WARNING:smac.tae.execute_func.ExecuteTAFuncDict:Target Algorithm returned NaN or inf as quality. Algorithm run is treated as CRASHED, cost is set to 2147483647.0 for quality scenarios. (Change value through \"cost_for_crash\"-option.)\n"
     ]
    },
    {
     "name": "stdout",
     "output_type": "stream",
     "text": [
      "Optimization is complete.\n",
      "Took 118.64 seconds.\n",
      "The optimal configuration is \n",
      "Configuration:\n",
      "  affinity___SpectralClustering, Value: 'nearest_neighbors'\n",
      "  assign_labels___SpectralClustering, Value: 'discretize'\n",
      "  clustering_choice, Value: 'SpectralClustering'\n",
      "  dim_reduction_choice, Value: 'NullModel'\n",
      "  eigen_solver___SpectralClustering, Value: 'arpack'\n",
      "  n_clusters___SpectralClustering, Value: 2\n",
      "  random_state___NullModel, Value: 0\n",
      "\n"
     ]
    }
   ],
   "source": [
    "cluster = AutoCluster()\n",
    "fit_params = {\n",
    "    \"df\": X, \n",
    "    \"cluster_alg_ls\": [\n",
    "        'KMeans', 'GaussianMixture', 'Birch', \n",
    "        'MiniBatchKMeans', 'AgglomerativeClustering', 'SpectralClustering'\n",
    "    ], \n",
    "    \"dim_reduction_alg_ls\": [\n",
    "        'NullModel'\n",
    "        'PCA', 'IncrementalPCA', \n",
    "        'KernelPCA', 'FastICA', 'TruncatedSVD'\n",
    "    ],\n",
    "    \"optimizer\": 'smac',\n",
    "    \"n_evaluations\": 100,\n",
    "    \"run_obj\": 'quality',\n",
    "    \"seed\": 27,\n",
    "    \"cutoff_time\": 180,\n",
    "    \"preprocess_dict\": {\n",
    "        \"numeric_cols\": [str(i) for i in range(64)],\n",
    "        \"categorical_cols\": [],\n",
    "        \"ordinal_cols\": [],\n",
    "        \"y_col\": []\n",
    "    },\n",
    "    \"evaluator\": get_evaluator(evaluator_ls = ['silhouetteScore'], \n",
    "                               weights = [], clustering_num = None, \n",
    "                               min_proportion = .01),\n",
    "    \"n_folds\": 3,\n",
    "    \"warmstart\": True,\n",
    "    \"warmstart_datasets_dir\": 'benchmark_silhouette',\n",
    "    \"warmstart_metafeatures_table_path\": 'metaknowledge/benchmark_silhouette_metafeatures_table.csv',\n",
    "    \"warmstart_n_neighbors\": 10,\n",
    "    \"warmstart_top_n\": 3,\n",
    "    \"general_metafeatures\": MetafeatureMapper.getGeneralMetafeatures(),\n",
    "    \"numeric_metafeatures\": MetafeatureMapper.getNumericMetafeatures(),\n",
    "    \"categorical_metafeatures\": [],\n",
    "    \"verbose_level\": 1,\n",
    "}\n",
    "result_dict = cluster.fit(**fit_params)"
   ]
  },
  {
   "cell_type": "code",
   "execution_count": 31,
   "metadata": {},
   "outputs": [
    {
     "name": "stdout",
     "output_type": "stream",
     "text": [
      "performing TSNE\n"
     ]
    },
    {
     "data": {
      "image/png": "[encoded data removed]",
      "text/plain": [
       "<Figure size 720x720 with 1 Axes>"
      ]
     },
     "metadata": {
      "needs_background": "dark"
     },
     "output_type": "display_data"
    }
   ],
   "source": [
    "predictions = cluster.predict(df)"
   ]
  },
  {
   "cell_type": "code",
   "execution_count": 32,
   "metadata": {},
   "outputs": [
    {
     "data": {
      "text/plain": [
       "Counter({0: 619, 1: 549})"
      ]
     },
     "execution_count": 32,
     "metadata": {},
     "output_type": "execute_result"
    }
   ],
   "source": [
    "Counter(predictions)"
   ]
  },
  {
   "cell_type": "code",
   "execution_count": 33,
   "metadata": {},
   "outputs": [
    {
     "data": {
      "text/plain": [
       "0.008610321031193859"
      ]
     },
     "execution_count": 33,
     "metadata": {},
     "output_type": "execute_result"
    }
   ],
   "source": [
    "v_measure_score(predictions, y)"
   ]
  },
  {
   "cell_type": "markdown",
   "metadata": {},
   "source": [
    "These results are pretty horrendous.\n",
    "\n",
    "I'm guessing the reason for these horrendous results is because the good results are getting timeouts"
   ]
  },
  {
   "cell_type": "markdown",
   "metadata": {},
   "source": [
    "### Experiment 2:\n",
    "\n",
    "Research Question:\n",
    "Does TSNE help us handle non-convex, clustering better?\n",
    "\n",
    "The noisy moons is an excellent toy dataset for testing the algorithms performance agaisnt non-convex data\n",
    "\n",
    "- For the output of noisy moons, classify and label each moon. These will be the ground truth for v_measure eval\n",
    "- Run the algorithm, with TSNE, for 200 iterations, on the dataset\n",
    "- check the v measure score\n",
    "- Run the algorithm without TSNE, for 200 iterations, on the dataset\n",
    "- check the v measure score\n",
    "- Make note of the time taken, may be useful in the future when evaluating whether increased timecost is worthwhile\n",
    "\n",
    "if the TSNE improves v measure score, then TSNE contributes to improved clustering\n",
    "if it has no effect, it is unnecessary cost\n",
    "if it makes it worse, the heuristic we are giving the algorithm causes the dimension reduction that warp the clusters\n",
    "\n",
    "due to many of these processes being random, we may need to run multiple times\n",
    "\n",
    "We may repeat this for evaluation heuristics that value continuity, as suggested by prof. ottos"
   ]
  },
  {
   "cell_type": "code",
   "execution_count": 1,
   "metadata": {},
   "outputs": [],
   "source": [
    "import os\n",
    "\n",
    "# change working directory, run this cell once\n",
    "os.chdir(\"../\")"
   ]
  },
  {
   "cell_type": "code",
   "execution_count": 2,
   "metadata": {},
   "outputs": [],
   "source": [
    "# we will be using sample datasets in sklearn\n",
    "from sklearn import datasets, cluster\n",
    "from collections import Counter\n",
    "import pandas as pd\n",
    "\n",
    "# autocluster functionalities\n",
    "from autocluster import AutoCluster\n",
    "from evaluators import get_evaluator\n",
    "from utils.metafeatures import MetafeatureMapper\n",
    "\n",
    "%load_ext autoreload\n",
    "%autoreload 2"
   ]
  },
  {
   "cell_type": "code",
   "execution_count": 8,
   "metadata": {},
   "outputs": [
    {
     "data": {
      "text/html": [
       "<div>\n",
       "<style scoped>\n",
       "    .dataframe tbody tr th:only-of-type {\n",
       "        vertical-align: middle;\n",
       "    }\n",
       "\n",
       "    .dataframe tbody tr th {\n",
       "        vertical-align: top;\n",
       "    }\n",
       "\n",
       "    .dataframe thead th {\n",
       "        text-align: right;\n",
       "    }\n",
       "</style>\n",
       "<table border=\"1\" class=\"dataframe\">\n",
       "  <thead>\n",
       "    <tr style=\"text-align: right;\">\n",
       "      <th></th>\n",
       "      <th>0</th>\n",
       "      <th>1</th>\n",
       "    </tr>\n",
       "  </thead>\n",
       "  <tbody>\n",
       "    <tr>\n",
       "      <th>0</th>\n",
       "      <td>1.064207</td>\n",
       "      <td>-0.542808</td>\n",
       "    </tr>\n",
       "    <tr>\n",
       "      <th>1</th>\n",
       "      <td>1.119585</td>\n",
       "      <td>-0.420220</td>\n",
       "    </tr>\n",
       "    <tr>\n",
       "      <th>2</th>\n",
       "      <td>1.030609</td>\n",
       "      <td>0.230317</td>\n",
       "    </tr>\n",
       "    <tr>\n",
       "      <th>3</th>\n",
       "      <td>0.902470</td>\n",
       "      <td>0.287562</td>\n",
       "    </tr>\n",
       "    <tr>\n",
       "      <th>4</th>\n",
       "      <td>-1.013513</td>\n",
       "      <td>0.294588</td>\n",
       "    </tr>\n",
       "  </tbody>\n",
       "</table>\n",
       "</div>"
      ],
      "text/plain": [
       "          0         1\n",
       "0  1.064207 -0.542808\n",
       "1  1.119585 -0.420220\n",
       "2  1.030609  0.230317\n",
       "3  0.902470  0.287562\n",
       "4 -1.013513  0.294588"
      ]
     },
     "execution_count": 8,
     "metadata": {},
     "output_type": "execute_result"
    }
   ],
   "source": [
    "X,y = datasets.make_moons(n_samples=1000, noise=.05, random_state=27)\n",
    "\n",
    "dummy_df = pd.DataFrame(y)\n",
    "dummy_df.head(5)\n",
    "dummy_df = pd.DataFrame(X)\n",
    "dummy_df.head(5)"
   ]
  },
  {
   "cell_type": "code",
   "execution_count": 9,
   "metadata": {},
   "outputs": [
    {
     "name": "stdout",
     "output_type": "stream",
     "text": [
      "Shape of this dataframe is (1000, 2)\n"
     ]
    }
   ],
   "source": [
    "print(\"Shape of this dataframe is {}\".format(dummy_df.shape))"
   ]
  },
  {
   "cell_type": "code",
   "execution_count": 12,
   "metadata": {},
   "outputs": [
    {
     "name": "stdout",
     "output_type": "stream",
     "text": [
      "900/1000 datapoints remaining after outlier removal\n",
      "Truncated n_evaluations: 150\n",
      "Fitting configuration: \n",
      "{'dim_reduction_choice': 'NullModel', 'n_clusters___KMeans': 5, 'clustering_choice': 'KMeans', 'random_state___NullModel': 1}\n",
      "Score obtained by this configuration: 0.29738815089379317\n",
      "Fitting configuration: \n",
      "{'n_clusters___MiniBatchKMeans': 13, 'batch_size___MiniBatchKMeans': 958, 'dim_reduction_choice': 'NullModel', 'clustering_choice': 'MiniBatchKMeans', 'random_state___NullModel': 2}\n",
      "Score obtained by this configuration: 0.24446478434262067\n",
      "Fitting configuration: \n",
      "{'dim_reduction_choice': 'NullModel', 'init_params___GaussianMixture': 'kmeans', 'covariance_type___GaussianMixture': 'spherical', 'n_components___GaussianMixture': 60, 'clustering_choice': 'GaussianMixture'}\n",
      "Score obtained by this configuration: inf\n"
     ]
    },
    {
     "name": "stderr",
     "output_type": "stream",
     "text": [
      "WARNING:smac.tae.execute_func.ExecuteTAFuncDict:Target Algorithm returned NaN or inf as quality. Algorithm run is treated as CRASHED, cost is set to 2147483647.0 for quality scenarios. (Change value through \"cost_for_crash\"-option.)\n"
     ]
    },
    {
     "name": "stdout",
     "output_type": "stream",
     "text": [
      "Fitting configuration: \n",
      "{'n_clusters___MiniBatchKMeans': 2, 'batch_size___MiniBatchKMeans': 969, 'dim_reduction_choice': 'NullModel', 'clustering_choice': 'MiniBatchKMeans', 'random_state___NullModel': 1}\n",
      "Score obtained by this configuration: 0.3015639113538986\n",
      "Fitting configuration: \n",
      "{'dim_reduction_choice': 'NullModel', 'n_clusters___KMeans': 7, 'clustering_choice': 'KMeans', 'random_state___NullModel': 2}\n",
      "Score obtained by this configuration: 0.25580731687708486\n",
      "Fitting configuration: \n",
      "{'n_clusters___MiniBatchKMeans': 19, 'batch_size___MiniBatchKMeans': 250, 'dim_reduction_choice': 'NullModel', 'clustering_choice': 'MiniBatchKMeans', 'random_state___NullModel': 1}\n",
      "Score obtained by this configuration: 0.2565570224630112\n",
      "Fitting configuration: \n",
      "{'dim_reduction_choice': 'NullModel', 'n_clusters___KMeans': 25, 'clustering_choice': 'KMeans', 'random_state___NullModel': 1}\n",
      "Score obtained by this configuration: 0.2651251625465206\n",
      "Fitting configuration: \n",
      "{'dim_reduction_choice': 'NullModel', 'n_clusters___KMeans': 56, 'clustering_choice': 'KMeans', 'random_state___NullModel': 1}\n",
      "Score obtained by this configuration: inf\n"
     ]
    },
    {
     "name": "stderr",
     "output_type": "stream",
     "text": [
      "WARNING:smac.tae.execute_func.ExecuteTAFuncDict:Target Algorithm returned NaN or inf as quality. Algorithm run is treated as CRASHED, cost is set to 2147483647.0 for quality scenarios. (Change value through \"cost_for_crash\"-option.)\n"
     ]
    },
    {
     "name": "stdout",
     "output_type": "stream",
     "text": [
      "Fitting configuration: \n",
      "{'dim_reduction_choice': 'NullModel', 'n_clusters___KMeans': 80, 'clustering_choice': 'KMeans', 'random_state___NullModel': 2}\n",
      "Score obtained by this configuration: inf\n"
     ]
    },
    {
     "name": "stderr",
     "output_type": "stream",
     "text": [
      "WARNING:smac.tae.execute_func.ExecuteTAFuncDict:Target Algorithm returned NaN or inf as quality. Algorithm run is treated as CRASHED, cost is set to 2147483647.0 for quality scenarios. (Change value through \"cost_for_crash\"-option.)\n"
     ]
    },
    {
     "name": "stdout",
     "output_type": "stream",
     "text": [
      "Fitting configuration: \n",
      "{'n_clusters___MiniBatchKMeans': 69, 'batch_size___MiniBatchKMeans': 864, 'dim_reduction_choice': 'NullModel', 'clustering_choice': 'MiniBatchKMeans', 'random_state___NullModel': 1}\n",
      "Score obtained by this configuration: inf\n"
     ]
    },
    {
     "name": "stderr",
     "output_type": "stream",
     "text": [
      "WARNING:smac.tae.execute_func.ExecuteTAFuncDict:Target Algorithm returned NaN or inf as quality. Algorithm run is treated as CRASHED, cost is set to 2147483647.0 for quality scenarios. (Change value through \"cost_for_crash\"-option.)\n"
     ]
    },
    {
     "name": "stdout",
     "output_type": "stream",
     "text": [
      "Fitting configuration: \n",
      "{'n_clusters___MiniBatchKMeans': 65, 'batch_size___MiniBatchKMeans': 850, 'dim_reduction_choice': 'NullModel', 'clustering_choice': 'MiniBatchKMeans', 'random_state___NullModel': 1}\n",
      "Score obtained by this configuration: inf\n"
     ]
    },
    {
     "name": "stderr",
     "output_type": "stream",
     "text": [
      "WARNING:smac.tae.execute_func.ExecuteTAFuncDict:Target Algorithm returned NaN or inf as quality. Algorithm run is treated as CRASHED, cost is set to 2147483647.0 for quality scenarios. (Change value through \"cost_for_crash\"-option.)\n"
     ]
    },
    {
     "name": "stdout",
     "output_type": "stream",
     "text": [
      "Fitting configuration: \n",
      "{'dim_reduction_choice': 'NullModel', 'n_clusters___KMeans': 1, 'clustering_choice': 'KMeans', 'random_state___NullModel': 2}\n",
      "Score obtained by this configuration: inf\n"
     ]
    },
    {
     "name": "stderr",
     "output_type": "stream",
     "text": [
      "WARNING:smac.tae.execute_func.ExecuteTAFuncDict:Target Algorithm returned NaN or inf as quality. Algorithm run is treated as CRASHED, cost is set to 2147483647.0 for quality scenarios. (Change value through \"cost_for_crash\"-option.)\n"
     ]
    },
    {
     "name": "stdout",
     "output_type": "stream",
     "text": [
      "Fitting configuration: \n",
      "{'dim_reduction_choice': 'NullModel', 'n_clusters___KMeans': 4, 'clustering_choice': 'KMeans', 'random_state___NullModel': 2}\n",
      "Score obtained by this configuration: 0.32615331982467016\n",
      "Fitting configuration: \n",
      "{'dim_reduction_choice': 'NullModel', 'covariance_type___GaussianMixture': 'tied', 'random_state___NullModel': 2, 'init_params___GaussianMixture': 'kmeans', 'n_components___GaussianMixture': 24, 'clustering_choice': 'GaussianMixture'}\n",
      "Score obtained by this configuration: 0.2654116676876534\n",
      "Fitting configuration: \n",
      "{'dim_reduction_choice': 'NullModel', 'init_params___GaussianMixture': 'kmeans', 'covariance_type___GaussianMixture': 'tied', 'n_components___GaussianMixture': 30, 'clustering_choice': 'GaussianMixture'}\n",
      "Score obtained by this configuration: inf\n"
     ]
    },
    {
     "name": "stderr",
     "output_type": "stream",
     "text": [
      "WARNING:smac.tae.execute_func.ExecuteTAFuncDict:Target Algorithm returned NaN or inf as quality. Algorithm run is treated as CRASHED, cost is set to 2147483647.0 for quality scenarios. (Change value through \"cost_for_crash\"-option.)\n"
     ]
    },
    {
     "name": "stdout",
     "output_type": "stream",
     "text": [
      "Fitting configuration: \n",
      "{'warm_start___GaussianMixture': True, 'dim_reduction_choice': 'NullModel', 'n_components___GaussianMixture': 67, 'random_state___NullModel': 2, 'init_params___GaussianMixture': 'random', 'covariance_type___GaussianMixture': 'spherical', 'clustering_choice': 'GaussianMixture'}\n",
      "Score obtained by this configuration: inf\n"
     ]
    },
    {
     "name": "stderr",
     "output_type": "stream",
     "text": [
      "WARNING:smac.tae.execute_func.ExecuteTAFuncDict:Target Algorithm returned NaN or inf as quality. Algorithm run is treated as CRASHED, cost is set to 2147483647.0 for quality scenarios. (Change value through \"cost_for_crash\"-option.)\n"
     ]
    },
    {
     "name": "stdout",
     "output_type": "stream",
     "text": [
      "Fitting configuration: \n",
      "{'n_clusters___MiniBatchKMeans': 35, 'batch_size___MiniBatchKMeans': 664, 'dim_reduction_choice': 'NullModel', 'clustering_choice': 'MiniBatchKMeans', 'random_state___NullModel': 2}\n",
      "Score obtained by this configuration: 0.28282434909425985\n",
      "Fitting configuration: \n",
      "{'dim_reduction_choice': 'NullModel', 'n_clusters___KMeans': 16, 'clustering_choice': 'KMeans', 'random_state___NullModel': 2}\n",
      "Score obtained by this configuration: 0.24761368698853914\n",
      "Fitting configuration: \n",
      "{'dim_reduction_choice': 'NullModel', 'n_clusters___KMeans': 53, 'clustering_choice': 'KMeans'}\n",
      "Score obtained by this configuration: inf\n"
     ]
    },
    {
     "name": "stderr",
     "output_type": "stream",
     "text": [
      "WARNING:smac.tae.execute_func.ExecuteTAFuncDict:Target Algorithm returned NaN or inf as quality. Algorithm run is treated as CRASHED, cost is set to 2147483647.0 for quality scenarios. (Change value through \"cost_for_crash\"-option.)\n"
     ]
    },
    {
     "name": "stdout",
     "output_type": "stream",
     "text": [
      "Fitting configuration: \n",
      "{'dim_reduction_choice': 'NullModel', 'covariance_type___GaussianMixture': 'spherical', 'random_state___NullModel': 1, 'init_params___GaussianMixture': 'random', 'n_components___GaussianMixture': 53, 'clustering_choice': 'GaussianMixture'}\n",
      "Score obtained by this configuration: inf\n"
     ]
    },
    {
     "name": "stderr",
     "output_type": "stream",
     "text": [
      "WARNING:smac.tae.execute_func.ExecuteTAFuncDict:Target Algorithm returned NaN or inf as quality. Algorithm run is treated as CRASHED, cost is set to 2147483647.0 for quality scenarios. (Change value through \"cost_for_crash\"-option.)\n"
     ]
    },
    {
     "name": "stdout",
     "output_type": "stream",
     "text": [
      "Fitting configuration: \n",
      "{'dim_reduction_choice': 'NullModel', 'covariance_type___GaussianMixture': 'spherical', 'random_state___NullModel': 1, 'init_params___GaussianMixture': 'kmeans', 'n_components___GaussianMixture': 4, 'clustering_choice': 'GaussianMixture'}\n",
      "Score obtained by this configuration: 0.33026643906185355\n",
      "Fitting configuration: \n",
      "{'n_clusters___MiniBatchKMeans': 8, 'batch_size___MiniBatchKMeans': 82, 'dim_reduction_choice': 'NullModel', 'clustering_choice': 'MiniBatchKMeans', 'random_state___NullModel': 2}\n",
      "Score obtained by this configuration: 0.2593561094865407\n",
      "Fitting configuration: \n",
      "{'n_clusters___MiniBatchKMeans': 55, 'batch_size___MiniBatchKMeans': 168, 'dim_reduction_choice': 'NullModel', 'clustering_choice': 'MiniBatchKMeans', 'random_state___NullModel': 1}\n",
      "Score obtained by this configuration: inf\n"
     ]
    },
    {
     "name": "stderr",
     "output_type": "stream",
     "text": [
      "WARNING:smac.tae.execute_func.ExecuteTAFuncDict:Target Algorithm returned NaN or inf as quality. Algorithm run is treated as CRASHED, cost is set to 2147483647.0 for quality scenarios. (Change value through \"cost_for_crash\"-option.)\n"
     ]
    },
    {
     "name": "stdout",
     "output_type": "stream",
     "text": [
      "Fitting configuration: \n",
      "{'n_clusters___MiniBatchKMeans': 6, 'batch_size___MiniBatchKMeans': 711, 'dim_reduction_choice': 'NullModel', 'clustering_choice': 'MiniBatchKMeans'}\n",
      "Score obtained by this configuration: 0.28349899156830705\n",
      "Fitting configuration: \n",
      "{'dim_reduction_choice': 'NullModel', 'covariance_type___GaussianMixture': 'full', 'random_state___NullModel': 2, 'init_params___GaussianMixture': 'kmeans', 'n_components___GaussianMixture': 1, 'clustering_choice': 'GaussianMixture'}\n",
      "Score obtained by this configuration: inf\n"
     ]
    },
    {
     "name": "stderr",
     "output_type": "stream",
     "text": [
      "WARNING:smac.tae.execute_func.ExecuteTAFuncDict:Target Algorithm returned NaN or inf as quality. Algorithm run is treated as CRASHED, cost is set to 2147483647.0 for quality scenarios. (Change value through \"cost_for_crash\"-option.)\n"
     ]
    },
    {
     "name": "stdout",
     "output_type": "stream",
     "text": [
      "Fitting configuration: \n",
      "{'dim_reduction_choice': 'NullModel', 'n_clusters___KMeans': 79, 'clustering_choice': 'KMeans', 'random_state___NullModel': 2}\n",
      "Score obtained by this configuration: inf\n"
     ]
    },
    {
     "name": "stderr",
     "output_type": "stream",
     "text": [
      "WARNING:smac.tae.execute_func.ExecuteTAFuncDict:Target Algorithm returned NaN or inf as quality. Algorithm run is treated as CRASHED, cost is set to 2147483647.0 for quality scenarios. (Change value through \"cost_for_crash\"-option.)\n"
     ]
    },
    {
     "name": "stdout",
     "output_type": "stream",
     "text": [
      "Fitting configuration: \n",
      "{'n_clusters___MiniBatchKMeans': 24, 'batch_size___MiniBatchKMeans': 153, 'dim_reduction_choice': 'NullModel', 'clustering_choice': 'MiniBatchKMeans', 'random_state___NullModel': 2}\n",
      "Score obtained by this configuration: 0.26712473227316574\n",
      "Fitting configuration: \n",
      "{'dim_reduction_choice': 'NullModel', 'n_clusters___KMeans': 52, 'clustering_choice': 'KMeans', 'random_state___NullModel': 2}\n",
      "Score obtained by this configuration: inf\n"
     ]
    },
    {
     "name": "stderr",
     "output_type": "stream",
     "text": [
      "WARNING:smac.tae.execute_func.ExecuteTAFuncDict:Target Algorithm returned NaN or inf as quality. Algorithm run is treated as CRASHED, cost is set to 2147483647.0 for quality scenarios. (Change value through \"cost_for_crash\"-option.)\n"
     ]
    },
    {
     "name": "stdout",
     "output_type": "stream",
     "text": [
      "Fitting configuration: \n",
      "{'n_clusters___MiniBatchKMeans': 11, 'batch_size___MiniBatchKMeans': 76, 'dim_reduction_choice': 'NullModel', 'clustering_choice': 'MiniBatchKMeans', 'random_state___NullModel': 1}\n",
      "Score obtained by this configuration: 0.2479377749634142\n",
      "Fitting configuration: \n",
      "{'n_clusters___MiniBatchKMeans': 57, 'batch_size___MiniBatchKMeans': 417, 'dim_reduction_choice': 'NullModel', 'clustering_choice': 'MiniBatchKMeans'}\n",
      "Score obtained by this configuration: inf\n"
     ]
    },
    {
     "name": "stderr",
     "output_type": "stream",
     "text": [
      "WARNING:smac.tae.execute_func.ExecuteTAFuncDict:Target Algorithm returned NaN or inf as quality. Algorithm run is treated as CRASHED, cost is set to 2147483647.0 for quality scenarios. (Change value through \"cost_for_crash\"-option.)\n"
     ]
    },
    {
     "name": "stdout",
     "output_type": "stream",
     "text": [
      "Fitting configuration: \n",
      "{'n_clusters___MiniBatchKMeans': 43, 'batch_size___MiniBatchKMeans': 83, 'dim_reduction_choice': 'NullModel', 'clustering_choice': 'MiniBatchKMeans', 'random_state___NullModel': 2}\n",
      "Score obtained by this configuration: inf\n"
     ]
    },
    {
     "name": "stderr",
     "output_type": "stream",
     "text": [
      "WARNING:smac.tae.execute_func.ExecuteTAFuncDict:Target Algorithm returned NaN or inf as quality. Algorithm run is treated as CRASHED, cost is set to 2147483647.0 for quality scenarios. (Change value through \"cost_for_crash\"-option.)\n"
     ]
    },
    {
     "name": "stdout",
     "output_type": "stream",
     "text": [
      "Fitting configuration: \n",
      "{'n_clusters___MiniBatchKMeans': 38, 'batch_size___MiniBatchKMeans': 661, 'dim_reduction_choice': 'NullModel', 'clustering_choice': 'MiniBatchKMeans', 'random_state___NullModel': 1}\n",
      "Score obtained by this configuration: 0.29277968280598715\n",
      "Fitting configuration: \n",
      "{'n_clusters___MiniBatchKMeans': 38, 'batch_size___MiniBatchKMeans': 777, 'dim_reduction_choice': 'NullModel', 'clustering_choice': 'MiniBatchKMeans', 'random_state___NullModel': 2}\n",
      "Score obtained by this configuration: inf\n"
     ]
    },
    {
     "name": "stderr",
     "output_type": "stream",
     "text": [
      "WARNING:smac.tae.execute_func.ExecuteTAFuncDict:Target Algorithm returned NaN or inf as quality. Algorithm run is treated as CRASHED, cost is set to 2147483647.0 for quality scenarios. (Change value through \"cost_for_crash\"-option.)\n"
     ]
    },
    {
     "name": "stdout",
     "output_type": "stream",
     "text": [
      "Fitting configuration: \n",
      "{'n_clusters___MiniBatchKMeans': 7, 'batch_size___MiniBatchKMeans': 467, 'dim_reduction_choice': 'NullModel', 'clustering_choice': 'MiniBatchKMeans'}\n",
      "Score obtained by this configuration: 0.26015073178333076\n",
      "Fitting configuration: \n",
      "{'dim_reduction_choice': 'NullModel', 'covariance_type___GaussianMixture': 'tied', 'random_state___NullModel': 2, 'init_params___GaussianMixture': 'kmeans', 'n_components___GaussianMixture': 32, 'clustering_choice': 'GaussianMixture'}\n",
      "Score obtained by this configuration: inf\n"
     ]
    },
    {
     "name": "stderr",
     "output_type": "stream",
     "text": [
      "WARNING:smac.tae.execute_func.ExecuteTAFuncDict:Target Algorithm returned NaN or inf as quality. Algorithm run is treated as CRASHED, cost is set to 2147483647.0 for quality scenarios. (Change value through \"cost_for_crash\"-option.)\n"
     ]
    },
    {
     "name": "stdout",
     "output_type": "stream",
     "text": [
      "Fitting configuration: \n",
      "{'dim_reduction_choice': 'NullModel', 'n_clusters___KMeans': 29, 'clustering_choice': 'KMeans'}\n",
      "Score obtained by this configuration: 0.27192299147371884\n",
      "Fitting configuration: \n",
      "{'n_clusters___MiniBatchKMeans': 36, 'batch_size___MiniBatchKMeans': 230, 'dim_reduction_choice': 'NullModel', 'clustering_choice': 'MiniBatchKMeans'}\n",
      "Score obtained by this configuration: inf\n"
     ]
    },
    {
     "name": "stderr",
     "output_type": "stream",
     "text": [
      "WARNING:smac.tae.execute_func.ExecuteTAFuncDict:Target Algorithm returned NaN or inf as quality. Algorithm run is treated as CRASHED, cost is set to 2147483647.0 for quality scenarios. (Change value through \"cost_for_crash\"-option.)\n"
     ]
    },
    {
     "name": "stdout",
     "output_type": "stream",
     "text": [
      "Fitting configuration: \n",
      "{'dim_reduction_choice': 'NullModel', 'n_clusters___KMeans': 73, 'clustering_choice': 'KMeans', 'random_state___NullModel': 2}\n",
      "Score obtained by this configuration: inf\n"
     ]
    },
    {
     "name": "stderr",
     "output_type": "stream",
     "text": [
      "WARNING:smac.tae.execute_func.ExecuteTAFuncDict:Target Algorithm returned NaN or inf as quality. Algorithm run is treated as CRASHED, cost is set to 2147483647.0 for quality scenarios. (Change value through \"cost_for_crash\"-option.)\n"
     ]
    },
    {
     "name": "stdout",
     "output_type": "stream",
     "text": [
      "Fitting configuration: \n",
      "{'dim_reduction_choice': 'NullModel', 'n_clusters___KMeans': 61, 'clustering_choice': 'KMeans'}\n",
      "Score obtained by this configuration: inf\n"
     ]
    },
    {
     "name": "stderr",
     "output_type": "stream",
     "text": [
      "WARNING:smac.tae.execute_func.ExecuteTAFuncDict:Target Algorithm returned NaN or inf as quality. Algorithm run is treated as CRASHED, cost is set to 2147483647.0 for quality scenarios. (Change value through \"cost_for_crash\"-option.)\n"
     ]
    },
    {
     "name": "stdout",
     "output_type": "stream",
     "text": [
      "Fitting configuration: \n",
      "{'n_clusters___MiniBatchKMeans': 34, 'batch_size___MiniBatchKMeans': 447, 'dim_reduction_choice': 'NullModel', 'clustering_choice': 'MiniBatchKMeans', 'random_state___NullModel': 2}\n",
      "Score obtained by this configuration: inf\n"
     ]
    },
    {
     "name": "stderr",
     "output_type": "stream",
     "text": [
      "WARNING:smac.tae.execute_func.ExecuteTAFuncDict:Target Algorithm returned NaN or inf as quality. Algorithm run is treated as CRASHED, cost is set to 2147483647.0 for quality scenarios. (Change value through \"cost_for_crash\"-option.)\n"
     ]
    },
    {
     "name": "stdout",
     "output_type": "stream",
     "text": [
      "Fitting configuration: \n",
      "{'n_clusters___MiniBatchKMeans': 35, 'batch_size___MiniBatchKMeans': 479, 'dim_reduction_choice': 'NullModel', 'clustering_choice': 'MiniBatchKMeans', 'random_state___NullModel': 2}\n",
      "Score obtained by this configuration: inf\n"
     ]
    },
    {
     "name": "stderr",
     "output_type": "stream",
     "text": [
      "WARNING:smac.tae.execute_func.ExecuteTAFuncDict:Target Algorithm returned NaN or inf as quality. Algorithm run is treated as CRASHED, cost is set to 2147483647.0 for quality scenarios. (Change value through \"cost_for_crash\"-option.)\n"
     ]
    },
    {
     "name": "stdout",
     "output_type": "stream",
     "text": [
      "Fitting configuration: \n",
      "{'warm_start___GaussianMixture': True, 'dim_reduction_choice': 'NullModel', 'covariance_type___GaussianMixture': 'full', 'init_params___GaussianMixture': 'kmeans', 'n_components___GaussianMixture': 73, 'clustering_choice': 'GaussianMixture'}\n",
      "Score obtained by this configuration: inf\n"
     ]
    },
    {
     "name": "stderr",
     "output_type": "stream",
     "text": [
      "WARNING:smac.tae.execute_func.ExecuteTAFuncDict:Target Algorithm returned NaN or inf as quality. Algorithm run is treated as CRASHED, cost is set to 2147483647.0 for quality scenarios. (Change value through \"cost_for_crash\"-option.)\n"
     ]
    },
    {
     "name": "stdout",
     "output_type": "stream",
     "text": [
      "Fitting configuration: \n",
      "{'warm_start___GaussianMixture': True, 'dim_reduction_choice': 'NullModel', 'n_components___GaussianMixture': 79, 'random_state___NullModel': 2, 'init_params___GaussianMixture': 'kmeans', 'covariance_type___GaussianMixture': 'tied', 'clustering_choice': 'GaussianMixture'}\n",
      "Score obtained by this configuration: inf\n"
     ]
    },
    {
     "name": "stderr",
     "output_type": "stream",
     "text": [
      "WARNING:smac.tae.execute_func.ExecuteTAFuncDict:Target Algorithm returned NaN or inf as quality. Algorithm run is treated as CRASHED, cost is set to 2147483647.0 for quality scenarios. (Change value through \"cost_for_crash\"-option.)\n"
     ]
    },
    {
     "name": "stdout",
     "output_type": "stream",
     "text": [
      "Fitting configuration: \n",
      "{'n_clusters___MiniBatchKMeans': 25, 'batch_size___MiniBatchKMeans': 64, 'dim_reduction_choice': 'NullModel', 'clustering_choice': 'MiniBatchKMeans'}\n",
      "Score obtained by this configuration: 0.2701839457939104\n",
      "Fitting configuration: \n",
      "{'n_clusters___MiniBatchKMeans': 25, 'batch_size___MiniBatchKMeans': 27, 'dim_reduction_choice': 'NullModel', 'clustering_choice': 'MiniBatchKMeans', 'random_state___NullModel': 1}\n",
      "Score obtained by this configuration: inf\n"
     ]
    },
    {
     "name": "stderr",
     "output_type": "stream",
     "text": [
      "WARNING:smac.tae.execute_func.ExecuteTAFuncDict:Target Algorithm returned NaN or inf as quality. Algorithm run is treated as CRASHED, cost is set to 2147483647.0 for quality scenarios. (Change value through \"cost_for_crash\"-option.)\n"
     ]
    },
    {
     "name": "stdout",
     "output_type": "stream",
     "text": [
      "Fitting configuration: \n",
      "{'dim_reduction_choice': 'NullModel', 'n_clusters___KMeans': 33, 'clustering_choice': 'KMeans', 'random_state___NullModel': 1}\n",
      "Score obtained by this configuration: inf\n"
     ]
    },
    {
     "name": "stderr",
     "output_type": "stream",
     "text": [
      "WARNING:smac.tae.execute_func.ExecuteTAFuncDict:Target Algorithm returned NaN or inf as quality. Algorithm run is treated as CRASHED, cost is set to 2147483647.0 for quality scenarios. (Change value through \"cost_for_crash\"-option.)\n"
     ]
    },
    {
     "name": "stdout",
     "output_type": "stream",
     "text": [
      "Fitting configuration: \n",
      "{'dim_reduction_choice': 'NullModel', 'init_params___GaussianMixture': 'kmeans', 'covariance_type___GaussianMixture': 'full', 'n_components___GaussianMixture': 37, 'clustering_choice': 'GaussianMixture'}\n",
      "Score obtained by this configuration: inf\n"
     ]
    },
    {
     "name": "stderr",
     "output_type": "stream",
     "text": [
      "WARNING:smac.tae.execute_func.ExecuteTAFuncDict:Target Algorithm returned NaN or inf as quality. Algorithm run is treated as CRASHED, cost is set to 2147483647.0 for quality scenarios. (Change value through \"cost_for_crash\"-option.)\n"
     ]
    },
    {
     "name": "stdout",
     "output_type": "stream",
     "text": [
      "Fitting configuration: \n",
      "{'n_clusters___MiniBatchKMeans': 11, 'batch_size___MiniBatchKMeans': 380, 'dim_reduction_choice': 'NullModel', 'clustering_choice': 'MiniBatchKMeans', 'random_state___NullModel': 1}\n",
      "Score obtained by this configuration: 0.24254187273465236\n",
      "Fitting configuration: \n",
      "{'n_clusters___MiniBatchKMeans': 11, 'batch_size___MiniBatchKMeans': 416, 'dim_reduction_choice': 'NullModel', 'clustering_choice': 'MiniBatchKMeans', 'random_state___NullModel': 1}\n",
      "Score obtained by this configuration: 0.2434232339993927\n",
      "Fitting configuration: \n",
      "{'dim_reduction_choice': 'NullModel', 'n_clusters___KMeans': 65, 'clustering_choice': 'KMeans'}\n",
      "Score obtained by this configuration: inf\n"
     ]
    },
    {
     "name": "stderr",
     "output_type": "stream",
     "text": [
      "WARNING:smac.tae.execute_func.ExecuteTAFuncDict:Target Algorithm returned NaN or inf as quality. Algorithm run is treated as CRASHED, cost is set to 2147483647.0 for quality scenarios. (Change value through \"cost_for_crash\"-option.)\n"
     ]
    },
    {
     "name": "stdout",
     "output_type": "stream",
     "text": [
      "Fitting configuration: \n",
      "{'n_clusters___MiniBatchKMeans': 21, 'batch_size___MiniBatchKMeans': 412, 'dim_reduction_choice': 'NullModel', 'clustering_choice': 'MiniBatchKMeans', 'random_state___NullModel': 1}\n",
      "Score obtained by this configuration: inf\n"
     ]
    },
    {
     "name": "stderr",
     "output_type": "stream",
     "text": [
      "WARNING:smac.tae.execute_func.ExecuteTAFuncDict:Target Algorithm returned NaN or inf as quality. Algorithm run is treated as CRASHED, cost is set to 2147483647.0 for quality scenarios. (Change value through \"cost_for_crash\"-option.)\n"
     ]
    },
    {
     "name": "stdout",
     "output_type": "stream",
     "text": [
      "Fitting configuration: \n",
      "{'n_clusters___MiniBatchKMeans': 9, 'batch_size___MiniBatchKMeans': 184, 'dim_reduction_choice': 'NullModel', 'clustering_choice': 'MiniBatchKMeans'}\n",
      "Score obtained by this configuration: 0.24697485748308565\n",
      "Fitting configuration: \n",
      "{'n_clusters___MiniBatchKMeans': 9, 'batch_size___MiniBatchKMeans': 351, 'dim_reduction_choice': 'NullModel', 'clustering_choice': 'MiniBatchKMeans'}\n",
      "Score obtained by this configuration: 0.24747008810071347\n",
      "Fitting configuration: \n",
      "{'n_clusters___MiniBatchKMeans': 9, 'batch_size___MiniBatchKMeans': 55, 'dim_reduction_choice': 'NullModel', 'clustering_choice': 'MiniBatchKMeans', 'random_state___NullModel': 1}\n",
      "Score obtained by this configuration: 0.24774163670362795\n",
      "Fitting configuration: \n",
      "{'n_clusters___MiniBatchKMeans': 9, 'batch_size___MiniBatchKMeans': 51, 'dim_reduction_choice': 'NullModel', 'clustering_choice': 'MiniBatchKMeans', 'random_state___NullModel': 1}\n",
      "Score obtained by this configuration: 0.24948876260831732\n",
      "Fitting configuration: \n",
      "{'n_clusters___MiniBatchKMeans': 12, 'batch_size___MiniBatchKMeans': 362, 'dim_reduction_choice': 'NullModel', 'clustering_choice': 'MiniBatchKMeans', 'random_state___NullModel': 2}\n",
      "Score obtained by this configuration: 0.24819444317975178\n",
      "Fitting configuration: \n",
      "{'dim_reduction_choice': 'NullModel', 'n_clusters___KMeans': 27, 'clustering_choice': 'KMeans', 'random_state___NullModel': 1}\n",
      "Score obtained by this configuration: 0.27290547237084345\n",
      "Fitting configuration: \n",
      "{'n_clusters___MiniBatchKMeans': 8, 'batch_size___MiniBatchKMeans': 995, 'dim_reduction_choice': 'NullModel', 'clustering_choice': 'MiniBatchKMeans'}\n",
      "Score obtained by this configuration: 0.25018778057794777\n",
      "Fitting configuration: \n",
      "{'n_clusters___MiniBatchKMeans': 25, 'batch_size___MiniBatchKMeans': 341, 'dim_reduction_choice': 'NullModel', 'clustering_choice': 'MiniBatchKMeans', 'random_state___NullModel': 1}\n",
      "Score obtained by this configuration: 0.2745745829460619\n",
      "Fitting configuration: \n",
      "{'dim_reduction_choice': 'NullModel', 'n_clusters___KMeans': 11, 'clustering_choice': 'KMeans'}\n",
      "Score obtained by this configuration: 0.24027030428655075\n",
      "Fitting configuration: \n",
      "{'dim_reduction_choice': 'NullModel', 'n_clusters___KMeans': 16, 'clustering_choice': 'KMeans'}\n",
      "Score obtained by this configuration: 0.24546919712109702\n",
      "Fitting configuration: \n",
      "{'dim_reduction_choice': 'NullModel', 'n_clusters___KMeans': 25, 'clustering_choice': 'KMeans', 'random_state___NullModel': 2}\n",
      "Score obtained by this configuration: inf\n"
     ]
    },
    {
     "name": "stderr",
     "output_type": "stream",
     "text": [
      "WARNING:smac.tae.execute_func.ExecuteTAFuncDict:Target Algorithm returned NaN or inf as quality. Algorithm run is treated as CRASHED, cost is set to 2147483647.0 for quality scenarios. (Change value through \"cost_for_crash\"-option.)\n"
     ]
    },
    {
     "name": "stdout",
     "output_type": "stream",
     "text": [
      "Fitting configuration: \n",
      "{'n_clusters___MiniBatchKMeans': 14, 'batch_size___MiniBatchKMeans': 266, 'dim_reduction_choice': 'NullModel', 'clustering_choice': 'MiniBatchKMeans'}\n",
      "Score obtained by this configuration: 0.24793371977436254\n",
      "Fitting configuration: \n",
      "{'n_clusters___MiniBatchKMeans': 11, 'batch_size___MiniBatchKMeans': 400, 'dim_reduction_choice': 'NullModel', 'clustering_choice': 'MiniBatchKMeans', 'random_state___NullModel': 1}\n",
      "Score obtained by this configuration: 0.24615604026259877\n",
      "Fitting configuration: \n",
      "{'n_clusters___MiniBatchKMeans': 13, 'batch_size___MiniBatchKMeans': 444, 'dim_reduction_choice': 'NullModel', 'clustering_choice': 'MiniBatchKMeans', 'random_state___NullModel': 1}\n",
      "Score obtained by this configuration: 0.24557841749965162\n",
      "Fitting configuration: \n",
      "{'dim_reduction_choice': 'NullModel', 'covariance_type___GaussianMixture': 'full', 'random_state___NullModel': 2, 'init_params___GaussianMixture': 'random', 'n_components___GaussianMixture': 15, 'clustering_choice': 'GaussianMixture'}\n",
      "Score obtained by this configuration: inf\n"
     ]
    },
    {
     "name": "stderr",
     "output_type": "stream",
     "text": [
      "WARNING:smac.tae.execute_func.ExecuteTAFuncDict:Target Algorithm returned NaN or inf as quality. Algorithm run is treated as CRASHED, cost is set to 2147483647.0 for quality scenarios. (Change value through \"cost_for_crash\"-option.)\n"
     ]
    },
    {
     "name": "stdout",
     "output_type": "stream",
     "text": [
      "Fitting configuration: \n",
      "{'n_clusters___MiniBatchKMeans': 9, 'batch_size___MiniBatchKMeans': 405, 'dim_reduction_choice': 'NullModel', 'clustering_choice': 'MiniBatchKMeans'}\n",
      "Score obtained by this configuration: 0.2457047002721547\n",
      "Fitting configuration: \n",
      "{'dim_reduction_choice': 'NullModel', 'n_clusters___KMeans': 55, 'clustering_choice': 'KMeans', 'random_state___NullModel': 2}\n",
      "Score obtained by this configuration: inf\n"
     ]
    },
    {
     "name": "stderr",
     "output_type": "stream",
     "text": [
      "WARNING:smac.tae.execute_func.ExecuteTAFuncDict:Target Algorithm returned NaN or inf as quality. Algorithm run is treated as CRASHED, cost is set to 2147483647.0 for quality scenarios. (Change value through \"cost_for_crash\"-option.)\n"
     ]
    },
    {
     "name": "stdout",
     "output_type": "stream",
     "text": [
      "Fitting configuration: \n",
      "{'n_clusters___MiniBatchKMeans': 11, 'batch_size___MiniBatchKMeans': 234, 'dim_reduction_choice': 'NullModel', 'clustering_choice': 'MiniBatchKMeans', 'random_state___NullModel': 2}\n",
      "Score obtained by this configuration: 0.23981118221751532\n",
      "Fitting configuration: \n",
      "{'warm_start___GaussianMixture': True, 'dim_reduction_choice': 'NullModel', 'n_components___GaussianMixture': 41, 'random_state___NullModel': 2, 'init_params___GaussianMixture': 'kmeans', 'covariance_type___GaussianMixture': 'tied', 'clustering_choice': 'GaussianMixture'}\n",
      "Score obtained by this configuration: inf\n"
     ]
    },
    {
     "name": "stderr",
     "output_type": "stream",
     "text": [
      "WARNING:smac.tae.execute_func.ExecuteTAFuncDict:Target Algorithm returned NaN or inf as quality. Algorithm run is treated as CRASHED, cost is set to 2147483647.0 for quality scenarios. (Change value through \"cost_for_crash\"-option.)\n"
     ]
    },
    {
     "name": "stdout",
     "output_type": "stream",
     "text": [
      "Fitting configuration: \n",
      "{'n_clusters___MiniBatchKMeans': 15, 'batch_size___MiniBatchKMeans': 380, 'dim_reduction_choice': 'NullModel', 'clustering_choice': 'MiniBatchKMeans'}\n",
      "Score obtained by this configuration: 0.25377663830944175\n",
      "Fitting configuration: \n",
      "{'n_clusters___MiniBatchKMeans': 9, 'batch_size___MiniBatchKMeans': 180, 'dim_reduction_choice': 'NullModel', 'clustering_choice': 'MiniBatchKMeans', 'random_state___NullModel': 2}\n",
      "Score obtained by this configuration: 0.24731016677589976\n",
      "Fitting configuration: \n",
      "{'n_clusters___MiniBatchKMeans': 9, 'batch_size___MiniBatchKMeans': 186, 'dim_reduction_choice': 'NullModel', 'clustering_choice': 'MiniBatchKMeans', 'random_state___NullModel': 2}\n",
      "Score obtained by this configuration: 0.24444227928020246\n",
      "Fitting configuration: \n",
      "{'dim_reduction_choice': 'NullModel', 'n_clusters___KMeans': 56, 'clustering_choice': 'KMeans', 'random_state___NullModel': 2}\n",
      "Score obtained by this configuration: inf\n"
     ]
    },
    {
     "name": "stderr",
     "output_type": "stream",
     "text": [
      "WARNING:smac.tae.execute_func.ExecuteTAFuncDict:Target Algorithm returned NaN or inf as quality. Algorithm run is treated as CRASHED, cost is set to 2147483647.0 for quality scenarios. (Change value through \"cost_for_crash\"-option.)\n"
     ]
    },
    {
     "name": "stdout",
     "output_type": "stream",
     "text": [
      "Fitting configuration: \n",
      "{'dim_reduction_choice': 'NullModel', 'covariance_type___GaussianMixture': 'tied', 'random_state___NullModel': 1, 'init_params___GaussianMixture': 'random', 'n_components___GaussianMixture': 26, 'clustering_choice': 'GaussianMixture'}\n",
      "Score obtained by this configuration: inf\n"
     ]
    },
    {
     "name": "stderr",
     "output_type": "stream",
     "text": [
      "WARNING:smac.tae.execute_func.ExecuteTAFuncDict:Target Algorithm returned NaN or inf as quality. Algorithm run is treated as CRASHED, cost is set to 2147483647.0 for quality scenarios. (Change value through \"cost_for_crash\"-option.)\n"
     ]
    },
    {
     "name": "stdout",
     "output_type": "stream",
     "text": [
      "Fitting configuration: \n",
      "{'dim_reduction_choice': 'NullModel', 'covariance_type___GaussianMixture': 'diag', 'random_state___NullModel': 2, 'init_params___GaussianMixture': 'kmeans', 'n_components___GaussianMixture': 65, 'clustering_choice': 'GaussianMixture'}\n",
      "Score obtained by this configuration: inf\n"
     ]
    },
    {
     "name": "stderr",
     "output_type": "stream",
     "text": [
      "WARNING:smac.tae.execute_func.ExecuteTAFuncDict:Target Algorithm returned NaN or inf as quality. Algorithm run is treated as CRASHED, cost is set to 2147483647.0 for quality scenarios. (Change value through \"cost_for_crash\"-option.)\n"
     ]
    },
    {
     "name": "stdout",
     "output_type": "stream",
     "text": [
      "Fitting configuration: \n",
      "{'dim_reduction_choice': 'NullModel', 'covariance_type___GaussianMixture': 'spherical', 'random_state___NullModel': 1, 'init_params___GaussianMixture': 'random', 'n_components___GaussianMixture': 15, 'clustering_choice': 'GaussianMixture'}\n",
      "Score obtained by this configuration: inf\n"
     ]
    },
    {
     "name": "stderr",
     "output_type": "stream",
     "text": [
      "WARNING:smac.tae.execute_func.ExecuteTAFuncDict:Target Algorithm returned NaN or inf as quality. Algorithm run is treated as CRASHED, cost is set to 2147483647.0 for quality scenarios. (Change value through \"cost_for_crash\"-option.)\n"
     ]
    },
    {
     "name": "stdout",
     "output_type": "stream",
     "text": [
      "Fitting configuration: \n",
      "{'dim_reduction_choice': 'NullModel', 'n_clusters___KMeans': 66, 'clustering_choice': 'KMeans', 'random_state___NullModel': 2}\n",
      "Score obtained by this configuration: inf\n"
     ]
    },
    {
     "name": "stderr",
     "output_type": "stream",
     "text": [
      "WARNING:smac.tae.execute_func.ExecuteTAFuncDict:Target Algorithm returned NaN or inf as quality. Algorithm run is treated as CRASHED, cost is set to 2147483647.0 for quality scenarios. (Change value through \"cost_for_crash\"-option.)\n"
     ]
    },
    {
     "name": "stdout",
     "output_type": "stream",
     "text": [
      "Fitting configuration: \n",
      "{'n_clusters___MiniBatchKMeans': 1, 'batch_size___MiniBatchKMeans': 380, 'dim_reduction_choice': 'NullModel', 'clustering_choice': 'MiniBatchKMeans', 'random_state___NullModel': 1}\n",
      "Score obtained by this configuration: inf\n"
     ]
    },
    {
     "name": "stderr",
     "output_type": "stream",
     "text": [
      "WARNING:smac.tae.execute_func.ExecuteTAFuncDict:Target Algorithm returned NaN or inf as quality. Algorithm run is treated as CRASHED, cost is set to 2147483647.0 for quality scenarios. (Change value through \"cost_for_crash\"-option.)\n"
     ]
    },
    {
     "name": "stdout",
     "output_type": "stream",
     "text": [
      "Fitting configuration: \n",
      "{'n_clusters___MiniBatchKMeans': 9, 'batch_size___MiniBatchKMeans': 450, 'dim_reduction_choice': 'NullModel', 'clustering_choice': 'MiniBatchKMeans', 'random_state___NullModel': 1}\n",
      "Score obtained by this configuration: 0.24404990733795354\n",
      "Fitting configuration: \n",
      "{'dim_reduction_choice': 'NullModel', 'covariance_type___GaussianMixture': 'tied', 'random_state___NullModel': 1, 'init_params___GaussianMixture': 'random', 'n_components___GaussianMixture': 65, 'clustering_choice': 'GaussianMixture'}\n",
      "Score obtained by this configuration: inf\n"
     ]
    },
    {
     "name": "stderr",
     "output_type": "stream",
     "text": [
      "WARNING:smac.tae.execute_func.ExecuteTAFuncDict:Target Algorithm returned NaN or inf as quality. Algorithm run is treated as CRASHED, cost is set to 2147483647.0 for quality scenarios. (Change value through \"cost_for_crash\"-option.)\n"
     ]
    },
    {
     "name": "stdout",
     "output_type": "stream",
     "text": [
      "Fitting configuration: \n",
      "{'dim_reduction_choice': 'NullModel', 'n_clusters___KMeans': 7, 'clustering_choice': 'KMeans'}\n",
      "Score obtained by this configuration: 0.25627891961778065\n",
      "Fitting configuration: \n",
      "{'warm_start___GaussianMixture': True, 'dim_reduction_choice': 'NullModel', 'n_components___GaussianMixture': 35, 'random_state___NullModel': 2, 'init_params___GaussianMixture': 'kmeans', 'covariance_type___GaussianMixture': 'diag', 'clustering_choice': 'GaussianMixture'}\n",
      "Score obtained by this configuration: inf\n"
     ]
    },
    {
     "name": "stderr",
     "output_type": "stream",
     "text": [
      "WARNING:smac.tae.execute_func.ExecuteTAFuncDict:Target Algorithm returned NaN or inf as quality. Algorithm run is treated as CRASHED, cost is set to 2147483647.0 for quality scenarios. (Change value through \"cost_for_crash\"-option.)\n"
     ]
    },
    {
     "name": "stdout",
     "output_type": "stream",
     "text": [
      "Fitting configuration: \n",
      "{'n_clusters___MiniBatchKMeans': 21, 'batch_size___MiniBatchKMeans': 460, 'dim_reduction_choice': 'NullModel', 'clustering_choice': 'MiniBatchKMeans', 'random_state___NullModel': 2}\n",
      "Score obtained by this configuration: 0.2660382651504439\n",
      "Fitting configuration: \n",
      "{'warm_start___GaussianMixture': True, 'dim_reduction_choice': 'NullModel', 'covariance_type___GaussianMixture': 'tied', 'init_params___GaussianMixture': 'random', 'n_components___GaussianMixture': 55, 'clustering_choice': 'GaussianMixture'}\n",
      "Score obtained by this configuration: inf\n"
     ]
    },
    {
     "name": "stderr",
     "output_type": "stream",
     "text": [
      "WARNING:smac.tae.execute_func.ExecuteTAFuncDict:Target Algorithm returned NaN or inf as quality. Algorithm run is treated as CRASHED, cost is set to 2147483647.0 for quality scenarios. (Change value through \"cost_for_crash\"-option.)\n"
     ]
    },
    {
     "name": "stdout",
     "output_type": "stream",
     "text": [
      "Fitting configuration: \n",
      "{'n_clusters___MiniBatchKMeans': 64, 'batch_size___MiniBatchKMeans': 731, 'dim_reduction_choice': 'NullModel', 'clustering_choice': 'MiniBatchKMeans', 'random_state___NullModel': 2}\n",
      "Score obtained by this configuration: inf\n"
     ]
    },
    {
     "name": "stderr",
     "output_type": "stream",
     "text": [
      "WARNING:smac.tae.execute_func.ExecuteTAFuncDict:Target Algorithm returned NaN or inf as quality. Algorithm run is treated as CRASHED, cost is set to 2147483647.0 for quality scenarios. (Change value through \"cost_for_crash\"-option.)\n"
     ]
    },
    {
     "name": "stdout",
     "output_type": "stream",
     "text": [
      "Fitting configuration: \n",
      "{'dim_reduction_choice': 'NullModel', 'init_params___GaussianMixture': 'random', 'covariance_type___GaussianMixture': 'full', 'n_components___GaussianMixture': 9, 'clustering_choice': 'GaussianMixture'}\n",
      "Score obtained by this configuration: inf\n"
     ]
    },
    {
     "name": "stderr",
     "output_type": "stream",
     "text": [
      "WARNING:smac.tae.execute_func.ExecuteTAFuncDict:Target Algorithm returned NaN or inf as quality. Algorithm run is treated as CRASHED, cost is set to 2147483647.0 for quality scenarios. (Change value through \"cost_for_crash\"-option.)\n"
     ]
    },
    {
     "name": "stdout",
     "output_type": "stream",
     "text": [
      "Fitting configuration: \n",
      "{'n_clusters___MiniBatchKMeans': 10, 'batch_size___MiniBatchKMeans': 983, 'dim_reduction_choice': 'NullModel', 'clustering_choice': 'MiniBatchKMeans', 'random_state___NullModel': 1}\n",
      "Score obtained by this configuration: 0.2482572618685238\n",
      "Fitting configuration: \n",
      "{'n_clusters___MiniBatchKMeans': 11, 'batch_size___MiniBatchKMeans': 815, 'dim_reduction_choice': 'NullModel', 'clustering_choice': 'MiniBatchKMeans', 'random_state___NullModel': 1}\n",
      "Score obtained by this configuration: 0.24294303448317256\n",
      "Fitting configuration: \n",
      "{'n_clusters___MiniBatchKMeans': 28, 'batch_size___MiniBatchKMeans': 93, 'dim_reduction_choice': 'NullModel', 'clustering_choice': 'MiniBatchKMeans'}\n",
      "Score obtained by this configuration: 0.27278326846167705\n",
      "Fitting configuration: \n",
      "{'n_clusters___MiniBatchKMeans': 66, 'batch_size___MiniBatchKMeans': 886, 'dim_reduction_choice': 'NullModel', 'clustering_choice': 'MiniBatchKMeans', 'random_state___NullModel': 2}\n",
      "Score obtained by this configuration: inf\n"
     ]
    },
    {
     "name": "stderr",
     "output_type": "stream",
     "text": [
      "WARNING:smac.tae.execute_func.ExecuteTAFuncDict:Target Algorithm returned NaN or inf as quality. Algorithm run is treated as CRASHED, cost is set to 2147483647.0 for quality scenarios. (Change value through \"cost_for_crash\"-option.)\n"
     ]
    },
    {
     "name": "stdout",
     "output_type": "stream",
     "text": [
      "Fitting configuration: \n",
      "{'dim_reduction_choice': 'NullModel', 'n_clusters___KMeans': 61, 'clustering_choice': 'KMeans', 'random_state___NullModel': 2}\n",
      "Score obtained by this configuration: inf\n"
     ]
    },
    {
     "name": "stderr",
     "output_type": "stream",
     "text": [
      "WARNING:smac.tae.execute_func.ExecuteTAFuncDict:Target Algorithm returned NaN or inf as quality. Algorithm run is treated as CRASHED, cost is set to 2147483647.0 for quality scenarios. (Change value through \"cost_for_crash\"-option.)\n"
     ]
    },
    {
     "name": "stdout",
     "output_type": "stream",
     "text": [
      "Fitting configuration: \n",
      "{'n_clusters___MiniBatchKMeans': 9, 'batch_size___MiniBatchKMeans': 874, 'dim_reduction_choice': 'NullModel', 'clustering_choice': 'MiniBatchKMeans', 'random_state___NullModel': 2}\n",
      "Score obtained by this configuration: 0.25128014827126727\n",
      "Fitting configuration: \n",
      "{'dim_reduction_choice': 'NullModel', 'n_clusters___KMeans': 19, 'clustering_choice': 'KMeans'}\n",
      "Score obtained by this configuration: 0.24641691193029072\n",
      "Fitting configuration: \n",
      "{'dim_reduction_choice': 'NullModel', 'n_clusters___KMeans': 52, 'clustering_choice': 'KMeans', 'random_state___NullModel': 1}\n",
      "Score obtained by this configuration: inf\n"
     ]
    },
    {
     "name": "stderr",
     "output_type": "stream",
     "text": [
      "WARNING:smac.tae.execute_func.ExecuteTAFuncDict:Target Algorithm returned NaN or inf as quality. Algorithm run is treated as CRASHED, cost is set to 2147483647.0 for quality scenarios. (Change value through \"cost_for_crash\"-option.)\n"
     ]
    },
    {
     "name": "stdout",
     "output_type": "stream",
     "text": [
      "Fitting configuration: \n",
      "{'dim_reduction_choice': 'NullModel', 'n_clusters___KMeans': 23, 'clustering_choice': 'KMeans'}\n",
      "Score obtained by this configuration: 0.25739436310396435\n",
      "Fitting configuration: \n",
      "{'dim_reduction_choice': 'NullModel', 'n_clusters___KMeans': 24, 'clustering_choice': 'KMeans'}\n",
      "Score obtained by this configuration: 0.2601156348082565\n",
      "Fitting configuration: \n",
      "{'dim_reduction_choice': 'NullModel', 'n_clusters___KMeans': 49, 'clustering_choice': 'KMeans', 'random_state___NullModel': 1}\n",
      "Score obtained by this configuration: inf\n"
     ]
    },
    {
     "name": "stderr",
     "output_type": "stream",
     "text": [
      "WARNING:smac.tae.execute_func.ExecuteTAFuncDict:Target Algorithm returned NaN or inf as quality. Algorithm run is treated as CRASHED, cost is set to 2147483647.0 for quality scenarios. (Change value through \"cost_for_crash\"-option.)\n"
     ]
    },
    {
     "name": "stdout",
     "output_type": "stream",
     "text": [
      "Fitting configuration: \n",
      "{'dim_reduction_choice': 'NullModel', 'n_clusters___KMeans': 12, 'clustering_choice': 'KMeans', 'random_state___NullModel': 1}\n",
      "Score obtained by this configuration: 0.2430206442726457\n",
      "Fitting configuration: \n",
      "{'n_clusters___MiniBatchKMeans': 2, 'batch_size___MiniBatchKMeans': 160, 'dim_reduction_choice': 'NullModel', 'clustering_choice': 'MiniBatchKMeans', 'random_state___NullModel': 2}\n",
      "Score obtained by this configuration: 0.30186342683548184\n",
      "Fitting configuration: \n",
      "{'dim_reduction_choice': 'NullModel', 'n_clusters___KMeans': 31, 'clustering_choice': 'KMeans'}\n",
      "Score obtained by this configuration: 0.2765465313473809\n",
      "Fitting configuration: \n",
      "{'n_clusters___MiniBatchKMeans': 78, 'batch_size___MiniBatchKMeans': 574, 'dim_reduction_choice': 'NullModel', 'clustering_choice': 'MiniBatchKMeans'}\n",
      "Score obtained by this configuration: inf\n"
     ]
    },
    {
     "name": "stderr",
     "output_type": "stream",
     "text": [
      "WARNING:smac.tae.execute_func.ExecuteTAFuncDict:Target Algorithm returned NaN or inf as quality. Algorithm run is treated as CRASHED, cost is set to 2147483647.0 for quality scenarios. (Change value through \"cost_for_crash\"-option.)\n"
     ]
    },
    {
     "name": "stdout",
     "output_type": "stream",
     "text": [
      "Fitting configuration: \n",
      "{'dim_reduction_choice': 'NullModel', 'n_clusters___KMeans': 28, 'clustering_choice': 'KMeans'}\n",
      "Score obtained by this configuration: inf\n"
     ]
    },
    {
     "name": "stderr",
     "output_type": "stream",
     "text": [
      "WARNING:smac.tae.execute_func.ExecuteTAFuncDict:Target Algorithm returned NaN or inf as quality. Algorithm run is treated as CRASHED, cost is set to 2147483647.0 for quality scenarios. (Change value through \"cost_for_crash\"-option.)\n"
     ]
    },
    {
     "name": "stdout",
     "output_type": "stream",
     "text": [
      "Fitting configuration: \n",
      "{'n_clusters___MiniBatchKMeans': 14, 'batch_size___MiniBatchKMeans': 376, 'dim_reduction_choice': 'NullModel', 'clustering_choice': 'MiniBatchKMeans', 'random_state___NullModel': 1}\n",
      "Score obtained by this configuration: 0.2485355338853967\n",
      "Fitting configuration: \n",
      "{'n_clusters___MiniBatchKMeans': 14, 'batch_size___MiniBatchKMeans': 419, 'dim_reduction_choice': 'NullModel', 'clustering_choice': 'MiniBatchKMeans'}\n",
      "Score obtained by this configuration: 0.2444946746644471\n",
      "Fitting configuration: \n",
      "{'dim_reduction_choice': 'NullModel', 'n_clusters___KMeans': 4, 'clustering_choice': 'KMeans'}\n",
      "Score obtained by this configuration: 0.32824437337180484\n",
      "Fitting configuration: \n",
      "{'warm_start___GaussianMixture': True, 'dim_reduction_choice': 'NullModel', 'n_components___GaussianMixture': 17, 'random_state___NullModel': 2, 'init_params___GaussianMixture': 'random', 'covariance_type___GaussianMixture': 'diag', 'clustering_choice': 'GaussianMixture'}\n",
      "Score obtained by this configuration: inf\n"
     ]
    },
    {
     "name": "stderr",
     "output_type": "stream",
     "text": [
      "WARNING:smac.tae.execute_func.ExecuteTAFuncDict:Target Algorithm returned NaN or inf as quality. Algorithm run is treated as CRASHED, cost is set to 2147483647.0 for quality scenarios. (Change value through \"cost_for_crash\"-option.)\n"
     ]
    },
    {
     "name": "stdout",
     "output_type": "stream",
     "text": [
      "Fitting configuration: \n",
      "{'dim_reduction_choice': 'NullModel', 'n_clusters___KMeans': 14, 'clustering_choice': 'KMeans', 'random_state___NullModel': 2}\n",
      "Score obtained by this configuration: 0.24357216166072404\n",
      "Fitting configuration: \n",
      "{'dim_reduction_choice': 'NullModel', 'n_clusters___KMeans': 41, 'clustering_choice': 'KMeans', 'random_state___NullModel': 1}\n",
      "Score obtained by this configuration: inf\n"
     ]
    },
    {
     "name": "stderr",
     "output_type": "stream",
     "text": [
      "WARNING:smac.tae.execute_func.ExecuteTAFuncDict:Target Algorithm returned NaN or inf as quality. Algorithm run is treated as CRASHED, cost is set to 2147483647.0 for quality scenarios. (Change value through \"cost_for_crash\"-option.)\n"
     ]
    },
    {
     "name": "stdout",
     "output_type": "stream",
     "text": [
      "Fitting configuration: \n",
      "{'warm_start___GaussianMixture': True, 'dim_reduction_choice': 'NullModel', 'n_components___GaussianMixture': 22, 'random_state___NullModel': 1, 'init_params___GaussianMixture': 'kmeans', 'covariance_type___GaussianMixture': 'full', 'clustering_choice': 'GaussianMixture'}\n",
      "Score obtained by this configuration: 0.3373898964685211\n",
      "Fitting configuration: \n",
      "{'dim_reduction_choice': 'NullModel', 'covariance_type___GaussianMixture': 'spherical', 'random_state___NullModel': 2, 'init_params___GaussianMixture': 'random', 'n_components___GaussianMixture': 44, 'clustering_choice': 'GaussianMixture'}\n",
      "Score obtained by this configuration: inf\n"
     ]
    },
    {
     "name": "stderr",
     "output_type": "stream",
     "text": [
      "WARNING:smac.tae.execute_func.ExecuteTAFuncDict:Target Algorithm returned NaN or inf as quality. Algorithm run is treated as CRASHED, cost is set to 2147483647.0 for quality scenarios. (Change value through \"cost_for_crash\"-option.)\n"
     ]
    },
    {
     "name": "stdout",
     "output_type": "stream",
     "text": [
      "Fitting configuration: \n",
      "{'dim_reduction_choice': 'NullModel', 'n_clusters___KMeans': 23, 'clustering_choice': 'KMeans', 'random_state___NullModel': 1}\n",
      "Score obtained by this configuration: 0.2636858080331534\n",
      "Fitting configuration: \n",
      "{'dim_reduction_choice': 'NullModel', 'n_clusters___KMeans': 7, 'clustering_choice': 'KMeans', 'random_state___NullModel': 1}\n",
      "Score obtained by this configuration: 0.25569794214482494\n",
      "Fitting configuration: \n",
      "{'dim_reduction_choice': 'NullModel', 'n_clusters___KMeans': 38, 'clustering_choice': 'KMeans', 'random_state___NullModel': 2}\n",
      "Score obtained by this configuration: inf\n"
     ]
    },
    {
     "name": "stderr",
     "output_type": "stream",
     "text": [
      "WARNING:smac.tae.execute_func.ExecuteTAFuncDict:Target Algorithm returned NaN or inf as quality. Algorithm run is treated as CRASHED, cost is set to 2147483647.0 for quality scenarios. (Change value through \"cost_for_crash\"-option.)\n"
     ]
    },
    {
     "name": "stdout",
     "output_type": "stream",
     "text": [
      "Fitting configuration: \n",
      "{'n_clusters___MiniBatchKMeans': 11, 'batch_size___MiniBatchKMeans': 177, 'dim_reduction_choice': 'NullModel', 'clustering_choice': 'MiniBatchKMeans', 'random_state___NullModel': 2}\n",
      "Score obtained by this configuration: 0.24575934830343327\n",
      "Fitting configuration: \n",
      "{'dim_reduction_choice': 'NullModel', 'n_clusters___KMeans': 15, 'clustering_choice': 'KMeans'}\n",
      "Score obtained by this configuration: 0.24511547043442872\n",
      "Fitting configuration: \n",
      "{'warm_start___GaussianMixture': True, 'dim_reduction_choice': 'NullModel', 'covariance_type___GaussianMixture': 'spherical', 'init_params___GaussianMixture': 'random', 'n_components___GaussianMixture': 4, 'clustering_choice': 'GaussianMixture'}\n",
      "Score obtained by this configuration: 0.39138010730028955\n",
      "Fitting configuration: \n",
      "{'n_clusters___MiniBatchKMeans': 10, 'batch_size___MiniBatchKMeans': 818, 'dim_reduction_choice': 'NullModel', 'clustering_choice': 'MiniBatchKMeans'}\n",
      "Score obtained by this configuration: 0.24530726041674977\n",
      "Fitting configuration: \n",
      "{'n_clusters___MiniBatchKMeans': 10, 'batch_size___MiniBatchKMeans': 853, 'dim_reduction_choice': 'NullModel', 'clustering_choice': 'MiniBatchKMeans'}\n",
      "Score obtained by this configuration: 0.24688428946188914\n",
      "Fitting configuration: \n",
      "{'n_clusters___MiniBatchKMeans': 13, 'batch_size___MiniBatchKMeans': 331, 'dim_reduction_choice': 'NullModel', 'clustering_choice': 'MiniBatchKMeans', 'random_state___NullModel': 2}\n",
      "Score obtained by this configuration: 0.24634665815543896\n",
      "Fitting configuration: \n",
      "{'n_clusters___MiniBatchKMeans': 15, 'batch_size___MiniBatchKMeans': 728, 'dim_reduction_choice': 'NullModel', 'clustering_choice': 'MiniBatchKMeans'}\n",
      "Score obtained by this configuration: 0.24833026882130363\n",
      "Fitting configuration: \n",
      "{'dim_reduction_choice': 'NullModel', 'n_clusters___KMeans': 19, 'clustering_choice': 'KMeans', 'random_state___NullModel': 1}\n",
      "Score obtained by this configuration: 0.25136854536535674\n",
      "Fitting configuration: \n",
      "{'n_clusters___MiniBatchKMeans': 55, 'batch_size___MiniBatchKMeans': 682, 'dim_reduction_choice': 'NullModel', 'clustering_choice': 'MiniBatchKMeans', 'random_state___NullModel': 2}\n",
      "Score obtained by this configuration: inf\n"
     ]
    },
    {
     "name": "stderr",
     "output_type": "stream",
     "text": [
      "WARNING:smac.tae.execute_func.ExecuteTAFuncDict:Target Algorithm returned NaN or inf as quality. Algorithm run is treated as CRASHED, cost is set to 2147483647.0 for quality scenarios. (Change value through \"cost_for_crash\"-option.)\n"
     ]
    },
    {
     "name": "stdout",
     "output_type": "stream",
     "text": [
      "Fitting configuration: \n",
      "{'warm_start___GaussianMixture': True, 'dim_reduction_choice': 'NullModel', 'n_components___GaussianMixture': 38, 'random_state___NullModel': 2, 'init_params___GaussianMixture': 'random', 'covariance_type___GaussianMixture': 'diag', 'clustering_choice': 'GaussianMixture'}\n",
      "Score obtained by this configuration: inf\n"
     ]
    },
    {
     "name": "stderr",
     "output_type": "stream",
     "text": [
      "WARNING:smac.tae.execute_func.ExecuteTAFuncDict:Target Algorithm returned NaN or inf as quality. Algorithm run is treated as CRASHED, cost is set to 2147483647.0 for quality scenarios. (Change value through \"cost_for_crash\"-option.)\n"
     ]
    },
    {
     "name": "stdout",
     "output_type": "stream",
     "text": [
      "Fitting configuration: \n",
      "{'dim_reduction_choice': 'NullModel', 'covariance_type___GaussianMixture': 'tied', 'random_state___NullModel': 2, 'init_params___GaussianMixture': 'random', 'n_components___GaussianMixture': 56, 'clustering_choice': 'GaussianMixture'}\n",
      "Score obtained by this configuration: inf\n"
     ]
    },
    {
     "name": "stderr",
     "output_type": "stream",
     "text": [
      "WARNING:smac.tae.execute_func.ExecuteTAFuncDict:Target Algorithm returned NaN or inf as quality. Algorithm run is treated as CRASHED, cost is set to 2147483647.0 for quality scenarios. (Change value through \"cost_for_crash\"-option.)\n"
     ]
    },
    {
     "name": "stdout",
     "output_type": "stream",
     "text": [
      "Fitting configuration: \n",
      "{'n_clusters___MiniBatchKMeans': 18, 'batch_size___MiniBatchKMeans': 513, 'dim_reduction_choice': 'NullModel', 'clustering_choice': 'MiniBatchKMeans'}\n",
      "Score obtained by this configuration: 0.2553922801424551\n",
      "Fitting configuration: \n",
      "{'n_clusters___MiniBatchKMeans': 18, 'batch_size___MiniBatchKMeans': 427, 'dim_reduction_choice': 'NullModel', 'clustering_choice': 'MiniBatchKMeans'}\n",
      "Score obtained by this configuration: 0.25671967584314453\n",
      "Fitting configuration: \n",
      "{'n_clusters___MiniBatchKMeans': 10, 'batch_size___MiniBatchKMeans': 417, 'dim_reduction_choice': 'NullModel', 'clustering_choice': 'MiniBatchKMeans', 'random_state___NullModel': 2}\n",
      "Score obtained by this configuration: 0.24835821143737993\n",
      "Fitting configuration: \n",
      "{'n_clusters___MiniBatchKMeans': 10, 'batch_size___MiniBatchKMeans': 408, 'dim_reduction_choice': 'NullModel', 'clustering_choice': 'MiniBatchKMeans', 'random_state___NullModel': 2}\n",
      "Score obtained by this configuration: 0.2447717264228376\n",
      "Fitting configuration: \n",
      "{'dim_reduction_choice': 'NullModel', 'covariance_type___GaussianMixture': 'spherical', 'random_state___NullModel': 1, 'init_params___GaussianMixture': 'kmeans', 'n_components___GaussianMixture': 23, 'clustering_choice': 'GaussianMixture'}\n",
      "Score obtained by this configuration: 0.25770498505104106\n",
      "Fitting configuration: \n",
      "{'n_clusters___MiniBatchKMeans': 19, 'batch_size___MiniBatchKMeans': 415, 'dim_reduction_choice': 'NullModel', 'clustering_choice': 'MiniBatchKMeans', 'random_state___NullModel': 2}\n",
      "Score obtained by this configuration: 0.25527021446501647\n",
      "Fitting configuration: \n",
      "{'dim_reduction_choice': 'NullModel', 'n_clusters___KMeans': 31, 'clustering_choice': 'KMeans', 'random_state___NullModel': 1}\n",
      "Score obtained by this configuration: 0.2772506590093053\n",
      "Fitting configuration: \n",
      "{'dim_reduction_choice': 'NullModel', 'n_clusters___KMeans': 30, 'clustering_choice': 'KMeans', 'random_state___NullModel': 1}\n",
      "Score obtained by this configuration: 0.2740474581989967\n",
      "Fitting configuration: \n",
      "{'n_clusters___MiniBatchKMeans': 12, 'batch_size___MiniBatchKMeans': 123, 'dim_reduction_choice': 'NullModel', 'clustering_choice': 'MiniBatchKMeans', 'random_state___NullModel': 1}\n",
      "Score obtained by this configuration: 0.24375079751837495\n",
      "Fitting configuration: \n",
      "{'n_clusters___MiniBatchKMeans': 46, 'batch_size___MiniBatchKMeans': 899, 'dim_reduction_choice': 'NullModel', 'clustering_choice': 'MiniBatchKMeans', 'random_state___NullModel': 2}\n",
      "Score obtained by this configuration: inf\n"
     ]
    },
    {
     "name": "stderr",
     "output_type": "stream",
     "text": [
      "WARNING:smac.tae.execute_func.ExecuteTAFuncDict:Target Algorithm returned NaN or inf as quality. Algorithm run is treated as CRASHED, cost is set to 2147483647.0 for quality scenarios. (Change value through \"cost_for_crash\"-option.)\n"
     ]
    },
    {
     "name": "stdout",
     "output_type": "stream",
     "text": [
      "Fitting configuration: \n",
      "{'n_clusters___MiniBatchKMeans': 11, 'batch_size___MiniBatchKMeans': 116, 'dim_reduction_choice': 'NullModel', 'clustering_choice': 'MiniBatchKMeans', 'random_state___NullModel': 2}\n",
      "Score obtained by this configuration: 0.24467994166332985\n",
      "Fitting configuration: \n",
      "{'n_clusters___MiniBatchKMeans': 11, 'batch_size___MiniBatchKMeans': 111, 'dim_reduction_choice': 'NullModel', 'clustering_choice': 'MiniBatchKMeans', 'random_state___NullModel': 2}\n",
      "Score obtained by this configuration: 0.24546614118646615\n",
      "Fitting configuration: \n",
      "{'n_clusters___MiniBatchKMeans': 20, 'batch_size___MiniBatchKMeans': 873, 'dim_reduction_choice': 'NullModel', 'clustering_choice': 'MiniBatchKMeans', 'random_state___NullModel': 2}\n",
      "Score obtained by this configuration: 0.2576530825789358\n",
      "Fitting configuration: \n",
      "{'warm_start___GaussianMixture': True, 'dim_reduction_choice': 'NullModel', 'n_components___GaussianMixture': 13, 'random_state___NullModel': 1, 'init_params___GaussianMixture': 'random', 'covariance_type___GaussianMixture': 'tied', 'clustering_choice': 'GaussianMixture'}\n",
      "Score obtained by this configuration: 0.36870013377851657\n",
      "Fitting configuration: \n",
      "{'dim_reduction_choice': 'NullModel', 'init_params___GaussianMixture': 'kmeans', 'covariance_type___GaussianMixture': 'tied', 'n_components___GaussianMixture': 66, 'clustering_choice': 'GaussianMixture'}\n",
      "Score obtained by this configuration: inf\n"
     ]
    },
    {
     "name": "stderr",
     "output_type": "stream",
     "text": [
      "WARNING:smac.tae.execute_func.ExecuteTAFuncDict:Target Algorithm returned NaN or inf as quality. Algorithm run is treated as CRASHED, cost is set to 2147483647.0 for quality scenarios. (Change value through \"cost_for_crash\"-option.)\n"
     ]
    },
    {
     "name": "stdout",
     "output_type": "stream",
     "text": [
      "Fitting configuration: \n",
      "{'dim_reduction_choice': 'NullModel', 'n_clusters___KMeans': 35, 'clustering_choice': 'KMeans'}\n",
      "Score obtained by this configuration: inf\n"
     ]
    },
    {
     "name": "stderr",
     "output_type": "stream",
     "text": [
      "WARNING:smac.tae.execute_func.ExecuteTAFuncDict:Target Algorithm returned NaN or inf as quality. Algorithm run is treated as CRASHED, cost is set to 2147483647.0 for quality scenarios. (Change value through \"cost_for_crash\"-option.)\n"
     ]
    },
    {
     "name": "stdout",
     "output_type": "stream",
     "text": [
      "Fitting configuration: \n",
      "{'n_clusters___MiniBatchKMeans': 13, 'batch_size___MiniBatchKMeans': 767, 'dim_reduction_choice': 'NullModel', 'clustering_choice': 'MiniBatchKMeans', 'random_state___NullModel': 2}\n",
      "Score obtained by this configuration: 0.2472896733684589\n",
      "Fitting configuration: \n",
      "{'dim_reduction_choice': 'NullModel', 'n_clusters___KMeans': 54, 'clustering_choice': 'KMeans', 'random_state___NullModel': 2}\n",
      "Score obtained by this configuration: inf\n"
     ]
    },
    {
     "name": "stderr",
     "output_type": "stream",
     "text": [
      "WARNING:smac.tae.execute_func.ExecuteTAFuncDict:Target Algorithm returned NaN or inf as quality. Algorithm run is treated as CRASHED, cost is set to 2147483647.0 for quality scenarios. (Change value through \"cost_for_crash\"-option.)\n"
     ]
    },
    {
     "name": "stdout",
     "output_type": "stream",
     "text": [
      "Fitting configuration: \n",
      "{'n_clusters___MiniBatchKMeans': 80, 'batch_size___MiniBatchKMeans': 544, 'dim_reduction_choice': 'NullModel', 'clustering_choice': 'MiniBatchKMeans'}\n",
      "Score obtained by this configuration: inf\n"
     ]
    },
    {
     "name": "stderr",
     "output_type": "stream",
     "text": [
      "WARNING:smac.tae.execute_func.ExecuteTAFuncDict:Target Algorithm returned NaN or inf as quality. Algorithm run is treated as CRASHED, cost is set to 2147483647.0 for quality scenarios. (Change value through \"cost_for_crash\"-option.)\n"
     ]
    },
    {
     "name": "stdout",
     "output_type": "stream",
     "text": [
      "Fitting configuration: \n",
      "{'n_clusters___MiniBatchKMeans': 70, 'batch_size___MiniBatchKMeans': 355, 'dim_reduction_choice': 'NullModel', 'clustering_choice': 'MiniBatchKMeans'}\n",
      "Score obtained by this configuration: inf\n"
     ]
    },
    {
     "name": "stderr",
     "output_type": "stream",
     "text": [
      "WARNING:smac.tae.execute_func.ExecuteTAFuncDict:Target Algorithm returned NaN or inf as quality. Algorithm run is treated as CRASHED, cost is set to 2147483647.0 for quality scenarios. (Change value through \"cost_for_crash\"-option.)\n"
     ]
    },
    {
     "name": "stdout",
     "output_type": "stream",
     "text": [
      "Fitting configuration: \n",
      "{'warm_start___GaussianMixture': True, 'dim_reduction_choice': 'NullModel', 'n_components___GaussianMixture': 24, 'random_state___NullModel': 1, 'init_params___GaussianMixture': 'kmeans', 'covariance_type___GaussianMixture': 'full', 'clustering_choice': 'GaussianMixture'}\n",
      "Score obtained by this configuration: inf\n"
     ]
    },
    {
     "name": "stderr",
     "output_type": "stream",
     "text": [
      "WARNING:smac.tae.execute_func.ExecuteTAFuncDict:Target Algorithm returned NaN or inf as quality. Algorithm run is treated as CRASHED, cost is set to 2147483647.0 for quality scenarios. (Change value through \"cost_for_crash\"-option.)\n"
     ]
    },
    {
     "name": "stdout",
     "output_type": "stream",
     "text": [
      "Fitting configuration: \n",
      "{'warm_start___GaussianMixture': True, 'dim_reduction_choice': 'NullModel', 'n_components___GaussianMixture': 25, 'random_state___NullModel': 1, 'init_params___GaussianMixture': 'kmeans', 'covariance_type___GaussianMixture': 'full', 'clustering_choice': 'GaussianMixture'}\n",
      "Score obtained by this configuration: 0.355541044171694\n",
      "Fitting configuration: \n",
      "{'n_clusters___MiniBatchKMeans': 67, 'batch_size___MiniBatchKMeans': 334, 'dim_reduction_choice': 'NullModel', 'clustering_choice': 'MiniBatchKMeans', 'random_state___NullModel': 1}\n",
      "Score obtained by this configuration: inf\n"
     ]
    },
    {
     "name": "stderr",
     "output_type": "stream",
     "text": [
      "WARNING:smac.tae.execute_func.ExecuteTAFuncDict:Target Algorithm returned NaN or inf as quality. Algorithm run is treated as CRASHED, cost is set to 2147483647.0 for quality scenarios. (Change value through \"cost_for_crash\"-option.)\n"
     ]
    },
    {
     "name": "stdout",
     "output_type": "stream",
     "text": [
      "Fitting configuration: \n",
      "{'warm_start___GaussianMixture': True, 'dim_reduction_choice': 'NullModel', 'n_components___GaussianMixture': 78, 'random_state___NullModel': 1, 'init_params___GaussianMixture': 'kmeans', 'covariance_type___GaussianMixture': 'spherical', 'clustering_choice': 'GaussianMixture'}\n",
      "Score obtained by this configuration: inf\n"
     ]
    },
    {
     "name": "stderr",
     "output_type": "stream",
     "text": [
      "WARNING:smac.tae.execute_func.ExecuteTAFuncDict:Target Algorithm returned NaN or inf as quality. Algorithm run is treated as CRASHED, cost is set to 2147483647.0 for quality scenarios. (Change value through \"cost_for_crash\"-option.)\n"
     ]
    },
    {
     "name": "stdout",
     "output_type": "stream",
     "text": [
      "Fitting configuration: \n",
      "{'dim_reduction_choice': 'NullModel', 'covariance_type___GaussianMixture': 'full', 'random_state___NullModel': 1, 'init_params___GaussianMixture': 'kmeans', 'n_components___GaussianMixture': 35, 'clustering_choice': 'GaussianMixture'}\n",
      "Score obtained by this configuration: inf\n"
     ]
    },
    {
     "name": "stderr",
     "output_type": "stream",
     "text": [
      "WARNING:smac.tae.execute_func.ExecuteTAFuncDict:Target Algorithm returned NaN or inf as quality. Algorithm run is treated as CRASHED, cost is set to 2147483647.0 for quality scenarios. (Change value through \"cost_for_crash\"-option.)\n"
     ]
    },
    {
     "name": "stdout",
     "output_type": "stream",
     "text": [
      "Optimization is complete.\n",
      "Took 123.2 seconds.\n",
      "The optimal configuration is \n",
      "Configuration:\n",
      "  batch_size___MiniBatchKMeans, Value: 234\n",
      "  clustering_choice, Value: 'MiniBatchKMeans'\n",
      "  dim_reduction_choice, Value: 'NullModel'\n",
      "  n_clusters___MiniBatchKMeans, Value: 11\n",
      "  random_state___NullModel, Value: 2\n",
      "\n"
     ]
    }
   ],
   "source": [
    "cluster = AutoCluster()\n",
    "fit_params = {\n",
    "    \"df\": dummy_df, \n",
    "    \"cluster_alg_ls\": [\n",
    "        'KMeans', 'GaussianMixture', 'MiniBatchKMeans'\n",
    "    ], \n",
    "    \"dim_reduction_alg_ls\": [\n",
    "        'NullModel'\n",
    "    ],\n",
    "    \"optimizer\": 'smac',\n",
    "    \"n_evaluations\": 150,\n",
    "    \"run_obj\": 'quality',\n",
    "    \"seed\": 27,\n",
    "    \"cutoff_time\": 10,\n",
    "    \"preprocess_dict\": {\n",
    "        \"numeric_cols\": list(range(2)),\n",
    "        \"categorical_cols\": [],\n",
    "        \"ordinal_cols\": [],\n",
    "        \"y_col\": []\n",
    "    },\n",
    "    \"evaluator\": get_evaluator(evaluator_ls = ['silhouetteScore', \n",
    "                                               'daviesBouldinScore', \n",
    "                                               'calinskiHarabaszScore'], \n",
    "                               weights = [1, 1, 1], \n",
    "                               clustering_num = None, \n",
    "                               min_proportion = .01, \n",
    "                               min_relative_proportion='default'),\n",
    "    \"n_folds\": 3,\n",
    "    \"warmstart\": False,\n",
    "    \"verbose_level\": 1,\n",
    "}\n",
    "result_dict = cluster.fit(**fit_params)"
   ]
  },
  {
   "cell_type": "code",
   "execution_count": 11,
   "metadata": {},
   "outputs": [
    {
     "data": {
      "image/png": "[encoded data removed]",
      "text/plain": [
       "<Figure size 720x720 with 1 Axes>"
      ]
     },
     "metadata": {
      "needs_background": "dark"
     },
     "output_type": "display_data"
    }
   ],
   "source": [
    "predictions = cluster.predict(dummy_df)"
   ]
  },
  {
   "cell_type": "code",
   "execution_count": null,
   "metadata": {},
   "outputs": [],
   "source": []
  }
 ],
 "metadata": {
  "kernelspec": {
   "display_name": "Python [conda env:automl]",
   "language": "python",
   "name": "conda-env-automl-py"
  },
  "language_info": {
   "codemirror_mode": {
    "name": "ipython",
    "version": 3
   },
   "file_extension": ".py",
   "mimetype": "text/x-python",
   "name": "python",
   "nbconvert_exporter": "python",
   "pygments_lexer": "ipython3",
   "version": "3.5.6"
  }
 },
 "nbformat": 4,
 "nbformat_minor": 4
}
