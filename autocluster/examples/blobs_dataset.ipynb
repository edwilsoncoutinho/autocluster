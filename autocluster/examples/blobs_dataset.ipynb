{
 "cells": [
  {
   "cell_type": "code",
   "execution_count": 1,
   "metadata": {},
   "outputs": [],
   "source": [
    "import os\n",
    "\n",
    "# change working directory, run this cell once\n",
    "os.chdir(\"../\")"
   ]
  },
  {
   "cell_type": "markdown",
   "metadata": {},
   "source": [
    "In this notebook, we will demonstrate an example on how to use the ``AutoCluster`` class for clustering."
   ]
  },
  {
   "cell_type": "markdown",
   "metadata": {},
   "source": [
    "### Import packages"
   ]
  },
  {
   "cell_type": "code",
   "execution_count": 2,
   "metadata": {},
   "outputs": [],
   "source": [
    "# we will be using sample datasets in sklearn\n",
    "from sklearn import datasets\n",
    "from collections import Counter\n",
    "import pandas as pd\n",
    "\n",
    "# autocluster functionalities\n",
    "from autocluster import AutoCluster\n",
    "from evaluators import get_evaluator\n",
    "from utils.metafeatures import MetafeatureMapper\n",
    "\n",
    "%load_ext autoreload\n",
    "%autoreload 2"
   ]
  },
  {
   "cell_type": "markdown",
   "metadata": {},
   "source": [
    "### Load sklearn dummy dataset"
   ]
  },
  {
   "cell_type": "code",
   "execution_count": 27,
   "metadata": {},
   "outputs": [
    {
     "data": {
      "text/html": [
       "<div>\n",
       "<style scoped>\n",
       "    .dataframe tbody tr th:only-of-type {\n",
       "        vertical-align: middle;\n",
       "    }\n",
       "\n",
       "    .dataframe tbody tr th {\n",
       "        vertical-align: top;\n",
       "    }\n",
       "\n",
       "    .dataframe thead th {\n",
       "        text-align: right;\n",
       "    }\n",
       "</style>\n",
       "<table border=\"1\" class=\"dataframe\">\n",
       "  <thead>\n",
       "    <tr style=\"text-align: right;\">\n",
       "      <th></th>\n",
       "      <th>0</th>\n",
       "      <th>1</th>\n",
       "    </tr>\n",
       "  </thead>\n",
       "  <tbody>\n",
       "    <tr>\n",
       "      <th>0</th>\n",
       "      <td>7.742343</td>\n",
       "      <td>-6.603815</td>\n",
       "    </tr>\n",
       "    <tr>\n",
       "      <th>1</th>\n",
       "      <td>8.726121</td>\n",
       "      <td>6.433689</td>\n",
       "    </tr>\n",
       "    <tr>\n",
       "      <th>2</th>\n",
       "      <td>-1.427522</td>\n",
       "      <td>5.393546</td>\n",
       "    </tr>\n",
       "    <tr>\n",
       "      <th>3</th>\n",
       "      <td>8.801468</td>\n",
       "      <td>-5.185687</td>\n",
       "    </tr>\n",
       "    <tr>\n",
       "      <th>4</th>\n",
       "      <td>-1.404321</td>\n",
       "      <td>9.526536</td>\n",
       "    </tr>\n",
       "  </tbody>\n",
       "</table>\n",
       "</div>"
      ],
      "text/plain": [
       "          0         1\n",
       "0  7.742343 -6.603815\n",
       "1  8.726121  6.433689\n",
       "2 -1.427522  5.393546\n",
       "3  8.801468 -5.185687\n",
       "4 -1.404321  9.526536"
      ]
     },
     "execution_count": 27,
     "metadata": {},
     "output_type": "execute_result"
    }
   ],
   "source": [
    "X, y = datasets.make_blobs(n_samples=1000, \n",
    "                           n_features=2, \n",
    "                           centers=6, \n",
    "                           cluster_std=0.5, \n",
    "                           shuffle=True, random_state=27)\n",
    "dummy_df = pd.DataFrame(X)\n",
    "dummy_df.head(5)"
   ]
  },
  {
   "cell_type": "markdown",
   "metadata": {},
   "source": [
    "- Note that we are converting the dataset from ``numpy`` format to ``pandas DataFrame`` format. \n",
    "- This is because the ``AutoCluster.fit()`` function only accepts ``DataFrame`` format as input.\n",
    "- There are 2 columns in this dataset, named ``0`` and ``1``. "
   ]
  },
  {
   "cell_type": "code",
   "execution_count": 28,
   "metadata": {},
   "outputs": [
    {
     "name": "stdout",
     "output_type": "stream",
     "text": [
      "Shape of this dataframe is (1000, 2)\n"
     ]
    }
   ],
   "source": [
    "print(\"Shape of this dataframe is {}\".format(dummy_df.shape))"
   ]
  },
  {
   "cell_type": "markdown",
   "metadata": {},
   "source": [
    "### Finding an optimal clustering model using Bayesian Optimization (SMAC)"
   ]
  },
  {
   "cell_type": "code",
   "execution_count": 31,
   "metadata": {},
   "outputs": [
    {
     "name": "stdout",
     "output_type": "stream",
     "text": [
      "900/1000 datapoints remaining after outlier removal\n",
      "Configuration space object:\n",
      "  Hyperparameters:\n",
      "    batch_size___MiniBatchKMeans, Type: UniformInteger, Range: [10, 1000], Default: 100\n",
      "    clustering_choice, Type: Categorical, Choices: {KMeans, GaussianMixture, MiniBatchKMeans}, Default: KMeans\n",
      "    covariance_type___GaussianMixture, Type: Categorical, Choices: {full, tied, diag, spherical}, Default: full\n",
      "    dim_reduction_choice, Type: Categorical, Choices: {NullModel}, Default: NullModel\n",
      "    init_params___GaussianMixture, Type: Categorical, Choices: {kmeans, random}, Default: kmeans\n",
      "    n_clusters___KMeans, Type: UniformInteger, Range: [1, 80], Default: 5\n",
      "    n_clusters___MiniBatchKMeans, Type: UniformInteger, Range: [1, 80], Default: 10\n",
      "    n_components___GaussianMixture, Type: UniformInteger, Range: [1, 80], Default: 5\n",
      "    random_state___NullModel, Type: Ordinal, Sequence: {0, 1, 2}, Default: 1\n",
      "    warm_start___GaussianMixture, Type: Categorical, Choices: {True, False}, Default: False\n",
      "  Conditions:\n",
      "    batch_size___MiniBatchKMeans | clustering_choice in {'MiniBatchKMeans'}\n",
      "    covariance_type___GaussianMixture | clustering_choice in {'GaussianMixture'}\n",
      "    init_params___GaussianMixture | clustering_choice in {'GaussianMixture'}\n",
      "    n_clusters___KMeans | clustering_choice in {'KMeans'}\n",
      "    n_clusters___MiniBatchKMeans | clustering_choice in {'MiniBatchKMeans'}\n",
      "    n_components___GaussianMixture | clustering_choice in {'GaussianMixture'}\n",
      "    random_state___NullModel | dim_reduction_choice in {'NullModel'}\n",
      "    warm_start___GaussianMixture | clustering_choice in {'GaussianMixture'}\n",
      "\n",
      "Truncated n_evaluations: 30\n",
      "{'cutoff_time': 10, 'cs': Configuration space object:\n",
      "  Hyperparameters:\n",
      "    batch_size___MiniBatchKMeans, Type: UniformInteger, Range: [10, 1000], Default: 100\n",
      "    clustering_choice, Type: Categorical, Choices: {KMeans, GaussianMixture, MiniBatchKMeans}, Default: KMeans\n",
      "    covariance_type___GaussianMixture, Type: Categorical, Choices: {full, tied, diag, spherical}, Default: full\n",
      "    dim_reduction_choice, Type: Categorical, Choices: {NullModel}, Default: NullModel\n",
      "    init_params___GaussianMixture, Type: Categorical, Choices: {kmeans, random}, Default: kmeans\n",
      "    n_clusters___KMeans, Type: UniformInteger, Range: [1, 80], Default: 5\n",
      "    n_clusters___MiniBatchKMeans, Type: UniformInteger, Range: [1, 80], Default: 10\n",
      "    n_components___GaussianMixture, Type: UniformInteger, Range: [1, 80], Default: 5\n",
      "    random_state___NullModel, Type: Ordinal, Sequence: {0, 1, 2}, Default: 1\n",
      "    warm_start___GaussianMixture, Type: Categorical, Choices: {True, False}, Default: False\n",
      "  Conditions:\n",
      "    batch_size___MiniBatchKMeans | clustering_choice in {'MiniBatchKMeans'}\n",
      "    covariance_type___GaussianMixture | clustering_choice in {'GaussianMixture'}\n",
      "    init_params___GaussianMixture | clustering_choice in {'GaussianMixture'}\n",
      "    n_clusters___KMeans | clustering_choice in {'KMeans'}\n",
      "    n_clusters___MiniBatchKMeans | clustering_choice in {'MiniBatchKMeans'}\n",
      "    n_components___GaussianMixture | clustering_choice in {'GaussianMixture'}\n",
      "    random_state___NullModel | dim_reduction_choice in {'NullModel'}\n",
      "    warm_start___GaussianMixture | clustering_choice in {'GaussianMixture'}\n",
      ", 'runcount-limit': 30, 'abort_on_first_run_crash': False, 'deterministic': 'true', 'output_dir': 'log//smac-2019-08-02_16-44-52-85605', 'run_obj': 'quality'}\n",
      "Fitting configuration: \n",
      "{'dim_reduction_choice': 'NullModel', 'n_clusters___KMeans': 5, 'random_state___NullModel': 1, 'clustering_choice': 'KMeans'}\n",
      "Score obtained by this configuration: 0.15401716712144917\n",
      "Fitting configuration: \n",
      "{'dim_reduction_choice': 'NullModel', 'random_state___NullModel': 2, 'clustering_choice': 'MiniBatchKMeans', 'batch_size___MiniBatchKMeans': 958, 'n_clusters___MiniBatchKMeans': 13}\n",
      "Score obtained by this configuration: 0.33198800521364585\n",
      "Fitting configuration: \n",
      "{'dim_reduction_choice': 'NullModel', 'init_params___GaussianMixture': 'kmeans', 'clustering_choice': 'GaussianMixture', 'covariance_type___GaussianMixture': 'spherical', 'n_components___GaussianMixture': 60}\n",
      "Score obtained by this configuration: inf\n"
     ]
    },
    {
     "name": "stderr",
     "output_type": "stream",
     "text": [
      "WARNING:smac.tae.execute_func.ExecuteTAFuncDict:Target Algorithm returned NaN or inf as quality. Algorithm run is treated as CRASHED, cost is set to 2147483647.0 for quality scenarios. (Change value through \"cost_for_crash\"-option.)\n"
     ]
    },
    {
     "name": "stdout",
     "output_type": "stream",
     "text": [
      "Fitting configuration: \n",
      "{'dim_reduction_choice': 'NullModel', 'random_state___NullModel': 1, 'clustering_choice': 'MiniBatchKMeans', 'batch_size___MiniBatchKMeans': 969, 'n_clusters___MiniBatchKMeans': 2}\n",
      "Score obtained by this configuration: 0.25357069340257604\n",
      "Fitting configuration: \n",
      "{'dim_reduction_choice': 'NullModel', 'n_clusters___KMeans': 7, 'random_state___NullModel': 2, 'clustering_choice': 'KMeans'}\n",
      "Score obtained by this configuration: 0.21572892129839172\n",
      "Fitting configuration: \n",
      "{'dim_reduction_choice': 'NullModel', 'random_state___NullModel': 1, 'clustering_choice': 'MiniBatchKMeans', 'batch_size___MiniBatchKMeans': 250, 'n_clusters___MiniBatchKMeans': 19}\n",
      "Score obtained by this configuration: inf\n"
     ]
    },
    {
     "name": "stderr",
     "output_type": "stream",
     "text": [
      "WARNING:smac.tae.execute_func.ExecuteTAFuncDict:Target Algorithm returned NaN or inf as quality. Algorithm run is treated as CRASHED, cost is set to 2147483647.0 for quality scenarios. (Change value through \"cost_for_crash\"-option.)\n"
     ]
    },
    {
     "name": "stdout",
     "output_type": "stream",
     "text": [
      "Fitting configuration: \n",
      "{'dim_reduction_choice': 'NullModel', 'n_clusters___KMeans': 25, 'random_state___NullModel': 1, 'clustering_choice': 'KMeans'}\n",
      "Score obtained by this configuration: inf\n"
     ]
    },
    {
     "name": "stderr",
     "output_type": "stream",
     "text": [
      "WARNING:smac.tae.execute_func.ExecuteTAFuncDict:Target Algorithm returned NaN or inf as quality. Algorithm run is treated as CRASHED, cost is set to 2147483647.0 for quality scenarios. (Change value through \"cost_for_crash\"-option.)\n"
     ]
    },
    {
     "name": "stdout",
     "output_type": "stream",
     "text": [
      "Fitting configuration: \n",
      "{'dim_reduction_choice': 'NullModel', 'random_state___NullModel': 2, 'clustering_choice': 'MiniBatchKMeans', 'batch_size___MiniBatchKMeans': 744, 'n_clusters___MiniBatchKMeans': 46}\n",
      "Score obtained by this configuration: inf\n"
     ]
    },
    {
     "name": "stderr",
     "output_type": "stream",
     "text": [
      "WARNING:smac.tae.execute_func.ExecuteTAFuncDict:Target Algorithm returned NaN or inf as quality. Algorithm run is treated as CRASHED, cost is set to 2147483647.0 for quality scenarios. (Change value through \"cost_for_crash\"-option.)\n"
     ]
    },
    {
     "name": "stdout",
     "output_type": "stream",
     "text": [
      "Fitting configuration: \n",
      "{'dim_reduction_choice': 'NullModel', 'n_clusters___KMeans': 24, 'random_state___NullModel': 1, 'clustering_choice': 'KMeans'}\n",
      "Score obtained by this configuration: inf\n"
     ]
    },
    {
     "name": "stderr",
     "output_type": "stream",
     "text": [
      "WARNING:smac.tae.execute_func.ExecuteTAFuncDict:Target Algorithm returned NaN or inf as quality. Algorithm run is treated as CRASHED, cost is set to 2147483647.0 for quality scenarios. (Change value through \"cost_for_crash\"-option.)\n"
     ]
    },
    {
     "name": "stdout",
     "output_type": "stream",
     "text": [
      "Fitting configuration: \n",
      "{'dim_reduction_choice': 'NullModel', 'clustering_choice': 'MiniBatchKMeans', 'batch_size___MiniBatchKMeans': 696, 'n_clusters___MiniBatchKMeans': 23}\n",
      "Score obtained by this configuration: inf\n"
     ]
    },
    {
     "name": "stderr",
     "output_type": "stream",
     "text": [
      "WARNING:smac.tae.execute_func.ExecuteTAFuncDict:Target Algorithm returned NaN or inf as quality. Algorithm run is treated as CRASHED, cost is set to 2147483647.0 for quality scenarios. (Change value through \"cost_for_crash\"-option.)\n"
     ]
    },
    {
     "name": "stdout",
     "output_type": "stream",
     "text": [
      "Fitting configuration: \n",
      "{'dim_reduction_choice': 'NullModel', 'clustering_choice': 'MiniBatchKMeans', 'batch_size___MiniBatchKMeans': 979, 'n_clusters___MiniBatchKMeans': 26}\n",
      "Score obtained by this configuration: inf\n"
     ]
    },
    {
     "name": "stderr",
     "output_type": "stream",
     "text": [
      "WARNING:smac.tae.execute_func.ExecuteTAFuncDict:Target Algorithm returned NaN or inf as quality. Algorithm run is treated as CRASHED, cost is set to 2147483647.0 for quality scenarios. (Change value through \"cost_for_crash\"-option.)\n"
     ]
    },
    {
     "name": "stdout",
     "output_type": "stream",
     "text": [
      "Fitting configuration: \n",
      "{'dim_reduction_choice': 'NullModel', 'random_state___NullModel': 1, 'clustering_choice': 'MiniBatchKMeans', 'batch_size___MiniBatchKMeans': 964, 'n_clusters___MiniBatchKMeans': 8}\n",
      "Score obtained by this configuration: 0.26378436164524255\n",
      "Fitting configuration: \n",
      "{'dim_reduction_choice': 'NullModel', 'random_state___NullModel': 2, 'clustering_choice': 'MiniBatchKMeans', 'batch_size___MiniBatchKMeans': 997, 'n_clusters___MiniBatchKMeans': 7}\n",
      "Score obtained by this configuration: 0.21519328571012541\n",
      "Fitting configuration: \n",
      "{'random_state___NullModel': 2, 'init_params___GaussianMixture': 'kmeans', 'clustering_choice': 'GaussianMixture', 'n_components___GaussianMixture': 24, 'dim_reduction_choice': 'NullModel', 'covariance_type___GaussianMixture': 'tied'}\n",
      "Score obtained by this configuration: inf\n"
     ]
    },
    {
     "name": "stderr",
     "output_type": "stream",
     "text": [
      "WARNING:smac.tae.execute_func.ExecuteTAFuncDict:Target Algorithm returned NaN or inf as quality. Algorithm run is treated as CRASHED, cost is set to 2147483647.0 for quality scenarios. (Change value through \"cost_for_crash\"-option.)\n"
     ]
    },
    {
     "name": "stdout",
     "output_type": "stream",
     "text": [
      "Fitting configuration: \n",
      "{'dim_reduction_choice': 'NullModel', 'init_params___GaussianMixture': 'kmeans', 'clustering_choice': 'GaussianMixture', 'covariance_type___GaussianMixture': 'tied', 'n_components___GaussianMixture': 30}\n",
      "Score obtained by this configuration: inf\n"
     ]
    },
    {
     "name": "stderr",
     "output_type": "stream",
     "text": [
      "WARNING:smac.tae.execute_func.ExecuteTAFuncDict:Target Algorithm returned NaN or inf as quality. Algorithm run is treated as CRASHED, cost is set to 2147483647.0 for quality scenarios. (Change value through \"cost_for_crash\"-option.)\n"
     ]
    },
    {
     "name": "stdout",
     "output_type": "stream",
     "text": [
      "Fitting configuration: \n",
      "{'warm_start___GaussianMixture': True, 'random_state___NullModel': 2, 'init_params___GaussianMixture': 'random', 'clustering_choice': 'GaussianMixture', 'n_components___GaussianMixture': 67, 'dim_reduction_choice': 'NullModel', 'covariance_type___GaussianMixture': 'spherical'}\n",
      "Score obtained by this configuration: inf\n"
     ]
    },
    {
     "name": "stderr",
     "output_type": "stream",
     "text": [
      "WARNING:smac.tae.execute_func.ExecuteTAFuncDict:Target Algorithm returned NaN or inf as quality. Algorithm run is treated as CRASHED, cost is set to 2147483647.0 for quality scenarios. (Change value through \"cost_for_crash\"-option.)\n"
     ]
    },
    {
     "name": "stdout",
     "output_type": "stream",
     "text": [
      "Fitting configuration: \n",
      "{'dim_reduction_choice': 'NullModel', 'random_state___NullModel': 1, 'clustering_choice': 'MiniBatchKMeans', 'batch_size___MiniBatchKMeans': 969, 'n_clusters___MiniBatchKMeans': 3}\n",
      "Score obtained by this configuration: 0.1708487398695985\n",
      "Fitting configuration: \n",
      "{'dim_reduction_choice': 'NullModel', 'n_clusters___KMeans': 16, 'random_state___NullModel': 2, 'clustering_choice': 'KMeans'}\n",
      "Score obtained by this configuration: 0.32591316551290267\n",
      "Fitting configuration: \n",
      "{'dim_reduction_choice': 'NullModel', 'n_clusters___KMeans': 53, 'clustering_choice': 'KMeans'}\n",
      "Score obtained by this configuration: inf\n"
     ]
    },
    {
     "name": "stderr",
     "output_type": "stream",
     "text": [
      "WARNING:smac.tae.execute_func.ExecuteTAFuncDict:Target Algorithm returned NaN or inf as quality. Algorithm run is treated as CRASHED, cost is set to 2147483647.0 for quality scenarios. (Change value through \"cost_for_crash\"-option.)\n"
     ]
    },
    {
     "name": "stdout",
     "output_type": "stream",
     "text": [
      "Fitting configuration: \n",
      "{'random_state___NullModel': 1, 'init_params___GaussianMixture': 'random', 'clustering_choice': 'GaussianMixture', 'n_components___GaussianMixture': 53, 'dim_reduction_choice': 'NullModel', 'covariance_type___GaussianMixture': 'spherical'}\n"
     ]
    },
    {
     "name": "stderr",
     "output_type": "stream",
     "text": [
      "/home/wywongbd/anaconda3/envs/spia2019/lib/python3.5/site-packages/sklearn/mixture/base.py:265: ConvergenceWarning: Initialization 1 did not converge. Try different init parameters, or increase max_iter, tol or check for degenerate data.\n",
      "  % (init + 1), ConvergenceWarning)\n"
     ]
    },
    {
     "name": "stdout",
     "output_type": "stream",
     "text": [
      "Score obtained by this configuration: inf\n"
     ]
    },
    {
     "name": "stderr",
     "output_type": "stream",
     "text": [
      "WARNING:smac.tae.execute_func.ExecuteTAFuncDict:Target Algorithm returned NaN or inf as quality. Algorithm run is treated as CRASHED, cost is set to 2147483647.0 for quality scenarios. (Change value through \"cost_for_crash\"-option.)\n"
     ]
    },
    {
     "name": "stdout",
     "output_type": "stream",
     "text": [
      "Fitting configuration: \n",
      "{'random_state___NullModel': 1, 'init_params___GaussianMixture': 'kmeans', 'clustering_choice': 'GaussianMixture', 'n_components___GaussianMixture': 4, 'dim_reduction_choice': 'NullModel', 'covariance_type___GaussianMixture': 'spherical'}\n",
      "Score obtained by this configuration: 0.18289693791788167\n",
      "Fitting configuration: \n",
      "{'dim_reduction_choice': 'NullModel', 'random_state___NullModel': 2, 'clustering_choice': 'MiniBatchKMeans', 'batch_size___MiniBatchKMeans': 847, 'n_clusters___MiniBatchKMeans': 8}\n",
      "Score obtained by this configuration: 0.2636509309786103\n",
      "Fitting configuration: \n",
      "{'dim_reduction_choice': 'NullModel', 'random_state___NullModel': 1, 'clustering_choice': 'MiniBatchKMeans', 'batch_size___MiniBatchKMeans': 168, 'n_clusters___MiniBatchKMeans': 55}\n",
      "Score obtained by this configuration: inf\n"
     ]
    },
    {
     "name": "stderr",
     "output_type": "stream",
     "text": [
      "WARNING:smac.tae.execute_func.ExecuteTAFuncDict:Target Algorithm returned NaN or inf as quality. Algorithm run is treated as CRASHED, cost is set to 2147483647.0 for quality scenarios. (Change value through \"cost_for_crash\"-option.)\n"
     ]
    },
    {
     "name": "stdout",
     "output_type": "stream",
     "text": [
      "Fitting configuration: \n",
      "{'dim_reduction_choice': 'NullModel', 'clustering_choice': 'MiniBatchKMeans', 'batch_size___MiniBatchKMeans': 711, 'n_clusters___MiniBatchKMeans': 6}\n",
      "Score obtained by this configuration: 0.1444009501893485\n",
      "Fitting configuration: \n",
      "{'dim_reduction_choice': 'NullModel', 'clustering_choice': 'MiniBatchKMeans', 'batch_size___MiniBatchKMeans': 826, 'n_clusters___MiniBatchKMeans': 1}\n",
      "Score obtained by this configuration: inf\n"
     ]
    },
    {
     "name": "stderr",
     "output_type": "stream",
     "text": [
      "WARNING:smac.tae.execute_func.ExecuteTAFuncDict:Target Algorithm returned NaN or inf as quality. Algorithm run is treated as CRASHED, cost is set to 2147483647.0 for quality scenarios. (Change value through \"cost_for_crash\"-option.)\n"
     ]
    },
    {
     "name": "stdout",
     "output_type": "stream",
     "text": [
      "Fitting configuration: \n",
      "{'dim_reduction_choice': 'NullModel', 'n_clusters___KMeans': 79, 'random_state___NullModel': 2, 'clustering_choice': 'KMeans'}\n",
      "Score obtained by this configuration: inf\n"
     ]
    },
    {
     "name": "stderr",
     "output_type": "stream",
     "text": [
      "WARNING:smac.tae.execute_func.ExecuteTAFuncDict:Target Algorithm returned NaN or inf as quality. Algorithm run is treated as CRASHED, cost is set to 2147483647.0 for quality scenarios. (Change value through \"cost_for_crash\"-option.)\n"
     ]
    },
    {
     "name": "stdout",
     "output_type": "stream",
     "text": [
      "Fitting configuration: \n",
      "{'dim_reduction_choice': 'NullModel', 'clustering_choice': 'MiniBatchKMeans', 'batch_size___MiniBatchKMeans': 969, 'n_clusters___MiniBatchKMeans': 5}\n",
      "Score obtained by this configuration: 0.15401716712144917\n",
      "Fitting configuration: \n",
      "{'dim_reduction_choice': 'NullModel', 'n_clusters___KMeans': 52, 'random_state___NullModel': 2, 'clustering_choice': 'KMeans'}\n",
      "Score obtained by this configuration: inf\n"
     ]
    },
    {
     "name": "stderr",
     "output_type": "stream",
     "text": [
      "WARNING:smac.tae.execute_func.ExecuteTAFuncDict:Target Algorithm returned NaN or inf as quality. Algorithm run is treated as CRASHED, cost is set to 2147483647.0 for quality scenarios. (Change value through \"cost_for_crash\"-option.)\n"
     ]
    },
    {
     "name": "stdout",
     "output_type": "stream",
     "text": [
      "Fitting configuration: \n",
      "{'dim_reduction_choice': 'NullModel', 'random_state___NullModel': 2, 'clustering_choice': 'MiniBatchKMeans', 'batch_size___MiniBatchKMeans': 703, 'n_clusters___MiniBatchKMeans': 2}\n",
      "Score obtained by this configuration: 0.25357069340257604\n",
      "Fitting configuration: \n",
      "{'dim_reduction_choice': 'NullModel', 'clustering_choice': 'MiniBatchKMeans', 'batch_size___MiniBatchKMeans': 417, 'n_clusters___MiniBatchKMeans': 57}\n",
      "Score obtained by this configuration: inf\n"
     ]
    },
    {
     "name": "stderr",
     "output_type": "stream",
     "text": [
      "WARNING:smac.tae.execute_func.ExecuteTAFuncDict:Target Algorithm returned NaN or inf as quality. Algorithm run is treated as CRASHED, cost is set to 2147483647.0 for quality scenarios. (Change value through \"cost_for_crash\"-option.)\n"
     ]
    },
    {
     "name": "stdout",
     "output_type": "stream",
     "text": [
      "Optimization is complete.\n",
      "Took 49.96 seconds.\n",
      "The optimal configuration is \n",
      "Configuration:\n",
      "  batch_size___MiniBatchKMeans, Value: 711\n",
      "  clustering_choice, Value: 'MiniBatchKMeans'\n",
      "  dim_reduction_choice, Value: 'NullModel'\n",
      "  n_clusters___MiniBatchKMeans, Value: 6\n",
      "  random_state___NullModel, Value: 0\n",
      "\n"
     ]
    }
   ],
   "source": [
    "cluster = AutoCluster()\n",
    "fit_params = {\n",
    "    \"df\": dummy_df, \n",
    "    \"cluster_alg_ls\": [\n",
    "        'KMeans', 'GaussianMixture', 'MiniBatchKMeans'\n",
    "    ], \n",
    "    \"dim_reduction_alg_ls\": [\n",
    "        'NullModel'\n",
    "    ],\n",
    "    \"optimizer\": 'smac',\n",
    "    \"n_evaluations\": 30,\n",
    "    \"run_obj\": 'quality',\n",
    "    \"seed\": 27,\n",
    "    \"cutoff_time\": 10,\n",
    "    \"preprocess_dict\": {\n",
    "        \"numeric_cols\": list(range(2)),\n",
    "        \"categorical_cols\": [],\n",
    "        \"ordinal_cols\": [],\n",
    "        \"y_col\": []\n",
    "    },\n",
    "    \"evaluator\": get_evaluator(evaluator_ls = ['silhouetteScore', \n",
    "                                               'daviesBouldinScore', \n",
    "                                               'calinskiHarabaszScore'], \n",
    "                               weights = [1, 1, 1], \n",
    "                               clustering_num = None, \n",
    "                               min_proportion = .01, \n",
    "                               min_relative_proportion='default'),\n",
    "    \"n_folds\": 3,\n",
    "    \"warmstart\": False\n",
    "}\n",
    "result_dict = cluster.fit(**fit_params)"
   ]
  },
  {
   "cell_type": "markdown",
   "metadata": {},
   "source": [
    "There is a lot going on here, let's talk about some of the parameters used in the example above:\n",
    "- ``cluster_alg_ls``: This is the list of possible clustering algorithms to include within the search space.\n",
    "- ``dim_reduction_alg_ls``: This is the list of possible dimension reduction algorithms to include within the search space. Dimension reduction is performed **before** the clustering step. ``NullModel`` means no dimension reduction is done.\n",
    "- ``optimizer``: There are two options for this, ``\"smac\"`` or ``\"random\"``. ``\"smac\"`` does Bayesian Optimization using the SMAC library, while ``\"random\"`` just performs random search optimization.\n",
    "- ``n_evaluations``: number of iterations to run, generally the larger the better.\n",
    "- ``cutoff_time``: If evaluating a certain configuration takes longer than this value (in seconds), it will be terminated.\n",
    "- ``preprocess_dict``: This is important, ``AutoCluster.fit()`` uses this dictionary to preprocess the dataset. For instance, categorical columns will be one hot encoded, while ordinal columns will encoded as integers. \n",
    "- ``evaluator``: This is important, it tells ``AutoCluster.fit()`` how to evaluate a clustering result. \n",
    "    - ``evaluator_ls``: list of metric to include in a linear combination. Choices available are ``[\"silhouetteScore\", \"daviesBouldinScore\", \"calinskiHarabaszScore\"]``.\n",
    "    - ``weights``: how much weights to use for each metric in the linear combination.\n",
    "    - ``clustering_num``: A tuple is expected. If clustering result has n_clusters outside this specified range, ``float(inf)`` will be returned from evaluator.\n",
    "    - ``min_proportion``: The proportion of points in each cluster must be at least this value.\n",
    "    - ``min_relative_proportion``: The ratio of number points in the smallest cluster to the number of points in the largest cluster must be at least this value. By using ``'default'``, ``min_relative_proportion`` will be set to `` 5 * min_proportion``.\n",
    "- ``warmstart``: Whether or not to use warmstart, examples will be shown below on how to use this."
   ]
  },
  {
   "cell_type": "code",
   "execution_count": 32,
   "metadata": {},
   "outputs": [
    {
     "data": {
      "image/png": "[encoded data removed]",
      "text/plain": [
       "<Figure size 720x720 with 1 Axes>"
      ]
     },
     "metadata": {
      "needs_background": "dark"
     },
     "output_type": "display_data"
    }
   ],
   "source": [
    "predictions = cluster.predict(dummy_df)"
   ]
  },
  {
   "cell_type": "code",
   "execution_count": 33,
   "metadata": {},
   "outputs": [
    {
     "name": "stdout",
     "output_type": "stream",
     "text": [
      "Configuration:\n",
      "  batch_size___MiniBatchKMeans, Value: 711\n",
      "  clustering_choice, Value: 'MiniBatchKMeans'\n",
      "  dim_reduction_choice, Value: 'NullModel'\n",
      "  n_clusters___MiniBatchKMeans, Value: 6\n",
      "  random_state___NullModel, Value: 0\n",
      "\n",
      "Counter({5: 168, 1: 167, 2: 167, 3: 167, 4: 166, 0: 165})\n"
     ]
    }
   ],
   "source": [
    "print(result_dict[\"optimal_cfg\"])\n",
    "print(Counter(predictions))"
   ]
  },
  {
   "cell_type": "code",
   "execution_count": null,
   "metadata": {},
   "outputs": [],
   "source": []
  },
  {
   "cell_type": "code",
   "execution_count": null,
   "metadata": {},
   "outputs": [],
   "source": []
  }
 ],
 "metadata": {
  "kernelspec": {
   "display_name": "Python [conda env:spia2019]",
   "language": "python",
   "name": "conda-env-spia2019-py"
  },
  "language_info": {
   "codemirror_mode": {
    "name": "ipython",
    "version": 3
   },
   "file_extension": ".py",
   "mimetype": "text/x-python",
   "name": "python",
   "nbconvert_exporter": "python",
   "pygments_lexer": "ipython3",
   "version": "3.5.6"
  }
 },
 "nbformat": 4,
 "nbformat_minor": 2
}
