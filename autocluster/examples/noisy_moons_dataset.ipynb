{
 "cells": [
  {
   "cell_type": "markdown",
   "metadata": {},
   "source": [
    "### Research Question 1: Does TSNE help us improve the \"quality\" of our clustering?\n",
    "\n",
    "Quality is defined as the clustering seeming continuous to human observers\n",
    "Due the difficulty of visualizing continuity in high dimensions, we may use the clustering's v measure score for categorical datasets which have sufficient \"seperation\", i.e. the classifications are not ordinal "
   ]
  },
  {
   "cell_type": "markdown",
   "metadata": {},
   "source": [
    "### Experiment 1:\n",
    "\n",
    "Research Question:\n",
    "Does TSNE help us to cluster well seperated data better?\n",
    "\n",
    "The hand gestures dataset contains data for hand gestures are categorical, and the hand gestures are sufficiently distinct. It is well suited for testing via v_measure\n",
    "\n",
    "- Run the algorithm, with TSNE, for 200 iterations, on the dataset\n",
    "- check the v measure score\n",
    "- Run the algorithm without TSNE, for 200 iterations, on the dataset\n",
    "- check the v measure score\n",
    "- Make note of the time taken, may be useful in the future when evaluating whether increased timecost is worthwhile\n",
    "\n",
    "if the TSNE improves v measure score, then TSNE contributes to improved clustering\n",
    "if it has no effect, it is unnecessary cost\n",
    "if it makes it worse, the heuristic we are giving the algorithm results in dimension reduction that warp the clusters\n",
    "\n",
    "due to many of these processes being random, we may need to run multiple times\n",
    "\n",
    "Repeat if needed for other dimension reduction algorithms"
   ]
  },
  {
   "cell_type": "code",
   "execution_count": 1,
   "metadata": {},
   "outputs": [],
   "source": [
    "import os\n",
    "\n",
    "# change working directory, run this cell once\n",
    "os.chdir(\"../\")\n",
    "\n",
    "# supress warnings\n",
    "import warnings\n",
    "warnings.filterwarnings(\"ignore\")"
   ]
  },
  {
   "cell_type": "code",
   "execution_count": 2,
   "metadata": {},
   "outputs": [],
   "source": [
    "from autocluster import AutoCluster\n",
    "from evaluators import get_evaluator\n",
    "from sklearn import datasets\n",
    "from collections import Counter\n",
    "from utils.metafeatures import MetafeatureMapper\n",
    "from sklearn.metrics.cluster import v_measure_score\n",
    "import pandas as pd\n",
    "\n",
    "%load_ext autoreload\n",
    "%autoreload 2"
   ]
  },
  {
   "cell_type": "code",
   "execution_count": 3,
   "metadata": {},
   "outputs": [
    {
     "data": {
      "text/html": [
       "<div>\n",
       "<style scoped>\n",
       "    .dataframe tbody tr th:only-of-type {\n",
       "        vertical-align: middle;\n",
       "    }\n",
       "\n",
       "    .dataframe tbody tr th {\n",
       "        vertical-align: top;\n",
       "    }\n",
       "\n",
       "    .dataframe thead th {\n",
       "        text-align: right;\n",
       "    }\n",
       "</style>\n",
       "<table border=\"1\" class=\"dataframe\">\n",
       "  <thead>\n",
       "    <tr style=\"text-align: right;\">\n",
       "      <th></th>\n",
       "      <th>0</th>\n",
       "      <th>1</th>\n",
       "      <th>2</th>\n",
       "      <th>3</th>\n",
       "      <th>4</th>\n",
       "      <th>5</th>\n",
       "      <th>6</th>\n",
       "      <th>7</th>\n",
       "      <th>8</th>\n",
       "      <th>9</th>\n",
       "      <th>...</th>\n",
       "      <th>55</th>\n",
       "      <th>56</th>\n",
       "      <th>57</th>\n",
       "      <th>58</th>\n",
       "      <th>59</th>\n",
       "      <th>60</th>\n",
       "      <th>61</th>\n",
       "      <th>62</th>\n",
       "      <th>63</th>\n",
       "      <th>class</th>\n",
       "    </tr>\n",
       "  </thead>\n",
       "  <tbody>\n",
       "    <tr>\n",
       "      <th>0</th>\n",
       "      <td>26.0</td>\n",
       "      <td>4.0</td>\n",
       "      <td>5.0</td>\n",
       "      <td>8.0</td>\n",
       "      <td>-1.0</td>\n",
       "      <td>-13.0</td>\n",
       "      <td>-109.0</td>\n",
       "      <td>-66.0</td>\n",
       "      <td>-9.0</td>\n",
       "      <td>2.0</td>\n",
       "      <td>...</td>\n",
       "      <td>-28.0</td>\n",
       "      <td>61.0</td>\n",
       "      <td>4.0</td>\n",
       "      <td>8.0</td>\n",
       "      <td>5.0</td>\n",
       "      <td>4.0</td>\n",
       "      <td>-7.0</td>\n",
       "      <td>-59.0</td>\n",
       "      <td>16.0</td>\n",
       "      <td>0</td>\n",
       "    </tr>\n",
       "    <tr>\n",
       "      <th>1</th>\n",
       "      <td>-47.0</td>\n",
       "      <td>-6.0</td>\n",
       "      <td>-5.0</td>\n",
       "      <td>-7.0</td>\n",
       "      <td>13.0</td>\n",
       "      <td>-1.0</td>\n",
       "      <td>35.0</td>\n",
       "      <td>-10.0</td>\n",
       "      <td>10.0</td>\n",
       "      <td>-4.0</td>\n",
       "      <td>...</td>\n",
       "      <td>-25.0</td>\n",
       "      <td>47.0</td>\n",
       "      <td>6.0</td>\n",
       "      <td>6.0</td>\n",
       "      <td>5.0</td>\n",
       "      <td>13.0</td>\n",
       "      <td>21.0</td>\n",
       "      <td>111.0</td>\n",
       "      <td>15.0</td>\n",
       "      <td>0</td>\n",
       "    </tr>\n",
       "    <tr>\n",
       "      <th>2</th>\n",
       "      <td>-19.0</td>\n",
       "      <td>-8.0</td>\n",
       "      <td>-8.0</td>\n",
       "      <td>-8.0</td>\n",
       "      <td>-21.0</td>\n",
       "      <td>-6.0</td>\n",
       "      <td>-79.0</td>\n",
       "      <td>12.0</td>\n",
       "      <td>0.0</td>\n",
       "      <td>5.0</td>\n",
       "      <td>...</td>\n",
       "      <td>-83.0</td>\n",
       "      <td>7.0</td>\n",
       "      <td>7.0</td>\n",
       "      <td>1.0</td>\n",
       "      <td>-8.0</td>\n",
       "      <td>7.0</td>\n",
       "      <td>21.0</td>\n",
       "      <td>114.0</td>\n",
       "      <td>48.0</td>\n",
       "      <td>0</td>\n",
       "    </tr>\n",
       "    <tr>\n",
       "      <th>3</th>\n",
       "      <td>2.0</td>\n",
       "      <td>3.0</td>\n",
       "      <td>0.0</td>\n",
       "      <td>2.0</td>\n",
       "      <td>0.0</td>\n",
       "      <td>22.0</td>\n",
       "      <td>106.0</td>\n",
       "      <td>-14.0</td>\n",
       "      <td>-16.0</td>\n",
       "      <td>-2.0</td>\n",
       "      <td>...</td>\n",
       "      <td>-38.0</td>\n",
       "      <td>-11.0</td>\n",
       "      <td>4.0</td>\n",
       "      <td>7.0</td>\n",
       "      <td>11.0</td>\n",
       "      <td>33.0</td>\n",
       "      <td>39.0</td>\n",
       "      <td>119.0</td>\n",
       "      <td>43.0</td>\n",
       "      <td>0</td>\n",
       "    </tr>\n",
       "    <tr>\n",
       "      <th>4</th>\n",
       "      <td>6.0</td>\n",
       "      <td>0.0</td>\n",
       "      <td>0.0</td>\n",
       "      <td>-2.0</td>\n",
       "      <td>-14.0</td>\n",
       "      <td>10.0</td>\n",
       "      <td>-51.0</td>\n",
       "      <td>5.0</td>\n",
       "      <td>7.0</td>\n",
       "      <td>0.0</td>\n",
       "      <td>...</td>\n",
       "      <td>38.0</td>\n",
       "      <td>-35.0</td>\n",
       "      <td>-8.0</td>\n",
       "      <td>2.0</td>\n",
       "      <td>6.0</td>\n",
       "      <td>-13.0</td>\n",
       "      <td>-24.0</td>\n",
       "      <td>-112.0</td>\n",
       "      <td>-69.0</td>\n",
       "      <td>0</td>\n",
       "    </tr>\n",
       "  </tbody>\n",
       "</table>\n",
       "<p>5 rows × 65 columns</p>\n",
       "</div>"
      ],
      "text/plain": [
       "      0    1    2    3     4     5      6     7     8    9  ...    55    56  \\\n",
       "0  26.0  4.0  5.0  8.0  -1.0 -13.0 -109.0 -66.0  -9.0  2.0  ... -28.0  61.0   \n",
       "1 -47.0 -6.0 -5.0 -7.0  13.0  -1.0   35.0 -10.0  10.0 -4.0  ... -25.0  47.0   \n",
       "2 -19.0 -8.0 -8.0 -8.0 -21.0  -6.0  -79.0  12.0   0.0  5.0  ... -83.0   7.0   \n",
       "3   2.0  3.0  0.0  2.0   0.0  22.0  106.0 -14.0 -16.0 -2.0  ... -38.0 -11.0   \n",
       "4   6.0  0.0  0.0 -2.0 -14.0  10.0  -51.0   5.0   7.0  0.0  ...  38.0 -35.0   \n",
       "\n",
       "    57   58    59    60    61     62    63  class  \n",
       "0  4.0  8.0   5.0   4.0  -7.0  -59.0  16.0      0  \n",
       "1  6.0  6.0   5.0  13.0  21.0  111.0  15.0      0  \n",
       "2  7.0  1.0  -8.0   7.0  21.0  114.0  48.0      0  \n",
       "3  4.0  7.0  11.0  33.0  39.0  119.0  43.0      0  \n",
       "4 -8.0  2.0   6.0 -13.0 -24.0 -112.0 -69.0      0  \n",
       "\n",
       "[5 rows x 65 columns]"
      ]
     },
     "execution_count": 3,
     "metadata": {},
     "output_type": "execute_result"
    }
   ],
   "source": [
    "df = pd.read_csv(\"../data/hand_gestures_classification_merged.csv\",)\n",
    "df.head(5)"
   ]
  },
  {
   "cell_type": "code",
   "execution_count": 4,
   "metadata": {},
   "outputs": [
    {
     "data": {
      "text/plain": [
       "(11678, 65)"
      ]
     },
     "execution_count": 4,
     "metadata": {},
     "output_type": "execute_result"
    }
   ],
   "source": [
    "df.shape"
   ]
  },
  {
   "cell_type": "code",
   "execution_count": 5,
   "metadata": {},
   "outputs": [
    {
     "data": {
      "text/html": [
       "<div>\n",
       "<style scoped>\n",
       "    .dataframe tbody tr th:only-of-type {\n",
       "        vertical-align: middle;\n",
       "    }\n",
       "\n",
       "    .dataframe tbody tr th {\n",
       "        vertical-align: top;\n",
       "    }\n",
       "\n",
       "    .dataframe thead th {\n",
       "        text-align: right;\n",
       "    }\n",
       "</style>\n",
       "<table border=\"1\" class=\"dataframe\">\n",
       "  <thead>\n",
       "    <tr style=\"text-align: right;\">\n",
       "      <th></th>\n",
       "      <th>0</th>\n",
       "      <th>1</th>\n",
       "      <th>2</th>\n",
       "      <th>3</th>\n",
       "      <th>4</th>\n",
       "      <th>5</th>\n",
       "      <th>6</th>\n",
       "      <th>7</th>\n",
       "      <th>8</th>\n",
       "      <th>9</th>\n",
       "      <th>...</th>\n",
       "      <th>54</th>\n",
       "      <th>55</th>\n",
       "      <th>56</th>\n",
       "      <th>57</th>\n",
       "      <th>58</th>\n",
       "      <th>59</th>\n",
       "      <th>60</th>\n",
       "      <th>61</th>\n",
       "      <th>62</th>\n",
       "      <th>63</th>\n",
       "    </tr>\n",
       "  </thead>\n",
       "  <tbody>\n",
       "    <tr>\n",
       "      <th>0</th>\n",
       "      <td>26.0</td>\n",
       "      <td>4.0</td>\n",
       "      <td>5.0</td>\n",
       "      <td>8.0</td>\n",
       "      <td>-1.0</td>\n",
       "      <td>-13.0</td>\n",
       "      <td>-109.0</td>\n",
       "      <td>-66.0</td>\n",
       "      <td>-9.0</td>\n",
       "      <td>2.0</td>\n",
       "      <td>...</td>\n",
       "      <td>21.0</td>\n",
       "      <td>-28.0</td>\n",
       "      <td>61.0</td>\n",
       "      <td>4.0</td>\n",
       "      <td>8.0</td>\n",
       "      <td>5.0</td>\n",
       "      <td>4.0</td>\n",
       "      <td>-7.0</td>\n",
       "      <td>-59.0</td>\n",
       "      <td>16.0</td>\n",
       "    </tr>\n",
       "    <tr>\n",
       "      <th>1</th>\n",
       "      <td>-47.0</td>\n",
       "      <td>-6.0</td>\n",
       "      <td>-5.0</td>\n",
       "      <td>-7.0</td>\n",
       "      <td>13.0</td>\n",
       "      <td>-1.0</td>\n",
       "      <td>35.0</td>\n",
       "      <td>-10.0</td>\n",
       "      <td>10.0</td>\n",
       "      <td>-4.0</td>\n",
       "      <td>...</td>\n",
       "      <td>-105.0</td>\n",
       "      <td>-25.0</td>\n",
       "      <td>47.0</td>\n",
       "      <td>6.0</td>\n",
       "      <td>6.0</td>\n",
       "      <td>5.0</td>\n",
       "      <td>13.0</td>\n",
       "      <td>21.0</td>\n",
       "      <td>111.0</td>\n",
       "      <td>15.0</td>\n",
       "    </tr>\n",
       "    <tr>\n",
       "      <th>2</th>\n",
       "      <td>-19.0</td>\n",
       "      <td>-8.0</td>\n",
       "      <td>-8.0</td>\n",
       "      <td>-8.0</td>\n",
       "      <td>-21.0</td>\n",
       "      <td>-6.0</td>\n",
       "      <td>-79.0</td>\n",
       "      <td>12.0</td>\n",
       "      <td>0.0</td>\n",
       "      <td>5.0</td>\n",
       "      <td>...</td>\n",
       "      <td>-128.0</td>\n",
       "      <td>-83.0</td>\n",
       "      <td>7.0</td>\n",
       "      <td>7.0</td>\n",
       "      <td>1.0</td>\n",
       "      <td>-8.0</td>\n",
       "      <td>7.0</td>\n",
       "      <td>21.0</td>\n",
       "      <td>114.0</td>\n",
       "      <td>48.0</td>\n",
       "    </tr>\n",
       "    <tr>\n",
       "      <th>3</th>\n",
       "      <td>2.0</td>\n",
       "      <td>3.0</td>\n",
       "      <td>0.0</td>\n",
       "      <td>2.0</td>\n",
       "      <td>0.0</td>\n",
       "      <td>22.0</td>\n",
       "      <td>106.0</td>\n",
       "      <td>-14.0</td>\n",
       "      <td>-16.0</td>\n",
       "      <td>-2.0</td>\n",
       "      <td>...</td>\n",
       "      <td>-54.0</td>\n",
       "      <td>-38.0</td>\n",
       "      <td>-11.0</td>\n",
       "      <td>4.0</td>\n",
       "      <td>7.0</td>\n",
       "      <td>11.0</td>\n",
       "      <td>33.0</td>\n",
       "      <td>39.0</td>\n",
       "      <td>119.0</td>\n",
       "      <td>43.0</td>\n",
       "    </tr>\n",
       "    <tr>\n",
       "      <th>4</th>\n",
       "      <td>6.0</td>\n",
       "      <td>0.0</td>\n",
       "      <td>0.0</td>\n",
       "      <td>-2.0</td>\n",
       "      <td>-14.0</td>\n",
       "      <td>10.0</td>\n",
       "      <td>-51.0</td>\n",
       "      <td>5.0</td>\n",
       "      <td>7.0</td>\n",
       "      <td>0.0</td>\n",
       "      <td>...</td>\n",
       "      <td>60.0</td>\n",
       "      <td>38.0</td>\n",
       "      <td>-35.0</td>\n",
       "      <td>-8.0</td>\n",
       "      <td>2.0</td>\n",
       "      <td>6.0</td>\n",
       "      <td>-13.0</td>\n",
       "      <td>-24.0</td>\n",
       "      <td>-112.0</td>\n",
       "      <td>-69.0</td>\n",
       "    </tr>\n",
       "  </tbody>\n",
       "</table>\n",
       "<p>5 rows × 64 columns</p>\n",
       "</div>"
      ],
      "text/plain": [
       "      0    1    2    3     4     5      6     7     8    9  ...     54    55  \\\n",
       "0  26.0  4.0  5.0  8.0  -1.0 -13.0 -109.0 -66.0  -9.0  2.0  ...   21.0 -28.0   \n",
       "1 -47.0 -6.0 -5.0 -7.0  13.0  -1.0   35.0 -10.0  10.0 -4.0  ... -105.0 -25.0   \n",
       "2 -19.0 -8.0 -8.0 -8.0 -21.0  -6.0  -79.0  12.0   0.0  5.0  ... -128.0 -83.0   \n",
       "3   2.0  3.0  0.0  2.0   0.0  22.0  106.0 -14.0 -16.0 -2.0  ...  -54.0 -38.0   \n",
       "4   6.0  0.0  0.0 -2.0 -14.0  10.0  -51.0   5.0   7.0  0.0  ...   60.0  38.0   \n",
       "\n",
       "     56   57   58    59    60    61     62    63  \n",
       "0  61.0  4.0  8.0   5.0   4.0  -7.0  -59.0  16.0  \n",
       "1  47.0  6.0  6.0   5.0  13.0  21.0  111.0  15.0  \n",
       "2   7.0  7.0  1.0  -8.0   7.0  21.0  114.0  48.0  \n",
       "3 -11.0  4.0  7.0  11.0  33.0  39.0  119.0  43.0  \n",
       "4 -35.0 -8.0  2.0   6.0 -13.0 -24.0 -112.0 -69.0  \n",
       "\n",
       "[5 rows x 64 columns]"
      ]
     },
     "execution_count": 5,
     "metadata": {},
     "output_type": "execute_result"
    }
   ],
   "source": [
    "X = df.loc[:, '0':'63']\n",
    "X.head(5)"
   ]
  },
  {
   "cell_type": "code",
   "execution_count": 6,
   "metadata": {},
   "outputs": [
    {
     "data": {
      "text/plain": [
       "(11678, 64)"
      ]
     },
     "execution_count": 6,
     "metadata": {},
     "output_type": "execute_result"
    }
   ],
   "source": [
    "X.shape"
   ]
  },
  {
   "cell_type": "code",
   "execution_count": 7,
   "metadata": {},
   "outputs": [
    {
     "data": {
      "text/plain": [
       "0    0\n",
       "1    0\n",
       "2    0\n",
       "3    0\n",
       "4    0\n",
       "Name: class, dtype: int64"
      ]
     },
     "execution_count": 7,
     "metadata": {},
     "output_type": "execute_result"
    }
   ],
   "source": [
    "y = df.loc[:,'class']\n",
    "y.head(5)"
   ]
  },
  {
   "cell_type": "code",
   "execution_count": 8,
   "metadata": {},
   "outputs": [
    {
     "data": {
      "text/plain": [
       "(11678,)"
      ]
     },
     "execution_count": 8,
     "metadata": {},
     "output_type": "execute_result"
    }
   ],
   "source": [
    "y.shape"
   ]
  },
  {
   "cell_type": "code",
   "execution_count": 9,
   "metadata": {},
   "outputs": [
    {
     "name": "stdout",
     "output_type": "stream",
     "text": [
      "10510/11678 datapoints remaining after outlier removal\n",
      "Found 20 relevant intial configurations from warmstarter.\n",
      "Truncated n_evaluations: 100\n",
      "Fitting configuration: \n",
      "{'n_components___TruncatedSVD': 9, 'clustering_choice': 'Birch', 'algorithm___TruncatedSVD': 'randomized', 'n_clusters___Birch': 45, 'dim_reduction_choice': 'TruncatedSVD', 'branching_factor___Birch': 291}\n",
      "Score obtained by this configuration: inf\n"
     ]
    },
    {
     "name": "stderr",
     "output_type": "stream",
     "text": [
      "Target Algorithm returned NaN or inf as quality. Algorithm run is treated as CRASHED, cost is set to 2147483647.0 for quality scenarios. (Change value through \"cost_for_crash\"-option.)\n"
     ]
    },
    {
     "name": "stdout",
     "output_type": "stream",
     "text": [
      "Fitting configuration: \n",
      "{'n_components___TruncatedSVD': 6, 'clustering_choice': 'Birch', 'algorithm___TruncatedSVD': 'randomized', 'n_clusters___Birch': 71, 'dim_reduction_choice': 'TruncatedSVD', 'branching_factor___Birch': 74}\n",
      "Score obtained by this configuration: inf\n"
     ]
    },
    {
     "name": "stderr",
     "output_type": "stream",
     "text": [
      "Target Algorithm returned NaN or inf as quality. Algorithm run is treated as CRASHED, cost is set to 2147483647.0 for quality scenarios. (Change value through \"cost_for_crash\"-option.)\n"
     ]
    },
    {
     "name": "stdout",
     "output_type": "stream",
     "text": [
      "Fitting configuration: \n",
      "{'n_components___TruncatedSVD': 8, 'clustering_choice': 'Birch', 'algorithm___TruncatedSVD': 'randomized', 'n_clusters___Birch': 78, 'dim_reduction_choice': 'TruncatedSVD', 'branching_factor___Birch': 55}\n",
      "Score obtained by this configuration: inf\n"
     ]
    },
    {
     "name": "stderr",
     "output_type": "stream",
     "text": [
      "Target Algorithm returned NaN or inf as quality. Algorithm run is treated as CRASHED, cost is set to 2147483647.0 for quality scenarios. (Change value through \"cost_for_crash\"-option.)\n"
     ]
    },
    {
     "name": "stdout",
     "output_type": "stream",
     "text": [
      "Fitting configuration: \n",
      "{'clustering_choice': 'Birch', 'kernel___KernelPCA': 'linear', 'branching_factor___Birch': 814, 'n_clusters___Birch': 40, 'n_components___KernelPCA': 7, 'dim_reduction_choice': 'KernelPCA'}\n",
      "Score obtained by this configuration: inf\n"
     ]
    },
    {
     "name": "stderr",
     "output_type": "stream",
     "text": [
      "Target Algorithm returned NaN or inf as quality. Algorithm run is treated as CRASHED, cost is set to 2147483647.0 for quality scenarios. (Change value through \"cost_for_crash\"-option.)\n"
     ]
    },
    {
     "name": "stdout",
     "output_type": "stream",
     "text": [
      "Fitting configuration: \n",
      "{'n_components___TruncatedSVD': 7, 'clustering_choice': 'Birch', 'algorithm___TruncatedSVD': 'randomized', 'n_clusters___Birch': 46, 'dim_reduction_choice': 'TruncatedSVD', 'branching_factor___Birch': 227}\n",
      "Score obtained by this configuration: inf\n"
     ]
    },
    {
     "name": "stderr",
     "output_type": "stream",
     "text": [
      "Target Algorithm returned NaN or inf as quality. Algorithm run is treated as CRASHED, cost is set to 2147483647.0 for quality scenarios. (Change value through \"cost_for_crash\"-option.)\n"
     ]
    },
    {
     "name": "stdout",
     "output_type": "stream",
     "text": [
      "Fitting configuration: \n",
      "{'n_components___TruncatedSVD': 5, 'clustering_choice': 'Birch', 'algorithm___TruncatedSVD': 'randomized', 'n_clusters___Birch': 38, 'dim_reduction_choice': 'TruncatedSVD', 'branching_factor___Birch': 149}\n",
      "Score obtained by this configuration: inf\n"
     ]
    },
    {
     "name": "stderr",
     "output_type": "stream",
     "text": [
      "Target Algorithm returned NaN or inf as quality. Algorithm run is treated as CRASHED, cost is set to 2147483647.0 for quality scenarios. (Change value through \"cost_for_crash\"-option.)\n"
     ]
    },
    {
     "name": "stdout",
     "output_type": "stream",
     "text": [
      "Fitting configuration: \n",
      "{'clustering_choice': 'Birch', 'kernel___KernelPCA': 'linear', 'branching_factor___Birch': 64, 'n_clusters___Birch': 25, 'n_components___KernelPCA': 8, 'dim_reduction_choice': 'KernelPCA'}\n",
      "Score obtained by this configuration: inf\n"
     ]
    },
    {
     "name": "stderr",
     "output_type": "stream",
     "text": [
      "Target Algorithm returned NaN or inf as quality. Algorithm run is treated as CRASHED, cost is set to 2147483647.0 for quality scenarios. (Change value through \"cost_for_crash\"-option.)\n"
     ]
    },
    {
     "name": "stdout",
     "output_type": "stream",
     "text": [
      "Fitting configuration: \n",
      "{'clustering_choice': 'Birch', 'branching_factor___Birch': 857, 'n_components___IncrementalPCA': 3, 'batch_size___IncrementalPCA': 748, 'n_clusters___Birch': 59, 'dim_reduction_choice': 'IncrementalPCA'}\n",
      "Score obtained by this configuration: inf\n"
     ]
    },
    {
     "name": "stderr",
     "output_type": "stream",
     "text": [
      "Target Algorithm returned NaN or inf as quality. Algorithm run is treated as CRASHED, cost is set to 2147483647.0 for quality scenarios. (Change value through \"cost_for_crash\"-option.)\n"
     ]
    },
    {
     "name": "stdout",
     "output_type": "stream",
     "text": [
      "Fitting configuration: \n",
      "{'clustering_choice': 'AgglomerativeClustering', 'n_clusters___AgglomerativeClustering': 6, 'dim_reduction_choice': 'TSNE', 'n_components___TSNE': 2, 'affinity___AgglomerativeClustering': 'manhattan', 'linkage___AgglomerativeClustering': 'complete', 'early_exaggeration___TSNE': 11.993398613338442, 'perplexity___TSNE': 192.4356661604625}\n",
      "Fitting configuration: \n",
      "{'clustering_choice': 'MiniBatchKMeans', 'n_clusters___MiniBatchKMeans': 7, 'n_components___TSNE': 2, 'dim_reduction_choice': 'TSNE', 'early_exaggeration___TSNE': 13.048424472811831, 'perplexity___TSNE': 278.53955190071804, 'batch_size___MiniBatchKMeans': 715}\n",
      "Fitting configuration: \n",
      "{'clustering_choice': 'MiniBatchKMeans', 'n_clusters___MiniBatchKMeans': 7, 'n_components___TSNE': 2, 'dim_reduction_choice': 'TSNE', 'early_exaggeration___TSNE': 10.194958770285634, 'perplexity___TSNE': 190.13168469295235, 'batch_size___MiniBatchKMeans': 967}\n",
      "Fitting configuration: \n",
      "{'clustering_choice': 'AgglomerativeClustering', 'kernel___KernelPCA': 'cosine', 'dim_reduction_choice': 'KernelPCA', 'affinity___AgglomerativeClustering': 'cityblock', 'n_components___KernelPCA': 8, 'linkage___AgglomerativeClustering': 'average', 'n_clusters___AgglomerativeClustering': 16}\n",
      "Score obtained by this configuration: inf\n"
     ]
    },
    {
     "name": "stderr",
     "output_type": "stream",
     "text": [
      "Target Algorithm returned NaN or inf as quality. Algorithm run is treated as CRASHED, cost is set to 2147483647.0 for quality scenarios. (Change value through \"cost_for_crash\"-option.)\n"
     ]
    },
    {
     "name": "stdout",
     "output_type": "stream",
     "text": [
      "Fitting configuration: \n",
      "{'clustering_choice': 'AgglomerativeClustering', 'kernel___KernelPCA': 'rbf', 'dim_reduction_choice': 'KernelPCA', 'affinity___AgglomerativeClustering': 'euclidean', 'n_components___KernelPCA': 6, 'linkage___AgglomerativeClustering': 'complete', 'n_clusters___AgglomerativeClustering': 7}\n",
      "Score obtained by this configuration: 0.4400971203847552\n",
      "Fitting configuration: \n",
      "{'clustering_choice': 'AgglomerativeClustering', 'kernel___KernelPCA': 'rbf', 'dim_reduction_choice': 'KernelPCA', 'affinity___AgglomerativeClustering': 'euclidean', 'n_components___KernelPCA': 4, 'linkage___AgglomerativeClustering': 'single', 'n_clusters___AgglomerativeClustering': 6}\n",
      "Score obtained by this configuration: inf\n"
     ]
    },
    {
     "name": "stderr",
     "output_type": "stream",
     "text": [
      "Target Algorithm returned NaN or inf as quality. Algorithm run is treated as CRASHED, cost is set to 2147483647.0 for quality scenarios. (Change value through \"cost_for_crash\"-option.)\n"
     ]
    },
    {
     "name": "stdout",
     "output_type": "stream",
     "text": [
      "Fitting configuration: \n",
      "{'clustering_choice': 'AgglomerativeClustering', 'kernel___KernelPCA': 'rbf', 'dim_reduction_choice': 'KernelPCA', 'affinity___AgglomerativeClustering': 'l2', 'n_components___KernelPCA': 4, 'linkage___AgglomerativeClustering': 'single', 'n_clusters___AgglomerativeClustering': 7}\n",
      "Score obtained by this configuration: inf\n"
     ]
    },
    {
     "name": "stderr",
     "output_type": "stream",
     "text": [
      "Target Algorithm returned NaN or inf as quality. Algorithm run is treated as CRASHED, cost is set to 2147483647.0 for quality scenarios. (Change value through \"cost_for_crash\"-option.)\n"
     ]
    },
    {
     "name": "stdout",
     "output_type": "stream",
     "text": [
      "Fitting configuration: \n",
      "{'clustering_choice': 'KMeans', 'n_components___TSNE': 2, 'n_clusters___KMeans': 5, 'dim_reduction_choice': 'TSNE', 'early_exaggeration___TSNE': 12.0, 'perplexity___TSNE': 30.0}\n",
      "Fitting configuration: \n",
      "{'clustering_choice': 'GaussianMixture', 'kernel___KernelPCA': 'rbf', 'covariance_type___GaussianMixture': 'spherical', 'dim_reduction_choice': 'KernelPCA', 'init_params___GaussianMixture': 'kmeans', 'n_components___KernelPCA': 8, 'n_components___GaussianMixture': 30, 'warm_start___GaussianMixture': True}\n",
      "Score obtained by this configuration: inf\n"
     ]
    },
    {
     "name": "stderr",
     "output_type": "stream",
     "text": [
      "Target Algorithm returned NaN or inf as quality. Algorithm run is treated as CRASHED, cost is set to 2147483647.0 for quality scenarios. (Change value through \"cost_for_crash\"-option.)\n"
     ]
    },
    {
     "name": "stdout",
     "output_type": "stream",
     "text": [
      "Fitting configuration: \n",
      "{'clustering_choice': 'AgglomerativeClustering', 'kernel___KernelPCA': 'rbf', 'dim_reduction_choice': 'KernelPCA', 'affinity___AgglomerativeClustering': 'cosine', 'n_components___KernelPCA': 3, 'linkage___AgglomerativeClustering': 'single', 'n_clusters___AgglomerativeClustering': 78}\n",
      "Score obtained by this configuration: inf\n"
     ]
    },
    {
     "name": "stderr",
     "output_type": "stream",
     "text": [
      "Target Algorithm returned NaN or inf as quality. Algorithm run is treated as CRASHED, cost is set to 2147483647.0 for quality scenarios. (Change value through \"cost_for_crash\"-option.)\n"
     ]
    },
    {
     "name": "stdout",
     "output_type": "stream",
     "text": [
      "Fitting configuration: \n",
      "{'clustering_choice': 'AgglomerativeClustering', 'n_clusters___AgglomerativeClustering': 32, 'dim_reduction_choice': 'TSNE', 'n_components___TSNE': 2, 'affinity___AgglomerativeClustering': 'cityblock', 'linkage___AgglomerativeClustering': 'average', 'early_exaggeration___TSNE': 15.989483033735212, 'perplexity___TSNE': 131.58033120399173}\n",
      "Fitting configuration: \n",
      "{'clustering_choice': 'KMeans', 'kernel___KernelPCA': 'rbf', 'dim_reduction_choice': 'KernelPCA', 'n_components___KernelPCA': 9, 'n_clusters___KMeans': 14}\n",
      "Score obtained by this configuration: 0.4372500542006407\n",
      "Fitting configuration: \n",
      "{'clustering_choice': 'Birch', 'kernel___KernelPCA': 'rbf', 'branching_factor___Birch': 300, 'n_clusters___Birch': 43, 'n_components___KernelPCA': 9, 'dim_reduction_choice': 'KernelPCA'}\n",
      "Score obtained by this configuration: inf\n"
     ]
    },
    {
     "name": "stderr",
     "output_type": "stream",
     "text": [
      "WARNING:smac.tae.execute_func.ExecuteTAFuncDict:Target Algorithm returned NaN or inf as quality. Algorithm run is treated as CRASHED, cost is set to 2147483647.0 for quality scenarios. (Change value through \"cost_for_crash\"-option.)\n"
     ]
    },
    {
     "name": "stdout",
     "output_type": "stream",
     "text": [
      "Fitting configuration: \n",
      "{'n_components___TruncatedSVD': 6, 'clustering_choice': 'MiniBatchKMeans', 'n_clusters___MiniBatchKMeans': 4, 'algorithm___TruncatedSVD': 'randomized', 'dim_reduction_choice': 'TruncatedSVD', 'batch_size___MiniBatchKMeans': 59}\n",
      "Score obtained by this configuration: 0.45278934539759613\n",
      "Fitting configuration: \n",
      "{'clustering_choice': 'KMeans', 'kernel___KernelPCA': 'rbf', 'dim_reduction_choice': 'KernelPCA', 'n_components___KernelPCA': 8, 'n_clusters___KMeans': 22}\n",
      "Score obtained by this configuration: 0.4405210290887575\n",
      "Fitting configuration: \n",
      "{'clustering_choice': 'KMeans', 'kernel___KernelPCA': 'rbf', 'dim_reduction_choice': 'KernelPCA', 'n_components___KernelPCA': 8, 'n_clusters___KMeans': 65}\n",
      "Score obtained by this configuration: inf\n"
     ]
    },
    {
     "name": "stderr",
     "output_type": "stream",
     "text": [
      "WARNING:smac.tae.execute_func.ExecuteTAFuncDict:Target Algorithm returned NaN or inf as quality. Algorithm run is treated as CRASHED, cost is set to 2147483647.0 for quality scenarios. (Change value through \"cost_for_crash\"-option.)\n"
     ]
    },
    {
     "name": "stdout",
     "output_type": "stream",
     "text": [
      "Fitting configuration: \n",
      "{'clustering_choice': 'KMeans', 'kernel___KernelPCA': 'poly', 'dim_reduction_choice': 'KernelPCA', 'n_components___KernelPCA': 6, 'n_clusters___KMeans': 28}\n",
      "Score obtained by this configuration: inf\n"
     ]
    },
    {
     "name": "stderr",
     "output_type": "stream",
     "text": [
      "WARNING:smac.tae.execute_func.ExecuteTAFuncDict:Target Algorithm returned NaN or inf as quality. Algorithm run is treated as CRASHED, cost is set to 2147483647.0 for quality scenarios. (Change value through \"cost_for_crash\"-option.)\n"
     ]
    },
    {
     "name": "stdout",
     "output_type": "stream",
     "text": [
      "Fitting configuration: \n",
      "{'clustering_choice': 'KMeans', 'kernel___KernelPCA': 'poly', 'dim_reduction_choice': 'KernelPCA', 'n_components___KernelPCA': 4, 'n_clusters___KMeans': 46}\n",
      "Score obtained by this configuration: inf\n"
     ]
    },
    {
     "name": "stderr",
     "output_type": "stream",
     "text": [
      "WARNING:smac.tae.execute_func.ExecuteTAFuncDict:Target Algorithm returned NaN or inf as quality. Algorithm run is treated as CRASHED, cost is set to 2147483647.0 for quality scenarios. (Change value through \"cost_for_crash\"-option.)\n"
     ]
    },
    {
     "name": "stdout",
     "output_type": "stream",
     "text": [
      "Fitting configuration: \n",
      "{'clustering_choice': 'KMeans', 'kernel___KernelPCA': 'rbf', 'dim_reduction_choice': 'KernelPCA', 'n_components___KernelPCA': 6, 'n_clusters___KMeans': 18}\n",
      "Score obtained by this configuration: 0.42465493530329246\n",
      "Fitting configuration: \n",
      "{'clustering_choice': 'MiniBatchKMeans', 'kernel___KernelPCA': 'rbf', 'n_clusters___MiniBatchKMeans': 66, 'n_components___KernelPCA': 6, 'dim_reduction_choice': 'KernelPCA', 'batch_size___MiniBatchKMeans': 150}\n",
      "Score obtained by this configuration: inf\n"
     ]
    },
    {
     "name": "stderr",
     "output_type": "stream",
     "text": [
      "WARNING:smac.tae.execute_func.ExecuteTAFuncDict:Target Algorithm returned NaN or inf as quality. Algorithm run is treated as CRASHED, cost is set to 2147483647.0 for quality scenarios. (Change value through \"cost_for_crash\"-option.)\n"
     ]
    },
    {
     "name": "stdout",
     "output_type": "stream",
     "text": [
      "Fitting configuration: \n",
      "{'n_components___TruncatedSVD': 5, 'clustering_choice': 'SpectralClustering', 'algorithm___TruncatedSVD': 'randomized', 'assign_labels___SpectralClustering': 'discretize', 'eigen_solver___SpectralClustering': 'arpack', 'dim_reduction_choice': 'TruncatedSVD', 'n_clusters___SpectralClustering': 12, 'affinity___SpectralClustering': 'sigmoid'}\n",
      "Score obtained by this configuration: 0.4780161186915472\n",
      "Fitting configuration: \n",
      "{'clustering_choice': 'Birch', 'kernel___KernelPCA': 'cosine', 'branching_factor___Birch': 459, 'n_clusters___Birch': 25, 'n_components___KernelPCA': 5, 'dim_reduction_choice': 'KernelPCA'}\n",
      "Score obtained by this configuration: inf\n"
     ]
    },
    {
     "name": "stderr",
     "output_type": "stream",
     "text": [
      "WARNING:smac.tae.execute_func.ExecuteTAFuncDict:Target Algorithm returned NaN or inf as quality. Algorithm run is treated as CRASHED, cost is set to 2147483647.0 for quality scenarios. (Change value through \"cost_for_crash\"-option.)\n"
     ]
    },
    {
     "name": "stdout",
     "output_type": "stream",
     "text": [
      "Fitting configuration: \n",
      "{'clustering_choice': 'KMeans', 'fun___FastICA': 'cube', 'algorithm___FastICA': 'parallel', 'n_clusters___KMeans': 54, 'dim_reduction_choice': 'FastICA', 'n_components___FastICA': 3}\n",
      "Score obtained by this configuration: inf\n"
     ]
    },
    {
     "name": "stderr",
     "output_type": "stream",
     "text": [
      "WARNING:smac.tae.execute_func.ExecuteTAFuncDict:Target Algorithm returned NaN or inf as quality. Algorithm run is treated as CRASHED, cost is set to 2147483647.0 for quality scenarios. (Change value through \"cost_for_crash\"-option.)\n"
     ]
    },
    {
     "name": "stdout",
     "output_type": "stream",
     "text": [
      "Fitting configuration: \n",
      "{'clustering_choice': 'KMeans', 'kernel___KernelPCA': 'rbf', 'dim_reduction_choice': 'KernelPCA', 'n_components___KernelPCA': 8, 'n_clusters___KMeans': 9}\n",
      "Score obtained by this configuration: 0.42806262051853555\n",
      "Fitting configuration: \n",
      "{'n_components___TruncatedSVD': 3, 'clustering_choice': 'GaussianMixture', 'algorithm___TruncatedSVD': 'randomized', 'dim_reduction_choice': 'TruncatedSVD', 'covariance_type___GaussianMixture': 'diag', 'init_params___GaussianMixture': 'random', 'n_components___GaussianMixture': 10, 'warm_start___GaussianMixture': True}\n",
      "Score obtained by this configuration: inf\n"
     ]
    },
    {
     "name": "stderr",
     "output_type": "stream",
     "text": [
      "WARNING:smac.tae.execute_func.ExecuteTAFuncDict:Target Algorithm returned NaN or inf as quality. Algorithm run is treated as CRASHED, cost is set to 2147483647.0 for quality scenarios. (Change value through \"cost_for_crash\"-option.)\n"
     ]
    },
    {
     "name": "stdout",
     "output_type": "stream",
     "text": [
      "Fitting configuration: \n",
      "{'clustering_choice': 'AgglomerativeClustering', 'n_clusters___AgglomerativeClustering': 10, 'dim_reduction_choice': 'TSNE', 'n_components___TSNE': 2, 'affinity___AgglomerativeClustering': 'manhattan', 'linkage___AgglomerativeClustering': 'average', 'early_exaggeration___TSNE': 11.741499808283582, 'perplexity___TSNE': 95.34161394468437}\n",
      "Score obtained by this configuration: inf\n"
     ]
    },
    {
     "name": "stderr",
     "output_type": "stream",
     "text": [
      "WARNING:smac.tae.execute_func.ExecuteTAFuncDict:Target Algorithm returned NaN or inf as quality. Algorithm run is treated as CRASHED, cost is set to 2147483647.0 for quality scenarios. (Change value through \"cost_for_crash\"-option.)\n"
     ]
    },
    {
     "name": "stdout",
     "output_type": "stream",
     "text": [
      "Fitting configuration: \n",
      "{'clustering_choice': 'KMeans', 'n_components___IncrementalPCA': 3, 'whiten___IncrementalPCA': True, 'batch_size___IncrementalPCA': 371, 'n_clusters___KMeans': 68, 'dim_reduction_choice': 'IncrementalPCA'}\n",
      "Score obtained by this configuration: inf\n"
     ]
    },
    {
     "name": "stderr",
     "output_type": "stream",
     "text": [
      "WARNING:smac.tae.execute_func.ExecuteTAFuncDict:Target Algorithm returned NaN or inf as quality. Algorithm run is treated as CRASHED, cost is set to 2147483647.0 for quality scenarios. (Change value through \"cost_for_crash\"-option.)\n"
     ]
    },
    {
     "name": "stdout",
     "output_type": "stream",
     "text": [
      "Fitting configuration: \n",
      "{'clustering_choice': 'MiniBatchKMeans', 'n_clusters___MiniBatchKMeans': 42, 'fun___FastICA': 'cube', 'dim_reduction_choice': 'FastICA', 'algorithm___FastICA': 'deflation', 'whiten___FastICA': True, 'n_components___FastICA': 2, 'batch_size___MiniBatchKMeans': 964}\n",
      "Score obtained by this configuration: inf\n"
     ]
    },
    {
     "name": "stderr",
     "output_type": "stream",
     "text": [
      "WARNING:smac.tae.execute_func.ExecuteTAFuncDict:Target Algorithm returned NaN or inf as quality. Algorithm run is treated as CRASHED, cost is set to 2147483647.0 for quality scenarios. (Change value through \"cost_for_crash\"-option.)\n"
     ]
    },
    {
     "name": "stdout",
     "output_type": "stream",
     "text": [
      "Fitting configuration: \n",
      "{'clustering_choice': 'KMeans', 'kernel___KernelPCA': 'rbf', 'dim_reduction_choice': 'KernelPCA', 'n_components___KernelPCA': 5, 'n_clusters___KMeans': 8}\n",
      "Score obtained by this configuration: 0.39829693348169526\n",
      "Fitting configuration: \n",
      "{'clustering_choice': 'KMeans', 'n_components___TSNE': 2, 'n_clusters___KMeans': 45, 'dim_reduction_choice': 'TSNE', 'early_exaggeration___TSNE': 7.126181158924892, 'perplexity___TSNE': 151.88716909077095}\n",
      "Fitting configuration: \n",
      "{'clustering_choice': 'AgglomerativeClustering', 'n_clusters___AgglomerativeClustering': 7, 'svd_solver___PCA': 'auto', 'dim_reduction_choice': 'PCA', 'n_components___PCA': 3, 'affinity___AgglomerativeClustering': 'l1', 'linkage___AgglomerativeClustering': 'single'}\n",
      "Score obtained by this configuration: inf\n"
     ]
    },
    {
     "name": "stderr",
     "output_type": "stream",
     "text": [
      "WARNING:smac.tae.execute_func.ExecuteTAFuncDict:Target Algorithm returned NaN or inf as quality. Algorithm run is treated as CRASHED, cost is set to 2147483647.0 for quality scenarios. (Change value through \"cost_for_crash\"-option.)\n"
     ]
    },
    {
     "name": "stdout",
     "output_type": "stream",
     "text": [
      "Fitting configuration: \n",
      "{'clustering_choice': 'KMeans', 'kernel___KernelPCA': 'linear', 'dim_reduction_choice': 'KernelPCA', 'n_components___KernelPCA': 6, 'n_clusters___KMeans': 9}\n",
      "Score obtained by this configuration: 0.4461346442010153\n",
      "Fitting configuration: \n",
      "{'clustering_choice': 'MiniBatchKMeans', 'n_clusters___MiniBatchKMeans': 65, 'n_components___TSNE': 2, 'dim_reduction_choice': 'TSNE', 'early_exaggeration___TSNE': 12.552687967582347, 'perplexity___TSNE': 44.08550507957102, 'batch_size___MiniBatchKMeans': 260}\n",
      "Score obtained by this configuration: inf\n"
     ]
    },
    {
     "name": "stderr",
     "output_type": "stream",
     "text": [
      "WARNING:smac.tae.execute_func.ExecuteTAFuncDict:Target Algorithm returned NaN or inf as quality. Algorithm run is treated as CRASHED, cost is set to 2147483647.0 for quality scenarios. (Change value through \"cost_for_crash\"-option.)\n"
     ]
    },
    {
     "name": "stdout",
     "output_type": "stream",
     "text": [
      "Fitting configuration: \n",
      "{'clustering_choice': 'KMeans', 'kernel___KernelPCA': 'rbf', 'dim_reduction_choice': 'KernelPCA', 'n_components___KernelPCA': 5, 'n_clusters___KMeans': 7}\n",
      "Score obtained by this configuration: 0.3986551800808434\n",
      "Fitting configuration: \n",
      "{'clustering_choice': 'MiniBatchKMeans', 'n_clusters___MiniBatchKMeans': 1, 'n_components___TSNE': 2, 'dim_reduction_choice': 'TSNE', 'early_exaggeration___TSNE': 13.113622864672278, 'perplexity___TSNE': 277.8359979004019, 'batch_size___MiniBatchKMeans': 968}\n",
      "Fitting configuration: \n",
      "{'clustering_choice': 'KMeans', 'kernel___KernelPCA': 'sigmoid', 'dim_reduction_choice': 'KernelPCA', 'n_components___KernelPCA': 6, 'n_clusters___KMeans': 11}\n",
      "Score obtained by this configuration: 0.44556897199199846\n",
      "Fitting configuration: \n",
      "{'n_components___TruncatedSVD': 9, 'clustering_choice': 'KMeans', 'algorithm___TruncatedSVD': 'randomized', 'dim_reduction_choice': 'TruncatedSVD', 'n_clusters___KMeans': 67}\n",
      "Score obtained by this configuration: inf\n"
     ]
    },
    {
     "name": "stderr",
     "output_type": "stream",
     "text": [
      "WARNING:smac.tae.execute_func.ExecuteTAFuncDict:Target Algorithm returned NaN or inf as quality. Algorithm run is treated as CRASHED, cost is set to 2147483647.0 for quality scenarios. (Change value through \"cost_for_crash\"-option.)\n"
     ]
    },
    {
     "name": "stdout",
     "output_type": "stream",
     "text": [
      "Fitting configuration: \n",
      "{'clustering_choice': 'KMeans', 'kernel___KernelPCA': 'sigmoid', 'dim_reduction_choice': 'KernelPCA', 'n_components___KernelPCA': 4, 'n_clusters___KMeans': 8}\n",
      "Score obtained by this configuration: 0.41742698482735713\n",
      "Fitting configuration: \n",
      "{'clustering_choice': 'KMeans', 'kernel___KernelPCA': 'rbf', 'dim_reduction_choice': 'KernelPCA', 'n_components___KernelPCA': 4, 'n_clusters___KMeans': 12}\n",
      "Score obtained by this configuration: 0.38799015671853715\n",
      "Fitting configuration: \n",
      "{'clustering_choice': 'KMeans', 'kernel___KernelPCA': 'rbf', 'dim_reduction_choice': 'KernelPCA', 'n_components___KernelPCA': 4, 'n_clusters___KMeans': 17}\n",
      "Score obtained by this configuration: 0.39163196229527797\n",
      "Fitting configuration: \n",
      "{'clustering_choice': 'KMeans', 'kernel___KernelPCA': 'rbf', 'dim_reduction_choice': 'KernelPCA', 'n_components___KernelPCA': 3, 'n_clusters___KMeans': 14}\n",
      "Score obtained by this configuration: 0.3628229299685894\n",
      "Fitting configuration: \n",
      "{'covariance_type___GaussianMixture': 'diag', 'clustering_choice': 'GaussianMixture', 'n_components___IncrementalPCA': 3, 'dim_reduction_choice': 'IncrementalPCA', 'batch_size___IncrementalPCA': 510, 'init_params___GaussianMixture': 'random', 'n_components___GaussianMixture': 47}\n",
      "Score obtained by this configuration: inf\n"
     ]
    },
    {
     "name": "stderr",
     "output_type": "stream",
     "text": [
      "WARNING:smac.tae.execute_func.ExecuteTAFuncDict:Target Algorithm returned NaN or inf as quality. Algorithm run is treated as CRASHED, cost is set to 2147483647.0 for quality scenarios. (Change value through \"cost_for_crash\"-option.)\n"
     ]
    },
    {
     "name": "stdout",
     "output_type": "stream",
     "text": [
      "Fitting configuration: \n",
      "{'n_components___TruncatedSVD': 7, 'clustering_choice': 'GaussianMixture', 'algorithm___TruncatedSVD': 'arpack', 'dim_reduction_choice': 'TruncatedSVD', 'covariance_type___GaussianMixture': 'diag', 'init_params___GaussianMixture': 'kmeans', 'n_components___GaussianMixture': 30}\n",
      "Score obtained by this configuration: inf\n"
     ]
    },
    {
     "name": "stderr",
     "output_type": "stream",
     "text": [
      "WARNING:smac.tae.execute_func.ExecuteTAFuncDict:Target Algorithm returned NaN or inf as quality. Algorithm run is treated as CRASHED, cost is set to 2147483647.0 for quality scenarios. (Change value through \"cost_for_crash\"-option.)\n"
     ]
    },
    {
     "name": "stdout",
     "output_type": "stream",
     "text": [
      "Fitting configuration: \n",
      "{'clustering_choice': 'KMeans', 'kernel___KernelPCA': 'poly', 'dim_reduction_choice': 'KernelPCA', 'n_components___KernelPCA': 5, 'n_clusters___KMeans': 20}\n",
      "Score obtained by this configuration: inf\n"
     ]
    },
    {
     "name": "stderr",
     "output_type": "stream",
     "text": [
      "WARNING:smac.tae.execute_func.ExecuteTAFuncDict:Target Algorithm returned NaN or inf as quality. Algorithm run is treated as CRASHED, cost is set to 2147483647.0 for quality scenarios. (Change value through \"cost_for_crash\"-option.)\n"
     ]
    },
    {
     "name": "stdout",
     "output_type": "stream",
     "text": [
      "Fitting configuration: \n",
      "{'clustering_choice': 'GaussianMixture', 'covariance_type___GaussianMixture': 'tied', 'fun___FastICA': 'exp', 'dim_reduction_choice': 'FastICA', 'init_params___GaussianMixture': 'kmeans', 'warm_start___GaussianMixture': True, 'n_components___GaussianMixture': 80, 'algorithm___FastICA': 'parallel', 'n_components___FastICA': 3}\n",
      "Score obtained by this configuration: inf\n"
     ]
    },
    {
     "name": "stderr",
     "output_type": "stream",
     "text": [
      "WARNING:smac.tae.execute_func.ExecuteTAFuncDict:Target Algorithm returned NaN or inf as quality. Algorithm run is treated as CRASHED, cost is set to 2147483647.0 for quality scenarios. (Change value through \"cost_for_crash\"-option.)\n"
     ]
    },
    {
     "name": "stdout",
     "output_type": "stream",
     "text": [
      "Fitting configuration: \n",
      "{'clustering_choice': 'GaussianMixture', 'kernel___KernelPCA': 'poly', 'covariance_type___GaussianMixture': 'spherical', 'dim_reduction_choice': 'KernelPCA', 'init_params___GaussianMixture': 'random', 'n_components___KernelPCA': 7, 'n_components___GaussianMixture': 14}\n",
      "Score obtained by this configuration: 0.49428650245626277\n",
      "Fitting configuration: \n",
      "{'clustering_choice': 'KMeans', 'kernel___KernelPCA': 'rbf', 'dim_reduction_choice': 'KernelPCA', 'n_components___KernelPCA': 2, 'n_clusters___KMeans': 14}\n",
      "Score obtained by this configuration: 0.3284607038901314\n",
      "Fitting configuration: \n",
      "{'clustering_choice': 'KMeans', 'kernel___KernelPCA': 'rbf', 'dim_reduction_choice': 'KernelPCA', 'n_components___KernelPCA': 2, 'n_clusters___KMeans': 13}\n",
      "Score obtained by this configuration: 0.32634715297864697\n",
      "Fitting configuration: \n",
      "{'clustering_choice': 'Birch', 'kernel___KernelPCA': 'rbf', 'branching_factor___Birch': 361, 'n_clusters___Birch': 65, 'n_components___KernelPCA': 7, 'dim_reduction_choice': 'KernelPCA'}\n",
      "Score obtained by this configuration: inf\n"
     ]
    },
    {
     "name": "stderr",
     "output_type": "stream",
     "text": [
      "WARNING:smac.tae.execute_func.ExecuteTAFuncDict:Target Algorithm returned NaN or inf as quality. Algorithm run is treated as CRASHED, cost is set to 2147483647.0 for quality scenarios. (Change value through \"cost_for_crash\"-option.)\n"
     ]
    },
    {
     "name": "stdout",
     "output_type": "stream",
     "text": [
      "Fitting configuration: \n",
      "{'clustering_choice': 'AgglomerativeClustering', 'n_clusters___AgglomerativeClustering': 25, 'dim_reduction_choice': 'TSNE', 'n_components___TSNE': 2, 'affinity___AgglomerativeClustering': 'manhattan', 'linkage___AgglomerativeClustering': 'average', 'early_exaggeration___TSNE': 16.60721473981198, 'perplexity___TSNE': 242.98025811717383}\n",
      "Fitting configuration: \n",
      "{'clustering_choice': 'KMeans', 'kernel___KernelPCA': 'rbf', 'dim_reduction_choice': 'KernelPCA', 'n_components___KernelPCA': 3, 'n_clusters___KMeans': 2}\n",
      "Score obtained by this configuration: 0.3055894777042533\n",
      "Fitting configuration: \n",
      "{'clustering_choice': 'KMeans', 'kernel___KernelPCA': 'sigmoid', 'dim_reduction_choice': 'KernelPCA', 'n_components___KernelPCA': 2, 'n_clusters___KMeans': 16}\n",
      "Score obtained by this configuration: 0.34264274272770967\n",
      "Fitting configuration: \n",
      "{'clustering_choice': 'KMeans', 'kernel___KernelPCA': 'rbf', 'dim_reduction_choice': 'KernelPCA', 'n_components___KernelPCA': 2, 'n_clusters___KMeans': 25}\n",
      "Score obtained by this configuration: 0.33158079795041545\n",
      "Fitting configuration: \n",
      "{'clustering_choice': 'SpectralClustering', 'svd_solver___PCA': 'arpack', 'assign_labels___SpectralClustering': 'discretize', 'eigen_solver___SpectralClustering': 'arpack', 'n_components___PCA': 2, 'dim_reduction_choice': 'PCA', 'n_clusters___SpectralClustering': 26, 'whiten___PCA': True, 'affinity___SpectralClustering': 'nearest_neighbors'}\n",
      "Score obtained by this configuration: 0.37208581109546035\n",
      "Fitting configuration: \n",
      "{'clustering_choice': 'KMeans', 'kernel___KernelPCA': 'rbf', 'dim_reduction_choice': 'KernelPCA', 'n_components___KernelPCA': 3, 'n_clusters___KMeans': 24}\n",
      "Score obtained by this configuration: 0.37856948065861157\n",
      "Fitting configuration: \n",
      "{'clustering_choice': 'SpectralClustering', 'kernel___KernelPCA': 'rbf', 'assign_labels___SpectralClustering': 'discretize', 'eigen_solver___SpectralClustering': 'arpack', 'n_components___KernelPCA': 2, 'dim_reduction_choice': 'KernelPCA', 'n_clusters___SpectralClustering': 6, 'affinity___SpectralClustering': 'sigmoid'}\n",
      "Fitting configuration: \n",
      "{'clustering_choice': 'KMeans', 'fun___FastICA': 'exp', 'algorithm___FastICA': 'deflation', 'n_clusters___KMeans': 47, 'dim_reduction_choice': 'FastICA', 'n_components___FastICA': 3}\n",
      "Score obtained by this configuration: inf\n"
     ]
    },
    {
     "name": "stderr",
     "output_type": "stream",
     "text": [
      "WARNING:smac.tae.execute_func.ExecuteTAFuncDict:Target Algorithm returned NaN or inf as quality. Algorithm run is treated as CRASHED, cost is set to 2147483647.0 for quality scenarios. (Change value through \"cost_for_crash\"-option.)\n"
     ]
    },
    {
     "name": "stdout",
     "output_type": "stream",
     "text": [
      "Fitting configuration: \n",
      "{'clustering_choice': 'KMeans', 'kernel___KernelPCA': 'poly', 'dim_reduction_choice': 'KernelPCA', 'n_components___KernelPCA': 3, 'n_clusters___KMeans': 8}\n",
      "Score obtained by this configuration: 0.36775727686621645\n",
      "Fitting configuration: \n",
      "{'clustering_choice': 'KMeans', 'kernel___KernelPCA': 'sigmoid', 'dim_reduction_choice': 'KernelPCA', 'n_components___KernelPCA': 2, 'n_clusters___KMeans': 26}\n",
      "Score obtained by this configuration: inf\n"
     ]
    },
    {
     "name": "stderr",
     "output_type": "stream",
     "text": [
      "WARNING:smac.tae.execute_func.ExecuteTAFuncDict:Target Algorithm returned NaN or inf as quality. Algorithm run is treated as CRASHED, cost is set to 2147483647.0 for quality scenarios. (Change value through \"cost_for_crash\"-option.)\n"
     ]
    },
    {
     "name": "stdout",
     "output_type": "stream",
     "text": [
      "Fitting configuration: \n",
      "{'clustering_choice': 'Birch', 'kernel___KernelPCA': 'linear', 'branching_factor___Birch': 131, 'n_clusters___Birch': 4, 'n_components___KernelPCA': 5, 'dim_reduction_choice': 'KernelPCA'}\n",
      "Score obtained by this configuration: 0.4676664134146405\n",
      "Fitting configuration: \n",
      "{'clustering_choice': 'KMeans', 'svd_solver___PCA': 'auto', 'n_components___PCA': 2, 'n_clusters___KMeans': 7, 'dim_reduction_choice': 'PCA', 'whiten___PCA': True}\n",
      "Score obtained by this configuration: 0.3460856153530128\n",
      "Fitting configuration: \n",
      "{'clustering_choice': 'GaussianMixture', 'n_components___GaussianMixture': 80, 'svd_solver___PCA': 'full', 'covariance_type___GaussianMixture': 'spherical', 'init_params___GaussianMixture': 'random', 'n_components___PCA': 2, 'dim_reduction_choice': 'PCA'}\n",
      "Score obtained by this configuration: inf\n"
     ]
    },
    {
     "name": "stderr",
     "output_type": "stream",
     "text": [
      "WARNING:smac.tae.execute_func.ExecuteTAFuncDict:Target Algorithm returned NaN or inf as quality. Algorithm run is treated as CRASHED, cost is set to 2147483647.0 for quality scenarios. (Change value through \"cost_for_crash\"-option.)\n"
     ]
    },
    {
     "name": "stdout",
     "output_type": "stream",
     "text": [
      "Fitting configuration: \n",
      "{'n_components___TruncatedSVD': 4, 'clustering_choice': 'KMeans', 'algorithm___TruncatedSVD': 'arpack', 'dim_reduction_choice': 'TruncatedSVD', 'n_clusters___KMeans': 10}\n",
      "Score obtained by this configuration: 0.42276920970179604\n",
      "Fitting configuration: \n",
      "{'n_components___TruncatedSVD': 9, 'clustering_choice': 'KMeans', 'algorithm___TruncatedSVD': 'randomized', 'dim_reduction_choice': 'TruncatedSVD', 'n_clusters___KMeans': 54}\n",
      "Score obtained by this configuration: inf\n"
     ]
    },
    {
     "name": "stderr",
     "output_type": "stream",
     "text": [
      "WARNING:smac.tae.execute_func.ExecuteTAFuncDict:Target Algorithm returned NaN or inf as quality. Algorithm run is treated as CRASHED, cost is set to 2147483647.0 for quality scenarios. (Change value through \"cost_for_crash\"-option.)\n"
     ]
    },
    {
     "name": "stdout",
     "output_type": "stream",
     "text": [
      "Fitting configuration: \n",
      "{'clustering_choice': 'KMeans', 'kernel___KernelPCA': 'sigmoid', 'dim_reduction_choice': 'KernelPCA', 'n_components___KernelPCA': 2, 'n_clusters___KMeans': 13}\n",
      "Score obtained by this configuration: 0.34174197401812556\n",
      "Fitting configuration: \n",
      "{'clustering_choice': 'KMeans', 'kernel___KernelPCA': 'poly', 'dim_reduction_choice': 'KernelPCA', 'n_components___KernelPCA': 3, 'n_clusters___KMeans': 25}\n",
      "Score obtained by this configuration: inf\n"
     ]
    },
    {
     "name": "stderr",
     "output_type": "stream",
     "text": [
      "WARNING:smac.tae.execute_func.ExecuteTAFuncDict:Target Algorithm returned NaN or inf as quality. Algorithm run is treated as CRASHED, cost is set to 2147483647.0 for quality scenarios. (Change value through \"cost_for_crash\"-option.)\n"
     ]
    },
    {
     "name": "stdout",
     "output_type": "stream",
     "text": [
      "Fitting configuration: \n",
      "{'clustering_choice': 'KMeans', 'kernel___KernelPCA': 'sigmoid', 'dim_reduction_choice': 'KernelPCA', 'n_components___KernelPCA': 7, 'n_clusters___KMeans': 17}\n",
      "Score obtained by this configuration: 0.4672656374629147\n",
      "Fitting configuration: \n",
      "{'clustering_choice': 'KMeans', 'kernel___KernelPCA': 'cosine', 'dim_reduction_choice': 'KernelPCA', 'n_components___KernelPCA': 2, 'n_clusters___KMeans': 14}\n",
      "Score obtained by this configuration: 0.33968153640115945\n",
      "Fitting configuration: \n",
      "{'clustering_choice': 'KMeans', 'fun___FastICA': 'cube', 'algorithm___FastICA': 'parallel', 'n_clusters___KMeans': 15, 'dim_reduction_choice': 'FastICA', 'n_components___FastICA': 2}\n",
      "Score obtained by this configuration: 0.3403209907923724\n",
      "Fitting configuration: \n",
      "{'clustering_choice': 'KMeans', 'n_components___TSNE': 2, 'n_clusters___KMeans': 58, 'dim_reduction_choice': 'TSNE', 'early_exaggeration___TSNE': 5.0256757180664575, 'perplexity___TSNE': 208.49968492611484}\n",
      "Fitting configuration: \n",
      "{'clustering_choice': 'KMeans', 'kernel___KernelPCA': 'sigmoid', 'dim_reduction_choice': 'KernelPCA', 'n_components___KernelPCA': 2, 'n_clusters___KMeans': 6}\n",
      "Score obtained by this configuration: 0.3430048372899437\n",
      "Fitting configuration: \n",
      "{'whiten___PCA': True, 'clustering_choice': 'Birch', 'svd_solver___PCA': 'arpack', 'n_components___PCA': 3, 'n_clusters___Birch': 25, 'dim_reduction_choice': 'PCA', 'branching_factor___Birch': 540}\n",
      "Score obtained by this configuration: inf\n"
     ]
    },
    {
     "name": "stderr",
     "output_type": "stream",
     "text": [
      "WARNING:smac.tae.execute_func.ExecuteTAFuncDict:Target Algorithm returned NaN or inf as quality. Algorithm run is treated as CRASHED, cost is set to 2147483647.0 for quality scenarios. (Change value through \"cost_for_crash\"-option.)\n"
     ]
    },
    {
     "name": "stdout",
     "output_type": "stream",
     "text": [
      "Fitting configuration: \n",
      "{'clustering_choice': 'KMeans', 'kernel___KernelPCA': 'cosine', 'dim_reduction_choice': 'KernelPCA', 'n_components___KernelPCA': 9, 'n_clusters___KMeans': 14}\n",
      "Score obtained by this configuration: 0.46089300534174654\n",
      "Fitting configuration: \n",
      "{'n_components___TruncatedSVD': 7, 'clustering_choice': 'AgglomerativeClustering', 'n_clusters___AgglomerativeClustering': 75, 'algorithm___TruncatedSVD': 'arpack', 'affinity___AgglomerativeClustering': 'manhattan', 'dim_reduction_choice': 'TruncatedSVD', 'linkage___AgglomerativeClustering': 'average'}\n",
      "Score obtained by this configuration: inf\n"
     ]
    },
    {
     "name": "stderr",
     "output_type": "stream",
     "text": [
      "WARNING:smac.tae.execute_func.ExecuteTAFuncDict:Target Algorithm returned NaN or inf as quality. Algorithm run is treated as CRASHED, cost is set to 2147483647.0 for quality scenarios. (Change value through \"cost_for_crash\"-option.)\n"
     ]
    },
    {
     "name": "stdout",
     "output_type": "stream",
     "text": [
      "Fitting configuration: \n",
      "{'clustering_choice': 'KMeans', 'fun___FastICA': 'exp', 'algorithm___FastICA': 'parallel', 'n_clusters___KMeans': 11, 'dim_reduction_choice': 'FastICA', 'n_components___FastICA': 2}\n",
      "Score obtained by this configuration: 0.34312883124492677\n",
      "Fitting configuration: \n",
      "{'clustering_choice': 'KMeans', 'dim_reduction_choice': 'FastICA', 'fun___FastICA': 'cube', 'algorithm___FastICA': 'parallel', 'n_clusters___KMeans': 12, 'n_components___FastICA': 3, 'whiten___FastICA': True}\n",
      "Score obtained by this configuration: 0.3955911677402206\n",
      "Fitting configuration: \n",
      "{'clustering_choice': 'KMeans', 'dim_reduction_choice': 'FastICA', 'fun___FastICA': 'logcosh', 'algorithm___FastICA': 'parallel', 'n_clusters___KMeans': 16, 'n_components___FastICA': 2, 'whiten___FastICA': True}\n",
      "Score obtained by this configuration: 0.3414993108693512\n",
      "Fitting configuration: \n",
      "{'clustering_choice': 'KMeans', 'svd_solver___PCA': 'auto', 'n_components___PCA': 2, 'n_clusters___KMeans': 5, 'dim_reduction_choice': 'PCA', 'whiten___PCA': True}\n",
      "Score obtained by this configuration: 0.3482472807110411\n",
      "Fitting configuration: \n",
      "{'clustering_choice': 'GaussianMixture', 'covariance_type___GaussianMixture': 'tied', 'fun___FastICA': 'exp', 'dim_reduction_choice': 'FastICA', 'init_params___GaussianMixture': 'kmeans', 'warm_start___GaussianMixture': True, 'n_components___GaussianMixture': 12, 'algorithm___FastICA': 'parallel', 'n_components___FastICA': 2}\n",
      "Score obtained by this configuration: inf\n"
     ]
    },
    {
     "name": "stderr",
     "output_type": "stream",
     "text": [
      "WARNING:smac.tae.execute_func.ExecuteTAFuncDict:Target Algorithm returned NaN or inf as quality. Algorithm run is treated as CRASHED, cost is set to 2147483647.0 for quality scenarios. (Change value through \"cost_for_crash\"-option.)\n"
     ]
    },
    {
     "name": "stdout",
     "output_type": "stream",
     "text": [
      "Fitting configuration: \n",
      "{'clustering_choice': 'GaussianMixture', 'covariance_type___GaussianMixture': 'spherical', 'n_components___TSNE': 2, 'dim_reduction_choice': 'TSNE', 'init_params___GaussianMixture': 'random', 'early_exaggeration___TSNE': 6.233154706088349, 'n_components___GaussianMixture': 19, 'warm_start___GaussianMixture': True, 'perplexity___TSNE': 273.3267677446796}\n",
      "Fitting configuration: \n",
      "{'clustering_choice': 'AgglomerativeClustering', 'kernel___KernelPCA': 'sigmoid', 'dim_reduction_choice': 'KernelPCA', 'affinity___AgglomerativeClustering': 'cityblock', 'n_components___KernelPCA': 3, 'linkage___AgglomerativeClustering': 'average', 'n_clusters___AgglomerativeClustering': 54}\n",
      "Score obtained by this configuration: inf\n"
     ]
    },
    {
     "name": "stderr",
     "output_type": "stream",
     "text": [
      "WARNING:smac.tae.execute_func.ExecuteTAFuncDict:Target Algorithm returned NaN or inf as quality. Algorithm run is treated as CRASHED, cost is set to 2147483647.0 for quality scenarios. (Change value through \"cost_for_crash\"-option.)\n"
     ]
    },
    {
     "name": "stdout",
     "output_type": "stream",
     "text": [
      "Fitting configuration: \n",
      "{'clustering_choice': 'KMeans', 'kernel___KernelPCA': 'sigmoid', 'dim_reduction_choice': 'KernelPCA', 'n_components___KernelPCA': 4, 'n_clusters___KMeans': 20}\n",
      "Score obtained by this configuration: 0.4248190673677487\n",
      "Fitting configuration: \n",
      "{'clustering_choice': 'Birch', 'kernel___KernelPCA': 'cosine', 'branching_factor___Birch': 510, 'n_clusters___Birch': 54, 'n_components___KernelPCA': 7, 'dim_reduction_choice': 'KernelPCA'}\n",
      "Score obtained by this configuration: 0.4732833513517017\n",
      "Fitting configuration: \n",
      "{'clustering_choice': 'KMeans', 'svd_solver___PCA': 'arpack', 'n_clusters___KMeans': 14, 'dim_reduction_choice': 'PCA', 'n_components___PCA': 2}\n",
      "Score obtained by this configuration: 0.34112451936342314\n",
      "Fitting configuration: \n",
      "{'clustering_choice': 'Birch', 'branching_factor___Birch': 473, 'n_components___TSNE': 2, 'n_clusters___Birch': 64, 'dim_reduction_choice': 'TSNE', 'early_exaggeration___TSNE': 14.32074408654907, 'perplexity___TSNE': 16.675765259381343}\n",
      "Score obtained by this configuration: inf\n"
     ]
    },
    {
     "name": "stderr",
     "output_type": "stream",
     "text": [
      "WARNING:smac.tae.execute_func.ExecuteTAFuncDict:Target Algorithm returned NaN or inf as quality. Algorithm run is treated as CRASHED, cost is set to 2147483647.0 for quality scenarios. (Change value through \"cost_for_crash\"-option.)\n"
     ]
    },
    {
     "name": "stdout",
     "output_type": "stream",
     "text": [
      "Fitting configuration: \n",
      "{'clustering_choice': 'KMeans', 'n_components___IncrementalPCA': 3, 'whiten___IncrementalPCA': True, 'batch_size___IncrementalPCA': 614, 'n_clusters___KMeans': 14, 'dim_reduction_choice': 'IncrementalPCA'}\n",
      "Score obtained by this configuration: 0.399082214781153\n",
      "Fitting configuration: \n",
      "{'n_components___TruncatedSVD': 7, 'clustering_choice': 'GaussianMixture', 'algorithm___TruncatedSVD': 'randomized', 'dim_reduction_choice': 'TruncatedSVD', 'covariance_type___GaussianMixture': 'diag', 'init_params___GaussianMixture': 'random', 'n_components___GaussianMixture': 75, 'warm_start___GaussianMixture': True}\n",
      "Score obtained by this configuration: inf\n"
     ]
    },
    {
     "name": "stderr",
     "output_type": "stream",
     "text": [
      "WARNING:smac.tae.execute_func.ExecuteTAFuncDict:Target Algorithm returned NaN or inf as quality. Algorithm run is treated as CRASHED, cost is set to 2147483647.0 for quality scenarios. (Change value through \"cost_for_crash\"-option.)\n"
     ]
    },
    {
     "name": "stdout",
     "output_type": "stream",
     "text": [
      "Fitting configuration: \n",
      "{'svd_solver___PCA': 'arpack', 'clustering_choice': 'MiniBatchKMeans', 'n_clusters___MiniBatchKMeans': 28, 'n_components___PCA': 2, 'dim_reduction_choice': 'PCA', 'batch_size___MiniBatchKMeans': 237}\n",
      "Score obtained by this configuration: inf\n"
     ]
    },
    {
     "name": "stderr",
     "output_type": "stream",
     "text": [
      "WARNING:smac.tae.execute_func.ExecuteTAFuncDict:Target Algorithm returned NaN or inf as quality. Algorithm run is treated as CRASHED, cost is set to 2147483647.0 for quality scenarios. (Change value through \"cost_for_crash\"-option.)\n"
     ]
    },
    {
     "name": "stdout",
     "output_type": "stream",
     "text": [
      "Fitting configuration: \n",
      "{'clustering_choice': 'KMeans', 'svd_solver___PCA': 'randomized', 'n_components___PCA': 2, 'n_clusters___KMeans': 80, 'dim_reduction_choice': 'PCA', 'whiten___PCA': True}\n",
      "Score obtained by this configuration: inf\n"
     ]
    },
    {
     "name": "stderr",
     "output_type": "stream",
     "text": [
      "WARNING:smac.tae.execute_func.ExecuteTAFuncDict:Target Algorithm returned NaN or inf as quality. Algorithm run is treated as CRASHED, cost is set to 2147483647.0 for quality scenarios. (Change value through \"cost_for_crash\"-option.)\n"
     ]
    },
    {
     "name": "stdout",
     "output_type": "stream",
     "text": [
      "Fitting configuration: \n",
      "{'clustering_choice': 'KMeans', 'svd_solver___PCA': 'randomized', 'n_components___PCA': 3, 'n_clusters___KMeans': 26, 'dim_reduction_choice': 'PCA', 'whiten___PCA': True}\n",
      "Score obtained by this configuration: inf\n"
     ]
    },
    {
     "name": "stderr",
     "output_type": "stream",
     "text": [
      "WARNING:smac.tae.execute_func.ExecuteTAFuncDict:Target Algorithm returned NaN or inf as quality. Algorithm run is treated as CRASHED, cost is set to 2147483647.0 for quality scenarios. (Change value through \"cost_for_crash\"-option.)\n"
     ]
    },
    {
     "name": "stdout",
     "output_type": "stream",
     "text": [
      "Fitting configuration: \n",
      "{'clustering_choice': 'AgglomerativeClustering', 'kernel___KernelPCA': 'poly', 'dim_reduction_choice': 'KernelPCA', 'affinity___AgglomerativeClustering': 'cityblock', 'n_components___KernelPCA': 5, 'linkage___AgglomerativeClustering': 'single', 'n_clusters___AgglomerativeClustering': 79}\n",
      "Score obtained by this configuration: inf\n"
     ]
    },
    {
     "name": "stderr",
     "output_type": "stream",
     "text": [
      "WARNING:smac.tae.execute_func.ExecuteTAFuncDict:Target Algorithm returned NaN or inf as quality. Algorithm run is treated as CRASHED, cost is set to 2147483647.0 for quality scenarios. (Change value through \"cost_for_crash\"-option.)\n"
     ]
    },
    {
     "name": "stdout",
     "output_type": "stream",
     "text": [
      "Fitting configuration: \n",
      "{'clustering_choice': 'KMeans', 'kernel___KernelPCA': 'poly', 'dim_reduction_choice': 'KernelPCA', 'n_components___KernelPCA': 2, 'n_clusters___KMeans': 18}\n",
      "Score obtained by this configuration: inf\n"
     ]
    },
    {
     "name": "stderr",
     "output_type": "stream",
     "text": [
      "WARNING:smac.tae.execute_func.ExecuteTAFuncDict:Target Algorithm returned NaN or inf as quality. Algorithm run is treated as CRASHED, cost is set to 2147483647.0 for quality scenarios. (Change value through \"cost_for_crash\"-option.)\n"
     ]
    },
    {
     "name": "stdout",
     "output_type": "stream",
     "text": [
      "Optimization is complete.\n",
      "Took 3434.19 seconds.\n",
      "The optimal configuration is \n",
      "Configuration:\n",
      "  clustering_choice, Value: 'KMeans'\n",
      "  dim_reduction_choice, Value: 'KernelPCA'\n",
      "  kernel___KernelPCA, Value: 'rbf'\n",
      "  n_clusters___KMeans, Value: 2\n",
      "  n_components___KernelPCA, Value: 3\n",
      "\n"
     ]
    }
   ],
   "source": [
    "cluster = AutoCluster()\n",
    "fit_params = {\n",
    "    \"df\": X, \n",
    "    \"cluster_alg_ls\": [\n",
    "        'KMeans', 'GaussianMixture', 'Birch', \n",
    "        'MiniBatchKMeans', 'AgglomerativeClustering', 'SpectralClustering'\n",
    "    ], \n",
    "    \"dim_reduction_alg_ls\": [\n",
    "        'TSNE', 'PCA', 'IncrementalPCA', \n",
    "        'KernelPCA', 'FastICA', 'TruncatedSVD'\n",
    "    ],\n",
    "    \"optimizer\": 'smac',\n",
    "    \"n_evaluations\": 100,\n",
    "    \"run_obj\": 'quality',\n",
    "    \"seed\": 27,\n",
    "    \"cutoff_time\": 180,\n",
    "    \"preprocess_dict\": {\n",
    "        \"numeric_cols\": [str(i) for i in range(64)],\n",
    "        \"categorical_cols\": [],\n",
    "        \"ordinal_cols\": [],\n",
    "        \"y_col\": []\n",
    "    },\n",
    "    \"evaluator\": get_evaluator(evaluator_ls = ['silhouetteScore'], \n",
    "                               weights = [], clustering_num = None, \n",
    "                               min_proportion = .01),\n",
    "    \"n_folds\": 3,\n",
    "    \"warmstart\": True,\n",
    "    \"warmstart_datasets_dir\": 'benchmark_silhouette',\n",
    "    \"warmstart_metafeatures_table_path\": 'metaknowledge/benchmark_silhouette_metafeatures_table.csv',\n",
    "    \"warmstart_n_neighbors\": 10,\n",
    "    \"warmstart_top_n\": 3,\n",
    "    \"general_metafeatures\": MetafeatureMapper.getGeneralMetafeatures(),\n",
    "    \"numeric_metafeatures\": MetafeatureMapper.getNumericMetafeatures(),\n",
    "    \"categorical_metafeatures\": [],\n",
    "    \"verbose_level\": 1,\n",
    "}\n",
    "result_dict = cluster.fit(**fit_params)"
   ]
  },
  {
   "cell_type": "code",
   "execution_count": 10,
   "metadata": {},
   "outputs": [
    {
     "name": "stdout",
     "output_type": "stream",
     "text": [
      "performing TSNE\n"
     ]
    },
    {
     "data": {
      "image/png": "[encoded data removed]",
      "text/plain": [
       "<Figure size 720x720 with 1 Axes>"
      ]
     },
     "metadata": {
      "needs_background": "dark"
     },
     "output_type": "display_data"
    }
   ],
   "source": [
    "predictions = cluster.predict(df)"
   ]
  },
  {
   "cell_type": "code",
   "execution_count": 11,
   "metadata": {},
   "outputs": [
    {
     "data": {
      "text/plain": [
       "Counter({0: 5591, 1: 6087})"
      ]
     },
     "execution_count": 11,
     "metadata": {},
     "output_type": "execute_result"
    }
   ],
   "source": [
    "Counter(predictions)"
   ]
  },
  {
   "cell_type": "code",
   "execution_count": 12,
   "metadata": {},
   "outputs": [
    {
     "data": {
      "text/plain": [
       "0.19798742008128462"
      ]
     },
     "execution_count": 12,
     "metadata": {},
     "output_type": "execute_result"
    }
   ],
   "source": [
    "v_measure_score(predictions, y)"
   ]
  },
  {
   "cell_type": "markdown",
   "metadata": {},
   "source": [
    "These results are pretty horrendous.\n",
    "\n",
    "I'm guessing the reason for these horrendous results is because the good results are getting timeouts"
   ]
  },
  {
   "cell_type": "markdown",
   "metadata": {},
   "source": [
    "### Experiment 2:\n",
    "\n",
    "Research Question:\n",
    "Does TSNE help us handle non-convex, clustering better?\n",
    "\n",
    "The noisy moons is an excellent toy dataset for testing the algorithms performance agaisnt non-convex data\n",
    "\n",
    "- For the output of noisy moons, classify and label each moon. These will be the ground truth for v_measure eval\n",
    "- Run the algorithm, with TSNE, for 200 iterations, on the dataset\n",
    "- check the v measure score\n",
    "- Run the algorithm without TSNE, for 200 iterations, on the dataset\n",
    "- check the v measure score\n",
    "- Make note of the time taken, may be useful in the future when evaluating whether increased timecost is worthwhile\n",
    "\n",
    "if the TSNE improves v measure score, then TSNE contributes to improved clustering\n",
    "if it has no effect, it is unnecessary cost\n",
    "if it makes it worse, the heuristic we are giving the algorithm causes the dimension reduction that warp the clusters\n",
    "\n",
    "due to many of these processes being random, we may need to run multiple times\n",
    "\n",
    "We may repeat this for evaluation heuristics that value continuity, as suggested by prof. ottos"
   ]
  },
  {
   "cell_type": "code",
   "execution_count": 1,
   "metadata": {},
   "outputs": [],
   "source": [
    "import os\n",
    "\n",
    "# change working directory, run this cell once\n",
    "os.chdir(\"../\")"
   ]
  },
  {
   "cell_type": "code",
   "execution_count": 2,
   "metadata": {},
   "outputs": [],
   "source": [
    "# we will be using sample datasets in sklearn\n",
    "from sklearn import datasets, cluster\n",
    "from collections import Counter\n",
    "import pandas as pd\n",
    "\n",
    "# autocluster functionalities\n",
    "from autocluster import AutoCluster\n",
    "from evaluators import get_evaluator\n",
    "from utils.metafeatures import MetafeatureMapper\n",
    "\n",
    "%load_ext autoreload\n",
    "%autoreload 2"
   ]
  },
  {
   "cell_type": "code",
   "execution_count": 8,
   "metadata": {},
   "outputs": [
    {
     "data": {
      "text/html": [
       "<div>\n",
       "<style scoped>\n",
       "    .dataframe tbody tr th:only-of-type {\n",
       "        vertical-align: middle;\n",
       "    }\n",
       "\n",
       "    .dataframe tbody tr th {\n",
       "        vertical-align: top;\n",
       "    }\n",
       "\n",
       "    .dataframe thead th {\n",
       "        text-align: right;\n",
       "    }\n",
       "</style>\n",
       "<table border=\"1\" class=\"dataframe\">\n",
       "  <thead>\n",
       "    <tr style=\"text-align: right;\">\n",
       "      <th></th>\n",
       "      <th>0</th>\n",
       "      <th>1</th>\n",
       "    </tr>\n",
       "  </thead>\n",
       "  <tbody>\n",
       "    <tr>\n",
       "      <th>0</th>\n",
       "      <td>1.064207</td>\n",
       "      <td>-0.542808</td>\n",
       "    </tr>\n",
       "    <tr>\n",
       "      <th>1</th>\n",
       "      <td>1.119585</td>\n",
       "      <td>-0.420220</td>\n",
       "    </tr>\n",
       "    <tr>\n",
       "      <th>2</th>\n",
       "      <td>1.030609</td>\n",
       "      <td>0.230317</td>\n",
       "    </tr>\n",
       "    <tr>\n",
       "      <th>3</th>\n",
       "      <td>0.902470</td>\n",
       "      <td>0.287562</td>\n",
       "    </tr>\n",
       "    <tr>\n",
       "      <th>4</th>\n",
       "      <td>-1.013513</td>\n",
       "      <td>0.294588</td>\n",
       "    </tr>\n",
       "  </tbody>\n",
       "</table>\n",
       "</div>"
      ],
      "text/plain": [
       "          0         1\n",
       "0  1.064207 -0.542808\n",
       "1  1.119585 -0.420220\n",
       "2  1.030609  0.230317\n",
       "3  0.902470  0.287562\n",
       "4 -1.013513  0.294588"
      ]
     },
     "execution_count": 8,
     "metadata": {},
     "output_type": "execute_result"
    }
   ],
   "source": [
    "X,y = datasets.make_moons(n_samples=1000, noise=.05, random_state=27)\n",
    "\n",
    "dummy_df = pd.DataFrame(y)\n",
    "dummy_df.head(5)\n",
    "dummy_df = pd.DataFrame(X)\n",
    "dummy_df.head(5)"
   ]
  },
  {
   "cell_type": "code",
   "execution_count": 9,
   "metadata": {},
   "outputs": [
    {
     "name": "stdout",
     "output_type": "stream",
     "text": [
      "Shape of this dataframe is (1000, 2)\n"
     ]
    }
   ],
   "source": [
    "print(\"Shape of this dataframe is {}\".format(dummy_df.shape))"
   ]
  },
  {
   "cell_type": "code",
   "execution_count": 12,
   "metadata": {},
   "outputs": [
    {
     "name": "stdout",
     "output_type": "stream",
     "text": [
      "900/1000 datapoints remaining after outlier removal\n",
      "Truncated n_evaluations: 150\n",
      "Fitting configuration: \n",
      "{'dim_reduction_choice': 'NullModel', 'n_clusters___KMeans': 5, 'clustering_choice': 'KMeans', 'random_state___NullModel': 1}\n",
      "Score obtained by this configuration: 0.29738815089379317\n",
      "Fitting configuration: \n",
      "{'n_clusters___MiniBatchKMeans': 13, 'batch_size___MiniBatchKMeans': 958, 'dim_reduction_choice': 'NullModel', 'clustering_choice': 'MiniBatchKMeans', 'random_state___NullModel': 2}\n",
      "Score obtained by this configuration: 0.24446478434262067\n",
      "Fitting configuration: \n",
      "{'dim_reduction_choice': 'NullModel', 'init_params___GaussianMixture': 'kmeans', 'covariance_type___GaussianMixture': 'spherical', 'n_components___GaussianMixture': 60, 'clustering_choice': 'GaussianMixture'}\n",
      "Score obtained by this configuration: inf\n"
     ]
    },
    {
     "name": "stderr",
     "output_type": "stream",
     "text": [
      "WARNING:smac.tae.execute_func.ExecuteTAFuncDict:Target Algorithm returned NaN or inf as quality. Algorithm run is treated as CRASHED, cost is set to 2147483647.0 for quality scenarios. (Change value through \"cost_for_crash\"-option.)\n"
     ]
    },
    {
     "name": "stdout",
     "output_type": "stream",
     "text": [
      "Fitting configuration: \n",
      "{'n_clusters___MiniBatchKMeans': 2, 'batch_size___MiniBatchKMeans': 969, 'dim_reduction_choice': 'NullModel', 'clustering_choice': 'MiniBatchKMeans', 'random_state___NullModel': 1}\n",
      "Score obtained by this configuration: 0.3015639113538986\n",
      "Fitting configuration: \n",
      "{'dim_reduction_choice': 'NullModel', 'n_clusters___KMeans': 7, 'clustering_choice': 'KMeans', 'random_state___NullModel': 2}\n",
      "Score obtained by this configuration: 0.25580731687708486\n",
      "Fitting configuration: \n",
      "{'n_clusters___MiniBatchKMeans': 19, 'batch_size___MiniBatchKMeans': 250, 'dim_reduction_choice': 'NullModel', 'clustering_choice': 'MiniBatchKMeans', 'random_state___NullModel': 1}\n",
      "Score obtained by this configuration: 0.2565570224630112\n",
      "Fitting configuration: \n",
      "{'dim_reduction_choice': 'NullModel', 'n_clusters___KMeans': 25, 'clustering_choice': 'KMeans', 'random_state___NullModel': 1}\n",
      "Score obtained by this configuration: 0.2651251625465206\n",
      "Fitting configuration: \n",
      "{'dim_reduction_choice': 'NullModel', 'n_clusters___KMeans': 56, 'clustering_choice': 'KMeans', 'random_state___NullModel': 1}\n",
      "Score obtained by this configuration: inf\n"
     ]
    },
    {
     "name": "stderr",
     "output_type": "stream",
     "text": [
      "WARNING:smac.tae.execute_func.ExecuteTAFuncDict:Target Algorithm returned NaN or inf as quality. Algorithm run is treated as CRASHED, cost is set to 2147483647.0 for quality scenarios. (Change value through \"cost_for_crash\"-option.)\n"
     ]
    },
    {
     "name": "stdout",
     "output_type": "stream",
     "text": [
      "Fitting configuration: \n",
      "{'dim_reduction_choice': 'NullModel', 'n_clusters___KMeans': 80, 'clustering_choice': 'KMeans', 'random_state___NullModel': 2}\n",
      "Score obtained by this configuration: inf\n"
     ]
    },
    {
     "name": "stderr",
     "output_type": "stream",
     "text": [
      "WARNING:smac.tae.execute_func.ExecuteTAFuncDict:Target Algorithm returned NaN or inf as quality. Algorithm run is treated as CRASHED, cost is set to 2147483647.0 for quality scenarios. (Change value through \"cost_for_crash\"-option.)\n"
     ]
    },
    {
     "name": "stdout",
     "output_type": "stream",
     "text": [
      "Fitting configuration: \n",
      "{'n_clusters___MiniBatchKMeans': 69, 'batch_size___MiniBatchKMeans': 864, 'dim_reduction_choice': 'NullModel', 'clustering_choice': 'MiniBatchKMeans', 'random_state___NullModel': 1}\n",
      "Score obtained by this configuration: inf\n"
     ]
    },
    {
     "name": "stderr",
     "output_type": "stream",
     "text": [
      "WARNING:smac.tae.execute_func.ExecuteTAFuncDict:Target Algorithm returned NaN or inf as quality. Algorithm run is treated as CRASHED, cost is set to 2147483647.0 for quality scenarios. (Change value through \"cost_for_crash\"-option.)\n"
     ]
    },
    {
     "name": "stdout",
     "output_type": "stream",
     "text": [
      "Fitting configuration: \n",
      "{'n_clusters___MiniBatchKMeans': 65, 'batch_size___MiniBatchKMeans': 850, 'dim_reduction_choice': 'NullModel', 'clustering_choice': 'MiniBatchKMeans', 'random_state___NullModel': 1}\n",
      "Score obtained by this configuration: inf\n"
     ]
    },
    {
     "name": "stderr",
     "output_type": "stream",
     "text": [
      "WARNING:smac.tae.execute_func.ExecuteTAFuncDict:Target Algorithm returned NaN or inf as quality. Algorithm run is treated as CRASHED, cost is set to 2147483647.0 for quality scenarios. (Change value through \"cost_for_crash\"-option.)\n"
     ]
    },
    {
     "name": "stdout",
     "output_type": "stream",
     "text": [
      "Fitting configuration: \n",
      "{'dim_reduction_choice': 'NullModel', 'n_clusters___KMeans': 1, 'clustering_choice': 'KMeans', 'random_state___NullModel': 2}\n",
      "Score obtained by this configuration: inf\n"
     ]
    },
    {
     "name": "stderr",
     "output_type": "stream",
     "text": [
      "WARNING:smac.tae.execute_func.ExecuteTAFuncDict:Target Algorithm returned NaN or inf as quality. Algorithm run is treated as CRASHED, cost is set to 2147483647.0 for quality scenarios. (Change value through \"cost_for_crash\"-option.)\n"
     ]
    },
    {
     "name": "stdout",
     "output_type": "stream",
     "text": [
      "Fitting configuration: \n",
      "{'dim_reduction_choice': 'NullModel', 'n_clusters___KMeans': 4, 'clustering_choice': 'KMeans', 'random_state___NullModel': 2}\n",
      "Score obtained by this configuration: 0.32615331982467016\n",
      "Fitting configuration: \n",
      "{'dim_reduction_choice': 'NullModel', 'covariance_type___GaussianMixture': 'tied', 'random_state___NullModel': 2, 'init_params___GaussianMixture': 'kmeans', 'n_components___GaussianMixture': 24, 'clustering_choice': 'GaussianMixture'}\n",
      "Score obtained by this configuration: 0.2654116676876534\n",
      "Fitting configuration: \n",
      "{'dim_reduction_choice': 'NullModel', 'init_params___GaussianMixture': 'kmeans', 'covariance_type___GaussianMixture': 'tied', 'n_components___GaussianMixture': 30, 'clustering_choice': 'GaussianMixture'}\n",
      "Score obtained by this configuration: inf\n"
     ]
    },
    {
     "name": "stderr",
     "output_type": "stream",
     "text": [
      "WARNING:smac.tae.execute_func.ExecuteTAFuncDict:Target Algorithm returned NaN or inf as quality. Algorithm run is treated as CRASHED, cost is set to 2147483647.0 for quality scenarios. (Change value through \"cost_for_crash\"-option.)\n"
     ]
    },
    {
     "name": "stdout",
     "output_type": "stream",
     "text": [
      "Fitting configuration: \n",
      "{'warm_start___GaussianMixture': True, 'dim_reduction_choice': 'NullModel', 'n_components___GaussianMixture': 67, 'random_state___NullModel': 2, 'init_params___GaussianMixture': 'random', 'covariance_type___GaussianMixture': 'spherical', 'clustering_choice': 'GaussianMixture'}\n",
      "Score obtained by this configuration: inf\n"
     ]
    },
    {
     "name": "stderr",
     "output_type": "stream",
     "text": [
      "WARNING:smac.tae.execute_func.ExecuteTAFuncDict:Target Algorithm returned NaN or inf as quality. Algorithm run is treated as CRASHED, cost is set to 2147483647.0 for quality scenarios. (Change value through \"cost_for_crash\"-option.)\n"
     ]
    },
    {
     "name": "stdout",
     "output_type": "stream",
     "text": [
      "Fitting configuration: \n",
      "{'n_clusters___MiniBatchKMeans': 35, 'batch_size___MiniBatchKMeans': 664, 'dim_reduction_choice': 'NullModel', 'clustering_choice': 'MiniBatchKMeans', 'random_state___NullModel': 2}\n",
      "Score obtained by this configuration: 0.28282434909425985\n",
      "Fitting configuration: \n",
      "{'dim_reduction_choice': 'NullModel', 'n_clusters___KMeans': 16, 'clustering_choice': 'KMeans', 'random_state___NullModel': 2}\n",
      "Score obtained by this configuration: 0.24761368698853914\n",
      "Fitting configuration: \n",
      "{'dim_reduction_choice': 'NullModel', 'n_clusters___KMeans': 53, 'clustering_choice': 'KMeans'}\n",
      "Score obtained by this configuration: inf\n"
     ]
    },
    {
     "name": "stderr",
     "output_type": "stream",
     "text": [
      "WARNING:smac.tae.execute_func.ExecuteTAFuncDict:Target Algorithm returned NaN or inf as quality. Algorithm run is treated as CRASHED, cost is set to 2147483647.0 for quality scenarios. (Change value through \"cost_for_crash\"-option.)\n"
     ]
    },
    {
     "name": "stdout",
     "output_type": "stream",
     "text": [
      "Fitting configuration: \n",
      "{'dim_reduction_choice': 'NullModel', 'covariance_type___GaussianMixture': 'spherical', 'random_state___NullModel': 1, 'init_params___GaussianMixture': 'random', 'n_components___GaussianMixture': 53, 'clustering_choice': 'GaussianMixture'}\n",
      "Score obtained by this configuration: inf\n"
     ]
    },
    {
     "name": "stderr",
     "output_type": "stream",
     "text": [
      "WARNING:smac.tae.execute_func.ExecuteTAFuncDict:Target Algorithm returned NaN or inf as quality. Algorithm run is treated as CRASHED, cost is set to 2147483647.0 for quality scenarios. (Change value through \"cost_for_crash\"-option.)\n"
     ]
    },
    {
     "name": "stdout",
     "output_type": "stream",
     "text": [
      "Fitting configuration: \n",
      "{'dim_reduction_choice': 'NullModel', 'covariance_type___GaussianMixture': 'spherical', 'random_state___NullModel': 1, 'init_params___GaussianMixture': 'kmeans', 'n_components___GaussianMixture': 4, 'clustering_choice': 'GaussianMixture'}\n",
      "Score obtained by this configuration: 0.33026643906185355\n",
      "Fitting configuration: \n",
      "{'n_clusters___MiniBatchKMeans': 8, 'batch_size___MiniBatchKMeans': 82, 'dim_reduction_choice': 'NullModel', 'clustering_choice': 'MiniBatchKMeans', 'random_state___NullModel': 2}\n",
      "Score obtained by this configuration: 0.2593561094865407\n",
      "Fitting configuration: \n",
      "{'n_clusters___MiniBatchKMeans': 55, 'batch_size___MiniBatchKMeans': 168, 'dim_reduction_choice': 'NullModel', 'clustering_choice': 'MiniBatchKMeans', 'random_state___NullModel': 1}\n",
      "Score obtained by this configuration: inf\n"
     ]
    },
    {
     "name": "stderr",
     "output_type": "stream",
     "text": [
      "WARNING:smac.tae.execute_func.ExecuteTAFuncDict:Target Algorithm returned NaN or inf as quality. Algorithm run is treated as CRASHED, cost is set to 2147483647.0 for quality scenarios. (Change value through \"cost_for_crash\"-option.)\n"
     ]
    },
    {
     "name": "stdout",
     "output_type": "stream",
     "text": [
      "Fitting configuration: \n",
      "{'n_clusters___MiniBatchKMeans': 6, 'batch_size___MiniBatchKMeans': 711, 'dim_reduction_choice': 'NullModel', 'clustering_choice': 'MiniBatchKMeans'}\n",
      "Score obtained by this configuration: 0.28349899156830705\n",
      "Fitting configuration: \n",
      "{'dim_reduction_choice': 'NullModel', 'covariance_type___GaussianMixture': 'full', 'random_state___NullModel': 2, 'init_params___GaussianMixture': 'kmeans', 'n_components___GaussianMixture': 1, 'clustering_choice': 'GaussianMixture'}\n",
      "Score obtained by this configuration: inf\n"
     ]
    },
    {
     "name": "stderr",
     "output_type": "stream",
     "text": [
      "WARNING:smac.tae.execute_func.ExecuteTAFuncDict:Target Algorithm returned NaN or inf as quality. Algorithm run is treated as CRASHED, cost is set to 2147483647.0 for quality scenarios. (Change value through \"cost_for_crash\"-option.)\n"
     ]
    },
    {
     "name": "stdout",
     "output_type": "stream",
     "text": [
      "Fitting configuration: \n",
      "{'dim_reduction_choice': 'NullModel', 'n_clusters___KMeans': 79, 'clustering_choice': 'KMeans', 'random_state___NullModel': 2}\n",
      "Score obtained by this configuration: inf\n"
     ]
    },
    {
     "name": "stderr",
     "output_type": "stream",
     "text": [
      "WARNING:smac.tae.execute_func.ExecuteTAFuncDict:Target Algorithm returned NaN or inf as quality. Algorithm run is treated as CRASHED, cost is set to 2147483647.0 for quality scenarios. (Change value through \"cost_for_crash\"-option.)\n"
     ]
    },
    {
     "name": "stdout",
     "output_type": "stream",
     "text": [
      "Fitting configuration: \n",
      "{'n_clusters___MiniBatchKMeans': 24, 'batch_size___MiniBatchKMeans': 153, 'dim_reduction_choice': 'NullModel', 'clustering_choice': 'MiniBatchKMeans', 'random_state___NullModel': 2}\n",
      "Score obtained by this configuration: 0.26712473227316574\n",
      "Fitting configuration: \n",
      "{'dim_reduction_choice': 'NullModel', 'n_clusters___KMeans': 52, 'clustering_choice': 'KMeans', 'random_state___NullModel': 2}\n",
      "Score obtained by this configuration: inf\n"
     ]
    },
    {
     "name": "stderr",
     "output_type": "stream",
     "text": [
      "WARNING:smac.tae.execute_func.ExecuteTAFuncDict:Target Algorithm returned NaN or inf as quality. Algorithm run is treated as CRASHED, cost is set to 2147483647.0 for quality scenarios. (Change value through \"cost_for_crash\"-option.)\n"
     ]
    },
    {
     "name": "stdout",
     "output_type": "stream",
     "text": [
      "Fitting configuration: \n",
      "{'n_clusters___MiniBatchKMeans': 11, 'batch_size___MiniBatchKMeans': 76, 'dim_reduction_choice': 'NullModel', 'clustering_choice': 'MiniBatchKMeans', 'random_state___NullModel': 1}\n",
      "Score obtained by this configuration: 0.2479377749634142\n",
      "Fitting configuration: \n",
      "{'n_clusters___MiniBatchKMeans': 57, 'batch_size___MiniBatchKMeans': 417, 'dim_reduction_choice': 'NullModel', 'clustering_choice': 'MiniBatchKMeans'}\n",
      "Score obtained by this configuration: inf\n"
     ]
    },
    {
     "name": "stderr",
     "output_type": "stream",
     "text": [
      "WARNING:smac.tae.execute_func.ExecuteTAFuncDict:Target Algorithm returned NaN or inf as quality. Algorithm run is treated as CRASHED, cost is set to 2147483647.0 for quality scenarios. (Change value through \"cost_for_crash\"-option.)\n"
     ]
    },
    {
     "name": "stdout",
     "output_type": "stream",
     "text": [
      "Fitting configuration: \n",
      "{'n_clusters___MiniBatchKMeans': 43, 'batch_size___MiniBatchKMeans': 83, 'dim_reduction_choice': 'NullModel', 'clustering_choice': 'MiniBatchKMeans', 'random_state___NullModel': 2}\n",
      "Score obtained by this configuration: inf\n"
     ]
    },
    {
     "name": "stderr",
     "output_type": "stream",
     "text": [
      "WARNING:smac.tae.execute_func.ExecuteTAFuncDict:Target Algorithm returned NaN or inf as quality. Algorithm run is treated as CRASHED, cost is set to 2147483647.0 for quality scenarios. (Change value through \"cost_for_crash\"-option.)\n"
     ]
    },
    {
     "name": "stdout",
     "output_type": "stream",
     "text": [
      "Fitting configuration: \n",
      "{'n_clusters___MiniBatchKMeans': 38, 'batch_size___MiniBatchKMeans': 661, 'dim_reduction_choice': 'NullModel', 'clustering_choice': 'MiniBatchKMeans', 'random_state___NullModel': 1}\n",
      "Score obtained by this configuration: 0.29277968280598715\n",
      "Fitting configuration: \n",
      "{'n_clusters___MiniBatchKMeans': 38, 'batch_size___MiniBatchKMeans': 777, 'dim_reduction_choice': 'NullModel', 'clustering_choice': 'MiniBatchKMeans', 'random_state___NullModel': 2}\n",
      "Score obtained by this configuration: inf\n"
     ]
    },
    {
     "name": "stderr",
     "output_type": "stream",
     "text": [
      "WARNING:smac.tae.execute_func.ExecuteTAFuncDict:Target Algorithm returned NaN or inf as quality. Algorithm run is treated as CRASHED, cost is set to 2147483647.0 for quality scenarios. (Change value through \"cost_for_crash\"-option.)\n"
     ]
    },
    {
     "name": "stdout",
     "output_type": "stream",
     "text": [
      "Fitting configuration: \n",
      "{'n_clusters___MiniBatchKMeans': 7, 'batch_size___MiniBatchKMeans': 467, 'dim_reduction_choice': 'NullModel', 'clustering_choice': 'MiniBatchKMeans'}\n",
      "Score obtained by this configuration: 0.26015073178333076\n",
      "Fitting configuration: \n",
      "{'dim_reduction_choice': 'NullModel', 'covariance_type___GaussianMixture': 'tied', 'random_state___NullModel': 2, 'init_params___GaussianMixture': 'kmeans', 'n_components___GaussianMixture': 32, 'clustering_choice': 'GaussianMixture'}\n",
      "Score obtained by this configuration: inf\n"
     ]
    },
    {
     "name": "stderr",
     "output_type": "stream",
     "text": [
      "WARNING:smac.tae.execute_func.ExecuteTAFuncDict:Target Algorithm returned NaN or inf as quality. Algorithm run is treated as CRASHED, cost is set to 2147483647.0 for quality scenarios. (Change value through \"cost_for_crash\"-option.)\n"
     ]
    },
    {
     "name": "stdout",
     "output_type": "stream",
     "text": [
      "Fitting configuration: \n",
      "{'dim_reduction_choice': 'NullModel', 'n_clusters___KMeans': 29, 'clustering_choice': 'KMeans'}\n",
      "Score obtained by this configuration: 0.27192299147371884\n",
      "Fitting configuration: \n",
      "{'n_clusters___MiniBatchKMeans': 36, 'batch_size___MiniBatchKMeans': 230, 'dim_reduction_choice': 'NullModel', 'clustering_choice': 'MiniBatchKMeans'}\n",
      "Score obtained by this configuration: inf\n"
     ]
    },
    {
     "name": "stderr",
     "output_type": "stream",
     "text": [
      "WARNING:smac.tae.execute_func.ExecuteTAFuncDict:Target Algorithm returned NaN or inf as quality. Algorithm run is treated as CRASHED, cost is set to 2147483647.0 for quality scenarios. (Change value through \"cost_for_crash\"-option.)\n"
     ]
    },
    {
     "name": "stdout",
     "output_type": "stream",
     "text": [
      "Fitting configuration: \n",
      "{'dim_reduction_choice': 'NullModel', 'n_clusters___KMeans': 73, 'clustering_choice': 'KMeans', 'random_state___NullModel': 2}\n",
      "Score obtained by this configuration: inf\n"
     ]
    },
    {
     "name": "stderr",
     "output_type": "stream",
     "text": [
      "WARNING:smac.tae.execute_func.ExecuteTAFuncDict:Target Algorithm returned NaN or inf as quality. Algorithm run is treated as CRASHED, cost is set to 2147483647.0 for quality scenarios. (Change value through \"cost_for_crash\"-option.)\n"
     ]
    },
    {
     "name": "stdout",
     "output_type": "stream",
     "text": [
      "Fitting configuration: \n",
      "{'dim_reduction_choice': 'NullModel', 'n_clusters___KMeans': 61, 'clustering_choice': 'KMeans'}\n",
      "Score obtained by this configuration: inf\n"
     ]
    },
    {
     "name": "stderr",
     "output_type": "stream",
     "text": [
      "WARNING:smac.tae.execute_func.ExecuteTAFuncDict:Target Algorithm returned NaN or inf as quality. Algorithm run is treated as CRASHED, cost is set to 2147483647.0 for quality scenarios. (Change value through \"cost_for_crash\"-option.)\n"
     ]
    },
    {
     "name": "stdout",
     "output_type": "stream",
     "text": [
      "Fitting configuration: \n",
      "{'n_clusters___MiniBatchKMeans': 34, 'batch_size___MiniBatchKMeans': 447, 'dim_reduction_choice': 'NullModel', 'clustering_choice': 'MiniBatchKMeans', 'random_state___NullModel': 2}\n",
      "Score obtained by this configuration: inf\n"
     ]
    },
    {
     "name": "stderr",
     "output_type": "stream",
     "text": [
      "WARNING:smac.tae.execute_func.ExecuteTAFuncDict:Target Algorithm returned NaN or inf as quality. Algorithm run is treated as CRASHED, cost is set to 2147483647.0 for quality scenarios. (Change value through \"cost_for_crash\"-option.)\n"
     ]
    },
    {
     "name": "stdout",
     "output_type": "stream",
     "text": [
      "Fitting configuration: \n",
      "{'n_clusters___MiniBatchKMeans': 35, 'batch_size___MiniBatchKMeans': 479, 'dim_reduction_choice': 'NullModel', 'clustering_choice': 'MiniBatchKMeans', 'random_state___NullModel': 2}\n",
      "Score obtained by this configuration: inf\n"
     ]
    },
    {
     "name": "stderr",
     "output_type": "stream",
     "text": [
      "WARNING:smac.tae.execute_func.ExecuteTAFuncDict:Target Algorithm returned NaN or inf as quality. Algorithm run is treated as CRASHED, cost is set to 2147483647.0 for quality scenarios. (Change value through \"cost_for_crash\"-option.)\n"
     ]
    },
    {
     "name": "stdout",
     "output_type": "stream",
     "text": [
      "Fitting configuration: \n",
      "{'warm_start___GaussianMixture': True, 'dim_reduction_choice': 'NullModel', 'covariance_type___GaussianMixture': 'full', 'init_params___GaussianMixture': 'kmeans', 'n_components___GaussianMixture': 73, 'clustering_choice': 'GaussianMixture'}\n",
      "Score obtained by this configuration: inf\n"
     ]
    },
    {
     "name": "stderr",
     "output_type": "stream",
     "text": [
      "WARNING:smac.tae.execute_func.ExecuteTAFuncDict:Target Algorithm returned NaN or inf as quality. Algorithm run is treated as CRASHED, cost is set to 2147483647.0 for quality scenarios. (Change value through \"cost_for_crash\"-option.)\n"
     ]
    },
    {
     "name": "stdout",
     "output_type": "stream",
     "text": [
      "Fitting configuration: \n",
      "{'warm_start___GaussianMixture': True, 'dim_reduction_choice': 'NullModel', 'n_components___GaussianMixture': 79, 'random_state___NullModel': 2, 'init_params___GaussianMixture': 'kmeans', 'covariance_type___GaussianMixture': 'tied', 'clustering_choice': 'GaussianMixture'}\n",
      "Score obtained by this configuration: inf\n"
     ]
    },
    {
     "name": "stderr",
     "output_type": "stream",
     "text": [
      "WARNING:smac.tae.execute_func.ExecuteTAFuncDict:Target Algorithm returned NaN or inf as quality. Algorithm run is treated as CRASHED, cost is set to 2147483647.0 for quality scenarios. (Change value through \"cost_for_crash\"-option.)\n"
     ]
    },
    {
     "name": "stdout",
     "output_type": "stream",
     "text": [
      "Fitting configuration: \n",
      "{'n_clusters___MiniBatchKMeans': 25, 'batch_size___MiniBatchKMeans': 64, 'dim_reduction_choice': 'NullModel', 'clustering_choice': 'MiniBatchKMeans'}\n",
      "Score obtained by this configuration: 0.2701839457939104\n",
      "Fitting configuration: \n",
      "{'n_clusters___MiniBatchKMeans': 25, 'batch_size___MiniBatchKMeans': 27, 'dim_reduction_choice': 'NullModel', 'clustering_choice': 'MiniBatchKMeans', 'random_state___NullModel': 1}\n",
      "Score obtained by this configuration: inf\n"
     ]
    },
    {
     "name": "stderr",
     "output_type": "stream",
     "text": [
      "WARNING:smac.tae.execute_func.ExecuteTAFuncDict:Target Algorithm returned NaN or inf as quality. Algorithm run is treated as CRASHED, cost is set to 2147483647.0 for quality scenarios. (Change value through \"cost_for_crash\"-option.)\n"
     ]
    },
    {
     "name": "stdout",
     "output_type": "stream",
     "text": [
      "Fitting configuration: \n",
      "{'dim_reduction_choice': 'NullModel', 'n_clusters___KMeans': 33, 'clustering_choice': 'KMeans', 'random_state___NullModel': 1}\n",
      "Score obtained by this configuration: inf\n"
     ]
    },
    {
     "name": "stderr",
     "output_type": "stream",
     "text": [
      "WARNING:smac.tae.execute_func.ExecuteTAFuncDict:Target Algorithm returned NaN or inf as quality. Algorithm run is treated as CRASHED, cost is set to 2147483647.0 for quality scenarios. (Change value through \"cost_for_crash\"-option.)\n"
     ]
    },
    {
     "name": "stdout",
     "output_type": "stream",
     "text": [
      "Fitting configuration: \n",
      "{'dim_reduction_choice': 'NullModel', 'init_params___GaussianMixture': 'kmeans', 'covariance_type___GaussianMixture': 'full', 'n_components___GaussianMixture': 37, 'clustering_choice': 'GaussianMixture'}\n",
      "Score obtained by this configuration: inf\n"
     ]
    },
    {
     "name": "stderr",
     "output_type": "stream",
     "text": [
      "WARNING:smac.tae.execute_func.ExecuteTAFuncDict:Target Algorithm returned NaN or inf as quality. Algorithm run is treated as CRASHED, cost is set to 2147483647.0 for quality scenarios. (Change value through \"cost_for_crash\"-option.)\n"
     ]
    },
    {
     "name": "stdout",
     "output_type": "stream",
     "text": [
      "Fitting configuration: \n",
      "{'n_clusters___MiniBatchKMeans': 11, 'batch_size___MiniBatchKMeans': 380, 'dim_reduction_choice': 'NullModel', 'clustering_choice': 'MiniBatchKMeans', 'random_state___NullModel': 1}\n",
      "Score obtained by this configuration: 0.24254187273465236\n",
      "Fitting configuration: \n",
      "{'n_clusters___MiniBatchKMeans': 11, 'batch_size___MiniBatchKMeans': 416, 'dim_reduction_choice': 'NullModel', 'clustering_choice': 'MiniBatchKMeans', 'random_state___NullModel': 1}\n",
      "Score obtained by this configuration: 0.2434232339993927\n",
      "Fitting configuration: \n",
      "{'dim_reduction_choice': 'NullModel', 'n_clusters___KMeans': 65, 'clustering_choice': 'KMeans'}\n",
      "Score obtained by this configuration: inf\n"
     ]
    },
    {
     "name": "stderr",
     "output_type": "stream",
     "text": [
      "WARNING:smac.tae.execute_func.ExecuteTAFuncDict:Target Algorithm returned NaN or inf as quality. Algorithm run is treated as CRASHED, cost is set to 2147483647.0 for quality scenarios. (Change value through \"cost_for_crash\"-option.)\n"
     ]
    },
    {
     "name": "stdout",
     "output_type": "stream",
     "text": [
      "Fitting configuration: \n",
      "{'n_clusters___MiniBatchKMeans': 21, 'batch_size___MiniBatchKMeans': 412, 'dim_reduction_choice': 'NullModel', 'clustering_choice': 'MiniBatchKMeans', 'random_state___NullModel': 1}\n",
      "Score obtained by this configuration: inf\n"
     ]
    },
    {
     "name": "stderr",
     "output_type": "stream",
     "text": [
      "WARNING:smac.tae.execute_func.ExecuteTAFuncDict:Target Algorithm returned NaN or inf as quality. Algorithm run is treated as CRASHED, cost is set to 2147483647.0 for quality scenarios. (Change value through \"cost_for_crash\"-option.)\n"
     ]
    },
    {
     "name": "stdout",
     "output_type": "stream",
     "text": [
      "Fitting configuration: \n",
      "{'n_clusters___MiniBatchKMeans': 9, 'batch_size___MiniBatchKMeans': 184, 'dim_reduction_choice': 'NullModel', 'clustering_choice': 'MiniBatchKMeans'}\n",
      "Score obtained by this configuration: 0.24697485748308565\n",
      "Fitting configuration: \n",
      "{'n_clusters___MiniBatchKMeans': 9, 'batch_size___MiniBatchKMeans': 351, 'dim_reduction_choice': 'NullModel', 'clustering_choice': 'MiniBatchKMeans'}\n",
      "Score obtained by this configuration: 0.24747008810071347\n",
      "Fitting configuration: \n",
      "{'n_clusters___MiniBatchKMeans': 9, 'batch_size___MiniBatchKMeans': 55, 'dim_reduction_choice': 'NullModel', 'clustering_choice': 'MiniBatchKMeans', 'random_state___NullModel': 1}\n",
      "Score obtained by this configuration: 0.24774163670362795\n",
      "Fitting configuration: \n",
      "{'n_clusters___MiniBatchKMeans': 9, 'batch_size___MiniBatchKMeans': 51, 'dim_reduction_choice': 'NullModel', 'clustering_choice': 'MiniBatchKMeans', 'random_state___NullModel': 1}\n",
      "Score obtained by this configuration: 0.24948876260831732\n",
      "Fitting configuration: \n",
      "{'n_clusters___MiniBatchKMeans': 12, 'batch_size___MiniBatchKMeans': 362, 'dim_reduction_choice': 'NullModel', 'clustering_choice': 'MiniBatchKMeans', 'random_state___NullModel': 2}\n",
      "Score obtained by this configuration: 0.24819444317975178\n",
      "Fitting configuration: \n",
      "{'dim_reduction_choice': 'NullModel', 'n_clusters___KMeans': 27, 'clustering_choice': 'KMeans', 'random_state___NullModel': 1}\n",
      "Score obtained by this configuration: 0.27290547237084345\n",
      "Fitting configuration: \n",
      "{'n_clusters___MiniBatchKMeans': 8, 'batch_size___MiniBatchKMeans': 995, 'dim_reduction_choice': 'NullModel', 'clustering_choice': 'MiniBatchKMeans'}\n",
      "Score obtained by this configuration: 0.25018778057794777\n",
      "Fitting configuration: \n",
      "{'n_clusters___MiniBatchKMeans': 25, 'batch_size___MiniBatchKMeans': 341, 'dim_reduction_choice': 'NullModel', 'clustering_choice': 'MiniBatchKMeans', 'random_state___NullModel': 1}\n",
      "Score obtained by this configuration: 0.2745745829460619\n",
      "Fitting configuration: \n",
      "{'dim_reduction_choice': 'NullModel', 'n_clusters___KMeans': 11, 'clustering_choice': 'KMeans'}\n",
      "Score obtained by this configuration: 0.24027030428655075\n",
      "Fitting configuration: \n",
      "{'dim_reduction_choice': 'NullModel', 'n_clusters___KMeans': 16, 'clustering_choice': 'KMeans'}\n",
      "Score obtained by this configuration: 0.24546919712109702\n",
      "Fitting configuration: \n",
      "{'dim_reduction_choice': 'NullModel', 'n_clusters___KMeans': 25, 'clustering_choice': 'KMeans', 'random_state___NullModel': 2}\n",
      "Score obtained by this configuration: inf\n"
     ]
    },
    {
     "name": "stderr",
     "output_type": "stream",
     "text": [
      "WARNING:smac.tae.execute_func.ExecuteTAFuncDict:Target Algorithm returned NaN or inf as quality. Algorithm run is treated as CRASHED, cost is set to 2147483647.0 for quality scenarios. (Change value through \"cost_for_crash\"-option.)\n"
     ]
    },
    {
     "name": "stdout",
     "output_type": "stream",
     "text": [
      "Fitting configuration: \n",
      "{'n_clusters___MiniBatchKMeans': 14, 'batch_size___MiniBatchKMeans': 266, 'dim_reduction_choice': 'NullModel', 'clustering_choice': 'MiniBatchKMeans'}\n",
      "Score obtained by this configuration: 0.24793371977436254\n",
      "Fitting configuration: \n",
      "{'n_clusters___MiniBatchKMeans': 11, 'batch_size___MiniBatchKMeans': 400, 'dim_reduction_choice': 'NullModel', 'clustering_choice': 'MiniBatchKMeans', 'random_state___NullModel': 1}\n",
      "Score obtained by this configuration: 0.24615604026259877\n",
      "Fitting configuration: \n",
      "{'n_clusters___MiniBatchKMeans': 13, 'batch_size___MiniBatchKMeans': 444, 'dim_reduction_choice': 'NullModel', 'clustering_choice': 'MiniBatchKMeans', 'random_state___NullModel': 1}\n",
      "Score obtained by this configuration: 0.24557841749965162\n",
      "Fitting configuration: \n",
      "{'dim_reduction_choice': 'NullModel', 'covariance_type___GaussianMixture': 'full', 'random_state___NullModel': 2, 'init_params___GaussianMixture': 'random', 'n_components___GaussianMixture': 15, 'clustering_choice': 'GaussianMixture'}\n",
      "Score obtained by this configuration: inf\n"
     ]
    },
    {
     "name": "stderr",
     "output_type": "stream",
     "text": [
      "WARNING:smac.tae.execute_func.ExecuteTAFuncDict:Target Algorithm returned NaN or inf as quality. Algorithm run is treated as CRASHED, cost is set to 2147483647.0 for quality scenarios. (Change value through \"cost_for_crash\"-option.)\n"
     ]
    },
    {
     "name": "stdout",
     "output_type": "stream",
     "text": [
      "Fitting configuration: \n",
      "{'n_clusters___MiniBatchKMeans': 9, 'batch_size___MiniBatchKMeans': 405, 'dim_reduction_choice': 'NullModel', 'clustering_choice': 'MiniBatchKMeans'}\n",
      "Score obtained by this configuration: 0.2457047002721547\n",
      "Fitting configuration: \n",
      "{'dim_reduction_choice': 'NullModel', 'n_clusters___KMeans': 55, 'clustering_choice': 'KMeans', 'random_state___NullModel': 2}\n",
      "Score obtained by this configuration: inf\n"
     ]
    },
    {
     "name": "stderr",
     "output_type": "stream",
     "text": [
      "WARNING:smac.tae.execute_func.ExecuteTAFuncDict:Target Algorithm returned NaN or inf as quality. Algorithm run is treated as CRASHED, cost is set to 2147483647.0 for quality scenarios. (Change value through \"cost_for_crash\"-option.)\n"
     ]
    },
    {
     "name": "stdout",
     "output_type": "stream",
     "text": [
      "Fitting configuration: \n",
      "{'n_clusters___MiniBatchKMeans': 11, 'batch_size___MiniBatchKMeans': 234, 'dim_reduction_choice': 'NullModel', 'clustering_choice': 'MiniBatchKMeans', 'random_state___NullModel': 2}\n",
      "Score obtained by this configuration: 0.23981118221751532\n",
      "Fitting configuration: \n",
      "{'warm_start___GaussianMixture': True, 'dim_reduction_choice': 'NullModel', 'n_components___GaussianMixture': 41, 'random_state___NullModel': 2, 'init_params___GaussianMixture': 'kmeans', 'covariance_type___GaussianMixture': 'tied', 'clustering_choice': 'GaussianMixture'}\n",
      "Score obtained by this configuration: inf\n"
     ]
    },
    {
     "name": "stderr",
     "output_type": "stream",
     "text": [
      "WARNING:smac.tae.execute_func.ExecuteTAFuncDict:Target Algorithm returned NaN or inf as quality. Algorithm run is treated as CRASHED, cost is set to 2147483647.0 for quality scenarios. (Change value through \"cost_for_crash\"-option.)\n"
     ]
    },
    {
     "name": "stdout",
     "output_type": "stream",
     "text": [
      "Fitting configuration: \n",
      "{'n_clusters___MiniBatchKMeans': 15, 'batch_size___MiniBatchKMeans': 380, 'dim_reduction_choice': 'NullModel', 'clustering_choice': 'MiniBatchKMeans'}\n",
      "Score obtained by this configuration: 0.25377663830944175\n",
      "Fitting configuration: \n",
      "{'n_clusters___MiniBatchKMeans': 9, 'batch_size___MiniBatchKMeans': 180, 'dim_reduction_choice': 'NullModel', 'clustering_choice': 'MiniBatchKMeans', 'random_state___NullModel': 2}\n",
      "Score obtained by this configuration: 0.24731016677589976\n",
      "Fitting configuration: \n",
      "{'n_clusters___MiniBatchKMeans': 9, 'batch_size___MiniBatchKMeans': 186, 'dim_reduction_choice': 'NullModel', 'clustering_choice': 'MiniBatchKMeans', 'random_state___NullModel': 2}\n",
      "Score obtained by this configuration: 0.24444227928020246\n",
      "Fitting configuration: \n",
      "{'dim_reduction_choice': 'NullModel', 'n_clusters___KMeans': 56, 'clustering_choice': 'KMeans', 'random_state___NullModel': 2}\n",
      "Score obtained by this configuration: inf\n"
     ]
    },
    {
     "name": "stderr",
     "output_type": "stream",
     "text": [
      "WARNING:smac.tae.execute_func.ExecuteTAFuncDict:Target Algorithm returned NaN or inf as quality. Algorithm run is treated as CRASHED, cost is set to 2147483647.0 for quality scenarios. (Change value through \"cost_for_crash\"-option.)\n"
     ]
    },
    {
     "name": "stdout",
     "output_type": "stream",
     "text": [
      "Fitting configuration: \n",
      "{'dim_reduction_choice': 'NullModel', 'covariance_type___GaussianMixture': 'tied', 'random_state___NullModel': 1, 'init_params___GaussianMixture': 'random', 'n_components___GaussianMixture': 26, 'clustering_choice': 'GaussianMixture'}\n",
      "Score obtained by this configuration: inf\n"
     ]
    },
    {
     "name": "stderr",
     "output_type": "stream",
     "text": [
      "WARNING:smac.tae.execute_func.ExecuteTAFuncDict:Target Algorithm returned NaN or inf as quality. Algorithm run is treated as CRASHED, cost is set to 2147483647.0 for quality scenarios. (Change value through \"cost_for_crash\"-option.)\n"
     ]
    },
    {
     "name": "stdout",
     "output_type": "stream",
     "text": [
      "Fitting configuration: \n",
      "{'dim_reduction_choice': 'NullModel', 'covariance_type___GaussianMixture': 'diag', 'random_state___NullModel': 2, 'init_params___GaussianMixture': 'kmeans', 'n_components___GaussianMixture': 65, 'clustering_choice': 'GaussianMixture'}\n",
      "Score obtained by this configuration: inf\n"
     ]
    },
    {
     "name": "stderr",
     "output_type": "stream",
     "text": [
      "WARNING:smac.tae.execute_func.ExecuteTAFuncDict:Target Algorithm returned NaN or inf as quality. Algorithm run is treated as CRASHED, cost is set to 2147483647.0 for quality scenarios. (Change value through \"cost_for_crash\"-option.)\n"
     ]
    },
    {
     "name": "stdout",
     "output_type": "stream",
     "text": [
      "Fitting configuration: \n",
      "{'dim_reduction_choice': 'NullModel', 'covariance_type___GaussianMixture': 'spherical', 'random_state___NullModel': 1, 'init_params___GaussianMixture': 'random', 'n_components___GaussianMixture': 15, 'clustering_choice': 'GaussianMixture'}\n",
      "Score obtained by this configuration: inf\n"
     ]
    },
    {
     "name": "stderr",
     "output_type": "stream",
     "text": [
      "WARNING:smac.tae.execute_func.ExecuteTAFuncDict:Target Algorithm returned NaN or inf as quality. Algorithm run is treated as CRASHED, cost is set to 2147483647.0 for quality scenarios. (Change value through \"cost_for_crash\"-option.)\n"
     ]
    },
    {
     "name": "stdout",
     "output_type": "stream",
     "text": [
      "Fitting configuration: \n",
      "{'dim_reduction_choice': 'NullModel', 'n_clusters___KMeans': 66, 'clustering_choice': 'KMeans', 'random_state___NullModel': 2}\n",
      "Score obtained by this configuration: inf\n"
     ]
    },
    {
     "name": "stderr",
     "output_type": "stream",
     "text": [
      "WARNING:smac.tae.execute_func.ExecuteTAFuncDict:Target Algorithm returned NaN or inf as quality. Algorithm run is treated as CRASHED, cost is set to 2147483647.0 for quality scenarios. (Change value through \"cost_for_crash\"-option.)\n"
     ]
    },
    {
     "name": "stdout",
     "output_type": "stream",
     "text": [
      "Fitting configuration: \n",
      "{'n_clusters___MiniBatchKMeans': 1, 'batch_size___MiniBatchKMeans': 380, 'dim_reduction_choice': 'NullModel', 'clustering_choice': 'MiniBatchKMeans', 'random_state___NullModel': 1}\n",
      "Score obtained by this configuration: inf\n"
     ]
    },
    {
     "name": "stderr",
     "output_type": "stream",
     "text": [
      "WARNING:smac.tae.execute_func.ExecuteTAFuncDict:Target Algorithm returned NaN or inf as quality. Algorithm run is treated as CRASHED, cost is set to 2147483647.0 for quality scenarios. (Change value through \"cost_for_crash\"-option.)\n"
     ]
    },
    {
     "name": "stdout",
     "output_type": "stream",
     "text": [
      "Fitting configuration: \n",
      "{'n_clusters___MiniBatchKMeans': 9, 'batch_size___MiniBatchKMeans': 450, 'dim_reduction_choice': 'NullModel', 'clustering_choice': 'MiniBatchKMeans', 'random_state___NullModel': 1}\n",
      "Score obtained by this configuration: 0.24404990733795354\n",
      "Fitting configuration: \n",
      "{'dim_reduction_choice': 'NullModel', 'covariance_type___GaussianMixture': 'tied', 'random_state___NullModel': 1, 'init_params___GaussianMixture': 'random', 'n_components___GaussianMixture': 65, 'clustering_choice': 'GaussianMixture'}\n",
      "Score obtained by this configuration: inf\n"
     ]
    },
    {
     "name": "stderr",
     "output_type": "stream",
     "text": [
      "WARNING:smac.tae.execute_func.ExecuteTAFuncDict:Target Algorithm returned NaN or inf as quality. Algorithm run is treated as CRASHED, cost is set to 2147483647.0 for quality scenarios. (Change value through \"cost_for_crash\"-option.)\n"
     ]
    },
    {
     "name": "stdout",
     "output_type": "stream",
     "text": [
      "Fitting configuration: \n",
      "{'dim_reduction_choice': 'NullModel', 'n_clusters___KMeans': 7, 'clustering_choice': 'KMeans'}\n",
      "Score obtained by this configuration: 0.25627891961778065\n",
      "Fitting configuration: \n",
      "{'warm_start___GaussianMixture': True, 'dim_reduction_choice': 'NullModel', 'n_components___GaussianMixture': 35, 'random_state___NullModel': 2, 'init_params___GaussianMixture': 'kmeans', 'covariance_type___GaussianMixture': 'diag', 'clustering_choice': 'GaussianMixture'}\n",
      "Score obtained by this configuration: inf\n"
     ]
    },
    {
     "name": "stderr",
     "output_type": "stream",
     "text": [
      "WARNING:smac.tae.execute_func.ExecuteTAFuncDict:Target Algorithm returned NaN or inf as quality. Algorithm run is treated as CRASHED, cost is set to 2147483647.0 for quality scenarios. (Change value through \"cost_for_crash\"-option.)\n"
     ]
    },
    {
     "name": "stdout",
     "output_type": "stream",
     "text": [
      "Fitting configuration: \n",
      "{'n_clusters___MiniBatchKMeans': 21, 'batch_size___MiniBatchKMeans': 460, 'dim_reduction_choice': 'NullModel', 'clustering_choice': 'MiniBatchKMeans', 'random_state___NullModel': 2}\n",
      "Score obtained by this configuration: 0.2660382651504439\n",
      "Fitting configuration: \n",
      "{'warm_start___GaussianMixture': True, 'dim_reduction_choice': 'NullModel', 'covariance_type___GaussianMixture': 'tied', 'init_params___GaussianMixture': 'random', 'n_components___GaussianMixture': 55, 'clustering_choice': 'GaussianMixture'}\n",
      "Score obtained by this configuration: inf\n"
     ]
    },
    {
     "name": "stderr",
     "output_type": "stream",
     "text": [
      "WARNING:smac.tae.execute_func.ExecuteTAFuncDict:Target Algorithm returned NaN or inf as quality. Algorithm run is treated as CRASHED, cost is set to 2147483647.0 for quality scenarios. (Change value through \"cost_for_crash\"-option.)\n"
     ]
    },
    {
     "name": "stdout",
     "output_type": "stream",
     "text": [
      "Fitting configuration: \n",
      "{'n_clusters___MiniBatchKMeans': 64, 'batch_size___MiniBatchKMeans': 731, 'dim_reduction_choice': 'NullModel', 'clustering_choice': 'MiniBatchKMeans', 'random_state___NullModel': 2}\n",
      "Score obtained by this configuration: inf\n"
     ]
    },
    {
     "name": "stderr",
     "output_type": "stream",
     "text": [
      "WARNING:smac.tae.execute_func.ExecuteTAFuncDict:Target Algorithm returned NaN or inf as quality. Algorithm run is treated as CRASHED, cost is set to 2147483647.0 for quality scenarios. (Change value through \"cost_for_crash\"-option.)\n"
     ]
    },
    {
     "name": "stdout",
     "output_type": "stream",
     "text": [
      "Fitting configuration: \n",
      "{'dim_reduction_choice': 'NullModel', 'init_params___GaussianMixture': 'random', 'covariance_type___GaussianMixture': 'full', 'n_components___GaussianMixture': 9, 'clustering_choice': 'GaussianMixture'}\n",
      "Score obtained by this configuration: inf\n"
     ]
    },
    {
     "name": "stderr",
     "output_type": "stream",
     "text": [
      "WARNING:smac.tae.execute_func.ExecuteTAFuncDict:Target Algorithm returned NaN or inf as quality. Algorithm run is treated as CRASHED, cost is set to 2147483647.0 for quality scenarios. (Change value through \"cost_for_crash\"-option.)\n"
     ]
    },
    {
     "name": "stdout",
     "output_type": "stream",
     "text": [
      "Fitting configuration: \n",
      "{'n_clusters___MiniBatchKMeans': 10, 'batch_size___MiniBatchKMeans': 983, 'dim_reduction_choice': 'NullModel', 'clustering_choice': 'MiniBatchKMeans', 'random_state___NullModel': 1}\n",
      "Score obtained by this configuration: 0.2482572618685238\n",
      "Fitting configuration: \n",
      "{'n_clusters___MiniBatchKMeans': 11, 'batch_size___MiniBatchKMeans': 815, 'dim_reduction_choice': 'NullModel', 'clustering_choice': 'MiniBatchKMeans', 'random_state___NullModel': 1}\n",
      "Score obtained by this configuration: 0.24294303448317256\n",
      "Fitting configuration: \n",
      "{'n_clusters___MiniBatchKMeans': 28, 'batch_size___MiniBatchKMeans': 93, 'dim_reduction_choice': 'NullModel', 'clustering_choice': 'MiniBatchKMeans'}\n",
      "Score obtained by this configuration: 0.27278326846167705\n",
      "Fitting configuration: \n",
      "{'n_clusters___MiniBatchKMeans': 66, 'batch_size___MiniBatchKMeans': 886, 'dim_reduction_choice': 'NullModel', 'clustering_choice': 'MiniBatchKMeans', 'random_state___NullModel': 2}\n",
      "Score obtained by this configuration: inf\n"
     ]
    },
    {
     "name": "stderr",
     "output_type": "stream",
     "text": [
      "WARNING:smac.tae.execute_func.ExecuteTAFuncDict:Target Algorithm returned NaN or inf as quality. Algorithm run is treated as CRASHED, cost is set to 2147483647.0 for quality scenarios. (Change value through \"cost_for_crash\"-option.)\n"
     ]
    },
    {
     "name": "stdout",
     "output_type": "stream",
     "text": [
      "Fitting configuration: \n",
      "{'dim_reduction_choice': 'NullModel', 'n_clusters___KMeans': 61, 'clustering_choice': 'KMeans', 'random_state___NullModel': 2}\n",
      "Score obtained by this configuration: inf\n"
     ]
    },
    {
     "name": "stderr",
     "output_type": "stream",
     "text": [
      "WARNING:smac.tae.execute_func.ExecuteTAFuncDict:Target Algorithm returned NaN or inf as quality. Algorithm run is treated as CRASHED, cost is set to 2147483647.0 for quality scenarios. (Change value through \"cost_for_crash\"-option.)\n"
     ]
    },
    {
     "name": "stdout",
     "output_type": "stream",
     "text": [
      "Fitting configuration: \n",
      "{'n_clusters___MiniBatchKMeans': 9, 'batch_size___MiniBatchKMeans': 874, 'dim_reduction_choice': 'NullModel', 'clustering_choice': 'MiniBatchKMeans', 'random_state___NullModel': 2}\n",
      "Score obtained by this configuration: 0.25128014827126727\n",
      "Fitting configuration: \n",
      "{'dim_reduction_choice': 'NullModel', 'n_clusters___KMeans': 19, 'clustering_choice': 'KMeans'}\n",
      "Score obtained by this configuration: 0.24641691193029072\n",
      "Fitting configuration: \n",
      "{'dim_reduction_choice': 'NullModel', 'n_clusters___KMeans': 52, 'clustering_choice': 'KMeans', 'random_state___NullModel': 1}\n",
      "Score obtained by this configuration: inf\n"
     ]
    },
    {
     "name": "stderr",
     "output_type": "stream",
     "text": [
      "WARNING:smac.tae.execute_func.ExecuteTAFuncDict:Target Algorithm returned NaN or inf as quality. Algorithm run is treated as CRASHED, cost is set to 2147483647.0 for quality scenarios. (Change value through \"cost_for_crash\"-option.)\n"
     ]
    },
    {
     "name": "stdout",
     "output_type": "stream",
     "text": [
      "Fitting configuration: \n",
      "{'dim_reduction_choice': 'NullModel', 'n_clusters___KMeans': 23, 'clustering_choice': 'KMeans'}\n",
      "Score obtained by this configuration: 0.25739436310396435\n",
      "Fitting configuration: \n",
      "{'dim_reduction_choice': 'NullModel', 'n_clusters___KMeans': 24, 'clustering_choice': 'KMeans'}\n",
      "Score obtained by this configuration: 0.2601156348082565\n",
      "Fitting configuration: \n",
      "{'dim_reduction_choice': 'NullModel', 'n_clusters___KMeans': 49, 'clustering_choice': 'KMeans', 'random_state___NullModel': 1}\n",
      "Score obtained by this configuration: inf\n"
     ]
    },
    {
     "name": "stderr",
     "output_type": "stream",
     "text": [
      "WARNING:smac.tae.execute_func.ExecuteTAFuncDict:Target Algorithm returned NaN or inf as quality. Algorithm run is treated as CRASHED, cost is set to 2147483647.0 for quality scenarios. (Change value through \"cost_for_crash\"-option.)\n"
     ]
    },
    {
     "name": "stdout",
     "output_type": "stream",
     "text": [
      "Fitting configuration: \n",
      "{'dim_reduction_choice': 'NullModel', 'n_clusters___KMeans': 12, 'clustering_choice': 'KMeans', 'random_state___NullModel': 1}\n",
      "Score obtained by this configuration: 0.2430206442726457\n",
      "Fitting configuration: \n",
      "{'n_clusters___MiniBatchKMeans': 2, 'batch_size___MiniBatchKMeans': 160, 'dim_reduction_choice': 'NullModel', 'clustering_choice': 'MiniBatchKMeans', 'random_state___NullModel': 2}\n",
      "Score obtained by this configuration: 0.30186342683548184\n",
      "Fitting configuration: \n",
      "{'dim_reduction_choice': 'NullModel', 'n_clusters___KMeans': 31, 'clustering_choice': 'KMeans'}\n",
      "Score obtained by this configuration: 0.2765465313473809\n",
      "Fitting configuration: \n",
      "{'n_clusters___MiniBatchKMeans': 78, 'batch_size___MiniBatchKMeans': 574, 'dim_reduction_choice': 'NullModel', 'clustering_choice': 'MiniBatchKMeans'}\n",
      "Score obtained by this configuration: inf\n"
     ]
    },
    {
     "name": "stderr",
     "output_type": "stream",
     "text": [
      "WARNING:smac.tae.execute_func.ExecuteTAFuncDict:Target Algorithm returned NaN or inf as quality. Algorithm run is treated as CRASHED, cost is set to 2147483647.0 for quality scenarios. (Change value through \"cost_for_crash\"-option.)\n"
     ]
    },
    {
     "name": "stdout",
     "output_type": "stream",
     "text": [
      "Fitting configuration: \n",
      "{'dim_reduction_choice': 'NullModel', 'n_clusters___KMeans': 28, 'clustering_choice': 'KMeans'}\n",
      "Score obtained by this configuration: inf\n"
     ]
    },
    {
     "name": "stderr",
     "output_type": "stream",
     "text": [
      "WARNING:smac.tae.execute_func.ExecuteTAFuncDict:Target Algorithm returned NaN or inf as quality. Algorithm run is treated as CRASHED, cost is set to 2147483647.0 for quality scenarios. (Change value through \"cost_for_crash\"-option.)\n"
     ]
    },
    {
     "name": "stdout",
     "output_type": "stream",
     "text": [
      "Fitting configuration: \n",
      "{'n_clusters___MiniBatchKMeans': 14, 'batch_size___MiniBatchKMeans': 376, 'dim_reduction_choice': 'NullModel', 'clustering_choice': 'MiniBatchKMeans', 'random_state___NullModel': 1}\n",
      "Score obtained by this configuration: 0.2485355338853967\n",
      "Fitting configuration: \n",
      "{'n_clusters___MiniBatchKMeans': 14, 'batch_size___MiniBatchKMeans': 419, 'dim_reduction_choice': 'NullModel', 'clustering_choice': 'MiniBatchKMeans'}\n",
      "Score obtained by this configuration: 0.2444946746644471\n",
      "Fitting configuration: \n",
      "{'dim_reduction_choice': 'NullModel', 'n_clusters___KMeans': 4, 'clustering_choice': 'KMeans'}\n",
      "Score obtained by this configuration: 0.32824437337180484\n",
      "Fitting configuration: \n",
      "{'warm_start___GaussianMixture': True, 'dim_reduction_choice': 'NullModel', 'n_components___GaussianMixture': 17, 'random_state___NullModel': 2, 'init_params___GaussianMixture': 'random', 'covariance_type___GaussianMixture': 'diag', 'clustering_choice': 'GaussianMixture'}\n",
      "Score obtained by this configuration: inf\n"
     ]
    },
    {
     "name": "stderr",
     "output_type": "stream",
     "text": [
      "WARNING:smac.tae.execute_func.ExecuteTAFuncDict:Target Algorithm returned NaN or inf as quality. Algorithm run is treated as CRASHED, cost is set to 2147483647.0 for quality scenarios. (Change value through \"cost_for_crash\"-option.)\n"
     ]
    },
    {
     "name": "stdout",
     "output_type": "stream",
     "text": [
      "Fitting configuration: \n",
      "{'dim_reduction_choice': 'NullModel', 'n_clusters___KMeans': 14, 'clustering_choice': 'KMeans', 'random_state___NullModel': 2}\n",
      "Score obtained by this configuration: 0.24357216166072404\n",
      "Fitting configuration: \n",
      "{'dim_reduction_choice': 'NullModel', 'n_clusters___KMeans': 41, 'clustering_choice': 'KMeans', 'random_state___NullModel': 1}\n",
      "Score obtained by this configuration: inf\n"
     ]
    },
    {
     "name": "stderr",
     "output_type": "stream",
     "text": [
      "WARNING:smac.tae.execute_func.ExecuteTAFuncDict:Target Algorithm returned NaN or inf as quality. Algorithm run is treated as CRASHED, cost is set to 2147483647.0 for quality scenarios. (Change value through \"cost_for_crash\"-option.)\n"
     ]
    },
    {
     "name": "stdout",
     "output_type": "stream",
     "text": [
      "Fitting configuration: \n",
      "{'warm_start___GaussianMixture': True, 'dim_reduction_choice': 'NullModel', 'n_components___GaussianMixture': 22, 'random_state___NullModel': 1, 'init_params___GaussianMixture': 'kmeans', 'covariance_type___GaussianMixture': 'full', 'clustering_choice': 'GaussianMixture'}\n",
      "Score obtained by this configuration: 0.3373898964685211\n",
      "Fitting configuration: \n",
      "{'dim_reduction_choice': 'NullModel', 'covariance_type___GaussianMixture': 'spherical', 'random_state___NullModel': 2, 'init_params___GaussianMixture': 'random', 'n_components___GaussianMixture': 44, 'clustering_choice': 'GaussianMixture'}\n",
      "Score obtained by this configuration: inf\n"
     ]
    },
    {
     "name": "stderr",
     "output_type": "stream",
     "text": [
      "WARNING:smac.tae.execute_func.ExecuteTAFuncDict:Target Algorithm returned NaN or inf as quality. Algorithm run is treated as CRASHED, cost is set to 2147483647.0 for quality scenarios. (Change value through \"cost_for_crash\"-option.)\n"
     ]
    },
    {
     "name": "stdout",
     "output_type": "stream",
     "text": [
      "Fitting configuration: \n",
      "{'dim_reduction_choice': 'NullModel', 'n_clusters___KMeans': 23, 'clustering_choice': 'KMeans', 'random_state___NullModel': 1}\n",
      "Score obtained by this configuration: 0.2636858080331534\n",
      "Fitting configuration: \n",
      "{'dim_reduction_choice': 'NullModel', 'n_clusters___KMeans': 7, 'clustering_choice': 'KMeans', 'random_state___NullModel': 1}\n",
      "Score obtained by this configuration: 0.25569794214482494\n",
      "Fitting configuration: \n",
      "{'dim_reduction_choice': 'NullModel', 'n_clusters___KMeans': 38, 'clustering_choice': 'KMeans', 'random_state___NullModel': 2}\n",
      "Score obtained by this configuration: inf\n"
     ]
    },
    {
     "name": "stderr",
     "output_type": "stream",
     "text": [
      "WARNING:smac.tae.execute_func.ExecuteTAFuncDict:Target Algorithm returned NaN or inf as quality. Algorithm run is treated as CRASHED, cost is set to 2147483647.0 for quality scenarios. (Change value through \"cost_for_crash\"-option.)\n"
     ]
    },
    {
     "name": "stdout",
     "output_type": "stream",
     "text": [
      "Fitting configuration: \n",
      "{'n_clusters___MiniBatchKMeans': 11, 'batch_size___MiniBatchKMeans': 177, 'dim_reduction_choice': 'NullModel', 'clustering_choice': 'MiniBatchKMeans', 'random_state___NullModel': 2}\n",
      "Score obtained by this configuration: 0.24575934830343327\n",
      "Fitting configuration: \n",
      "{'dim_reduction_choice': 'NullModel', 'n_clusters___KMeans': 15, 'clustering_choice': 'KMeans'}\n",
      "Score obtained by this configuration: 0.24511547043442872\n",
      "Fitting configuration: \n",
      "{'warm_start___GaussianMixture': True, 'dim_reduction_choice': 'NullModel', 'covariance_type___GaussianMixture': 'spherical', 'init_params___GaussianMixture': 'random', 'n_components___GaussianMixture': 4, 'clustering_choice': 'GaussianMixture'}\n",
      "Score obtained by this configuration: 0.39138010730028955\n",
      "Fitting configuration: \n",
      "{'n_clusters___MiniBatchKMeans': 10, 'batch_size___MiniBatchKMeans': 818, 'dim_reduction_choice': 'NullModel', 'clustering_choice': 'MiniBatchKMeans'}\n",
      "Score obtained by this configuration: 0.24530726041674977\n",
      "Fitting configuration: \n",
      "{'n_clusters___MiniBatchKMeans': 10, 'batch_size___MiniBatchKMeans': 853, 'dim_reduction_choice': 'NullModel', 'clustering_choice': 'MiniBatchKMeans'}\n",
      "Score obtained by this configuration: 0.24688428946188914\n",
      "Fitting configuration: \n",
      "{'n_clusters___MiniBatchKMeans': 13, 'batch_size___MiniBatchKMeans': 331, 'dim_reduction_choice': 'NullModel', 'clustering_choice': 'MiniBatchKMeans', 'random_state___NullModel': 2}\n",
      "Score obtained by this configuration: 0.24634665815543896\n",
      "Fitting configuration: \n",
      "{'n_clusters___MiniBatchKMeans': 15, 'batch_size___MiniBatchKMeans': 728, 'dim_reduction_choice': 'NullModel', 'clustering_choice': 'MiniBatchKMeans'}\n",
      "Score obtained by this configuration: 0.24833026882130363\n",
      "Fitting configuration: \n",
      "{'dim_reduction_choice': 'NullModel', 'n_clusters___KMeans': 19, 'clustering_choice': 'KMeans', 'random_state___NullModel': 1}\n",
      "Score obtained by this configuration: 0.25136854536535674\n",
      "Fitting configuration: \n",
      "{'n_clusters___MiniBatchKMeans': 55, 'batch_size___MiniBatchKMeans': 682, 'dim_reduction_choice': 'NullModel', 'clustering_choice': 'MiniBatchKMeans', 'random_state___NullModel': 2}\n",
      "Score obtained by this configuration: inf\n"
     ]
    },
    {
     "name": "stderr",
     "output_type": "stream",
     "text": [
      "WARNING:smac.tae.execute_func.ExecuteTAFuncDict:Target Algorithm returned NaN or inf as quality. Algorithm run is treated as CRASHED, cost is set to 2147483647.0 for quality scenarios. (Change value through \"cost_for_crash\"-option.)\n"
     ]
    },
    {
     "name": "stdout",
     "output_type": "stream",
     "text": [
      "Fitting configuration: \n",
      "{'warm_start___GaussianMixture': True, 'dim_reduction_choice': 'NullModel', 'n_components___GaussianMixture': 38, 'random_state___NullModel': 2, 'init_params___GaussianMixture': 'random', 'covariance_type___GaussianMixture': 'diag', 'clustering_choice': 'GaussianMixture'}\n",
      "Score obtained by this configuration: inf\n"
     ]
    },
    {
     "name": "stderr",
     "output_type": "stream",
     "text": [
      "WARNING:smac.tae.execute_func.ExecuteTAFuncDict:Target Algorithm returned NaN or inf as quality. Algorithm run is treated as CRASHED, cost is set to 2147483647.0 for quality scenarios. (Change value through \"cost_for_crash\"-option.)\n"
     ]
    },
    {
     "name": "stdout",
     "output_type": "stream",
     "text": [
      "Fitting configuration: \n",
      "{'dim_reduction_choice': 'NullModel', 'covariance_type___GaussianMixture': 'tied', 'random_state___NullModel': 2, 'init_params___GaussianMixture': 'random', 'n_components___GaussianMixture': 56, 'clustering_choice': 'GaussianMixture'}\n",
      "Score obtained by this configuration: inf\n"
     ]
    },
    {
     "name": "stderr",
     "output_type": "stream",
     "text": [
      "WARNING:smac.tae.execute_func.ExecuteTAFuncDict:Target Algorithm returned NaN or inf as quality. Algorithm run is treated as CRASHED, cost is set to 2147483647.0 for quality scenarios. (Change value through \"cost_for_crash\"-option.)\n"
     ]
    },
    {
     "name": "stdout",
     "output_type": "stream",
     "text": [
      "Fitting configuration: \n",
      "{'n_clusters___MiniBatchKMeans': 18, 'batch_size___MiniBatchKMeans': 513, 'dim_reduction_choice': 'NullModel', 'clustering_choice': 'MiniBatchKMeans'}\n",
      "Score obtained by this configuration: 0.2553922801424551\n",
      "Fitting configuration: \n",
      "{'n_clusters___MiniBatchKMeans': 18, 'batch_size___MiniBatchKMeans': 427, 'dim_reduction_choice': 'NullModel', 'clustering_choice': 'MiniBatchKMeans'}\n",
      "Score obtained by this configuration: 0.25671967584314453\n",
      "Fitting configuration: \n",
      "{'n_clusters___MiniBatchKMeans': 10, 'batch_size___MiniBatchKMeans': 417, 'dim_reduction_choice': 'NullModel', 'clustering_choice': 'MiniBatchKMeans', 'random_state___NullModel': 2}\n",
      "Score obtained by this configuration: 0.24835821143737993\n",
      "Fitting configuration: \n",
      "{'n_clusters___MiniBatchKMeans': 10, 'batch_size___MiniBatchKMeans': 408, 'dim_reduction_choice': 'NullModel', 'clustering_choice': 'MiniBatchKMeans', 'random_state___NullModel': 2}\n",
      "Score obtained by this configuration: 0.2447717264228376\n",
      "Fitting configuration: \n",
      "{'dim_reduction_choice': 'NullModel', 'covariance_type___GaussianMixture': 'spherical', 'random_state___NullModel': 1, 'init_params___GaussianMixture': 'kmeans', 'n_components___GaussianMixture': 23, 'clustering_choice': 'GaussianMixture'}\n",
      "Score obtained by this configuration: 0.25770498505104106\n",
      "Fitting configuration: \n",
      "{'n_clusters___MiniBatchKMeans': 19, 'batch_size___MiniBatchKMeans': 415, 'dim_reduction_choice': 'NullModel', 'clustering_choice': 'MiniBatchKMeans', 'random_state___NullModel': 2}\n",
      "Score obtained by this configuration: 0.25527021446501647\n",
      "Fitting configuration: \n",
      "{'dim_reduction_choice': 'NullModel', 'n_clusters___KMeans': 31, 'clustering_choice': 'KMeans', 'random_state___NullModel': 1}\n",
      "Score obtained by this configuration: 0.2772506590093053\n",
      "Fitting configuration: \n",
      "{'dim_reduction_choice': 'NullModel', 'n_clusters___KMeans': 30, 'clustering_choice': 'KMeans', 'random_state___NullModel': 1}\n",
      "Score obtained by this configuration: 0.2740474581989967\n",
      "Fitting configuration: \n",
      "{'n_clusters___MiniBatchKMeans': 12, 'batch_size___MiniBatchKMeans': 123, 'dim_reduction_choice': 'NullModel', 'clustering_choice': 'MiniBatchKMeans', 'random_state___NullModel': 1}\n",
      "Score obtained by this configuration: 0.24375079751837495\n",
      "Fitting configuration: \n",
      "{'n_clusters___MiniBatchKMeans': 46, 'batch_size___MiniBatchKMeans': 899, 'dim_reduction_choice': 'NullModel', 'clustering_choice': 'MiniBatchKMeans', 'random_state___NullModel': 2}\n",
      "Score obtained by this configuration: inf\n"
     ]
    },
    {
     "name": "stderr",
     "output_type": "stream",
     "text": [
      "WARNING:smac.tae.execute_func.ExecuteTAFuncDict:Target Algorithm returned NaN or inf as quality. Algorithm run is treated as CRASHED, cost is set to 2147483647.0 for quality scenarios. (Change value through \"cost_for_crash\"-option.)\n"
     ]
    },
    {
     "name": "stdout",
     "output_type": "stream",
     "text": [
      "Fitting configuration: \n",
      "{'n_clusters___MiniBatchKMeans': 11, 'batch_size___MiniBatchKMeans': 116, 'dim_reduction_choice': 'NullModel', 'clustering_choice': 'MiniBatchKMeans', 'random_state___NullModel': 2}\n",
      "Score obtained by this configuration: 0.24467994166332985\n",
      "Fitting configuration: \n",
      "{'n_clusters___MiniBatchKMeans': 11, 'batch_size___MiniBatchKMeans': 111, 'dim_reduction_choice': 'NullModel', 'clustering_choice': 'MiniBatchKMeans', 'random_state___NullModel': 2}\n",
      "Score obtained by this configuration: 0.24546614118646615\n",
      "Fitting configuration: \n",
      "{'n_clusters___MiniBatchKMeans': 20, 'batch_size___MiniBatchKMeans': 873, 'dim_reduction_choice': 'NullModel', 'clustering_choice': 'MiniBatchKMeans', 'random_state___NullModel': 2}\n",
      "Score obtained by this configuration: 0.2576530825789358\n",
      "Fitting configuration: \n",
      "{'warm_start___GaussianMixture': True, 'dim_reduction_choice': 'NullModel', 'n_components___GaussianMixture': 13, 'random_state___NullModel': 1, 'init_params___GaussianMixture': 'random', 'covariance_type___GaussianMixture': 'tied', 'clustering_choice': 'GaussianMixture'}\n",
      "Score obtained by this configuration: 0.36870013377851657\n",
      "Fitting configuration: \n",
      "{'dim_reduction_choice': 'NullModel', 'init_params___GaussianMixture': 'kmeans', 'covariance_type___GaussianMixture': 'tied', 'n_components___GaussianMixture': 66, 'clustering_choice': 'GaussianMixture'}\n",
      "Score obtained by this configuration: inf\n"
     ]
    },
    {
     "name": "stderr",
     "output_type": "stream",
     "text": [
      "WARNING:smac.tae.execute_func.ExecuteTAFuncDict:Target Algorithm returned NaN or inf as quality. Algorithm run is treated as CRASHED, cost is set to 2147483647.0 for quality scenarios. (Change value through \"cost_for_crash\"-option.)\n"
     ]
    },
    {
     "name": "stdout",
     "output_type": "stream",
     "text": [
      "Fitting configuration: \n",
      "{'dim_reduction_choice': 'NullModel', 'n_clusters___KMeans': 35, 'clustering_choice': 'KMeans'}\n",
      "Score obtained by this configuration: inf\n"
     ]
    },
    {
     "name": "stderr",
     "output_type": "stream",
     "text": [
      "WARNING:smac.tae.execute_func.ExecuteTAFuncDict:Target Algorithm returned NaN or inf as quality. Algorithm run is treated as CRASHED, cost is set to 2147483647.0 for quality scenarios. (Change value through \"cost_for_crash\"-option.)\n"
     ]
    },
    {
     "name": "stdout",
     "output_type": "stream",
     "text": [
      "Fitting configuration: \n",
      "{'n_clusters___MiniBatchKMeans': 13, 'batch_size___MiniBatchKMeans': 767, 'dim_reduction_choice': 'NullModel', 'clustering_choice': 'MiniBatchKMeans', 'random_state___NullModel': 2}\n",
      "Score obtained by this configuration: 0.2472896733684589\n",
      "Fitting configuration: \n",
      "{'dim_reduction_choice': 'NullModel', 'n_clusters___KMeans': 54, 'clustering_choice': 'KMeans', 'random_state___NullModel': 2}\n",
      "Score obtained by this configuration: inf\n"
     ]
    },
    {
     "name": "stderr",
     "output_type": "stream",
     "text": [
      "WARNING:smac.tae.execute_func.ExecuteTAFuncDict:Target Algorithm returned NaN or inf as quality. Algorithm run is treated as CRASHED, cost is set to 2147483647.0 for quality scenarios. (Change value through \"cost_for_crash\"-option.)\n"
     ]
    },
    {
     "name": "stdout",
     "output_type": "stream",
     "text": [
      "Fitting configuration: \n",
      "{'n_clusters___MiniBatchKMeans': 80, 'batch_size___MiniBatchKMeans': 544, 'dim_reduction_choice': 'NullModel', 'clustering_choice': 'MiniBatchKMeans'}\n",
      "Score obtained by this configuration: inf\n"
     ]
    },
    {
     "name": "stderr",
     "output_type": "stream",
     "text": [
      "WARNING:smac.tae.execute_func.ExecuteTAFuncDict:Target Algorithm returned NaN or inf as quality. Algorithm run is treated as CRASHED, cost is set to 2147483647.0 for quality scenarios. (Change value through \"cost_for_crash\"-option.)\n"
     ]
    },
    {
     "name": "stdout",
     "output_type": "stream",
     "text": [
      "Fitting configuration: \n",
      "{'n_clusters___MiniBatchKMeans': 70, 'batch_size___MiniBatchKMeans': 355, 'dim_reduction_choice': 'NullModel', 'clustering_choice': 'MiniBatchKMeans'}\n",
      "Score obtained by this configuration: inf\n"
     ]
    },
    {
     "name": "stderr",
     "output_type": "stream",
     "text": [
      "WARNING:smac.tae.execute_func.ExecuteTAFuncDict:Target Algorithm returned NaN or inf as quality. Algorithm run is treated as CRASHED, cost is set to 2147483647.0 for quality scenarios. (Change value through \"cost_for_crash\"-option.)\n"
     ]
    },
    {
     "name": "stdout",
     "output_type": "stream",
     "text": [
      "Fitting configuration: \n",
      "{'warm_start___GaussianMixture': True, 'dim_reduction_choice': 'NullModel', 'n_components___GaussianMixture': 24, 'random_state___NullModel': 1, 'init_params___GaussianMixture': 'kmeans', 'covariance_type___GaussianMixture': 'full', 'clustering_choice': 'GaussianMixture'}\n",
      "Score obtained by this configuration: inf\n"
     ]
    },
    {
     "name": "stderr",
     "output_type": "stream",
     "text": [
      "WARNING:smac.tae.execute_func.ExecuteTAFuncDict:Target Algorithm returned NaN or inf as quality. Algorithm run is treated as CRASHED, cost is set to 2147483647.0 for quality scenarios. (Change value through \"cost_for_crash\"-option.)\n"
     ]
    },
    {
     "name": "stdout",
     "output_type": "stream",
     "text": [
      "Fitting configuration: \n",
      "{'warm_start___GaussianMixture': True, 'dim_reduction_choice': 'NullModel', 'n_components___GaussianMixture': 25, 'random_state___NullModel': 1, 'init_params___GaussianMixture': 'kmeans', 'covariance_type___GaussianMixture': 'full', 'clustering_choice': 'GaussianMixture'}\n",
      "Score obtained by this configuration: 0.355541044171694\n",
      "Fitting configuration: \n",
      "{'n_clusters___MiniBatchKMeans': 67, 'batch_size___MiniBatchKMeans': 334, 'dim_reduction_choice': 'NullModel', 'clustering_choice': 'MiniBatchKMeans', 'random_state___NullModel': 1}\n",
      "Score obtained by this configuration: inf\n"
     ]
    },
    {
     "name": "stderr",
     "output_type": "stream",
     "text": [
      "WARNING:smac.tae.execute_func.ExecuteTAFuncDict:Target Algorithm returned NaN or inf as quality. Algorithm run is treated as CRASHED, cost is set to 2147483647.0 for quality scenarios. (Change value through \"cost_for_crash\"-option.)\n"
     ]
    },
    {
     "name": "stdout",
     "output_type": "stream",
     "text": [
      "Fitting configuration: \n",
      "{'warm_start___GaussianMixture': True, 'dim_reduction_choice': 'NullModel', 'n_components___GaussianMixture': 78, 'random_state___NullModel': 1, 'init_params___GaussianMixture': 'kmeans', 'covariance_type___GaussianMixture': 'spherical', 'clustering_choice': 'GaussianMixture'}\n",
      "Score obtained by this configuration: inf\n"
     ]
    },
    {
     "name": "stderr",
     "output_type": "stream",
     "text": [
      "WARNING:smac.tae.execute_func.ExecuteTAFuncDict:Target Algorithm returned NaN or inf as quality. Algorithm run is treated as CRASHED, cost is set to 2147483647.0 for quality scenarios. (Change value through \"cost_for_crash\"-option.)\n"
     ]
    },
    {
     "name": "stdout",
     "output_type": "stream",
     "text": [
      "Fitting configuration: \n",
      "{'dim_reduction_choice': 'NullModel', 'covariance_type___GaussianMixture': 'full', 'random_state___NullModel': 1, 'init_params___GaussianMixture': 'kmeans', 'n_components___GaussianMixture': 35, 'clustering_choice': 'GaussianMixture'}\n",
      "Score obtained by this configuration: inf\n"
     ]
    },
    {
     "name": "stderr",
     "output_type": "stream",
     "text": [
      "WARNING:smac.tae.execute_func.ExecuteTAFuncDict:Target Algorithm returned NaN or inf as quality. Algorithm run is treated as CRASHED, cost is set to 2147483647.0 for quality scenarios. (Change value through \"cost_for_crash\"-option.)\n"
     ]
    },
    {
     "name": "stdout",
     "output_type": "stream",
     "text": [
      "Optimization is complete.\n",
      "Took 123.2 seconds.\n",
      "The optimal configuration is \n",
      "Configuration:\n",
      "  batch_size___MiniBatchKMeans, Value: 234\n",
      "  clustering_choice, Value: 'MiniBatchKMeans'\n",
      "  dim_reduction_choice, Value: 'NullModel'\n",
      "  n_clusters___MiniBatchKMeans, Value: 11\n",
      "  random_state___NullModel, Value: 2\n",
      "\n"
     ]
    }
   ],
   "source": [
    "cluster = AutoCluster()\n",
    "fit_params = {\n",
    "    \"df\": dummy_df, \n",
    "    \"cluster_alg_ls\": [\n",
    "        'KMeans', 'GaussianMixture', 'MiniBatchKMeans'\n",
    "    ], \n",
    "    \"dim_reduction_alg_ls\": [\n",
    "        'NullModel'\n",
    "    ],\n",
    "    \"optimizer\": 'smac',\n",
    "    \"n_evaluations\": 150,\n",
    "    \"run_obj\": 'quality',\n",
    "    \"seed\": 27,\n",
    "    \"cutoff_time\": 10,\n",
    "    \"preprocess_dict\": {\n",
    "        \"numeric_cols\": list(range(2)),\n",
    "        \"categorical_cols\": [],\n",
    "        \"ordinal_cols\": [],\n",
    "        \"y_col\": []\n",
    "    },\n",
    "    \"evaluator\": get_evaluator(evaluator_ls = ['silhouetteScore', \n",
    "                                               'daviesBouldinScore', \n",
    "                                               'calinskiHarabaszScore'], \n",
    "                               weights = [1, 1, 1], \n",
    "                               clustering_num = None, \n",
    "                               min_proportion = .01, \n",
    "                               min_relative_proportion='default'),\n",
    "    \"n_folds\": 3,\n",
    "    \"warmstart\": False,\n",
    "    \"verbose_level\": 1,\n",
    "}\n",
    "result_dict = cluster.fit(**fit_params)"
   ]
  },
  {
   "cell_type": "code",
   "execution_count": 11,
   "metadata": {},
   "outputs": [
    {
     "data": {
      "image/png": "[encoded data removed]",
      "text/plain": [
       "<Figure size 720x720 with 1 Axes>"
      ]
     },
     "metadata": {
      "needs_background": "dark"
     },
     "output_type": "display_data"
    }
   ],
   "source": [
    "predictions = cluster.predict(dummy_df)"
   ]
  },
  {
   "cell_type": "code",
   "execution_count": null,
   "metadata": {},
   "outputs": [],
   "source": []
  }
 ],
 "metadata": {
  "kernelspec": {
   "display_name": "Python [conda env:automl]",
   "language": "python",
   "name": "conda-env-automl-py"
  },
  "language_info": {
   "codemirror_mode": {
    "name": "ipython",
    "version": 3
   },
   "file_extension": ".py",
   "mimetype": "text/x-python",
   "name": "python",
   "nbconvert_exporter": "python",
   "pygments_lexer": "ipython3",
   "version": "3.5.6"
  }
 },
 "nbformat": 4,
 "nbformat_minor": 4
}
