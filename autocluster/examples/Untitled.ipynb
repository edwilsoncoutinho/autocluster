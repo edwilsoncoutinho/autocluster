{
 "cells": [
  {
   "cell_type": "markdown",
   "metadata": {},
   "source": [
    "### Research Question 1: Does TSNE help us improve the \"quality\" of our clustering?\n",
    "\n",
    "Quality is defined as the clustering seeming continuous to human observers\n",
    "Due the difficulty of visualizing continuity in high dimensions, we may use the clustering's v measure score for categorical datasets which have sufficient \"seperation\", i.e. the classifications are not ordinal "
   ]
  },
  {
   "cell_type": "markdown",
   "metadata": {},
   "source": [
    "### Experiment 1:\n",
    "\n",
    "Research Question:\n",
    "Does TSNE help us to cluster well seperated data better?\n",
    "\n",
    "The hand gestures dataset contains data for hand gestures are categorical, and the hand gestures are sufficiently distinct. It is well suited for testing via v_measure\n",
    "\n",
    "- Run the algorithm, with TSNE, for 200 iterations, on the dataset\n",
    "- check the v measure score\n",
    "- Run the algorithm without TSNE, for 200 iterations, on the dataset\n",
    "- check the v measure score\n",
    "- Make note of the time taken, may be useful in the future when evaluating whether increased timecost is worthwhile\n",
    "\n",
    "if the TSNE improves v measure score, then TSNE contributes to improved clustering\n",
    "if it has no effect, it is unnecessary cost\n",
    "if it makes it worse, the heuristic we are giving the algorithm results in dimension reduction that warp the clusters\n",
    "\n",
    "due to many of these processes being random, we may need to run multiple times\n",
    "\n",
    "Repeat if needed for other dimension reduction algorithms"
   ]
  },
  {
   "cell_type": "markdown",
   "metadata": {},
   "source": [
    "### Experiment 2:\n",
    "\n",
    "Research Question:\n",
    "Does TSNE help us handle non-convex, clustering better?\n",
    "\n",
    "The noisy moons is an excellent toy dataset for testing the algorithms performance agaisnt non-convex data\n",
    "\n",
    "- For the output of noisy moons, classify and label each moon. These will be the ground truth for v_measure eval\n",
    "- Run the algorithm, with TSNE, for 200 iterations, on the dataset\n",
    "- check the v measure score\n",
    "- Run the algorithm without TSNE, for 200 iterations, on the dataset\n",
    "- check the v measure score\n",
    "- Make note of the time taken, may be useful in the future when evaluating whether increased timecost is worthwhile\n",
    "\n",
    "if the TSNE improves v measure score, then TSNE contributes to improved clustering\n",
    "if it has no effect, it is unnecessary cost\n",
    "if it makes it worse, the heuristic we are giving the algorithm causes the dimension reduction that warp the clusters\n",
    "\n",
    "due to many of these processes being random, we may need to run multiple times\n",
    "\n",
    "We may repeat this for evaluation heuristics that value continuity, as suggested by prof. ottos"
   ]
  },
  {
   "cell_type": "code",
   "execution_count": null,
   "metadata": {},
   "outputs": [],
   "source": [
    "import os\n",
    "\n",
    "# change working directory, run this cell once\n",
    "os.chdir(\"../\")"
   ]
  },
  {
   "cell_type": "code",
   "execution_count": null,
   "metadata": {},
   "outputs": [],
   "source": []
  }
 ],
 "metadata": {
  "kernelspec": {
   "display_name": "Python [conda env:automl]",
   "language": "python",
   "name": "conda-env-automl-py"
  },
  "language_info": {
   "name": ""
  }
 },
 "nbformat": 4,
 "nbformat_minor": 4
}
