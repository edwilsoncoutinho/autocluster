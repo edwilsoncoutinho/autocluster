{
 "cells": [
  {
   "cell_type": "code",
   "execution_count": 1,
   "metadata": {},
   "outputs": [],
   "source": [
    "import os\n",
    "\n",
    "# change working directory, run this cell once\n",
    "os.chdir(\"../\")\n",
    "\n",
    "# supress warnings\n",
    "import warnings\n",
    "warnings.filterwarnings(\"ignore\")"
   ]
  },
  {
   "cell_type": "markdown",
   "metadata": {},
   "source": [
    "This notebook will demonstrate how to use Bayesian Optimization + Warmstarting to fit handwritten digits dataset.\n",
    "\n",
    "### Import packages"
   ]
  },
  {
   "cell_type": "code",
   "execution_count": 2,
   "metadata": {},
   "outputs": [],
   "source": [
    "from autocluster import AutoCluster\n",
    "from evaluators import get_evaluator\n",
    "from sklearn import datasets\n",
    "from collections import Counter\n",
    "from utils.metafeatures import MetafeatureMapper\n",
    "from sklearn.metrics.cluster import v_measure_score\n",
    "import pandas as pd\n",
    "\n",
    "%load_ext autoreload\n",
    "%autoreload 2"
   ]
  },
  {
   "cell_type": "code",
   "execution_count": 3,
   "metadata": {},
   "outputs": [
    {
     "data": {
      "text/html": [
       "<div>\n",
       "<style scoped>\n",
       "    .dataframe tbody tr th:only-of-type {\n",
       "        vertical-align: middle;\n",
       "    }\n",
       "\n",
       "    .dataframe tbody tr th {\n",
       "        vertical-align: top;\n",
       "    }\n",
       "\n",
       "    .dataframe thead th {\n",
       "        text-align: right;\n",
       "    }\n",
       "</style>\n",
       "<table border=\"1\" class=\"dataframe\">\n",
       "  <thead>\n",
       "    <tr style=\"text-align: right;\">\n",
       "      <th></th>\n",
       "      <th>0</th>\n",
       "      <th>1</th>\n",
       "      <th>2</th>\n",
       "      <th>3</th>\n",
       "      <th>4</th>\n",
       "      <th>5</th>\n",
       "      <th>6</th>\n",
       "      <th>7</th>\n",
       "      <th>8</th>\n",
       "      <th>9</th>\n",
       "      <th>...</th>\n",
       "      <th>54</th>\n",
       "      <th>55</th>\n",
       "      <th>56</th>\n",
       "      <th>57</th>\n",
       "      <th>58</th>\n",
       "      <th>59</th>\n",
       "      <th>60</th>\n",
       "      <th>61</th>\n",
       "      <th>62</th>\n",
       "      <th>63</th>\n",
       "    </tr>\n",
       "  </thead>\n",
       "  <tbody>\n",
       "    <tr>\n",
       "      <th>0</th>\n",
       "      <td>0.0</td>\n",
       "      <td>0.0</td>\n",
       "      <td>5.0</td>\n",
       "      <td>13.0</td>\n",
       "      <td>9.0</td>\n",
       "      <td>1.0</td>\n",
       "      <td>0.0</td>\n",
       "      <td>0.0</td>\n",
       "      <td>0.0</td>\n",
       "      <td>0.0</td>\n",
       "      <td>...</td>\n",
       "      <td>0.0</td>\n",
       "      <td>0.0</td>\n",
       "      <td>0.0</td>\n",
       "      <td>0.0</td>\n",
       "      <td>6.0</td>\n",
       "      <td>13.0</td>\n",
       "      <td>10.0</td>\n",
       "      <td>0.0</td>\n",
       "      <td>0.0</td>\n",
       "      <td>0.0</td>\n",
       "    </tr>\n",
       "    <tr>\n",
       "      <th>1</th>\n",
       "      <td>0.0</td>\n",
       "      <td>0.0</td>\n",
       "      <td>0.0</td>\n",
       "      <td>12.0</td>\n",
       "      <td>13.0</td>\n",
       "      <td>5.0</td>\n",
       "      <td>0.0</td>\n",
       "      <td>0.0</td>\n",
       "      <td>0.0</td>\n",
       "      <td>0.0</td>\n",
       "      <td>...</td>\n",
       "      <td>0.0</td>\n",
       "      <td>0.0</td>\n",
       "      <td>0.0</td>\n",
       "      <td>0.0</td>\n",
       "      <td>0.0</td>\n",
       "      <td>11.0</td>\n",
       "      <td>16.0</td>\n",
       "      <td>10.0</td>\n",
       "      <td>0.0</td>\n",
       "      <td>0.0</td>\n",
       "    </tr>\n",
       "    <tr>\n",
       "      <th>2</th>\n",
       "      <td>0.0</td>\n",
       "      <td>0.0</td>\n",
       "      <td>0.0</td>\n",
       "      <td>4.0</td>\n",
       "      <td>15.0</td>\n",
       "      <td>12.0</td>\n",
       "      <td>0.0</td>\n",
       "      <td>0.0</td>\n",
       "      <td>0.0</td>\n",
       "      <td>0.0</td>\n",
       "      <td>...</td>\n",
       "      <td>5.0</td>\n",
       "      <td>0.0</td>\n",
       "      <td>0.0</td>\n",
       "      <td>0.0</td>\n",
       "      <td>0.0</td>\n",
       "      <td>3.0</td>\n",
       "      <td>11.0</td>\n",
       "      <td>16.0</td>\n",
       "      <td>9.0</td>\n",
       "      <td>0.0</td>\n",
       "    </tr>\n",
       "    <tr>\n",
       "      <th>3</th>\n",
       "      <td>0.0</td>\n",
       "      <td>0.0</td>\n",
       "      <td>7.0</td>\n",
       "      <td>15.0</td>\n",
       "      <td>13.0</td>\n",
       "      <td>1.0</td>\n",
       "      <td>0.0</td>\n",
       "      <td>0.0</td>\n",
       "      <td>0.0</td>\n",
       "      <td>8.0</td>\n",
       "      <td>...</td>\n",
       "      <td>9.0</td>\n",
       "      <td>0.0</td>\n",
       "      <td>0.0</td>\n",
       "      <td>0.0</td>\n",
       "      <td>7.0</td>\n",
       "      <td>13.0</td>\n",
       "      <td>13.0</td>\n",
       "      <td>9.0</td>\n",
       "      <td>0.0</td>\n",
       "      <td>0.0</td>\n",
       "    </tr>\n",
       "    <tr>\n",
       "      <th>4</th>\n",
       "      <td>0.0</td>\n",
       "      <td>0.0</td>\n",
       "      <td>0.0</td>\n",
       "      <td>1.0</td>\n",
       "      <td>11.0</td>\n",
       "      <td>0.0</td>\n",
       "      <td>0.0</td>\n",
       "      <td>0.0</td>\n",
       "      <td>0.0</td>\n",
       "      <td>0.0</td>\n",
       "      <td>...</td>\n",
       "      <td>0.0</td>\n",
       "      <td>0.0</td>\n",
       "      <td>0.0</td>\n",
       "      <td>0.0</td>\n",
       "      <td>0.0</td>\n",
       "      <td>2.0</td>\n",
       "      <td>16.0</td>\n",
       "      <td>4.0</td>\n",
       "      <td>0.0</td>\n",
       "      <td>0.0</td>\n",
       "    </tr>\n",
       "  </tbody>\n",
       "</table>\n",
       "<p>5 rows × 64 columns</p>\n",
       "</div>"
      ],
      "text/plain": [
       "    0    1    2     3     4     5    6    7    8    9   ...   54   55   56  \\\n",
       "0  0.0  0.0  5.0  13.0   9.0   1.0  0.0  0.0  0.0  0.0  ...  0.0  0.0  0.0   \n",
       "1  0.0  0.0  0.0  12.0  13.0   5.0  0.0  0.0  0.0  0.0  ...  0.0  0.0  0.0   \n",
       "2  0.0  0.0  0.0   4.0  15.0  12.0  0.0  0.0  0.0  0.0  ...  5.0  0.0  0.0   \n",
       "3  0.0  0.0  7.0  15.0  13.0   1.0  0.0  0.0  0.0  8.0  ...  9.0  0.0  0.0   \n",
       "4  0.0  0.0  0.0   1.0  11.0   0.0  0.0  0.0  0.0  0.0  ...  0.0  0.0  0.0   \n",
       "\n",
       "    57   58    59    60    61   62   63  \n",
       "0  0.0  6.0  13.0  10.0   0.0  0.0  0.0  \n",
       "1  0.0  0.0  11.0  16.0  10.0  0.0  0.0  \n",
       "2  0.0  0.0   3.0  11.0  16.0  9.0  0.0  \n",
       "3  0.0  7.0  13.0  13.0   9.0  0.0  0.0  \n",
       "4  0.0  0.0   2.0  16.0   4.0  0.0  0.0  \n",
       "\n",
       "[5 rows x 64 columns]"
      ]
     },
     "execution_count": 3,
     "metadata": {},
     "output_type": "execute_result"
    }
   ],
   "source": [
    "df = pd.DataFrame(datasets.load_digits(n_class=6)['data'])\n",
    "df.head(5)"
   ]
  },
  {
   "cell_type": "markdown",
   "metadata": {},
   "source": [
    "We will be using the handwritten digits dataset from ``sklearn.dataset`` with 6 classes. "
   ]
  },
  {
   "cell_type": "code",
   "execution_count": 4,
   "metadata": {},
   "outputs": [
    {
     "name": "stdout",
     "output_type": "stream",
     "text": [
      "974/1083 datapoints remaining after outlier removal\n",
      "Found 26 relevant intial configurations from warmstarter.\n",
      "Truncated n_evaluations: 40\n",
      "Fitting configuration: \n",
      "{'dim_reduction_choice': 'TruncatedSVD', 'algorithm___TruncatedSVD': 'randomized', 'n_clusters___Birch': 45, 'n_components___TruncatedSVD': 9, 'branching_factor___Birch': 291, 'clustering_choice': 'Birch'}\n",
      "Score obtained by this configuration: inf\n"
     ]
    },
    {
     "name": "stderr",
     "output_type": "stream",
     "text": [
      "Target Algorithm returned NaN or inf as quality. Algorithm run is treated as CRASHED, cost is set to 2147483647.0 for quality scenarios. (Change value through \"cost_for_crash\"-option.)\n"
     ]
    },
    {
     "name": "stdout",
     "output_type": "stream",
     "text": [
      "Fitting configuration: \n",
      "{'dim_reduction_choice': 'TruncatedSVD', 'algorithm___TruncatedSVD': 'randomized', 'n_clusters___Birch': 71, 'n_components___TruncatedSVD': 6, 'branching_factor___Birch': 74, 'clustering_choice': 'Birch'}\n",
      "Score obtained by this configuration: inf\n"
     ]
    },
    {
     "name": "stderr",
     "output_type": "stream",
     "text": [
      "Target Algorithm returned NaN or inf as quality. Algorithm run is treated as CRASHED, cost is set to 2147483647.0 for quality scenarios. (Change value through \"cost_for_crash\"-option.)\n"
     ]
    },
    {
     "name": "stdout",
     "output_type": "stream",
     "text": [
      "Fitting configuration: \n",
      "{'dim_reduction_choice': 'TruncatedSVD', 'algorithm___TruncatedSVD': 'randomized', 'n_clusters___Birch': 78, 'n_components___TruncatedSVD': 8, 'branching_factor___Birch': 55, 'clustering_choice': 'Birch'}\n",
      "Score obtained by this configuration: inf\n"
     ]
    },
    {
     "name": "stderr",
     "output_type": "stream",
     "text": [
      "Target Algorithm returned NaN or inf as quality. Algorithm run is treated as CRASHED, cost is set to 2147483647.0 for quality scenarios. (Change value through \"cost_for_crash\"-option.)\n"
     ]
    },
    {
     "name": "stdout",
     "output_type": "stream",
     "text": [
      "Fitting configuration: \n",
      "{'dim_reduction_choice': 'KernelPCA', 'kernel___KernelPCA': 'linear', 'n_clusters___Birch': 40, 'n_components___KernelPCA': 7, 'branching_factor___Birch': 814, 'clustering_choice': 'Birch'}\n",
      "Score obtained by this configuration: inf\n"
     ]
    },
    {
     "name": "stderr",
     "output_type": "stream",
     "text": [
      "Target Algorithm returned NaN or inf as quality. Algorithm run is treated as CRASHED, cost is set to 2147483647.0 for quality scenarios. (Change value through \"cost_for_crash\"-option.)\n"
     ]
    },
    {
     "name": "stdout",
     "output_type": "stream",
     "text": [
      "Fitting configuration: \n",
      "{'dim_reduction_choice': 'TruncatedSVD', 'algorithm___TruncatedSVD': 'randomized', 'n_clusters___Birch': 46, 'n_components___TruncatedSVD': 7, 'branching_factor___Birch': 227, 'clustering_choice': 'Birch'}\n",
      "Score obtained by this configuration: inf\n"
     ]
    },
    {
     "name": "stderr",
     "output_type": "stream",
     "text": [
      "Target Algorithm returned NaN or inf as quality. Algorithm run is treated as CRASHED, cost is set to 2147483647.0 for quality scenarios. (Change value through \"cost_for_crash\"-option.)\n"
     ]
    },
    {
     "name": "stdout",
     "output_type": "stream",
     "text": [
      "Fitting configuration: \n",
      "{'dim_reduction_choice': 'TruncatedSVD', 'algorithm___TruncatedSVD': 'randomized', 'n_clusters___Birch': 38, 'n_components___TruncatedSVD': 5, 'branching_factor___Birch': 149, 'clustering_choice': 'Birch'}\n",
      "Score obtained by this configuration: inf\n"
     ]
    },
    {
     "name": "stderr",
     "output_type": "stream",
     "text": [
      "Target Algorithm returned NaN or inf as quality. Algorithm run is treated as CRASHED, cost is set to 2147483647.0 for quality scenarios. (Change value through \"cost_for_crash\"-option.)\n"
     ]
    },
    {
     "name": "stdout",
     "output_type": "stream",
     "text": [
      "Fitting configuration: \n",
      "{'dim_reduction_choice': 'KernelPCA', 'kernel___KernelPCA': 'linear', 'n_clusters___Birch': 25, 'n_components___KernelPCA': 8, 'branching_factor___Birch': 64, 'clustering_choice': 'Birch'}\n",
      "Score obtained by this configuration: inf\n"
     ]
    },
    {
     "name": "stderr",
     "output_type": "stream",
     "text": [
      "Target Algorithm returned NaN or inf as quality. Algorithm run is treated as CRASHED, cost is set to 2147483647.0 for quality scenarios. (Change value through \"cost_for_crash\"-option.)\n"
     ]
    },
    {
     "name": "stdout",
     "output_type": "stream",
     "text": [
      "Fitting configuration: \n",
      "{'dim_reduction_choice': 'IncrementalPCA', 'n_components___IncrementalPCA': 3, 'n_clusters___Birch': 59, 'batch_size___IncrementalPCA': 748, 'branching_factor___Birch': 857, 'clustering_choice': 'Birch'}\n",
      "Score obtained by this configuration: inf\n"
     ]
    },
    {
     "name": "stderr",
     "output_type": "stream",
     "text": [
      "Target Algorithm returned NaN or inf as quality. Algorithm run is treated as CRASHED, cost is set to 2147483647.0 for quality scenarios. (Change value through \"cost_for_crash\"-option.)\n"
     ]
    },
    {
     "name": "stdout",
     "output_type": "stream",
     "text": [
      "Fitting configuration: \n",
      "{'dim_reduction_choice': 'KernelPCA', 'linkage___AgglomerativeClustering': 'complete', 'kernel___KernelPCA': 'rbf', 'n_clusters___AgglomerativeClustering': 7, 'n_components___KernelPCA': 6, 'affinity___AgglomerativeClustering': 'euclidean', 'clustering_choice': 'AgglomerativeClustering'}\n",
      "Score obtained by this configuration: 0.29030455807230865\n",
      "Fitting configuration: \n",
      "{'dim_reduction_choice': 'KernelPCA', 'linkage___AgglomerativeClustering': 'single', 'kernel___KernelPCA': 'rbf', 'n_clusters___AgglomerativeClustering': 6, 'n_components___KernelPCA': 4, 'affinity___AgglomerativeClustering': 'euclidean', 'clustering_choice': 'AgglomerativeClustering'}\n",
      "Score obtained by this configuration: inf\n"
     ]
    },
    {
     "name": "stderr",
     "output_type": "stream",
     "text": [
      "Target Algorithm returned NaN or inf as quality. Algorithm run is treated as CRASHED, cost is set to 2147483647.0 for quality scenarios. (Change value through \"cost_for_crash\"-option.)\n"
     ]
    },
    {
     "name": "stdout",
     "output_type": "stream",
     "text": [
      "Fitting configuration: \n",
      "{'dim_reduction_choice': 'KernelPCA', 'linkage___AgglomerativeClustering': 'single', 'kernel___KernelPCA': 'rbf', 'n_clusters___AgglomerativeClustering': 7, 'n_components___KernelPCA': 4, 'affinity___AgglomerativeClustering': 'l2', 'clustering_choice': 'AgglomerativeClustering'}\n",
      "Score obtained by this configuration: inf\n"
     ]
    },
    {
     "name": "stderr",
     "output_type": "stream",
     "text": [
      "Target Algorithm returned NaN or inf as quality. Algorithm run is treated as CRASHED, cost is set to 2147483647.0 for quality scenarios. (Change value through \"cost_for_crash\"-option.)\n"
     ]
    },
    {
     "name": "stdout",
     "output_type": "stream",
     "text": [
      "Fitting configuration: \n",
      "{'dim_reduction_choice': 'TSNE', 'perplexity___TSNE': 84.03630134401256, 'n_components___TSNE': 2, 'n_clusters___Birch': 6, 'early_exaggeration___TSNE': 12.0, 'branching_factor___Birch': 91, 'clustering_choice': 'Birch'}\n",
      "Score obtained by this configuration: inf\n"
     ]
    },
    {
     "name": "stderr",
     "output_type": "stream",
     "text": [
      "Target Algorithm returned NaN or inf as quality. Algorithm run is treated as CRASHED, cost is set to 2147483647.0 for quality scenarios. (Change value through \"cost_for_crash\"-option.)\n"
     ]
    },
    {
     "name": "stdout",
     "output_type": "stream",
     "text": [
      "Fitting configuration: \n",
      "{'affinity___AgglomerativeClustering': 'cityblock', 'dim_reduction_choice': 'TSNE', 'perplexity___TSNE': 175.48390215534172, 'linkage___AgglomerativeClustering': 'average', 'n_clusters___AgglomerativeClustering': 9, 'n_components___TSNE': 2, 'early_exaggeration___TSNE': 7.471032321220759, 'clustering_choice': 'AgglomerativeClustering'}\n",
      "Score obtained by this configuration: inf\n"
     ]
    },
    {
     "name": "stderr",
     "output_type": "stream",
     "text": [
      "Target Algorithm returned NaN or inf as quality. Algorithm run is treated as CRASHED, cost is set to 2147483647.0 for quality scenarios. (Change value through \"cost_for_crash\"-option.)\n"
     ]
    },
    {
     "name": "stdout",
     "output_type": "stream",
     "text": [
      "Fitting configuration: \n",
      "{'init_params___GaussianMixture': 'kmeans', 'covariance_type___GaussianMixture': 'full', 'dim_reduction_choice': 'TSNE', 'perplexity___TSNE': 231.40494920107596, 'n_components___TSNE': 2, 'n_components___GaussianMixture': 6, 'early_exaggeration___TSNE': 8.203390083753744, 'clustering_choice': 'GaussianMixture'}\n",
      "Score obtained by this configuration: 0.2698171188433965\n",
      "Fitting configuration: \n",
      "{'init_params___GaussianMixture': 'kmeans', 'covariance_type___GaussianMixture': 'full', 'dim_reduction_choice': 'TSNE', 'perplexity___TSNE': 231.45241399045284, 'n_components___TSNE': 2, 'n_components___GaussianMixture': 6, 'early_exaggeration___TSNE': 8.3742023674892, 'clustering_choice': 'GaussianMixture'}\n",
      "Score obtained by this configuration: 0.272277295589447\n",
      "Fitting configuration: \n",
      "{'affinity___AgglomerativeClustering': 'manhattan', 'dim_reduction_choice': 'TSNE', 'perplexity___TSNE': 192.4356661604625, 'linkage___AgglomerativeClustering': 'complete', 'n_clusters___AgglomerativeClustering': 6, 'n_components___TSNE': 2, 'early_exaggeration___TSNE': 11.993398613338442, 'clustering_choice': 'AgglomerativeClustering'}\n",
      "Score obtained by this configuration: inf\n"
     ]
    },
    {
     "name": "stderr",
     "output_type": "stream",
     "text": [
      "Target Algorithm returned NaN or inf as quality. Algorithm run is treated as CRASHED, cost is set to 2147483647.0 for quality scenarios. (Change value through \"cost_for_crash\"-option.)\n"
     ]
    },
    {
     "name": "stdout",
     "output_type": "stream",
     "text": [
      "Fitting configuration: \n",
      "{'dim_reduction_choice': 'TSNE', 'perplexity___TSNE': 278.53955190071804, 'n_components___TSNE': 2, 'clustering_choice': 'MiniBatchKMeans', 'batch_size___MiniBatchKMeans': 715, 'early_exaggeration___TSNE': 13.048424472811831, 'n_clusters___MiniBatchKMeans': 7}\n",
      "Score obtained by this configuration: 0.2651807914177577\n",
      "Fitting configuration: \n",
      "{'dim_reduction_choice': 'TSNE', 'perplexity___TSNE': 190.13168469295235, 'n_components___TSNE': 2, 'clustering_choice': 'MiniBatchKMeans', 'batch_size___MiniBatchKMeans': 967, 'early_exaggeration___TSNE': 10.194958770285634, 'n_clusters___MiniBatchKMeans': 7}\n",
      "Score obtained by this configuration: 0.2649705857038498\n",
      "Fitting configuration: \n",
      "{'dim_reduction_choice': 'KernelPCA', 'linkage___AgglomerativeClustering': 'average', 'kernel___KernelPCA': 'cosine', 'n_clusters___AgglomerativeClustering': 16, 'n_components___KernelPCA': 8, 'affinity___AgglomerativeClustering': 'cityblock', 'clustering_choice': 'AgglomerativeClustering'}\n",
      "Score obtained by this configuration: inf\n"
     ]
    },
    {
     "name": "stderr",
     "output_type": "stream",
     "text": [
      "Target Algorithm returned NaN or inf as quality. Algorithm run is treated as CRASHED, cost is set to 2147483647.0 for quality scenarios. (Change value through \"cost_for_crash\"-option.)\n"
     ]
    },
    {
     "name": "stdout",
     "output_type": "stream",
     "text": [
      "Fitting configuration: \n",
      "{'dim_reduction_choice': 'TSNE', 'perplexity___TSNE': 30.0, 'n_components___TSNE': 2, 'n_clusters___KMeans': 5, 'early_exaggeration___TSNE': 12.0, 'clustering_choice': 'KMeans'}\n",
      "Score obtained by this configuration: inf\n"
     ]
    },
    {
     "name": "stderr",
     "output_type": "stream",
     "text": [
      "Target Algorithm returned NaN or inf as quality. Algorithm run is treated as CRASHED, cost is set to 2147483647.0 for quality scenarios. (Change value through \"cost_for_crash\"-option.)\n"
     ]
    },
    {
     "name": "stdout",
     "output_type": "stream",
     "text": [
      "Fitting configuration: \n",
      "{'init_params___GaussianMixture': 'random', 'covariance_type___GaussianMixture': 'spherical', 'dim_reduction_choice': 'TSNE', 'perplexity___TSNE': 275.4993874614579, 'n_components___TSNE': 2, 'n_components___GaussianMixture': 42, 'early_exaggeration___TSNE': 6.474880629399273, 'clustering_choice': 'GaussianMixture'}\n",
      "Score obtained by this configuration: inf\n"
     ]
    },
    {
     "name": "stderr",
     "output_type": "stream",
     "text": [
      "Target Algorithm returned NaN or inf as quality. Algorithm run is treated as CRASHED, cost is set to 2147483647.0 for quality scenarios. (Change value through \"cost_for_crash\"-option.)\n"
     ]
    },
    {
     "name": "stdout",
     "output_type": "stream",
     "text": [
      "Fitting configuration: \n",
      "{'warm_start___GaussianMixture': True, 'covariance_type___GaussianMixture': 'full', 'dim_reduction_choice': 'TSNE', 'init_params___GaussianMixture': 'kmeans', 'n_components___TSNE': 2, 'perplexity___TSNE': 208.9045670155065, 'n_components___GaussianMixture': 32, 'early_exaggeration___TSNE': 6.889468224059581, 'clustering_choice': 'GaussianMixture'}\n",
      "Score obtained by this configuration: inf\n"
     ]
    },
    {
     "name": "stderr",
     "output_type": "stream",
     "text": [
      "Target Algorithm returned NaN or inf as quality. Algorithm run is treated as CRASHED, cost is set to 2147483647.0 for quality scenarios. (Change value through \"cost_for_crash\"-option.)\n"
     ]
    },
    {
     "name": "stdout",
     "output_type": "stream",
     "text": [
      "Fitting configuration: \n",
      "{'affinity___AgglomerativeClustering': 'cityblock', 'dim_reduction_choice': 'TSNE', 'perplexity___TSNE': 131.58033120399173, 'linkage___AgglomerativeClustering': 'average', 'n_clusters___AgglomerativeClustering': 32, 'n_components___TSNE': 2, 'early_exaggeration___TSNE': 15.989483033735212, 'clustering_choice': 'AgglomerativeClustering'}\n",
      "Score obtained by this configuration: inf\n"
     ]
    },
    {
     "name": "stderr",
     "output_type": "stream",
     "text": [
      "WARNING:smac.tae.execute_func.ExecuteTAFuncDict:Target Algorithm returned NaN or inf as quality. Algorithm run is treated as CRASHED, cost is set to 2147483647.0 for quality scenarios. (Change value through \"cost_for_crash\"-option.)\n"
     ]
    },
    {
     "name": "stdout",
     "output_type": "stream",
     "text": [
      "Fitting configuration: \n",
      "{'init_params___GaussianMixture': 'kmeans', 'covariance_type___GaussianMixture': 'diag', 'dim_reduction_choice': 'TSNE', 'perplexity___TSNE': 218.21653233518518, 'n_components___TSNE': 2, 'n_components___GaussianMixture': 1, 'early_exaggeration___TSNE': 7.248583887206824, 'clustering_choice': 'GaussianMixture'}\n",
      "Score obtained by this configuration: inf\n"
     ]
    },
    {
     "name": "stderr",
     "output_type": "stream",
     "text": [
      "WARNING:smac.tae.execute_func.ExecuteTAFuncDict:Target Algorithm returned NaN or inf as quality. Algorithm run is treated as CRASHED, cost is set to 2147483647.0 for quality scenarios. (Change value through \"cost_for_crash\"-option.)\n"
     ]
    },
    {
     "name": "stdout",
     "output_type": "stream",
     "text": [
      "Fitting configuration: \n",
      "{'dim_reduction_choice': 'TSNE', 'perplexity___TSNE': 261.4439460405121, 'n_clusters___SpectralClustering': 46, 'n_components___TSNE': 2, 'eigen_solver___SpectralClustering': 'arpack', 'assign_labels___SpectralClustering': 'discretize', 'affinity___SpectralClustering': 'sigmoid', 'early_exaggeration___TSNE': 17.496816789981622, 'clustering_choice': 'SpectralClustering'}\n"
     ]
    },
    {
     "name": "stderr",
     "output_type": "stream",
     "text": [
      "Process pynisher function call:\n",
      "Traceback (most recent call last):\n",
      "  File \"/home/wywongbd/anaconda3/envs/spia2019/lib/python3.5/multiprocessing/process.py\", line 252, in _bootstrap\n",
      "    self.run()\n",
      "  File \"/home/wywongbd/anaconda3/envs/spia2019/lib/python3.5/multiprocessing/process.py\", line 93, in run\n",
      "    self._target(*self._args, **self._kwargs)\n",
      "  File \"/home/wywongbd/anaconda3/envs/spia2019/lib/python3.5/site-packages/pynisher/limit_function_call.py\", line 93, in subprocess_func\n",
      "    return_value = ((func(*args, **kwargs), 0))\n",
      "  File \"/home/wywongbd/coding_workspace/autocluster/autocluster/autocluster.py\", line 257, in evaluate_model\n",
      "    scaler, dim_reduction_model, clustering_model = fit_models(cfg, train_data)\n",
      "  File \"/home/wywongbd/coding_workspace/autocluster/autocluster/autocluster.py\", line 225, in fit_models\n",
      "    clustering_model.fit(compressed_data)\n",
      "  File \"/home/wywongbd/anaconda3/envs/spia2019/lib/python3.5/site-packages/sklearn/cluster/spectral.py\", line 493, in fit\n",
      "    assign_labels=self.assign_labels)\n",
      "  File \"/home/wywongbd/anaconda3/envs/spia2019/lib/python3.5/site-packages/sklearn/cluster/spectral.py\", line 264, in spectral_clustering\n",
      "    eigen_tol=eigen_tol, drop_first=False)\n",
      "  File \"/home/wywongbd/anaconda3/envs/spia2019/lib/python3.5/site-packages/sklearn/manifold/spectral_embedding_.py\", line 271, in spectral_embedding\n",
      "    tol=eigen_tol, v0=v0)\n",
      "  File \"/home/wywongbd/anaconda3/envs/spia2019/lib/python3.5/site-packages/scipy/sparse/linalg/eigen/arpack/arpack.py\", line 1622, in eigsh\n",
      "    symmetric=True, tol=tol)\n",
      "  File \"/home/wywongbd/anaconda3/envs/spia2019/lib/python3.5/site-packages/scipy/sparse/linalg/eigen/arpack/arpack.py\", line 1053, in get_OPinv_matvec\n",
      "    return LuInv(A).matvec\n",
      "  File \"/home/wywongbd/anaconda3/envs/spia2019/lib/python3.5/site-packages/scipy/sparse/linalg/eigen/arpack/arpack.py\", line 931, in __init__\n",
      "    self.M_lu = lu_factor(M)\n",
      "  File \"/home/wywongbd/anaconda3/envs/spia2019/lib/python3.5/site-packages/scipy/linalg/decomp_lu.py\", line 73, in lu_factor\n",
      "    a1 = asarray_chkfinite(a)\n",
      "  File \"/home/wywongbd/anaconda3/envs/spia2019/lib/python3.5/site-packages/numpy/lib/function_base.py\", line 498, in asarray_chkfinite\n",
      "    \"array must not contain infs or NaNs\")\n",
      "ValueError: array must not contain infs or NaNs\n"
     ]
    },
    {
     "name": "stdout",
     "output_type": "stream",
     "text": [
      "Fitting configuration: \n",
      "{'n_clusters___MiniBatchKMeans': 4, 'dim_reduction_choice': 'TruncatedSVD', 'batch_size___MiniBatchKMeans': 59, 'algorithm___TruncatedSVD': 'randomized', 'n_components___TruncatedSVD': 6, 'clustering_choice': 'MiniBatchKMeans'}\n",
      "Score obtained by this configuration: 0.35264829959352584\n",
      "Fitting configuration: \n",
      "{'dim_reduction_choice': 'TSNE', 'perplexity___TSNE': 264.78335241592123, 'n_components___TSNE': 2, 'clustering_choice': 'MiniBatchKMeans', 'batch_size___MiniBatchKMeans': 370, 'early_exaggeration___TSNE': 13.689983923351432, 'n_clusters___MiniBatchKMeans': 61}\n",
      "Score obtained by this configuration: inf\n"
     ]
    },
    {
     "name": "stderr",
     "output_type": "stream",
     "text": [
      "WARNING:smac.tae.execute_func.ExecuteTAFuncDict:Target Algorithm returned NaN or inf as quality. Algorithm run is treated as CRASHED, cost is set to 2147483647.0 for quality scenarios. (Change value through \"cost_for_crash\"-option.)\n"
     ]
    },
    {
     "name": "stdout",
     "output_type": "stream",
     "text": [
      "Fitting configuration: \n",
      "{'dim_reduction_choice': 'TSNE', 'perplexity___TSNE': 237.9550105029046, 'n_components___TSNE': 2, 'clustering_choice': 'MiniBatchKMeans', 'batch_size___MiniBatchKMeans': 700, 'early_exaggeration___TSNE': 19.93178968353616, 'n_clusters___MiniBatchKMeans': 61}\n",
      "Score obtained by this configuration: inf\n"
     ]
    },
    {
     "name": "stderr",
     "output_type": "stream",
     "text": [
      "WARNING:smac.tae.execute_func.ExecuteTAFuncDict:Target Algorithm returned NaN or inf as quality. Algorithm run is treated as CRASHED, cost is set to 2147483647.0 for quality scenarios. (Change value through \"cost_for_crash\"-option.)\n"
     ]
    },
    {
     "name": "stdout",
     "output_type": "stream",
     "text": [
      "Fitting configuration: \n",
      "{'dim_reduction_choice': 'TSNE', 'perplexity___TSNE': 158.2454562517006, 'n_components___TSNE': 2, 'clustering_choice': 'MiniBatchKMeans', 'batch_size___MiniBatchKMeans': 931, 'early_exaggeration___TSNE': 10.222240448917452, 'n_clusters___MiniBatchKMeans': 3}\n",
      "Score obtained by this configuration: inf\n"
     ]
    },
    {
     "name": "stderr",
     "output_type": "stream",
     "text": [
      "WARNING:smac.tae.execute_func.ExecuteTAFuncDict:Target Algorithm returned NaN or inf as quality. Algorithm run is treated as CRASHED, cost is set to 2147483647.0 for quality scenarios. (Change value through \"cost_for_crash\"-option.)\n"
     ]
    },
    {
     "name": "stdout",
     "output_type": "stream",
     "text": [
      "Fitting configuration: \n",
      "{'dim_reduction_choice': 'TSNE', 'perplexity___TSNE': 61.53395842491182, 'n_components___TSNE': 2, 'clustering_choice': 'MiniBatchKMeans', 'batch_size___MiniBatchKMeans': 669, 'early_exaggeration___TSNE': 8.34338012474937, 'n_clusters___MiniBatchKMeans': 3}\n",
      "Score obtained by this configuration: inf\n"
     ]
    },
    {
     "name": "stderr",
     "output_type": "stream",
     "text": [
      "WARNING:smac.tae.execute_func.ExecuteTAFuncDict:Target Algorithm returned NaN or inf as quality. Algorithm run is treated as CRASHED, cost is set to 2147483647.0 for quality scenarios. (Change value through \"cost_for_crash\"-option.)\n"
     ]
    },
    {
     "name": "stdout",
     "output_type": "stream",
     "text": [
      "Fitting configuration: \n",
      "{'dim_reduction_choice': 'TSNE', 'perplexity___TSNE': 178.34537996808524, 'n_components___TSNE': 2, 'clustering_choice': 'MiniBatchKMeans', 'batch_size___MiniBatchKMeans': 970, 'early_exaggeration___TSNE': 10.210359592773798, 'n_clusters___MiniBatchKMeans': 1}\n",
      "Score obtained by this configuration: inf\n"
     ]
    },
    {
     "name": "stderr",
     "output_type": "stream",
     "text": [
      "WARNING:smac.tae.execute_func.ExecuteTAFuncDict:Target Algorithm returned NaN or inf as quality. Algorithm run is treated as CRASHED, cost is set to 2147483647.0 for quality scenarios. (Change value through \"cost_for_crash\"-option.)\n"
     ]
    },
    {
     "name": "stdout",
     "output_type": "stream",
     "text": [
      "Fitting configuration: \n",
      "{'dim_reduction_choice': 'TSNE', 'perplexity___TSNE': 177.98113872640118, 'n_components___TSNE': 2, 'clustering_choice': 'MiniBatchKMeans', 'batch_size___MiniBatchKMeans': 978, 'early_exaggeration___TSNE': 8.722579051802407, 'n_clusters___MiniBatchKMeans': 5}\n",
      "Score obtained by this configuration: 0.26685236394405365\n",
      "Fitting configuration: \n",
      "{'affinity___SpectralClustering': 'sigmoid', 'algorithm___TruncatedSVD': 'randomized', 'dim_reduction_choice': 'TruncatedSVD', 'assign_labels___SpectralClustering': 'discretize', 'eigen_solver___SpectralClustering': 'arpack', 'n_clusters___SpectralClustering': 12, 'n_components___TruncatedSVD': 5, 'clustering_choice': 'SpectralClustering'}\n"
     ]
    },
    {
     "name": "stderr",
     "output_type": "stream",
     "text": [
      "Process pynisher function call:\n",
      "Traceback (most recent call last):\n",
      "  File \"/home/wywongbd/anaconda3/envs/spia2019/lib/python3.5/multiprocessing/process.py\", line 252, in _bootstrap\n",
      "    self.run()\n",
      "  File \"/home/wywongbd/anaconda3/envs/spia2019/lib/python3.5/multiprocessing/process.py\", line 93, in run\n",
      "    self._target(*self._args, **self._kwargs)\n",
      "  File \"/home/wywongbd/anaconda3/envs/spia2019/lib/python3.5/site-packages/pynisher/limit_function_call.py\", line 93, in subprocess_func\n",
      "    return_value = ((func(*args, **kwargs), 0))\n",
      "  File \"/home/wywongbd/coding_workspace/autocluster/autocluster/autocluster.py\", line 257, in evaluate_model\n",
      "    scaler, dim_reduction_model, clustering_model = fit_models(cfg, train_data)\n",
      "  File \"/home/wywongbd/coding_workspace/autocluster/autocluster/autocluster.py\", line 225, in fit_models\n",
      "    clustering_model.fit(compressed_data)\n",
      "  File \"/home/wywongbd/anaconda3/envs/spia2019/lib/python3.5/site-packages/sklearn/cluster/spectral.py\", line 493, in fit\n",
      "    assign_labels=self.assign_labels)\n",
      "  File \"/home/wywongbd/anaconda3/envs/spia2019/lib/python3.5/site-packages/sklearn/cluster/spectral.py\", line 264, in spectral_clustering\n",
      "    eigen_tol=eigen_tol, drop_first=False)\n",
      "  File \"/home/wywongbd/anaconda3/envs/spia2019/lib/python3.5/site-packages/sklearn/manifold/spectral_embedding_.py\", line 271, in spectral_embedding\n",
      "    tol=eigen_tol, v0=v0)\n",
      "  File \"/home/wywongbd/anaconda3/envs/spia2019/lib/python3.5/site-packages/scipy/sparse/linalg/eigen/arpack/arpack.py\", line 1622, in eigsh\n",
      "    symmetric=True, tol=tol)\n",
      "  File \"/home/wywongbd/anaconda3/envs/spia2019/lib/python3.5/site-packages/scipy/sparse/linalg/eigen/arpack/arpack.py\", line 1053, in get_OPinv_matvec\n",
      "    return LuInv(A).matvec\n",
      "  File \"/home/wywongbd/anaconda3/envs/spia2019/lib/python3.5/site-packages/scipy/sparse/linalg/eigen/arpack/arpack.py\", line 931, in __init__\n",
      "    self.M_lu = lu_factor(M)\n",
      "  File \"/home/wywongbd/anaconda3/envs/spia2019/lib/python3.5/site-packages/scipy/linalg/decomp_lu.py\", line 73, in lu_factor\n",
      "    a1 = asarray_chkfinite(a)\n",
      "  File \"/home/wywongbd/anaconda3/envs/spia2019/lib/python3.5/site-packages/numpy/lib/function_base.py\", line 498, in asarray_chkfinite\n",
      "    \"array must not contain infs or NaNs\")\n",
      "ValueError: array must not contain infs or NaNs\n"
     ]
    },
    {
     "name": "stdout",
     "output_type": "stream",
     "text": [
      "Fitting configuration: \n",
      "{'dim_reduction_choice': 'KernelPCA', 'kernel___KernelPCA': 'cosine', 'n_clusters___Birch': 25, 'n_components___KernelPCA': 5, 'branching_factor___Birch': 459, 'clustering_choice': 'Birch'}\n",
      "Score obtained by this configuration: 0.31629622404594754\n",
      "Fitting configuration: \n",
      "{'algorithm___FastICA': 'parallel', 'n_clusters___KMeans': 54, 'dim_reduction_choice': 'FastICA', 'n_components___FastICA': 3, 'fun___FastICA': 'cube', 'clustering_choice': 'KMeans'}\n",
      "Score obtained by this configuration: inf\n"
     ]
    },
    {
     "name": "stderr",
     "output_type": "stream",
     "text": [
      "WARNING:smac.tae.execute_func.ExecuteTAFuncDict:Target Algorithm returned NaN or inf as quality. Algorithm run is treated as CRASHED, cost is set to 2147483647.0 for quality scenarios. (Change value through \"cost_for_crash\"-option.)\n"
     ]
    },
    {
     "name": "stdout",
     "output_type": "stream",
     "text": [
      "Fitting configuration: \n",
      "{'dim_reduction_choice': 'TSNE', 'perplexity___TSNE': 203.33372920759538, 'n_components___TSNE': 2, 'clustering_choice': 'MiniBatchKMeans', 'batch_size___MiniBatchKMeans': 70, 'early_exaggeration___TSNE': 8.3742023674892, 'n_clusters___MiniBatchKMeans': 6}\n",
      "Score obtained by this configuration: 0.2628583659728368\n",
      "Fitting configuration: \n",
      "{'warm_start___GaussianMixture': True, 'dim_reduction_choice': 'TruncatedSVD', 'init_params___GaussianMixture': 'random', 'algorithm___TruncatedSVD': 'randomized', 'n_components___GaussianMixture': 10, 'n_components___TruncatedSVD': 3, 'covariance_type___GaussianMixture': 'diag', 'clustering_choice': 'GaussianMixture'}\n",
      "Score obtained by this configuration: 0.3586588797619536\n",
      "Fitting configuration: \n",
      "{'affinity___AgglomerativeClustering': 'manhattan', 'dim_reduction_choice': 'TSNE', 'perplexity___TSNE': 95.34161394468437, 'linkage___AgglomerativeClustering': 'average', 'n_clusters___AgglomerativeClustering': 10, 'n_components___TSNE': 2, 'early_exaggeration___TSNE': 11.741499808283582, 'clustering_choice': 'AgglomerativeClustering'}\n",
      "Score obtained by this configuration: inf\n"
     ]
    },
    {
     "name": "stderr",
     "output_type": "stream",
     "text": [
      "WARNING:smac.tae.execute_func.ExecuteTAFuncDict:Target Algorithm returned NaN or inf as quality. Algorithm run is treated as CRASHED, cost is set to 2147483647.0 for quality scenarios. (Change value through \"cost_for_crash\"-option.)\n"
     ]
    },
    {
     "name": "stdout",
     "output_type": "stream",
     "text": [
      "Fitting configuration: \n",
      "{'whiten___IncrementalPCA': True, 'dim_reduction_choice': 'IncrementalPCA', 'n_components___IncrementalPCA': 3, 'clustering_choice': 'KMeans', 'batch_size___IncrementalPCA': 371, 'n_clusters___KMeans': 68}\n",
      "Score obtained by this configuration: inf\n"
     ]
    },
    {
     "name": "stderr",
     "output_type": "stream",
     "text": [
      "WARNING:smac.tae.execute_func.ExecuteTAFuncDict:Target Algorithm returned NaN or inf as quality. Algorithm run is treated as CRASHED, cost is set to 2147483647.0 for quality scenarios. (Change value through \"cost_for_crash\"-option.)\n"
     ]
    },
    {
     "name": "stdout",
     "output_type": "stream",
     "text": [
      "Fitting configuration: \n",
      "{'algorithm___FastICA': 'deflation', 'dim_reduction_choice': 'FastICA', 'n_clusters___MiniBatchKMeans': 42, 'batch_size___MiniBatchKMeans': 964, 'whiten___FastICA': True, 'n_components___FastICA': 2, 'fun___FastICA': 'cube', 'clustering_choice': 'MiniBatchKMeans'}\n",
      "Score obtained by this configuration: inf\n"
     ]
    },
    {
     "name": "stderr",
     "output_type": "stream",
     "text": [
      "WARNING:smac.tae.execute_func.ExecuteTAFuncDict:Target Algorithm returned NaN or inf as quality. Algorithm run is treated as CRASHED, cost is set to 2147483647.0 for quality scenarios. (Change value through \"cost_for_crash\"-option.)\n"
     ]
    },
    {
     "name": "stdout",
     "output_type": "stream",
     "text": [
      "Optimization is complete.\n",
      "Took 312.99 seconds.\n",
      "The optimal configuration is \n",
      "Configuration:\n",
      "  batch_size___MiniBatchKMeans, Value: 70\n",
      "  clustering_choice, Value: 'MiniBatchKMeans'\n",
      "  dim_reduction_choice, Value: 'TSNE'\n",
      "  early_exaggeration___TSNE, Value: 8.3742023674892\n",
      "  n_clusters___MiniBatchKMeans, Value: 6\n",
      "  n_components___TSNE, Value: 2\n",
      "  perplexity___TSNE, Value: 203.33372920759538\n",
      "\n"
     ]
    }
   ],
   "source": [
    "cluster = AutoCluster()\n",
    "fit_params = {\n",
    "    \"df\": df, \n",
    "    \"cluster_alg_ls\": [\n",
    "        'KMeans', 'GaussianMixture', 'Birch', \n",
    "        'MiniBatchKMeans', 'AgglomerativeClustering', 'SpectralClustering'\n",
    "    ], \n",
    "    \"dim_reduction_alg_ls\": [\n",
    "        'TSNE', 'PCA', 'IncrementalPCA', \n",
    "        'KernelPCA', 'FastICA', 'TruncatedSVD'\n",
    "    ],\n",
    "    \"optimizer\": 'smac',\n",
    "    \"n_evaluations\": 40,\n",
    "    \"run_obj\": 'quality',\n",
    "    \"seed\": 27,\n",
    "    \"cutoff_time\": 60,\n",
    "    \"preprocess_dict\": {\n",
    "        \"numeric_cols\": list(range(64)),\n",
    "        \"categorical_cols\": [],\n",
    "        \"ordinal_cols\": [],\n",
    "        \"y_col\": []\n",
    "    },\n",
    "    \"evaluator\": get_evaluator(evaluator_ls = ['silhouetteScore'], \n",
    "                               weights = [], clustering_num = None, \n",
    "                               min_proportion = .01),\n",
    "    \"n_folds\": 3,\n",
    "    \"warmstart\": True,\n",
    "    \"warmstart_datasets_dir\": 'benchmark_silhouette',\n",
    "    \"warmstart_metafeatures_table_path\": 'metaknowledge/benchmark_silhouette_metafeatures_table.csv',\n",
    "    \"warmstart_n_neighbors\": 10,\n",
    "    \"warmstart_top_n\": 3,\n",
    "    \"general_metafeatures\": MetafeatureMapper.getGeneralMetafeatures(),\n",
    "    \"numeric_metafeatures\": MetafeatureMapper.getNumericMetafeatures(),\n",
    "    \"categorical_metafeatures\": [],\n",
    "    \"verbose_level\": 1,\n",
    "}\n",
    "result_dict = cluster.fit(**fit_params)"
   ]
  },
  {
   "cell_type": "markdown",
   "metadata": {},
   "source": [
    "Important parameters to take note:\n",
    "- ``warmstart_datasets_dir``: Don't change this unless you have ran metalearning on your own datasets.\n",
    "- ``warmstart_metafeatures_table_path``: This is the path to a csv table with metafeatures of all datasets used for warmstarting. Don't change this unless you have ran metalearning on your own datasets.\n",
    "- ``warmstart_n_neighbors``: During warmstarting, the closest ``N`` datasets on the metefeatures space will be chosen to retrieve some initial configurations for Bayesian Optimization. ``warmstart_n_neighbors`` refers to ``N``.\n",
    "- ``warmstart_top_n``: During warmstarting, a list of ``K`` best configurations will be retrieved from each of the chosen 'similar' datasets. ``warmstart_top_n`` refers to ``K``.\n",
    "- ``general_metafeatures``: General metafeatures used for computing the distance or 'similarity' between two datasets.\n",
    "- ``numeric_metafeatures``: Numeric metafeatures used for computing the distance or 'similarity' between two datasets. Numeric here means the metafeatures are computed using only the numeric columns of a dataset."
   ]
  },
  {
   "cell_type": "code",
   "execution_count": 5,
   "metadata": {},
   "outputs": [
    {
     "data": {
      "text/plain": [
       "array([ 0.00000000e+00,  6.88141130e+00,  4.92235626e-01,  0.00000000e+00,\n",
       "        9.74000000e+02,  5.74006049e+00,  2.50476727e+00,  2.96794475e+00,\n",
       "       -7.42620031e-01,  4.21875000e-01,  0.00000000e+00, -9.19926015e-03,\n",
       "        2.69485807e-01,  4.55781813e-03, -1.57199934e+00, -6.70462189e-01,\n",
       "       -7.53061616e-01, -1.04707868e+00,  2.50633762e+01,  4.61409546e-01,\n",
       "        9.32953543e-02, -1.17449695e-01,  6.57449910e+02,  4.92235626e-01,\n",
       "       -2.31555046e+01, -1.45453171e+00,  1.82787318e-01, -3.38489514e-02,\n",
       "        5.11767354e+01,  2.95310533e-01, -3.00000000e+00,  9.40936412e-01,\n",
       "        4.43706999e+01])"
      ]
     },
     "execution_count": 5,
     "metadata": {},
     "output_type": "execute_result"
    }
   ],
   "source": [
    "result_dict['metafeatures'][0]"
   ]
  },
  {
   "cell_type": "code",
   "execution_count": 9,
   "metadata": {},
   "outputs": [
    {
     "data": {
      "image/png": "[encoded data removed]",
      "text/plain": [
       "<Figure size 720x720 with 1 Axes>"
      ]
     },
     "metadata": {
      "needs_background": "dark"
     },
     "output_type": "display_data"
    }
   ],
   "source": [
    "predictions = cluster.predict(df)"
   ]
  },
  {
   "cell_type": "code",
   "execution_count": 10,
   "metadata": {},
   "outputs": [
    {
     "data": {
      "text/plain": [
       "Counter({0: 178, 1: 178, 2: 147, 3: 170, 4: 237, 5: 173})"
      ]
     },
     "execution_count": 10,
     "metadata": {},
     "output_type": "execute_result"
    }
   ],
   "source": [
    "Counter(predictions)"
   ]
  },
  {
   "cell_type": "code",
   "execution_count": 11,
   "metadata": {},
   "outputs": [
    {
     "data": {
      "text/plain": [
       "0.7230614805080724"
      ]
     },
     "execution_count": 11,
     "metadata": {},
     "output_type": "execute_result"
    }
   ],
   "source": [
    "v_measure_score(predictions, datasets.load_digits(n_class=6)['target'])"
   ]
  },
  {
   "cell_type": "markdown",
   "metadata": {},
   "source": [
    "The V measure score is reasonably good given that we are just doing clustering. Refer to [sklearn's page](https://scikit-learn.org/stable/modules/generated/sklearn.metrics.v_measure_score.html) for further explanation on v measure's interpretation."
   ]
  },
  {
   "cell_type": "code",
   "execution_count": 14,
   "metadata": {},
   "outputs": [
    {
     "data": {
      "image/png": "[encoded data removed]",
      "text/plain": [
       "<Figure size 720x720 with 1 Axes>"
      ]
     },
     "metadata": {
      "needs_background": "dark"
     },
     "output_type": "display_data"
    }
   ],
   "source": [
    "cluster.plot_convergence()"
   ]
  },
  {
   "cell_type": "code",
   "execution_count": 15,
   "metadata": {},
   "outputs": [
    {
     "data": {
      "text/plain": [
       "[({'algorithm___TruncatedSVD': 'randomized',\n",
       "   'branching_factor___Birch': 291,\n",
       "   'clustering_choice': 'Birch',\n",
       "   'dim_reduction_choice': 'TruncatedSVD',\n",
       "   'n_clusters___Birch': 45,\n",
       "   'n_components___TruncatedSVD': 9},\n",
       "  2147483648),\n",
       " ({'algorithm___TruncatedSVD': 'randomized',\n",
       "   'branching_factor___Birch': 291,\n",
       "   'clustering_choice': 'Birch',\n",
       "   'dim_reduction_choice': 'TruncatedSVD',\n",
       "   'n_clusters___Birch': 45,\n",
       "   'n_components___TruncatedSVD': 9},\n",
       "  2147483647.0),\n",
       " ({'affinity___AgglomerativeClustering': 'euclidean',\n",
       "   'clustering_choice': 'AgglomerativeClustering',\n",
       "   'dim_reduction_choice': 'KernelPCA',\n",
       "   'kernel___KernelPCA': 'rbf',\n",
       "   'linkage___AgglomerativeClustering': 'complete',\n",
       "   'n_clusters___AgglomerativeClustering': 7,\n",
       "   'n_components___KernelPCA': 6},\n",
       "  0.29030455807230865),\n",
       " ({'clustering_choice': 'GaussianMixture',\n",
       "   'covariance_type___GaussianMixture': 'full',\n",
       "   'dim_reduction_choice': 'TSNE',\n",
       "   'early_exaggeration___TSNE': 8.203390083753744,\n",
       "   'init_params___GaussianMixture': 'kmeans',\n",
       "   'n_components___GaussianMixture': 6,\n",
       "   'n_components___TSNE': 2,\n",
       "   'perplexity___TSNE': 231.40494920107596,\n",
       "   'warm_start___GaussianMixture': False},\n",
       "  0.2698171188433965),\n",
       " ({'batch_size___MiniBatchKMeans': 715,\n",
       "   'clustering_choice': 'MiniBatchKMeans',\n",
       "   'dim_reduction_choice': 'TSNE',\n",
       "   'early_exaggeration___TSNE': 13.048424472811831,\n",
       "   'n_clusters___MiniBatchKMeans': 7,\n",
       "   'n_components___TSNE': 2,\n",
       "   'perplexity___TSNE': 278.53955190071804},\n",
       "  0.2651807914177577),\n",
       " ({'batch_size___MiniBatchKMeans': 967,\n",
       "   'clustering_choice': 'MiniBatchKMeans',\n",
       "   'dim_reduction_choice': 'TSNE',\n",
       "   'early_exaggeration___TSNE': 10.194958770285634,\n",
       "   'n_clusters___MiniBatchKMeans': 7,\n",
       "   'n_components___TSNE': 2,\n",
       "   'perplexity___TSNE': 190.13168469295235},\n",
       "  0.2649705857038498),\n",
       " ({'batch_size___MiniBatchKMeans': 70,\n",
       "   'clustering_choice': 'MiniBatchKMeans',\n",
       "   'dim_reduction_choice': 'TSNE',\n",
       "   'early_exaggeration___TSNE': 8.3742023674892,\n",
       "   'n_clusters___MiniBatchKMeans': 6,\n",
       "   'n_components___TSNE': 2,\n",
       "   'perplexity___TSNE': 203.33372920759538},\n",
       "  0.2628583659728368)]"
      ]
     },
     "execution_count": 15,
     "metadata": {},
     "output_type": "execute_result"
    }
   ],
   "source": [
    "cluster.get_trajectory()"
   ]
  },
  {
   "cell_type": "code",
   "execution_count": null,
   "metadata": {},
   "outputs": [],
   "source": []
  },
  {
   "cell_type": "code",
   "execution_count": null,
   "metadata": {},
   "outputs": [],
   "source": []
  }
 ],
 "metadata": {
  "kernelspec": {
   "display_name": "Python [conda env:spia2019]",
   "language": "python",
   "name": "conda-env-spia2019-py"
  },
  "language_info": {
   "codemirror_mode": {
    "name": "ipython",
    "version": 3
   },
   "file_extension": ".py",
   "mimetype": "text/x-python",
   "name": "python",
   "nbconvert_exporter": "python",
   "pygments_lexer": "ipython3",
   "version": "3.5.6"
  }
 },
 "nbformat": 4,
 "nbformat_minor": 2
}
