{
 "cells": [
  {
   "cell_type": "code",
   "execution_count": 1,
   "metadata": {},
   "outputs": [],
   "source": [
    "import os\n",
    "\n",
    "# change working directory, run this cell once\n",
    "os.chdir(\"../\")"
   ]
  },
  {
   "cell_type": "markdown",
   "metadata": {},
   "source": [
    "In this notebook, we will demonstrate an example on how to use the ``AutoCluster`` class for clustering."
   ]
  },
  {
   "cell_type": "markdown",
   "metadata": {},
   "source": [
    "### Import packages"
   ]
  },
  {
   "cell_type": "code",
   "execution_count": 10,
   "metadata": {},
   "outputs": [
    {
     "name": "stdout",
     "output_type": "stream",
     "text": [
      "The autoreload extension is already loaded. To reload it, use:\n",
      "  %reload_ext autoreload\n"
     ]
    }
   ],
   "source": [
    "# we will be using sample datasets in sklearn\n",
    "from sklearn import datasets\n",
    "from collections import Counter\n",
    "import pandas as pd\n",
    "\n",
    "# autocluster functionalities\n",
    "from autocluster import AutoCluster\n",
    "from evaluators import get_evaluator\n",
    "from utils.metafeatures import MetafeatureMapper\n",
    "\n",
    "%load_ext autoreload\n",
    "%autoreload 2"
   ]
  },
  {
   "cell_type": "markdown",
   "metadata": {},
   "source": [
    "### Load sklearn digits dataset"
   ]
  },
  {
   "cell_type": "code",
   "execution_count": 3,
   "metadata": {},
   "outputs": [
    {
     "data": {
      "text/html": [
       "<div>\n",
       "<style scoped>\n",
       "    .dataframe tbody tr th:only-of-type {\n",
       "        vertical-align: middle;\n",
       "    }\n",
       "\n",
       "    .dataframe tbody tr th {\n",
       "        vertical-align: top;\n",
       "    }\n",
       "\n",
       "    .dataframe thead th {\n",
       "        text-align: right;\n",
       "    }\n",
       "</style>\n",
       "<table border=\"1\" class=\"dataframe\">\n",
       "  <thead>\n",
       "    <tr style=\"text-align: right;\">\n",
       "      <th></th>\n",
       "      <th>0</th>\n",
       "      <th>1</th>\n",
       "      <th>2</th>\n",
       "      <th>3</th>\n",
       "      <th>4</th>\n",
       "      <th>5</th>\n",
       "      <th>6</th>\n",
       "      <th>7</th>\n",
       "      <th>8</th>\n",
       "      <th>9</th>\n",
       "      <th>...</th>\n",
       "      <th>54</th>\n",
       "      <th>55</th>\n",
       "      <th>56</th>\n",
       "      <th>57</th>\n",
       "      <th>58</th>\n",
       "      <th>59</th>\n",
       "      <th>60</th>\n",
       "      <th>61</th>\n",
       "      <th>62</th>\n",
       "      <th>63</th>\n",
       "    </tr>\n",
       "  </thead>\n",
       "  <tbody>\n",
       "    <tr>\n",
       "      <th>0</th>\n",
       "      <td>0.0</td>\n",
       "      <td>0.0</td>\n",
       "      <td>5.0</td>\n",
       "      <td>13.0</td>\n",
       "      <td>9.0</td>\n",
       "      <td>1.0</td>\n",
       "      <td>0.0</td>\n",
       "      <td>0.0</td>\n",
       "      <td>0.0</td>\n",
       "      <td>0.0</td>\n",
       "      <td>...</td>\n",
       "      <td>0.0</td>\n",
       "      <td>0.0</td>\n",
       "      <td>0.0</td>\n",
       "      <td>0.0</td>\n",
       "      <td>6.0</td>\n",
       "      <td>13.0</td>\n",
       "      <td>10.0</td>\n",
       "      <td>0.0</td>\n",
       "      <td>0.0</td>\n",
       "      <td>0.0</td>\n",
       "    </tr>\n",
       "    <tr>\n",
       "      <th>1</th>\n",
       "      <td>0.0</td>\n",
       "      <td>0.0</td>\n",
       "      <td>0.0</td>\n",
       "      <td>12.0</td>\n",
       "      <td>13.0</td>\n",
       "      <td>5.0</td>\n",
       "      <td>0.0</td>\n",
       "      <td>0.0</td>\n",
       "      <td>0.0</td>\n",
       "      <td>0.0</td>\n",
       "      <td>...</td>\n",
       "      <td>0.0</td>\n",
       "      <td>0.0</td>\n",
       "      <td>0.0</td>\n",
       "      <td>0.0</td>\n",
       "      <td>0.0</td>\n",
       "      <td>11.0</td>\n",
       "      <td>16.0</td>\n",
       "      <td>10.0</td>\n",
       "      <td>0.0</td>\n",
       "      <td>0.0</td>\n",
       "    </tr>\n",
       "    <tr>\n",
       "      <th>2</th>\n",
       "      <td>0.0</td>\n",
       "      <td>0.0</td>\n",
       "      <td>0.0</td>\n",
       "      <td>4.0</td>\n",
       "      <td>15.0</td>\n",
       "      <td>12.0</td>\n",
       "      <td>0.0</td>\n",
       "      <td>0.0</td>\n",
       "      <td>0.0</td>\n",
       "      <td>0.0</td>\n",
       "      <td>...</td>\n",
       "      <td>5.0</td>\n",
       "      <td>0.0</td>\n",
       "      <td>0.0</td>\n",
       "      <td>0.0</td>\n",
       "      <td>0.0</td>\n",
       "      <td>3.0</td>\n",
       "      <td>11.0</td>\n",
       "      <td>16.0</td>\n",
       "      <td>9.0</td>\n",
       "      <td>0.0</td>\n",
       "    </tr>\n",
       "    <tr>\n",
       "      <th>3</th>\n",
       "      <td>0.0</td>\n",
       "      <td>0.0</td>\n",
       "      <td>7.0</td>\n",
       "      <td>15.0</td>\n",
       "      <td>13.0</td>\n",
       "      <td>1.0</td>\n",
       "      <td>0.0</td>\n",
       "      <td>0.0</td>\n",
       "      <td>0.0</td>\n",
       "      <td>8.0</td>\n",
       "      <td>...</td>\n",
       "      <td>9.0</td>\n",
       "      <td>0.0</td>\n",
       "      <td>0.0</td>\n",
       "      <td>0.0</td>\n",
       "      <td>7.0</td>\n",
       "      <td>13.0</td>\n",
       "      <td>13.0</td>\n",
       "      <td>9.0</td>\n",
       "      <td>0.0</td>\n",
       "      <td>0.0</td>\n",
       "    </tr>\n",
       "    <tr>\n",
       "      <th>4</th>\n",
       "      <td>0.0</td>\n",
       "      <td>0.0</td>\n",
       "      <td>0.0</td>\n",
       "      <td>1.0</td>\n",
       "      <td>11.0</td>\n",
       "      <td>0.0</td>\n",
       "      <td>0.0</td>\n",
       "      <td>0.0</td>\n",
       "      <td>0.0</td>\n",
       "      <td>0.0</td>\n",
       "      <td>...</td>\n",
       "      <td>0.0</td>\n",
       "      <td>0.0</td>\n",
       "      <td>0.0</td>\n",
       "      <td>0.0</td>\n",
       "      <td>0.0</td>\n",
       "      <td>2.0</td>\n",
       "      <td>16.0</td>\n",
       "      <td>4.0</td>\n",
       "      <td>0.0</td>\n",
       "      <td>0.0</td>\n",
       "    </tr>\n",
       "  </tbody>\n",
       "</table>\n",
       "<p>5 rows × 64 columns</p>\n",
       "</div>"
      ],
      "text/plain": [
       "    0    1    2     3     4     5    6    7    8    9   ...   54   55   56  \\\n",
       "0  0.0  0.0  5.0  13.0   9.0   1.0  0.0  0.0  0.0  0.0  ...  0.0  0.0  0.0   \n",
       "1  0.0  0.0  0.0  12.0  13.0   5.0  0.0  0.0  0.0  0.0  ...  0.0  0.0  0.0   \n",
       "2  0.0  0.0  0.0   4.0  15.0  12.0  0.0  0.0  0.0  0.0  ...  5.0  0.0  0.0   \n",
       "3  0.0  0.0  7.0  15.0  13.0   1.0  0.0  0.0  0.0  8.0  ...  9.0  0.0  0.0   \n",
       "4  0.0  0.0  0.0   1.0  11.0   0.0  0.0  0.0  0.0  0.0  ...  0.0  0.0  0.0   \n",
       "\n",
       "    57   58    59    60    61   62   63  \n",
       "0  0.0  6.0  13.0  10.0   0.0  0.0  0.0  \n",
       "1  0.0  0.0  11.0  16.0  10.0  0.0  0.0  \n",
       "2  0.0  0.0   3.0  11.0  16.0  9.0  0.0  \n",
       "3  0.0  7.0  13.0  13.0   9.0  0.0  0.0  \n",
       "4  0.0  0.0   2.0  16.0   4.0  0.0  0.0  \n",
       "\n",
       "[5 rows x 64 columns]"
      ]
     },
     "execution_count": 3,
     "metadata": {},
     "output_type": "execute_result"
    }
   ],
   "source": [
    "digits_df = pd.DataFrame(datasets.load_digits()['data'])\n",
    "digits_df.head(5)"
   ]
  },
  {
   "cell_type": "markdown",
   "metadata": {},
   "source": [
    "- Note that we are converting the dataset from ``numpy`` format to ``pandas DataFrame`` format. \n",
    "- This is because the ``AutoCluster.fit()`` function only accepts ``DataFrame`` format as input.\n",
    "- There are 64 columns in this dataset, named ``0``, ``1``, ``2`` ... and so on. "
   ]
  },
  {
   "cell_type": "code",
   "execution_count": 4,
   "metadata": {},
   "outputs": [
    {
     "name": "stdout",
     "output_type": "stream",
     "text": [
      "Shape of this dataframe is (1797, 64)\n"
     ]
    }
   ],
   "source": [
    "print(\"Shape of this dataframe is {}\".format(digits_df.shape))"
   ]
  },
  {
   "cell_type": "markdown",
   "metadata": {},
   "source": [
    "### Finding an optimal clustering model using Bayesian Optimization (SMAC)"
   ]
  },
  {
   "cell_type": "code",
   "execution_count": 7,
   "metadata": {},
   "outputs": [
    {
     "name": "stdout",
     "output_type": "stream",
     "text": [
      "1419/1797 datapoints remaining after outlier removal\n",
      "Configuration space object:\n",
      "  Hyperparameters:\n",
      "    algorithm___FastICA, Type: Categorical, Choices: {parallel, deflation}, Default: parallel\n",
      "    algorithm___TruncatedSVD, Type: Categorical, Choices: {arpack, randomized}, Default: randomized\n",
      "    batch_size___IncrementalPCA, Type: UniformInteger, Range: [10, 1000], Default: 100\n",
      "    batch_size___MiniBatchKMeans, Type: UniformInteger, Range: [10, 1000], Default: 100\n",
      "    clustering_choice, Type: Categorical, Choices: {KMeans, GaussianMixture, MiniBatchKMeans}, Default: KMeans\n",
      "    covariance_type___GaussianMixture, Type: Categorical, Choices: {full, tied, diag, spherical}, Default: full\n",
      "    dim_reduction_choice, Type: Categorical, Choices: {PCA, IncrementalPCA, KernelPCA, FastICA, TruncatedSVD, NullModel}, Default: PCA\n",
      "    fun___FastICA, Type: Categorical, Choices: {logcosh, exp, cube}, Default: logcosh\n",
      "    init_params___GaussianMixture, Type: Categorical, Choices: {kmeans, random}, Default: kmeans\n",
      "    kernel___KernelPCA, Type: Categorical, Choices: {linear, poly, rbf, sigmoid, cosine}, Default: linear\n",
      "    n_clusters___KMeans, Type: UniformInteger, Range: [1, 80], Default: 5\n",
      "    n_clusters___MiniBatchKMeans, Type: UniformInteger, Range: [1, 80], Default: 10\n",
      "    n_components___FastICA, Type: Ordinal, Sequence: {2, 3}, Default: 2\n",
      "    n_components___GaussianMixture, Type: UniformInteger, Range: [1, 80], Default: 5\n",
      "    n_components___IncrementalPCA, Type: Ordinal, Sequence: {2, 3}, Default: 2\n",
      "    n_components___KernelPCA, Type: Ordinal, Sequence: {2, 3, 4, 5, 6, 7, 8, 9}, Default: 2\n",
      "    n_components___PCA, Type: Ordinal, Sequence: {2, 3}, Default: 2\n",
      "    n_components___TruncatedSVD, Type: Ordinal, Sequence: {2, 3, 4, 5, 6, 7, 8, 9}, Default: 2\n",
      "    random_state___NullModel, Type: Ordinal, Sequence: {0, 1}, Default: 1\n",
      "    svd_solver___PCA, Type: Categorical, Choices: {auto, full, arpack, randomized}, Default: auto\n",
      "    warm_start___GaussianMixture, Type: Categorical, Choices: {True, False}, Default: False\n",
      "    whiten___FastICA, Type: Categorical, Choices: {True, False}, Default: True\n",
      "    whiten___IncrementalPCA, Type: Categorical, Choices: {True, False}, Default: False\n",
      "    whiten___PCA, Type: Categorical, Choices: {True, False}, Default: False\n",
      "  Conditions:\n",
      "    algorithm___FastICA | dim_reduction_choice in {'FastICA'}\n",
      "    algorithm___TruncatedSVD | dim_reduction_choice in {'TruncatedSVD'}\n",
      "    batch_size___IncrementalPCA | dim_reduction_choice in {'IncrementalPCA'}\n",
      "    batch_size___MiniBatchKMeans | clustering_choice in {'MiniBatchKMeans'}\n",
      "    covariance_type___GaussianMixture | clustering_choice in {'GaussianMixture'}\n",
      "    fun___FastICA | dim_reduction_choice in {'FastICA'}\n",
      "    init_params___GaussianMixture | clustering_choice in {'GaussianMixture'}\n",
      "    kernel___KernelPCA | dim_reduction_choice in {'KernelPCA'}\n",
      "    n_clusters___KMeans | clustering_choice in {'KMeans'}\n",
      "    n_clusters___MiniBatchKMeans | clustering_choice in {'MiniBatchKMeans'}\n",
      "    n_components___FastICA | dim_reduction_choice in {'FastICA'}\n",
      "    n_components___GaussianMixture | clustering_choice in {'GaussianMixture'}\n",
      "    n_components___IncrementalPCA | dim_reduction_choice in {'IncrementalPCA'}\n",
      "    n_components___KernelPCA | dim_reduction_choice in {'KernelPCA'}\n",
      "    n_components___PCA | dim_reduction_choice in {'PCA'}\n",
      "    n_components___TruncatedSVD | dim_reduction_choice in {'TruncatedSVD'}\n",
      "    random_state___NullModel | dim_reduction_choice in {'NullModel'}\n",
      "    svd_solver___PCA | dim_reduction_choice in {'PCA'}\n",
      "    warm_start___GaussianMixture | clustering_choice in {'GaussianMixture'}\n",
      "    whiten___FastICA | dim_reduction_choice in {'FastICA'}\n",
      "    whiten___IncrementalPCA | dim_reduction_choice in {'IncrementalPCA'}\n",
      "    whiten___PCA | dim_reduction_choice in {'PCA'}\n",
      "\n",
      "Truncated n_evaluations: 50\n",
      "{'run_obj': 'quality', 'cs': Configuration space object:\n",
      "  Hyperparameters:\n",
      "    algorithm___FastICA, Type: Categorical, Choices: {parallel, deflation}, Default: parallel\n",
      "    algorithm___TruncatedSVD, Type: Categorical, Choices: {arpack, randomized}, Default: randomized\n",
      "    batch_size___IncrementalPCA, Type: UniformInteger, Range: [10, 1000], Default: 100\n",
      "    batch_size___MiniBatchKMeans, Type: UniformInteger, Range: [10, 1000], Default: 100\n",
      "    clustering_choice, Type: Categorical, Choices: {KMeans, GaussianMixture, MiniBatchKMeans}, Default: KMeans\n",
      "    covariance_type___GaussianMixture, Type: Categorical, Choices: {full, tied, diag, spherical}, Default: full\n",
      "    dim_reduction_choice, Type: Categorical, Choices: {PCA, IncrementalPCA, KernelPCA, FastICA, TruncatedSVD, NullModel}, Default: PCA\n",
      "    fun___FastICA, Type: Categorical, Choices: {logcosh, exp, cube}, Default: logcosh\n",
      "    init_params___GaussianMixture, Type: Categorical, Choices: {kmeans, random}, Default: kmeans\n",
      "    kernel___KernelPCA, Type: Categorical, Choices: {linear, poly, rbf, sigmoid, cosine}, Default: linear\n",
      "    n_clusters___KMeans, Type: UniformInteger, Range: [1, 80], Default: 5\n",
      "    n_clusters___MiniBatchKMeans, Type: UniformInteger, Range: [1, 80], Default: 10\n",
      "    n_components___FastICA, Type: Ordinal, Sequence: {2, 3}, Default: 2\n",
      "    n_components___GaussianMixture, Type: UniformInteger, Range: [1, 80], Default: 5\n",
      "    n_components___IncrementalPCA, Type: Ordinal, Sequence: {2, 3}, Default: 2\n",
      "    n_components___KernelPCA, Type: Ordinal, Sequence: {2, 3, 4, 5, 6, 7, 8, 9}, Default: 2\n",
      "    n_components___PCA, Type: Ordinal, Sequence: {2, 3}, Default: 2\n",
      "    n_components___TruncatedSVD, Type: Ordinal, Sequence: {2, 3, 4, 5, 6, 7, 8, 9}, Default: 2\n",
      "    random_state___NullModel, Type: Ordinal, Sequence: {0, 1}, Default: 1\n",
      "    svd_solver___PCA, Type: Categorical, Choices: {auto, full, arpack, randomized}, Default: auto\n",
      "    warm_start___GaussianMixture, Type: Categorical, Choices: {True, False}, Default: False\n",
      "    whiten___FastICA, Type: Categorical, Choices: {True, False}, Default: True\n",
      "    whiten___IncrementalPCA, Type: Categorical, Choices: {True, False}, Default: False\n",
      "    whiten___PCA, Type: Categorical, Choices: {True, False}, Default: False\n",
      "  Conditions:\n",
      "    algorithm___FastICA | dim_reduction_choice in {'FastICA'}\n",
      "    algorithm___TruncatedSVD | dim_reduction_choice in {'TruncatedSVD'}\n",
      "    batch_size___IncrementalPCA | dim_reduction_choice in {'IncrementalPCA'}\n",
      "    batch_size___MiniBatchKMeans | clustering_choice in {'MiniBatchKMeans'}\n",
      "    covariance_type___GaussianMixture | clustering_choice in {'GaussianMixture'}\n",
      "    fun___FastICA | dim_reduction_choice in {'FastICA'}\n",
      "    init_params___GaussianMixture | clustering_choice in {'GaussianMixture'}\n",
      "    kernel___KernelPCA | dim_reduction_choice in {'KernelPCA'}\n",
      "    n_clusters___KMeans | clustering_choice in {'KMeans'}\n",
      "    n_clusters___MiniBatchKMeans | clustering_choice in {'MiniBatchKMeans'}\n",
      "    n_components___FastICA | dim_reduction_choice in {'FastICA'}\n",
      "    n_components___GaussianMixture | clustering_choice in {'GaussianMixture'}\n",
      "    n_components___IncrementalPCA | dim_reduction_choice in {'IncrementalPCA'}\n",
      "    n_components___KernelPCA | dim_reduction_choice in {'KernelPCA'}\n",
      "    n_components___PCA | dim_reduction_choice in {'PCA'}\n",
      "    n_components___TruncatedSVD | dim_reduction_choice in {'TruncatedSVD'}\n",
      "    random_state___NullModel | dim_reduction_choice in {'NullModel'}\n",
      "    svd_solver___PCA | dim_reduction_choice in {'PCA'}\n",
      "    warm_start___GaussianMixture | clustering_choice in {'GaussianMixture'}\n",
      "    whiten___FastICA | dim_reduction_choice in {'FastICA'}\n",
      "    whiten___IncrementalPCA | dim_reduction_choice in {'IncrementalPCA'}\n",
      "    whiten___PCA | dim_reduction_choice in {'PCA'}\n",
      ", 'cutoff_time': 50, 'abort_on_first_run_crash': False, 'deterministic': 'true', 'output_dir': 'log//smac-2019-08-02_15-09-59-22512', 'runcount-limit': 50}\n",
      "Fitting configuration: \n",
      "{'clustering_choice': 'KMeans', 'svd_solver___PCA': 'auto', 'n_components___PCA': 2, 'n_clusters___KMeans': 5, 'dim_reduction_choice': 'PCA'}\n",
      "Score obtained by this configuration: 0.283164690925098\n",
      "Fitting configuration: \n",
      "{'clustering_choice': 'MiniBatchKMeans', 'n_clusters___MiniBatchKMeans': 77, 'dim_reduction_choice': 'NullModel', 'random_state___NullModel': 1, 'batch_size___MiniBatchKMeans': 939}\n",
      "Score obtained by this configuration: inf\n"
     ]
    },
    {
     "name": "stderr",
     "output_type": "stream",
     "text": [
      "WARNING:smac.tae.execute_func.ExecuteTAFuncDict:Target Algorithm returned NaN or inf as quality. Algorithm run is treated as CRASHED, cost is set to 2147483647.0 for quality scenarios. (Change value through \"cost_for_crash\"-option.)\n"
     ]
    },
    {
     "name": "stdout",
     "output_type": "stream",
     "text": [
      "Fitting configuration: \n",
      "{'n_components___FastICA': 3, 'fun___FastICA': 'logcosh', 'init_params___GaussianMixture': 'random', 'clustering_choice': 'GaussianMixture', 'n_components___GaussianMixture': 39, 'algorithm___FastICA': 'deflation', 'covariance_type___GaussianMixture': 'diag', 'dim_reduction_choice': 'FastICA'}\n",
      "Score obtained by this configuration: inf\n"
     ]
    },
    {
     "name": "stderr",
     "output_type": "stream",
     "text": [
      "WARNING:smac.tae.execute_func.ExecuteTAFuncDict:Target Algorithm returned NaN or inf as quality. Algorithm run is treated as CRASHED, cost is set to 2147483647.0 for quality scenarios. (Change value through \"cost_for_crash\"-option.)\n"
     ]
    },
    {
     "name": "stdout",
     "output_type": "stream",
     "text": [
      "Fitting configuration: \n",
      "{'init_params___GaussianMixture': 'kmeans', 'clustering_choice': 'GaussianMixture', 'n_components___GaussianMixture': 54, 'covariance_type___GaussianMixture': 'diag', 'warm_start___GaussianMixture': True, 'dim_reduction_choice': 'NullModel'}\n",
      "Score obtained by this configuration: inf\n"
     ]
    },
    {
     "name": "stderr",
     "output_type": "stream",
     "text": [
      "WARNING:smac.tae.execute_func.ExecuteTAFuncDict:Target Algorithm returned NaN or inf as quality. Algorithm run is treated as CRASHED, cost is set to 2147483647.0 for quality scenarios. (Change value through \"cost_for_crash\"-option.)\n"
     ]
    },
    {
     "name": "stdout",
     "output_type": "stream",
     "text": [
      "Fitting configuration: \n",
      "{'n_components___FastICA': 3, 'whiten___FastICA': True, 'fun___FastICA': 'exp', 'init_params___GaussianMixture': 'random', 'clustering_choice': 'GaussianMixture', 'n_components___GaussianMixture': 27, 'algorithm___FastICA': 'deflation', 'covariance_type___GaussianMixture': 'full', 'dim_reduction_choice': 'FastICA'}\n",
      "Score obtained by this configuration: inf\n"
     ]
    },
    {
     "name": "stderr",
     "output_type": "stream",
     "text": [
      "WARNING:smac.tae.execute_func.ExecuteTAFuncDict:Target Algorithm returned NaN or inf as quality. Algorithm run is treated as CRASHED, cost is set to 2147483647.0 for quality scenarios. (Change value through \"cost_for_crash\"-option.)\n"
     ]
    },
    {
     "name": "stdout",
     "output_type": "stream",
     "text": [
      "Fitting configuration: \n",
      "{'clustering_choice': 'KMeans', 'dim_reduction_choice': 'KernelPCA', 'kernel___KernelPCA': 'poly', 'n_clusters___KMeans': 41, 'n_components___KernelPCA': 7}\n",
      "Score obtained by this configuration: inf\n"
     ]
    },
    {
     "name": "stderr",
     "output_type": "stream",
     "text": [
      "WARNING:smac.tae.execute_func.ExecuteTAFuncDict:Target Algorithm returned NaN or inf as quality. Algorithm run is treated as CRASHED, cost is set to 2147483647.0 for quality scenarios. (Change value through \"cost_for_crash\"-option.)\n"
     ]
    },
    {
     "name": "stdout",
     "output_type": "stream",
     "text": [
      "Fitting configuration: \n",
      "{'clustering_choice': 'MiniBatchKMeans', 'n_components___PCA': 2, 'batch_size___MiniBatchKMeans': 709, 'n_clusters___MiniBatchKMeans': 16, 'svd_solver___PCA': 'full', 'whiten___PCA': True, 'dim_reduction_choice': 'PCA'}\n",
      "Score obtained by this configuration: inf\n"
     ]
    },
    {
     "name": "stderr",
     "output_type": "stream",
     "text": [
      "WARNING:smac.tae.execute_func.ExecuteTAFuncDict:Target Algorithm returned NaN or inf as quality. Algorithm run is treated as CRASHED, cost is set to 2147483647.0 for quality scenarios. (Change value through \"cost_for_crash\"-option.)\n"
     ]
    },
    {
     "name": "stdout",
     "output_type": "stream",
     "text": [
      "Fitting configuration: \n",
      "{'clustering_choice': 'MiniBatchKMeans', 'n_components___PCA': 3, 'batch_size___MiniBatchKMeans': 351, 'n_clusters___MiniBatchKMeans': 49, 'svd_solver___PCA': 'arpack', 'whiten___PCA': True, 'dim_reduction_choice': 'PCA'}\n",
      "Score obtained by this configuration: inf\n"
     ]
    },
    {
     "name": "stderr",
     "output_type": "stream",
     "text": [
      "WARNING:smac.tae.execute_func.ExecuteTAFuncDict:Target Algorithm returned NaN or inf as quality. Algorithm run is treated as CRASHED, cost is set to 2147483647.0 for quality scenarios. (Change value through \"cost_for_crash\"-option.)\n"
     ]
    },
    {
     "name": "stdout",
     "output_type": "stream",
     "text": [
      "Fitting configuration: \n",
      "{'clustering_choice': 'MiniBatchKMeans', 'kernel___KernelPCA': 'poly', 'batch_size___MiniBatchKMeans': 349, 'n_clusters___MiniBatchKMeans': 74, 'dim_reduction_choice': 'KernelPCA', 'n_components___KernelPCA': 4}\n",
      "Score obtained by this configuration: inf\n"
     ]
    },
    {
     "name": "stderr",
     "output_type": "stream",
     "text": [
      "WARNING:smac.tae.execute_func.ExecuteTAFuncDict:Target Algorithm returned NaN or inf as quality. Algorithm run is treated as CRASHED, cost is set to 2147483647.0 for quality scenarios. (Change value through \"cost_for_crash\"-option.)\n"
     ]
    },
    {
     "name": "stdout",
     "output_type": "stream",
     "text": [
      "Fitting configuration: \n",
      "{'covariance_type___GaussianMixture': 'tied', 'init_params___GaussianMixture': 'kmeans', 'clustering_choice': 'GaussianMixture', 'n_components___GaussianMixture': 67, 'dim_reduction_choice': 'TruncatedSVD', 'algorithm___TruncatedSVD': 'arpack', 'n_components___TruncatedSVD': 5}\n",
      "Score obtained by this configuration: inf\n"
     ]
    },
    {
     "name": "stderr",
     "output_type": "stream",
     "text": [
      "WARNING:smac.tae.execute_func.ExecuteTAFuncDict:Target Algorithm returned NaN or inf as quality. Algorithm run is treated as CRASHED, cost is set to 2147483647.0 for quality scenarios. (Change value through \"cost_for_crash\"-option.)\n"
     ]
    },
    {
     "name": "stdout",
     "output_type": "stream",
     "text": [
      "Fitting configuration: \n",
      "{'covariance_type___GaussianMixture': 'diag', 'init_params___GaussianMixture': 'kmeans', 'clustering_choice': 'GaussianMixture', 'n_components___GaussianMixture': 29, 'dim_reduction_choice': 'TruncatedSVD', 'algorithm___TruncatedSVD': 'arpack', 'n_components___TruncatedSVD': 4}\n",
      "Score obtained by this configuration: inf\n"
     ]
    },
    {
     "name": "stderr",
     "output_type": "stream",
     "text": [
      "WARNING:smac.tae.execute_func.ExecuteTAFuncDict:Target Algorithm returned NaN or inf as quality. Algorithm run is treated as CRASHED, cost is set to 2147483647.0 for quality scenarios. (Change value through \"cost_for_crash\"-option.)\n"
     ]
    },
    {
     "name": "stdout",
     "output_type": "stream",
     "text": [
      "Fitting configuration: \n",
      "{'covariance_type___GaussianMixture': 'full', 'n_components___PCA': 3, 'init_params___GaussianMixture': 'kmeans', 'n_components___GaussianMixture': 57, 'clustering_choice': 'GaussianMixture', 'svd_solver___PCA': 'auto', 'whiten___PCA': True, 'warm_start___GaussianMixture': True, 'dim_reduction_choice': 'PCA'}\n",
      "Score obtained by this configuration: inf\n"
     ]
    },
    {
     "name": "stderr",
     "output_type": "stream",
     "text": [
      "WARNING:smac.tae.execute_func.ExecuteTAFuncDict:Target Algorithm returned NaN or inf as quality. Algorithm run is treated as CRASHED, cost is set to 2147483647.0 for quality scenarios. (Change value through \"cost_for_crash\"-option.)\n"
     ]
    },
    {
     "name": "stdout",
     "output_type": "stream",
     "text": [
      "Fitting configuration: \n",
      "{'n_clusters___KMeans': 24, 'n_components___PCA': 3, 'clustering_choice': 'KMeans', 'svd_solver___PCA': 'randomized', 'whiten___PCA': True, 'dim_reduction_choice': 'PCA'}\n",
      "Score obtained by this configuration: inf\n"
     ]
    },
    {
     "name": "stderr",
     "output_type": "stream",
     "text": [
      "WARNING:smac.tae.execute_func.ExecuteTAFuncDict:Target Algorithm returned NaN or inf as quality. Algorithm run is treated as CRASHED, cost is set to 2147483647.0 for quality scenarios. (Change value through \"cost_for_crash\"-option.)\n"
     ]
    },
    {
     "name": "stdout",
     "output_type": "stream",
     "text": [
      "Fitting configuration: \n",
      "{'n_components___PCA': 3, 'init_params___GaussianMixture': 'kmeans', 'n_components___GaussianMixture': 46, 'clustering_choice': 'GaussianMixture', 'svd_solver___PCA': 'arpack', 'covariance_type___GaussianMixture': 'tied', 'dim_reduction_choice': 'PCA'}\n",
      "Score obtained by this configuration: inf\n"
     ]
    },
    {
     "name": "stderr",
     "output_type": "stream",
     "text": [
      "WARNING:smac.tae.execute_func.ExecuteTAFuncDict:Target Algorithm returned NaN or inf as quality. Algorithm run is treated as CRASHED, cost is set to 2147483647.0 for quality scenarios. (Change value through \"cost_for_crash\"-option.)\n"
     ]
    },
    {
     "name": "stdout",
     "output_type": "stream",
     "text": [
      "Fitting configuration: \n",
      "{'n_components___IncrementalPCA': 3, 'batch_size___IncrementalPCA': 308, 'init_params___GaussianMixture': 'random', 'clustering_choice': 'GaussianMixture', 'n_components___GaussianMixture': 65, 'covariance_type___GaussianMixture': 'tied', 'warm_start___GaussianMixture': True, 'dim_reduction_choice': 'IncrementalPCA'}\n",
      "Score obtained by this configuration: inf\n"
     ]
    },
    {
     "name": "stderr",
     "output_type": "stream",
     "text": [
      "WARNING:smac.tae.execute_func.ExecuteTAFuncDict:Target Algorithm returned NaN or inf as quality. Algorithm run is treated as CRASHED, cost is set to 2147483647.0 for quality scenarios. (Change value through \"cost_for_crash\"-option.)\n"
     ]
    },
    {
     "name": "stdout",
     "output_type": "stream",
     "text": [
      "Fitting configuration: \n",
      "{'n_components___PCA': 2, 'init_params___GaussianMixture': 'random', 'n_components___GaussianMixture': 73, 'clustering_choice': 'GaussianMixture', 'svd_solver___PCA': 'arpack', 'covariance_type___GaussianMixture': 'tied', 'dim_reduction_choice': 'PCA'}\n",
      "Score obtained by this configuration: inf\n"
     ]
    },
    {
     "name": "stderr",
     "output_type": "stream",
     "text": [
      "WARNING:smac.tae.execute_func.ExecuteTAFuncDict:Target Algorithm returned NaN or inf as quality. Algorithm run is treated as CRASHED, cost is set to 2147483647.0 for quality scenarios. (Change value through \"cost_for_crash\"-option.)\n"
     ]
    },
    {
     "name": "stdout",
     "output_type": "stream",
     "text": [
      "Fitting configuration: \n",
      "{'n_clusters___KMeans': 79, 'n_components___PCA': 3, 'clustering_choice': 'KMeans', 'svd_solver___PCA': 'auto', 'whiten___PCA': True, 'dim_reduction_choice': 'PCA'}\n",
      "Score obtained by this configuration: inf\n"
     ]
    },
    {
     "name": "stderr",
     "output_type": "stream",
     "text": [
      "WARNING:smac.tae.execute_func.ExecuteTAFuncDict:Target Algorithm returned NaN or inf as quality. Algorithm run is treated as CRASHED, cost is set to 2147483647.0 for quality scenarios. (Change value through \"cost_for_crash\"-option.)\n"
     ]
    },
    {
     "name": "stdout",
     "output_type": "stream",
     "text": [
      "Fitting configuration: \n",
      "{'clustering_choice': 'MiniBatchKMeans', 'n_clusters___MiniBatchKMeans': 11, 'dim_reduction_choice': 'NullModel', 'batch_size___MiniBatchKMeans': 176}\n",
      "Score obtained by this configuration: inf\n"
     ]
    },
    {
     "name": "stderr",
     "output_type": "stream",
     "text": [
      "WARNING:smac.tae.execute_func.ExecuteTAFuncDict:Target Algorithm returned NaN or inf as quality. Algorithm run is treated as CRASHED, cost is set to 2147483647.0 for quality scenarios. (Change value through \"cost_for_crash\"-option.)\n"
     ]
    },
    {
     "name": "stdout",
     "output_type": "stream",
     "text": [
      "Fitting configuration: \n",
      "{'clustering_choice': 'MiniBatchKMeans', 'n_components___IncrementalPCA': 2, 'batch_size___IncrementalPCA': 645, 'batch_size___MiniBatchKMeans': 672, 'n_clusters___MiniBatchKMeans': 37, 'whiten___IncrementalPCA': True, 'dim_reduction_choice': 'IncrementalPCA'}\n",
      "Score obtained by this configuration: inf\n"
     ]
    },
    {
     "name": "stderr",
     "output_type": "stream",
     "text": [
      "WARNING:smac.tae.execute_func.ExecuteTAFuncDict:Target Algorithm returned NaN or inf as quality. Algorithm run is treated as CRASHED, cost is set to 2147483647.0 for quality scenarios. (Change value through \"cost_for_crash\"-option.)\n"
     ]
    },
    {
     "name": "stdout",
     "output_type": "stream",
     "text": [
      "Fitting configuration: \n",
      "{'n_components___PCA': 3, 'init_params___GaussianMixture': 'kmeans', 'n_components___GaussianMixture': 78, 'clustering_choice': 'GaussianMixture', 'svd_solver___PCA': 'auto', 'covariance_type___GaussianMixture': 'tied', 'warm_start___GaussianMixture': True, 'dim_reduction_choice': 'PCA'}\n",
      "Score obtained by this configuration: inf\n"
     ]
    },
    {
     "name": "stderr",
     "output_type": "stream",
     "text": [
      "WARNING:smac.tae.execute_func.ExecuteTAFuncDict:Target Algorithm returned NaN or inf as quality. Algorithm run is treated as CRASHED, cost is set to 2147483647.0 for quality scenarios. (Change value through \"cost_for_crash\"-option.)\n"
     ]
    },
    {
     "name": "stdout",
     "output_type": "stream",
     "text": [
      "Fitting configuration: \n",
      "{'n_clusters___KMeans': 45, 'n_components___PCA': 2, 'clustering_choice': 'KMeans', 'svd_solver___PCA': 'auto', 'whiten___PCA': True, 'dim_reduction_choice': 'PCA'}\n",
      "Score obtained by this configuration: inf\n"
     ]
    },
    {
     "name": "stderr",
     "output_type": "stream",
     "text": [
      "WARNING:smac.tae.execute_func.ExecuteTAFuncDict:Target Algorithm returned NaN or inf as quality. Algorithm run is treated as CRASHED, cost is set to 2147483647.0 for quality scenarios. (Change value through \"cost_for_crash\"-option.)\n"
     ]
    },
    {
     "name": "stdout",
     "output_type": "stream",
     "text": [
      "Fitting configuration: \n",
      "{'n_components___FastICA': 3, 'whiten___FastICA': True, 'fun___FastICA': 'logcosh', 'n_clusters___KMeans': 8, 'clustering_choice': 'KMeans', 'algorithm___FastICA': 'deflation', 'dim_reduction_choice': 'FastICA'}\n",
      "Score obtained by this configuration: 0.31488339798101345\n",
      "Fitting configuration: \n",
      "{'clustering_choice': 'KMeans', 'n_clusters___KMeans': 26, 'dim_reduction_choice': 'NullModel'}\n",
      "Score obtained by this configuration: inf\n"
     ]
    },
    {
     "name": "stderr",
     "output_type": "stream",
     "text": [
      "WARNING:smac.tae.execute_func.ExecuteTAFuncDict:Target Algorithm returned NaN or inf as quality. Algorithm run is treated as CRASHED, cost is set to 2147483647.0 for quality scenarios. (Change value through \"cost_for_crash\"-option.)\n"
     ]
    },
    {
     "name": "stdout",
     "output_type": "stream",
     "text": [
      "Fitting configuration: \n",
      "{'covariance_type___GaussianMixture': 'full', 'n_components___PCA': 2, 'init_params___GaussianMixture': 'kmeans', 'n_components___GaussianMixture': 14, 'clustering_choice': 'GaussianMixture', 'svd_solver___PCA': 'arpack', 'whiten___PCA': True, 'warm_start___GaussianMixture': True, 'dim_reduction_choice': 'PCA'}\n",
      "Score obtained by this configuration: inf\n"
     ]
    },
    {
     "name": "stderr",
     "output_type": "stream",
     "text": [
      "WARNING:smac.tae.execute_func.ExecuteTAFuncDict:Target Algorithm returned NaN or inf as quality. Algorithm run is treated as CRASHED, cost is set to 2147483647.0 for quality scenarios. (Change value through \"cost_for_crash\"-option.)\n"
     ]
    },
    {
     "name": "stdout",
     "output_type": "stream",
     "text": [
      "Fitting configuration: \n",
      "{'n_components___FastICA': 3, 'whiten___FastICA': True, 'fun___FastICA': 'logcosh', 'n_clusters___KMeans': 28, 'clustering_choice': 'KMeans', 'algorithm___FastICA': 'deflation', 'dim_reduction_choice': 'FastICA'}\n",
      "Score obtained by this configuration: inf\n"
     ]
    },
    {
     "name": "stderr",
     "output_type": "stream",
     "text": [
      "WARNING:smac.tae.execute_func.ExecuteTAFuncDict:Target Algorithm returned NaN or inf as quality. Algorithm run is treated as CRASHED, cost is set to 2147483647.0 for quality scenarios. (Change value through \"cost_for_crash\"-option.)\n"
     ]
    },
    {
     "name": "stdout",
     "output_type": "stream",
     "text": [
      "Fitting configuration: \n",
      "{'clustering_choice': 'KMeans', 'dim_reduction_choice': 'KernelPCA', 'kernel___KernelPCA': 'poly', 'n_clusters___KMeans': 11, 'n_components___KernelPCA': 9}\n",
      "Score obtained by this configuration: inf\n"
     ]
    },
    {
     "name": "stderr",
     "output_type": "stream",
     "text": [
      "WARNING:smac.tae.execute_func.ExecuteTAFuncDict:Target Algorithm returned NaN or inf as quality. Algorithm run is treated as CRASHED, cost is set to 2147483647.0 for quality scenarios. (Change value through \"cost_for_crash\"-option.)\n"
     ]
    },
    {
     "name": "stdout",
     "output_type": "stream",
     "text": [
      "Fitting configuration: \n",
      "{'n_components___FastICA': 3, 'fun___FastICA': 'exp', 'n_clusters___KMeans': 54, 'clustering_choice': 'KMeans', 'algorithm___FastICA': 'parallel', 'dim_reduction_choice': 'FastICA'}\n",
      "Score obtained by this configuration: inf\n"
     ]
    },
    {
     "name": "stderr",
     "output_type": "stream",
     "text": [
      "WARNING:smac.tae.execute_func.ExecuteTAFuncDict:Target Algorithm returned NaN or inf as quality. Algorithm run is treated as CRASHED, cost is set to 2147483647.0 for quality scenarios. (Change value through \"cost_for_crash\"-option.)\n"
     ]
    },
    {
     "name": "stdout",
     "output_type": "stream",
     "text": [
      "Fitting configuration: \n",
      "{'clustering_choice': 'KMeans', 'dim_reduction_choice': 'TruncatedSVD', 'n_clusters___KMeans': 37, 'algorithm___TruncatedSVD': 'arpack', 'n_components___TruncatedSVD': 3}\n",
      "Score obtained by this configuration: inf\n"
     ]
    },
    {
     "name": "stderr",
     "output_type": "stream",
     "text": [
      "WARNING:smac.tae.execute_func.ExecuteTAFuncDict:Target Algorithm returned NaN or inf as quality. Algorithm run is treated as CRASHED, cost is set to 2147483647.0 for quality scenarios. (Change value through \"cost_for_crash\"-option.)\n"
     ]
    },
    {
     "name": "stdout",
     "output_type": "stream",
     "text": [
      "Fitting configuration: \n",
      "{'n_clusters___KMeans': 71, 'n_components___PCA': 2, 'clustering_choice': 'KMeans', 'svd_solver___PCA': 'auto', 'whiten___PCA': True, 'dim_reduction_choice': 'PCA'}\n",
      "Score obtained by this configuration: inf\n"
     ]
    },
    {
     "name": "stderr",
     "output_type": "stream",
     "text": [
      "WARNING:smac.tae.execute_func.ExecuteTAFuncDict:Target Algorithm returned NaN or inf as quality. Algorithm run is treated as CRASHED, cost is set to 2147483647.0 for quality scenarios. (Change value through \"cost_for_crash\"-option.)\n"
     ]
    },
    {
     "name": "stdout",
     "output_type": "stream",
     "text": [
      "Fitting configuration: \n",
      "{'n_clusters___KMeans': 77, 'n_components___PCA': 2, 'clustering_choice': 'KMeans', 'svd_solver___PCA': 'randomized', 'whiten___PCA': True, 'dim_reduction_choice': 'PCA'}\n",
      "Score obtained by this configuration: inf\n"
     ]
    },
    {
     "name": "stderr",
     "output_type": "stream",
     "text": [
      "WARNING:smac.tae.execute_func.ExecuteTAFuncDict:Target Algorithm returned NaN or inf as quality. Algorithm run is treated as CRASHED, cost is set to 2147483647.0 for quality scenarios. (Change value through \"cost_for_crash\"-option.)\n"
     ]
    },
    {
     "name": "stdout",
     "output_type": "stream",
     "text": [
      "Fitting configuration: \n",
      "{'n_clusters___KMeans': 12, 'n_components___PCA': 2, 'clustering_choice': 'KMeans', 'svd_solver___PCA': 'auto', 'whiten___PCA': True, 'dim_reduction_choice': 'PCA'}\n",
      "Score obtained by this configuration: inf\n"
     ]
    },
    {
     "name": "stderr",
     "output_type": "stream",
     "text": [
      "WARNING:smac.tae.execute_func.ExecuteTAFuncDict:Target Algorithm returned NaN or inf as quality. Algorithm run is treated as CRASHED, cost is set to 2147483647.0 for quality scenarios. (Change value through \"cost_for_crash\"-option.)\n"
     ]
    },
    {
     "name": "stdout",
     "output_type": "stream",
     "text": [
      "Fitting configuration: \n",
      "{'n_components___FastICA': 3, 'fun___FastICA': 'logcosh', 'n_clusters___KMeans': 9, 'clustering_choice': 'KMeans', 'algorithm___FastICA': 'deflation', 'dim_reduction_choice': 'FastICA'}\n",
      "Score obtained by this configuration: inf\n"
     ]
    },
    {
     "name": "stderr",
     "output_type": "stream",
     "text": [
      "WARNING:smac.tae.execute_func.ExecuteTAFuncDict:Target Algorithm returned NaN or inf as quality. Algorithm run is treated as CRASHED, cost is set to 2147483647.0 for quality scenarios. (Change value through \"cost_for_crash\"-option.)\n"
     ]
    },
    {
     "name": "stdout",
     "output_type": "stream",
     "text": [
      "Fitting configuration: \n",
      "{'n_components___FastICA': 3, 'fun___FastICA': 'exp', 'n_clusters___KMeans': 11, 'clustering_choice': 'KMeans', 'algorithm___FastICA': 'deflation', 'dim_reduction_choice': 'FastICA'}\n",
      "Score obtained by this configuration: inf\n"
     ]
    },
    {
     "name": "stderr",
     "output_type": "stream",
     "text": [
      "WARNING:smac.tae.execute_func.ExecuteTAFuncDict:Target Algorithm returned NaN or inf as quality. Algorithm run is treated as CRASHED, cost is set to 2147483647.0 for quality scenarios. (Change value through \"cost_for_crash\"-option.)\n"
     ]
    },
    {
     "name": "stdout",
     "output_type": "stream",
     "text": [
      "Fitting configuration: \n",
      "{'clustering_choice': 'KMeans', 'svd_solver___PCA': 'arpack', 'n_components___PCA': 3, 'n_clusters___KMeans': 5, 'dim_reduction_choice': 'PCA'}\n",
      "Score obtained by this configuration: 0.3319403552025054\n",
      "Fitting configuration: \n",
      "{'n_components___FastICA': 3, 'whiten___FastICA': True, 'fun___FastICA': 'logcosh', 'init_params___GaussianMixture': 'kmeans', 'clustering_choice': 'GaussianMixture', 'n_components___GaussianMixture': 1, 'algorithm___FastICA': 'parallel', 'covariance_type___GaussianMixture': 'tied', 'warm_start___GaussianMixture': True, 'dim_reduction_choice': 'FastICA'}\n",
      "Score obtained by this configuration: inf\n"
     ]
    },
    {
     "name": "stderr",
     "output_type": "stream",
     "text": [
      "WARNING:smac.tae.execute_func.ExecuteTAFuncDict:Target Algorithm returned NaN or inf as quality. Algorithm run is treated as CRASHED, cost is set to 2147483647.0 for quality scenarios. (Change value through \"cost_for_crash\"-option.)\n"
     ]
    },
    {
     "name": "stdout",
     "output_type": "stream",
     "text": [
      "Fitting configuration: \n",
      "{'n_components___IncrementalPCA': 3, 'batch_size___IncrementalPCA': 514, 'init_params___GaussianMixture': 'random', 'clustering_choice': 'GaussianMixture', 'n_components___GaussianMixture': 31, 'covariance_type___GaussianMixture': 'spherical', 'dim_reduction_choice': 'IncrementalPCA'}\n",
      "Score obtained by this configuration: inf\n"
     ]
    },
    {
     "name": "stderr",
     "output_type": "stream",
     "text": [
      "WARNING:smac.tae.execute_func.ExecuteTAFuncDict:Target Algorithm returned NaN or inf as quality. Algorithm run is treated as CRASHED, cost is set to 2147483647.0 for quality scenarios. (Change value through \"cost_for_crash\"-option.)\n"
     ]
    },
    {
     "name": "stdout",
     "output_type": "stream",
     "text": [
      "Fitting configuration: \n",
      "{'clustering_choice': 'KMeans', 'svd_solver___PCA': 'randomized', 'n_components___PCA': 3, 'n_clusters___KMeans': 5, 'dim_reduction_choice': 'PCA'}\n",
      "Score obtained by this configuration: 0.33436661104362164\n",
      "Fitting configuration: \n",
      "{'covariance_type___GaussianMixture': 'diag', 'init_params___GaussianMixture': 'kmeans', 'clustering_choice': 'GaussianMixture', 'n_components___GaussianMixture': 26, 'dim_reduction_choice': 'TruncatedSVD', 'algorithm___TruncatedSVD': 'arpack', 'n_components___TruncatedSVD': 4}\n",
      "Score obtained by this configuration: inf\n"
     ]
    },
    {
     "name": "stderr",
     "output_type": "stream",
     "text": [
      "WARNING:smac.tae.execute_func.ExecuteTAFuncDict:Target Algorithm returned NaN or inf as quality. Algorithm run is treated as CRASHED, cost is set to 2147483647.0 for quality scenarios. (Change value through \"cost_for_crash\"-option.)\n"
     ]
    },
    {
     "name": "stdout",
     "output_type": "stream",
     "text": [
      "Fitting configuration: \n",
      "{'clustering_choice': 'MiniBatchKMeans', 'batch_size___MiniBatchKMeans': 609, 'n_clusters___MiniBatchKMeans': 1, 'dim_reduction_choice': 'TruncatedSVD', 'algorithm___TruncatedSVD': 'randomized', 'n_components___TruncatedSVD': 7}\n",
      "Score obtained by this configuration: inf\n"
     ]
    },
    {
     "name": "stderr",
     "output_type": "stream",
     "text": [
      "WARNING:smac.tae.execute_func.ExecuteTAFuncDict:Target Algorithm returned NaN or inf as quality. Algorithm run is treated as CRASHED, cost is set to 2147483647.0 for quality scenarios. (Change value through \"cost_for_crash\"-option.)\n"
     ]
    },
    {
     "name": "stdout",
     "output_type": "stream",
     "text": [
      "Fitting configuration: \n",
      "{'n_clusters___KMeans': 8, 'n_components___PCA': 3, 'clustering_choice': 'KMeans', 'svd_solver___PCA': 'randomized', 'whiten___PCA': True, 'dim_reduction_choice': 'PCA'}\n",
      "Score obtained by this configuration: 0.31476766377412746\n",
      "Fitting configuration: \n",
      "{'n_clusters___KMeans': 7, 'n_components___PCA': 3, 'clustering_choice': 'KMeans', 'svd_solver___PCA': 'arpack', 'whiten___PCA': True, 'dim_reduction_choice': 'PCA'}\n",
      "Score obtained by this configuration: 0.31462246889738205\n",
      "Fitting configuration: \n",
      "{'clustering_choice': 'MiniBatchKMeans', 'batch_size___MiniBatchKMeans': 635, 'n_clusters___MiniBatchKMeans': 8, 'dim_reduction_choice': 'TruncatedSVD', 'algorithm___TruncatedSVD': 'randomized', 'n_components___TruncatedSVD': 3}\n",
      "Score obtained by this configuration: inf\n"
     ]
    },
    {
     "name": "stderr",
     "output_type": "stream",
     "text": [
      "WARNING:smac.tae.execute_func.ExecuteTAFuncDict:Target Algorithm returned NaN or inf as quality. Algorithm run is treated as CRASHED, cost is set to 2147483647.0 for quality scenarios. (Change value through \"cost_for_crash\"-option.)\n"
     ]
    },
    {
     "name": "stdout",
     "output_type": "stream",
     "text": [
      "Fitting configuration: \n",
      "{'clustering_choice': 'MiniBatchKMeans', 'n_components___IncrementalPCA': 2, 'batch_size___IncrementalPCA': 22, 'batch_size___MiniBatchKMeans': 916, 'n_clusters___MiniBatchKMeans': 38, 'dim_reduction_choice': 'IncrementalPCA'}\n",
      "Score obtained by this configuration: inf\n"
     ]
    },
    {
     "name": "stderr",
     "output_type": "stream",
     "text": [
      "WARNING:smac.tae.execute_func.ExecuteTAFuncDict:Target Algorithm returned NaN or inf as quality. Algorithm run is treated as CRASHED, cost is set to 2147483647.0 for quality scenarios. (Change value through \"cost_for_crash\"-option.)\n"
     ]
    },
    {
     "name": "stdout",
     "output_type": "stream",
     "text": [
      "Fitting configuration: \n",
      "{'n_clusters___KMeans': 8, 'n_components___PCA': 2, 'clustering_choice': 'KMeans', 'svd_solver___PCA': 'randomized', 'whiten___PCA': True, 'dim_reduction_choice': 'PCA'}\n",
      "Score obtained by this configuration: 0.301662285242863\n",
      "Fitting configuration: \n",
      "{'n_clusters___KMeans': 1, 'n_components___PCA': 2, 'clustering_choice': 'KMeans', 'svd_solver___PCA': 'randomized', 'whiten___PCA': True, 'dim_reduction_choice': 'PCA'}\n",
      "Score obtained by this configuration: inf\n"
     ]
    },
    {
     "name": "stderr",
     "output_type": "stream",
     "text": [
      "WARNING:smac.tae.execute_func.ExecuteTAFuncDict:Target Algorithm returned NaN or inf as quality. Algorithm run is treated as CRASHED, cost is set to 2147483647.0 for quality scenarios. (Change value through \"cost_for_crash\"-option.)\n"
     ]
    },
    {
     "name": "stdout",
     "output_type": "stream",
     "text": [
      "Fitting configuration: \n",
      "{'n_clusters___KMeans': 9, 'n_components___PCA': 2, 'clustering_choice': 'KMeans', 'svd_solver___PCA': 'randomized', 'whiten___PCA': True, 'dim_reduction_choice': 'PCA'}\n",
      "Score obtained by this configuration: 0.3023571497067986\n",
      "Fitting configuration: \n",
      "{'clustering_choice': 'KMeans', 'svd_solver___PCA': 'full', 'n_components___PCA': 2, 'n_clusters___KMeans': 65, 'dim_reduction_choice': 'PCA'}\n",
      "Score obtained by this configuration: inf\n"
     ]
    },
    {
     "name": "stderr",
     "output_type": "stream",
     "text": [
      "WARNING:smac.tae.execute_func.ExecuteTAFuncDict:Target Algorithm returned NaN or inf as quality. Algorithm run is treated as CRASHED, cost is set to 2147483647.0 for quality scenarios. (Change value through \"cost_for_crash\"-option.)\n"
     ]
    },
    {
     "name": "stdout",
     "output_type": "stream",
     "text": [
      "Fitting configuration: \n",
      "{'n_clusters___KMeans': 7, 'n_components___PCA': 2, 'clustering_choice': 'KMeans', 'svd_solver___PCA': 'arpack', 'whiten___PCA': True, 'dim_reduction_choice': 'PCA'}\n",
      "Score obtained by this configuration: 0.2911597541560863\n",
      "Fitting configuration: \n",
      "{'n_clusters___KMeans': 6, 'n_components___PCA': 2, 'clustering_choice': 'KMeans', 'svd_solver___PCA': 'arpack', 'whiten___PCA': True, 'dim_reduction_choice': 'PCA'}\n",
      "Score obtained by this configuration: 0.291837913884426\n",
      "Fitting configuration: \n",
      "{'n_components___IncrementalPCA': 3, 'batch_size___IncrementalPCA': 189, 'init_params___GaussianMixture': 'random', 'whiten___IncrementalPCA': True, 'clustering_choice': 'GaussianMixture', 'n_components___GaussianMixture': 61, 'covariance_type___GaussianMixture': 'diag', 'warm_start___GaussianMixture': True, 'dim_reduction_choice': 'IncrementalPCA'}\n",
      "Score obtained by this configuration: inf\n"
     ]
    },
    {
     "name": "stderr",
     "output_type": "stream",
     "text": [
      "WARNING:smac.tae.execute_func.ExecuteTAFuncDict:Target Algorithm returned NaN or inf as quality. Algorithm run is treated as CRASHED, cost is set to 2147483647.0 for quality scenarios. (Change value through \"cost_for_crash\"-option.)\n"
     ]
    },
    {
     "name": "stdout",
     "output_type": "stream",
     "text": [
      "Optimization is complete.\n",
      "Took 109.43 seconds.\n",
      "The optimal configuration is \n",
      "Configuration:\n",
      "  clustering_choice, Value: 'KMeans'\n",
      "  dim_reduction_choice, Value: 'PCA'\n",
      "  n_clusters___KMeans, Value: 5\n",
      "  n_components___PCA, Value: 2\n",
      "  svd_solver___PCA, Value: 'auto'\n",
      "  whiten___PCA, Value: False\n",
      "\n"
     ]
    }
   ],
   "source": [
    "cluster = AutoCluster()\n",
    "fit_params = {\n",
    "    \"df\": digits_df, \n",
    "    \"cluster_alg_ls\": [\n",
    "        'KMeans', 'GaussianMixture', 'MiniBatchKMeans'\n",
    "    ], \n",
    "    \"dim_reduction_alg_ls\": [\n",
    "        'PCA', 'IncrementalPCA', \n",
    "        'KernelPCA', 'FastICA', 'TruncatedSVD', 'NullModel'\n",
    "    ],\n",
    "    \"optimizer\": 'smac',\n",
    "    \"n_evaluations\": 50,\n",
    "    \"run_obj\": 'quality',\n",
    "    \"seed\": 27,\n",
    "    \"cutoff_time\": 50,\n",
    "    \"preprocess_dict\": {\n",
    "        \"numeric_cols\": list(range(64)),\n",
    "        \"categorical_cols\": [],\n",
    "        \"ordinal_cols\": [],\n",
    "        \"y_col\": []\n",
    "    },\n",
    "    \"evaluator\": get_evaluator(evaluator_ls = ['silhouetteScore'], \n",
    "                               weights = [], clustering_num = None, \n",
    "                               min_proportion = .05, \n",
    "                               min_relative_proportion='default'),\n",
    "    \"n_folds\": 4,\n",
    "    \"warmstart\": False\n",
    "}\n",
    "result_dict = cluster.fit(**fit_params)"
   ]
  },
  {
   "cell_type": "markdown",
   "metadata": {},
   "source": [
    "There is a lot going on here, let's talk about some of the parameters used in the example above:\n",
    "- ``cluster_alg_ls``: This is the list of possible clustering algorithms to include within the search space.\n",
    "- ``dim_reduction_alg_ls``: This is the list of possible dimension reduction algorithms to include within the search space. Dimension reduction is performed **before** the clustering step. \n",
    "- ``optimizer``: There are two options for this, ``\"smac\"`` or ``\"random\"``. ``\"smac\"`` does Bayesian Optimization using the SMAC library, while ``\"random\"`` just performs random search optimization.\n",
    "- ``n_evaluations``: number of iterations to run, generally the larger the better.\n",
    "- ``cutoff_time``: If evaluating a certain configuration takes longer than this value (in seconds), it will be terminated.\n",
    "- ``preprocess_dict``: This is important, ``AutoCluster.fit()`` uses this dictionary to preprocess the dataset. For instance, categorical columns will be one hot encoded, while ordinal columns will encoded as integers. \n",
    "- ``evaluator``: This is important, it tells ``AutoCluster.fit()`` how to evaluate a clustering result. \n",
    "    - ``evaluator_ls``: list of metric to include in a linear combination. Choices available are ``[\"silhouetteScore\", \"daviesBouldinScore\", \"calinskiHarabaszScore\"]``.\n",
    "    - ``weights``: how much weights to use for each metric in the linear combination.\n",
    "    - ``clustering_num``: A tuple is expected. If clustering result has n_clusters outside this specified range, ``float(inf)`` will be returned from evaluator.\n",
    "    - ``min_proportion``: The proportion of points in each cluster must be at least this value.\n",
    "    - ``min_relative_proportion``: The ratio of number points in the smallest cluster to the number of points in the largest cluster must be at least this value. By using ``'default'``, ``min_relative_proportion`` will be set to `` 5 * min_proportion``.\n",
    "- ``warmstart``: Whether or not to use warmstart, examples will be shown below on how to use this."
   ]
  },
  {
   "cell_type": "code",
   "execution_count": 9,
   "metadata": {},
   "outputs": [
    {
     "data": {
      "image/png": "[encoded data removed]",
      "text/plain": [
       "<Figure size 720x720 with 1 Axes>"
      ]
     },
     "metadata": {
      "needs_background": "dark"
     },
     "output_type": "display_data"
    }
   ],
   "source": [
    "predictions = cluster.predict(digits_df)"
   ]
  },
  {
   "cell_type": "code",
   "execution_count": 15,
   "metadata": {},
   "outputs": [
    {
     "name": "stdout",
     "output_type": "stream",
     "text": [
      "Configuration:\n",
      "  clustering_choice, Value: 'KMeans'\n",
      "  dim_reduction_choice, Value: 'PCA'\n",
      "  n_clusters___KMeans, Value: 5\n",
      "  n_components___PCA, Value: 2\n",
      "  svd_solver___PCA, Value: 'auto'\n",
      "  whiten___PCA, Value: False\n",
      "\n",
      "Counter({2: 510, 0: 360, 1: 357, 3: 343, 4: 227})\n"
     ]
    }
   ],
   "source": [
    "print(result_dict[\"optimal_cfg\"])\n",
    "print(Counter(predictions))"
   ]
  },
  {
   "cell_type": "code",
   "execution_count": null,
   "metadata": {},
   "outputs": [],
   "source": []
  },
  {
   "cell_type": "code",
   "execution_count": null,
   "metadata": {},
   "outputs": [],
   "source": []
  },
  {
   "cell_type": "code",
   "execution_count": null,
   "metadata": {},
   "outputs": [],
   "source": []
  },
  {
   "cell_type": "code",
   "execution_count": null,
   "metadata": {},
   "outputs": [],
   "source": []
  },
  {
   "cell_type": "code",
   "execution_count": null,
   "metadata": {},
   "outputs": [],
   "source": []
  }
 ],
 "metadata": {
  "kernelspec": {
   "display_name": "Python [conda env:spia2019]",
   "language": "python",
   "name": "conda-env-spia2019-py"
  },
  "language_info": {
   "codemirror_mode": {
    "name": "ipython",
    "version": 3
   },
   "file_extension": ".py",
   "mimetype": "text/x-python",
   "name": "python",
   "nbconvert_exporter": "python",
   "pygments_lexer": "ipython3",
   "version": "3.5.6"
  }
 },
 "nbformat": 4,
 "nbformat_minor": 2
}
