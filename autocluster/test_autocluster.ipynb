{
 "cells": [
  {
   "cell_type": "code",
   "execution_count": 9,
   "metadata": {},
   "outputs": [
    {
     "name": "stdout",
     "output_type": "stream",
     "text": [
      "The autoreload extension is already loaded. To reload it, use:\n",
      "  %reload_ext autoreload\n"
     ]
    }
   ],
   "source": [
    "from autocluster import AutoCluster\n",
    "from algorithms import algorithms\n",
    "from build_config_space import build_config_space\n",
    "from utils.clusterutils import ClusterUtils\n",
    "from sklearn.metrics import calinski_harabasz_score\n",
    "from sklearn import datasets\n",
    "\n",
    "%load_ext autoreload\n",
    "%autoreload 2"
   ]
  },
  {
   "cell_type": "code",
   "execution_count": 10,
   "metadata": {},
   "outputs": [],
   "source": [
    "varied, blobs, no_structure, noisy_circles, noisy_moons, aniso = ClusterUtils.generate_sample_data(1500)"
   ]
  },
  {
   "cell_type": "code",
   "execution_count": 11,
   "metadata": {},
   "outputs": [
    {
     "data": {
      "image/png": "[encoded data removed]",
      "text/plain": [
       "<Figure size 432x288 with 1 Axes>"
      ]
     },
     "metadata": {
      "needs_background": "light"
     },
     "output_type": "display_data"
    }
   ],
   "source": [
    "# X = varied[0]\n",
    "X = datasets.load_iris().data\n",
    "ClusterUtils.visualize_sample_data(X)"
   ]
  },
  {
   "cell_type": "code",
   "execution_count": 12,
   "metadata": {},
   "outputs": [
    {
     "name": "stdout",
     "output_type": "stream",
     "text": [
      "Configuration space object:\n",
      "  Hyperparameters:\n",
      "    affinity___AgglomerativeClustering, Type: Categorical, Choices: {euclidean, cityblock, l2, l1, manhattan, cosine}, Default: euclidean\n",
      "    clustering_choice, Type: Categorical, Choices: {AgglomerativeClustering}, Default: AgglomerativeClustering\n",
      "    linkage___AgglomerativeClustering, Type: Categorical, Choices: {ward, complete, average, single}, Default: complete\n",
      "    n_clusters___AgglomerativeClustering, Type: UniformInteger, Range: [1, 20], Default: 10\n",
      "  Conditions:\n",
      "    affinity___AgglomerativeClustering | clustering_choice in {'AgglomerativeClustering'}\n",
      "    linkage___AgglomerativeClustering | clustering_choice in {'AgglomerativeClustering'}\n",
      "    n_clusters___AgglomerativeClustering | clustering_choice in {'AgglomerativeClustering'}\n",
      "  Forbidden Clauses:\n",
      "    (Forbidden: linkage___AgglomerativeClustering == 'ward' && Forbidden: affinity___AgglomerativeClustering in {'cityblock', 'cosine', 'l1', 'l2', 'manhattan'})\n",
      "\n",
      "Fitting configuration: {'affinity___AgglomerativeClustering': 'euclidean', 'n_clusters___AgglomerativeClustering': 10, 'clustering_choice': 'AgglomerativeClustering', 'linkage___AgglomerativeClustering': 'complete'}\n",
      "Evaluating configuration ... \n",
      "Fitting configuration: {'affinity___AgglomerativeClustering': 'euclidean', 'n_clusters___AgglomerativeClustering': 6, 'clustering_choice': 'AgglomerativeClustering', 'linkage___AgglomerativeClustering': 'ward'}\n",
      "Evaluating configuration ... \n",
      "Fitting configuration: {'affinity___AgglomerativeClustering': 'cityblock', 'n_clusters___AgglomerativeClustering': 18, 'clustering_choice': 'AgglomerativeClustering', 'linkage___AgglomerativeClustering': 'single'}\n",
      "Evaluating configuration ... \n",
      "Fitting configuration: {'affinity___AgglomerativeClustering': 'l2', 'n_clusters___AgglomerativeClustering': 16, 'clustering_choice': 'AgglomerativeClustering', 'linkage___AgglomerativeClustering': 'average'}\n",
      "Evaluating configuration ... \n",
      "Fitting configuration: {'affinity___AgglomerativeClustering': 'manhattan', 'n_clusters___AgglomerativeClustering': 5, 'clustering_choice': 'AgglomerativeClustering', 'linkage___AgglomerativeClustering': 'complete'}\n",
      "Evaluating configuration ... \n",
      "Fitting configuration: {'affinity___AgglomerativeClustering': 'euclidean', 'n_clusters___AgglomerativeClustering': 2, 'clustering_choice': 'AgglomerativeClustering', 'linkage___AgglomerativeClustering': 'complete'}\n",
      "Evaluating configuration ... \n",
      "Fitting configuration: {'affinity___AgglomerativeClustering': 'l1', 'n_clusters___AgglomerativeClustering': 7, 'clustering_choice': 'AgglomerativeClustering', 'linkage___AgglomerativeClustering': 'average'}\n",
      "Evaluating configuration ... \n",
      "Fitting configuration: {'affinity___AgglomerativeClustering': 'euclidean', 'n_clusters___AgglomerativeClustering': 2, 'clustering_choice': 'AgglomerativeClustering', 'linkage___AgglomerativeClustering': 'ward'}\n",
      "Evaluating configuration ... \n",
      "Fitting configuration: {'affinity___AgglomerativeClustering': 'l2', 'n_clusters___AgglomerativeClustering': 2, 'clustering_choice': 'AgglomerativeClustering', 'linkage___AgglomerativeClustering': 'average'}\n",
      "Evaluating configuration ... \n",
      "Fitting configuration: {'affinity___AgglomerativeClustering': 'euclidean', 'n_clusters___AgglomerativeClustering': 3, 'clustering_choice': 'AgglomerativeClustering', 'linkage___AgglomerativeClustering': 'single'}\n",
      "Evaluating configuration ... \n",
      "Fitting configuration: {'affinity___AgglomerativeClustering': 'manhattan', 'n_clusters___AgglomerativeClustering': 3, 'clustering_choice': 'AgglomerativeClustering', 'linkage___AgglomerativeClustering': 'average'}\n",
      "Evaluating configuration ... \n",
      "Fitting configuration: {'affinity___AgglomerativeClustering': 'manhattan', 'n_clusters___AgglomerativeClustering': 2, 'clustering_choice': 'AgglomerativeClustering', 'linkage___AgglomerativeClustering': 'complete'}\n",
      "Evaluating configuration ... \n",
      "Fitting configuration: {'affinity___AgglomerativeClustering': 'manhattan', 'n_clusters___AgglomerativeClustering': 1, 'clustering_choice': 'AgglomerativeClustering', 'linkage___AgglomerativeClustering': 'complete'}\n",
      "Evaluating configuration ... \n"
     ]
    },
    {
     "name": "stderr",
     "output_type": "stream",
     "text": [
      "WARNING:smac.tae.execute_func.ExecuteTAFuncDict:Target Algorithm returned NaN or inf as quality. Algorithm run is treated as CRASHED, cost is set to 2147483647.0 for quality scenarios. (Change value through \"cost_for_crash\"-option.)\n"
     ]
    },
    {
     "name": "stdout",
     "output_type": "stream",
     "text": [
      "Fitting configuration: {'affinity___AgglomerativeClustering': 'euclidean', 'n_clusters___AgglomerativeClustering': 20, 'clustering_choice': 'AgglomerativeClustering', 'linkage___AgglomerativeClustering': 'complete'}\n",
      "Evaluating configuration ... \n",
      "Fitting configuration: {'affinity___AgglomerativeClustering': 'l2', 'n_clusters___AgglomerativeClustering': 9, 'clustering_choice': 'AgglomerativeClustering', 'linkage___AgglomerativeClustering': 'single'}\n",
      "Evaluating configuration ... \n",
      "Fitting configuration: {'affinity___AgglomerativeClustering': 'l1', 'n_clusters___AgglomerativeClustering': 20, 'clustering_choice': 'AgglomerativeClustering', 'linkage___AgglomerativeClustering': 'average'}\n",
      "Evaluating configuration ... \n",
      "Fitting configuration: {'affinity___AgglomerativeClustering': 'l1', 'n_clusters___AgglomerativeClustering': 5, 'clustering_choice': 'AgglomerativeClustering', 'linkage___AgglomerativeClustering': 'average'}\n",
      "Evaluating configuration ... \n",
      "Fitting configuration: {'affinity___AgglomerativeClustering': 'l2', 'n_clusters___AgglomerativeClustering': 12, 'clustering_choice': 'AgglomerativeClustering', 'linkage___AgglomerativeClustering': 'single'}\n",
      "Evaluating configuration ... \n",
      "Fitting configuration: {'affinity___AgglomerativeClustering': 'l2', 'n_clusters___AgglomerativeClustering': 15, 'clustering_choice': 'AgglomerativeClustering', 'linkage___AgglomerativeClustering': 'complete'}\n",
      "Evaluating configuration ... \n",
      "Fitting configuration: {'affinity___AgglomerativeClustering': 'l1', 'n_clusters___AgglomerativeClustering': 3, 'clustering_choice': 'AgglomerativeClustering', 'linkage___AgglomerativeClustering': 'average'}\n",
      "Evaluating configuration ... \n",
      "Fitting configuration: {'affinity___AgglomerativeClustering': 'manhattan', 'n_clusters___AgglomerativeClustering': 12, 'clustering_choice': 'AgglomerativeClustering', 'linkage___AgglomerativeClustering': 'average'}\n",
      "Evaluating configuration ... \n",
      "Fitting configuration: {'affinity___AgglomerativeClustering': 'cityblock', 'n_clusters___AgglomerativeClustering': 6, 'clustering_choice': 'AgglomerativeClustering', 'linkage___AgglomerativeClustering': 'complete'}\n",
      "Evaluating configuration ... \n",
      "Fitting configuration: {'affinity___AgglomerativeClustering': 'manhattan', 'n_clusters___AgglomerativeClustering': 15, 'clustering_choice': 'AgglomerativeClustering', 'linkage___AgglomerativeClustering': 'average'}\n",
      "Evaluating configuration ... \n",
      "Fitting configuration: {'affinity___AgglomerativeClustering': 'l2', 'n_clusters___AgglomerativeClustering': 13, 'clustering_choice': 'AgglomerativeClustering', 'linkage___AgglomerativeClustering': 'single'}\n",
      "Evaluating configuration ... \n",
      "Fitting configuration: {'affinity___AgglomerativeClustering': 'manhattan', 'n_clusters___AgglomerativeClustering': 4, 'clustering_choice': 'AgglomerativeClustering', 'linkage___AgglomerativeClustering': 'average'}\n",
      "Evaluating configuration ... \n",
      "Fitting configuration: {'affinity___AgglomerativeClustering': 'manhattan', 'n_clusters___AgglomerativeClustering': 9, 'clustering_choice': 'AgglomerativeClustering', 'linkage___AgglomerativeClustering': 'average'}\n",
      "Evaluating configuration ... \n",
      "Fitting configuration: {'affinity___AgglomerativeClustering': 'l1', 'n_clusters___AgglomerativeClustering': 2, 'clustering_choice': 'AgglomerativeClustering', 'linkage___AgglomerativeClustering': 'average'}\n",
      "Evaluating configuration ... \n",
      "Fitting configuration: {'affinity___AgglomerativeClustering': 'euclidean', 'n_clusters___AgglomerativeClustering': 3, 'clustering_choice': 'AgglomerativeClustering', 'linkage___AgglomerativeClustering': 'ward'}\n",
      "Evaluating configuration ... \n",
      "Fitting configuration: {'affinity___AgglomerativeClustering': 'euclidean', 'n_clusters___AgglomerativeClustering': 16, 'clustering_choice': 'AgglomerativeClustering', 'linkage___AgglomerativeClustering': 'ward'}\n",
      "Evaluating configuration ... \n",
      "Fitting configuration: {'affinity___AgglomerativeClustering': 'cosine', 'n_clusters___AgglomerativeClustering': 1, 'clustering_choice': 'AgglomerativeClustering', 'linkage___AgglomerativeClustering': 'complete'}\n",
      "Evaluating configuration ... \n"
     ]
    },
    {
     "name": "stderr",
     "output_type": "stream",
     "text": [
      "WARNING:smac.tae.execute_func.ExecuteTAFuncDict:Target Algorithm returned NaN or inf as quality. Algorithm run is treated as CRASHED, cost is set to 2147483647.0 for quality scenarios. (Change value through \"cost_for_crash\"-option.)\n"
     ]
    },
    {
     "name": "stdout",
     "output_type": "stream",
     "text": [
      "Fitting configuration: {'affinity___AgglomerativeClustering': 'l2', 'n_clusters___AgglomerativeClustering': 2, 'clustering_choice': 'AgglomerativeClustering', 'linkage___AgglomerativeClustering': 'average'}\n",
      "Optimization is complete.\n",
      "Took 1.7417733669281006 seconds, the optimal configuration is \n",
      "Configuration:\n",
      "  affinity___AgglomerativeClustering, Value: 'l2'\n",
      "  clustering_choice, Value: 'AgglomerativeClustering'\n",
      "  linkage___AgglomerativeClustering, Value: 'average'\n",
      "  n_clusters___AgglomerativeClustering, Value: 2\n",
      "\n"
     ]
    }
   ],
   "source": [
    "autocluster = AutoCluster()\n",
    "smac_obj, opt_result = autocluster.fit(X, cluster_alg_ls=['AgglomerativeClustering'], \n",
    "                                       dim_reduction_alg_ls=[],\n",
    "                                       n_evaluations=30, seed=27, run_obj='quality', cutoff_time=10, shared_model=True,\n",
    "                                       evaluator=lambda X, y_pred: float('inf') if len(set(y_pred)) == 1 \\\n",
    "                                                else -1 * calinski_harabasz_score(X, y_pred)  \n",
    "                                      )"
   ]
  },
  {
   "cell_type": "code",
   "execution_count": 13,
   "metadata": {},
   "outputs": [
    {
     "data": {
      "text/plain": [
       "Configuration:\n",
       "  affinity___AgglomerativeClustering, Value: 'l2'\n",
       "  clustering_choice, Value: 'AgglomerativeClustering'\n",
       "  linkage___AgglomerativeClustering, Value: 'average'\n",
       "  n_clusters___AgglomerativeClustering, Value: 2"
      ]
     },
     "execution_count": 13,
     "metadata": {},
     "output_type": "execute_result"
    }
   ],
   "source": [
    "opt_result"
   ]
  },
  {
   "cell_type": "code",
   "execution_count": 14,
   "metadata": {},
   "outputs": [
    {
     "data": {
      "image/png": "[encoded data removed]",
      "text/plain": [
       "<Figure size 432x288 with 1 Axes>"
      ]
     },
     "metadata": {
      "needs_background": "light"
     },
     "output_type": "display_data"
    },
    {
     "data": {
      "text/plain": [
       "array([1, 1, 1, 1, 1, 1, 1, 1, 1, 1, 1, 1, 1, 1, 1, 1, 1, 1, 1, 1, 1, 1,\n",
       "       1, 1, 1, 1, 1, 1, 1, 1, 1, 1, 1, 1, 1, 1, 1, 1, 1, 1, 1, 1, 1, 1,\n",
       "       1, 1, 1, 1, 1, 1, 0, 0, 0, 0, 0, 0, 0, 0, 0, 0, 0, 0, 0, 0, 0, 0,\n",
       "       0, 0, 0, 0, 0, 0, 0, 0, 0, 0, 0, 0, 0, 0, 0, 0, 0, 0, 0, 0, 0, 0,\n",
       "       0, 0, 0, 0, 0, 0, 0, 0, 0, 0, 0, 0, 0, 0, 0, 0, 0, 0, 0, 0, 0, 0,\n",
       "       0, 0, 0, 0, 0, 0, 0, 0, 0, 0, 0, 0, 0, 0, 0, 0, 0, 0, 0, 0, 0, 0,\n",
       "       0, 0, 0, 0, 0, 0, 0, 0, 0, 0, 0, 0, 0, 0, 0, 0, 0, 0])"
      ]
     },
     "execution_count": 14,
     "metadata": {},
     "output_type": "execute_result"
    }
   ],
   "source": [
    "autocluster.predict(X)"
   ]
  },
  {
   "cell_type": "code",
   "execution_count": 15,
   "metadata": {},
   "outputs": [
    {
     "data": {
      "text/plain": [
       "[TrajEntry(train_perf=2147483648, incumbent_id=1, incumbent=Configuration:\n",
       "   affinity___AgglomerativeClustering, Value: 'euclidean'\n",
       "   clustering_choice, Value: 'AgglomerativeClustering'\n",
       "   linkage___AgglomerativeClustering, Value: 'complete'\n",
       "   n_clusters___AgglomerativeClustering, Value: 10\n",
       " , ta_runs=0, ta_time_used=0, wallclock_time=0.00011396408081054688),\n",
       " TrajEntry(train_perf=-166.44696828477916, incumbent_id=1, incumbent=Configuration:\n",
       "   affinity___AgglomerativeClustering, Value: 'euclidean'\n",
       "   clustering_choice, Value: 'AgglomerativeClustering'\n",
       "   linkage___AgglomerativeClustering, Value: 'complete'\n",
       "   n_clusters___AgglomerativeClustering, Value: 10\n",
       " , ta_runs=1, ta_time_used=0.05589461326599121, wallclock_time=0.06523323059082031),\n",
       " TrajEntry(train_perf=-172.1230067130906, incumbent_id=2, incumbent=Configuration:\n",
       "   affinity___AgglomerativeClustering, Value: 'euclidean'\n",
       "   clustering_choice, Value: 'AgglomerativeClustering'\n",
       "   linkage___AgglomerativeClustering, Value: 'ward'\n",
       "   n_clusters___AgglomerativeClustering, Value: 6\n",
       " , ta_runs=2, ta_time_used=0.1065375804901123, wallclock_time=0.24625706672668457),\n",
       " TrajEntry(train_perf=-240.24566522437965, incumbent_id=3, incumbent=Configuration:\n",
       "   affinity___AgglomerativeClustering, Value: 'euclidean'\n",
       "   clustering_choice, Value: 'AgglomerativeClustering'\n",
       "   linkage___AgglomerativeClustering, Value: 'ward'\n",
       "   n_clusters___AgglomerativeClustering, Value: 2\n",
       " , ta_runs=8, ta_time_used=0.45090198516845703, wallclock_time=1.6944103240966797),\n",
       " TrajEntry(train_perf=-251.34933946458108, incumbent_id=4, incumbent=Configuration:\n",
       "   affinity___AgglomerativeClustering, Value: 'l2'\n",
       "   clustering_choice, Value: 'AgglomerativeClustering'\n",
       "   linkage___AgglomerativeClustering, Value: 'average'\n",
       "   n_clusters___AgglomerativeClustering, Value: 2\n",
       " , ta_runs=9, ta_time_used=0.5130271911621094, wallclock_time=1.7721869945526123)]"
      ]
     },
     "execution_count": 15,
     "metadata": {},
     "output_type": "execute_result"
    }
   ],
   "source": [
    "smac_obj.get_trajectory()"
   ]
  },
  {
   "cell_type": "code",
   "execution_count": 16,
   "metadata": {},
   "outputs": [
    {
     "data": {
      "image/png": "[encoded data removed]",
      "text/plain": [
       "<Figure size 720x720 with 1 Axes>"
      ]
     },
     "metadata": {
      "needs_background": "dark"
     },
     "output_type": "display_data"
    }
   ],
   "source": [
    "autocluster.plot_convergence()"
   ]
  },
  {
   "cell_type": "code",
   "execution_count": null,
   "metadata": {},
   "outputs": [],
   "source": []
  }
 ],
 "metadata": {
  "kernelspec": {
   "display_name": "Python [conda env:spia2019]",
   "language": "python",
   "name": "conda-env-spia2019-py"
  },
  "language_info": {
   "codemirror_mode": {
    "name": "ipython",
    "version": 3
   },
   "file_extension": ".py",
   "mimetype": "text/x-python",
   "name": "python",
   "nbconvert_exporter": "python",
   "pygments_lexer": "ipython3",
   "version": "3.5.6"
  }
 },
 "nbformat": 4,
 "nbformat_minor": 2
}
