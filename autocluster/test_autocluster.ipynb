{
 "cells": [
  {
   "cell_type": "code",
   "execution_count": 1,
   "metadata": {},
   "outputs": [
    {
     "name": "stderr",
     "output_type": "stream",
     "text": [
      "/home/sjlee0218/anaconda3/envs/sjlee_env/lib/python3.7/site-packages/pyparsing.py:2927: FutureWarning: Possible set intersection at position 3\n",
      "  self.re = re.compile( self.reString )\n"
     ]
    }
   ],
   "source": [
    "from autocluster import AutoCluster\n",
    "from algorithms import algorithms\n",
    "from build_config_space import build_config_space\n",
    "from utils.clusterutils import ClusterUtils\n",
    "from sklearn.metrics import calinski_harabasz_score, silhouette_score, davies_bouldin_score\n",
    "from sklearn import datasets\n",
    "\n",
    "import numpy as np\n",
    "\n",
    "%load_ext autoreload\n",
    "%autoreload 2"
   ]
  },
  {
   "cell_type": "code",
   "execution_count": 2,
   "metadata": {},
   "outputs": [],
   "source": [
    "varied, blobs, no_structure, noisy_circles, noisy_moons, aniso = ClusterUtils.generate_sample_data(1500)"
   ]
  },
  {
   "cell_type": "code",
   "execution_count": 3,
   "metadata": {},
   "outputs": [
    {
     "data": {
      "image/png": "[encoded data removed]",
      "text/plain": [
       "<Figure size 432x288 with 1 Axes>"
      ]
     },
     "metadata": {
      "needs_background": "light"
     },
     "output_type": "display_data"
    }
   ],
   "source": [
    "X = blobs[0]\n",
    "# X = datasets.load_iris().data\n",
    "# X = datasets.load_digits().data\n",
    "ClusterUtils.visualize_sample_data(X)"
   ]
  },
  {
   "cell_type": "markdown",
   "metadata": {},
   "source": [
    "### Test with Parallel Runs"
   ]
  },
  {
   "cell_type": "code",
   "execution_count": 4,
   "metadata": {},
   "outputs": [
    {
     "name": "stdout",
     "output_type": "stream",
     "text": [
      "Configuration space object:\n",
      "  Hyperparameters:\n",
      "    clustering_choice, Type: Categorical, Choices: {KMeans}, Default: KMeans\n",
      "    dim_reduction_choice, Type: Categorical, Choices: {LatentDirichletAllocation}, Default: LatentDirichletAllocation\n",
      "    learning_method___LatentDirichletAllocation, Type: Categorical, Choices: {batch, online}, Default: batch\n",
      "    n_clusters___KMeans, Type: UniformInteger, Range: [1, 30], Default: 5\n",
      "    n_components___LatentDirichletAllocation, Type: Ordinal, Sequence: {1, 2, 3, 4, 5, 6, 7, 8, 9}, Default: 2\n",
      "    random_state___LatentDirichletAllocation, Type: Ordinal, Sequence: {0, 1, 2, 3, 4, 5, 6, 7, 8, 9}, Default: 1\n",
      "  Conditions:\n",
      "    learning_method___LatentDirichletAllocation | dim_reduction_choice in {'LatentDirichletAllocation'}\n",
      "    n_clusters___KMeans | clustering_choice in {'KMeans'}\n",
      "    n_components___LatentDirichletAllocation | dim_reduction_choice in {'LatentDirichletAllocation'}\n",
      "    random_state___LatentDirichletAllocation | dim_reduction_choice in {'LatentDirichletAllocation'}\n",
      "\n",
      "Truncated n_evaluations: 40\n",
      "{'run_obj': 'quality', 'runcount-limit': 40, 'cutoff_time': 10, 'cs': Configuration space object:\n",
      "  Hyperparameters:\n",
      "    clustering_choice, Type: Categorical, Choices: {KMeans}, Default: KMeans\n",
      "    dim_reduction_choice, Type: Categorical, Choices: {LatentDirichletAllocation}, Default: LatentDirichletAllocation\n",
      "    learning_method___LatentDirichletAllocation, Type: Categorical, Choices: {batch, online}, Default: batch\n",
      "    n_clusters___KMeans, Type: UniformInteger, Range: [1, 30], Default: 5\n",
      "    n_components___LatentDirichletAllocation, Type: Ordinal, Sequence: {1, 2, 3, 4, 5, 6, 7, 8, 9}, Default: 2\n",
      "    random_state___LatentDirichletAllocation, Type: Ordinal, Sequence: {0, 1, 2, 3, 4, 5, 6, 7, 8, 9}, Default: 1\n",
      "  Conditions:\n",
      "    learning_method___LatentDirichletAllocation | dim_reduction_choice in {'LatentDirichletAllocation'}\n",
      "    n_clusters___KMeans | clustering_choice in {'KMeans'}\n",
      "    n_components___LatentDirichletAllocation | dim_reduction_choice in {'LatentDirichletAllocation'}\n",
      "    random_state___LatentDirichletAllocation | dim_reduction_choice in {'LatentDirichletAllocation'}\n",
      ", 'deterministic': 'true', 'input_psmac_dirs': ['log//psmac-2019-07-17_12-36-13-70782', 'log//psmac-2019-07-17_12-36-13-70959', 'log//psmac-2019-07-17_12-36-13-71055'], 'output_dir': 'log//smac-2019-07-17_12-36-13-71144', 'shared_model': True, 'abort_on_first_run_crash': False}\n",
      "Fitting configuration: {'clustering_choice': 'KMeans', 'dim_reduction_choice': 'LatentDirichletAllocation', 'learning_method___LatentDirichletAllocation': 'batch', 'n_clusters___KMeans': 5, 'n_components___LatentDirichletAllocation': 2, 'random_state___LatentDirichletAllocation': 1}\n"
     ]
    },
    {
     "name": "stderr",
     "output_type": "stream",
     "text": [
      "Process pynisher function call:\n",
      "Traceback (most recent call last):\n",
      "  File \"/home/sjlee0218/anaconda3/envs/sjlee_env/lib/python3.7/multiprocessing/process.py\", line 297, in _bootstrap\n",
      "    self.run()\n",
      "  File \"/home/sjlee0218/anaconda3/envs/sjlee_env/lib/python3.7/multiprocessing/process.py\", line 99, in run\n",
      "    self._target(*self._args, **self._kwargs)\n",
      "  File \"/home/sjlee0218/anaconda3/envs/sjlee_env/lib/python3.7/site-packages/pynisher/limit_function_call.py\", line 93, in subprocess_func\n",
      "    return_value = ((func(*args, **kwargs), 0))\n",
      "  File \"/home/sjlee0218/coding_project/automl_2019/autocluster/autocluster.py\", line 134, in evaluate_model\n",
      "    candidate_model, _, compressed_data = fit_model(cfg)\n",
      "  File \"/home/sjlee0218/coding_project/automl_2019/autocluster/autocluster.py\", line 117, in fit_model\n",
      "    compressed_data = dim_reduction_model.fit_transform(scaled_data)\n",
      "  File \"/home/sjlee0218/anaconda3/envs/sjlee_env/lib/python3.7/site-packages/sklearn/base.py\", line 553, in fit_transform\n",
      "    return self.fit(X, **fit_params).transform(X)\n",
      "  File \"/home/sjlee0218/anaconda3/envs/sjlee_env/lib/python3.7/site-packages/sklearn/decomposition/online_lda.py\", line 531, in fit\n",
      "    X = self._check_non_neg_array(X, \"LatentDirichletAllocation.fit\")\n",
      "  File \"/home/sjlee0218/anaconda3/envs/sjlee_env/lib/python3.7/site-packages/sklearn/decomposition/online_lda.py\", line 469, in _check_non_neg_array\n",
      "    check_non_negative(X, whom)\n",
      "  File \"/home/sjlee0218/anaconda3/envs/sjlee_env/lib/python3.7/site-packages/sklearn/utils/validation.py\", line 941, in check_non_negative\n",
      "    raise ValueError(\"Negative values in data passed to %s\" % whom)\n",
      "ValueError: Negative values in data passed to LatentDirichletAllocation.fit\n"
     ]
    },
    {
     "name": "stdout",
     "output_type": "stream",
     "text": [
      "Fitting configuration: {'clustering_choice': 'KMeans', 'dim_reduction_choice': 'LatentDirichletAllocation', 'learning_method___LatentDirichletAllocation': 'batch', 'n_clusters___KMeans': 10, 'n_components___LatentDirichletAllocation': 1}\n"
     ]
    },
    {
     "name": "stderr",
     "output_type": "stream",
     "text": [
      "Process pynisher function call:\n",
      "Traceback (most recent call last):\n",
      "  File \"/home/sjlee0218/anaconda3/envs/sjlee_env/lib/python3.7/multiprocessing/process.py\", line 297, in _bootstrap\n",
      "    self.run()\n",
      "  File \"/home/sjlee0218/anaconda3/envs/sjlee_env/lib/python3.7/multiprocessing/process.py\", line 99, in run\n",
      "    self._target(*self._args, **self._kwargs)\n",
      "  File \"/home/sjlee0218/anaconda3/envs/sjlee_env/lib/python3.7/site-packages/pynisher/limit_function_call.py\", line 93, in subprocess_func\n",
      "    return_value = ((func(*args, **kwargs), 0))\n",
      "  File \"/home/sjlee0218/coding_project/automl_2019/autocluster/autocluster.py\", line 134, in evaluate_model\n",
      "    candidate_model, _, compressed_data = fit_model(cfg)\n",
      "  File \"/home/sjlee0218/coding_project/automl_2019/autocluster/autocluster.py\", line 117, in fit_model\n",
      "    compressed_data = dim_reduction_model.fit_transform(scaled_data)\n",
      "  File \"/home/sjlee0218/anaconda3/envs/sjlee_env/lib/python3.7/site-packages/sklearn/base.py\", line 553, in fit_transform\n",
      "    return self.fit(X, **fit_params).transform(X)\n",
      "  File \"/home/sjlee0218/anaconda3/envs/sjlee_env/lib/python3.7/site-packages/sklearn/decomposition/online_lda.py\", line 531, in fit\n",
      "    X = self._check_non_neg_array(X, \"LatentDirichletAllocation.fit\")\n",
      "  File \"/home/sjlee0218/anaconda3/envs/sjlee_env/lib/python3.7/site-packages/sklearn/decomposition/online_lda.py\", line 469, in _check_non_neg_array\n",
      "    check_non_negative(X, whom)\n",
      "  File \"/home/sjlee0218/anaconda3/envs/sjlee_env/lib/python3.7/site-packages/sklearn/utils/validation.py\", line 941, in check_non_negative\n",
      "    raise ValueError(\"Negative values in data passed to %s\" % whom)\n",
      "ValueError: Negative values in data passed to LatentDirichletAllocation.fit\n"
     ]
    },
    {
     "name": "stdout",
     "output_type": "stream",
     "text": [
      "Fitting configuration: {'clustering_choice': 'KMeans', 'dim_reduction_choice': 'LatentDirichletAllocation', 'learning_method___LatentDirichletAllocation': 'batch', 'n_clusters___KMeans': 30, 'n_components___LatentDirichletAllocation': 6, 'random_state___LatentDirichletAllocation': 4}\n"
     ]
    },
    {
     "name": "stderr",
     "output_type": "stream",
     "text": [
      "Process pynisher function call:\n",
      "Traceback (most recent call last):\n",
      "  File \"/home/sjlee0218/anaconda3/envs/sjlee_env/lib/python3.7/multiprocessing/process.py\", line 297, in _bootstrap\n",
      "    self.run()\n",
      "  File \"/home/sjlee0218/anaconda3/envs/sjlee_env/lib/python3.7/multiprocessing/process.py\", line 99, in run\n",
      "    self._target(*self._args, **self._kwargs)\n",
      "  File \"/home/sjlee0218/anaconda3/envs/sjlee_env/lib/python3.7/site-packages/pynisher/limit_function_call.py\", line 93, in subprocess_func\n",
      "    return_value = ((func(*args, **kwargs), 0))\n",
      "  File \"/home/sjlee0218/coding_project/automl_2019/autocluster/autocluster.py\", line 134, in evaluate_model\n",
      "    candidate_model, _, compressed_data = fit_model(cfg)\n",
      "  File \"/home/sjlee0218/coding_project/automl_2019/autocluster/autocluster.py\", line 117, in fit_model\n",
      "    compressed_data = dim_reduction_model.fit_transform(scaled_data)\n",
      "  File \"/home/sjlee0218/anaconda3/envs/sjlee_env/lib/python3.7/site-packages/sklearn/base.py\", line 553, in fit_transform\n",
      "    return self.fit(X, **fit_params).transform(X)\n",
      "  File \"/home/sjlee0218/anaconda3/envs/sjlee_env/lib/python3.7/site-packages/sklearn/decomposition/online_lda.py\", line 531, in fit\n",
      "    X = self._check_non_neg_array(X, \"LatentDirichletAllocation.fit\")\n",
      "  File \"/home/sjlee0218/anaconda3/envs/sjlee_env/lib/python3.7/site-packages/sklearn/decomposition/online_lda.py\", line 469, in _check_non_neg_array\n",
      "    check_non_negative(X, whom)\n",
      "  File \"/home/sjlee0218/anaconda3/envs/sjlee_env/lib/python3.7/site-packages/sklearn/utils/validation.py\", line 941, in check_non_negative\n",
      "    raise ValueError(\"Negative values in data passed to %s\" % whom)\n",
      "ValueError: Negative values in data passed to LatentDirichletAllocation.fit\n"
     ]
    },
    {
     "name": "stdout",
     "output_type": "stream",
     "text": [
      "Fitting configuration: {'clustering_choice': 'KMeans', 'dim_reduction_choice': 'LatentDirichletAllocation', 'learning_method___LatentDirichletAllocation': 'batch', 'n_clusters___KMeans': 19, 'n_components___LatentDirichletAllocation': 5, 'random_state___LatentDirichletAllocation': 1}\n"
     ]
    },
    {
     "name": "stderr",
     "output_type": "stream",
     "text": [
      "Process pynisher function call:\n",
      "Traceback (most recent call last):\n",
      "  File \"/home/sjlee0218/anaconda3/envs/sjlee_env/lib/python3.7/multiprocessing/process.py\", line 297, in _bootstrap\n",
      "    self.run()\n",
      "  File \"/home/sjlee0218/anaconda3/envs/sjlee_env/lib/python3.7/multiprocessing/process.py\", line 99, in run\n",
      "    self._target(*self._args, **self._kwargs)\n",
      "  File \"/home/sjlee0218/anaconda3/envs/sjlee_env/lib/python3.7/site-packages/pynisher/limit_function_call.py\", line 93, in subprocess_func\n",
      "    return_value = ((func(*args, **kwargs), 0))\n",
      "  File \"/home/sjlee0218/coding_project/automl_2019/autocluster/autocluster.py\", line 134, in evaluate_model\n",
      "    candidate_model, _, compressed_data = fit_model(cfg)\n",
      "  File \"/home/sjlee0218/coding_project/automl_2019/autocluster/autocluster.py\", line 117, in fit_model\n",
      "    compressed_data = dim_reduction_model.fit_transform(scaled_data)\n",
      "  File \"/home/sjlee0218/anaconda3/envs/sjlee_env/lib/python3.7/site-packages/sklearn/base.py\", line 553, in fit_transform\n",
      "    return self.fit(X, **fit_params).transform(X)\n",
      "  File \"/home/sjlee0218/anaconda3/envs/sjlee_env/lib/python3.7/site-packages/sklearn/decomposition/online_lda.py\", line 531, in fit\n",
      "    X = self._check_non_neg_array(X, \"LatentDirichletAllocation.fit\")\n",
      "  File \"/home/sjlee0218/anaconda3/envs/sjlee_env/lib/python3.7/site-packages/sklearn/decomposition/online_lda.py\", line 469, in _check_non_neg_array\n",
      "    check_non_negative(X, whom)\n",
      "  File \"/home/sjlee0218/anaconda3/envs/sjlee_env/lib/python3.7/site-packages/sklearn/utils/validation.py\", line 941, in check_non_negative\n",
      "    raise ValueError(\"Negative values in data passed to %s\" % whom)\n",
      "ValueError: Negative values in data passed to LatentDirichletAllocation.fit\n"
     ]
    },
    {
     "name": "stdout",
     "output_type": "stream",
     "text": [
      "Fitting configuration: {'clustering_choice': 'KMeans', 'dim_reduction_choice': 'LatentDirichletAllocation', 'learning_method___LatentDirichletAllocation': 'online', 'n_clusters___KMeans': 4, 'n_components___LatentDirichletAllocation': 5, 'random_state___LatentDirichletAllocation': 9}\n"
     ]
    },
    {
     "name": "stderr",
     "output_type": "stream",
     "text": [
      "Process pynisher function call:\n",
      "Traceback (most recent call last):\n",
      "  File \"/home/sjlee0218/anaconda3/envs/sjlee_env/lib/python3.7/multiprocessing/process.py\", line 297, in _bootstrap\n",
      "    self.run()\n",
      "  File \"/home/sjlee0218/anaconda3/envs/sjlee_env/lib/python3.7/multiprocessing/process.py\", line 99, in run\n",
      "    self._target(*self._args, **self._kwargs)\n",
      "  File \"/home/sjlee0218/anaconda3/envs/sjlee_env/lib/python3.7/site-packages/pynisher/limit_function_call.py\", line 93, in subprocess_func\n",
      "    return_value = ((func(*args, **kwargs), 0))\n",
      "  File \"/home/sjlee0218/coding_project/automl_2019/autocluster/autocluster.py\", line 134, in evaluate_model\n",
      "    candidate_model, _, compressed_data = fit_model(cfg)\n",
      "  File \"/home/sjlee0218/coding_project/automl_2019/autocluster/autocluster.py\", line 117, in fit_model\n",
      "    compressed_data = dim_reduction_model.fit_transform(scaled_data)\n",
      "  File \"/home/sjlee0218/anaconda3/envs/sjlee_env/lib/python3.7/site-packages/sklearn/base.py\", line 553, in fit_transform\n",
      "    return self.fit(X, **fit_params).transform(X)\n",
      "  File \"/home/sjlee0218/anaconda3/envs/sjlee_env/lib/python3.7/site-packages/sklearn/decomposition/online_lda.py\", line 531, in fit\n",
      "    X = self._check_non_neg_array(X, \"LatentDirichletAllocation.fit\")\n",
      "  File \"/home/sjlee0218/anaconda3/envs/sjlee_env/lib/python3.7/site-packages/sklearn/decomposition/online_lda.py\", line 469, in _check_non_neg_array\n",
      "    check_non_negative(X, whom)\n",
      "  File \"/home/sjlee0218/anaconda3/envs/sjlee_env/lib/python3.7/site-packages/sklearn/utils/validation.py\", line 941, in check_non_negative\n",
      "    raise ValueError(\"Negative values in data passed to %s\" % whom)\n",
      "ValueError: Negative values in data passed to LatentDirichletAllocation.fit\n"
     ]
    },
    {
     "name": "stdout",
     "output_type": "stream",
     "text": [
      "Fitting configuration: {'clustering_choice': 'KMeans', 'dim_reduction_choice': 'LatentDirichletAllocation', 'learning_method___LatentDirichletAllocation': 'batch', 'n_clusters___KMeans': 14, 'n_components___LatentDirichletAllocation': 6, 'random_state___LatentDirichletAllocation': 3}\n"
     ]
    },
    {
     "name": "stderr",
     "output_type": "stream",
     "text": [
      "Process pynisher function call:\n",
      "Traceback (most recent call last):\n",
      "  File \"/home/sjlee0218/anaconda3/envs/sjlee_env/lib/python3.7/multiprocessing/process.py\", line 297, in _bootstrap\n",
      "    self.run()\n",
      "  File \"/home/sjlee0218/anaconda3/envs/sjlee_env/lib/python3.7/multiprocessing/process.py\", line 99, in run\n",
      "    self._target(*self._args, **self._kwargs)\n",
      "  File \"/home/sjlee0218/anaconda3/envs/sjlee_env/lib/python3.7/site-packages/pynisher/limit_function_call.py\", line 93, in subprocess_func\n",
      "    return_value = ((func(*args, **kwargs), 0))\n",
      "  File \"/home/sjlee0218/coding_project/automl_2019/autocluster/autocluster.py\", line 134, in evaluate_model\n",
      "    candidate_model, _, compressed_data = fit_model(cfg)\n",
      "  File \"/home/sjlee0218/coding_project/automl_2019/autocluster/autocluster.py\", line 117, in fit_model\n",
      "    compressed_data = dim_reduction_model.fit_transform(scaled_data)\n",
      "  File \"/home/sjlee0218/anaconda3/envs/sjlee_env/lib/python3.7/site-packages/sklearn/base.py\", line 553, in fit_transform\n",
      "    return self.fit(X, **fit_params).transform(X)\n",
      "  File \"/home/sjlee0218/anaconda3/envs/sjlee_env/lib/python3.7/site-packages/sklearn/decomposition/online_lda.py\", line 531, in fit\n",
      "    X = self._check_non_neg_array(X, \"LatentDirichletAllocation.fit\")\n",
      "  File \"/home/sjlee0218/anaconda3/envs/sjlee_env/lib/python3.7/site-packages/sklearn/decomposition/online_lda.py\", line 469, in _check_non_neg_array\n",
      "    check_non_negative(X, whom)\n",
      "  File \"/home/sjlee0218/anaconda3/envs/sjlee_env/lib/python3.7/site-packages/sklearn/utils/validation.py\", line 941, in check_non_negative\n",
      "    raise ValueError(\"Negative values in data passed to %s\" % whom)\n",
      "ValueError: Negative values in data passed to LatentDirichletAllocation.fit\n"
     ]
    },
    {
     "name": "stdout",
     "output_type": "stream",
     "text": [
      "Fitting configuration: {'clustering_choice': 'KMeans', 'dim_reduction_choice': 'LatentDirichletAllocation', 'learning_method___LatentDirichletAllocation': 'online', 'n_clusters___KMeans': 14, 'n_components___LatentDirichletAllocation': 8, 'random_state___LatentDirichletAllocation': 9}\n"
     ]
    },
    {
     "name": "stderr",
     "output_type": "stream",
     "text": [
      "Process pynisher function call:\n",
      "Traceback (most recent call last):\n",
      "  File \"/home/sjlee0218/anaconda3/envs/sjlee_env/lib/python3.7/multiprocessing/process.py\", line 297, in _bootstrap\n",
      "    self.run()\n",
      "  File \"/home/sjlee0218/anaconda3/envs/sjlee_env/lib/python3.7/multiprocessing/process.py\", line 99, in run\n",
      "    self._target(*self._args, **self._kwargs)\n",
      "  File \"/home/sjlee0218/anaconda3/envs/sjlee_env/lib/python3.7/site-packages/pynisher/limit_function_call.py\", line 93, in subprocess_func\n",
      "    return_value = ((func(*args, **kwargs), 0))\n",
      "  File \"/home/sjlee0218/coding_project/automl_2019/autocluster/autocluster.py\", line 134, in evaluate_model\n",
      "    candidate_model, _, compressed_data = fit_model(cfg)\n",
      "  File \"/home/sjlee0218/coding_project/automl_2019/autocluster/autocluster.py\", line 117, in fit_model\n",
      "    compressed_data = dim_reduction_model.fit_transform(scaled_data)\n",
      "  File \"/home/sjlee0218/anaconda3/envs/sjlee_env/lib/python3.7/site-packages/sklearn/base.py\", line 553, in fit_transform\n",
      "    return self.fit(X, **fit_params).transform(X)\n",
      "  File \"/home/sjlee0218/anaconda3/envs/sjlee_env/lib/python3.7/site-packages/sklearn/decomposition/online_lda.py\", line 531, in fit\n",
      "    X = self._check_non_neg_array(X, \"LatentDirichletAllocation.fit\")\n",
      "  File \"/home/sjlee0218/anaconda3/envs/sjlee_env/lib/python3.7/site-packages/sklearn/decomposition/online_lda.py\", line 469, in _check_non_neg_array\n",
      "    check_non_negative(X, whom)\n",
      "  File \"/home/sjlee0218/anaconda3/envs/sjlee_env/lib/python3.7/site-packages/sklearn/utils/validation.py\", line 941, in check_non_negative\n",
      "    raise ValueError(\"Negative values in data passed to %s\" % whom)\n",
      "ValueError: Negative values in data passed to LatentDirichletAllocation.fit\n"
     ]
    },
    {
     "name": "stdout",
     "output_type": "stream",
     "text": [
      "Fitting configuration: {'clustering_choice': 'KMeans', 'dim_reduction_choice': 'LatentDirichletAllocation', 'learning_method___LatentDirichletAllocation': 'online', 'n_clusters___KMeans': 19, 'n_components___LatentDirichletAllocation': 3, 'random_state___LatentDirichletAllocation': 2}\n"
     ]
    },
    {
     "name": "stderr",
     "output_type": "stream",
     "text": [
      "Process pynisher function call:\n",
      "Traceback (most recent call last):\n",
      "  File \"/home/sjlee0218/anaconda3/envs/sjlee_env/lib/python3.7/multiprocessing/process.py\", line 297, in _bootstrap\n",
      "    self.run()\n",
      "  File \"/home/sjlee0218/anaconda3/envs/sjlee_env/lib/python3.7/multiprocessing/process.py\", line 99, in run\n",
      "    self._target(*self._args, **self._kwargs)\n",
      "  File \"/home/sjlee0218/anaconda3/envs/sjlee_env/lib/python3.7/site-packages/pynisher/limit_function_call.py\", line 93, in subprocess_func\n",
      "    return_value = ((func(*args, **kwargs), 0))\n",
      "  File \"/home/sjlee0218/coding_project/automl_2019/autocluster/autocluster.py\", line 134, in evaluate_model\n",
      "    candidate_model, _, compressed_data = fit_model(cfg)\n",
      "  File \"/home/sjlee0218/coding_project/automl_2019/autocluster/autocluster.py\", line 117, in fit_model\n",
      "    compressed_data = dim_reduction_model.fit_transform(scaled_data)\n",
      "  File \"/home/sjlee0218/anaconda3/envs/sjlee_env/lib/python3.7/site-packages/sklearn/base.py\", line 553, in fit_transform\n",
      "    return self.fit(X, **fit_params).transform(X)\n",
      "  File \"/home/sjlee0218/anaconda3/envs/sjlee_env/lib/python3.7/site-packages/sklearn/decomposition/online_lda.py\", line 531, in fit\n",
      "    X = self._check_non_neg_array(X, \"LatentDirichletAllocation.fit\")\n",
      "  File \"/home/sjlee0218/anaconda3/envs/sjlee_env/lib/python3.7/site-packages/sklearn/decomposition/online_lda.py\", line 469, in _check_non_neg_array\n",
      "    check_non_negative(X, whom)\n",
      "  File \"/home/sjlee0218/anaconda3/envs/sjlee_env/lib/python3.7/site-packages/sklearn/utils/validation.py\", line 941, in check_non_negative\n",
      "    raise ValueError(\"Negative values in data passed to %s\" % whom)\n",
      "ValueError: Negative values in data passed to LatentDirichletAllocation.fit\n"
     ]
    },
    {
     "name": "stdout",
     "output_type": "stream",
     "text": [
      "Fitting configuration: {'clustering_choice': 'KMeans', 'dim_reduction_choice': 'LatentDirichletAllocation', 'learning_method___LatentDirichletAllocation': 'online', 'n_clusters___KMeans': 7, 'n_components___LatentDirichletAllocation': 4}\n"
     ]
    },
    {
     "name": "stderr",
     "output_type": "stream",
     "text": [
      "Process pynisher function call:\n",
      "Traceback (most recent call last):\n",
      "  File \"/home/sjlee0218/anaconda3/envs/sjlee_env/lib/python3.7/multiprocessing/process.py\", line 297, in _bootstrap\n",
      "    self.run()\n",
      "  File \"/home/sjlee0218/anaconda3/envs/sjlee_env/lib/python3.7/multiprocessing/process.py\", line 99, in run\n",
      "    self._target(*self._args, **self._kwargs)\n",
      "  File \"/home/sjlee0218/anaconda3/envs/sjlee_env/lib/python3.7/site-packages/pynisher/limit_function_call.py\", line 93, in subprocess_func\n",
      "    return_value = ((func(*args, **kwargs), 0))\n",
      "  File \"/home/sjlee0218/coding_project/automl_2019/autocluster/autocluster.py\", line 134, in evaluate_model\n",
      "    candidate_model, _, compressed_data = fit_model(cfg)\n",
      "  File \"/home/sjlee0218/coding_project/automl_2019/autocluster/autocluster.py\", line 117, in fit_model\n",
      "    compressed_data = dim_reduction_model.fit_transform(scaled_data)\n",
      "  File \"/home/sjlee0218/anaconda3/envs/sjlee_env/lib/python3.7/site-packages/sklearn/base.py\", line 553, in fit_transform\n",
      "    return self.fit(X, **fit_params).transform(X)\n",
      "  File \"/home/sjlee0218/anaconda3/envs/sjlee_env/lib/python3.7/site-packages/sklearn/decomposition/online_lda.py\", line 531, in fit\n",
      "    X = self._check_non_neg_array(X, \"LatentDirichletAllocation.fit\")\n",
      "  File \"/home/sjlee0218/anaconda3/envs/sjlee_env/lib/python3.7/site-packages/sklearn/decomposition/online_lda.py\", line 469, in _check_non_neg_array\n",
      "    check_non_negative(X, whom)\n",
      "  File \"/home/sjlee0218/anaconda3/envs/sjlee_env/lib/python3.7/site-packages/sklearn/utils/validation.py\", line 941, in check_non_negative\n",
      "    raise ValueError(\"Negative values in data passed to %s\" % whom)\n",
      "ValueError: Negative values in data passed to LatentDirichletAllocation.fit\n"
     ]
    },
    {
     "name": "stdout",
     "output_type": "stream",
     "text": [
      "Fitting configuration: {'clustering_choice': 'KMeans', 'dim_reduction_choice': 'LatentDirichletAllocation', 'learning_method___LatentDirichletAllocation': 'online', 'n_clusters___KMeans': 21, 'n_components___LatentDirichletAllocation': 6, 'random_state___LatentDirichletAllocation': 2}\n"
     ]
    },
    {
     "name": "stderr",
     "output_type": "stream",
     "text": [
      "Process pynisher function call:\n",
      "Traceback (most recent call last):\n",
      "  File \"/home/sjlee0218/anaconda3/envs/sjlee_env/lib/python3.7/multiprocessing/process.py\", line 297, in _bootstrap\n",
      "    self.run()\n",
      "  File \"/home/sjlee0218/anaconda3/envs/sjlee_env/lib/python3.7/multiprocessing/process.py\", line 99, in run\n",
      "    self._target(*self._args, **self._kwargs)\n",
      "  File \"/home/sjlee0218/anaconda3/envs/sjlee_env/lib/python3.7/site-packages/pynisher/limit_function_call.py\", line 93, in subprocess_func\n",
      "    return_value = ((func(*args, **kwargs), 0))\n",
      "  File \"/home/sjlee0218/coding_project/automl_2019/autocluster/autocluster.py\", line 134, in evaluate_model\n",
      "    candidate_model, _, compressed_data = fit_model(cfg)\n",
      "  File \"/home/sjlee0218/coding_project/automl_2019/autocluster/autocluster.py\", line 117, in fit_model\n",
      "    compressed_data = dim_reduction_model.fit_transform(scaled_data)\n",
      "  File \"/home/sjlee0218/anaconda3/envs/sjlee_env/lib/python3.7/site-packages/sklearn/base.py\", line 553, in fit_transform\n",
      "    return self.fit(X, **fit_params).transform(X)\n",
      "  File \"/home/sjlee0218/anaconda3/envs/sjlee_env/lib/python3.7/site-packages/sklearn/decomposition/online_lda.py\", line 531, in fit\n",
      "    X = self._check_non_neg_array(X, \"LatentDirichletAllocation.fit\")\n",
      "  File \"/home/sjlee0218/anaconda3/envs/sjlee_env/lib/python3.7/site-packages/sklearn/decomposition/online_lda.py\", line 469, in _check_non_neg_array\n",
      "    check_non_negative(X, whom)\n",
      "  File \"/home/sjlee0218/anaconda3/envs/sjlee_env/lib/python3.7/site-packages/sklearn/utils/validation.py\", line 941, in check_non_negative\n",
      "    raise ValueError(\"Negative values in data passed to %s\" % whom)\n",
      "ValueError: Negative values in data passed to LatentDirichletAllocation.fit\n"
     ]
    },
    {
     "name": "stdout",
     "output_type": "stream",
     "text": [
      "Fitting configuration: {'clustering_choice': 'KMeans', 'dim_reduction_choice': 'LatentDirichletAllocation', 'learning_method___LatentDirichletAllocation': 'online', 'n_clusters___KMeans': 12, 'n_components___LatentDirichletAllocation': 2, 'random_state___LatentDirichletAllocation': 1}\n"
     ]
    },
    {
     "name": "stderr",
     "output_type": "stream",
     "text": [
      "Process pynisher function call:\n",
      "Traceback (most recent call last):\n",
      "  File \"/home/sjlee0218/anaconda3/envs/sjlee_env/lib/python3.7/multiprocessing/process.py\", line 297, in _bootstrap\n",
      "    self.run()\n",
      "  File \"/home/sjlee0218/anaconda3/envs/sjlee_env/lib/python3.7/multiprocessing/process.py\", line 99, in run\n",
      "    self._target(*self._args, **self._kwargs)\n",
      "  File \"/home/sjlee0218/anaconda3/envs/sjlee_env/lib/python3.7/site-packages/pynisher/limit_function_call.py\", line 93, in subprocess_func\n",
      "    return_value = ((func(*args, **kwargs), 0))\n",
      "  File \"/home/sjlee0218/coding_project/automl_2019/autocluster/autocluster.py\", line 134, in evaluate_model\n",
      "    candidate_model, _, compressed_data = fit_model(cfg)\n",
      "  File \"/home/sjlee0218/coding_project/automl_2019/autocluster/autocluster.py\", line 117, in fit_model\n",
      "    compressed_data = dim_reduction_model.fit_transform(scaled_data)\n",
      "  File \"/home/sjlee0218/anaconda3/envs/sjlee_env/lib/python3.7/site-packages/sklearn/base.py\", line 553, in fit_transform\n",
      "    return self.fit(X, **fit_params).transform(X)\n",
      "  File \"/home/sjlee0218/anaconda3/envs/sjlee_env/lib/python3.7/site-packages/sklearn/decomposition/online_lda.py\", line 531, in fit\n",
      "    X = self._check_non_neg_array(X, \"LatentDirichletAllocation.fit\")\n",
      "  File \"/home/sjlee0218/anaconda3/envs/sjlee_env/lib/python3.7/site-packages/sklearn/decomposition/online_lda.py\", line 469, in _check_non_neg_array\n",
      "    check_non_negative(X, whom)\n",
      "  File \"/home/sjlee0218/anaconda3/envs/sjlee_env/lib/python3.7/site-packages/sklearn/utils/validation.py\", line 941, in check_non_negative\n",
      "    raise ValueError(\"Negative values in data passed to %s\" % whom)\n",
      "ValueError: Negative values in data passed to LatentDirichletAllocation.fit\n"
     ]
    },
    {
     "name": "stdout",
     "output_type": "stream",
     "text": [
      "Fitting configuration: {'clustering_choice': 'KMeans', 'dim_reduction_choice': 'LatentDirichletAllocation', 'learning_method___LatentDirichletAllocation': 'online', 'n_clusters___KMeans': 15, 'n_components___LatentDirichletAllocation': 7, 'random_state___LatentDirichletAllocation': 3}\n"
     ]
    },
    {
     "name": "stderr",
     "output_type": "stream",
     "text": [
      "Process pynisher function call:\n",
      "Traceback (most recent call last):\n",
      "  File \"/home/sjlee0218/anaconda3/envs/sjlee_env/lib/python3.7/multiprocessing/process.py\", line 297, in _bootstrap\n",
      "    self.run()\n",
      "  File \"/home/sjlee0218/anaconda3/envs/sjlee_env/lib/python3.7/multiprocessing/process.py\", line 99, in run\n",
      "    self._target(*self._args, **self._kwargs)\n",
      "  File \"/home/sjlee0218/anaconda3/envs/sjlee_env/lib/python3.7/site-packages/pynisher/limit_function_call.py\", line 93, in subprocess_func\n",
      "    return_value = ((func(*args, **kwargs), 0))\n",
      "  File \"/home/sjlee0218/coding_project/automl_2019/autocluster/autocluster.py\", line 134, in evaluate_model\n",
      "    candidate_model, _, compressed_data = fit_model(cfg)\n",
      "  File \"/home/sjlee0218/coding_project/automl_2019/autocluster/autocluster.py\", line 117, in fit_model\n",
      "    compressed_data = dim_reduction_model.fit_transform(scaled_data)\n",
      "  File \"/home/sjlee0218/anaconda3/envs/sjlee_env/lib/python3.7/site-packages/sklearn/base.py\", line 553, in fit_transform\n",
      "    return self.fit(X, **fit_params).transform(X)\n",
      "  File \"/home/sjlee0218/anaconda3/envs/sjlee_env/lib/python3.7/site-packages/sklearn/decomposition/online_lda.py\", line 531, in fit\n",
      "    X = self._check_non_neg_array(X, \"LatentDirichletAllocation.fit\")\n",
      "  File \"/home/sjlee0218/anaconda3/envs/sjlee_env/lib/python3.7/site-packages/sklearn/decomposition/online_lda.py\", line 469, in _check_non_neg_array\n",
      "    check_non_negative(X, whom)\n",
      "  File \"/home/sjlee0218/anaconda3/envs/sjlee_env/lib/python3.7/site-packages/sklearn/utils/validation.py\", line 941, in check_non_negative\n",
      "    raise ValueError(\"Negative values in data passed to %s\" % whom)\n",
      "ValueError: Negative values in data passed to LatentDirichletAllocation.fit\n"
     ]
    },
    {
     "name": "stdout",
     "output_type": "stream",
     "text": [
      "Fitting configuration: {'clustering_choice': 'KMeans', 'dim_reduction_choice': 'LatentDirichletAllocation', 'learning_method___LatentDirichletAllocation': 'batch', 'n_clusters___KMeans': 12, 'n_components___LatentDirichletAllocation': 1, 'random_state___LatentDirichletAllocation': 5}\n"
     ]
    },
    {
     "name": "stderr",
     "output_type": "stream",
     "text": [
      "Process pynisher function call:\n",
      "Traceback (most recent call last):\n",
      "  File \"/home/sjlee0218/anaconda3/envs/sjlee_env/lib/python3.7/multiprocessing/process.py\", line 297, in _bootstrap\n",
      "    self.run()\n",
      "  File \"/home/sjlee0218/anaconda3/envs/sjlee_env/lib/python3.7/multiprocessing/process.py\", line 99, in run\n",
      "    self._target(*self._args, **self._kwargs)\n",
      "  File \"/home/sjlee0218/anaconda3/envs/sjlee_env/lib/python3.7/site-packages/pynisher/limit_function_call.py\", line 93, in subprocess_func\n",
      "    return_value = ((func(*args, **kwargs), 0))\n",
      "  File \"/home/sjlee0218/coding_project/automl_2019/autocluster/autocluster.py\", line 134, in evaluate_model\n",
      "    candidate_model, _, compressed_data = fit_model(cfg)\n",
      "  File \"/home/sjlee0218/coding_project/automl_2019/autocluster/autocluster.py\", line 117, in fit_model\n",
      "    compressed_data = dim_reduction_model.fit_transform(scaled_data)\n",
      "  File \"/home/sjlee0218/anaconda3/envs/sjlee_env/lib/python3.7/site-packages/sklearn/base.py\", line 553, in fit_transform\n",
      "    return self.fit(X, **fit_params).transform(X)\n",
      "  File \"/home/sjlee0218/anaconda3/envs/sjlee_env/lib/python3.7/site-packages/sklearn/decomposition/online_lda.py\", line 531, in fit\n",
      "    X = self._check_non_neg_array(X, \"LatentDirichletAllocation.fit\")\n",
      "  File \"/home/sjlee0218/anaconda3/envs/sjlee_env/lib/python3.7/site-packages/sklearn/decomposition/online_lda.py\", line 469, in _check_non_neg_array\n",
      "    check_non_negative(X, whom)\n",
      "  File \"/home/sjlee0218/anaconda3/envs/sjlee_env/lib/python3.7/site-packages/sklearn/utils/validation.py\", line 941, in check_non_negative\n",
      "    raise ValueError(\"Negative values in data passed to %s\" % whom)\n",
      "ValueError: Negative values in data passed to LatentDirichletAllocation.fit\n"
     ]
    },
    {
     "name": "stdout",
     "output_type": "stream",
     "text": [
      "Fitting configuration: {'clustering_choice': 'KMeans', 'dim_reduction_choice': 'LatentDirichletAllocation', 'learning_method___LatentDirichletAllocation': 'online', 'n_clusters___KMeans': 16, 'n_components___LatentDirichletAllocation': 4, 'random_state___LatentDirichletAllocation': 4}\n"
     ]
    },
    {
     "name": "stderr",
     "output_type": "stream",
     "text": [
      "Process pynisher function call:\n",
      "Traceback (most recent call last):\n",
      "  File \"/home/sjlee0218/anaconda3/envs/sjlee_env/lib/python3.7/multiprocessing/process.py\", line 297, in _bootstrap\n",
      "    self.run()\n",
      "  File \"/home/sjlee0218/anaconda3/envs/sjlee_env/lib/python3.7/multiprocessing/process.py\", line 99, in run\n",
      "    self._target(*self._args, **self._kwargs)\n",
      "  File \"/home/sjlee0218/anaconda3/envs/sjlee_env/lib/python3.7/site-packages/pynisher/limit_function_call.py\", line 93, in subprocess_func\n",
      "    return_value = ((func(*args, **kwargs), 0))\n",
      "  File \"/home/sjlee0218/coding_project/automl_2019/autocluster/autocluster.py\", line 134, in evaluate_model\n",
      "    candidate_model, _, compressed_data = fit_model(cfg)\n",
      "  File \"/home/sjlee0218/coding_project/automl_2019/autocluster/autocluster.py\", line 117, in fit_model\n",
      "    compressed_data = dim_reduction_model.fit_transform(scaled_data)\n",
      "  File \"/home/sjlee0218/anaconda3/envs/sjlee_env/lib/python3.7/site-packages/sklearn/base.py\", line 553, in fit_transform\n",
      "    return self.fit(X, **fit_params).transform(X)\n",
      "  File \"/home/sjlee0218/anaconda3/envs/sjlee_env/lib/python3.7/site-packages/sklearn/decomposition/online_lda.py\", line 531, in fit\n",
      "    X = self._check_non_neg_array(X, \"LatentDirichletAllocation.fit\")\n",
      "  File \"/home/sjlee0218/anaconda3/envs/sjlee_env/lib/python3.7/site-packages/sklearn/decomposition/online_lda.py\", line 469, in _check_non_neg_array\n",
      "    check_non_negative(X, whom)\n",
      "  File \"/home/sjlee0218/anaconda3/envs/sjlee_env/lib/python3.7/site-packages/sklearn/utils/validation.py\", line 941, in check_non_negative\n",
      "    raise ValueError(\"Negative values in data passed to %s\" % whom)\n",
      "ValueError: Negative values in data passed to LatentDirichletAllocation.fit\n"
     ]
    },
    {
     "name": "stdout",
     "output_type": "stream",
     "text": [
      "Fitting configuration: {'clustering_choice': 'KMeans', 'dim_reduction_choice': 'LatentDirichletAllocation', 'learning_method___LatentDirichletAllocation': 'batch', 'n_clusters___KMeans': 17, 'n_components___LatentDirichletAllocation': 8, 'random_state___LatentDirichletAllocation': 8}\n"
     ]
    },
    {
     "name": "stderr",
     "output_type": "stream",
     "text": [
      "Process pynisher function call:\n",
      "Traceback (most recent call last):\n",
      "  File \"/home/sjlee0218/anaconda3/envs/sjlee_env/lib/python3.7/multiprocessing/process.py\", line 297, in _bootstrap\n",
      "    self.run()\n",
      "  File \"/home/sjlee0218/anaconda3/envs/sjlee_env/lib/python3.7/multiprocessing/process.py\", line 99, in run\n",
      "    self._target(*self._args, **self._kwargs)\n",
      "  File \"/home/sjlee0218/anaconda3/envs/sjlee_env/lib/python3.7/site-packages/pynisher/limit_function_call.py\", line 93, in subprocess_func\n",
      "    return_value = ((func(*args, **kwargs), 0))\n",
      "  File \"/home/sjlee0218/coding_project/automl_2019/autocluster/autocluster.py\", line 134, in evaluate_model\n",
      "    candidate_model, _, compressed_data = fit_model(cfg)\n",
      "  File \"/home/sjlee0218/coding_project/automl_2019/autocluster/autocluster.py\", line 117, in fit_model\n",
      "    compressed_data = dim_reduction_model.fit_transform(scaled_data)\n",
      "  File \"/home/sjlee0218/anaconda3/envs/sjlee_env/lib/python3.7/site-packages/sklearn/base.py\", line 553, in fit_transform\n",
      "    return self.fit(X, **fit_params).transform(X)\n",
      "  File \"/home/sjlee0218/anaconda3/envs/sjlee_env/lib/python3.7/site-packages/sklearn/decomposition/online_lda.py\", line 531, in fit\n",
      "    X = self._check_non_neg_array(X, \"LatentDirichletAllocation.fit\")\n",
      "  File \"/home/sjlee0218/anaconda3/envs/sjlee_env/lib/python3.7/site-packages/sklearn/decomposition/online_lda.py\", line 469, in _check_non_neg_array\n",
      "    check_non_negative(X, whom)\n",
      "  File \"/home/sjlee0218/anaconda3/envs/sjlee_env/lib/python3.7/site-packages/sklearn/utils/validation.py\", line 941, in check_non_negative\n",
      "    raise ValueError(\"Negative values in data passed to %s\" % whom)\n",
      "ValueError: Negative values in data passed to LatentDirichletAllocation.fit\n"
     ]
    },
    {
     "name": "stdout",
     "output_type": "stream",
     "text": [
      "Fitting configuration: {'clustering_choice': 'KMeans', 'dim_reduction_choice': 'LatentDirichletAllocation', 'learning_method___LatentDirichletAllocation': 'online', 'n_clusters___KMeans': 25, 'n_components___LatentDirichletAllocation': 3}\n"
     ]
    },
    {
     "name": "stderr",
     "output_type": "stream",
     "text": [
      "Process pynisher function call:\n",
      "Traceback (most recent call last):\n",
      "  File \"/home/sjlee0218/anaconda3/envs/sjlee_env/lib/python3.7/multiprocessing/process.py\", line 297, in _bootstrap\n",
      "    self.run()\n",
      "  File \"/home/sjlee0218/anaconda3/envs/sjlee_env/lib/python3.7/multiprocessing/process.py\", line 99, in run\n",
      "    self._target(*self._args, **self._kwargs)\n",
      "  File \"/home/sjlee0218/anaconda3/envs/sjlee_env/lib/python3.7/site-packages/pynisher/limit_function_call.py\", line 93, in subprocess_func\n",
      "    return_value = ((func(*args, **kwargs), 0))\n",
      "  File \"/home/sjlee0218/coding_project/automl_2019/autocluster/autocluster.py\", line 134, in evaluate_model\n",
      "    candidate_model, _, compressed_data = fit_model(cfg)\n",
      "  File \"/home/sjlee0218/coding_project/automl_2019/autocluster/autocluster.py\", line 117, in fit_model\n",
      "    compressed_data = dim_reduction_model.fit_transform(scaled_data)\n",
      "  File \"/home/sjlee0218/anaconda3/envs/sjlee_env/lib/python3.7/site-packages/sklearn/base.py\", line 553, in fit_transform\n",
      "    return self.fit(X, **fit_params).transform(X)\n",
      "  File \"/home/sjlee0218/anaconda3/envs/sjlee_env/lib/python3.7/site-packages/sklearn/decomposition/online_lda.py\", line 531, in fit\n",
      "    X = self._check_non_neg_array(X, \"LatentDirichletAllocation.fit\")\n",
      "  File \"/home/sjlee0218/anaconda3/envs/sjlee_env/lib/python3.7/site-packages/sklearn/decomposition/online_lda.py\", line 469, in _check_non_neg_array\n",
      "    check_non_negative(X, whom)\n",
      "  File \"/home/sjlee0218/anaconda3/envs/sjlee_env/lib/python3.7/site-packages/sklearn/utils/validation.py\", line 941, in check_non_negative\n",
      "    raise ValueError(\"Negative values in data passed to %s\" % whom)\n",
      "ValueError: Negative values in data passed to LatentDirichletAllocation.fit\n"
     ]
    },
    {
     "name": "stdout",
     "output_type": "stream",
     "text": [
      "Fitting configuration: {'clustering_choice': 'KMeans', 'dim_reduction_choice': 'LatentDirichletAllocation', 'learning_method___LatentDirichletAllocation': 'online', 'n_clusters___KMeans': 2, 'n_components___LatentDirichletAllocation': 6, 'random_state___LatentDirichletAllocation': 7}\n"
     ]
    },
    {
     "name": "stderr",
     "output_type": "stream",
     "text": [
      "Process pynisher function call:\n",
      "Traceback (most recent call last):\n",
      "  File \"/home/sjlee0218/anaconda3/envs/sjlee_env/lib/python3.7/multiprocessing/process.py\", line 297, in _bootstrap\n",
      "    self.run()\n",
      "  File \"/home/sjlee0218/anaconda3/envs/sjlee_env/lib/python3.7/multiprocessing/process.py\", line 99, in run\n",
      "    self._target(*self._args, **self._kwargs)\n",
      "  File \"/home/sjlee0218/anaconda3/envs/sjlee_env/lib/python3.7/site-packages/pynisher/limit_function_call.py\", line 93, in subprocess_func\n",
      "    return_value = ((func(*args, **kwargs), 0))\n",
      "  File \"/home/sjlee0218/coding_project/automl_2019/autocluster/autocluster.py\", line 134, in evaluate_model\n",
      "    candidate_model, _, compressed_data = fit_model(cfg)\n",
      "  File \"/home/sjlee0218/coding_project/automl_2019/autocluster/autocluster.py\", line 117, in fit_model\n",
      "    compressed_data = dim_reduction_model.fit_transform(scaled_data)\n",
      "  File \"/home/sjlee0218/anaconda3/envs/sjlee_env/lib/python3.7/site-packages/sklearn/base.py\", line 553, in fit_transform\n",
      "    return self.fit(X, **fit_params).transform(X)\n",
      "  File \"/home/sjlee0218/anaconda3/envs/sjlee_env/lib/python3.7/site-packages/sklearn/decomposition/online_lda.py\", line 531, in fit\n",
      "    X = self._check_non_neg_array(X, \"LatentDirichletAllocation.fit\")\n",
      "  File \"/home/sjlee0218/anaconda3/envs/sjlee_env/lib/python3.7/site-packages/sklearn/decomposition/online_lda.py\", line 469, in _check_non_neg_array\n",
      "    check_non_negative(X, whom)\n",
      "  File \"/home/sjlee0218/anaconda3/envs/sjlee_env/lib/python3.7/site-packages/sklearn/utils/validation.py\", line 941, in check_non_negative\n",
      "    raise ValueError(\"Negative values in data passed to %s\" % whom)\n",
      "ValueError: Negative values in data passed to LatentDirichletAllocation.fit\n"
     ]
    },
    {
     "name": "stdout",
     "output_type": "stream",
     "text": [
      "Fitting configuration: {'clustering_choice': 'KMeans', 'dim_reduction_choice': 'LatentDirichletAllocation', 'learning_method___LatentDirichletAllocation': 'batch', 'n_clusters___KMeans': 13, 'n_components___LatentDirichletAllocation': 7, 'random_state___LatentDirichletAllocation': 8}\n"
     ]
    },
    {
     "name": "stderr",
     "output_type": "stream",
     "text": [
      "Process pynisher function call:\n",
      "Traceback (most recent call last):\n",
      "  File \"/home/sjlee0218/anaconda3/envs/sjlee_env/lib/python3.7/multiprocessing/process.py\", line 297, in _bootstrap\n",
      "    self.run()\n",
      "  File \"/home/sjlee0218/anaconda3/envs/sjlee_env/lib/python3.7/multiprocessing/process.py\", line 99, in run\n",
      "    self._target(*self._args, **self._kwargs)\n",
      "  File \"/home/sjlee0218/anaconda3/envs/sjlee_env/lib/python3.7/site-packages/pynisher/limit_function_call.py\", line 93, in subprocess_func\n",
      "    return_value = ((func(*args, **kwargs), 0))\n",
      "  File \"/home/sjlee0218/coding_project/automl_2019/autocluster/autocluster.py\", line 134, in evaluate_model\n",
      "    candidate_model, _, compressed_data = fit_model(cfg)\n",
      "  File \"/home/sjlee0218/coding_project/automl_2019/autocluster/autocluster.py\", line 117, in fit_model\n",
      "    compressed_data = dim_reduction_model.fit_transform(scaled_data)\n",
      "  File \"/home/sjlee0218/anaconda3/envs/sjlee_env/lib/python3.7/site-packages/sklearn/base.py\", line 553, in fit_transform\n",
      "    return self.fit(X, **fit_params).transform(X)\n",
      "  File \"/home/sjlee0218/anaconda3/envs/sjlee_env/lib/python3.7/site-packages/sklearn/decomposition/online_lda.py\", line 531, in fit\n",
      "    X = self._check_non_neg_array(X, \"LatentDirichletAllocation.fit\")\n",
      "  File \"/home/sjlee0218/anaconda3/envs/sjlee_env/lib/python3.7/site-packages/sklearn/decomposition/online_lda.py\", line 469, in _check_non_neg_array\n",
      "    check_non_negative(X, whom)\n",
      "  File \"/home/sjlee0218/anaconda3/envs/sjlee_env/lib/python3.7/site-packages/sklearn/utils/validation.py\", line 941, in check_non_negative\n",
      "    raise ValueError(\"Negative values in data passed to %s\" % whom)\n",
      "ValueError: Negative values in data passed to LatentDirichletAllocation.fit\n"
     ]
    },
    {
     "name": "stdout",
     "output_type": "stream",
     "text": [
      "Fitting configuration: {'clustering_choice': 'KMeans', 'dim_reduction_choice': 'LatentDirichletAllocation', 'learning_method___LatentDirichletAllocation': 'online', 'n_clusters___KMeans': 5, 'n_components___LatentDirichletAllocation': 4}\n"
     ]
    },
    {
     "name": "stderr",
     "output_type": "stream",
     "text": [
      "Process pynisher function call:\n",
      "Traceback (most recent call last):\n",
      "  File \"/home/sjlee0218/anaconda3/envs/sjlee_env/lib/python3.7/multiprocessing/process.py\", line 297, in _bootstrap\n",
      "    self.run()\n",
      "  File \"/home/sjlee0218/anaconda3/envs/sjlee_env/lib/python3.7/multiprocessing/process.py\", line 99, in run\n",
      "    self._target(*self._args, **self._kwargs)\n",
      "  File \"/home/sjlee0218/anaconda3/envs/sjlee_env/lib/python3.7/site-packages/pynisher/limit_function_call.py\", line 93, in subprocess_func\n",
      "    return_value = ((func(*args, **kwargs), 0))\n",
      "  File \"/home/sjlee0218/coding_project/automl_2019/autocluster/autocluster.py\", line 134, in evaluate_model\n",
      "    candidate_model, _, compressed_data = fit_model(cfg)\n",
      "  File \"/home/sjlee0218/coding_project/automl_2019/autocluster/autocluster.py\", line 117, in fit_model\n",
      "    compressed_data = dim_reduction_model.fit_transform(scaled_data)\n",
      "  File \"/home/sjlee0218/anaconda3/envs/sjlee_env/lib/python3.7/site-packages/sklearn/base.py\", line 553, in fit_transform\n",
      "    return self.fit(X, **fit_params).transform(X)\n",
      "  File \"/home/sjlee0218/anaconda3/envs/sjlee_env/lib/python3.7/site-packages/sklearn/decomposition/online_lda.py\", line 531, in fit\n",
      "    X = self._check_non_neg_array(X, \"LatentDirichletAllocation.fit\")\n",
      "  File \"/home/sjlee0218/anaconda3/envs/sjlee_env/lib/python3.7/site-packages/sklearn/decomposition/online_lda.py\", line 469, in _check_non_neg_array\n",
      "    check_non_negative(X, whom)\n",
      "  File \"/home/sjlee0218/anaconda3/envs/sjlee_env/lib/python3.7/site-packages/sklearn/utils/validation.py\", line 941, in check_non_negative\n",
      "    raise ValueError(\"Negative values in data passed to %s\" % whom)\n",
      "ValueError: Negative values in data passed to LatentDirichletAllocation.fit\n"
     ]
    },
    {
     "name": "stdout",
     "output_type": "stream",
     "text": [
      "Fitting configuration: {'clustering_choice': 'KMeans', 'dim_reduction_choice': 'LatentDirichletAllocation', 'learning_method___LatentDirichletAllocation': 'batch', 'n_clusters___KMeans': 6, 'n_components___LatentDirichletAllocation': 6, 'random_state___LatentDirichletAllocation': 2}\n"
     ]
    },
    {
     "name": "stderr",
     "output_type": "stream",
     "text": [
      "Process pynisher function call:\n",
      "Traceback (most recent call last):\n",
      "  File \"/home/sjlee0218/anaconda3/envs/sjlee_env/lib/python3.7/multiprocessing/process.py\", line 297, in _bootstrap\n",
      "    self.run()\n",
      "  File \"/home/sjlee0218/anaconda3/envs/sjlee_env/lib/python3.7/multiprocessing/process.py\", line 99, in run\n",
      "    self._target(*self._args, **self._kwargs)\n",
      "  File \"/home/sjlee0218/anaconda3/envs/sjlee_env/lib/python3.7/site-packages/pynisher/limit_function_call.py\", line 93, in subprocess_func\n",
      "    return_value = ((func(*args, **kwargs), 0))\n",
      "  File \"/home/sjlee0218/coding_project/automl_2019/autocluster/autocluster.py\", line 134, in evaluate_model\n",
      "    candidate_model, _, compressed_data = fit_model(cfg)\n",
      "  File \"/home/sjlee0218/coding_project/automl_2019/autocluster/autocluster.py\", line 117, in fit_model\n",
      "    compressed_data = dim_reduction_model.fit_transform(scaled_data)\n",
      "  File \"/home/sjlee0218/anaconda3/envs/sjlee_env/lib/python3.7/site-packages/sklearn/base.py\", line 553, in fit_transform\n",
      "    return self.fit(X, **fit_params).transform(X)\n",
      "  File \"/home/sjlee0218/anaconda3/envs/sjlee_env/lib/python3.7/site-packages/sklearn/decomposition/online_lda.py\", line 531, in fit\n",
      "    X = self._check_non_neg_array(X, \"LatentDirichletAllocation.fit\")\n",
      "  File \"/home/sjlee0218/anaconda3/envs/sjlee_env/lib/python3.7/site-packages/sklearn/decomposition/online_lda.py\", line 469, in _check_non_neg_array\n",
      "    check_non_negative(X, whom)\n",
      "  File \"/home/sjlee0218/anaconda3/envs/sjlee_env/lib/python3.7/site-packages/sklearn/utils/validation.py\", line 941, in check_non_negative\n",
      "    raise ValueError(\"Negative values in data passed to %s\" % whom)\n",
      "ValueError: Negative values in data passed to LatentDirichletAllocation.fit\n"
     ]
    },
    {
     "name": "stdout",
     "output_type": "stream",
     "text": [
      "Fitting configuration: {'clustering_choice': 'KMeans', 'dim_reduction_choice': 'LatentDirichletAllocation', 'learning_method___LatentDirichletAllocation': 'online', 'n_clusters___KMeans': 19, 'n_components___LatentDirichletAllocation': 8, 'random_state___LatentDirichletAllocation': 1}\n"
     ]
    },
    {
     "name": "stderr",
     "output_type": "stream",
     "text": [
      "Process pynisher function call:\n",
      "Traceback (most recent call last):\n",
      "  File \"/home/sjlee0218/anaconda3/envs/sjlee_env/lib/python3.7/multiprocessing/process.py\", line 297, in _bootstrap\n",
      "    self.run()\n",
      "  File \"/home/sjlee0218/anaconda3/envs/sjlee_env/lib/python3.7/multiprocessing/process.py\", line 99, in run\n",
      "    self._target(*self._args, **self._kwargs)\n",
      "  File \"/home/sjlee0218/anaconda3/envs/sjlee_env/lib/python3.7/site-packages/pynisher/limit_function_call.py\", line 93, in subprocess_func\n",
      "    return_value = ((func(*args, **kwargs), 0))\n",
      "  File \"/home/sjlee0218/coding_project/automl_2019/autocluster/autocluster.py\", line 134, in evaluate_model\n",
      "    candidate_model, _, compressed_data = fit_model(cfg)\n",
      "  File \"/home/sjlee0218/coding_project/automl_2019/autocluster/autocluster.py\", line 117, in fit_model\n",
      "    compressed_data = dim_reduction_model.fit_transform(scaled_data)\n",
      "  File \"/home/sjlee0218/anaconda3/envs/sjlee_env/lib/python3.7/site-packages/sklearn/base.py\", line 553, in fit_transform\n",
      "    return self.fit(X, **fit_params).transform(X)\n",
      "  File \"/home/sjlee0218/anaconda3/envs/sjlee_env/lib/python3.7/site-packages/sklearn/decomposition/online_lda.py\", line 531, in fit\n",
      "    X = self._check_non_neg_array(X, \"LatentDirichletAllocation.fit\")\n",
      "  File \"/home/sjlee0218/anaconda3/envs/sjlee_env/lib/python3.7/site-packages/sklearn/decomposition/online_lda.py\", line 469, in _check_non_neg_array\n",
      "    check_non_negative(X, whom)\n",
      "  File \"/home/sjlee0218/anaconda3/envs/sjlee_env/lib/python3.7/site-packages/sklearn/utils/validation.py\", line 941, in check_non_negative\n",
      "    raise ValueError(\"Negative values in data passed to %s\" % whom)\n",
      "ValueError: Negative values in data passed to LatentDirichletAllocation.fit\n"
     ]
    },
    {
     "name": "stdout",
     "output_type": "stream",
     "text": [
      "Fitting configuration: {'clustering_choice': 'KMeans', 'dim_reduction_choice': 'LatentDirichletAllocation', 'learning_method___LatentDirichletAllocation': 'batch', 'n_clusters___KMeans': 8, 'n_components___LatentDirichletAllocation': 9, 'random_state___LatentDirichletAllocation': 5}\n"
     ]
    },
    {
     "name": "stderr",
     "output_type": "stream",
     "text": [
      "Process pynisher function call:\n",
      "Traceback (most recent call last):\n",
      "  File \"/home/sjlee0218/anaconda3/envs/sjlee_env/lib/python3.7/multiprocessing/process.py\", line 297, in _bootstrap\n",
      "    self.run()\n",
      "  File \"/home/sjlee0218/anaconda3/envs/sjlee_env/lib/python3.7/multiprocessing/process.py\", line 99, in run\n",
      "    self._target(*self._args, **self._kwargs)\n",
      "  File \"/home/sjlee0218/anaconda3/envs/sjlee_env/lib/python3.7/site-packages/pynisher/limit_function_call.py\", line 93, in subprocess_func\n",
      "    return_value = ((func(*args, **kwargs), 0))\n",
      "  File \"/home/sjlee0218/coding_project/automl_2019/autocluster/autocluster.py\", line 134, in evaluate_model\n",
      "    candidate_model, _, compressed_data = fit_model(cfg)\n",
      "  File \"/home/sjlee0218/coding_project/automl_2019/autocluster/autocluster.py\", line 117, in fit_model\n",
      "    compressed_data = dim_reduction_model.fit_transform(scaled_data)\n",
      "  File \"/home/sjlee0218/anaconda3/envs/sjlee_env/lib/python3.7/site-packages/sklearn/base.py\", line 553, in fit_transform\n",
      "    return self.fit(X, **fit_params).transform(X)\n",
      "  File \"/home/sjlee0218/anaconda3/envs/sjlee_env/lib/python3.7/site-packages/sklearn/decomposition/online_lda.py\", line 531, in fit\n",
      "    X = self._check_non_neg_array(X, \"LatentDirichletAllocation.fit\")\n",
      "  File \"/home/sjlee0218/anaconda3/envs/sjlee_env/lib/python3.7/site-packages/sklearn/decomposition/online_lda.py\", line 469, in _check_non_neg_array\n",
      "    check_non_negative(X, whom)\n",
      "  File \"/home/sjlee0218/anaconda3/envs/sjlee_env/lib/python3.7/site-packages/sklearn/utils/validation.py\", line 941, in check_non_negative\n",
      "    raise ValueError(\"Negative values in data passed to %s\" % whom)\n",
      "ValueError: Negative values in data passed to LatentDirichletAllocation.fit\n"
     ]
    },
    {
     "name": "stdout",
     "output_type": "stream",
     "text": [
      "Fitting configuration: {'clustering_choice': 'KMeans', 'dim_reduction_choice': 'LatentDirichletAllocation', 'learning_method___LatentDirichletAllocation': 'online', 'n_clusters___KMeans': 19, 'n_components___LatentDirichletAllocation': 7, 'random_state___LatentDirichletAllocation': 9}\n"
     ]
    },
    {
     "name": "stderr",
     "output_type": "stream",
     "text": [
      "Process pynisher function call:\n",
      "Traceback (most recent call last):\n",
      "  File \"/home/sjlee0218/anaconda3/envs/sjlee_env/lib/python3.7/multiprocessing/process.py\", line 297, in _bootstrap\n",
      "    self.run()\n",
      "  File \"/home/sjlee0218/anaconda3/envs/sjlee_env/lib/python3.7/multiprocessing/process.py\", line 99, in run\n",
      "    self._target(*self._args, **self._kwargs)\n",
      "  File \"/home/sjlee0218/anaconda3/envs/sjlee_env/lib/python3.7/site-packages/pynisher/limit_function_call.py\", line 93, in subprocess_func\n",
      "    return_value = ((func(*args, **kwargs), 0))\n",
      "  File \"/home/sjlee0218/coding_project/automl_2019/autocluster/autocluster.py\", line 134, in evaluate_model\n",
      "    candidate_model, _, compressed_data = fit_model(cfg)\n",
      "  File \"/home/sjlee0218/coding_project/automl_2019/autocluster/autocluster.py\", line 117, in fit_model\n",
      "    compressed_data = dim_reduction_model.fit_transform(scaled_data)\n",
      "  File \"/home/sjlee0218/anaconda3/envs/sjlee_env/lib/python3.7/site-packages/sklearn/base.py\", line 553, in fit_transform\n",
      "    return self.fit(X, **fit_params).transform(X)\n",
      "  File \"/home/sjlee0218/anaconda3/envs/sjlee_env/lib/python3.7/site-packages/sklearn/decomposition/online_lda.py\", line 531, in fit\n",
      "    X = self._check_non_neg_array(X, \"LatentDirichletAllocation.fit\")\n",
      "  File \"/home/sjlee0218/anaconda3/envs/sjlee_env/lib/python3.7/site-packages/sklearn/decomposition/online_lda.py\", line 469, in _check_non_neg_array\n",
      "    check_non_negative(X, whom)\n",
      "  File \"/home/sjlee0218/anaconda3/envs/sjlee_env/lib/python3.7/site-packages/sklearn/utils/validation.py\", line 941, in check_non_negative\n",
      "    raise ValueError(\"Negative values in data passed to %s\" % whom)\n",
      "ValueError: Negative values in data passed to LatentDirichletAllocation.fit\n"
     ]
    },
    {
     "name": "stdout",
     "output_type": "stream",
     "text": [
      "Fitting configuration: {'clustering_choice': 'KMeans', 'dim_reduction_choice': 'LatentDirichletAllocation', 'learning_method___LatentDirichletAllocation': 'online', 'n_clusters___KMeans': 2, 'n_components___LatentDirichletAllocation': 6, 'random_state___LatentDirichletAllocation': 5}\n"
     ]
    },
    {
     "name": "stderr",
     "output_type": "stream",
     "text": [
      "Process pynisher function call:\n",
      "Traceback (most recent call last):\n",
      "  File \"/home/sjlee0218/anaconda3/envs/sjlee_env/lib/python3.7/multiprocessing/process.py\", line 297, in _bootstrap\n",
      "    self.run()\n",
      "  File \"/home/sjlee0218/anaconda3/envs/sjlee_env/lib/python3.7/multiprocessing/process.py\", line 99, in run\n",
      "    self._target(*self._args, **self._kwargs)\n",
      "  File \"/home/sjlee0218/anaconda3/envs/sjlee_env/lib/python3.7/site-packages/pynisher/limit_function_call.py\", line 93, in subprocess_func\n",
      "    return_value = ((func(*args, **kwargs), 0))\n",
      "  File \"/home/sjlee0218/coding_project/automl_2019/autocluster/autocluster.py\", line 134, in evaluate_model\n",
      "    candidate_model, _, compressed_data = fit_model(cfg)\n",
      "  File \"/home/sjlee0218/coding_project/automl_2019/autocluster/autocluster.py\", line 117, in fit_model\n",
      "    compressed_data = dim_reduction_model.fit_transform(scaled_data)\n",
      "  File \"/home/sjlee0218/anaconda3/envs/sjlee_env/lib/python3.7/site-packages/sklearn/base.py\", line 553, in fit_transform\n",
      "    return self.fit(X, **fit_params).transform(X)\n",
      "  File \"/home/sjlee0218/anaconda3/envs/sjlee_env/lib/python3.7/site-packages/sklearn/decomposition/online_lda.py\", line 531, in fit\n",
      "    X = self._check_non_neg_array(X, \"LatentDirichletAllocation.fit\")\n",
      "  File \"/home/sjlee0218/anaconda3/envs/sjlee_env/lib/python3.7/site-packages/sklearn/decomposition/online_lda.py\", line 469, in _check_non_neg_array\n",
      "    check_non_negative(X, whom)\n",
      "  File \"/home/sjlee0218/anaconda3/envs/sjlee_env/lib/python3.7/site-packages/sklearn/utils/validation.py\", line 941, in check_non_negative\n",
      "    raise ValueError(\"Negative values in data passed to %s\" % whom)\n",
      "ValueError: Negative values in data passed to LatentDirichletAllocation.fit\n"
     ]
    },
    {
     "name": "stdout",
     "output_type": "stream",
     "text": [
      "Fitting configuration: {'clustering_choice': 'KMeans', 'dim_reduction_choice': 'LatentDirichletAllocation', 'learning_method___LatentDirichletAllocation': 'batch', 'n_clusters___KMeans': 16, 'n_components___LatentDirichletAllocation': 1, 'random_state___LatentDirichletAllocation': 2}\n"
     ]
    },
    {
     "name": "stderr",
     "output_type": "stream",
     "text": [
      "Process pynisher function call:\n",
      "Traceback (most recent call last):\n",
      "  File \"/home/sjlee0218/anaconda3/envs/sjlee_env/lib/python3.7/multiprocessing/process.py\", line 297, in _bootstrap\n",
      "    self.run()\n",
      "  File \"/home/sjlee0218/anaconda3/envs/sjlee_env/lib/python3.7/multiprocessing/process.py\", line 99, in run\n",
      "    self._target(*self._args, **self._kwargs)\n",
      "  File \"/home/sjlee0218/anaconda3/envs/sjlee_env/lib/python3.7/site-packages/pynisher/limit_function_call.py\", line 93, in subprocess_func\n",
      "    return_value = ((func(*args, **kwargs), 0))\n",
      "  File \"/home/sjlee0218/coding_project/automl_2019/autocluster/autocluster.py\", line 134, in evaluate_model\n",
      "    candidate_model, _, compressed_data = fit_model(cfg)\n",
      "  File \"/home/sjlee0218/coding_project/automl_2019/autocluster/autocluster.py\", line 117, in fit_model\n",
      "    compressed_data = dim_reduction_model.fit_transform(scaled_data)\n",
      "  File \"/home/sjlee0218/anaconda3/envs/sjlee_env/lib/python3.7/site-packages/sklearn/base.py\", line 553, in fit_transform\n",
      "    return self.fit(X, **fit_params).transform(X)\n",
      "  File \"/home/sjlee0218/anaconda3/envs/sjlee_env/lib/python3.7/site-packages/sklearn/decomposition/online_lda.py\", line 531, in fit\n",
      "    X = self._check_non_neg_array(X, \"LatentDirichletAllocation.fit\")\n",
      "  File \"/home/sjlee0218/anaconda3/envs/sjlee_env/lib/python3.7/site-packages/sklearn/decomposition/online_lda.py\", line 469, in _check_non_neg_array\n",
      "    check_non_negative(X, whom)\n",
      "  File \"/home/sjlee0218/anaconda3/envs/sjlee_env/lib/python3.7/site-packages/sklearn/utils/validation.py\", line 941, in check_non_negative\n",
      "    raise ValueError(\"Negative values in data passed to %s\" % whom)\n",
      "ValueError: Negative values in data passed to LatentDirichletAllocation.fit\n"
     ]
    },
    {
     "name": "stdout",
     "output_type": "stream",
     "text": [
      "Fitting configuration: {'clustering_choice': 'KMeans', 'dim_reduction_choice': 'LatentDirichletAllocation', 'learning_method___LatentDirichletAllocation': 'batch', 'n_clusters___KMeans': 14, 'n_components___LatentDirichletAllocation': 3, 'random_state___LatentDirichletAllocation': 2}\n"
     ]
    },
    {
     "name": "stderr",
     "output_type": "stream",
     "text": [
      "Process pynisher function call:\n",
      "Traceback (most recent call last):\n",
      "  File \"/home/sjlee0218/anaconda3/envs/sjlee_env/lib/python3.7/multiprocessing/process.py\", line 297, in _bootstrap\n",
      "    self.run()\n",
      "  File \"/home/sjlee0218/anaconda3/envs/sjlee_env/lib/python3.7/multiprocessing/process.py\", line 99, in run\n",
      "    self._target(*self._args, **self._kwargs)\n",
      "  File \"/home/sjlee0218/anaconda3/envs/sjlee_env/lib/python3.7/site-packages/pynisher/limit_function_call.py\", line 93, in subprocess_func\n",
      "    return_value = ((func(*args, **kwargs), 0))\n",
      "  File \"/home/sjlee0218/coding_project/automl_2019/autocluster/autocluster.py\", line 134, in evaluate_model\n",
      "    candidate_model, _, compressed_data = fit_model(cfg)\n",
      "  File \"/home/sjlee0218/coding_project/automl_2019/autocluster/autocluster.py\", line 117, in fit_model\n",
      "    compressed_data = dim_reduction_model.fit_transform(scaled_data)\n",
      "  File \"/home/sjlee0218/anaconda3/envs/sjlee_env/lib/python3.7/site-packages/sklearn/base.py\", line 553, in fit_transform\n",
      "    return self.fit(X, **fit_params).transform(X)\n",
      "  File \"/home/sjlee0218/anaconda3/envs/sjlee_env/lib/python3.7/site-packages/sklearn/decomposition/online_lda.py\", line 531, in fit\n",
      "    X = self._check_non_neg_array(X, \"LatentDirichletAllocation.fit\")\n",
      "  File \"/home/sjlee0218/anaconda3/envs/sjlee_env/lib/python3.7/site-packages/sklearn/decomposition/online_lda.py\", line 469, in _check_non_neg_array\n",
      "    check_non_negative(X, whom)\n",
      "  File \"/home/sjlee0218/anaconda3/envs/sjlee_env/lib/python3.7/site-packages/sklearn/utils/validation.py\", line 941, in check_non_negative\n",
      "    raise ValueError(\"Negative values in data passed to %s\" % whom)\n",
      "ValueError: Negative values in data passed to LatentDirichletAllocation.fit\n"
     ]
    },
    {
     "name": "stdout",
     "output_type": "stream",
     "text": [
      "Fitting configuration: {'clustering_choice': 'KMeans', 'dim_reduction_choice': 'LatentDirichletAllocation', 'learning_method___LatentDirichletAllocation': 'batch', 'n_clusters___KMeans': 26, 'n_components___LatentDirichletAllocation': 2, 'random_state___LatentDirichletAllocation': 7}\n"
     ]
    },
    {
     "name": "stderr",
     "output_type": "stream",
     "text": [
      "Process pynisher function call:\n",
      "Traceback (most recent call last):\n",
      "  File \"/home/sjlee0218/anaconda3/envs/sjlee_env/lib/python3.7/multiprocessing/process.py\", line 297, in _bootstrap\n",
      "    self.run()\n",
      "  File \"/home/sjlee0218/anaconda3/envs/sjlee_env/lib/python3.7/multiprocessing/process.py\", line 99, in run\n",
      "    self._target(*self._args, **self._kwargs)\n",
      "  File \"/home/sjlee0218/anaconda3/envs/sjlee_env/lib/python3.7/site-packages/pynisher/limit_function_call.py\", line 93, in subprocess_func\n",
      "    return_value = ((func(*args, **kwargs), 0))\n",
      "  File \"/home/sjlee0218/coding_project/automl_2019/autocluster/autocluster.py\", line 134, in evaluate_model\n",
      "    candidate_model, _, compressed_data = fit_model(cfg)\n",
      "  File \"/home/sjlee0218/coding_project/automl_2019/autocluster/autocluster.py\", line 117, in fit_model\n",
      "    compressed_data = dim_reduction_model.fit_transform(scaled_data)\n",
      "  File \"/home/sjlee0218/anaconda3/envs/sjlee_env/lib/python3.7/site-packages/sklearn/base.py\", line 553, in fit_transform\n",
      "    return self.fit(X, **fit_params).transform(X)\n",
      "  File \"/home/sjlee0218/anaconda3/envs/sjlee_env/lib/python3.7/site-packages/sklearn/decomposition/online_lda.py\", line 531, in fit\n",
      "    X = self._check_non_neg_array(X, \"LatentDirichletAllocation.fit\")\n",
      "  File \"/home/sjlee0218/anaconda3/envs/sjlee_env/lib/python3.7/site-packages/sklearn/decomposition/online_lda.py\", line 469, in _check_non_neg_array\n",
      "    check_non_negative(X, whom)\n",
      "  File \"/home/sjlee0218/anaconda3/envs/sjlee_env/lib/python3.7/site-packages/sklearn/utils/validation.py\", line 941, in check_non_negative\n",
      "    raise ValueError(\"Negative values in data passed to %s\" % whom)\n",
      "ValueError: Negative values in data passed to LatentDirichletAllocation.fit\n"
     ]
    },
    {
     "name": "stdout",
     "output_type": "stream",
     "text": [
      "Fitting configuration: {'clustering_choice': 'KMeans', 'dim_reduction_choice': 'LatentDirichletAllocation', 'learning_method___LatentDirichletAllocation': 'batch', 'n_clusters___KMeans': 9, 'n_components___LatentDirichletAllocation': 8, 'random_state___LatentDirichletAllocation': 1}\n"
     ]
    },
    {
     "name": "stderr",
     "output_type": "stream",
     "text": [
      "Process pynisher function call:\n",
      "Traceback (most recent call last):\n",
      "  File \"/home/sjlee0218/anaconda3/envs/sjlee_env/lib/python3.7/multiprocessing/process.py\", line 297, in _bootstrap\n",
      "    self.run()\n",
      "  File \"/home/sjlee0218/anaconda3/envs/sjlee_env/lib/python3.7/multiprocessing/process.py\", line 99, in run\n",
      "    self._target(*self._args, **self._kwargs)\n",
      "  File \"/home/sjlee0218/anaconda3/envs/sjlee_env/lib/python3.7/site-packages/pynisher/limit_function_call.py\", line 93, in subprocess_func\n",
      "    return_value = ((func(*args, **kwargs), 0))\n",
      "  File \"/home/sjlee0218/coding_project/automl_2019/autocluster/autocluster.py\", line 134, in evaluate_model\n",
      "    candidate_model, _, compressed_data = fit_model(cfg)\n",
      "  File \"/home/sjlee0218/coding_project/automl_2019/autocluster/autocluster.py\", line 117, in fit_model\n",
      "    compressed_data = dim_reduction_model.fit_transform(scaled_data)\n",
      "  File \"/home/sjlee0218/anaconda3/envs/sjlee_env/lib/python3.7/site-packages/sklearn/base.py\", line 553, in fit_transform\n",
      "    return self.fit(X, **fit_params).transform(X)\n",
      "  File \"/home/sjlee0218/anaconda3/envs/sjlee_env/lib/python3.7/site-packages/sklearn/decomposition/online_lda.py\", line 531, in fit\n",
      "    X = self._check_non_neg_array(X, \"LatentDirichletAllocation.fit\")\n",
      "  File \"/home/sjlee0218/anaconda3/envs/sjlee_env/lib/python3.7/site-packages/sklearn/decomposition/online_lda.py\", line 469, in _check_non_neg_array\n",
      "    check_non_negative(X, whom)\n",
      "  File \"/home/sjlee0218/anaconda3/envs/sjlee_env/lib/python3.7/site-packages/sklearn/utils/validation.py\", line 941, in check_non_negative\n",
      "    raise ValueError(\"Negative values in data passed to %s\" % whom)\n",
      "ValueError: Negative values in data passed to LatentDirichletAllocation.fit\n"
     ]
    },
    {
     "name": "stdout",
     "output_type": "stream",
     "text": [
      "Fitting configuration: {'clustering_choice': 'KMeans', 'dim_reduction_choice': 'LatentDirichletAllocation', 'learning_method___LatentDirichletAllocation': 'online', 'n_clusters___KMeans': 16, 'n_components___LatentDirichletAllocation': 3, 'random_state___LatentDirichletAllocation': 1}\n"
     ]
    },
    {
     "name": "stderr",
     "output_type": "stream",
     "text": [
      "Process pynisher function call:\n",
      "Traceback (most recent call last):\n",
      "  File \"/home/sjlee0218/anaconda3/envs/sjlee_env/lib/python3.7/multiprocessing/process.py\", line 297, in _bootstrap\n",
      "    self.run()\n",
      "  File \"/home/sjlee0218/anaconda3/envs/sjlee_env/lib/python3.7/multiprocessing/process.py\", line 99, in run\n",
      "    self._target(*self._args, **self._kwargs)\n",
      "  File \"/home/sjlee0218/anaconda3/envs/sjlee_env/lib/python3.7/site-packages/pynisher/limit_function_call.py\", line 93, in subprocess_func\n",
      "    return_value = ((func(*args, **kwargs), 0))\n",
      "  File \"/home/sjlee0218/coding_project/automl_2019/autocluster/autocluster.py\", line 134, in evaluate_model\n",
      "    candidate_model, _, compressed_data = fit_model(cfg)\n",
      "  File \"/home/sjlee0218/coding_project/automl_2019/autocluster/autocluster.py\", line 117, in fit_model\n",
      "    compressed_data = dim_reduction_model.fit_transform(scaled_data)\n",
      "  File \"/home/sjlee0218/anaconda3/envs/sjlee_env/lib/python3.7/site-packages/sklearn/base.py\", line 553, in fit_transform\n",
      "    return self.fit(X, **fit_params).transform(X)\n",
      "  File \"/home/sjlee0218/anaconda3/envs/sjlee_env/lib/python3.7/site-packages/sklearn/decomposition/online_lda.py\", line 531, in fit\n",
      "    X = self._check_non_neg_array(X, \"LatentDirichletAllocation.fit\")\n",
      "  File \"/home/sjlee0218/anaconda3/envs/sjlee_env/lib/python3.7/site-packages/sklearn/decomposition/online_lda.py\", line 469, in _check_non_neg_array\n",
      "    check_non_negative(X, whom)\n",
      "  File \"/home/sjlee0218/anaconda3/envs/sjlee_env/lib/python3.7/site-packages/sklearn/utils/validation.py\", line 941, in check_non_negative\n",
      "    raise ValueError(\"Negative values in data passed to %s\" % whom)\n",
      "ValueError: Negative values in data passed to LatentDirichletAllocation.fit\n"
     ]
    },
    {
     "name": "stdout",
     "output_type": "stream",
     "text": [
      "Fitting configuration: {'clustering_choice': 'KMeans', 'dim_reduction_choice': 'LatentDirichletAllocation', 'learning_method___LatentDirichletAllocation': 'batch', 'n_clusters___KMeans': 10, 'n_components___LatentDirichletAllocation': 9, 'random_state___LatentDirichletAllocation': 5}\n"
     ]
    },
    {
     "name": "stderr",
     "output_type": "stream",
     "text": [
      "Process pynisher function call:\n",
      "Traceback (most recent call last):\n",
      "  File \"/home/sjlee0218/anaconda3/envs/sjlee_env/lib/python3.7/multiprocessing/process.py\", line 297, in _bootstrap\n",
      "    self.run()\n",
      "  File \"/home/sjlee0218/anaconda3/envs/sjlee_env/lib/python3.7/multiprocessing/process.py\", line 99, in run\n",
      "    self._target(*self._args, **self._kwargs)\n",
      "  File \"/home/sjlee0218/anaconda3/envs/sjlee_env/lib/python3.7/site-packages/pynisher/limit_function_call.py\", line 93, in subprocess_func\n",
      "    return_value = ((func(*args, **kwargs), 0))\n",
      "  File \"/home/sjlee0218/coding_project/automl_2019/autocluster/autocluster.py\", line 134, in evaluate_model\n",
      "    candidate_model, _, compressed_data = fit_model(cfg)\n",
      "  File \"/home/sjlee0218/coding_project/automl_2019/autocluster/autocluster.py\", line 117, in fit_model\n",
      "    compressed_data = dim_reduction_model.fit_transform(scaled_data)\n",
      "  File \"/home/sjlee0218/anaconda3/envs/sjlee_env/lib/python3.7/site-packages/sklearn/base.py\", line 553, in fit_transform\n",
      "    return self.fit(X, **fit_params).transform(X)\n",
      "  File \"/home/sjlee0218/anaconda3/envs/sjlee_env/lib/python3.7/site-packages/sklearn/decomposition/online_lda.py\", line 531, in fit\n",
      "    X = self._check_non_neg_array(X, \"LatentDirichletAllocation.fit\")\n",
      "  File \"/home/sjlee0218/anaconda3/envs/sjlee_env/lib/python3.7/site-packages/sklearn/decomposition/online_lda.py\", line 469, in _check_non_neg_array\n",
      "    check_non_negative(X, whom)\n",
      "  File \"/home/sjlee0218/anaconda3/envs/sjlee_env/lib/python3.7/site-packages/sklearn/utils/validation.py\", line 941, in check_non_negative\n",
      "    raise ValueError(\"Negative values in data passed to %s\" % whom)\n",
      "ValueError: Negative values in data passed to LatentDirichletAllocation.fit\n"
     ]
    },
    {
     "name": "stdout",
     "output_type": "stream",
     "text": [
      "Fitting configuration: {'clustering_choice': 'KMeans', 'dim_reduction_choice': 'LatentDirichletAllocation', 'learning_method___LatentDirichletAllocation': 'online', 'n_clusters___KMeans': 13, 'n_components___LatentDirichletAllocation': 2, 'random_state___LatentDirichletAllocation': 7}\n"
     ]
    },
    {
     "name": "stderr",
     "output_type": "stream",
     "text": [
      "Process pynisher function call:\n",
      "Traceback (most recent call last):\n",
      "  File \"/home/sjlee0218/anaconda3/envs/sjlee_env/lib/python3.7/multiprocessing/process.py\", line 297, in _bootstrap\n",
      "    self.run()\n",
      "  File \"/home/sjlee0218/anaconda3/envs/sjlee_env/lib/python3.7/multiprocessing/process.py\", line 99, in run\n",
      "    self._target(*self._args, **self._kwargs)\n",
      "  File \"/home/sjlee0218/anaconda3/envs/sjlee_env/lib/python3.7/site-packages/pynisher/limit_function_call.py\", line 93, in subprocess_func\n",
      "    return_value = ((func(*args, **kwargs), 0))\n",
      "  File \"/home/sjlee0218/coding_project/automl_2019/autocluster/autocluster.py\", line 134, in evaluate_model\n",
      "    candidate_model, _, compressed_data = fit_model(cfg)\n",
      "  File \"/home/sjlee0218/coding_project/automl_2019/autocluster/autocluster.py\", line 117, in fit_model\n",
      "    compressed_data = dim_reduction_model.fit_transform(scaled_data)\n",
      "  File \"/home/sjlee0218/anaconda3/envs/sjlee_env/lib/python3.7/site-packages/sklearn/base.py\", line 553, in fit_transform\n",
      "    return self.fit(X, **fit_params).transform(X)\n",
      "  File \"/home/sjlee0218/anaconda3/envs/sjlee_env/lib/python3.7/site-packages/sklearn/decomposition/online_lda.py\", line 531, in fit\n",
      "    X = self._check_non_neg_array(X, \"LatentDirichletAllocation.fit\")\n",
      "  File \"/home/sjlee0218/anaconda3/envs/sjlee_env/lib/python3.7/site-packages/sklearn/decomposition/online_lda.py\", line 469, in _check_non_neg_array\n",
      "    check_non_negative(X, whom)\n",
      "  File \"/home/sjlee0218/anaconda3/envs/sjlee_env/lib/python3.7/site-packages/sklearn/utils/validation.py\", line 941, in check_non_negative\n",
      "    raise ValueError(\"Negative values in data passed to %s\" % whom)\n",
      "ValueError: Negative values in data passed to LatentDirichletAllocation.fit\n"
     ]
    },
    {
     "name": "stdout",
     "output_type": "stream",
     "text": [
      "Fitting configuration: {'clustering_choice': 'KMeans', 'dim_reduction_choice': 'LatentDirichletAllocation', 'learning_method___LatentDirichletAllocation': 'batch', 'n_clusters___KMeans': 21, 'n_components___LatentDirichletAllocation': 4, 'random_state___LatentDirichletAllocation': 6}\n"
     ]
    },
    {
     "name": "stderr",
     "output_type": "stream",
     "text": [
      "Process pynisher function call:\n",
      "Traceback (most recent call last):\n",
      "  File \"/home/sjlee0218/anaconda3/envs/sjlee_env/lib/python3.7/multiprocessing/process.py\", line 297, in _bootstrap\n",
      "    self.run()\n",
      "  File \"/home/sjlee0218/anaconda3/envs/sjlee_env/lib/python3.7/multiprocessing/process.py\", line 99, in run\n",
      "    self._target(*self._args, **self._kwargs)\n",
      "  File \"/home/sjlee0218/anaconda3/envs/sjlee_env/lib/python3.7/site-packages/pynisher/limit_function_call.py\", line 93, in subprocess_func\n",
      "    return_value = ((func(*args, **kwargs), 0))\n",
      "  File \"/home/sjlee0218/coding_project/automl_2019/autocluster/autocluster.py\", line 134, in evaluate_model\n",
      "    candidate_model, _, compressed_data = fit_model(cfg)\n",
      "  File \"/home/sjlee0218/coding_project/automl_2019/autocluster/autocluster.py\", line 117, in fit_model\n",
      "    compressed_data = dim_reduction_model.fit_transform(scaled_data)\n",
      "  File \"/home/sjlee0218/anaconda3/envs/sjlee_env/lib/python3.7/site-packages/sklearn/base.py\", line 553, in fit_transform\n",
      "    return self.fit(X, **fit_params).transform(X)\n",
      "  File \"/home/sjlee0218/anaconda3/envs/sjlee_env/lib/python3.7/site-packages/sklearn/decomposition/online_lda.py\", line 531, in fit\n",
      "    X = self._check_non_neg_array(X, \"LatentDirichletAllocation.fit\")\n",
      "  File \"/home/sjlee0218/anaconda3/envs/sjlee_env/lib/python3.7/site-packages/sklearn/decomposition/online_lda.py\", line 469, in _check_non_neg_array\n",
      "    check_non_negative(X, whom)\n",
      "  File \"/home/sjlee0218/anaconda3/envs/sjlee_env/lib/python3.7/site-packages/sklearn/utils/validation.py\", line 941, in check_non_negative\n",
      "    raise ValueError(\"Negative values in data passed to %s\" % whom)\n",
      "ValueError: Negative values in data passed to LatentDirichletAllocation.fit\n"
     ]
    },
    {
     "name": "stdout",
     "output_type": "stream",
     "text": [
      "Fitting configuration: {'clustering_choice': 'KMeans', 'dim_reduction_choice': 'LatentDirichletAllocation', 'learning_method___LatentDirichletAllocation': 'online', 'n_clusters___KMeans': 11, 'n_components___LatentDirichletAllocation': 3, 'random_state___LatentDirichletAllocation': 6}\n"
     ]
    },
    {
     "name": "stderr",
     "output_type": "stream",
     "text": [
      "Process pynisher function call:\n",
      "Traceback (most recent call last):\n",
      "  File \"/home/sjlee0218/anaconda3/envs/sjlee_env/lib/python3.7/multiprocessing/process.py\", line 297, in _bootstrap\n",
      "    self.run()\n",
      "  File \"/home/sjlee0218/anaconda3/envs/sjlee_env/lib/python3.7/multiprocessing/process.py\", line 99, in run\n",
      "    self._target(*self._args, **self._kwargs)\n",
      "  File \"/home/sjlee0218/anaconda3/envs/sjlee_env/lib/python3.7/site-packages/pynisher/limit_function_call.py\", line 93, in subprocess_func\n",
      "    return_value = ((func(*args, **kwargs), 0))\n",
      "  File \"/home/sjlee0218/coding_project/automl_2019/autocluster/autocluster.py\", line 134, in evaluate_model\n",
      "    candidate_model, _, compressed_data = fit_model(cfg)\n",
      "  File \"/home/sjlee0218/coding_project/automl_2019/autocluster/autocluster.py\", line 117, in fit_model\n",
      "    compressed_data = dim_reduction_model.fit_transform(scaled_data)\n",
      "  File \"/home/sjlee0218/anaconda3/envs/sjlee_env/lib/python3.7/site-packages/sklearn/base.py\", line 553, in fit_transform\n",
      "    return self.fit(X, **fit_params).transform(X)\n",
      "  File \"/home/sjlee0218/anaconda3/envs/sjlee_env/lib/python3.7/site-packages/sklearn/decomposition/online_lda.py\", line 531, in fit\n",
      "    X = self._check_non_neg_array(X, \"LatentDirichletAllocation.fit\")\n",
      "  File \"/home/sjlee0218/anaconda3/envs/sjlee_env/lib/python3.7/site-packages/sklearn/decomposition/online_lda.py\", line 469, in _check_non_neg_array\n",
      "    check_non_negative(X, whom)\n",
      "  File \"/home/sjlee0218/anaconda3/envs/sjlee_env/lib/python3.7/site-packages/sklearn/utils/validation.py\", line 941, in check_non_negative\n",
      "    raise ValueError(\"Negative values in data passed to %s\" % whom)\n",
      "ValueError: Negative values in data passed to LatentDirichletAllocation.fit\n"
     ]
    },
    {
     "name": "stdout",
     "output_type": "stream",
     "text": [
      "Fitting configuration: {'clustering_choice': 'KMeans', 'dim_reduction_choice': 'LatentDirichletAllocation', 'learning_method___LatentDirichletAllocation': 'batch', 'n_clusters___KMeans': 10, 'n_components___LatentDirichletAllocation': 1, 'random_state___LatentDirichletAllocation': 7}\n"
     ]
    },
    {
     "name": "stderr",
     "output_type": "stream",
     "text": [
      "Process pynisher function call:\n",
      "Traceback (most recent call last):\n",
      "  File \"/home/sjlee0218/anaconda3/envs/sjlee_env/lib/python3.7/multiprocessing/process.py\", line 297, in _bootstrap\n",
      "    self.run()\n",
      "  File \"/home/sjlee0218/anaconda3/envs/sjlee_env/lib/python3.7/multiprocessing/process.py\", line 99, in run\n",
      "    self._target(*self._args, **self._kwargs)\n",
      "  File \"/home/sjlee0218/anaconda3/envs/sjlee_env/lib/python3.7/site-packages/pynisher/limit_function_call.py\", line 93, in subprocess_func\n",
      "    return_value = ((func(*args, **kwargs), 0))\n",
      "  File \"/home/sjlee0218/coding_project/automl_2019/autocluster/autocluster.py\", line 134, in evaluate_model\n",
      "    candidate_model, _, compressed_data = fit_model(cfg)\n",
      "  File \"/home/sjlee0218/coding_project/automl_2019/autocluster/autocluster.py\", line 117, in fit_model\n",
      "    compressed_data = dim_reduction_model.fit_transform(scaled_data)\n",
      "  File \"/home/sjlee0218/anaconda3/envs/sjlee_env/lib/python3.7/site-packages/sklearn/base.py\", line 553, in fit_transform\n",
      "    return self.fit(X, **fit_params).transform(X)\n",
      "  File \"/home/sjlee0218/anaconda3/envs/sjlee_env/lib/python3.7/site-packages/sklearn/decomposition/online_lda.py\", line 531, in fit\n",
      "    X = self._check_non_neg_array(X, \"LatentDirichletAllocation.fit\")\n",
      "  File \"/home/sjlee0218/anaconda3/envs/sjlee_env/lib/python3.7/site-packages/sklearn/decomposition/online_lda.py\", line 469, in _check_non_neg_array\n",
      "    check_non_negative(X, whom)\n",
      "  File \"/home/sjlee0218/anaconda3/envs/sjlee_env/lib/python3.7/site-packages/sklearn/utils/validation.py\", line 941, in check_non_negative\n",
      "    raise ValueError(\"Negative values in data passed to %s\" % whom)\n",
      "ValueError: Negative values in data passed to LatentDirichletAllocation.fit\n"
     ]
    },
    {
     "name": "stdout",
     "output_type": "stream",
     "text": [
      "Fitting configuration: {'clustering_choice': 'KMeans', 'dim_reduction_choice': 'LatentDirichletAllocation', 'learning_method___LatentDirichletAllocation': 'batch', 'n_clusters___KMeans': 27, 'n_components___LatentDirichletAllocation': 4, 'random_state___LatentDirichletAllocation': 7}\n"
     ]
    },
    {
     "name": "stderr",
     "output_type": "stream",
     "text": [
      "Process pynisher function call:\n",
      "Traceback (most recent call last):\n",
      "  File \"/home/sjlee0218/anaconda3/envs/sjlee_env/lib/python3.7/multiprocessing/process.py\", line 297, in _bootstrap\n",
      "    self.run()\n",
      "  File \"/home/sjlee0218/anaconda3/envs/sjlee_env/lib/python3.7/multiprocessing/process.py\", line 99, in run\n",
      "    self._target(*self._args, **self._kwargs)\n",
      "  File \"/home/sjlee0218/anaconda3/envs/sjlee_env/lib/python3.7/site-packages/pynisher/limit_function_call.py\", line 93, in subprocess_func\n",
      "    return_value = ((func(*args, **kwargs), 0))\n",
      "  File \"/home/sjlee0218/coding_project/automl_2019/autocluster/autocluster.py\", line 134, in evaluate_model\n",
      "    candidate_model, _, compressed_data = fit_model(cfg)\n",
      "  File \"/home/sjlee0218/coding_project/automl_2019/autocluster/autocluster.py\", line 117, in fit_model\n",
      "    compressed_data = dim_reduction_model.fit_transform(scaled_data)\n",
      "  File \"/home/sjlee0218/anaconda3/envs/sjlee_env/lib/python3.7/site-packages/sklearn/base.py\", line 553, in fit_transform\n",
      "    return self.fit(X, **fit_params).transform(X)\n",
      "  File \"/home/sjlee0218/anaconda3/envs/sjlee_env/lib/python3.7/site-packages/sklearn/decomposition/online_lda.py\", line 531, in fit\n",
      "    X = self._check_non_neg_array(X, \"LatentDirichletAllocation.fit\")\n",
      "  File \"/home/sjlee0218/anaconda3/envs/sjlee_env/lib/python3.7/site-packages/sklearn/decomposition/online_lda.py\", line 469, in _check_non_neg_array\n",
      "    check_non_negative(X, whom)\n",
      "  File \"/home/sjlee0218/anaconda3/envs/sjlee_env/lib/python3.7/site-packages/sklearn/utils/validation.py\", line 941, in check_non_negative\n",
      "    raise ValueError(\"Negative values in data passed to %s\" % whom)\n",
      "ValueError: Negative values in data passed to LatentDirichletAllocation.fit\n"
     ]
    },
    {
     "name": "stdout",
     "output_type": "stream",
     "text": [
      "Fitting configuration: {'clustering_choice': 'KMeans', 'dim_reduction_choice': 'LatentDirichletAllocation', 'learning_method___LatentDirichletAllocation': 'online', 'n_clusters___KMeans': 27, 'n_components___LatentDirichletAllocation': 3, 'random_state___LatentDirichletAllocation': 7}\n"
     ]
    },
    {
     "name": "stderr",
     "output_type": "stream",
     "text": [
      "Process pynisher function call:\n",
      "Traceback (most recent call last):\n",
      "  File \"/home/sjlee0218/anaconda3/envs/sjlee_env/lib/python3.7/multiprocessing/process.py\", line 297, in _bootstrap\n",
      "    self.run()\n",
      "  File \"/home/sjlee0218/anaconda3/envs/sjlee_env/lib/python3.7/multiprocessing/process.py\", line 99, in run\n",
      "    self._target(*self._args, **self._kwargs)\n",
      "  File \"/home/sjlee0218/anaconda3/envs/sjlee_env/lib/python3.7/site-packages/pynisher/limit_function_call.py\", line 93, in subprocess_func\n",
      "    return_value = ((func(*args, **kwargs), 0))\n",
      "  File \"/home/sjlee0218/coding_project/automl_2019/autocluster/autocluster.py\", line 134, in evaluate_model\n",
      "    candidate_model, _, compressed_data = fit_model(cfg)\n",
      "  File \"/home/sjlee0218/coding_project/automl_2019/autocluster/autocluster.py\", line 117, in fit_model\n",
      "    compressed_data = dim_reduction_model.fit_transform(scaled_data)\n",
      "  File \"/home/sjlee0218/anaconda3/envs/sjlee_env/lib/python3.7/site-packages/sklearn/base.py\", line 553, in fit_transform\n",
      "    return self.fit(X, **fit_params).transform(X)\n",
      "  File \"/home/sjlee0218/anaconda3/envs/sjlee_env/lib/python3.7/site-packages/sklearn/decomposition/online_lda.py\", line 531, in fit\n",
      "    X = self._check_non_neg_array(X, \"LatentDirichletAllocation.fit\")\n",
      "  File \"/home/sjlee0218/anaconda3/envs/sjlee_env/lib/python3.7/site-packages/sklearn/decomposition/online_lda.py\", line 469, in _check_non_neg_array\n",
      "    check_non_negative(X, whom)\n",
      "  File \"/home/sjlee0218/anaconda3/envs/sjlee_env/lib/python3.7/site-packages/sklearn/utils/validation.py\", line 941, in check_non_negative\n",
      "    raise ValueError(\"Negative values in data passed to %s\" % whom)\n",
      "ValueError: Negative values in data passed to LatentDirichletAllocation.fit\n"
     ]
    },
    {
     "name": "stdout",
     "output_type": "stream",
     "text": [
      "Fitting configuration: {'clustering_choice': 'KMeans', 'dim_reduction_choice': 'LatentDirichletAllocation', 'learning_method___LatentDirichletAllocation': 'batch', 'n_clusters___KMeans': 8, 'n_components___LatentDirichletAllocation': 1, 'random_state___LatentDirichletAllocation': 5}\n"
     ]
    },
    {
     "name": "stderr",
     "output_type": "stream",
     "text": [
      "Process pynisher function call:\n",
      "Traceback (most recent call last):\n",
      "  File \"/home/sjlee0218/anaconda3/envs/sjlee_env/lib/python3.7/multiprocessing/process.py\", line 297, in _bootstrap\n",
      "    self.run()\n",
      "  File \"/home/sjlee0218/anaconda3/envs/sjlee_env/lib/python3.7/multiprocessing/process.py\", line 99, in run\n",
      "    self._target(*self._args, **self._kwargs)\n",
      "  File \"/home/sjlee0218/anaconda3/envs/sjlee_env/lib/python3.7/site-packages/pynisher/limit_function_call.py\", line 93, in subprocess_func\n",
      "    return_value = ((func(*args, **kwargs), 0))\n",
      "  File \"/home/sjlee0218/coding_project/automl_2019/autocluster/autocluster.py\", line 134, in evaluate_model\n",
      "    candidate_model, _, compressed_data = fit_model(cfg)\n",
      "  File \"/home/sjlee0218/coding_project/automl_2019/autocluster/autocluster.py\", line 117, in fit_model\n",
      "    compressed_data = dim_reduction_model.fit_transform(scaled_data)\n",
      "  File \"/home/sjlee0218/anaconda3/envs/sjlee_env/lib/python3.7/site-packages/sklearn/base.py\", line 553, in fit_transform\n",
      "    return self.fit(X, **fit_params).transform(X)\n",
      "  File \"/home/sjlee0218/anaconda3/envs/sjlee_env/lib/python3.7/site-packages/sklearn/decomposition/online_lda.py\", line 531, in fit\n",
      "    X = self._check_non_neg_array(X, \"LatentDirichletAllocation.fit\")\n",
      "  File \"/home/sjlee0218/anaconda3/envs/sjlee_env/lib/python3.7/site-packages/sklearn/decomposition/online_lda.py\", line 469, in _check_non_neg_array\n",
      "    check_non_negative(X, whom)\n",
      "  File \"/home/sjlee0218/anaconda3/envs/sjlee_env/lib/python3.7/site-packages/sklearn/utils/validation.py\", line 941, in check_non_negative\n",
      "    raise ValueError(\"Negative values in data passed to %s\" % whom)\n",
      "ValueError: Negative values in data passed to LatentDirichletAllocation.fit\n"
     ]
    },
    {
     "name": "stdout",
     "output_type": "stream",
     "text": [
      "Fitting configuration: {'clustering_choice': 'KMeans', 'dim_reduction_choice': 'LatentDirichletAllocation', 'learning_method___LatentDirichletAllocation': 'online', 'n_clusters___KMeans': 10, 'n_components___LatentDirichletAllocation': 7, 'random_state___LatentDirichletAllocation': 5}\n"
     ]
    },
    {
     "name": "stderr",
     "output_type": "stream",
     "text": [
      "Process pynisher function call:\n",
      "Traceback (most recent call last):\n",
      "  File \"/home/sjlee0218/anaconda3/envs/sjlee_env/lib/python3.7/multiprocessing/process.py\", line 297, in _bootstrap\n",
      "    self.run()\n",
      "  File \"/home/sjlee0218/anaconda3/envs/sjlee_env/lib/python3.7/multiprocessing/process.py\", line 99, in run\n",
      "    self._target(*self._args, **self._kwargs)\n",
      "  File \"/home/sjlee0218/anaconda3/envs/sjlee_env/lib/python3.7/site-packages/pynisher/limit_function_call.py\", line 93, in subprocess_func\n",
      "    return_value = ((func(*args, **kwargs), 0))\n",
      "  File \"/home/sjlee0218/coding_project/automl_2019/autocluster/autocluster.py\", line 134, in evaluate_model\n",
      "    candidate_model, _, compressed_data = fit_model(cfg)\n",
      "  File \"/home/sjlee0218/coding_project/automl_2019/autocluster/autocluster.py\", line 117, in fit_model\n",
      "    compressed_data = dim_reduction_model.fit_transform(scaled_data)\n",
      "  File \"/home/sjlee0218/anaconda3/envs/sjlee_env/lib/python3.7/site-packages/sklearn/base.py\", line 553, in fit_transform\n",
      "    return self.fit(X, **fit_params).transform(X)\n",
      "  File \"/home/sjlee0218/anaconda3/envs/sjlee_env/lib/python3.7/site-packages/sklearn/decomposition/online_lda.py\", line 531, in fit\n",
      "    X = self._check_non_neg_array(X, \"LatentDirichletAllocation.fit\")\n",
      "  File \"/home/sjlee0218/anaconda3/envs/sjlee_env/lib/python3.7/site-packages/sklearn/decomposition/online_lda.py\", line 469, in _check_non_neg_array\n",
      "    check_non_negative(X, whom)\n",
      "  File \"/home/sjlee0218/anaconda3/envs/sjlee_env/lib/python3.7/site-packages/sklearn/utils/validation.py\", line 941, in check_non_negative\n",
      "    raise ValueError(\"Negative values in data passed to %s\" % whom)\n",
      "ValueError: Negative values in data passed to LatentDirichletAllocation.fit\n"
     ]
    },
    {
     "name": "stdout",
     "output_type": "stream",
     "text": [
      "Fitting configuration: {'clustering_choice': 'KMeans', 'dim_reduction_choice': 'LatentDirichletAllocation', 'learning_method___LatentDirichletAllocation': 'batch', 'n_clusters___KMeans': 19, 'n_components___LatentDirichletAllocation': 2, 'random_state___LatentDirichletAllocation': 6}\n"
     ]
    },
    {
     "name": "stderr",
     "output_type": "stream",
     "text": [
      "Process pynisher function call:\n",
      "Traceback (most recent call last):\n",
      "  File \"/home/sjlee0218/anaconda3/envs/sjlee_env/lib/python3.7/multiprocessing/process.py\", line 297, in _bootstrap\n",
      "    self.run()\n",
      "  File \"/home/sjlee0218/anaconda3/envs/sjlee_env/lib/python3.7/multiprocessing/process.py\", line 99, in run\n",
      "    self._target(*self._args, **self._kwargs)\n",
      "  File \"/home/sjlee0218/anaconda3/envs/sjlee_env/lib/python3.7/site-packages/pynisher/limit_function_call.py\", line 93, in subprocess_func\n",
      "    return_value = ((func(*args, **kwargs), 0))\n",
      "  File \"/home/sjlee0218/coding_project/automl_2019/autocluster/autocluster.py\", line 134, in evaluate_model\n",
      "    candidate_model, _, compressed_data = fit_model(cfg)\n",
      "  File \"/home/sjlee0218/coding_project/automl_2019/autocluster/autocluster.py\", line 117, in fit_model\n",
      "    compressed_data = dim_reduction_model.fit_transform(scaled_data)\n",
      "  File \"/home/sjlee0218/anaconda3/envs/sjlee_env/lib/python3.7/site-packages/sklearn/base.py\", line 553, in fit_transform\n",
      "    return self.fit(X, **fit_params).transform(X)\n",
      "  File \"/home/sjlee0218/anaconda3/envs/sjlee_env/lib/python3.7/site-packages/sklearn/decomposition/online_lda.py\", line 531, in fit\n",
      "    X = self._check_non_neg_array(X, \"LatentDirichletAllocation.fit\")\n",
      "  File \"/home/sjlee0218/anaconda3/envs/sjlee_env/lib/python3.7/site-packages/sklearn/decomposition/online_lda.py\", line 469, in _check_non_neg_array\n",
      "    check_non_negative(X, whom)\n",
      "  File \"/home/sjlee0218/anaconda3/envs/sjlee_env/lib/python3.7/site-packages/sklearn/utils/validation.py\", line 941, in check_non_negative\n",
      "    raise ValueError(\"Negative values in data passed to %s\" % whom)\n",
      "ValueError: Negative values in data passed to LatentDirichletAllocation.fit\n"
     ]
    },
    {
     "name": "stdout",
     "output_type": "stream",
     "text": [
      "Fitting configuration: {'clustering_choice': 'KMeans', 'dim_reduction_choice': 'LatentDirichletAllocation', 'learning_method___LatentDirichletAllocation': 'batch', 'n_clusters___KMeans': 14, 'n_components___LatentDirichletAllocation': 6, 'random_state___LatentDirichletAllocation': 7}\n"
     ]
    },
    {
     "name": "stderr",
     "output_type": "stream",
     "text": [
      "Process pynisher function call:\n",
      "Traceback (most recent call last):\n",
      "  File \"/home/sjlee0218/anaconda3/envs/sjlee_env/lib/python3.7/multiprocessing/process.py\", line 297, in _bootstrap\n",
      "    self.run()\n",
      "  File \"/home/sjlee0218/anaconda3/envs/sjlee_env/lib/python3.7/multiprocessing/process.py\", line 99, in run\n",
      "    self._target(*self._args, **self._kwargs)\n",
      "  File \"/home/sjlee0218/anaconda3/envs/sjlee_env/lib/python3.7/site-packages/pynisher/limit_function_call.py\", line 93, in subprocess_func\n",
      "    return_value = ((func(*args, **kwargs), 0))\n",
      "  File \"/home/sjlee0218/coding_project/automl_2019/autocluster/autocluster.py\", line 134, in evaluate_model\n",
      "    candidate_model, _, compressed_data = fit_model(cfg)\n",
      "  File \"/home/sjlee0218/coding_project/automl_2019/autocluster/autocluster.py\", line 117, in fit_model\n",
      "    compressed_data = dim_reduction_model.fit_transform(scaled_data)\n",
      "  File \"/home/sjlee0218/anaconda3/envs/sjlee_env/lib/python3.7/site-packages/sklearn/base.py\", line 553, in fit_transform\n",
      "    return self.fit(X, **fit_params).transform(X)\n",
      "  File \"/home/sjlee0218/anaconda3/envs/sjlee_env/lib/python3.7/site-packages/sklearn/decomposition/online_lda.py\", line 531, in fit\n",
      "    X = self._check_non_neg_array(X, \"LatentDirichletAllocation.fit\")\n",
      "  File \"/home/sjlee0218/anaconda3/envs/sjlee_env/lib/python3.7/site-packages/sklearn/decomposition/online_lda.py\", line 469, in _check_non_neg_array\n",
      "    check_non_negative(X, whom)\n",
      "  File \"/home/sjlee0218/anaconda3/envs/sjlee_env/lib/python3.7/site-packages/sklearn/utils/validation.py\", line 941, in check_non_negative\n",
      "    raise ValueError(\"Negative values in data passed to %s\" % whom)\n",
      "ValueError: Negative values in data passed to LatentDirichletAllocation.fit\n"
     ]
    },
    {
     "name": "stdout",
     "output_type": "stream",
     "text": [
      "Fitting configuration: {'clustering_choice': 'KMeans', 'dim_reduction_choice': 'LatentDirichletAllocation', 'learning_method___LatentDirichletAllocation': 'batch', 'n_clusters___KMeans': 5, 'n_components___LatentDirichletAllocation': 2, 'random_state___LatentDirichletAllocation': 1}\n"
     ]
    },
    {
     "ename": "ValueError",
     "evalue": "Negative values in data passed to LatentDirichletAllocation.fit",
     "output_type": "error",
     "traceback": [
      "\u001b[0;31m---------------------------------------------------------------------------\u001b[0m",
      "\u001b[0;31mValueError\u001b[0m                                Traceback (most recent call last)",
      "\u001b[0;32m<ipython-input-4-9ba409d65c5f>\u001b[0m in \u001b[0;36m<module>\u001b[0;34m()\u001b[0m\n\u001b[1;32m      4\u001b[0m                                        \u001b[0mn_evaluations\u001b[0m\u001b[0;34m=\u001b[0m\u001b[0;36m40\u001b[0m\u001b[0;34m,\u001b[0m \u001b[0mseed\u001b[0m\u001b[0;34m=\u001b[0m\u001b[0;36m27\u001b[0m\u001b[0;34m,\u001b[0m \u001b[0mrun_obj\u001b[0m\u001b[0;34m=\u001b[0m\u001b[0;34m'quality'\u001b[0m\u001b[0;34m,\u001b[0m \u001b[0mcutoff_time\u001b[0m\u001b[0;34m=\u001b[0m\u001b[0;36m10\u001b[0m\u001b[0;34m,\u001b[0m\u001b[0;34m\u001b[0m\u001b[0;34m\u001b[0m\u001b[0m\n\u001b[1;32m      5\u001b[0m                                        \u001b[0mshared_model\u001b[0m\u001b[0;34m=\u001b[0m\u001b[0;32mTrue\u001b[0m\u001b[0;34m,\u001b[0m \u001b[0mn_parallel_runs\u001b[0m \u001b[0;34m=\u001b[0m \u001b[0;36m3\u001b[0m\u001b[0;34m,\u001b[0m\u001b[0;34m\u001b[0m\u001b[0;34m\u001b[0m\u001b[0m\n\u001b[0;32m----> 6\u001b[0;31m                                        \u001b[0mevaluator\u001b[0m\u001b[0;34m=\u001b[0m\u001b[0;32mlambda\u001b[0m \u001b[0mX\u001b[0m\u001b[0;34m,\u001b[0m \u001b[0my_pred\u001b[0m\u001b[0;34m:\u001b[0m \u001b[0mfloat\u001b[0m\u001b[0;34m(\u001b[0m\u001b[0;34m'inf'\u001b[0m\u001b[0;34m)\u001b[0m \u001b[0;32mif\u001b[0m \u001b[0mlen\u001b[0m\u001b[0;34m(\u001b[0m\u001b[0mset\u001b[0m\u001b[0;34m(\u001b[0m\u001b[0my_pred\u001b[0m\u001b[0;34m)\u001b[0m\u001b[0;34m)\u001b[0m \u001b[0;34m==\u001b[0m \u001b[0;36m1\u001b[0m\u001b[0;31m \u001b[0m\u001b[0;31m\\\u001b[0m\u001b[0;34m\u001b[0m\u001b[0;34m\u001b[0m\u001b[0m\n\u001b[0m\u001b[1;32m      7\u001b[0m                                                 \u001b[0;32melse\u001b[0m \u001b[0;34m-\u001b[0m\u001b[0;36m1\u001b[0m \u001b[0;34m*\u001b[0m \u001b[0msilhouette_score\u001b[0m\u001b[0;34m(\u001b[0m\u001b[0mX\u001b[0m\u001b[0;34m,\u001b[0m \u001b[0my_pred\u001b[0m\u001b[0;34m)\u001b[0m\u001b[0;34m\u001b[0m\u001b[0;34m\u001b[0m\u001b[0m\n\u001b[1;32m      8\u001b[0m \u001b[0;31m#                                                    else davies_bouldin_score(X, y_pred)\u001b[0m\u001b[0;34m\u001b[0m\u001b[0;34m\u001b[0m\u001b[0;34m\u001b[0m\u001b[0m\n",
      "\u001b[0;32m~/coding_project/automl_2019/autocluster/autocluster.py\u001b[0m in \u001b[0;36mfit\u001b[0;34m(self, X, cluster_alg_ls, dim_reduction_alg_ls, n_evaluations, seed, run_obj, cutoff_time, shared_model, n_parallel_runs, evaluator)\u001b[0m\n\u001b[1;32m    146\u001b[0m \u001b[0;34m\u001b[0m\u001b[0m\n\u001b[1;32m    147\u001b[0m         \u001b[0;31m# refit to get optimal model\u001b[0m\u001b[0;34m\u001b[0m\u001b[0;34m\u001b[0m\u001b[0;34m\u001b[0m\u001b[0m\n\u001b[0;32m--> 148\u001b[0;31m         \u001b[0mself\u001b[0m\u001b[0;34m.\u001b[0m\u001b[0m_clustering_model\u001b[0m\u001b[0;34m,\u001b[0m \u001b[0mself\u001b[0m\u001b[0;34m.\u001b[0m\u001b[0m_dim_reduction_model\u001b[0m\u001b[0;34m,\u001b[0m \u001b[0m_\u001b[0m \u001b[0;34m=\u001b[0m \u001b[0mfit_model\u001b[0m\u001b[0;34m(\u001b[0m\u001b[0moptimal_config\u001b[0m\u001b[0;34m)\u001b[0m\u001b[0;34m\u001b[0m\u001b[0;34m\u001b[0m\u001b[0m\n\u001b[0m\u001b[1;32m    149\u001b[0m \u001b[0;34m\u001b[0m\u001b[0m\n\u001b[1;32m    150\u001b[0m         \u001b[0mself\u001b[0m\u001b[0;34m.\u001b[0m\u001b[0m_log\u001b[0m\u001b[0;34m(\u001b[0m\u001b[0;34m\"Optimization is complete.\"\u001b[0m\u001b[0;34m)\u001b[0m\u001b[0;34m\u001b[0m\u001b[0;34m\u001b[0m\u001b[0m\n",
      "\u001b[0;32m~/coding_project/automl_2019/autocluster/autocluster.py\u001b[0m in \u001b[0;36mfit_model\u001b[0;34m(cfg)\u001b[0m\n\u001b[1;32m    115\u001b[0m                 \u001b[0;31m# compress the data using chosen configurations\u001b[0m\u001b[0;34m\u001b[0m\u001b[0;34m\u001b[0m\u001b[0;34m\u001b[0m\u001b[0m\n\u001b[1;32m    116\u001b[0m                 \u001b[0mdim_reduction_model\u001b[0m \u001b[0;34m=\u001b[0m \u001b[0mdim_reduction_alg\u001b[0m\u001b[0;34m.\u001b[0m\u001b[0mmodel\u001b[0m\u001b[0;34m(\u001b[0m\u001b[0;34m**\u001b[0m\u001b[0mcfg_dim_reduction\u001b[0m\u001b[0;34m)\u001b[0m\u001b[0;34m\u001b[0m\u001b[0;34m\u001b[0m\u001b[0m\n\u001b[0;32m--> 117\u001b[0;31m                 \u001b[0mcompressed_data\u001b[0m \u001b[0;34m=\u001b[0m \u001b[0mdim_reduction_model\u001b[0m\u001b[0;34m.\u001b[0m\u001b[0mfit_transform\u001b[0m\u001b[0;34m(\u001b[0m\u001b[0mscaled_data\u001b[0m\u001b[0;34m)\u001b[0m\u001b[0;34m\u001b[0m\u001b[0;34m\u001b[0m\u001b[0m\n\u001b[0m\u001b[1;32m    118\u001b[0m \u001b[0;34m\u001b[0m\u001b[0m\n\u001b[1;32m    119\u001b[0m             \u001b[0;31m# get the model chosen\u001b[0m\u001b[0;34m\u001b[0m\u001b[0;34m\u001b[0m\u001b[0;34m\u001b[0m\u001b[0m\n",
      "\u001b[0;32m~/anaconda3/envs/sjlee_env/lib/python3.7/site-packages/sklearn/base.py\u001b[0m in \u001b[0;36mfit_transform\u001b[0;34m(self, X, y, **fit_params)\u001b[0m\n\u001b[1;32m    551\u001b[0m         \u001b[0;32mif\u001b[0m \u001b[0my\u001b[0m \u001b[0;32mis\u001b[0m \u001b[0;32mNone\u001b[0m\u001b[0;34m:\u001b[0m\u001b[0;34m\u001b[0m\u001b[0;34m\u001b[0m\u001b[0m\n\u001b[1;32m    552\u001b[0m             \u001b[0;31m# fit method of arity 1 (unsupervised transformation)\u001b[0m\u001b[0;34m\u001b[0m\u001b[0;34m\u001b[0m\u001b[0;34m\u001b[0m\u001b[0m\n\u001b[0;32m--> 553\u001b[0;31m             \u001b[0;32mreturn\u001b[0m \u001b[0mself\u001b[0m\u001b[0;34m.\u001b[0m\u001b[0mfit\u001b[0m\u001b[0;34m(\u001b[0m\u001b[0mX\u001b[0m\u001b[0;34m,\u001b[0m \u001b[0;34m**\u001b[0m\u001b[0mfit_params\u001b[0m\u001b[0;34m)\u001b[0m\u001b[0;34m.\u001b[0m\u001b[0mtransform\u001b[0m\u001b[0;34m(\u001b[0m\u001b[0mX\u001b[0m\u001b[0;34m)\u001b[0m\u001b[0;34m\u001b[0m\u001b[0;34m\u001b[0m\u001b[0m\n\u001b[0m\u001b[1;32m    554\u001b[0m         \u001b[0;32melse\u001b[0m\u001b[0;34m:\u001b[0m\u001b[0;34m\u001b[0m\u001b[0;34m\u001b[0m\u001b[0m\n\u001b[1;32m    555\u001b[0m             \u001b[0;31m# fit method of arity 2 (supervised transformation)\u001b[0m\u001b[0;34m\u001b[0m\u001b[0;34m\u001b[0m\u001b[0;34m\u001b[0m\u001b[0m\n",
      "\u001b[0;32m~/anaconda3/envs/sjlee_env/lib/python3.7/site-packages/sklearn/decomposition/online_lda.py\u001b[0m in \u001b[0;36mfit\u001b[0;34m(self, X, y)\u001b[0m\n\u001b[1;32m    529\u001b[0m         \"\"\"\n\u001b[1;32m    530\u001b[0m         \u001b[0mself\u001b[0m\u001b[0;34m.\u001b[0m\u001b[0m_check_params\u001b[0m\u001b[0;34m(\u001b[0m\u001b[0;34m)\u001b[0m\u001b[0;34m\u001b[0m\u001b[0;34m\u001b[0m\u001b[0m\n\u001b[0;32m--> 531\u001b[0;31m         \u001b[0mX\u001b[0m \u001b[0;34m=\u001b[0m \u001b[0mself\u001b[0m\u001b[0;34m.\u001b[0m\u001b[0m_check_non_neg_array\u001b[0m\u001b[0;34m(\u001b[0m\u001b[0mX\u001b[0m\u001b[0;34m,\u001b[0m \u001b[0;34m\"LatentDirichletAllocation.fit\"\u001b[0m\u001b[0;34m)\u001b[0m\u001b[0;34m\u001b[0m\u001b[0;34m\u001b[0m\u001b[0m\n\u001b[0m\u001b[1;32m    532\u001b[0m         \u001b[0mn_samples\u001b[0m\u001b[0;34m,\u001b[0m \u001b[0mn_features\u001b[0m \u001b[0;34m=\u001b[0m \u001b[0mX\u001b[0m\u001b[0;34m.\u001b[0m\u001b[0mshape\u001b[0m\u001b[0;34m\u001b[0m\u001b[0;34m\u001b[0m\u001b[0m\n\u001b[1;32m    533\u001b[0m         \u001b[0mmax_iter\u001b[0m \u001b[0;34m=\u001b[0m \u001b[0mself\u001b[0m\u001b[0;34m.\u001b[0m\u001b[0mmax_iter\u001b[0m\u001b[0;34m\u001b[0m\u001b[0;34m\u001b[0m\u001b[0m\n",
      "\u001b[0;32m~/anaconda3/envs/sjlee_env/lib/python3.7/site-packages/sklearn/decomposition/online_lda.py\u001b[0m in \u001b[0;36m_check_non_neg_array\u001b[0;34m(self, X, whom)\u001b[0m\n\u001b[1;32m    467\u001b[0m         \"\"\"\n\u001b[1;32m    468\u001b[0m         \u001b[0mX\u001b[0m \u001b[0;34m=\u001b[0m \u001b[0mcheck_array\u001b[0m\u001b[0;34m(\u001b[0m\u001b[0mX\u001b[0m\u001b[0;34m,\u001b[0m \u001b[0maccept_sparse\u001b[0m\u001b[0;34m=\u001b[0m\u001b[0;34m'csr'\u001b[0m\u001b[0;34m)\u001b[0m\u001b[0;34m\u001b[0m\u001b[0;34m\u001b[0m\u001b[0m\n\u001b[0;32m--> 469\u001b[0;31m         \u001b[0mcheck_non_negative\u001b[0m\u001b[0;34m(\u001b[0m\u001b[0mX\u001b[0m\u001b[0;34m,\u001b[0m \u001b[0mwhom\u001b[0m\u001b[0;34m)\u001b[0m\u001b[0;34m\u001b[0m\u001b[0;34m\u001b[0m\u001b[0m\n\u001b[0m\u001b[1;32m    470\u001b[0m         \u001b[0;32mreturn\u001b[0m \u001b[0mX\u001b[0m\u001b[0;34m\u001b[0m\u001b[0;34m\u001b[0m\u001b[0m\n\u001b[1;32m    471\u001b[0m \u001b[0;34m\u001b[0m\u001b[0m\n",
      "\u001b[0;32m~/anaconda3/envs/sjlee_env/lib/python3.7/site-packages/sklearn/utils/validation.py\u001b[0m in \u001b[0;36mcheck_non_negative\u001b[0;34m(X, whom)\u001b[0m\n\u001b[1;32m    939\u001b[0m \u001b[0;34m\u001b[0m\u001b[0m\n\u001b[1;32m    940\u001b[0m     \u001b[0;32mif\u001b[0m \u001b[0mX_min\u001b[0m \u001b[0;34m<\u001b[0m \u001b[0;36m0\u001b[0m\u001b[0;34m:\u001b[0m\u001b[0;34m\u001b[0m\u001b[0;34m\u001b[0m\u001b[0m\n\u001b[0;32m--> 941\u001b[0;31m         \u001b[0;32mraise\u001b[0m \u001b[0mValueError\u001b[0m\u001b[0;34m(\u001b[0m\u001b[0;34m\"Negative values in data passed to %s\"\u001b[0m \u001b[0;34m%\u001b[0m \u001b[0mwhom\u001b[0m\u001b[0;34m)\u001b[0m\u001b[0;34m\u001b[0m\u001b[0;34m\u001b[0m\u001b[0m\n\u001b[0m\u001b[1;32m    942\u001b[0m \u001b[0;34m\u001b[0m\u001b[0m\n\u001b[1;32m    943\u001b[0m \u001b[0;34m\u001b[0m\u001b[0m\n",
      "\u001b[0;31mValueError\u001b[0m: Negative values in data passed to LatentDirichletAllocation.fit"
     ]
    }
   ],
   "source": [
    "autocluster = AutoCluster()\n",
    "smac_obj, opt_result = autocluster.fit(X, cluster_alg_ls=['KMeans'], \n",
    "                                       dim_reduction_alg_ls=['LatentDirichletAllocation'],\n",
    "                                       n_evaluations=40, seed=27, run_obj='quality', cutoff_time=10, \n",
    "                                       shared_model=True, n_parallel_runs = 3,\n",
    "                                       evaluator=lambda X, y_pred: float('inf') if len(set(y_pred)) == 1 \\\n",
    "                                                else -1 * silhouette_score(X, y_pred)  \n",
    "#                                                    else davies_bouldin_score(X, y_pred)\n",
    "                                      )"
   ]
  },
  {
   "cell_type": "code",
   "execution_count": 17,
   "metadata": {},
   "outputs": [
    {
     "data": {
      "text/plain": [
       "Configuration:\n",
       "  algorithm___TruncatedSVD, Value: 'arpack'\n",
       "  clustering_choice, Value: 'GaussianMixture'\n",
       "  covariance_type___GaussianMixture, Value: 'spherical'\n",
       "  dim_reduction_choice, Value: 'TruncatedSVD'\n",
       "  init_params___GaussianMixture, Value: 'random'\n",
       "  n_components___GaussianMixture, Value: 15\n",
       "  n_components___TruncatedSVD, Value: 1\n",
       "  random_state___GaussianMixture, Value: 9\n",
       "  random_state___TruncatedSVD, Value: 0\n",
       "  warm_start___GaussianMixture, Value: True"
      ]
     },
     "execution_count": 17,
     "metadata": {},
     "output_type": "execute_result"
    }
   ],
   "source": [
    "opt_result"
   ]
  },
  {
   "cell_type": "code",
   "execution_count": 18,
   "metadata": {},
   "outputs": [
    {
     "ename": "IndexError",
     "evalue": "index 1 is out of bounds for axis 1 with size 1",
     "output_type": "error",
     "traceback": [
      "\u001b[0;31m---------------------------------------------------------------------------\u001b[0m",
      "\u001b[0;31mIndexError\u001b[0m                                Traceback (most recent call last)",
      "\u001b[0;32m<ipython-input-18-d6daa2c71f35>\u001b[0m in \u001b[0;36m<module>\u001b[0;34m()\u001b[0m\n\u001b[0;32m----> 1\u001b[0;31m \u001b[0mpredictions\u001b[0m \u001b[0;34m=\u001b[0m \u001b[0mautocluster\u001b[0m\u001b[0;34m.\u001b[0m\u001b[0mpredict\u001b[0m\u001b[0;34m(\u001b[0m\u001b[0mX\u001b[0m\u001b[0;34m)\u001b[0m\u001b[0;34m\u001b[0m\u001b[0;34m\u001b[0m\u001b[0m\n\u001b[0m\u001b[1;32m      2\u001b[0m \u001b[0mnp\u001b[0m\u001b[0;34m.\u001b[0m\u001b[0munique\u001b[0m\u001b[0;34m(\u001b[0m\u001b[0mpredictions\u001b[0m\u001b[0;34m)\u001b[0m\u001b[0;34m\u001b[0m\u001b[0;34m\u001b[0m\u001b[0m\n",
      "\u001b[0;32m~/coding_project/automl_2019/autocluster/autocluster.py\u001b[0m in \u001b[0;36mpredict\u001b[0;34m(self, X, plot)\u001b[0m\n\u001b[1;32m    187\u001b[0m \u001b[0;34m\u001b[0m\u001b[0m\n\u001b[1;32m    188\u001b[0m             \u001b[0mplt\u001b[0m\u001b[0;34m.\u001b[0m\u001b[0mfigure\u001b[0m\u001b[0;34m(\u001b[0m\u001b[0mfigsize\u001b[0m\u001b[0;34m=\u001b[0m\u001b[0;34m(\u001b[0m\u001b[0;36m10\u001b[0m\u001b[0;34m,\u001b[0m\u001b[0;36m10\u001b[0m\u001b[0;34m)\u001b[0m\u001b[0;34m)\u001b[0m\u001b[0;34m\u001b[0m\u001b[0;34m\u001b[0m\u001b[0m\n\u001b[0;32m--> 189\u001b[0;31m             \u001b[0mplt\u001b[0m\u001b[0;34m.\u001b[0m\u001b[0mscatter\u001b[0m\u001b[0;34m(\u001b[0m\u001b[0mcompressed_X\u001b[0m\u001b[0;34m[\u001b[0m\u001b[0;34m:\u001b[0m\u001b[0;34m,\u001b[0m \u001b[0;36m0\u001b[0m\u001b[0;34m]\u001b[0m\u001b[0;34m,\u001b[0m \u001b[0mcompressed_X\u001b[0m\u001b[0;34m[\u001b[0m\u001b[0;34m:\u001b[0m\u001b[0;34m,\u001b[0m \u001b[0;36m1\u001b[0m\u001b[0;34m]\u001b[0m\u001b[0;34m,\u001b[0m \u001b[0ms\u001b[0m\u001b[0;34m=\u001b[0m\u001b[0;36m7\u001b[0m\u001b[0;34m,\u001b[0m \u001b[0mcolor\u001b[0m\u001b[0;34m=\u001b[0m\u001b[0mcolors\u001b[0m\u001b[0;34m[\u001b[0m\u001b[0my_pred\u001b[0m\u001b[0;34m]\u001b[0m\u001b[0;34m)\u001b[0m\u001b[0;34m\u001b[0m\u001b[0;34m\u001b[0m\u001b[0m\n\u001b[0m\u001b[1;32m    190\u001b[0m             \u001b[0mplt\u001b[0m\u001b[0;34m.\u001b[0m\u001b[0mtick_params\u001b[0m\u001b[0;34m(\u001b[0m\u001b[0maxis\u001b[0m\u001b[0;34m=\u001b[0m\u001b[0;34m'x'\u001b[0m\u001b[0;34m,\u001b[0m \u001b[0mcolors\u001b[0m\u001b[0;34m=\u001b[0m\u001b[0;34m'white'\u001b[0m\u001b[0;34m)\u001b[0m\u001b[0;34m\u001b[0m\u001b[0;34m\u001b[0m\u001b[0m\n\u001b[1;32m    191\u001b[0m             \u001b[0mplt\u001b[0m\u001b[0;34m.\u001b[0m\u001b[0mtick_params\u001b[0m\u001b[0;34m(\u001b[0m\u001b[0maxis\u001b[0m\u001b[0;34m=\u001b[0m\u001b[0;34m'y'\u001b[0m\u001b[0;34m,\u001b[0m \u001b[0mcolors\u001b[0m\u001b[0;34m=\u001b[0m\u001b[0;34m'white'\u001b[0m\u001b[0;34m)\u001b[0m\u001b[0;34m\u001b[0m\u001b[0;34m\u001b[0m\u001b[0m\n",
      "\u001b[0;31mIndexError\u001b[0m: index 1 is out of bounds for axis 1 with size 1"
     ]
    },
    {
     "data": {
      "text/plain": [
       "<Figure size 720x720 with 0 Axes>"
      ]
     },
     "metadata": {},
     "output_type": "display_data"
    }
   ],
   "source": [
    "predictions = autocluster.predict(X)\n",
    "np.unique(predictions)"
   ]
  },
  {
   "cell_type": "code",
   "execution_count": 10,
   "metadata": {},
   "outputs": [
    {
     "data": {
      "text/plain": [
       "[TrajEntry(train_perf=2147483648, incumbent_id=1, incumbent=Configuration:\n",
       "   algorithm___FastICA, Value: 'parallel'\n",
       "   clustering_choice, Value: 'GaussianMixture'\n",
       "   covariance_type___GaussianMixture, Value: 'full'\n",
       "   dim_reduction_choice, Value: 'FastICA'\n",
       "   fun___FastICA, Value: 'logcosh'\n",
       "   init_params___GaussianMixture, Value: 'kmeans'\n",
       "   n_components___FastICA, Value: 2\n",
       "   n_components___GaussianMixture, Value: 5\n",
       "   random_state___FastICA, Value: 1\n",
       "   random_state___GaussianMixture, Value: 0\n",
       "   warm_start___GaussianMixture, Value: False\n",
       "   whiten___FastICA, Value: True\n",
       " , ta_runs=0, ta_time_used=0, wallclock_time=0.0002067089080810547),\n",
       " TrajEntry(train_perf=-0.5640013404575112, incumbent_id=1, incumbent=Configuration:\n",
       "   algorithm___FastICA, Value: 'parallel'\n",
       "   clustering_choice, Value: 'GaussianMixture'\n",
       "   covariance_type___GaussianMixture, Value: 'full'\n",
       "   dim_reduction_choice, Value: 'FastICA'\n",
       "   fun___FastICA, Value: 'logcosh'\n",
       "   init_params___GaussianMixture, Value: 'kmeans'\n",
       "   n_components___FastICA, Value: 2\n",
       "   n_components___GaussianMixture, Value: 5\n",
       "   random_state___FastICA, Value: 1\n",
       "   random_state___GaussianMixture, Value: 0\n",
       "   warm_start___GaussianMixture, Value: False\n",
       "   whiten___FastICA, Value: True\n",
       " , ta_runs=1, ta_time_used=0.2431197166442871, wallclock_time=0.25498032569885254),\n",
       " TrajEntry(train_perf=-0.5813961775684834, incumbent_id=2, incumbent=Configuration:\n",
       "   algorithm___FastICA, Value: 'parallel'\n",
       "   clustering_choice, Value: 'GaussianMixture'\n",
       "   covariance_type___GaussianMixture, Value: 'full'\n",
       "   dim_reduction_choice, Value: 'FastICA'\n",
       "   fun___FastICA, Value: 'exp'\n",
       "   init_params___GaussianMixture, Value: 'random'\n",
       "   n_components___FastICA, Value: 2\n",
       "   n_components___GaussianMixture, Value: 15\n",
       "   random_state___FastICA, Value: 7\n",
       "   random_state___GaussianMixture, Value: 8\n",
       "   warm_start___GaussianMixture, Value: True\n",
       "   whiten___FastICA, Value: False\n",
       " , ta_runs=4, ta_time_used=0.8388245105743408, wallclock_time=2.972675323486328),\n",
       " TrajEntry(train_perf=-0.763230273830973, incumbent_id=3, incumbent=Configuration:\n",
       "   algorithm___FastICA, Value: 'deflation'\n",
       "   clustering_choice, Value: 'GaussianMixture'\n",
       "   covariance_type___GaussianMixture, Value: 'full'\n",
       "   dim_reduction_choice, Value: 'FastICA'\n",
       "   fun___FastICA, Value: 'cube'\n",
       "   init_params___GaussianMixture, Value: 'random'\n",
       "   n_components___FastICA, Value: 2\n",
       "   n_components___GaussianMixture, Value: 3\n",
       "   random_state___FastICA, Value: 0\n",
       "   random_state___GaussianMixture, Value: 5\n",
       "   warm_start___GaussianMixture, Value: False\n",
       "   whiten___FastICA, Value: False\n",
       " , ta_runs=8, ta_time_used=2.4547817707061768, wallclock_time=9.400787830352783),\n",
       " TrajEntry(train_perf=-0.7733701801405796, incumbent_id=4, incumbent=Configuration:\n",
       "   algorithm___FastICA, Value: 'deflation'\n",
       "   clustering_choice, Value: 'GaussianMixture'\n",
       "   covariance_type___GaussianMixture, Value: 'full'\n",
       "   dim_reduction_choice, Value: 'FastICA'\n",
       "   fun___FastICA, Value: 'cube'\n",
       "   init_params___GaussianMixture, Value: 'kmeans'\n",
       "   n_components___FastICA, Value: 2\n",
       "   n_components___GaussianMixture, Value: 3\n",
       "   random_state___FastICA, Value: 7\n",
       "   random_state___GaussianMixture, Value: 1\n",
       "   warm_start___GaussianMixture, Value: True\n",
       "   whiten___FastICA, Value: False\n",
       " , ta_runs=37, ta_time_used=9.606000185012817, wallclock_time=69.07418608665466)]"
      ]
     },
     "execution_count": 10,
     "metadata": {},
     "output_type": "execute_result"
    }
   ],
   "source": [
    "smac_obj.get_trajectory()"
   ]
  },
  {
   "cell_type": "code",
   "execution_count": 11,
   "metadata": {},
   "outputs": [
    {
     "data": {
      "image/png": "[encoded data removed]",
      "text/plain": [
       "<Figure size 720x720 with 1 Axes>"
      ]
     },
     "metadata": {
      "needs_background": "dark"
     },
     "output_type": "display_data"
    }
   ],
   "source": [
    "autocluster.plot_convergence()"
   ]
  },
  {
   "cell_type": "code",
   "execution_count": null,
   "metadata": {},
   "outputs": [],
   "source": []
  }
 ],
 "metadata": {
  "kernelspec": {
   "display_name": "Python [conda env:sjlee_env]",
   "language": "python",
   "name": "conda-env-sjlee_env-py"
  },
  "language_info": {
   "codemirror_mode": {
    "name": "ipython",
    "version": 3
   },
   "file_extension": ".py",
   "mimetype": "text/x-python",
   "name": "python",
   "nbconvert_exporter": "python",
   "pygments_lexer": "ipython3",
   "version": "3.7.3"
  }
 },
 "nbformat": 4,
 "nbformat_minor": 4
}
