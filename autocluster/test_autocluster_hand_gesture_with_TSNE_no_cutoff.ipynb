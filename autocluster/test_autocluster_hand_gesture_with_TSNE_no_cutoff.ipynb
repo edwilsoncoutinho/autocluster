{
 "cells": [
  {
   "cell_type": "code",
   "execution_count": 1,
   "metadata": {},
   "outputs": [],
   "source": [
    "from autocluster import AutoCluster\n",
    "from algorithms import algorithms\n",
    "from build_config_space import build_config_space\n",
    "from utils.clusterutils import ClusterUtils\n",
    "from sklearn.metrics import calinski_harabasz_score, silhouette_score, davies_bouldin_score,\\\n",
    "v_measure_score, homogeneity_score, completeness_score\n",
    "from sklearn import datasets\n",
    "import csv\n",
    "\n",
    "import numpy as np\n",
    "\n",
    "%load_ext autoreload\n",
    "%autoreload 2"
   ]
  },
  {
   "cell_type": "code",
   "execution_count": 2,
   "metadata": {},
   "outputs": [
    {
     "data": {
      "image/png": "[encoded data removed]",
      "text/plain": [
       "<Figure size 432x288 with 1 Axes>"
      ]
     },
     "metadata": {
      "needs_background": "light"
     },
     "output_type": "display_data"
    },
    {
     "name": "stdout",
     "output_type": "stream",
     "text": [
      "(11678, 64)\n",
      "[[  26.    4.    5.    8.   -1.  -13. -109.  -66.   -9.    2.    4.   13.\n",
      "   -18.  -30. -119.  -45.   17.    6.   -1.   -9.   27.   20.   91.   71.\n",
      "   -26.   -1.    0.    1.   13.   20.  -62.  -19.   29.    2.    2.    0.\n",
      "   -23.   -1.  -80.    4.   -7.   -6.  -12.  -27.  -11.  -16.  -67.   -8.\n",
      "   -27.    1.    1.   13.   -8.  -11.   21.  -28.   61.    4.    8.    5.\n",
      "     4.   -7.  -59.   16.]\n",
      " [ -47.   -6.   -5.   -7.   13.   -1.   35.  -10.   10.   -4.    0.    7.\n",
      "   -31.  -33.  -48.  -52.   34.   10.    5.   -9.   23.   63.   76.   49.\n",
      "   -27.   -7.   -7.   -3.    0.    4. -111.   -2.   -7.    7.   11.   11.\n",
      "     2.    2.   76.    3.    7.   -2.    0.   -6.   21.   -3.    0.   -8.\n",
      "   -40.   -4.   -1.    6.   -2.   -2. -105.  -25.   47.    6.    6.    5.\n",
      "    13.   21.  111.   15.]\n",
      " [ -19.   -8.   -8.   -8.  -21.   -6.  -79.   12.    0.    5.    4.   16.\n",
      "    24.    9.   33.   34.   -1.   -4.   -3.   -6.   -7.  -11.  -85.  -12.\n",
      "   -10.   -2.   -3.   -2.   -8.  -30.  -16.  -22.  -21.   -7.   -8.  -12.\n",
      "   -14.  -18.  -76.  -44.   27.    7.    4.   -4.  -10.   23.  127.   69.\n",
      "   -25.  -12.   -9.    1.   18.  -33. -128.  -83.    7.    7.    1.   -8.\n",
      "     7.   21.  114.   48.]\n",
      " [   2.    3.    0.    2.    0.   22.  106.  -14.  -16.   -2.   -3.   -4.\n",
      "    18.   21.   -9.    2.   -8.    0.    3.    5.  -14.  -15.   13.  -13.\n",
      "    11.   -4.   -5.   -8.  -30.  -27. -128.  -22.   -3.   -5.   -8.    0.\n",
      "    25.   -9.  -28.    2.  -22.    8.    8.   -2.    2.   12.   53.   20.\n",
      "    28.   -9.   -5.   -5.   -7.   -7.  -54.  -38.  -11.    4.    7.   11.\n",
      "    33.   39.  119.   43.]\n",
      " [   6.    0.    0.   -2.  -14.   10.  -51.    5.    7.    0.    4.   13.\n",
      "    13.  -16.  -45.   -7.  -84.   -8.   -3.   -4.  -36.  -26. -128.  -55.\n",
      "    75.    3.   -8.  -12.   14.   12.   87.   56.   -3.    2.    0.   -7.\n",
      "     4.   15.  -13.    0.  -15.    1.    3.    8.   -2.   -6.  -55.  -24.\n",
      "     1.    5.    5.    2.   11.   12.   60.   38.  -35.   -8.    2.    6.\n",
      "   -13.  -24. -112.  -69.]]\n"
     ]
    }
   ],
   "source": [
    "with open('../data/hand_gestures_classification/hand_gestures_classification_merged.csv', 'r') as f:\n",
    "    reader = csv.reader(f)\n",
    "    hand_gestures_dataset = list(reader)\n",
    "    \n",
    "hand_gestures_dataset_labels = np.array([int(sublist[-1]) for sublist in hand_gestures_dataset])\n",
    "hand_gestures_dataset = [[float(numStr) if numStr else 0 for numStr in sublist[:-1]] for sublist in hand_gestures_dataset]\n",
    "hand_gestures_dataset = np.array(hand_gestures_dataset)\n",
    "\n",
    "ClusterUtils.visualize_sample_data(hand_gestures_dataset)\n",
    "X = hand_gestures_dataset\n",
    "y_true = hand_gestures_dataset_labels\n",
    "print(hand_gestures_dataset.shape)\n",
    "print(hand_gestures_dataset[:5])"
   ]
  },
  {
   "cell_type": "markdown",
   "metadata": {},
   "source": [
    "### Test with Parallel Runs : Using silhouette_score as Evaluator"
   ]
  },
  {
   "cell_type": "code",
   "execution_count": null,
   "metadata": {},
   "outputs": [],
   "source": [
    "autocluster = AutoCluster()\n",
    "smac_obj, opt_result = autocluster.fit(X, cluster_alg_ls=['GaussianMixture'], \n",
    "                                       dim_reduction_alg_ls=['TSNE'],\n",
    "                                       n_evaluations=50, seed=27, run_obj='quality', cutoff_time=1000, \n",
    "                                       shared_model=True, n_parallel_runs = 3,\n",
    "                                       evaluator=lambda X, y_pred: float('inf') if len(set(y_pred)) == 1 \\\n",
    "                                                else -1 * silhouette_score(X, y_pred)  \n",
    "#                                                    else davies_bouldin_score(X, y_pred)\n",
    "                                      )"
   ]
  },
  {
   "cell_type": "code",
   "execution_count": null,
   "metadata": {},
   "outputs": [],
   "source": [
    "opt_result"
   ]
  },
  {
   "cell_type": "code",
   "execution_count": null,
   "metadata": {},
   "outputs": [],
   "source": [
    "predictions = autocluster.predict(X)\n",
    "np.unique(predictions)"
   ]
  },
  {
   "cell_type": "code",
   "execution_count": null,
   "metadata": {},
   "outputs": [],
   "source": [
    "smac_obj.get_trajectory()"
   ]
  },
  {
   "cell_type": "code",
   "execution_count": null,
   "metadata": {},
   "outputs": [],
   "source": [
    "autocluster.plot_convergence()"
   ]
  },
  {
   "cell_type": "code",
   "execution_count": null,
   "metadata": {},
   "outputs": [],
   "source": [
    "print(predictions[:100])"
   ]
  },
  {
   "cell_type": "code",
   "execution_count": null,
   "metadata": {},
   "outputs": [],
   "source": [
    "print(y_true[:100])"
   ]
  },
  {
   "cell_type": "markdown",
   "metadata": {},
   "source": [
    "- v_measure = (1 + beta) * homogeneity * completeness\n",
    "                / (beta * homogeneity + completeness)\n",
    "  when beta = 1(default), v_measure = the harmonic mean"
   ]
  },
  {
   "cell_type": "code",
   "execution_count": null,
   "metadata": {},
   "outputs": [],
   "source": [
    "print(v_measure_score(labels_true=y_true, labels_pred=predictions))\n",
    "print(homogeneity_score(labels_true=y_true, labels_pred=predictions))\n",
    "print(completeness_score(labels_true=y_true, labels_pred=predictions))"
   ]
  },
  {
   "cell_type": "markdown",
   "metadata": {},
   "source": [
    "###   "
   ]
  },
  {
   "cell_type": "markdown",
   "metadata": {},
   "source": [
    "### Test with Parallel Runs : Using v_measure_score as Evaluator(only for test)"
   ]
  },
  {
   "cell_type": "code",
   "execution_count": null,
   "metadata": {},
   "outputs": [
    {
     "name": "stdout",
     "output_type": "stream",
     "text": [
      "Configuration space object:\n",
      "  Hyperparameters:\n",
      "    clustering_choice, Type: Categorical, Choices: {GaussianMixture}, Default: GaussianMixture\n",
      "    covariance_type___GaussianMixture, Type: Categorical, Choices: {full, tied, diag, spherical}, Default: full\n",
      "    dim_reduction_choice, Type: Categorical, Choices: {TSNE}, Default: TSNE\n",
      "    early_exaggeration___TSNE, Type: UniformFloat, Range: [5.0, 20.0], Default: 12.0\n",
      "    init_params___GaussianMixture, Type: Categorical, Choices: {kmeans, random}, Default: kmeans\n",
      "    n_components___GaussianMixture, Type: UniformInteger, Range: [1, 30], Default: 5\n",
      "    n_components___TSNE, Type: Ordinal, Sequence: {2, 3}, Default: 2\n",
      "    perplexity___TSNE, Type: UniformFloat, Range: [1.0, 300.0], Default: 30.0\n",
      "    random_state___GaussianMixture, Type: UniformInteger, Range: [0, 9], Default: 0\n",
      "    random_state___TSNE, Type: Ordinal, Sequence: {0, 1, 2, 3, 4, 5, 6, 7, 8, 9}, Default: 0\n",
      "    warm_start___GaussianMixture, Type: Categorical, Choices: {True, False}, Default: False\n",
      "  Conditions:\n",
      "    covariance_type___GaussianMixture | clustering_choice in {'GaussianMixture'}\n",
      "    early_exaggeration___TSNE | dim_reduction_choice in {'TSNE'}\n",
      "    init_params___GaussianMixture | clustering_choice in {'GaussianMixture'}\n",
      "    n_components___GaussianMixture | clustering_choice in {'GaussianMixture'}\n",
      "    n_components___TSNE | dim_reduction_choice in {'TSNE'}\n",
      "    perplexity___TSNE | dim_reduction_choice in {'TSNE'}\n",
      "    random_state___GaussianMixture | clustering_choice in {'GaussianMixture'}\n",
      "    random_state___TSNE | dim_reduction_choice in {'TSNE'}\n",
      "    warm_start___GaussianMixture | clustering_choice in {'GaussianMixture'}\n",
      "\n",
      "Truncated n_evaluations: 300\n",
      "{'runcount-limit': 300, 'deterministic': 'true', 'cutoff_time': 10, 'run_obj': 'quality', 'shared_model': True, 'abort_on_first_run_crash': False, 'output_dir': 'log//smac-2019-07-17_14-04-43-58835', 'input_psmac_dirs': ['log//psmac-2019-07-17_14-04-43-58773', 'log//psmac-2019-07-17_14-04-43-58805', 'log//psmac-2019-07-17_14-04-43-58828'], 'cs': Configuration space object:\n",
      "  Hyperparameters:\n",
      "    clustering_choice, Type: Categorical, Choices: {GaussianMixture}, Default: GaussianMixture\n",
      "    covariance_type___GaussianMixture, Type: Categorical, Choices: {full, tied, diag, spherical}, Default: full\n",
      "    dim_reduction_choice, Type: Categorical, Choices: {TSNE}, Default: TSNE\n",
      "    early_exaggeration___TSNE, Type: UniformFloat, Range: [5.0, 20.0], Default: 12.0\n",
      "    init_params___GaussianMixture, Type: Categorical, Choices: {kmeans, random}, Default: kmeans\n",
      "    n_components___GaussianMixture, Type: UniformInteger, Range: [1, 30], Default: 5\n",
      "    n_components___TSNE, Type: Ordinal, Sequence: {2, 3}, Default: 2\n",
      "    perplexity___TSNE, Type: UniformFloat, Range: [1.0, 300.0], Default: 30.0\n",
      "    random_state___GaussianMixture, Type: UniformInteger, Range: [0, 9], Default: 0\n",
      "    random_state___TSNE, Type: Ordinal, Sequence: {0, 1, 2, 3, 4, 5, 6, 7, 8, 9}, Default: 0\n",
      "    warm_start___GaussianMixture, Type: Categorical, Choices: {True, False}, Default: False\n",
      "  Conditions:\n",
      "    covariance_type___GaussianMixture | clustering_choice in {'GaussianMixture'}\n",
      "    early_exaggeration___TSNE | dim_reduction_choice in {'TSNE'}\n",
      "    init_params___GaussianMixture | clustering_choice in {'GaussianMixture'}\n",
      "    n_components___GaussianMixture | clustering_choice in {'GaussianMixture'}\n",
      "    n_components___TSNE | dim_reduction_choice in {'TSNE'}\n",
      "    perplexity___TSNE | dim_reduction_choice in {'TSNE'}\n",
      "    random_state___GaussianMixture | clustering_choice in {'GaussianMixture'}\n",
      "    random_state___TSNE | dim_reduction_choice in {'TSNE'}\n",
      "    warm_start___GaussianMixture | clustering_choice in {'GaussianMixture'}\n",
      "}\n",
      "Fitting configuration: {'covariance_type___GaussianMixture': 'full', 'init_params___GaussianMixture': 'kmeans', 'early_exaggeration___TSNE': 12.0, 'n_components___GaussianMixture': 5, 'perplexity___TSNE': 30.0, 'n_components___TSNE': 2, 'clustering_choice': 'GaussianMixture', 'dim_reduction_choice': 'TSNE'}\n",
      "Fitting configuration: {'dim_reduction_choice': 'TSNE', 'covariance_type___GaussianMixture': 'diag', 'init_params___GaussianMixture': 'kmeans', 'random_state___GaussianMixture': 9, 'n_components___GaussianMixture': 20, 'perplexity___TSNE': 109.84733746122744, 'n_components___TSNE': 3, 'clustering_choice': 'GaussianMixture', 'random_state___TSNE': 4, 'early_exaggeration___TSNE': 9.73296612704863}\n",
      "Fitting configuration: {'dim_reduction_choice': 'TSNE', 'covariance_type___GaussianMixture': 'diag', 'init_params___GaussianMixture': 'kmeans', 'random_state___GaussianMixture': 6, 'n_components___GaussianMixture': 4, 'perplexity___TSNE': 26.099543283340868, 'n_components___TSNE': 2, 'clustering_choice': 'GaussianMixture', 'random_state___TSNE': 9, 'early_exaggeration___TSNE': 19.710607671238108}\n",
      "Fitting configuration: {'dim_reduction_choice': 'TSNE', 'covariance_type___GaussianMixture': 'diag', 'init_params___GaussianMixture': 'kmeans', 'random_state___GaussianMixture': 5, 'n_components___GaussianMixture': 13, 'perplexity___TSNE': 173.20111126695178, 'n_components___TSNE': 2, 'clustering_choice': 'GaussianMixture', 'random_state___TSNE': 3, 'early_exaggeration___TSNE': 12.192279898298654}\n",
      "Fitting configuration: {'dim_reduction_choice': 'TSNE', 'covariance_type___GaussianMixture': 'full', 'init_params___GaussianMixture': 'kmeans', 'random_state___GaussianMixture': 5, 'n_components___GaussianMixture': 25, 'perplexity___TSNE': 5.323901345859351, 'n_components___TSNE': 3, 'clustering_choice': 'GaussianMixture', 'random_state___TSNE': 2, 'early_exaggeration___TSNE': 18.108533652555916}\n",
      "Fitting configuration: {'perplexity___TSNE': 117.84062640654703, 'dim_reduction_choice': 'TSNE', 'covariance_type___GaussianMixture': 'diag', 'init_params___GaussianMixture': 'random', 'random_state___GaussianMixture': 6, 'n_components___GaussianMixture': 13, 'warm_start___GaussianMixture': True, 'n_components___TSNE': 2, 'clustering_choice': 'GaussianMixture', 'random_state___TSNE': 7, 'early_exaggeration___TSNE': 12.414653556878001}\n",
      "Fitting configuration: {'dim_reduction_choice': 'TSNE', 'covariance_type___GaussianMixture': 'tied', 'init_params___GaussianMixture': 'random', 'random_state___GaussianMixture': 2, 'n_components___GaussianMixture': 4, 'perplexity___TSNE': 82.75094197311189, 'n_components___TSNE': 2, 'clustering_choice': 'GaussianMixture', 'random_state___TSNE': 9, 'early_exaggeration___TSNE': 5.3618584825466895}\n",
      "Fitting configuration: {'dim_reduction_choice': 'TSNE', 'covariance_type___GaussianMixture': 'full', 'init_params___GaussianMixture': 'kmeans', 'random_state___GaussianMixture': 1, 'n_components___GaussianMixture': 24, 'perplexity___TSNE': 258.8967655180588, 'n_components___TSNE': 2, 'clustering_choice': 'GaussianMixture', 'random_state___TSNE': 4, 'early_exaggeration___TSNE': 10.387998434081153}\n",
      "Fitting configuration: {'perplexity___TSNE': 231.51158250181192, 'dim_reduction_choice': 'TSNE', 'covariance_type___GaussianMixture': 'diag', 'init_params___GaussianMixture': 'kmeans', 'random_state___GaussianMixture': 3, 'n_components___GaussianMixture': 25, 'warm_start___GaussianMixture': True, 'n_components___TSNE': 3, 'clustering_choice': 'GaussianMixture', 'random_state___TSNE': 7, 'early_exaggeration___TSNE': 10.867337740627196}\n",
      "Fitting configuration: {'dim_reduction_choice': 'TSNE', 'covariance_type___GaussianMixture': 'tied', 'init_params___GaussianMixture': 'kmeans', 'random_state___GaussianMixture': 4, 'n_components___GaussianMixture': 16, 'perplexity___TSNE': 272.2216800057089, 'n_components___TSNE': 3, 'clustering_choice': 'GaussianMixture', 'random_state___TSNE': 5, 'early_exaggeration___TSNE': 8.322426282946292}\n",
      "Fitting configuration: {'dim_reduction_choice': 'TSNE', 'covariance_type___GaussianMixture': 'full', 'init_params___GaussianMixture': 'random', 'random_state___GaussianMixture': 5, 'n_components___GaussianMixture': 26, 'perplexity___TSNE': 104.22972431802756, 'n_components___TSNE': 3, 'clustering_choice': 'GaussianMixture', 'random_state___TSNE': 4, 'early_exaggeration___TSNE': 15.06909250081587}\n",
      "Fitting configuration: {'covariance_type___GaussianMixture': 'tied', 'init_params___GaussianMixture': 'random', 'early_exaggeration___TSNE': 16.79918620803057, 'n_components___GaussianMixture': 21, 'perplexity___TSNE': 209.08193321836487, 'n_components___TSNE': 3, 'clustering_choice': 'GaussianMixture', 'random_state___TSNE': 7, 'dim_reduction_choice': 'TSNE'}\n",
      "Fitting configuration: {'perplexity___TSNE': 276.9436566165483, 'dim_reduction_choice': 'TSNE', 'covariance_type___GaussianMixture': 'diag', 'init_params___GaussianMixture': 'kmeans', 'random_state___GaussianMixture': 3, 'n_components___GaussianMixture': 10, 'warm_start___GaussianMixture': True, 'n_components___TSNE': 3, 'clustering_choice': 'GaussianMixture', 'random_state___TSNE': 3, 'early_exaggeration___TSNE': 13.363658333735573}\n",
      "Fitting configuration: {'perplexity___TSNE': 256.12989525951684, 'dim_reduction_choice': 'TSNE', 'covariance_type___GaussianMixture': 'full', 'init_params___GaussianMixture': 'kmeans', 'random_state___GaussianMixture': 6, 'n_components___GaussianMixture': 23, 'warm_start___GaussianMixture': True, 'n_components___TSNE': 3, 'clustering_choice': 'GaussianMixture', 'random_state___TSNE': 5, 'early_exaggeration___TSNE': 11.859554716159183}\n",
      "Fitting configuration: {'perplexity___TSNE': 121.93078097105312, 'dim_reduction_choice': 'TSNE', 'covariance_type___GaussianMixture': 'tied', 'init_params___GaussianMixture': 'kmeans', 'random_state___GaussianMixture': 4, 'n_components___GaussianMixture': 15, 'warm_start___GaussianMixture': True, 'n_components___TSNE': 2, 'clustering_choice': 'GaussianMixture', 'random_state___TSNE': 9, 'early_exaggeration___TSNE': 11.391063237491995}\n",
      "Fitting configuration: {'covariance_type___GaussianMixture': 'diag', 'init_params___GaussianMixture': 'kmeans', 'early_exaggeration___TSNE': 6.58970624642973, 'n_components___GaussianMixture': 27, 'perplexity___TSNE': 75.93335655711584, 'n_components___TSNE': 2, 'clustering_choice': 'GaussianMixture', 'random_state___TSNE': 7, 'dim_reduction_choice': 'TSNE'}\n",
      "Fitting configuration: {'perplexity___TSNE': 105.81985509589428, 'dim_reduction_choice': 'TSNE', 'covariance_type___GaussianMixture': 'spherical', 'init_params___GaussianMixture': 'random', 'random_state___GaussianMixture': 9, 'n_components___GaussianMixture': 24, 'warm_start___GaussianMixture': True, 'n_components___TSNE': 2, 'clustering_choice': 'GaussianMixture', 'random_state___TSNE': 4, 'early_exaggeration___TSNE': 10.734989717046735}\n",
      "Fitting configuration: {'dim_reduction_choice': 'TSNE', 'covariance_type___GaussianMixture': 'diag', 'init_params___GaussianMixture': 'kmeans', 'random_state___GaussianMixture': 2, 'n_components___GaussianMixture': 8, 'perplexity___TSNE': 56.93691472051492, 'n_components___TSNE': 3, 'clustering_choice': 'GaussianMixture', 'random_state___TSNE': 6, 'early_exaggeration___TSNE': 17.82544152064108}\n",
      "Fitting configuration: {'dim_reduction_choice': 'TSNE', 'covariance_type___GaussianMixture': 'tied', 'init_params___GaussianMixture': 'random', 'random_state___GaussianMixture': 5, 'n_components___GaussianMixture': 28, 'perplexity___TSNE': 97.85077188210192, 'n_components___TSNE': 2, 'clustering_choice': 'GaussianMixture', 'random_state___TSNE': 4, 'early_exaggeration___TSNE': 19.736461482061692}\n",
      "Fitting configuration: {'dim_reduction_choice': 'TSNE', 'covariance_type___GaussianMixture': 'full', 'init_params___GaussianMixture': 'random', 'random_state___GaussianMixture': 2, 'n_components___GaussianMixture': 14, 'perplexity___TSNE': 244.8628323922346, 'n_components___TSNE': 3, 'clustering_choice': 'GaussianMixture', 'random_state___TSNE': 2, 'early_exaggeration___TSNE': 6.055347316773865}\n",
      "Fitting configuration: {'perplexity___TSNE': 52.475266729569256, 'dim_reduction_choice': 'TSNE', 'covariance_type___GaussianMixture': 'spherical', 'init_params___GaussianMixture': 'random', 'random_state___GaussianMixture': 5, 'n_components___GaussianMixture': 26, 'warm_start___GaussianMixture': True, 'n_components___TSNE': 3, 'clustering_choice': 'GaussianMixture', 'random_state___TSNE': 7, 'early_exaggeration___TSNE': 7.274422819421851}\n",
      "Fitting configuration: {'perplexity___TSNE': 33.3659654718986, 'covariance_type___GaussianMixture': 'diag', 'init_params___GaussianMixture': 'random', 'early_exaggeration___TSNE': 6.198676051706994, 'n_components___GaussianMixture': 17, 'warm_start___GaussianMixture': True, 'n_components___TSNE': 2, 'clustering_choice': 'GaussianMixture', 'dim_reduction_choice': 'TSNE'}\n",
      "Fitting configuration: {'dim_reduction_choice': 'TSNE', 'covariance_type___GaussianMixture': 'diag', 'init_params___GaussianMixture': 'kmeans', 'random_state___GaussianMixture': 6, 'n_components___GaussianMixture': 15, 'perplexity___TSNE': 286.90237243691143, 'n_components___TSNE': 3, 'clustering_choice': 'GaussianMixture', 'random_state___TSNE': 8, 'early_exaggeration___TSNE': 16.951691043261164}\n",
      "Fitting configuration: {'perplexity___TSNE': 110.86495178342055, 'dim_reduction_choice': 'TSNE', 'covariance_type___GaussianMixture': 'spherical', 'init_params___GaussianMixture': 'kmeans', 'random_state___GaussianMixture': 2, 'n_components___GaussianMixture': 6, 'warm_start___GaussianMixture': True, 'n_components___TSNE': 2, 'clustering_choice': 'GaussianMixture', 'random_state___TSNE': 9, 'early_exaggeration___TSNE': 16.38463012233081}\n",
      "Fitting configuration: {'perplexity___TSNE': 238.23176939359738, 'dim_reduction_choice': 'TSNE', 'covariance_type___GaussianMixture': 'spherical', 'init_params___GaussianMixture': 'random', 'random_state___GaussianMixture': 2, 'n_components___GaussianMixture': 29, 'warm_start___GaussianMixture': True, 'n_components___TSNE': 3, 'clustering_choice': 'GaussianMixture', 'random_state___TSNE': 3, 'early_exaggeration___TSNE': 9.837154171175499}\n",
      "Fitting configuration: {'dim_reduction_choice': 'TSNE', 'covariance_type___GaussianMixture': 'spherical', 'init_params___GaussianMixture': 'random', 'random_state___GaussianMixture': 8, 'n_components___GaussianMixture': 10, 'perplexity___TSNE': 106.07142580460285, 'n_components___TSNE': 3, 'clustering_choice': 'GaussianMixture', 'random_state___TSNE': 2, 'early_exaggeration___TSNE': 16.951210363462856}\n",
      "Fitting configuration: {'dim_reduction_choice': 'TSNE', 'covariance_type___GaussianMixture': 'full', 'init_params___GaussianMixture': 'random', 'random_state___GaussianMixture': 2, 'n_components___GaussianMixture': 19, 'perplexity___TSNE': 227.07008132071977, 'n_components___TSNE': 3, 'clustering_choice': 'GaussianMixture', 'random_state___TSNE': 9, 'early_exaggeration___TSNE': 5.304537627499526}\n",
      "Fitting configuration: {'perplexity___TSNE': 49.316411041757185, 'covariance_type___GaussianMixture': 'tied', 'init_params___GaussianMixture': 'kmeans', 'early_exaggeration___TSNE': 16.31031430707786, 'n_components___GaussianMixture': 26, 'warm_start___GaussianMixture': True, 'n_components___TSNE': 3, 'clustering_choice': 'GaussianMixture', 'random_state___TSNE': 4, 'dim_reduction_choice': 'TSNE'}\n",
      "Fitting configuration: {'dim_reduction_choice': 'TSNE', 'covariance_type___GaussianMixture': 'diag', 'init_params___GaussianMixture': 'kmeans', 'random_state___GaussianMixture': 6, 'n_components___GaussianMixture': 14, 'perplexity___TSNE': 298.1251832243778, 'n_components___TSNE': 3, 'clustering_choice': 'GaussianMixture', 'random_state___TSNE': 5, 'early_exaggeration___TSNE': 16.201192594465848}\n",
      "Fitting configuration: {'dim_reduction_choice': 'TSNE', 'covariance_type___GaussianMixture': 'full', 'init_params___GaussianMixture': 'random', 'random_state___GaussianMixture': 2, 'n_components___GaussianMixture': 30, 'perplexity___TSNE': 87.62171082383513, 'n_components___TSNE': 3, 'clustering_choice': 'GaussianMixture', 'random_state___TSNE': 1, 'early_exaggeration___TSNE': 14.365028845663144}\n",
      "Fitting configuration: {'perplexity___TSNE': 227.4673197032813, 'covariance_type___GaussianMixture': 'diag', 'init_params___GaussianMixture': 'kmeans', 'random_state___GaussianMixture': 5, 'n_components___GaussianMixture': 2, 'warm_start___GaussianMixture': True, 'n_components___TSNE': 2, 'dim_reduction_choice': 'TSNE', 'clustering_choice': 'GaussianMixture', 'early_exaggeration___TSNE': 5.851602825803438}\n",
      "Fitting configuration: {'dim_reduction_choice': 'TSNE', 'covariance_type___GaussianMixture': 'diag', 'init_params___GaussianMixture': 'kmeans', 'random_state___GaussianMixture': 2, 'n_components___GaussianMixture': 24, 'perplexity___TSNE': 11.882666785627556, 'n_components___TSNE': 3, 'clustering_choice': 'GaussianMixture', 'random_state___TSNE': 5, 'early_exaggeration___TSNE': 13.457967127302705}\n",
      "Fitting configuration: {'dim_reduction_choice': 'TSNE', 'covariance_type___GaussianMixture': 'full', 'init_params___GaussianMixture': 'random', 'random_state___GaussianMixture': 9, 'n_components___GaussianMixture': 22, 'perplexity___TSNE': 282.46721885512005, 'n_components___TSNE': 2, 'clustering_choice': 'GaussianMixture', 'random_state___TSNE': 8, 'early_exaggeration___TSNE': 14.296059663809219}\n",
      "Fitting configuration: {'dim_reduction_choice': 'TSNE', 'covariance_type___GaussianMixture': 'tied', 'init_params___GaussianMixture': 'kmeans', 'random_state___GaussianMixture': 1, 'n_components___GaussianMixture': 8, 'perplexity___TSNE': 195.26029996526458, 'n_components___TSNE': 2, 'clustering_choice': 'GaussianMixture', 'random_state___TSNE': 2, 'early_exaggeration___TSNE': 19.362098758534913}\n",
      "Fitting configuration: {'perplexity___TSNE': 100.87540672734868, 'dim_reduction_choice': 'TSNE', 'covariance_type___GaussianMixture': 'tied', 'init_params___GaussianMixture': 'kmeans', 'random_state___GaussianMixture': 3, 'n_components___GaussianMixture': 28, 'warm_start___GaussianMixture': True, 'n_components___TSNE': 2, 'clustering_choice': 'GaussianMixture', 'random_state___TSNE': 1, 'early_exaggeration___TSNE': 6.628973221170485}\n",
      "Fitting configuration: {'perplexity___TSNE': 205.6174135580881, 'dim_reduction_choice': 'TSNE', 'covariance_type___GaussianMixture': 'tied', 'init_params___GaussianMixture': 'random', 'random_state___GaussianMixture': 2, 'n_components___GaussianMixture': 3, 'warm_start___GaussianMixture': True, 'n_components___TSNE': 2, 'clustering_choice': 'GaussianMixture', 'random_state___TSNE': 1, 'early_exaggeration___TSNE': 9.327182898078238}\n",
      "Fitting configuration: {'dim_reduction_choice': 'TSNE', 'covariance_type___GaussianMixture': 'tied', 'init_params___GaussianMixture': 'random', 'random_state___GaussianMixture': 5, 'n_components___GaussianMixture': 1, 'perplexity___TSNE': 150.6345942440765, 'n_components___TSNE': 3, 'clustering_choice': 'GaussianMixture', 'random_state___TSNE': 9, 'early_exaggeration___TSNE': 14.43111729241532}\n",
      "Fitting configuration: {'perplexity___TSNE': 16.972952457681167, 'dim_reduction_choice': 'TSNE', 'covariance_type___GaussianMixture': 'tied', 'init_params___GaussianMixture': 'random', 'random_state___GaussianMixture': 2, 'n_components___GaussianMixture': 15, 'warm_start___GaussianMixture': True, 'n_components___TSNE': 3, 'clustering_choice': 'GaussianMixture', 'random_state___TSNE': 2, 'early_exaggeration___TSNE': 16.847259185845573}\n",
      "Fitting configuration: {'perplexity___TSNE': 290.60675375306437, 'dim_reduction_choice': 'TSNE', 'covariance_type___GaussianMixture': 'spherical', 'init_params___GaussianMixture': 'kmeans', 'random_state___GaussianMixture': 2, 'n_components___GaussianMixture': 10, 'warm_start___GaussianMixture': True, 'n_components___TSNE': 2, 'clustering_choice': 'GaussianMixture', 'random_state___TSNE': 1, 'early_exaggeration___TSNE': 14.644811527762407}\n",
      "Fitting configuration: {'dim_reduction_choice': 'TSNE', 'covariance_type___GaussianMixture': 'spherical', 'init_params___GaussianMixture': 'random', 'random_state___GaussianMixture': 9, 'n_components___GaussianMixture': 11, 'perplexity___TSNE': 52.22210100358928, 'n_components___TSNE': 3, 'clustering_choice': 'GaussianMixture', 'random_state___TSNE': 6, 'early_exaggeration___TSNE': 5.792915572935753}\n",
      "Fitting configuration: {'dim_reduction_choice': 'TSNE', 'covariance_type___GaussianMixture': 'diag', 'init_params___GaussianMixture': 'random', 'random_state___GaussianMixture': 2, 'n_components___GaussianMixture': 14, 'perplexity___TSNE': 139.08479400998934, 'n_components___TSNE': 3, 'clustering_choice': 'GaussianMixture', 'random_state___TSNE': 8, 'early_exaggeration___TSNE': 18.181138066516617}\n",
      "Fitting configuration: {'perplexity___TSNE': 150.35456371952736, 'dim_reduction_choice': 'TSNE', 'covariance_type___GaussianMixture': 'full', 'init_params___GaussianMixture': 'kmeans', 'random_state___GaussianMixture': 5, 'n_components___GaussianMixture': 12, 'warm_start___GaussianMixture': True, 'n_components___TSNE': 3, 'clustering_choice': 'GaussianMixture', 'random_state___TSNE': 4, 'early_exaggeration___TSNE': 12.187229178980424}\n",
      "Fitting configuration: {'perplexity___TSNE': 178.0047444230287, 'dim_reduction_choice': 'TSNE', 'covariance_type___GaussianMixture': 'full', 'init_params___GaussianMixture': 'random', 'random_state___GaussianMixture': 7, 'n_components___GaussianMixture': 20, 'warm_start___GaussianMixture': True, 'n_components___TSNE': 3, 'clustering_choice': 'GaussianMixture', 'random_state___TSNE': 1, 'early_exaggeration___TSNE': 6.923817853815114}\n",
      "Fitting configuration: {'dim_reduction_choice': 'TSNE', 'covariance_type___GaussianMixture': 'spherical', 'init_params___GaussianMixture': 'kmeans', 'random_state___GaussianMixture': 7, 'n_components___GaussianMixture': 20, 'perplexity___TSNE': 97.5949537017748, 'n_components___TSNE': 3, 'clustering_choice': 'GaussianMixture', 'random_state___TSNE': 2, 'early_exaggeration___TSNE': 15.782164637613203}\n",
      "Fitting configuration: {'perplexity___TSNE': 299.189283906769, 'dim_reduction_choice': 'TSNE', 'covariance_type___GaussianMixture': 'full', 'init_params___GaussianMixture': 'kmeans', 'random_state___GaussianMixture': 8, 'n_components___GaussianMixture': 22, 'warm_start___GaussianMixture': True, 'n_components___TSNE': 2, 'clustering_choice': 'GaussianMixture', 'random_state___TSNE': 6, 'early_exaggeration___TSNE': 12.991226261994417}\n",
      "Fitting configuration: {'covariance_type___GaussianMixture': 'spherical', 'init_params___GaussianMixture': 'random', 'random_state___GaussianMixture': 1, 'n_components___GaussianMixture': 3, 'perplexity___TSNE': 132.48640168089787, 'n_components___TSNE': 3, 'dim_reduction_choice': 'TSNE', 'clustering_choice': 'GaussianMixture', 'early_exaggeration___TSNE': 11.722502507786405}\n",
      "Fitting configuration: {'dim_reduction_choice': 'TSNE', 'covariance_type___GaussianMixture': 'spherical', 'init_params___GaussianMixture': 'kmeans', 'random_state___GaussianMixture': 5, 'n_components___GaussianMixture': 21, 'perplexity___TSNE': 14.58358402735574, 'n_components___TSNE': 2, 'clustering_choice': 'GaussianMixture', 'random_state___TSNE': 6, 'early_exaggeration___TSNE': 14.591227853766483}\n",
      "Fitting configuration: {'dim_reduction_choice': 'TSNE', 'covariance_type___GaussianMixture': 'tied', 'init_params___GaussianMixture': 'kmeans', 'random_state___GaussianMixture': 5, 'n_components___GaussianMixture': 4, 'perplexity___TSNE': 42.569082515726116, 'n_components___TSNE': 2, 'clustering_choice': 'GaussianMixture', 'random_state___TSNE': 1, 'early_exaggeration___TSNE': 12.35533385500661}\n",
      "Fitting configuration: {'perplexity___TSNE': 51.05301714623621, 'dim_reduction_choice': 'TSNE', 'covariance_type___GaussianMixture': 'full', 'init_params___GaussianMixture': 'random', 'random_state___GaussianMixture': 2, 'n_components___GaussianMixture': 25, 'warm_start___GaussianMixture': True, 'n_components___TSNE': 3, 'clustering_choice': 'GaussianMixture', 'random_state___TSNE': 5, 'early_exaggeration___TSNE': 7.2919077697481445}\n",
      "Fitting configuration: {'perplexity___TSNE': 124.24869028265807, 'covariance_type___GaussianMixture': 'full', 'init_params___GaussianMixture': 'kmeans', 'random_state___GaussianMixture': 1, 'n_components___GaussianMixture': 20, 'warm_start___GaussianMixture': True, 'n_components___TSNE': 3, 'dim_reduction_choice': 'TSNE', 'clustering_choice': 'GaussianMixture', 'early_exaggeration___TSNE': 17.673652255986724}\n",
      "Fitting configuration: {'dim_reduction_choice': 'TSNE', 'covariance_type___GaussianMixture': 'diag', 'init_params___GaussianMixture': 'kmeans', 'random_state___GaussianMixture': 9, 'n_components___GaussianMixture': 29, 'perplexity___TSNE': 95.57905546664313, 'n_components___TSNE': 3, 'clustering_choice': 'GaussianMixture', 'random_state___TSNE': 2, 'early_exaggeration___TSNE': 11.837121170333342}\n",
      "Fitting configuration: {'perplexity___TSNE': 244.04390934042488, 'dim_reduction_choice': 'TSNE', 'covariance_type___GaussianMixture': 'diag', 'init_params___GaussianMixture': 'random', 'random_state___GaussianMixture': 9, 'n_components___GaussianMixture': 24, 'warm_start___GaussianMixture': True, 'n_components___TSNE': 3, 'clustering_choice': 'GaussianMixture', 'random_state___TSNE': 6, 'early_exaggeration___TSNE': 15.032413183527144}\n",
      "Fitting configuration: {'perplexity___TSNE': 66.47983681505522, 'dim_reduction_choice': 'TSNE', 'covariance_type___GaussianMixture': 'full', 'init_params___GaussianMixture': 'random', 'random_state___GaussianMixture': 4, 'n_components___GaussianMixture': 15, 'warm_start___GaussianMixture': True, 'n_components___TSNE': 3, 'clustering_choice': 'GaussianMixture', 'random_state___TSNE': 2, 'early_exaggeration___TSNE': 10.195024130941603}\n",
      "Fitting configuration: {'perplexity___TSNE': 295.81251572968137, 'dim_reduction_choice': 'TSNE', 'covariance_type___GaussianMixture': 'full', 'init_params___GaussianMixture': 'kmeans', 'random_state___GaussianMixture': 3, 'n_components___GaussianMixture': 4, 'warm_start___GaussianMixture': True, 'n_components___TSNE': 3, 'clustering_choice': 'GaussianMixture', 'random_state___TSNE': 8, 'early_exaggeration___TSNE': 12.864829352894807}\n",
      "Fitting configuration: {'perplexity___TSNE': 169.75604420509728, 'dim_reduction_choice': 'TSNE', 'covariance_type___GaussianMixture': 'diag', 'init_params___GaussianMixture': 'kmeans', 'random_state___GaussianMixture': 9, 'n_components___GaussianMixture': 4, 'warm_start___GaussianMixture': True, 'n_components___TSNE': 2, 'clustering_choice': 'GaussianMixture', 'random_state___TSNE': 5, 'early_exaggeration___TSNE': 7.005849084836205}\n",
      "Fitting configuration: {'dim_reduction_choice': 'TSNE', 'covariance_type___GaussianMixture': 'tied', 'init_params___GaussianMixture': 'random', 'random_state___GaussianMixture': 9, 'n_components___GaussianMixture': 29, 'perplexity___TSNE': 59.66747455155185, 'n_components___TSNE': 3, 'clustering_choice': 'GaussianMixture', 'random_state___TSNE': 3, 'early_exaggeration___TSNE': 8.260578917199508}\n",
      "Fitting configuration: {'dim_reduction_choice': 'TSNE', 'covariance_type___GaussianMixture': 'diag', 'init_params___GaussianMixture': 'kmeans', 'random_state___GaussianMixture': 2, 'n_components___GaussianMixture': 17, 'perplexity___TSNE': 236.7941917125923, 'n_components___TSNE': 2, 'clustering_choice': 'GaussianMixture', 'random_state___TSNE': 9, 'early_exaggeration___TSNE': 14.706152142732677}\n",
      "Fitting configuration: {'dim_reduction_choice': 'TSNE', 'covariance_type___GaussianMixture': 'full', 'init_params___GaussianMixture': 'random', 'random_state___GaussianMixture': 2, 'n_components___GaussianMixture': 25, 'perplexity___TSNE': 216.56081456671316, 'n_components___TSNE': 2, 'clustering_choice': 'GaussianMixture', 'random_state___TSNE': 5, 'early_exaggeration___TSNE': 11.043803655410837}\n",
      "Fitting configuration: {'perplexity___TSNE': 15.430991124519027, 'covariance_type___GaussianMixture': 'full', 'init_params___GaussianMixture': 'kmeans', 'random_state___GaussianMixture': 7, 'n_components___GaussianMixture': 21, 'warm_start___GaussianMixture': True, 'n_components___TSNE': 3, 'dim_reduction_choice': 'TSNE', 'clustering_choice': 'GaussianMixture', 'early_exaggeration___TSNE': 9.640380297528768}\n",
      "Fitting configuration: {'covariance_type___GaussianMixture': 'full', 'init_params___GaussianMixture': 'kmeans', 'random_state___GaussianMixture': 6, 'n_components___GaussianMixture': 4, 'perplexity___TSNE': 235.54273740024763, 'n_components___TSNE': 2, 'dim_reduction_choice': 'TSNE', 'clustering_choice': 'GaussianMixture', 'early_exaggeration___TSNE': 8.238233528594867}\n"
     ]
    }
   ],
   "source": [
    "autocluster_test = AutoCluster()\n",
    "smac_obj_test, opt_result_test = autocluster_test.fit(X, cluster_alg_ls=['GaussianMixture'], \n",
    "                                       dim_reduction_alg_ls=['TSNE'],\n",
    "                                       n_evaluations=300, seed=27, run_obj='quality', \n",
    "                                       shared_model=True, n_parallel_runs = 3,\n",
    "                                       evaluator=lambda X, y_pred: float('inf') if len(set(y_pred)) == 1 \\\n",
    "                                                #else -1 * silhouette_score(X, y_pred)  \n",
    "#                                                    else davies_bouldin_score(X, y_pred)\n",
    "                                               else -1 * v_measure_score(labels_true=y_true, \\\n",
    "                                                                    labels_pred=y_pred)\n",
    "                                      )"
   ]
  },
  {
   "cell_type": "code",
   "execution_count": null,
   "metadata": {},
   "outputs": [],
   "source": [
    "opt_result_test"
   ]
  },
  {
   "cell_type": "code",
   "execution_count": null,
   "metadata": {},
   "outputs": [],
   "source": [
    "predictions_test = autocluster_test.predict(X)\n",
    "np.unique(predictions_test)"
   ]
  },
  {
   "cell_type": "code",
   "execution_count": null,
   "metadata": {},
   "outputs": [],
   "source": [
    "smac_obj_test.get_trajectory()"
   ]
  },
  {
   "cell_type": "code",
   "execution_count": null,
   "metadata": {},
   "outputs": [],
   "source": [
    "autocluster_test.plot_convergence()"
   ]
  },
  {
   "cell_type": "code",
   "execution_count": null,
   "metadata": {},
   "outputs": [],
   "source": [
    "print(predictions_test[:100])"
   ]
  },
  {
   "cell_type": "code",
   "execution_count": null,
   "metadata": {},
   "outputs": [],
   "source": [
    "print(y_true[:100])"
   ]
  },
  {
   "cell_type": "code",
   "execution_count": null,
   "metadata": {},
   "outputs": [],
   "source": [
    "print(v_measure_score(labels_true=y_true, labels_pred=predictions_test))\n",
    "print(homogeneity_score(labels_true=y_true, labels_pred=predictions_test))\n",
    "print(completeness_score(labels_true=y_true, labels_pred=predictions_test))"
   ]
  },
  {
   "cell_type": "code",
   "execution_count": null,
   "metadata": {},
   "outputs": [],
   "source": []
  }
 ],
 "metadata": {
  "kernelspec": {
   "display_name": "Python [conda env:automl]",
   "language": "python",
   "name": "conda-env-automl-py"
  },
  "language_info": {
   "codemirror_mode": {
    "name": "ipython",
    "version": 3
   },
   "file_extension": ".py",
   "mimetype": "text/x-python",
   "name": "python",
   "nbconvert_exporter": "python",
   "pygments_lexer": "ipython3",
   "version": "3.5.6"
  }
 },
 "nbformat": 4,
 "nbformat_minor": 2
}
