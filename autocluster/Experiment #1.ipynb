{
 "cells": [
  {
   "cell_type": "markdown",
   "metadata": {},
   "source": [
    "## Experiment #1\n",
    "Speed comparison with random search"
   ]
  },
  {
   "cell_type": "code",
   "execution_count": null,
   "metadata": {},
   "outputs": [],
   "source": [
    "from skopt import dummy_minimize\n",
    "from autocluster import AutoCluster\n",
    "from algorithms import algorithms"
   ]
  },
  {
   "cell_type": "code",
   "execution_count": null,
   "metadata": {},
   "outputs": [],
   "source": [
    "import time\n",
    "import warnings\n",
    "\n",
    "import numpy as np\n",
    "import matplotlib.pyplot as plt\n",
    "\n",
    "from sklearn import cluster, datasets, mixture\n",
    "from sklearn.neighbors import kneighbors_graph\n",
    "from sklearn.preprocessing import StandardScaler\n",
    "from itertools import cycle, islice\n",
    "\n",
    "np.random.seed(0)"
   ]
  },
  {
   "cell_type": "code",
   "execution_count": null,
   "metadata": {},
   "outputs": [],
   "source": [
    "# ============\n",
    "# Generate datasets. We choose the size big enough to see the scalability\n",
    "# of the algorithms, but not too big to avoid too long running times\n",
    "# ============\n",
    "n_samples = 1500\n",
    "noisy_circles = datasets.make_circles(n_samples=n_samples, factor=.5,\n",
    "                                      noise=.05)\n",
    "noisy_moons = datasets.make_moons(n_samples=n_samples, noise=.05)\n",
    "blobs = datasets.make_blobs(n_samples=n_samples, random_state=8)\n",
    "no_structure = np.random.rand(n_samples, 2), None\n",
    "\n",
    "# Anisotropicly distributed data\n",
    "random_state = 170\n",
    "X, y = datasets.make_blobs(n_samples=n_samples, random_state=random_state)\n",
    "transformation = [[0.6, -0.6], [-0.4, 0.8]]\n",
    "X_aniso = np.dot(X, transformation)\n",
    "aniso = (X_aniso, y)\n",
    "\n",
    "# blobs with varied variances\n",
    "varied = datasets.make_blobs(n_samples=n_samples,\n",
    "                             cluster_std=[1.0, 2.5, 0.5],\n",
    "                             random_state=random_state)"
   ]
  },
  {
   "cell_type": "code",
   "execution_count": null,
   "metadata": {},
   "outputs": [],
   "source": [
    "def visualize_data(data):\n",
    "    points = data\n",
    "    plt.scatter(points[:, 0], points[:, 1])\n",
    "    plt.show()"
   ]
  },
  {
   "cell_type": "code",
   "execution_count": null,
   "metadata": {},
   "outputs": [],
   "source": [
    "visualize_data(X)\n",
    "visualize_data(X_aniso)\n",
    "visualize_data(varied[0])\n",
    "visualize_data(noisy_circles[0])\n",
    "visualize_data(noisy_moons[0])"
   ]
  },
  {
   "cell_type": "code",
   "execution_count": null,
   "metadata": {},
   "outputs": [],
   "source": [
    "def fit_model(cfg):\n",
    "    # convert cfg into a dictionary\n",
    "    cfg = {k : cfg[k] for k in cfg if cfg[k]}\n",
    "\n",
    "    # remove keys with value == None\n",
    "    cfg_subset = {k: v for k, v in cfg.items() if v is not None}\n",
    "\n",
    "    # get the model chosen\n",
    "    algorithm = Mapper.getClass(cfg_subset[\"algorithm_choice\"])\n",
    "\n",
    "    # pop \"algorithm_choice\" key from the dictionary\n",
    "    cfg_subset.pop(\"algorithm_choice\", None)\n",
    "\n",
    "    # decode the encoded parameters\n",
    "    cfg_subset_decoded = {StringUtils.decode_parameter(k, algorithm.name): v for k, v in cfg_subset.items()}\n",
    "\n",
    "    # build model\n",
    "    model = algorithm.model(**cfg_subset_decoded)\n",
    "    model.fit(scaled_data)\n",
    "\n",
    "def evaluate_model(cfg):\n",
    "    candidate_model = fit_model(cfg)\n",
    "\n",
    "    if hasattr(candidate_model, 'labels_'):\n",
    "        y_pred = candidate_model.labels_.astype(np.int)\n",
    "    else:\n",
    "        y_pred = candidate_model.predict(scaled_data)\n",
    "\n",
    "    if len(set(y_pred)) == 1:\n",
    "        return 1\n",
    "    else:\n",
    "        return -1 * metrics.silhouette_score(scaled_data, y_pred, metric='euclidean')"
   ]
  },
  {
   "cell_type": "code",
   "execution_count": null,
   "metadata": {},
   "outputs": [],
   "source": []
  }
 ],
 "metadata": {
  "kernelspec": {
   "display_name": "Python 3",
   "language": "python",
   "name": "python3"
  },
  "language_info": {
   "codemirror_mode": {
    "name": "ipython",
    "version": 3
   },
   "file_extension": ".py",
   "mimetype": "text/x-python",
   "name": "python",
   "nbconvert_exporter": "python",
   "pygments_lexer": "ipython3",
   "version": "3.7.3"
  }
 },
 "nbformat": 4,
 "nbformat_minor": 2
}
