{
 "cells": [
  {
   "cell_type": "code",
   "execution_count": 20,
   "metadata": {},
   "outputs": [
    {
     "name": "stdout",
     "output_type": "stream",
     "text": [
      "['158023' 'L. Messi' '31' 'Argentina' '94' '94' 'FC Barcelona' '110.5'\n",
      " '565' '2202' 'Left' '5' '4' '4' 'Medium' 'Medium' 'Messi' 'Yes' 'RF' '67'\n",
      " '159' '90' '90' '90' '94' '95' '95' '95' '94' '95' '95' '95' '93' '86'\n",
      " '86' '86' '93' '66' '63' '63' '63' '66' '61' '49' '49' '49' '61' '84'\n",
      " '95' '70' '90' '86' '97' '93' '94' '87' '96' '91' '86' '91' '95' '95'\n",
      " '85' '68' '72' '59' '94' '48' '22' '94' '94' '75' '96' '33' '28' '26' '6'\n",
      " '11' '15' '14' '8' '226.5']\n"
     ]
    }
   ],
   "source": [
    "import numpy as np\n",
    "import csv\n",
    "import scipy.stats as scStat\n",
    "\n",
    "with open('../data/fifa19.csv', 'r') as f:\n",
    "    reader = csv.reader(f)\n",
    "    X = list(reader)\n",
    "del X[0]\n",
    "\n",
    "X = np.array(X)\n",
    "print(X[0])"
   ]
  },
  {
   "cell_type": "code",
   "execution_count": 6,
   "metadata": {},
   "outputs": [
    {
     "data": {
      "text/plain": [
       "18207"
      ]
     },
     "execution_count": 6,
     "metadata": {},
     "output_type": "execute_result"
    }
   ],
   "source": [
    "len(X)"
   ]
  },
  {
   "cell_type": "code",
   "execution_count": 5,
   "metadata": {},
   "outputs": [
    {
     "data": {
      "text/plain": [
       "82"
      ]
     },
     "execution_count": 5,
     "metadata": {},
     "output_type": "execute_result"
    }
   ],
   "source": [
    "X.shape[1]"
   ]
  },
  {
   "cell_type": "code",
   "execution_count": 7,
   "metadata": {},
   "outputs": [
    {
     "data": {
      "text/plain": [
       "28"
      ]
     },
     "execution_count": 7,
     "metadata": {},
     "output_type": "execute_result"
    }
   ],
   "source": [
    "len(np.unique(X[:, 18]))"
   ]
  },
  {
   "cell_type": "code",
   "execution_count": 9,
   "metadata": {},
   "outputs": [
    {
     "data": {
      "text/plain": [
       "82"
      ]
     },
     "execution_count": 9,
     "metadata": {},
     "output_type": "execute_result"
    }
   ],
   "source": [
    "count = 0\n",
    "for item in X[0]:\n",
    "    if type(item) is not str:\n",
    "        count += 1\n",
    "count"
   ]
  },
  {
   "cell_type": "code",
   "execution_count": 11,
   "metadata": {},
   "outputs": [
    {
     "data": {
      "text/plain": [
       "2221"
      ]
     },
     "execution_count": 11,
     "metadata": {},
     "output_type": "execute_result"
    }
   ],
   "source": [
    "count = 0\n",
    "for sublist in X:\n",
    "    for value in sublist:\n",
    "        if not value:\n",
    "            count += 1\n",
    "count"
   ]
  },
  {
   "cell_type": "code",
   "execution_count": 16,
   "metadata": {},
   "outputs": [
    {
     "name": "stdout",
     "output_type": "stream",
     "text": [
      "1492974\n"
     ]
    }
   ],
   "source": [
    "num = len(X) * len(X[0])\n",
    "print(num)"
   ]
  },
  {
   "cell_type": "code",
   "execution_count": 37,
   "metadata": {},
   "outputs": [
    {
     "name": "stdout",
     "output_type": "stream",
     "text": [
      "[  0.39173186   0.06717939   0.26613167 -10.28217888  -1.93639701]\n",
      "-10.282178884321816\n",
      "0.39173186219064426\n",
      "0.06717938706202287\n",
      "-2.298706594708471\n",
      "-1.936397007051656\n",
      "0.2661316685784485\n"
     ]
    }
   ],
   "source": [
    "X_numeric_ex = [[float(value[2]), float(value[4]), float(value[5]), float(value[19]), float(value[20])] for value in X]\n",
    "skewness = scStat.skew(X_numeric_ex)\n",
    "print(skewness)\n",
    "print(min(skewness))\n",
    "print(max(skewness))\n",
    "print(np.median(skewness))\n",
    "print(np.mean(skewness))\n",
    "print(np.percentile(skewness, 25))\n",
    "print(np.percentile(skewness, 75))"
   ]
  },
  {
   "cell_type": "code",
   "execution_count": 39,
   "metadata": {},
   "outputs": [
    {
     "name": "stdout",
     "output_type": "stream",
     "text": [
      "[-4.59716898e-01  9.62126239e-02  3.54864452e-02  1.60017978e+02\n",
      "  1.88159881e+01]\n"
     ]
    }
   ],
   "source": [
    "#kurtosis = scStat.kurtosis(X_numeric_ex)\n",
    "print(kurtosis)"
   ]
  },
  {
   "cell_type": "code",
   "execution_count": 44,
   "metadata": {},
   "outputs": [
    {
     "name": "stdout",
     "output_type": "stream",
     "text": [
      "[[ 1.          0.45234952 -0.25331211  0.04943658  0.20241583]\n",
      " [ 0.45234952  1.          0.66093854  0.04813651  0.15075077]\n",
      " [-0.25331211  0.66093854  1.          0.02463824  0.01189186]\n",
      " [ 0.04943658  0.04813651  0.02463824  1.          0.77667253]\n",
      " [ 0.20241583  0.15075077  0.01189186  0.77667253  1.        ]]\n",
      "(5, 5)\n"
     ]
    }
   ],
   "source": [
    "X_numeric_ex = np.array(X_numeric_ex)\n",
    "corr = np.corrcoef(X_numeric_ex.T)\n",
    "print(corr)\n",
    "print(corr.shape)"
   ]
  },
  {
   "cell_type": "code",
   "execution_count": 65,
   "metadata": {},
   "outputs": [
    {
     "name": "stdout",
     "output_type": "stream",
     "text": [
      "[[ 0.          0.45234952 -0.25331211  0.04943658  0.20241583]\n",
      " [ 0.45234952  0.          0.66093854  0.04813651  0.15075077]\n",
      " [-0.25331211  0.66093854  0.          0.02463824  0.01189186]\n",
      " [ 0.04943658  0.04813651  0.02463824  0.          0.77667253]\n",
      " [ 0.20241583  0.15075077  0.01189186  0.77667253  0.        ]]\n"
     ]
    }
   ],
   "source": [
    "for i in range(len(corr)):\n",
    "    corr[i][i] = 0\n",
    "    \n",
    "print(corr)"
   ]
  },
  {
   "cell_type": "code",
   "execution_count": null,
   "metadata": {},
   "outputs": [],
   "source": []
  }
 ],
 "metadata": {
  "kernelspec": {
   "display_name": "Python [conda env:automl]",
   "language": "python",
   "name": "conda-env-automl-py"
  },
  "language_info": {
   "codemirror_mode": {
    "name": "ipython",
    "version": 3
   },
   "file_extension": ".py",
   "mimetype": "text/x-python",
   "name": "python",
   "nbconvert_exporter": "python",
   "pygments_lexer": "ipython3",
   "version": "3.5.6"
  }
 },
 "nbformat": 4,
 "nbformat_minor": 2
}
