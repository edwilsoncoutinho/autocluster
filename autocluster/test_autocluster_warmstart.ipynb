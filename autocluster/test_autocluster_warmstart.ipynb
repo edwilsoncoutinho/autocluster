{
 "cells": [
  {
   "cell_type": "code",
   "execution_count": 1,
   "metadata": {},
   "outputs": [],
   "source": [
    "from autocluster import AutoCluster\n",
    "from evaluators import get_evaluator\n",
    "from sklearn import datasets\n",
    "from collections import Counter\n",
    "from utils.metafeatures import MetafeatureMapper\n",
    "from sklearn.metrics.cluster import v_measure_score\n",
    "import pandas as pd\n",
    "\n",
    "%load_ext autoreload\n",
    "%autoreload 2"
   ]
  },
  {
   "cell_type": "code",
   "execution_count": 2,
   "metadata": {},
   "outputs": [
    {
     "data": {
      "text/html": [
       "<div>\n",
       "<style scoped>\n",
       "    .dataframe tbody tr th:only-of-type {\n",
       "        vertical-align: middle;\n",
       "    }\n",
       "\n",
       "    .dataframe tbody tr th {\n",
       "        vertical-align: top;\n",
       "    }\n",
       "\n",
       "    .dataframe thead th {\n",
       "        text-align: right;\n",
       "    }\n",
       "</style>\n",
       "<table border=\"1\" class=\"dataframe\">\n",
       "  <thead>\n",
       "    <tr style=\"text-align: right;\">\n",
       "      <th></th>\n",
       "      <th>0</th>\n",
       "      <th>1</th>\n",
       "      <th>2</th>\n",
       "      <th>3</th>\n",
       "      <th>4</th>\n",
       "      <th>5</th>\n",
       "      <th>6</th>\n",
       "      <th>7</th>\n",
       "      <th>8</th>\n",
       "      <th>9</th>\n",
       "      <th>...</th>\n",
       "      <th>54</th>\n",
       "      <th>55</th>\n",
       "      <th>56</th>\n",
       "      <th>57</th>\n",
       "      <th>58</th>\n",
       "      <th>59</th>\n",
       "      <th>60</th>\n",
       "      <th>61</th>\n",
       "      <th>62</th>\n",
       "      <th>63</th>\n",
       "    </tr>\n",
       "  </thead>\n",
       "  <tbody>\n",
       "    <tr>\n",
       "      <th>0</th>\n",
       "      <td>0.0</td>\n",
       "      <td>0.0</td>\n",
       "      <td>5.0</td>\n",
       "      <td>13.0</td>\n",
       "      <td>9.0</td>\n",
       "      <td>1.0</td>\n",
       "      <td>0.0</td>\n",
       "      <td>0.0</td>\n",
       "      <td>0.0</td>\n",
       "      <td>0.0</td>\n",
       "      <td>...</td>\n",
       "      <td>0.0</td>\n",
       "      <td>0.0</td>\n",
       "      <td>0.0</td>\n",
       "      <td>0.0</td>\n",
       "      <td>6.0</td>\n",
       "      <td>13.0</td>\n",
       "      <td>10.0</td>\n",
       "      <td>0.0</td>\n",
       "      <td>0.0</td>\n",
       "      <td>0.0</td>\n",
       "    </tr>\n",
       "    <tr>\n",
       "      <th>1</th>\n",
       "      <td>0.0</td>\n",
       "      <td>0.0</td>\n",
       "      <td>0.0</td>\n",
       "      <td>12.0</td>\n",
       "      <td>13.0</td>\n",
       "      <td>5.0</td>\n",
       "      <td>0.0</td>\n",
       "      <td>0.0</td>\n",
       "      <td>0.0</td>\n",
       "      <td>0.0</td>\n",
       "      <td>...</td>\n",
       "      <td>0.0</td>\n",
       "      <td>0.0</td>\n",
       "      <td>0.0</td>\n",
       "      <td>0.0</td>\n",
       "      <td>0.0</td>\n",
       "      <td>11.0</td>\n",
       "      <td>16.0</td>\n",
       "      <td>10.0</td>\n",
       "      <td>0.0</td>\n",
       "      <td>0.0</td>\n",
       "    </tr>\n",
       "    <tr>\n",
       "      <th>2</th>\n",
       "      <td>0.0</td>\n",
       "      <td>0.0</td>\n",
       "      <td>0.0</td>\n",
       "      <td>4.0</td>\n",
       "      <td>15.0</td>\n",
       "      <td>12.0</td>\n",
       "      <td>0.0</td>\n",
       "      <td>0.0</td>\n",
       "      <td>0.0</td>\n",
       "      <td>0.0</td>\n",
       "      <td>...</td>\n",
       "      <td>5.0</td>\n",
       "      <td>0.0</td>\n",
       "      <td>0.0</td>\n",
       "      <td>0.0</td>\n",
       "      <td>0.0</td>\n",
       "      <td>3.0</td>\n",
       "      <td>11.0</td>\n",
       "      <td>16.0</td>\n",
       "      <td>9.0</td>\n",
       "      <td>0.0</td>\n",
       "    </tr>\n",
       "    <tr>\n",
       "      <th>3</th>\n",
       "      <td>0.0</td>\n",
       "      <td>0.0</td>\n",
       "      <td>7.0</td>\n",
       "      <td>15.0</td>\n",
       "      <td>13.0</td>\n",
       "      <td>1.0</td>\n",
       "      <td>0.0</td>\n",
       "      <td>0.0</td>\n",
       "      <td>0.0</td>\n",
       "      <td>8.0</td>\n",
       "      <td>...</td>\n",
       "      <td>9.0</td>\n",
       "      <td>0.0</td>\n",
       "      <td>0.0</td>\n",
       "      <td>0.0</td>\n",
       "      <td>7.0</td>\n",
       "      <td>13.0</td>\n",
       "      <td>13.0</td>\n",
       "      <td>9.0</td>\n",
       "      <td>0.0</td>\n",
       "      <td>0.0</td>\n",
       "    </tr>\n",
       "    <tr>\n",
       "      <th>4</th>\n",
       "      <td>0.0</td>\n",
       "      <td>0.0</td>\n",
       "      <td>0.0</td>\n",
       "      <td>1.0</td>\n",
       "      <td>11.0</td>\n",
       "      <td>0.0</td>\n",
       "      <td>0.0</td>\n",
       "      <td>0.0</td>\n",
       "      <td>0.0</td>\n",
       "      <td>0.0</td>\n",
       "      <td>...</td>\n",
       "      <td>0.0</td>\n",
       "      <td>0.0</td>\n",
       "      <td>0.0</td>\n",
       "      <td>0.0</td>\n",
       "      <td>0.0</td>\n",
       "      <td>2.0</td>\n",
       "      <td>16.0</td>\n",
       "      <td>4.0</td>\n",
       "      <td>0.0</td>\n",
       "      <td>0.0</td>\n",
       "    </tr>\n",
       "  </tbody>\n",
       "</table>\n",
       "<p>5 rows × 64 columns</p>\n",
       "</div>"
      ],
      "text/plain": [
       "    0    1    2     3     4     5    6    7    8    9   ...   54   55   56  \\\n",
       "0  0.0  0.0  5.0  13.0   9.0   1.0  0.0  0.0  0.0  0.0  ...  0.0  0.0  0.0   \n",
       "1  0.0  0.0  0.0  12.0  13.0   5.0  0.0  0.0  0.0  0.0  ...  0.0  0.0  0.0   \n",
       "2  0.0  0.0  0.0   4.0  15.0  12.0  0.0  0.0  0.0  0.0  ...  5.0  0.0  0.0   \n",
       "3  0.0  0.0  7.0  15.0  13.0   1.0  0.0  0.0  0.0  8.0  ...  9.0  0.0  0.0   \n",
       "4  0.0  0.0  0.0   1.0  11.0   0.0  0.0  0.0  0.0  0.0  ...  0.0  0.0  0.0   \n",
       "\n",
       "    57   58    59    60    61   62   63  \n",
       "0  0.0  6.0  13.0  10.0   0.0  0.0  0.0  \n",
       "1  0.0  0.0  11.0  16.0  10.0  0.0  0.0  \n",
       "2  0.0  0.0   3.0  11.0  16.0  9.0  0.0  \n",
       "3  0.0  7.0  13.0  13.0   9.0  0.0  0.0  \n",
       "4  0.0  0.0   2.0  16.0   4.0  0.0  0.0  \n",
       "\n",
       "[5 rows x 64 columns]"
      ]
     },
     "execution_count": 2,
     "metadata": {},
     "output_type": "execute_result"
    }
   ],
   "source": [
    "df = pd.DataFrame(datasets.load_digits()['data'])\n",
    "df.head(5)"
   ]
  },
  {
   "cell_type": "code",
   "execution_count": null,
   "metadata": {},
   "outputs": [
    {
     "name": "stdout",
     "output_type": "stream",
     "text": [
      "1396/1797 datapoints remaining after outlier removal\n",
      "Configuration space object:\n",
      "  Hyperparameters:\n",
      "    affinity___AffinityPropagation, Type: Categorical, Choices: {euclidean}, Default: euclidean\n",
      "    affinity___AgglomerativeClustering, Type: Categorical, Choices: {euclidean, cityblock, l2, l1, manhattan, cosine}, Default: euclidean\n",
      "    affinity___SpectralClustering, Type: Categorical, Choices: {nearest_neighbors, poly, sigmoid, laplacian, rbf}, Default: rbf\n",
      "    algorithm___FastICA, Type: Categorical, Choices: {parallel, deflation}, Default: parallel\n",
      "    algorithm___TruncatedSVD, Type: Categorical, Choices: {arpack, randomized}, Default: randomized\n",
      "    assign_labels___SpectralClustering, Type: Categorical, Choices: {kmeans, discretize}, Default: kmeans\n",
      "    bandwidth___MeanShift, Type: UniformFloat, Range: [0.1, 50.0], Default: 25.05\n",
      "    batch_size___IncrementalPCA, Type: UniformInteger, Range: [10, 1000], Default: 100\n",
      "    batch_size___MiniBatchKMeans, Type: UniformInteger, Range: [10, 1000], Default: 100\n",
      "    bin_seeding___MeanShift, Type: Categorical, Choices: {True, False}, Default: False\n",
      "    branching_factor___Birch, Type: UniformInteger, Range: [10, 1000], Default: 50\n",
      "    cluster_method___OPTICS, Type: Categorical, Choices: {xi, dbscan}, Default: xi\n",
      "    clustering_choice, Type: Categorical, Choices: {KMeans, GaussianMixture, Birch, MiniBatchKMeans, AgglomerativeClustering, OPTICS, SpectralClustering, DBSCAN, AffinityPropagation, MeanShift}, Default: KMeans\n",
      "    covariance_type___GaussianMixture, Type: Categorical, Choices: {full, tied, diag, spherical}, Default: full\n",
      "    damping___AffinityPropagation, Type: UniformFloat, Range: [0.5, 1.0], Default: 0.5\n",
      "    dim_reduction_choice, Type: Categorical, Choices: {TSNE, PCA, IncrementalPCA, KernelPCA, FastICA, TruncatedSVD}, Default: TSNE\n",
      "    early_exaggeration___TSNE, Type: UniformFloat, Range: [5.0, 20.0], Default: 12.0\n",
      "    eigen_solver___SpectralClustering, Type: Categorical, Choices: {arpack}, Default: arpack\n",
      "    eps___DBSCAN, Type: UniformFloat, Range: [0.01, 5.0], Default: 0.01\n",
      "    fun___FastICA, Type: Categorical, Choices: {logcosh, exp, cube}, Default: logcosh\n",
      "    init_params___GaussianMixture, Type: Categorical, Choices: {kmeans, random}, Default: kmeans\n",
      "    kernel___KernelPCA, Type: Categorical, Choices: {linear, poly, rbf, sigmoid, cosine}, Default: linear\n",
      "    linkage___AgglomerativeClustering, Type: Categorical, Choices: {ward, complete, average, single}, Default: complete\n",
      "    metric___OPTICS, Type: Categorical, Choices: {minkowski, euclidean, manhattan, l1, l2, cosine}, Default: minkowski\n",
      "    min_samples___DBSCAN, Type: UniformInteger, Range: [5, 100], Default: 5\n",
      "    min_samples___OPTICS, Type: UniformInteger, Range: [5, 1000], Default: 100\n",
      "    n_clusters___AgglomerativeClustering, Type: UniformInteger, Range: [1, 30], Default: 10\n",
      "    n_clusters___Birch, Type: UniformInteger, Range: [1, 30], Default: 5\n",
      "    n_clusters___KMeans, Type: UniformInteger, Range: [1, 30], Default: 5\n",
      "    n_clusters___MiniBatchKMeans, Type: UniformInteger, Range: [1, 30], Default: 10\n",
      "    n_clusters___SpectralClustering, Type: UniformInteger, Range: [1, 20], Default: 10\n",
      "    n_components___FastICA, Type: Ordinal, Sequence: {2, 3}, Default: 2\n",
      "    n_components___GaussianMixture, Type: UniformInteger, Range: [1, 30], Default: 5\n",
      "    n_components___IncrementalPCA, Type: Ordinal, Sequence: {2, 3}, Default: 2\n",
      "    n_components___KernelPCA, Type: Ordinal, Sequence: {2, 3, 4, 5, 6, 7, 8, 9}, Default: 2\n",
      "    n_components___PCA, Type: Ordinal, Sequence: {2, 3}, Default: 2\n",
      "    n_components___TSNE, Type: Ordinal, Sequence: {2}, Default: 2\n",
      "    n_components___TruncatedSVD, Type: Ordinal, Sequence: {2, 3, 4, 5, 6, 7, 8, 9}, Default: 2\n",
      "    perplexity___TSNE, Type: UniformFloat, Range: [1.0, 300.0], Default: 30.0\n",
      "    svd_solver___PCA, Type: Categorical, Choices: {auto, full, arpack, randomized}, Default: auto\n",
      "    warm_start___GaussianMixture, Type: Categorical, Choices: {True, False}, Default: False\n",
      "    whiten___FastICA, Type: Categorical, Choices: {True, False}, Default: True\n",
      "    whiten___IncrementalPCA, Type: Categorical, Choices: {True, False}, Default: False\n",
      "    whiten___PCA, Type: Categorical, Choices: {True, False}, Default: False\n",
      "  Conditions:\n",
      "    affinity___AffinityPropagation | clustering_choice in {'AffinityPropagation'}\n",
      "    affinity___AgglomerativeClustering | clustering_choice in {'AgglomerativeClustering'}\n",
      "    affinity___SpectralClustering | clustering_choice in {'SpectralClustering'}\n",
      "    algorithm___FastICA | dim_reduction_choice in {'FastICA'}\n",
      "    algorithm___TruncatedSVD | dim_reduction_choice in {'TruncatedSVD'}\n",
      "    assign_labels___SpectralClustering | clustering_choice in {'SpectralClustering'}\n",
      "    bandwidth___MeanShift | clustering_choice in {'MeanShift'}\n",
      "    batch_size___IncrementalPCA | dim_reduction_choice in {'IncrementalPCA'}\n",
      "    batch_size___MiniBatchKMeans | clustering_choice in {'MiniBatchKMeans'}\n",
      "    bin_seeding___MeanShift | clustering_choice in {'MeanShift'}\n",
      "    branching_factor___Birch | clustering_choice in {'Birch'}\n",
      "    cluster_method___OPTICS | clustering_choice in {'OPTICS'}\n",
      "    covariance_type___GaussianMixture | clustering_choice in {'GaussianMixture'}\n",
      "    damping___AffinityPropagation | clustering_choice in {'AffinityPropagation'}\n",
      "    early_exaggeration___TSNE | dim_reduction_choice in {'TSNE'}\n",
      "    eigen_solver___SpectralClustering | clustering_choice in {'SpectralClustering'}\n",
      "    eps___DBSCAN | clustering_choice in {'DBSCAN'}\n",
      "    fun___FastICA | dim_reduction_choice in {'FastICA'}\n",
      "    init_params___GaussianMixture | clustering_choice in {'GaussianMixture'}\n",
      "    kernel___KernelPCA | dim_reduction_choice in {'KernelPCA'}\n",
      "    linkage___AgglomerativeClustering | clustering_choice in {'AgglomerativeClustering'}\n",
      "    metric___OPTICS | clustering_choice in {'OPTICS'}\n",
      "    min_samples___DBSCAN | clustering_choice in {'DBSCAN'}\n",
      "    min_samples___OPTICS | clustering_choice in {'OPTICS'}\n",
      "    n_clusters___AgglomerativeClustering | clustering_choice in {'AgglomerativeClustering'}\n",
      "    n_clusters___Birch | clustering_choice in {'Birch'}\n",
      "    n_clusters___KMeans | clustering_choice in {'KMeans'}\n",
      "    n_clusters___MiniBatchKMeans | clustering_choice in {'MiniBatchKMeans'}\n",
      "    n_clusters___SpectralClustering | clustering_choice in {'SpectralClustering'}\n",
      "    n_components___FastICA | dim_reduction_choice in {'FastICA'}\n",
      "    n_components___GaussianMixture | clustering_choice in {'GaussianMixture'}\n",
      "    n_components___IncrementalPCA | dim_reduction_choice in {'IncrementalPCA'}\n",
      "    n_components___KernelPCA | dim_reduction_choice in {'KernelPCA'}\n",
      "    n_components___PCA | dim_reduction_choice in {'PCA'}\n",
      "    n_components___TSNE | dim_reduction_choice in {'TSNE'}\n",
      "    n_components___TruncatedSVD | dim_reduction_choice in {'TruncatedSVD'}\n",
      "    perplexity___TSNE | dim_reduction_choice in {'TSNE'}\n",
      "    svd_solver___PCA | dim_reduction_choice in {'PCA'}\n",
      "    warm_start___GaussianMixture | clustering_choice in {'GaussianMixture'}\n",
      "    whiten___FastICA | dim_reduction_choice in {'FastICA'}\n",
      "    whiten___IncrementalPCA | dim_reduction_choice in {'IncrementalPCA'}\n",
      "    whiten___PCA | dim_reduction_choice in {'PCA'}\n",
      "  Forbidden Clauses:\n",
      "    (Forbidden: linkage___AgglomerativeClustering == 'ward' && Forbidden: affinity___AgglomerativeClustering in {'cityblock', 'cosine', 'l1', 'l2', 'manhattan'})\n",
      "\n",
      "Truncated n_evaluations: 100\n",
      "{'cutoff_time': 100, 'abort_on_first_run_crash': False, 'run_obj': 'quality', 'output_dir': 'log//smac-2019-07-26_15-23-45-74303', 'runcount-limit': 100, 'cs': Configuration space object:\n",
      "  Hyperparameters:\n",
      "    affinity___AffinityPropagation, Type: Categorical, Choices: {euclidean}, Default: euclidean\n",
      "    affinity___AgglomerativeClustering, Type: Categorical, Choices: {euclidean, cityblock, l2, l1, manhattan, cosine}, Default: euclidean\n",
      "    affinity___SpectralClustering, Type: Categorical, Choices: {nearest_neighbors, poly, sigmoid, laplacian, rbf}, Default: rbf\n",
      "    algorithm___FastICA, Type: Categorical, Choices: {parallel, deflation}, Default: parallel\n",
      "    algorithm___TruncatedSVD, Type: Categorical, Choices: {arpack, randomized}, Default: randomized\n",
      "    assign_labels___SpectralClustering, Type: Categorical, Choices: {kmeans, discretize}, Default: kmeans\n",
      "    bandwidth___MeanShift, Type: UniformFloat, Range: [0.1, 50.0], Default: 25.05\n",
      "    batch_size___IncrementalPCA, Type: UniformInteger, Range: [10, 1000], Default: 100\n",
      "    batch_size___MiniBatchKMeans, Type: UniformInteger, Range: [10, 1000], Default: 100\n",
      "    bin_seeding___MeanShift, Type: Categorical, Choices: {True, False}, Default: False\n",
      "    branching_factor___Birch, Type: UniformInteger, Range: [10, 1000], Default: 50\n",
      "    cluster_method___OPTICS, Type: Categorical, Choices: {xi, dbscan}, Default: xi\n",
      "    clustering_choice, Type: Categorical, Choices: {KMeans, GaussianMixture, Birch, MiniBatchKMeans, AgglomerativeClustering, OPTICS, SpectralClustering, DBSCAN, AffinityPropagation, MeanShift}, Default: KMeans\n",
      "    covariance_type___GaussianMixture, Type: Categorical, Choices: {full, tied, diag, spherical}, Default: full\n",
      "    damping___AffinityPropagation, Type: UniformFloat, Range: [0.5, 1.0], Default: 0.5\n",
      "    dim_reduction_choice, Type: Categorical, Choices: {TSNE, PCA, IncrementalPCA, KernelPCA, FastICA, TruncatedSVD}, Default: TSNE\n",
      "    early_exaggeration___TSNE, Type: UniformFloat, Range: [5.0, 20.0], Default: 12.0\n",
      "    eigen_solver___SpectralClustering, Type: Categorical, Choices: {arpack}, Default: arpack\n",
      "    eps___DBSCAN, Type: UniformFloat, Range: [0.01, 5.0], Default: 0.01\n",
      "    fun___FastICA, Type: Categorical, Choices: {logcosh, exp, cube}, Default: logcosh\n",
      "    init_params___GaussianMixture, Type: Categorical, Choices: {kmeans, random}, Default: kmeans\n",
      "    kernel___KernelPCA, Type: Categorical, Choices: {linear, poly, rbf, sigmoid, cosine}, Default: linear\n",
      "    linkage___AgglomerativeClustering, Type: Categorical, Choices: {ward, complete, average, single}, Default: complete\n",
      "    metric___OPTICS, Type: Categorical, Choices: {minkowski, euclidean, manhattan, l1, l2, cosine}, Default: minkowski\n",
      "    min_samples___DBSCAN, Type: UniformInteger, Range: [5, 100], Default: 5\n",
      "    min_samples___OPTICS, Type: UniformInteger, Range: [5, 1000], Default: 100\n",
      "    n_clusters___AgglomerativeClustering, Type: UniformInteger, Range: [1, 30], Default: 10\n",
      "    n_clusters___Birch, Type: UniformInteger, Range: [1, 30], Default: 5\n",
      "    n_clusters___KMeans, Type: UniformInteger, Range: [1, 30], Default: 5\n",
      "    n_clusters___MiniBatchKMeans, Type: UniformInteger, Range: [1, 30], Default: 10\n",
      "    n_clusters___SpectralClustering, Type: UniformInteger, Range: [1, 20], Default: 10\n",
      "    n_components___FastICA, Type: Ordinal, Sequence: {2, 3}, Default: 2\n",
      "    n_components___GaussianMixture, Type: UniformInteger, Range: [1, 30], Default: 5\n",
      "    n_components___IncrementalPCA, Type: Ordinal, Sequence: {2, 3}, Default: 2\n",
      "    n_components___KernelPCA, Type: Ordinal, Sequence: {2, 3, 4, 5, 6, 7, 8, 9}, Default: 2\n",
      "    n_components___PCA, Type: Ordinal, Sequence: {2, 3}, Default: 2\n",
      "    n_components___TSNE, Type: Ordinal, Sequence: {2}, Default: 2\n",
      "    n_components___TruncatedSVD, Type: Ordinal, Sequence: {2, 3, 4, 5, 6, 7, 8, 9}, Default: 2\n",
      "    perplexity___TSNE, Type: UniformFloat, Range: [1.0, 300.0], Default: 30.0\n",
      "    svd_solver___PCA, Type: Categorical, Choices: {auto, full, arpack, randomized}, Default: auto\n",
      "    warm_start___GaussianMixture, Type: Categorical, Choices: {True, False}, Default: False\n",
      "    whiten___FastICA, Type: Categorical, Choices: {True, False}, Default: True\n",
      "    whiten___IncrementalPCA, Type: Categorical, Choices: {True, False}, Default: False\n",
      "    whiten___PCA, Type: Categorical, Choices: {True, False}, Default: False\n",
      "  Conditions:\n",
      "    affinity___AffinityPropagation | clustering_choice in {'AffinityPropagation'}\n",
      "    affinity___AgglomerativeClustering | clustering_choice in {'AgglomerativeClustering'}\n",
      "    affinity___SpectralClustering | clustering_choice in {'SpectralClustering'}\n",
      "    algorithm___FastICA | dim_reduction_choice in {'FastICA'}\n",
      "    algorithm___TruncatedSVD | dim_reduction_choice in {'TruncatedSVD'}\n",
      "    assign_labels___SpectralClustering | clustering_choice in {'SpectralClustering'}\n",
      "    bandwidth___MeanShift | clustering_choice in {'MeanShift'}\n",
      "    batch_size___IncrementalPCA | dim_reduction_choice in {'IncrementalPCA'}\n",
      "    batch_size___MiniBatchKMeans | clustering_choice in {'MiniBatchKMeans'}\n",
      "    bin_seeding___MeanShift | clustering_choice in {'MeanShift'}\n",
      "    branching_factor___Birch | clustering_choice in {'Birch'}\n",
      "    cluster_method___OPTICS | clustering_choice in {'OPTICS'}\n",
      "    covariance_type___GaussianMixture | clustering_choice in {'GaussianMixture'}\n",
      "    damping___AffinityPropagation | clustering_choice in {'AffinityPropagation'}\n",
      "    early_exaggeration___TSNE | dim_reduction_choice in {'TSNE'}\n",
      "    eigen_solver___SpectralClustering | clustering_choice in {'SpectralClustering'}\n",
      "    eps___DBSCAN | clustering_choice in {'DBSCAN'}\n",
      "    fun___FastICA | dim_reduction_choice in {'FastICA'}\n",
      "    init_params___GaussianMixture | clustering_choice in {'GaussianMixture'}\n",
      "    kernel___KernelPCA | dim_reduction_choice in {'KernelPCA'}\n",
      "    linkage___AgglomerativeClustering | clustering_choice in {'AgglomerativeClustering'}\n",
      "    metric___OPTICS | clustering_choice in {'OPTICS'}\n",
      "    min_samples___DBSCAN | clustering_choice in {'DBSCAN'}\n",
      "    min_samples___OPTICS | clustering_choice in {'OPTICS'}\n",
      "    n_clusters___AgglomerativeClustering | clustering_choice in {'AgglomerativeClustering'}\n",
      "    n_clusters___Birch | clustering_choice in {'Birch'}\n",
      "    n_clusters___KMeans | clustering_choice in {'KMeans'}\n",
      "    n_clusters___MiniBatchKMeans | clustering_choice in {'MiniBatchKMeans'}\n",
      "    n_clusters___SpectralClustering | clustering_choice in {'SpectralClustering'}\n",
      "    n_components___FastICA | dim_reduction_choice in {'FastICA'}\n",
      "    n_components___GaussianMixture | clustering_choice in {'GaussianMixture'}\n",
      "    n_components___IncrementalPCA | dim_reduction_choice in {'IncrementalPCA'}\n",
      "    n_components___KernelPCA | dim_reduction_choice in {'KernelPCA'}\n",
      "    n_components___PCA | dim_reduction_choice in {'PCA'}\n",
      "    n_components___TSNE | dim_reduction_choice in {'TSNE'}\n",
      "    n_components___TruncatedSVD | dim_reduction_choice in {'TruncatedSVD'}\n",
      "    perplexity___TSNE | dim_reduction_choice in {'TSNE'}\n",
      "    svd_solver___PCA | dim_reduction_choice in {'PCA'}\n",
      "    warm_start___GaussianMixture | clustering_choice in {'GaussianMixture'}\n",
      "    whiten___FastICA | dim_reduction_choice in {'FastICA'}\n",
      "    whiten___IncrementalPCA | dim_reduction_choice in {'IncrementalPCA'}\n",
      "    whiten___PCA | dim_reduction_choice in {'PCA'}\n",
      "  Forbidden Clauses:\n",
      "    (Forbidden: linkage___AgglomerativeClustering == 'ward' && Forbidden: affinity___AgglomerativeClustering in {'cityblock', 'cosine', 'l1', 'l2', 'manhattan'})\n",
      ", 'deterministic': 'true'}\n"
     ]
    },
    {
     "name": "stderr",
     "output_type": "stream",
     "text": [
      "/home/wywongbd/coding_workspace/autocluster/autocluster/utils/metafeatures.py:35: FutureWarning: elementwise comparison failed; returning scalar instead, but in the future will perform elementwise comparison\n",
      "  return np.count_nonzero(X == None) + np.count_nonzero(X == '')\n",
      "/home/wywongbd/coding_workspace/autocluster/autocluster/utils/metafeatures.py:43: FutureWarning: elementwise comparison failed; returning scalar instead, but in the future will perform elementwise comparison\n",
      "  return (np.count_nonzero(X == '') + np.count_nonzero(X == 0)) / X.size\n",
      "/home/wywongbd/anaconda3/envs/spia2019/lib/python3.5/site-packages/numpy/lib/function_base.py:2530: RuntimeWarning: invalid value encountered in true_divide\n",
      "  c /= stddev[:, None]\n",
      "/home/wywongbd/anaconda3/envs/spia2019/lib/python3.5/site-packages/numpy/lib/function_base.py:2531: RuntimeWarning: invalid value encountered in true_divide\n",
      "  c /= stddev[None, :]\n",
      "/home/wywongbd/anaconda3/envs/spia2019/lib/python3.5/site-packages/numpy/lib/function_base.py:2530: RuntimeWarning: invalid value encountered in true_divide\n",
      "  c /= stddev[:, None]\n",
      "/home/wywongbd/anaconda3/envs/spia2019/lib/python3.5/site-packages/numpy/lib/function_base.py:2531: RuntimeWarning: invalid value encountered in true_divide\n",
      "  c /= stddev[None, :]\n",
      "/home/wywongbd/anaconda3/envs/spia2019/lib/python3.5/site-packages/numpy/lib/function_base.py:2530: RuntimeWarning: invalid value encountered in true_divide\n",
      "  c /= stddev[:, None]\n",
      "/home/wywongbd/anaconda3/envs/spia2019/lib/python3.5/site-packages/numpy/lib/function_base.py:2531: RuntimeWarning: invalid value encountered in true_divide\n",
      "  c /= stddev[None, :]\n"
     ]
    },
    {
     "name": "stdout",
     "output_type": "stream",
     "text": [
      "Fitting configuration: \n",
      "{'early_exaggeration___TSNE': 12.0, 'clustering_choice': 'KMeans', 'n_clusters___KMeans': 5, 'perplexity___TSNE': 30.0, 'dim_reduction_choice': 'TSNE', 'n_components___TSNE': 2}\n",
      "Score obtained by this configuration: 0.27005424797534944\n",
      "Fitting configuration: \n",
      "{'cluster_method___OPTICS': 'xi', 'metric___OPTICS': 'minkowski', 'clustering_choice': 'OPTICS', 'n_components___KernelPCA': 7, 'kernel___KernelPCA': 'poly', 'dim_reduction_choice': 'KernelPCA', 'min_samples___OPTICS': 788}\n"
     ]
    },
    {
     "name": "stderr",
     "output_type": "stream",
     "text": [
      "Process pynisher function call:\n",
      "Traceback (most recent call last):\n",
      "  File \"/home/wywongbd/anaconda3/envs/spia2019/lib/python3.5/multiprocessing/process.py\", line 252, in _bootstrap\n",
      "    self.run()\n",
      "  File \"/home/wywongbd/anaconda3/envs/spia2019/lib/python3.5/multiprocessing/process.py\", line 93, in run\n",
      "    self._target(*self._args, **self._kwargs)\n",
      "  File \"/home/wywongbd/anaconda3/envs/spia2019/lib/python3.5/site-packages/pynisher/limit_function_call.py\", line 93, in subprocess_func\n",
      "    return_value = ((func(*args, **kwargs), 0))\n",
      "  File \"/home/wywongbd/coding_workspace/autocluster/autocluster/autocluster.py\", line 247, in evaluate_model\n",
      "    y_pred = clustering_model.fit_predict(compressed_valid_data)\n",
      "  File \"/home/wywongbd/anaconda3/envs/spia2019/lib/python3.5/site-packages/sklearn/base.py\", line 447, in fit_predict\n",
      "    self.fit(X)\n",
      "  File \"/home/wywongbd/anaconda3/envs/spia2019/lib/python3.5/site-packages/sklearn/cluster/optics_.py\", line 248, in fit\n",
      "    max_eps=self.max_eps)\n",
      "  File \"/home/wywongbd/anaconda3/envs/spia2019/lib/python3.5/site-packages/sklearn/cluster/optics_.py\", line 438, in compute_optics_graph\n",
      "    _validate_size(min_samples, n_samples, 'min_samples')\n",
      "  File \"/home/wywongbd/anaconda3/envs/spia2019/lib/python3.5/site-packages/sklearn/cluster/optics_.py\", line 290, in _validate_size\n",
      "    (param_name, n_samples, size))\n",
      "ValueError: min_samples must be no greater than the number of samples (280). Got 788\n"
     ]
    },
    {
     "name": "stdout",
     "output_type": "stream",
     "text": [
      "Fitting configuration: \n",
      "{'clustering_choice': 'SpectralClustering', 'algorithm___TruncatedSVD': 'randomized', 'eigen_solver___SpectralClustering': 'arpack', 'affinity___SpectralClustering': 'laplacian', 'n_clusters___SpectralClustering': 7, 'dim_reduction_choice': 'TruncatedSVD', 'assign_labels___SpectralClustering': 'kmeans', 'n_components___TruncatedSVD': 2}\n",
      "Score obtained by this configuration: 0.3160352487075943\n",
      "Fitting configuration: \n",
      "{'early_exaggeration___TSNE': 16.340662721939843, 'clustering_choice': 'KMeans', 'n_clusters___KMeans': 1, 'perplexity___TSNE': 33.06253665921351, 'dim_reduction_choice': 'TSNE', 'n_components___TSNE': 2}\n",
      "Score obtained by this configuration: inf\n"
     ]
    },
    {
     "name": "stderr",
     "output_type": "stream",
     "text": [
      "WARNING:smac.tae.execute_func.ExecuteTAFuncDict:Target Algorithm returned NaN or inf as quality. Algorithm run is treated as CRASHED, cost is set to 2147483647.0 for quality scenarios. (Change value through \"cost_for_crash\"-option.)\n"
     ]
    },
    {
     "name": "stdout",
     "output_type": "stream",
     "text": [
      "Fitting configuration: \n",
      "{'kernel___KernelPCA': 'cosine', 'clustering_choice': 'Birch', 'n_components___KernelPCA': 6, 'n_clusters___Birch': 2, 'branching_factor___Birch': 794, 'dim_reduction_choice': 'KernelPCA'}\n",
      "Score obtained by this configuration: 0.39428990724907165\n",
      "Fitting configuration: \n",
      "{'affinity___AffinityPropagation': 'euclidean', 'kernel___KernelPCA': 'rbf', 'clustering_choice': 'AffinityPropagation', 'damping___AffinityPropagation': 0.6909880427855755, 'n_components___KernelPCA': 5, 'dim_reduction_choice': 'KernelPCA'}\n",
      "Score obtained by this configuration: 0.35797789093871596\n",
      "Fitting configuration: \n",
      "{'n_components___KernelPCA': 8, 'kernel___KernelPCA': 'poly', 'clustering_choice': 'KMeans', 'dim_reduction_choice': 'KernelPCA', 'n_clusters___KMeans': 22}\n",
      "Score obtained by this configuration: 0.3474557442620568\n",
      "Fitting configuration: \n",
      "{'affinity___AffinityPropagation': 'euclidean', 'kernel___KernelPCA': 'linear', 'clustering_choice': 'AffinityPropagation', 'damping___AffinityPropagation': 0.981282926626849, 'n_components___KernelPCA': 7, 'dim_reduction_choice': 'KernelPCA'}\n",
      "Score obtained by this configuration: inf\n"
     ]
    },
    {
     "name": "stderr",
     "output_type": "stream",
     "text": [
      "WARNING:smac.tae.execute_func.ExecuteTAFuncDict:Target Algorithm returned NaN or inf as quality. Algorithm run is treated as CRASHED, cost is set to 2147483647.0 for quality scenarios. (Change value through \"cost_for_crash\"-option.)\n"
     ]
    },
    {
     "name": "stdout",
     "output_type": "stream",
     "text": [
      "Fitting configuration: \n",
      "{'kernel___KernelPCA': 'linear', 'clustering_choice': 'AgglomerativeClustering', 'affinity___AgglomerativeClustering': 'euclidean', 'linkage___AgglomerativeClustering': 'ward', 'n_components___KernelPCA': 6, 'n_clusters___AgglomerativeClustering': 12, 'dim_reduction_choice': 'KernelPCA'}\n",
      "Score obtained by this configuration: 0.3619230625552663\n",
      "Fitting configuration: \n",
      "{'kernel___KernelPCA': 'rbf', 'clustering_choice': 'Birch', 'n_components___KernelPCA': 2, 'n_clusters___Birch': 2, 'branching_factor___Birch': 640, 'dim_reduction_choice': 'KernelPCA'}\n"
     ]
    },
    {
     "name": "stderr",
     "output_type": "stream",
     "text": [
      "/home/wywongbd/anaconda3/envs/spia2019/lib/python3.5/site-packages/sklearn/cluster/birch.py:627: ConvergenceWarning: Number of subclusters found (1) by Birch is less than (2). Decrease the threshold.\n",
      "  % (len(centroids), self.n_clusters), ConvergenceWarning)\n",
      "/home/wywongbd/anaconda3/envs/spia2019/lib/python3.5/site-packages/sklearn/cluster/birch.py:627: ConvergenceWarning: Number of subclusters found (1) by Birch is less than (2). Decrease the threshold.\n",
      "  % (len(centroids), self.n_clusters), ConvergenceWarning)\n"
     ]
    },
    {
     "name": "stdout",
     "output_type": "stream",
     "text": [
      "Score obtained by this configuration: inf\n"
     ]
    },
    {
     "name": "stderr",
     "output_type": "stream",
     "text": [
      "WARNING:smac.tae.execute_func.ExecuteTAFuncDict:Target Algorithm returned NaN or inf as quality. Algorithm run is treated as CRASHED, cost is set to 2147483647.0 for quality scenarios. (Change value through \"cost_for_crash\"-option.)\n"
     ]
    },
    {
     "name": "stdout",
     "output_type": "stream",
     "text": [
      "Fitting configuration: \n",
      "{'kernel___KernelPCA': 'rbf', 'clustering_choice': 'Birch', 'n_components___KernelPCA': 5, 'n_clusters___Birch': 23, 'branching_factor___Birch': 386, 'dim_reduction_choice': 'KernelPCA'}\n"
     ]
    },
    {
     "name": "stderr",
     "output_type": "stream",
     "text": [
      "/home/wywongbd/anaconda3/envs/spia2019/lib/python3.5/site-packages/sklearn/cluster/birch.py:627: ConvergenceWarning: Number of subclusters found (1) by Birch is less than (23). Decrease the threshold.\n",
      "  % (len(centroids), self.n_clusters), ConvergenceWarning)\n",
      "/home/wywongbd/anaconda3/envs/spia2019/lib/python3.5/site-packages/sklearn/cluster/birch.py:627: ConvergenceWarning: Number of subclusters found (2) by Birch is less than (23). Decrease the threshold.\n",
      "  % (len(centroids), self.n_clusters), ConvergenceWarning)\n",
      "/home/wywongbd/anaconda3/envs/spia2019/lib/python3.5/site-packages/sklearn/cluster/birch.py:627: ConvergenceWarning: Number of subclusters found (2) by Birch is less than (23). Decrease the threshold.\n",
      "  % (len(centroids), self.n_clusters), ConvergenceWarning)\n",
      "/home/wywongbd/anaconda3/envs/spia2019/lib/python3.5/site-packages/sklearn/cluster/birch.py:627: ConvergenceWarning: Number of subclusters found (1) by Birch is less than (23). Decrease the threshold.\n",
      "  % (len(centroids), self.n_clusters), ConvergenceWarning)\n"
     ]
    },
    {
     "name": "stdout",
     "output_type": "stream",
     "text": [
      "Score obtained by this configuration: inf\n"
     ]
    },
    {
     "name": "stderr",
     "output_type": "stream",
     "text": [
      "WARNING:smac.tae.execute_func.ExecuteTAFuncDict:Target Algorithm returned NaN or inf as quality. Algorithm run is treated as CRASHED, cost is set to 2147483647.0 for quality scenarios. (Change value through \"cost_for_crash\"-option.)\n"
     ]
    },
    {
     "name": "stdout",
     "output_type": "stream",
     "text": [
      "Fitting configuration: \n",
      "{'clustering_choice': 'SpectralClustering', 'kernel___KernelPCA': 'cosine', 'affinity___SpectralClustering': 'nearest_neighbors', 'n_clusters___SpectralClustering': 17, 'n_components___KernelPCA': 9, 'assign_labels___SpectralClustering': 'kmeans', 'dim_reduction_choice': 'KernelPCA', 'eigen_solver___SpectralClustering': 'arpack'}\n",
      "Score obtained by this configuration: 0.3850534098431827\n",
      "Fitting configuration: \n",
      "{'clustering_choice': 'SpectralClustering', 'kernel___KernelPCA': 'linear', 'affinity___SpectralClustering': 'poly', 'n_clusters___SpectralClustering': 12, 'n_components___KernelPCA': 7, 'assign_labels___SpectralClustering': 'kmeans', 'dim_reduction_choice': 'KernelPCA', 'eigen_solver___SpectralClustering': 'arpack'}\n"
     ]
    },
    {
     "name": "stderr",
     "output_type": "stream",
     "text": [
      "/home/wywongbd/anaconda3/envs/spia2019/lib/python3.5/site-packages/scipy/sparse/csgraph/_laplacian.py:120: RuntimeWarning: invalid value encountered in sqrt\n",
      "  w = np.where(isolated_node_mask, 1, np.sqrt(w))\n",
      "Process pynisher function call:\n",
      "Traceback (most recent call last):\n",
      "  File \"/home/wywongbd/anaconda3/envs/spia2019/lib/python3.5/multiprocessing/process.py\", line 252, in _bootstrap\n",
      "    self.run()\n",
      "  File \"/home/wywongbd/anaconda3/envs/spia2019/lib/python3.5/multiprocessing/process.py\", line 93, in run\n",
      "    self._target(*self._args, **self._kwargs)\n",
      "  File \"/home/wywongbd/anaconda3/envs/spia2019/lib/python3.5/site-packages/pynisher/limit_function_call.py\", line 93, in subprocess_func\n",
      "    return_value = ((func(*args, **kwargs), 0))\n",
      "  File \"/home/wywongbd/coding_workspace/autocluster/autocluster/autocluster.py\", line 234, in evaluate_model\n",
      "    scaler, dim_reduction_model, clustering_model = fit_models(cfg, train_data)\n",
      "  File \"/home/wywongbd/coding_workspace/autocluster/autocluster/autocluster.py\", line 202, in fit_models\n",
      "    clustering_model.fit(compressed_data)\n",
      "  File \"/home/wywongbd/anaconda3/envs/spia2019/lib/python3.5/site-packages/sklearn/cluster/spectral.py\", line 493, in fit\n",
      "    assign_labels=self.assign_labels)\n",
      "  File \"/home/wywongbd/anaconda3/envs/spia2019/lib/python3.5/site-packages/sklearn/cluster/spectral.py\", line 264, in spectral_clustering\n",
      "    eigen_tol=eigen_tol, drop_first=False)\n",
      "  File \"/home/wywongbd/anaconda3/envs/spia2019/lib/python3.5/site-packages/sklearn/manifold/spectral_embedding_.py\", line 271, in spectral_embedding\n",
      "    tol=eigen_tol, v0=v0)\n",
      "  File \"/home/wywongbd/anaconda3/envs/spia2019/lib/python3.5/site-packages/scipy/sparse/linalg/eigen/arpack/arpack.py\", line 1622, in eigsh\n",
      "    symmetric=True, tol=tol)\n",
      "  File \"/home/wywongbd/anaconda3/envs/spia2019/lib/python3.5/site-packages/scipy/sparse/linalg/eigen/arpack/arpack.py\", line 1053, in get_OPinv_matvec\n",
      "    return LuInv(A).matvec\n",
      "  File \"/home/wywongbd/anaconda3/envs/spia2019/lib/python3.5/site-packages/scipy/sparse/linalg/eigen/arpack/arpack.py\", line 931, in __init__\n",
      "    self.M_lu = lu_factor(M)\n",
      "  File \"/home/wywongbd/anaconda3/envs/spia2019/lib/python3.5/site-packages/scipy/linalg/decomp_lu.py\", line 73, in lu_factor\n",
      "    a1 = asarray_chkfinite(a)\n",
      "  File \"/home/wywongbd/anaconda3/envs/spia2019/lib/python3.5/site-packages/numpy/lib/function_base.py\", line 498, in asarray_chkfinite\n",
      "    \"array must not contain infs or NaNs\")\n",
      "ValueError: array must not contain infs or NaNs\n"
     ]
    },
    {
     "name": "stdout",
     "output_type": "stream",
     "text": [
      "Fitting configuration: \n",
      "{'early_exaggeration___TSNE': 5.92345241675155, 'batch_size___MiniBatchKMeans': 891, 'clustering_choice': 'MiniBatchKMeans', 'n_clusters___MiniBatchKMeans': 20, 'perplexity___TSNE': 234.05607785844984, 'dim_reduction_choice': 'TSNE', 'n_components___TSNE': 2}\n"
     ]
    }
   ],
   "source": [
    "cluster = AutoCluster()\n",
    "fit_params = {\n",
    "    \"df\": df, \n",
    "    \"cluster_alg_ls\": [\n",
    "        'KMeans', 'GaussianMixture', 'Birch', \n",
    "        'MiniBatchKMeans', 'AgglomerativeClustering', 'OPTICS', \n",
    "        'SpectralClustering', 'DBSCAN', 'AffinityPropagation', 'MeanShift'\n",
    "    ], \n",
    "    \"dim_reduction_alg_ls\": [\n",
    "        'TSNE', 'PCA', 'IncrementalPCA', \n",
    "        'KernelPCA', 'FastICA', 'TruncatedSVD'\n",
    "    ],\n",
    "    \"n_evaluations\": 100,\n",
    "    \"run_obj\": 'quality',\n",
    "    \"seed\": 27,\n",
    "    \"cutoff_time\": 100,\n",
    "    \"preprocess_dict\": {\n",
    "        \"numeric_cols\": list(range(64)),\n",
    "        \"categorical_cols\": [],\n",
    "        \"ordinal_cols\": [],\n",
    "        \"y_col\": []\n",
    "    },\n",
    "    \"evaluator\": get_evaluator(evaluator_ls = ['silhouetteScore'], \n",
    "                               weights = [], clustering_num = None, \n",
    "                               min_proportion = .01),\n",
    "    \"n_folds\": 5,\n",
    "    \"warmstart\": False,\n",
    "    \"general_metafeatures\": MetafeatureMapper.getGeneralMetafeatures(),\n",
    "    \"numeric_metafeatures\": MetafeatureMapper.getNumericMetafeatures(),\n",
    "    \"categorical_metafeatures\": [],\n",
    "}\n",
    "result_dict = cluster.fit(**fit_params)"
   ]
  },
  {
   "cell_type": "code",
   "execution_count": 7,
   "metadata": {},
   "outputs": [
    {
     "data": {
      "text/plain": [
       "array([ 0.00000000e+00,  7.26892013e+00,  4.89710366e-01,  0.00000000e+00,\n",
       "        1.43500000e+03, -1.42439248e+00,  4.37500000e-01, -3.00000000e+00,\n",
       "       -5.97334325e-02,  4.14324365e-03, -7.97974857e-01,  4.89710366e-01,\n",
       "       -6.15732321e-01,  9.70929296e+02, -9.43408206e-02,  3.37171491e+00,\n",
       "        5.34933183e+00,  2.25939549e+00,  7.61653046e+01,  9.29187288e-01,\n",
       "       -4.22923136e-01,  1.89249875e-01,  0.00000000e+00,  3.04450374e+01,\n",
       "        4.24141015e+01, -1.95157596e+01,  2.98353252e-01, -1.12073604e-02,\n",
       "       -1.43262334e+00,  6.47790625e-02, -2.48613034e-01, -1.00125132e+00,\n",
       "        1.71685387e-01])"
      ]
     },
     "execution_count": 7,
     "metadata": {},
     "output_type": "execute_result"
    }
   ],
   "source": [
    "result_dict['metafeatures'][0]"
   ]
  },
  {
   "cell_type": "code",
   "execution_count": 8,
   "metadata": {},
   "outputs": [
    {
     "data": {
      "image/png": "[encoded data removed]",
      "text/plain": [
       "<Figure size 720x720 with 1 Axes>"
      ]
     },
     "metadata": {
      "needs_background": "dark"
     },
     "output_type": "display_data"
    }
   ],
   "source": [
    "predictions = cluster.predict(df)"
   ]
  },
  {
   "cell_type": "code",
   "execution_count": 29,
   "metadata": {},
   "outputs": [
    {
     "data": {
      "text/plain": [
       "Counter({0: 316, 1: 330, 2: 280, 3: 357, 4: 382, 5: 132})"
      ]
     },
     "execution_count": 29,
     "metadata": {},
     "output_type": "execute_result"
    }
   ],
   "source": [
    "Counter(predictions)"
   ]
  },
  {
   "cell_type": "code",
   "execution_count": 30,
   "metadata": {},
   "outputs": [
    {
     "data": {
      "text/plain": [
       "0.560357999138326"
      ]
     },
     "execution_count": 30,
     "metadata": {},
     "output_type": "execute_result"
    }
   ],
   "source": [
    "v_measure_score(predictions, datasets.load_digits()['target'])"
   ]
  },
  {
   "cell_type": "code",
   "execution_count": null,
   "metadata": {},
   "outputs": [],
   "source": []
  },
  {
   "cell_type": "code",
   "execution_count": null,
   "metadata": {},
   "outputs": [],
   "source": []
  },
  {
   "cell_type": "code",
   "execution_count": null,
   "metadata": {},
   "outputs": [],
   "source": []
  },
  {
   "cell_type": "code",
   "execution_count": null,
   "metadata": {},
   "outputs": [],
   "source": []
  },
  {
   "cell_type": "code",
   "execution_count": null,
   "metadata": {},
   "outputs": [],
   "source": []
  }
 ],
 "metadata": {
  "kernelspec": {
   "display_name": "Python [conda env:spia2019]",
   "language": "python",
   "name": "conda-env-spia2019-py"
  },
  "language_info": {
   "codemirror_mode": {
    "name": "ipython",
    "version": 3
   },
   "file_extension": ".py",
   "mimetype": "text/x-python",
   "name": "python",
   "nbconvert_exporter": "python",
   "pygments_lexer": "ipython3",
   "version": "3.5.6"
  }
 },
 "nbformat": 4,
 "nbformat_minor": 2
}
