{
 "cells": [
  {
   "cell_type": "code",
   "execution_count": 1,
   "metadata": {},
   "outputs": [],
   "source": [
    "from autocluster import AutoCluster\n",
    "from evaluators import get_evaluator\n",
    "from sklearn import datasets\n",
    "from collections import Counter\n",
    "from utils.metafeatures import MetafeatureMapper\n",
    "from sklearn.metrics.cluster import v_measure_score\n",
    "import pandas as pd\n",
    "\n",
    "%load_ext autoreload\n",
    "%autoreload 2"
   ]
  },
  {
   "cell_type": "code",
   "execution_count": 2,
   "metadata": {},
   "outputs": [
    {
     "data": {
      "text/html": [
       "<div>\n",
       "<style scoped>\n",
       "    .dataframe tbody tr th:only-of-type {\n",
       "        vertical-align: middle;\n",
       "    }\n",
       "\n",
       "    .dataframe tbody tr th {\n",
       "        vertical-align: top;\n",
       "    }\n",
       "\n",
       "    .dataframe thead th {\n",
       "        text-align: right;\n",
       "    }\n",
       "</style>\n",
       "<table border=\"1\" class=\"dataframe\">\n",
       "  <thead>\n",
       "    <tr style=\"text-align: right;\">\n",
       "      <th></th>\n",
       "      <th>0</th>\n",
       "      <th>1</th>\n",
       "      <th>2</th>\n",
       "      <th>3</th>\n",
       "      <th>4</th>\n",
       "      <th>5</th>\n",
       "      <th>6</th>\n",
       "      <th>7</th>\n",
       "      <th>8</th>\n",
       "      <th>9</th>\n",
       "      <th>...</th>\n",
       "      <th>54</th>\n",
       "      <th>55</th>\n",
       "      <th>56</th>\n",
       "      <th>57</th>\n",
       "      <th>58</th>\n",
       "      <th>59</th>\n",
       "      <th>60</th>\n",
       "      <th>61</th>\n",
       "      <th>62</th>\n",
       "      <th>63</th>\n",
       "    </tr>\n",
       "  </thead>\n",
       "  <tbody>\n",
       "    <tr>\n",
       "      <th>0</th>\n",
       "      <td>0.0</td>\n",
       "      <td>0.0</td>\n",
       "      <td>5.0</td>\n",
       "      <td>13.0</td>\n",
       "      <td>9.0</td>\n",
       "      <td>1.0</td>\n",
       "      <td>0.0</td>\n",
       "      <td>0.0</td>\n",
       "      <td>0.0</td>\n",
       "      <td>0.0</td>\n",
       "      <td>...</td>\n",
       "      <td>0.0</td>\n",
       "      <td>0.0</td>\n",
       "      <td>0.0</td>\n",
       "      <td>0.0</td>\n",
       "      <td>6.0</td>\n",
       "      <td>13.0</td>\n",
       "      <td>10.0</td>\n",
       "      <td>0.0</td>\n",
       "      <td>0.0</td>\n",
       "      <td>0.0</td>\n",
       "    </tr>\n",
       "    <tr>\n",
       "      <th>1</th>\n",
       "      <td>0.0</td>\n",
       "      <td>0.0</td>\n",
       "      <td>0.0</td>\n",
       "      <td>12.0</td>\n",
       "      <td>13.0</td>\n",
       "      <td>5.0</td>\n",
       "      <td>0.0</td>\n",
       "      <td>0.0</td>\n",
       "      <td>0.0</td>\n",
       "      <td>0.0</td>\n",
       "      <td>...</td>\n",
       "      <td>0.0</td>\n",
       "      <td>0.0</td>\n",
       "      <td>0.0</td>\n",
       "      <td>0.0</td>\n",
       "      <td>0.0</td>\n",
       "      <td>11.0</td>\n",
       "      <td>16.0</td>\n",
       "      <td>10.0</td>\n",
       "      <td>0.0</td>\n",
       "      <td>0.0</td>\n",
       "    </tr>\n",
       "    <tr>\n",
       "      <th>2</th>\n",
       "      <td>0.0</td>\n",
       "      <td>0.0</td>\n",
       "      <td>0.0</td>\n",
       "      <td>4.0</td>\n",
       "      <td>15.0</td>\n",
       "      <td>12.0</td>\n",
       "      <td>0.0</td>\n",
       "      <td>0.0</td>\n",
       "      <td>0.0</td>\n",
       "      <td>0.0</td>\n",
       "      <td>...</td>\n",
       "      <td>5.0</td>\n",
       "      <td>0.0</td>\n",
       "      <td>0.0</td>\n",
       "      <td>0.0</td>\n",
       "      <td>0.0</td>\n",
       "      <td>3.0</td>\n",
       "      <td>11.0</td>\n",
       "      <td>16.0</td>\n",
       "      <td>9.0</td>\n",
       "      <td>0.0</td>\n",
       "    </tr>\n",
       "    <tr>\n",
       "      <th>3</th>\n",
       "      <td>0.0</td>\n",
       "      <td>0.0</td>\n",
       "      <td>7.0</td>\n",
       "      <td>15.0</td>\n",
       "      <td>13.0</td>\n",
       "      <td>1.0</td>\n",
       "      <td>0.0</td>\n",
       "      <td>0.0</td>\n",
       "      <td>0.0</td>\n",
       "      <td>8.0</td>\n",
       "      <td>...</td>\n",
       "      <td>9.0</td>\n",
       "      <td>0.0</td>\n",
       "      <td>0.0</td>\n",
       "      <td>0.0</td>\n",
       "      <td>7.0</td>\n",
       "      <td>13.0</td>\n",
       "      <td>13.0</td>\n",
       "      <td>9.0</td>\n",
       "      <td>0.0</td>\n",
       "      <td>0.0</td>\n",
       "    </tr>\n",
       "    <tr>\n",
       "      <th>4</th>\n",
       "      <td>0.0</td>\n",
       "      <td>0.0</td>\n",
       "      <td>0.0</td>\n",
       "      <td>1.0</td>\n",
       "      <td>11.0</td>\n",
       "      <td>0.0</td>\n",
       "      <td>0.0</td>\n",
       "      <td>0.0</td>\n",
       "      <td>0.0</td>\n",
       "      <td>0.0</td>\n",
       "      <td>...</td>\n",
       "      <td>0.0</td>\n",
       "      <td>0.0</td>\n",
       "      <td>0.0</td>\n",
       "      <td>0.0</td>\n",
       "      <td>0.0</td>\n",
       "      <td>2.0</td>\n",
       "      <td>16.0</td>\n",
       "      <td>4.0</td>\n",
       "      <td>0.0</td>\n",
       "      <td>0.0</td>\n",
       "    </tr>\n",
       "  </tbody>\n",
       "</table>\n",
       "<p>5 rows × 64 columns</p>\n",
       "</div>"
      ],
      "text/plain": [
       "    0    1    2     3     4     5    6    7    8    9   ...   54   55   56  \\\n",
       "0  0.0  0.0  5.0  13.0   9.0   1.0  0.0  0.0  0.0  0.0  ...  0.0  0.0  0.0   \n",
       "1  0.0  0.0  0.0  12.0  13.0   5.0  0.0  0.0  0.0  0.0  ...  0.0  0.0  0.0   \n",
       "2  0.0  0.0  0.0   4.0  15.0  12.0  0.0  0.0  0.0  0.0  ...  5.0  0.0  0.0   \n",
       "3  0.0  0.0  7.0  15.0  13.0   1.0  0.0  0.0  0.0  8.0  ...  9.0  0.0  0.0   \n",
       "4  0.0  0.0  0.0   1.0  11.0   0.0  0.0  0.0  0.0  0.0  ...  0.0  0.0  0.0   \n",
       "\n",
       "    57   58    59    60    61   62   63  \n",
       "0  0.0  6.0  13.0  10.0   0.0  0.0  0.0  \n",
       "1  0.0  0.0  11.0  16.0  10.0  0.0  0.0  \n",
       "2  0.0  0.0   3.0  11.0  16.0  9.0  0.0  \n",
       "3  0.0  7.0  13.0  13.0   9.0  0.0  0.0  \n",
       "4  0.0  0.0   2.0  16.0   4.0  0.0  0.0  \n",
       "\n",
       "[5 rows x 64 columns]"
      ]
     },
     "execution_count": 2,
     "metadata": {},
     "output_type": "execute_result"
    }
   ],
   "source": [
    "df = pd.DataFrame(datasets.load_digits()['data'])\n",
    "df.head(5)"
   ]
  },
  {
   "cell_type": "code",
   "execution_count": null,
   "metadata": {},
   "outputs": [
    {
     "name": "stdout",
     "output_type": "stream",
     "text": [
      "1302/1797 datapoints remaining after outlier removal\n",
      "Configuration space object:\n",
      "  Hyperparameters:\n",
      "    affinity___AffinityPropagation, Type: Categorical, Choices: {euclidean}, Default: euclidean\n",
      "    affinity___AgglomerativeClustering, Type: Categorical, Choices: {euclidean, cityblock, l2, l1, manhattan, cosine}, Default: euclidean\n",
      "    affinity___SpectralClustering, Type: Categorical, Choices: {nearest_neighbors, poly, sigmoid, laplacian, rbf}, Default: rbf\n",
      "    algorithm___FastICA, Type: Categorical, Choices: {parallel, deflation}, Default: parallel\n",
      "    algorithm___TruncatedSVD, Type: Categorical, Choices: {arpack, randomized}, Default: randomized\n",
      "    assign_labels___SpectralClustering, Type: Categorical, Choices: {kmeans, discretize}, Default: kmeans\n",
      "    bandwidth___MeanShift, Type: UniformFloat, Range: [0.1, 50.0], Default: 25.05\n",
      "    batch_size___IncrementalPCA, Type: UniformInteger, Range: [10, 1000], Default: 100\n",
      "    batch_size___MiniBatchKMeans, Type: UniformInteger, Range: [10, 1000], Default: 100\n",
      "    bin_seeding___MeanShift, Type: Categorical, Choices: {True, False}, Default: False\n",
      "    branching_factor___Birch, Type: UniformInteger, Range: [10, 1000], Default: 50\n",
      "    cluster_method___OPTICS, Type: Categorical, Choices: {xi, dbscan}, Default: xi\n",
      "    clustering_choice, Type: Categorical, Choices: {KMeans, GaussianMixture, Birch, MiniBatchKMeans, AgglomerativeClustering, OPTICS, SpectralClustering, DBSCAN, AffinityPropagation, MeanShift}, Default: KMeans\n",
      "    covariance_type___GaussianMixture, Type: Categorical, Choices: {full, tied, diag, spherical}, Default: full\n",
      "    damping___AffinityPropagation, Type: UniformFloat, Range: [0.5, 1.0], Default: 0.5\n",
      "    dim_reduction_choice, Type: Categorical, Choices: {TSNE, PCA, IncrementalPCA, KernelPCA, FastICA, TruncatedSVD}, Default: TSNE\n",
      "    early_exaggeration___TSNE, Type: UniformFloat, Range: [5.0, 20.0], Default: 12.0\n",
      "    eigen_solver___SpectralClustering, Type: Categorical, Choices: {arpack}, Default: arpack\n",
      "    eps___DBSCAN, Type: UniformFloat, Range: [0.01, 5.0], Default: 0.01\n",
      "    fun___FastICA, Type: Categorical, Choices: {logcosh, exp, cube}, Default: logcosh\n",
      "    init_params___GaussianMixture, Type: Categorical, Choices: {kmeans, random}, Default: kmeans\n",
      "    kernel___KernelPCA, Type: Categorical, Choices: {linear, poly, rbf, sigmoid, cosine}, Default: linear\n",
      "    linkage___AgglomerativeClustering, Type: Categorical, Choices: {ward, complete, average, single}, Default: complete\n",
      "    metric___OPTICS, Type: Categorical, Choices: {minkowski, euclidean, manhattan, l1, l2, cosine}, Default: minkowski\n",
      "    min_samples___DBSCAN, Type: UniformInteger, Range: [5, 100], Default: 5\n",
      "    min_samples___OPTICS, Type: UniformInteger, Range: [5, 1000], Default: 100\n",
      "    n_clusters___AgglomerativeClustering, Type: UniformInteger, Range: [1, 30], Default: 10\n",
      "    n_clusters___Birch, Type: UniformInteger, Range: [1, 30], Default: 5\n",
      "    n_clusters___KMeans, Type: UniformInteger, Range: [1, 30], Default: 5\n",
      "    n_clusters___MiniBatchKMeans, Type: UniformInteger, Range: [1, 30], Default: 10\n",
      "    n_clusters___SpectralClustering, Type: UniformInteger, Range: [1, 20], Default: 10\n",
      "    n_components___FastICA, Type: Ordinal, Sequence: {2, 3}, Default: 2\n",
      "    n_components___GaussianMixture, Type: UniformInteger, Range: [1, 30], Default: 5\n",
      "    n_components___IncrementalPCA, Type: Ordinal, Sequence: {2, 3}, Default: 2\n",
      "    n_components___KernelPCA, Type: Ordinal, Sequence: {2, 3, 4, 5, 6, 7, 8, 9}, Default: 2\n",
      "    n_components___PCA, Type: Ordinal, Sequence: {2, 3}, Default: 2\n",
      "    n_components___TSNE, Type: Ordinal, Sequence: {2}, Default: 2\n",
      "    n_components___TruncatedSVD, Type: Ordinal, Sequence: {2, 3, 4, 5, 6, 7, 8, 9}, Default: 2\n",
      "    perplexity___TSNE, Type: UniformFloat, Range: [1.0, 300.0], Default: 30.0\n",
      "    svd_solver___PCA, Type: Categorical, Choices: {auto, full, arpack, randomized}, Default: auto\n",
      "    warm_start___GaussianMixture, Type: Categorical, Choices: {True, False}, Default: False\n",
      "    whiten___FastICA, Type: Categorical, Choices: {True, False}, Default: True\n",
      "    whiten___IncrementalPCA, Type: Categorical, Choices: {True, False}, Default: False\n",
      "    whiten___PCA, Type: Categorical, Choices: {True, False}, Default: False\n",
      "  Conditions:\n",
      "    affinity___AffinityPropagation | clustering_choice in {'AffinityPropagation'}\n",
      "    affinity___AgglomerativeClustering | clustering_choice in {'AgglomerativeClustering'}\n",
      "    affinity___SpectralClustering | clustering_choice in {'SpectralClustering'}\n",
      "    algorithm___FastICA | dim_reduction_choice in {'FastICA'}\n",
      "    algorithm___TruncatedSVD | dim_reduction_choice in {'TruncatedSVD'}\n",
      "    assign_labels___SpectralClustering | clustering_choice in {'SpectralClustering'}\n",
      "    bandwidth___MeanShift | clustering_choice in {'MeanShift'}\n",
      "    batch_size___IncrementalPCA | dim_reduction_choice in {'IncrementalPCA'}\n",
      "    batch_size___MiniBatchKMeans | clustering_choice in {'MiniBatchKMeans'}\n",
      "    bin_seeding___MeanShift | clustering_choice in {'MeanShift'}\n",
      "    branching_factor___Birch | clustering_choice in {'Birch'}\n",
      "    cluster_method___OPTICS | clustering_choice in {'OPTICS'}\n",
      "    covariance_type___GaussianMixture | clustering_choice in {'GaussianMixture'}\n",
      "    damping___AffinityPropagation | clustering_choice in {'AffinityPropagation'}\n",
      "    early_exaggeration___TSNE | dim_reduction_choice in {'TSNE'}\n",
      "    eigen_solver___SpectralClustering | clustering_choice in {'SpectralClustering'}\n",
      "    eps___DBSCAN | clustering_choice in {'DBSCAN'}\n",
      "    fun___FastICA | dim_reduction_choice in {'FastICA'}\n",
      "    init_params___GaussianMixture | clustering_choice in {'GaussianMixture'}\n",
      "    kernel___KernelPCA | dim_reduction_choice in {'KernelPCA'}\n",
      "    linkage___AgglomerativeClustering | clustering_choice in {'AgglomerativeClustering'}\n",
      "    metric___OPTICS | clustering_choice in {'OPTICS'}\n",
      "    min_samples___DBSCAN | clustering_choice in {'DBSCAN'}\n",
      "    min_samples___OPTICS | clustering_choice in {'OPTICS'}\n",
      "    n_clusters___AgglomerativeClustering | clustering_choice in {'AgglomerativeClustering'}\n",
      "    n_clusters___Birch | clustering_choice in {'Birch'}\n",
      "    n_clusters___KMeans | clustering_choice in {'KMeans'}\n",
      "    n_clusters___MiniBatchKMeans | clustering_choice in {'MiniBatchKMeans'}\n",
      "    n_clusters___SpectralClustering | clustering_choice in {'SpectralClustering'}\n",
      "    n_components___FastICA | dim_reduction_choice in {'FastICA'}\n",
      "    n_components___GaussianMixture | clustering_choice in {'GaussianMixture'}\n",
      "    n_components___IncrementalPCA | dim_reduction_choice in {'IncrementalPCA'}\n",
      "    n_components___KernelPCA | dim_reduction_choice in {'KernelPCA'}\n",
      "    n_components___PCA | dim_reduction_choice in {'PCA'}\n",
      "    n_components___TSNE | dim_reduction_choice in {'TSNE'}\n",
      "    n_components___TruncatedSVD | dim_reduction_choice in {'TruncatedSVD'}\n",
      "    perplexity___TSNE | dim_reduction_choice in {'TSNE'}\n",
      "    svd_solver___PCA | dim_reduction_choice in {'PCA'}\n",
      "    warm_start___GaussianMixture | clustering_choice in {'GaussianMixture'}\n",
      "    whiten___FastICA | dim_reduction_choice in {'FastICA'}\n",
      "    whiten___IncrementalPCA | dim_reduction_choice in {'IncrementalPCA'}\n",
      "    whiten___PCA | dim_reduction_choice in {'PCA'}\n",
      "  Forbidden Clauses:\n",
      "    (Forbidden: linkage___AgglomerativeClustering == 'ward' && Forbidden: affinity___AgglomerativeClustering in {'cityblock', 'cosine', 'l1', 'l2', 'manhattan'})\n",
      "\n"
     ]
    },
    {
     "name": "stderr",
     "output_type": "stream",
     "text": [
      "/home/wywongbd/coding_workspace/autocluster/autocluster/utils/metafeatures.py:35: FutureWarning: elementwise comparison failed; returning scalar instead, but in the future will perform elementwise comparison\n",
      "  return np.count_nonzero(X == None) + np.count_nonzero(X == '')\n",
      "/home/wywongbd/coding_workspace/autocluster/autocluster/utils/metafeatures.py:43: FutureWarning: elementwise comparison failed; returning scalar instead, but in the future will perform elementwise comparison\n",
      "  return (np.count_nonzero(X == '') + np.count_nonzero(X == 0)) / X.size\n",
      "/home/wywongbd/anaconda3/envs/spia2019/lib/python3.5/site-packages/numpy/lib/function_base.py:2530: RuntimeWarning: invalid value encountered in true_divide\n",
      "  c /= stddev[:, None]\n",
      "/home/wywongbd/anaconda3/envs/spia2019/lib/python3.5/site-packages/numpy/lib/function_base.py:2531: RuntimeWarning: invalid value encountered in true_divide\n",
      "  c /= stddev[None, :]\n",
      "/home/wywongbd/anaconda3/envs/spia2019/lib/python3.5/site-packages/numpy/lib/function_base.py:2530: RuntimeWarning: invalid value encountered in true_divide\n",
      "  c /= stddev[:, None]\n",
      "/home/wywongbd/anaconda3/envs/spia2019/lib/python3.5/site-packages/numpy/lib/function_base.py:2531: RuntimeWarning: invalid value encountered in true_divide\n",
      "  c /= stddev[None, :]\n",
      "/home/wywongbd/anaconda3/envs/spia2019/lib/python3.5/site-packages/numpy/lib/function_base.py:2530: RuntimeWarning: invalid value encountered in true_divide\n",
      "  c /= stddev[:, None]\n",
      "/home/wywongbd/anaconda3/envs/spia2019/lib/python3.5/site-packages/numpy/lib/function_base.py:2531: RuntimeWarning: invalid value encountered in true_divide\n",
      "  c /= stddev[None, :]\n"
     ]
    },
    {
     "name": "stdout",
     "output_type": "stream",
     "text": [
      "Found 60 relevant intial configurations from warmstarter.\n",
      "Truncated n_evaluations: 100\n",
      "{'cutoff_time': 20, 'abort_on_first_run_crash': False, 'run_obj': 'quality', 'output_dir': 'log//smac-2019-07-26_16-23-42-63817', 'runcount-limit': 100, 'cs': Configuration space object:\n",
      "  Hyperparameters:\n",
      "    affinity___AffinityPropagation, Type: Categorical, Choices: {euclidean}, Default: euclidean\n",
      "    affinity___AgglomerativeClustering, Type: Categorical, Choices: {euclidean, cityblock, l2, l1, manhattan, cosine}, Default: euclidean\n",
      "    affinity___SpectralClustering, Type: Categorical, Choices: {nearest_neighbors, poly, sigmoid, laplacian, rbf}, Default: rbf\n",
      "    algorithm___FastICA, Type: Categorical, Choices: {parallel, deflation}, Default: parallel\n",
      "    algorithm___TruncatedSVD, Type: Categorical, Choices: {arpack, randomized}, Default: randomized\n",
      "    assign_labels___SpectralClustering, Type: Categorical, Choices: {kmeans, discretize}, Default: kmeans\n",
      "    bandwidth___MeanShift, Type: UniformFloat, Range: [0.1, 50.0], Default: 25.05\n",
      "    batch_size___IncrementalPCA, Type: UniformInteger, Range: [10, 1000], Default: 100\n",
      "    batch_size___MiniBatchKMeans, Type: UniformInteger, Range: [10, 1000], Default: 100\n",
      "    bin_seeding___MeanShift, Type: Categorical, Choices: {True, False}, Default: False\n",
      "    branching_factor___Birch, Type: UniformInteger, Range: [10, 1000], Default: 50\n",
      "    cluster_method___OPTICS, Type: Categorical, Choices: {xi, dbscan}, Default: xi\n",
      "    clustering_choice, Type: Categorical, Choices: {KMeans, GaussianMixture, Birch, MiniBatchKMeans, AgglomerativeClustering, OPTICS, SpectralClustering, DBSCAN, AffinityPropagation, MeanShift}, Default: KMeans\n",
      "    covariance_type___GaussianMixture, Type: Categorical, Choices: {full, tied, diag, spherical}, Default: full\n",
      "    damping___AffinityPropagation, Type: UniformFloat, Range: [0.5, 1.0], Default: 0.5\n",
      "    dim_reduction_choice, Type: Categorical, Choices: {TSNE, PCA, IncrementalPCA, KernelPCA, FastICA, TruncatedSVD}, Default: TSNE\n",
      "    early_exaggeration___TSNE, Type: UniformFloat, Range: [5.0, 20.0], Default: 12.0\n",
      "    eigen_solver___SpectralClustering, Type: Categorical, Choices: {arpack}, Default: arpack\n",
      "    eps___DBSCAN, Type: UniformFloat, Range: [0.01, 5.0], Default: 0.01\n",
      "    fun___FastICA, Type: Categorical, Choices: {logcosh, exp, cube}, Default: logcosh\n",
      "    init_params___GaussianMixture, Type: Categorical, Choices: {kmeans, random}, Default: kmeans\n",
      "    kernel___KernelPCA, Type: Categorical, Choices: {linear, poly, rbf, sigmoid, cosine}, Default: linear\n",
      "    linkage___AgglomerativeClustering, Type: Categorical, Choices: {ward, complete, average, single}, Default: complete\n",
      "    metric___OPTICS, Type: Categorical, Choices: {minkowski, euclidean, manhattan, l1, l2, cosine}, Default: minkowski\n",
      "    min_samples___DBSCAN, Type: UniformInteger, Range: [5, 100], Default: 5\n",
      "    min_samples___OPTICS, Type: UniformInteger, Range: [5, 1000], Default: 100\n",
      "    n_clusters___AgglomerativeClustering, Type: UniformInteger, Range: [1, 30], Default: 10\n",
      "    n_clusters___Birch, Type: UniformInteger, Range: [1, 30], Default: 5\n",
      "    n_clusters___KMeans, Type: UniformInteger, Range: [1, 30], Default: 5\n",
      "    n_clusters___MiniBatchKMeans, Type: UniformInteger, Range: [1, 30], Default: 10\n",
      "    n_clusters___SpectralClustering, Type: UniformInteger, Range: [1, 20], Default: 10\n",
      "    n_components___FastICA, Type: Ordinal, Sequence: {2, 3}, Default: 2\n",
      "    n_components___GaussianMixture, Type: UniformInteger, Range: [1, 30], Default: 5\n",
      "    n_components___IncrementalPCA, Type: Ordinal, Sequence: {2, 3}, Default: 2\n",
      "    n_components___KernelPCA, Type: Ordinal, Sequence: {2, 3, 4, 5, 6, 7, 8, 9}, Default: 2\n",
      "    n_components___PCA, Type: Ordinal, Sequence: {2, 3}, Default: 2\n",
      "    n_components___TSNE, Type: Ordinal, Sequence: {2}, Default: 2\n",
      "    n_components___TruncatedSVD, Type: Ordinal, Sequence: {2, 3, 4, 5, 6, 7, 8, 9}, Default: 2\n",
      "    perplexity___TSNE, Type: UniformFloat, Range: [1.0, 300.0], Default: 30.0\n",
      "    svd_solver___PCA, Type: Categorical, Choices: {auto, full, arpack, randomized}, Default: auto\n",
      "    warm_start___GaussianMixture, Type: Categorical, Choices: {True, False}, Default: False\n",
      "    whiten___FastICA, Type: Categorical, Choices: {True, False}, Default: True\n",
      "    whiten___IncrementalPCA, Type: Categorical, Choices: {True, False}, Default: False\n",
      "    whiten___PCA, Type: Categorical, Choices: {True, False}, Default: False\n",
      "  Conditions:\n",
      "    affinity___AffinityPropagation | clustering_choice in {'AffinityPropagation'}\n",
      "    affinity___AgglomerativeClustering | clustering_choice in {'AgglomerativeClustering'}\n",
      "    affinity___SpectralClustering | clustering_choice in {'SpectralClustering'}\n",
      "    algorithm___FastICA | dim_reduction_choice in {'FastICA'}\n",
      "    algorithm___TruncatedSVD | dim_reduction_choice in {'TruncatedSVD'}\n",
      "    assign_labels___SpectralClustering | clustering_choice in {'SpectralClustering'}\n",
      "    bandwidth___MeanShift | clustering_choice in {'MeanShift'}\n",
      "    batch_size___IncrementalPCA | dim_reduction_choice in {'IncrementalPCA'}\n",
      "    batch_size___MiniBatchKMeans | clustering_choice in {'MiniBatchKMeans'}\n",
      "    bin_seeding___MeanShift | clustering_choice in {'MeanShift'}\n",
      "    branching_factor___Birch | clustering_choice in {'Birch'}\n",
      "    cluster_method___OPTICS | clustering_choice in {'OPTICS'}\n",
      "    covariance_type___GaussianMixture | clustering_choice in {'GaussianMixture'}\n",
      "    damping___AffinityPropagation | clustering_choice in {'AffinityPropagation'}\n",
      "    early_exaggeration___TSNE | dim_reduction_choice in {'TSNE'}\n",
      "    eigen_solver___SpectralClustering | clustering_choice in {'SpectralClustering'}\n",
      "    eps___DBSCAN | clustering_choice in {'DBSCAN'}\n",
      "    fun___FastICA | dim_reduction_choice in {'FastICA'}\n",
      "    init_params___GaussianMixture | clustering_choice in {'GaussianMixture'}\n",
      "    kernel___KernelPCA | dim_reduction_choice in {'KernelPCA'}\n",
      "    linkage___AgglomerativeClustering | clustering_choice in {'AgglomerativeClustering'}\n",
      "    metric___OPTICS | clustering_choice in {'OPTICS'}\n",
      "    min_samples___DBSCAN | clustering_choice in {'DBSCAN'}\n",
      "    min_samples___OPTICS | clustering_choice in {'OPTICS'}\n",
      "    n_clusters___AgglomerativeClustering | clustering_choice in {'AgglomerativeClustering'}\n",
      "    n_clusters___Birch | clustering_choice in {'Birch'}\n",
      "    n_clusters___KMeans | clustering_choice in {'KMeans'}\n",
      "    n_clusters___MiniBatchKMeans | clustering_choice in {'MiniBatchKMeans'}\n",
      "    n_clusters___SpectralClustering | clustering_choice in {'SpectralClustering'}\n",
      "    n_components___FastICA | dim_reduction_choice in {'FastICA'}\n",
      "    n_components___GaussianMixture | clustering_choice in {'GaussianMixture'}\n",
      "    n_components___IncrementalPCA | dim_reduction_choice in {'IncrementalPCA'}\n",
      "    n_components___KernelPCA | dim_reduction_choice in {'KernelPCA'}\n",
      "    n_components___PCA | dim_reduction_choice in {'PCA'}\n",
      "    n_components___TSNE | dim_reduction_choice in {'TSNE'}\n",
      "    n_components___TruncatedSVD | dim_reduction_choice in {'TruncatedSVD'}\n",
      "    perplexity___TSNE | dim_reduction_choice in {'TSNE'}\n",
      "    svd_solver___PCA | dim_reduction_choice in {'PCA'}\n",
      "    warm_start___GaussianMixture | clustering_choice in {'GaussianMixture'}\n",
      "    whiten___FastICA | dim_reduction_choice in {'FastICA'}\n",
      "    whiten___IncrementalPCA | dim_reduction_choice in {'IncrementalPCA'}\n",
      "    whiten___PCA | dim_reduction_choice in {'PCA'}\n",
      "  Forbidden Clauses:\n",
      "    (Forbidden: linkage___AgglomerativeClustering == 'ward' && Forbidden: affinity___AgglomerativeClustering in {'cityblock', 'cosine', 'l1', 'l2', 'manhattan'})\n",
      ", 'deterministic': 'true'}\n",
      "Fitting configuration: \n",
      "{'n_components___KernelPCA': 2, 'kernel___KernelPCA': 'poly', 'clustering_choice': 'KMeans', 'dim_reduction_choice': 'KernelPCA', 'n_clusters___KMeans': 4}\n",
      "Score obtained by this configuration: inf\n"
     ]
    },
    {
     "name": "stderr",
     "output_type": "stream",
     "text": [
      "WARNING:smac.tae.execute_func.ExecuteTAFuncDict:Target Algorithm returned NaN or inf as quality. Algorithm run is treated as CRASHED, cost is set to 2147483647.0 for quality scenarios. (Change value through \"cost_for_crash\"-option.)\n"
     ]
    },
    {
     "name": "stdout",
     "output_type": "stream",
     "text": [
      "Fitting configuration: \n",
      "{'kernel___KernelPCA': 'poly', 'clustering_choice': 'Birch', 'n_components___KernelPCA': 2, 'n_clusters___Birch': 5, 'branching_factor___Birch': 10, 'dim_reduction_choice': 'KernelPCA'}\n"
     ]
    },
    {
     "name": "stderr",
     "output_type": "stream",
     "text": [
      "/home/wywongbd/anaconda3/envs/spia2019/lib/python3.5/site-packages/sklearn/cluster/birch.py:627: ConvergenceWarning: Number of subclusters found (3) by Birch is less than (5). Decrease the threshold.\n",
      "  % (len(centroids), self.n_clusters), ConvergenceWarning)\n",
      "/home/wywongbd/anaconda3/envs/spia2019/lib/python3.5/site-packages/sklearn/cluster/birch.py:627: ConvergenceWarning: Number of subclusters found (3) by Birch is less than (5). Decrease the threshold.\n",
      "  % (len(centroids), self.n_clusters), ConvergenceWarning)\n"
     ]
    },
    {
     "name": "stdout",
     "output_type": "stream",
     "text": [
      "Score obtained by this configuration: inf\n"
     ]
    },
    {
     "name": "stderr",
     "output_type": "stream",
     "text": [
      "WARNING:smac.tae.execute_func.ExecuteTAFuncDict:Target Algorithm returned NaN or inf as quality. Algorithm run is treated as CRASHED, cost is set to 2147483647.0 for quality scenarios. (Change value through \"cost_for_crash\"-option.)\n"
     ]
    },
    {
     "name": "stdout",
     "output_type": "stream",
     "text": [
      "Fitting configuration: \n",
      "{'kernel___KernelPCA': 'poly', 'clustering_choice': 'Birch', 'n_components___KernelPCA': 2, 'n_clusters___Birch': 5, 'branching_factor___Birch': 32, 'dim_reduction_choice': 'KernelPCA'}\n"
     ]
    },
    {
     "name": "stderr",
     "output_type": "stream",
     "text": [
      "/home/wywongbd/anaconda3/envs/spia2019/lib/python3.5/site-packages/sklearn/cluster/birch.py:627: ConvergenceWarning: Number of subclusters found (3) by Birch is less than (5). Decrease the threshold.\n",
      "  % (len(centroids), self.n_clusters), ConvergenceWarning)\n",
      "/home/wywongbd/anaconda3/envs/spia2019/lib/python3.5/site-packages/sklearn/cluster/birch.py:627: ConvergenceWarning: Number of subclusters found (3) by Birch is less than (5). Decrease the threshold.\n",
      "  % (len(centroids), self.n_clusters), ConvergenceWarning)\n"
     ]
    },
    {
     "name": "stdout",
     "output_type": "stream",
     "text": [
      "Score obtained by this configuration: inf\n"
     ]
    },
    {
     "name": "stderr",
     "output_type": "stream",
     "text": [
      "WARNING:smac.tae.execute_func.ExecuteTAFuncDict:Target Algorithm returned NaN or inf as quality. Algorithm run is treated as CRASHED, cost is set to 2147483647.0 for quality scenarios. (Change value through \"cost_for_crash\"-option.)\n"
     ]
    },
    {
     "name": "stdout",
     "output_type": "stream",
     "text": [
      "Fitting configuration: \n",
      "{'kernel___KernelPCA': 'poly', 'clustering_choice': 'Birch', 'n_components___KernelPCA': 2, 'n_clusters___Birch': 5, 'branching_factor___Birch': 64, 'dim_reduction_choice': 'KernelPCA'}\n"
     ]
    },
    {
     "name": "stderr",
     "output_type": "stream",
     "text": [
      "/home/wywongbd/anaconda3/envs/spia2019/lib/python3.5/site-packages/sklearn/cluster/birch.py:627: ConvergenceWarning: Number of subclusters found (3) by Birch is less than (5). Decrease the threshold.\n",
      "  % (len(centroids), self.n_clusters), ConvergenceWarning)\n",
      "/home/wywongbd/anaconda3/envs/spia2019/lib/python3.5/site-packages/sklearn/cluster/birch.py:627: ConvergenceWarning: Number of subclusters found (3) by Birch is less than (5). Decrease the threshold.\n",
      "  % (len(centroids), self.n_clusters), ConvergenceWarning)\n"
     ]
    },
    {
     "name": "stdout",
     "output_type": "stream",
     "text": [
      "Score obtained by this configuration: inf\n"
     ]
    },
    {
     "name": "stderr",
     "output_type": "stream",
     "text": [
      "WARNING:smac.tae.execute_func.ExecuteTAFuncDict:Target Algorithm returned NaN or inf as quality. Algorithm run is treated as CRASHED, cost is set to 2147483647.0 for quality scenarios. (Change value through \"cost_for_crash\"-option.)\n"
     ]
    },
    {
     "name": "stdout",
     "output_type": "stream",
     "text": [
      "Fitting configuration: \n",
      "{'kernel___KernelPCA': 'poly', 'clustering_choice': 'Birch', 'n_components___KernelPCA': 2, 'n_clusters___Birch': 6, 'branching_factor___Birch': 10, 'dim_reduction_choice': 'KernelPCA'}\n"
     ]
    },
    {
     "name": "stderr",
     "output_type": "stream",
     "text": [
      "/home/wywongbd/anaconda3/envs/spia2019/lib/python3.5/site-packages/sklearn/cluster/birch.py:627: ConvergenceWarning: Number of subclusters found (3) by Birch is less than (6). Decrease the threshold.\n",
      "  % (len(centroids), self.n_clusters), ConvergenceWarning)\n",
      "/home/wywongbd/anaconda3/envs/spia2019/lib/python3.5/site-packages/sklearn/cluster/birch.py:627: ConvergenceWarning: Number of subclusters found (3) by Birch is less than (6). Decrease the threshold.\n",
      "  % (len(centroids), self.n_clusters), ConvergenceWarning)\n"
     ]
    },
    {
     "name": "stdout",
     "output_type": "stream",
     "text": [
      "Score obtained by this configuration: inf\n"
     ]
    },
    {
     "name": "stderr",
     "output_type": "stream",
     "text": [
      "WARNING:smac.tae.execute_func.ExecuteTAFuncDict:Target Algorithm returned NaN or inf as quality. Algorithm run is treated as CRASHED, cost is set to 2147483647.0 for quality scenarios. (Change value through \"cost_for_crash\"-option.)\n"
     ]
    },
    {
     "name": "stdout",
     "output_type": "stream",
     "text": [
      "Fitting configuration: \n",
      "{'clustering_choice': 'SpectralClustering', 'kernel___KernelPCA': 'poly', 'affinity___SpectralClustering': 'laplacian', 'n_clusters___SpectralClustering': 9, 'n_components___KernelPCA': 2, 'assign_labels___SpectralClustering': 'kmeans', 'dim_reduction_choice': 'KernelPCA', 'eigen_solver___SpectralClustering': 'arpack'}\n",
      "Score obtained by this configuration: inf\n"
     ]
    },
    {
     "name": "stderr",
     "output_type": "stream",
     "text": [
      "WARNING:smac.tae.execute_func.ExecuteTAFuncDict:Target Algorithm returned NaN or inf as quality. Algorithm run is treated as CRASHED, cost is set to 2147483647.0 for quality scenarios. (Change value through \"cost_for_crash\"-option.)\n"
     ]
    },
    {
     "name": "stdout",
     "output_type": "stream",
     "text": [
      "Fitting configuration: \n",
      "{'clustering_choice': 'SpectralClustering', 'kernel___KernelPCA': 'poly', 'affinity___SpectralClustering': 'laplacian', 'n_clusters___SpectralClustering': 11, 'n_components___KernelPCA': 2, 'assign_labels___SpectralClustering': 'kmeans', 'dim_reduction_choice': 'KernelPCA', 'eigen_solver___SpectralClustering': 'arpack'}\n"
     ]
    },
    {
     "name": "stderr",
     "output_type": "stream",
     "text": [
      "/home/wywongbd/anaconda3/envs/spia2019/lib/python3.5/site-packages/sklearn/cluster/spectral.py:268: ConvergenceWarning: Number of distinct clusters (10) found smaller than n_clusters (11). Possibly due to duplicate points in X.\n",
      "  n_init=n_init)\n",
      "/home/wywongbd/anaconda3/envs/spia2019/lib/python3.5/site-packages/sklearn/cluster/spectral.py:268: ConvergenceWarning: Number of distinct clusters (9) found smaller than n_clusters (11). Possibly due to duplicate points in X.\n",
      "  n_init=n_init)\n",
      "/home/wywongbd/anaconda3/envs/spia2019/lib/python3.5/site-packages/sklearn/cluster/spectral.py:268: ConvergenceWarning: Number of distinct clusters (2) found smaller than n_clusters (11). Possibly due to duplicate points in X.\n",
      "  n_init=n_init)\n"
     ]
    },
    {
     "name": "stdout",
     "output_type": "stream",
     "text": [
      "Score obtained by this configuration: inf\n"
     ]
    },
    {
     "name": "stderr",
     "output_type": "stream",
     "text": [
      "WARNING:smac.tae.execute_func.ExecuteTAFuncDict:Target Algorithm returned NaN or inf as quality. Algorithm run is treated as CRASHED, cost is set to 2147483647.0 for quality scenarios. (Change value through \"cost_for_crash\"-option.)\n"
     ]
    },
    {
     "name": "stdout",
     "output_type": "stream",
     "text": [
      "Fitting configuration: \n",
      "{'clustering_choice': 'SpectralClustering', 'kernel___KernelPCA': 'poly', 'affinity___SpectralClustering': 'laplacian', 'n_clusters___SpectralClustering': 13, 'n_components___KernelPCA': 2, 'assign_labels___SpectralClustering': 'discretize', 'dim_reduction_choice': 'KernelPCA', 'eigen_solver___SpectralClustering': 'arpack'}\n",
      "Score obtained by this configuration: inf\n"
     ]
    },
    {
     "name": "stderr",
     "output_type": "stream",
     "text": [
      "WARNING:smac.tae.execute_func.ExecuteTAFuncDict:Target Algorithm returned NaN or inf as quality. Algorithm run is treated as CRASHED, cost is set to 2147483647.0 for quality scenarios. (Change value through \"cost_for_crash\"-option.)\n"
     ]
    },
    {
     "name": "stdout",
     "output_type": "stream",
     "text": [
      "Fitting configuration: \n",
      "{'cluster_method___OPTICS': 'dbscan', 'metric___OPTICS': 'l1', 'clustering_choice': 'OPTICS', 'n_components___KernelPCA': 4, 'kernel___KernelPCA': 'poly', 'dim_reduction_choice': 'KernelPCA', 'min_samples___OPTICS': 787}\n"
     ]
    },
    {
     "name": "stderr",
     "output_type": "stream",
     "text": [
      "Process pynisher function call:\n",
      "Traceback (most recent call last):\n",
      "  File \"/home/wywongbd/anaconda3/envs/spia2019/lib/python3.5/multiprocessing/process.py\", line 252, in _bootstrap\n",
      "    self.run()\n",
      "  File \"/home/wywongbd/anaconda3/envs/spia2019/lib/python3.5/multiprocessing/process.py\", line 93, in run\n",
      "    self._target(*self._args, **self._kwargs)\n",
      "  File \"/home/wywongbd/anaconda3/envs/spia2019/lib/python3.5/site-packages/pynisher/limit_function_call.py\", line 93, in subprocess_func\n",
      "    return_value = ((func(*args, **kwargs), 0))\n",
      "  File \"/home/wywongbd/coding_workspace/autocluster/autocluster/autocluster.py\", line 249, in evaluate_model\n",
      "    y_pred = clustering_model.fit_predict(compressed_valid_data)\n",
      "  File \"/home/wywongbd/anaconda3/envs/spia2019/lib/python3.5/site-packages/sklearn/base.py\", line 447, in fit_predict\n",
      "    self.fit(X)\n",
      "  File \"/home/wywongbd/anaconda3/envs/spia2019/lib/python3.5/site-packages/sklearn/cluster/optics_.py\", line 248, in fit\n",
      "    max_eps=self.max_eps)\n",
      "  File \"/home/wywongbd/anaconda3/envs/spia2019/lib/python3.5/site-packages/sklearn/cluster/optics_.py\", line 438, in compute_optics_graph\n",
      "    _validate_size(min_samples, n_samples, 'min_samples')\n",
      "  File \"/home/wywongbd/anaconda3/envs/spia2019/lib/python3.5/site-packages/sklearn/cluster/optics_.py\", line 290, in _validate_size\n",
      "    (param_name, n_samples, size))\n",
      "ValueError: min_samples must be no greater than the number of samples (434). Got 787\n"
     ]
    },
    {
     "name": "stdout",
     "output_type": "stream",
     "text": [
      "Fitting configuration: \n",
      "{'clustering_choice': 'SpectralClustering', 'kernel___KernelPCA': 'poly', 'affinity___SpectralClustering': 'laplacian', 'n_clusters___SpectralClustering': 10, 'n_components___KernelPCA': 7, 'assign_labels___SpectralClustering': 'kmeans', 'dim_reduction_choice': 'KernelPCA', 'eigen_solver___SpectralClustering': 'arpack'}\n"
     ]
    },
    {
     "name": "stderr",
     "output_type": "stream",
     "text": [
      "/home/wywongbd/anaconda3/envs/spia2019/lib/python3.5/site-packages/sklearn/cluster/spectral.py:268: ConvergenceWarning: Number of distinct clusters (2) found smaller than n_clusters (10). Possibly due to duplicate points in X.\n",
      "  n_init=n_init)\n"
     ]
    },
    {
     "name": "stdout",
     "output_type": "stream",
     "text": [
      "Score obtained by this configuration: inf\n"
     ]
    },
    {
     "name": "stderr",
     "output_type": "stream",
     "text": [
      "WARNING:smac.tae.execute_func.ExecuteTAFuncDict:Target Algorithm returned NaN or inf as quality. Algorithm run is treated as CRASHED, cost is set to 2147483647.0 for quality scenarios. (Change value through \"cost_for_crash\"-option.)\n"
     ]
    },
    {
     "name": "stdout",
     "output_type": "stream",
     "text": [
      "Fitting configuration: \n",
      "{'kernel___KernelPCA': 'poly', 'clustering_choice': 'Birch', 'n_components___KernelPCA': 5, 'n_clusters___Birch': 9, 'branching_factor___Birch': 83, 'dim_reduction_choice': 'KernelPCA'}\n"
     ]
    },
    {
     "name": "stderr",
     "output_type": "stream",
     "text": [
      "/home/wywongbd/anaconda3/envs/spia2019/lib/python3.5/site-packages/sklearn/cluster/birch.py:627: ConvergenceWarning: Number of subclusters found (8) by Birch is less than (9). Decrease the threshold.\n",
      "  % (len(centroids), self.n_clusters), ConvergenceWarning)\n",
      "/home/wywongbd/anaconda3/envs/spia2019/lib/python3.5/site-packages/sklearn/cluster/birch.py:627: ConvergenceWarning: Number of subclusters found (6) by Birch is less than (9). Decrease the threshold.\n",
      "  % (len(centroids), self.n_clusters), ConvergenceWarning)\n"
     ]
    },
    {
     "name": "stdout",
     "output_type": "stream",
     "text": [
      "Score obtained by this configuration: inf\n"
     ]
    },
    {
     "name": "stderr",
     "output_type": "stream",
     "text": [
      "WARNING:smac.tae.execute_func.ExecuteTAFuncDict:Target Algorithm returned NaN or inf as quality. Algorithm run is treated as CRASHED, cost is set to 2147483647.0 for quality scenarios. (Change value through \"cost_for_crash\"-option.)\n"
     ]
    },
    {
     "name": "stdout",
     "output_type": "stream",
     "text": [
      "Fitting configuration: \n",
      "{'kernel___KernelPCA': 'poly', 'clustering_choice': 'AgglomerativeClustering', 'affinity___AgglomerativeClustering': 'l2', 'linkage___AgglomerativeClustering': 'average', 'n_components___KernelPCA': 8, 'n_clusters___AgglomerativeClustering': 15, 'dim_reduction_choice': 'KernelPCA'}\n",
      "Score obtained by this configuration: inf\n"
     ]
    },
    {
     "name": "stderr",
     "output_type": "stream",
     "text": [
      "WARNING:smac.tae.execute_func.ExecuteTAFuncDict:Target Algorithm returned NaN or inf as quality. Algorithm run is treated as CRASHED, cost is set to 2147483647.0 for quality scenarios. (Change value through \"cost_for_crash\"-option.)\n"
     ]
    },
    {
     "name": "stdout",
     "output_type": "stream",
     "text": [
      "Fitting configuration: \n",
      "{'n_components___KernelPCA': 2, 'kernel___KernelPCA': 'poly', 'clustering_choice': 'KMeans', 'dim_reduction_choice': 'KernelPCA', 'n_clusters___KMeans': 15}\n",
      "Score obtained by this configuration: inf\n"
     ]
    },
    {
     "name": "stderr",
     "output_type": "stream",
     "text": [
      "WARNING:smac.tae.execute_func.ExecuteTAFuncDict:Target Algorithm returned NaN or inf as quality. Algorithm run is treated as CRASHED, cost is set to 2147483647.0 for quality scenarios. (Change value through \"cost_for_crash\"-option.)\n"
     ]
    },
    {
     "name": "stdout",
     "output_type": "stream",
     "text": [
      "Fitting configuration: \n",
      "{'n_components___PCA': 2, 'clustering_choice': 'Birch', 'n_clusters___Birch': 3, 'branching_factor___Birch': 50, 'dim_reduction_choice': 'PCA', 'svd_solver___PCA': 'auto'}\n",
      "Score obtained by this configuration: 0.2990189647870227\n",
      "Fitting configuration: \n",
      "{'early_exaggeration___TSNE': 6.112145599966696, 'batch_size___MiniBatchKMeans': 773, 'clustering_choice': 'MiniBatchKMeans', 'n_clusters___MiniBatchKMeans': 10, 'perplexity___TSNE': 250.7576475481927, 'dim_reduction_choice': 'TSNE', 'n_components___TSNE': 2}\n",
      "Fitting configuration: \n",
      "{'affinity___SpectralClustering': 'rbf', 'early_exaggeration___TSNE': 12.86122333165967, 'eigen_solver___SpectralClustering': 'arpack', 'n_clusters___SpectralClustering': 3, 'perplexity___TSNE': 237.68038043104409, 'n_components___TSNE': 2, 'assign_labels___SpectralClustering': 'kmeans', 'dim_reduction_choice': 'TSNE', 'clustering_choice': 'SpectralClustering'}\n",
      "Fitting configuration: \n",
      "{'early_exaggeration___TSNE': 5.92345241675155, 'batch_size___MiniBatchKMeans': 891, 'clustering_choice': 'MiniBatchKMeans', 'n_clusters___MiniBatchKMeans': 20, 'perplexity___TSNE': 234.05607785844984, 'dim_reduction_choice': 'TSNE', 'n_components___TSNE': 2}\n",
      "Fitting configuration: \n",
      "{'fun___FastICA': 'cube', 'clustering_choice': 'KMeans', 'n_components___FastICA': 2, 'n_clusters___KMeans': 3, 'whiten___FastICA': True, 'algorithm___FastICA': 'parallel', 'dim_reduction_choice': 'FastICA'}\n",
      "Score obtained by this configuration: 0.270128806818934\n",
      "Fitting configuration: \n",
      "{'min_samples___DBSCAN': 74, 'clustering_choice': 'DBSCAN', 'eps___DBSCAN': 3.3348244742189315, 'algorithm___TruncatedSVD': 'randomized', 'dim_reduction_choice': 'TruncatedSVD', 'n_components___TruncatedSVD': 3}\n",
      "Score obtained by this configuration: 0.3834831425613208\n",
      "Fitting configuration: \n",
      "{'cluster_method___OPTICS': 'xi', 'metric___OPTICS': 'minkowski', 'clustering_choice': 'OPTICS', 'n_components___KernelPCA': 7, 'kernel___KernelPCA': 'poly', 'dim_reduction_choice': 'KernelPCA', 'min_samples___OPTICS': 788}\n"
     ]
    },
    {
     "name": "stderr",
     "output_type": "stream",
     "text": [
      "Process pynisher function call:\n",
      "Traceback (most recent call last):\n",
      "  File \"/home/wywongbd/anaconda3/envs/spia2019/lib/python3.5/multiprocessing/process.py\", line 252, in _bootstrap\n",
      "    self.run()\n",
      "  File \"/home/wywongbd/anaconda3/envs/spia2019/lib/python3.5/multiprocessing/process.py\", line 93, in run\n",
      "    self._target(*self._args, **self._kwargs)\n",
      "  File \"/home/wywongbd/anaconda3/envs/spia2019/lib/python3.5/site-packages/pynisher/limit_function_call.py\", line 93, in subprocess_func\n",
      "    return_value = ((func(*args, **kwargs), 0))\n",
      "  File \"/home/wywongbd/coding_workspace/autocluster/autocluster/autocluster.py\", line 249, in evaluate_model\n",
      "    y_pred = clustering_model.fit_predict(compressed_valid_data)\n",
      "  File \"/home/wywongbd/anaconda3/envs/spia2019/lib/python3.5/site-packages/sklearn/base.py\", line 447, in fit_predict\n",
      "    self.fit(X)\n",
      "  File \"/home/wywongbd/anaconda3/envs/spia2019/lib/python3.5/site-packages/sklearn/cluster/optics_.py\", line 248, in fit\n",
      "    max_eps=self.max_eps)\n",
      "  File \"/home/wywongbd/anaconda3/envs/spia2019/lib/python3.5/site-packages/sklearn/cluster/optics_.py\", line 438, in compute_optics_graph\n",
      "    _validate_size(min_samples, n_samples, 'min_samples')\n",
      "  File \"/home/wywongbd/anaconda3/envs/spia2019/lib/python3.5/site-packages/sklearn/cluster/optics_.py\", line 290, in _validate_size\n",
      "    (param_name, n_samples, size))\n",
      "ValueError: min_samples must be no greater than the number of samples (434). Got 788\n"
     ]
    },
    {
     "name": "stdout",
     "output_type": "stream",
     "text": [
      "Fitting configuration: \n",
      "{'n_components___KernelPCA': 3, 'kernel___KernelPCA': 'cosine', 'clustering_choice': 'KMeans', 'dim_reduction_choice': 'KernelPCA', 'n_clusters___KMeans': 29}\n",
      "Score obtained by this configuration: 0.34873471690366076\n",
      "Fitting configuration: \n",
      "{'affinity___AffinityPropagation': 'euclidean', 'kernel___KernelPCA': 'cosine', 'clustering_choice': 'AffinityPropagation', 'damping___AffinityPropagation': 0.8279287395007919, 'n_components___KernelPCA': 3, 'dim_reduction_choice': 'KernelPCA'}\n",
      "Score obtained by this configuration: 0.3373650514921282\n",
      "Fitting configuration: \n",
      "{'kernel___KernelPCA': 'cosine', 'batch_size___MiniBatchKMeans': 668, 'clustering_choice': 'MiniBatchKMeans', 'n_clusters___MiniBatchKMeans': 9, 'n_components___KernelPCA': 2, 'dim_reduction_choice': 'KernelPCA'}\n",
      "Score obtained by this configuration: 0.30841402180909433\n",
      "Fitting configuration: \n",
      "{'kernel___KernelPCA': 'cosine', 'batch_size___MiniBatchKMeans': 362, 'clustering_choice': 'MiniBatchKMeans', 'n_clusters___MiniBatchKMeans': 29, 'n_components___KernelPCA': 3, 'dim_reduction_choice': 'KernelPCA'}\n",
      "Score obtained by this configuration: 0.3579236151704692\n",
      "Fitting configuration: \n",
      "{'kernel___KernelPCA': 'cosine', 'batch_size___MiniBatchKMeans': 190, 'clustering_choice': 'MiniBatchKMeans', 'n_clusters___MiniBatchKMeans': 22, 'n_components___KernelPCA': 3, 'dim_reduction_choice': 'KernelPCA'}\n",
      "Score obtained by this configuration: 0.3500589097829674\n",
      "Fitting configuration: \n",
      "{'kernel___KernelPCA': 'cosine', 'covariance_type___GaussianMixture': 'tied', 'clustering_choice': 'GaussianMixture', 'n_components___KernelPCA': 3, 'init_params___GaussianMixture': 'kmeans', 'dim_reduction_choice': 'KernelPCA', 'n_components___GaussianMixture': 8}\n",
      "Score obtained by this configuration: 0.3055028269471645\n",
      "Fitting configuration: \n",
      "{'kernel___KernelPCA': 'cosine', 'batch_size___MiniBatchKMeans': 154, 'clustering_choice': 'MiniBatchKMeans', 'n_clusters___MiniBatchKMeans': 9, 'n_components___KernelPCA': 7, 'dim_reduction_choice': 'KernelPCA'}\n",
      "Score obtained by this configuration: 0.35534804074101095\n",
      "Fitting configuration: \n",
      "{'clustering_choice': 'SpectralClustering', 'kernel___KernelPCA': 'cosine', 'affinity___SpectralClustering': 'poly', 'n_clusters___SpectralClustering': 10, 'n_components___KernelPCA': 2, 'assign_labels___SpectralClustering': 'kmeans', 'dim_reduction_choice': 'KernelPCA', 'eigen_solver___SpectralClustering': 'arpack'}\n",
      "Score obtained by this configuration: 0.33787754932584696\n",
      "Fitting configuration: \n",
      "{'n_components___KernelPCA': 2, 'kernel___KernelPCA': 'cosine', 'clustering_choice': 'KMeans', 'dim_reduction_choice': 'KernelPCA', 'n_clusters___KMeans': 12}\n",
      "Score obtained by this configuration: 0.3029224508187311\n",
      "Fitting configuration: \n",
      "{'algorithm___TruncatedSVD': 'arpack', 'covariance_type___GaussianMixture': 'diag', 'clustering_choice': 'GaussianMixture', 'n_components___GaussianMixture': 9, 'init_params___GaussianMixture': 'kmeans', 'dim_reduction_choice': 'TruncatedSVD', 'n_components___TruncatedSVD': 5}\n",
      "Score obtained by this configuration: 0.3573418399329376\n",
      "Fitting configuration: \n",
      "{'kernel___KernelPCA': 'cosine', 'batch_size___MiniBatchKMeans': 144, 'clustering_choice': 'MiniBatchKMeans', 'n_clusters___MiniBatchKMeans': 11, 'n_components___KernelPCA': 3, 'dim_reduction_choice': 'KernelPCA'}\n",
      "Score obtained by this configuration: 0.32532821439258086\n",
      "Fitting configuration: \n",
      "{'kernel___KernelPCA': 'cosine', 'batch_size___MiniBatchKMeans': 182, 'clustering_choice': 'MiniBatchKMeans', 'n_clusters___MiniBatchKMeans': 23, 'n_components___KernelPCA': 3, 'dim_reduction_choice': 'KernelPCA'}\n",
      "Score obtained by this configuration: 0.34781384924373215\n",
      "Fitting configuration: \n",
      "{'kernel___KernelPCA': 'cosine', 'covariance_type___GaussianMixture': 'tied', 'clustering_choice': 'GaussianMixture', 'n_components___KernelPCA': 3, 'init_params___GaussianMixture': 'kmeans', 'dim_reduction_choice': 'KernelPCA', 'n_components___GaussianMixture': 5}\n",
      "Score obtained by this configuration: 0.3354686184106164\n",
      "Fitting configuration: \n",
      "{'affinity___SpectralClustering': 'poly', 'batch_size___IncrementalPCA': 780, 'n_components___IncrementalPCA': 3, 'eigen_solver___SpectralClustering': 'arpack', 'n_clusters___SpectralClustering': 1, 'whiten___IncrementalPCA': True, 'assign_labels___SpectralClustering': 'kmeans', 'dim_reduction_choice': 'IncrementalPCA', 'clustering_choice': 'SpectralClustering'}\n",
      "Score obtained by this configuration: inf\n"
     ]
    },
    {
     "name": "stderr",
     "output_type": "stream",
     "text": [
      "WARNING:smac.tae.execute_func.ExecuteTAFuncDict:Target Algorithm returned NaN or inf as quality. Algorithm run is treated as CRASHED, cost is set to 2147483647.0 for quality scenarios. (Change value through \"cost_for_crash\"-option.)\n"
     ]
    },
    {
     "name": "stdout",
     "output_type": "stream",
     "text": [
      "Fitting configuration: \n",
      "{'kernel___KernelPCA': 'cosine', 'covariance_type___GaussianMixture': 'diag', 'clustering_choice': 'GaussianMixture', 'n_components___KernelPCA': 3, 'init_params___GaussianMixture': 'kmeans', 'dim_reduction_choice': 'KernelPCA', 'n_components___GaussianMixture': 4}\n",
      "Score obtained by this configuration: 0.3478338040978561\n",
      "Fitting configuration: \n",
      "{'kernel___KernelPCA': 'cosine', 'clustering_choice': 'AgglomerativeClustering', 'affinity___AgglomerativeClustering': 'euclidean', 'linkage___AgglomerativeClustering': 'ward', 'n_components___KernelPCA': 3, 'n_clusters___AgglomerativeClustering': 28, 'dim_reduction_choice': 'KernelPCA'}\n",
      "Score obtained by this configuration: 0.35541355165870875\n",
      "Fitting configuration: \n",
      "{'algorithm___TruncatedSVD': 'randomized', 'covariance_type___GaussianMixture': 'diag', 'clustering_choice': 'GaussianMixture', 'warm_start___GaussianMixture': True, 'init_params___GaussianMixture': 'random', 'dim_reduction_choice': 'TruncatedSVD', 'n_components___GaussianMixture': 6, 'n_components___TruncatedSVD': 8}\n",
      "Score obtained by this configuration: 0.4015578575155266\n",
      "Fitting configuration: \n",
      "{'kernel___KernelPCA': 'cosine', 'clustering_choice': 'Birch', 'n_components___KernelPCA': 2, 'n_clusters___Birch': 12, 'branching_factor___Birch': 385, 'dim_reduction_choice': 'KernelPCA'}\n"
     ]
    },
    {
     "name": "stderr",
     "output_type": "stream",
     "text": [
      "/home/wywongbd/anaconda3/envs/spia2019/lib/python3.5/site-packages/sklearn/cluster/birch.py:627: ConvergenceWarning: Number of subclusters found (4) by Birch is less than (12). Decrease the threshold.\n",
      "  % (len(centroids), self.n_clusters), ConvergenceWarning)\n",
      "/home/wywongbd/anaconda3/envs/spia2019/lib/python3.5/site-packages/sklearn/cluster/birch.py:627: ConvergenceWarning: Number of subclusters found (2) by Birch is less than (12). Decrease the threshold.\n",
      "  % (len(centroids), self.n_clusters), ConvergenceWarning)\n",
      "/home/wywongbd/anaconda3/envs/spia2019/lib/python3.5/site-packages/sklearn/cluster/birch.py:627: ConvergenceWarning: Number of subclusters found (2) by Birch is less than (12). Decrease the threshold.\n",
      "  % (len(centroids), self.n_clusters), ConvergenceWarning)\n",
      "/home/wywongbd/anaconda3/envs/spia2019/lib/python3.5/site-packages/sklearn/cluster/birch.py:627: ConvergenceWarning: Number of subclusters found (4) by Birch is less than (12). Decrease the threshold.\n",
      "  % (len(centroids), self.n_clusters), ConvergenceWarning)\n",
      "/home/wywongbd/anaconda3/envs/spia2019/lib/python3.5/site-packages/sklearn/cluster/birch.py:627: ConvergenceWarning: Number of subclusters found (3) by Birch is less than (12). Decrease the threshold.\n",
      "  % (len(centroids), self.n_clusters), ConvergenceWarning)\n",
      "/home/wywongbd/anaconda3/envs/spia2019/lib/python3.5/site-packages/sklearn/cluster/birch.py:627: ConvergenceWarning: Number of subclusters found (3) by Birch is less than (12). Decrease the threshold.\n",
      "  % (len(centroids), self.n_clusters), ConvergenceWarning)\n"
     ]
    },
    {
     "name": "stdout",
     "output_type": "stream",
     "text": [
      "Score obtained by this configuration: 0.3073029425573336\n",
      "Fitting configuration: \n",
      "{'batch_size___MiniBatchKMeans': 191, 'n_components___PCA': 3, 'svd_solver___PCA': 'arpack', 'clustering_choice': 'MiniBatchKMeans', 'n_clusters___MiniBatchKMeans': 6, 'dim_reduction_choice': 'PCA'}\n",
      "Score obtained by this configuration: 0.32995102050054376\n",
      "Fitting configuration: \n",
      "{'min_samples___DBSCAN': 85, 'kernel___KernelPCA': 'poly', 'clustering_choice': 'DBSCAN', 'eps___DBSCAN': 0.33357409867392923, 'n_components___KernelPCA': 2, 'dim_reduction_choice': 'KernelPCA'}\n",
      "Score obtained by this configuration: inf\n"
     ]
    },
    {
     "name": "stderr",
     "output_type": "stream",
     "text": [
      "WARNING:smac.tae.execute_func.ExecuteTAFuncDict:Target Algorithm returned NaN or inf as quality. Algorithm run is treated as CRASHED, cost is set to 2147483647.0 for quality scenarios. (Change value through \"cost_for_crash\"-option.)\n"
     ]
    },
    {
     "name": "stdout",
     "output_type": "stream",
     "text": [
      "Fitting configuration: \n",
      "{'min_samples___DBSCAN': 30, 'kernel___KernelPCA': 'poly', 'clustering_choice': 'DBSCAN', 'eps___DBSCAN': 0.4911184393167958, 'n_components___KernelPCA': 3, 'dim_reduction_choice': 'KernelPCA'}\n",
      "Score obtained by this configuration: inf\n"
     ]
    },
    {
     "name": "stderr",
     "output_type": "stream",
     "text": [
      "WARNING:smac.tae.execute_func.ExecuteTAFuncDict:Target Algorithm returned NaN or inf as quality. Algorithm run is treated as CRASHED, cost is set to 2147483647.0 for quality scenarios. (Change value through \"cost_for_crash\"-option.)\n"
     ]
    },
    {
     "name": "stdout",
     "output_type": "stream",
     "text": [
      "Fitting configuration: \n",
      "{'min_samples___DBSCAN': 8, 'kernel___KernelPCA': 'poly', 'clustering_choice': 'DBSCAN', 'eps___DBSCAN': 0.46609068939941084, 'n_components___KernelPCA': 3, 'dim_reduction_choice': 'KernelPCA'}\n",
      "Score obtained by this configuration: inf\n"
     ]
    },
    {
     "name": "stderr",
     "output_type": "stream",
     "text": [
      "WARNING:smac.tae.execute_func.ExecuteTAFuncDict:Target Algorithm returned NaN or inf as quality. Algorithm run is treated as CRASHED, cost is set to 2147483647.0 for quality scenarios. (Change value through \"cost_for_crash\"-option.)\n"
     ]
    },
    {
     "name": "stdout",
     "output_type": "stream",
     "text": [
      "Fitting configuration: \n",
      "{'min_samples___DBSCAN': 13, 'kernel___KernelPCA': 'poly', 'clustering_choice': 'DBSCAN', 'eps___DBSCAN': 0.42763622817394803, 'n_components___KernelPCA': 3, 'dim_reduction_choice': 'KernelPCA'}\n",
      "Score obtained by this configuration: inf\n"
     ]
    },
    {
     "name": "stderr",
     "output_type": "stream",
     "text": [
      "WARNING:smac.tae.execute_func.ExecuteTAFuncDict:Target Algorithm returned NaN or inf as quality. Algorithm run is treated as CRASHED, cost is set to 2147483647.0 for quality scenarios. (Change value through \"cost_for_crash\"-option.)\n"
     ]
    },
    {
     "name": "stdout",
     "output_type": "stream",
     "text": [
      "Fitting configuration: \n",
      "{'min_samples___DBSCAN': 10, 'kernel___KernelPCA': 'poly', 'clustering_choice': 'DBSCAN', 'eps___DBSCAN': 0.3597676486445218, 'n_components___KernelPCA': 3, 'dim_reduction_choice': 'KernelPCA'}\n",
      "Score obtained by this configuration: inf\n"
     ]
    },
    {
     "name": "stderr",
     "output_type": "stream",
     "text": [
      "WARNING:smac.tae.execute_func.ExecuteTAFuncDict:Target Algorithm returned NaN or inf as quality. Algorithm run is treated as CRASHED, cost is set to 2147483647.0 for quality scenarios. (Change value through \"cost_for_crash\"-option.)\n"
     ]
    },
    {
     "name": "stdout",
     "output_type": "stream",
     "text": [
      "Fitting configuration: \n",
      "{'min_samples___DBSCAN': 73, 'early_exaggeration___TSNE': 13.486116543319527, 'clustering_choice': 'DBSCAN', 'eps___DBSCAN': 1.4543702868272501, 'perplexity___TSNE': 207.2286787061756, 'dim_reduction_choice': 'TSNE', 'n_components___TSNE': 2}\n"
     ]
    }
   ],
   "source": [
    "cluster = AutoCluster()\n",
    "fit_params = {\n",
    "    \"df\": df, \n",
    "    \"cluster_alg_ls\": [\n",
    "        'KMeans', 'GaussianMixture', 'Birch', \n",
    "        'MiniBatchKMeans', 'AgglomerativeClustering', 'OPTICS', \n",
    "        'SpectralClustering', 'DBSCAN', 'AffinityPropagation', 'MeanShift'\n",
    "    ], \n",
    "    \"dim_reduction_alg_ls\": [\n",
    "        'TSNE', 'PCA', 'IncrementalPCA', \n",
    "        'KernelPCA', 'FastICA', 'TruncatedSVD'\n",
    "    ],\n",
    "    \"n_evaluations\": 100,\n",
    "    \"run_obj\": 'quality',\n",
    "    \"seed\": 27,\n",
    "    \"cutoff_time\": 20,\n",
    "    \"preprocess_dict\": {\n",
    "        \"numeric_cols\": list(range(64)),\n",
    "        \"categorical_cols\": [],\n",
    "        \"ordinal_cols\": [],\n",
    "        \"y_col\": []\n",
    "    },\n",
    "    \"evaluator\": get_evaluator(evaluator_ls = ['silhouetteScore'], \n",
    "                               weights = [], clustering_num = None, \n",
    "                               min_proportion = .01),\n",
    "    \"n_folds\": 3,\n",
    "    \"warmstart\": True,\n",
    "    \"general_metafeatures\": MetafeatureMapper.getGeneralMetafeatures(),\n",
    "    \"numeric_metafeatures\": MetafeatureMapper.getNumericMetafeatures(),\n",
    "    \"categorical_metafeatures\": [],\n",
    "}\n",
    "result_dict = cluster.fit(**fit_params)"
   ]
  },
  {
   "cell_type": "code",
   "execution_count": 14,
   "metadata": {},
   "outputs": [
    {
     "data": {
      "text/plain": [
       "array([ 7.28000825e+00,  0.00000000e+00,  0.00000000e+00,  4.89371554e-01,\n",
       "        1.45100000e+03,  1.44600069e+03,  1.80591445e-01, -5.98208294e-01,\n",
       "       -1.42356631e+00,  0.00000000e+00, -3.00000000e+00, -1.11403012e-02,\n",
       "       -2.51757975e-01,  9.27284850e-01, -8.07725984e-01,  4.37500000e-01,\n",
       "        6.01279269e+00, -9.17630852e-02,  3.80526042e+01,  4.89371554e-01,\n",
       "       -8.46963666e-01,  4.27892564e+01,  2.54027097e-02,  3.74324201e+00,\n",
       "       -1.93527394e+01,  2.38688385e+00,  6.24879644e-02,  2.00430975e-01,\n",
       "        2.94463539e-01, -1.37877117e+00,  4.41589963e-03,  8.80353297e+01,\n",
       "       -4.35831412e-01])"
      ]
     },
     "execution_count": 14,
     "metadata": {},
     "output_type": "execute_result"
    }
   ],
   "source": [
    "result_dict['metafeatures'][0]"
   ]
  },
  {
   "cell_type": "code",
   "execution_count": 15,
   "metadata": {},
   "outputs": [
    {
     "data": {
      "image/png": "[encoded data removed]",
      "text/plain": [
       "<Figure size 720x720 with 1 Axes>"
      ]
     },
     "metadata": {
      "needs_background": "dark"
     },
     "output_type": "display_data"
    }
   ],
   "source": [
    "predictions = cluster.predict(df)"
   ]
  },
  {
   "cell_type": "code",
   "execution_count": 16,
   "metadata": {},
   "outputs": [
    {
     "data": {
      "text/plain": [
       "Counter({0: 575, 1: 335, 2: 689, 3: 198})"
      ]
     },
     "execution_count": 16,
     "metadata": {},
     "output_type": "execute_result"
    }
   ],
   "source": [
    "Counter(predictions)"
   ]
  },
  {
   "cell_type": "code",
   "execution_count": 17,
   "metadata": {},
   "outputs": [
    {
     "data": {
      "text/plain": [
       "0.4846394526181437"
      ]
     },
     "execution_count": 17,
     "metadata": {},
     "output_type": "execute_result"
    }
   ],
   "source": [
    "v_measure_score(predictions, datasets.load_digits()['target'])"
   ]
  },
  {
   "cell_type": "code",
   "execution_count": 18,
   "metadata": {},
   "outputs": [
    {
     "data": {
      "image/png": "[encoded data removed]",
      "text/plain": [
       "<Figure size 720x720 with 1 Axes>"
      ]
     },
     "metadata": {
      "needs_background": "dark"
     },
     "output_type": "display_data"
    }
   ],
   "source": [
    "cluster.plot_convergence()"
   ]
  },
  {
   "cell_type": "code",
   "execution_count": 19,
   "metadata": {},
   "outputs": [
    {
     "data": {
      "text/plain": [
       "[({'clustering_choice': 'KMeans',\n",
       "   'dim_reduction_choice': 'TSNE',\n",
       "   'early_exaggeration___TSNE': 12.0,\n",
       "   'n_clusters___KMeans': 5,\n",
       "   'n_components___TSNE': 2,\n",
       "   'perplexity___TSNE': 30.0},\n",
       "  2147483648),\n",
       " ({'clustering_choice': 'KMeans',\n",
       "   'dim_reduction_choice': 'TSNE',\n",
       "   'early_exaggeration___TSNE': 12.0,\n",
       "   'n_clusters___KMeans': 5,\n",
       "   'n_components___TSNE': 2,\n",
       "   'perplexity___TSNE': 30.0},\n",
       "  2147483647.0),\n",
       " ({'affinity___SpectralClustering': 'laplacian',\n",
       "   'algorithm___TruncatedSVD': 'randomized',\n",
       "   'assign_labels___SpectralClustering': 'kmeans',\n",
       "   'clustering_choice': 'SpectralClustering',\n",
       "   'dim_reduction_choice': 'TruncatedSVD',\n",
       "   'eigen_solver___SpectralClustering': 'arpack',\n",
       "   'n_clusters___SpectralClustering': 7,\n",
       "   'n_components___TruncatedSVD': 2},\n",
       "  0.3100351283090242),\n",
       " ({'algorithm___FastICA': 'parallel',\n",
       "   'clustering_choice': 'KMeans',\n",
       "   'dim_reduction_choice': 'FastICA',\n",
       "   'fun___FastICA': 'cube',\n",
       "   'n_clusters___KMeans': 3,\n",
       "   'n_components___FastICA': 2,\n",
       "   'whiten___FastICA': False},\n",
       "  0.27194144737375897),\n",
       " ({'clustering_choice': 'GaussianMixture',\n",
       "   'covariance_type___GaussianMixture': 'spherical',\n",
       "   'dim_reduction_choice': 'KernelPCA',\n",
       "   'init_params___GaussianMixture': 'kmeans',\n",
       "   'kernel___KernelPCA': 'linear',\n",
       "   'n_components___GaussianMixture': 4,\n",
       "   'n_components___KernelPCA': 2,\n",
       "   'warm_start___GaussianMixture': False},\n",
       "  0.26894450579467655)]"
      ]
     },
     "execution_count": 19,
     "metadata": {},
     "output_type": "execute_result"
    }
   ],
   "source": [
    "cluster.get_trajectory()"
   ]
  },
  {
   "cell_type": "code",
   "execution_count": null,
   "metadata": {},
   "outputs": [],
   "source": []
  },
  {
   "cell_type": "code",
   "execution_count": null,
   "metadata": {},
   "outputs": [],
   "source": []
  },
  {
   "cell_type": "code",
   "execution_count": 3,
   "metadata": {},
   "outputs": [],
   "source": [
    "top10_v_scores = []\n",
    "top10_models = []\n",
    "top10_evaluator_weights = []\n",
    "prediction_num = 0"
   ]
  },
  {
   "cell_type": "code",
   "execution_count": null,
   "metadata": {},
   "outputs": [
    {
     "name": "stdout",
     "output_type": "stream",
     "text": [
      "1464/1797 datapoints remaining after outlier removal\n",
      "Configuration space object:\n",
      "  Hyperparameters:\n",
      "    affinity___AffinityPropagation, Type: Categorical, Choices: {euclidean}, Default: euclidean\n",
      "    affinity___AgglomerativeClustering, Type: Categorical, Choices: {euclidean, cityblock, l2, l1, manhattan, cosine}, Default: euclidean\n",
      "    affinity___SpectralClustering, Type: Categorical, Choices: {nearest_neighbors, poly, sigmoid, laplacian, rbf}, Default: rbf\n",
      "    algorithm___FastICA, Type: Categorical, Choices: {parallel, deflation}, Default: parallel\n",
      "    algorithm___TruncatedSVD, Type: Categorical, Choices: {arpack, randomized}, Default: randomized\n",
      "    assign_labels___SpectralClustering, Type: Categorical, Choices: {kmeans, discretize}, Default: kmeans\n",
      "    bandwidth___MeanShift, Type: UniformFloat, Range: [0.1, 50.0], Default: 25.05\n",
      "    batch_size___IncrementalPCA, Type: UniformInteger, Range: [10, 1000], Default: 100\n",
      "    batch_size___MiniBatchKMeans, Type: UniformInteger, Range: [10, 1000], Default: 100\n",
      "    bin_seeding___MeanShift, Type: Categorical, Choices: {True, False}, Default: False\n",
      "    branching_factor___Birch, Type: UniformInteger, Range: [10, 1000], Default: 50\n",
      "    cluster_method___OPTICS, Type: Categorical, Choices: {xi, dbscan}, Default: xi\n",
      "    clustering_choice, Type: Categorical, Choices: {KMeans, GaussianMixture, Birch, MiniBatchKMeans, AgglomerativeClustering, OPTICS, SpectralClustering, DBSCAN, AffinityPropagation, MeanShift}, Default: KMeans\n",
      "    covariance_type___GaussianMixture, Type: Categorical, Choices: {full, tied, diag, spherical}, Default: full\n",
      "    damping___AffinityPropagation, Type: UniformFloat, Range: [0.5, 1.0], Default: 0.5\n",
      "    dim_reduction_choice, Type: Categorical, Choices: {TSNE, PCA, IncrementalPCA, KernelPCA, FastICA, TruncatedSVD}, Default: TSNE\n",
      "    early_exaggeration___TSNE, Type: UniformFloat, Range: [5.0, 20.0], Default: 12.0\n",
      "    eigen_solver___SpectralClustering, Type: Categorical, Choices: {arpack}, Default: arpack\n",
      "    eps___DBSCAN, Type: UniformFloat, Range: [0.01, 5.0], Default: 0.01\n",
      "    fun___FastICA, Type: Categorical, Choices: {logcosh, exp, cube}, Default: logcosh\n",
      "    init_params___GaussianMixture, Type: Categorical, Choices: {kmeans, random}, Default: kmeans\n",
      "    kernel___KernelPCA, Type: Categorical, Choices: {linear, poly, rbf, sigmoid, cosine}, Default: linear\n",
      "    linkage___AgglomerativeClustering, Type: Categorical, Choices: {ward, complete, average, single}, Default: complete\n",
      "    metric___OPTICS, Type: Categorical, Choices: {minkowski, euclidean, manhattan, l1, l2, cosine}, Default: minkowski\n",
      "    min_samples___DBSCAN, Type: UniformInteger, Range: [5, 100], Default: 5\n",
      "    min_samples___OPTICS, Type: UniformInteger, Range: [5, 1000], Default: 100\n",
      "    n_clusters___AgglomerativeClustering, Type: UniformInteger, Range: [1, 80], Default: 10\n",
      "    n_clusters___Birch, Type: UniformInteger, Range: [1, 80], Default: 5\n",
      "    n_clusters___KMeans, Type: UniformInteger, Range: [1, 80], Default: 5\n",
      "    n_clusters___MiniBatchKMeans, Type: UniformInteger, Range: [1, 80], Default: 10\n",
      "    n_clusters___SpectralClustering, Type: UniformInteger, Range: [1, 80], Default: 10\n",
      "    n_components___FastICA, Type: Ordinal, Sequence: {2, 3}, Default: 2\n",
      "    n_components___GaussianMixture, Type: UniformInteger, Range: [1, 80], Default: 5\n",
      "    n_components___IncrementalPCA, Type: Ordinal, Sequence: {2, 3}, Default: 2\n",
      "    n_components___KernelPCA, Type: Ordinal, Sequence: {2, 3, 4, 5, 6, 7, 8, 9}, Default: 2\n",
      "    n_components___PCA, Type: Ordinal, Sequence: {2, 3}, Default: 2\n",
      "    n_components___TSNE, Type: Ordinal, Sequence: {2}, Default: 2\n",
      "    n_components___TruncatedSVD, Type: Ordinal, Sequence: {2, 3, 4, 5, 6, 7, 8, 9}, Default: 2\n",
      "    perplexity___TSNE, Type: UniformFloat, Range: [1.0, 300.0], Default: 30.0\n",
      "    svd_solver___PCA, Type: Categorical, Choices: {auto, full, arpack, randomized}, Default: auto\n",
      "    warm_start___GaussianMixture, Type: Categorical, Choices: {True, False}, Default: False\n",
      "    whiten___FastICA, Type: Categorical, Choices: {True, False}, Default: True\n",
      "    whiten___IncrementalPCA, Type: Categorical, Choices: {True, False}, Default: False\n",
      "    whiten___PCA, Type: Categorical, Choices: {True, False}, Default: False\n",
      "  Conditions:\n",
      "    affinity___AffinityPropagation | clustering_choice in {'AffinityPropagation'}\n",
      "    affinity___AgglomerativeClustering | clustering_choice in {'AgglomerativeClustering'}\n",
      "    affinity___SpectralClustering | clustering_choice in {'SpectralClustering'}\n",
      "    algorithm___FastICA | dim_reduction_choice in {'FastICA'}\n",
      "    algorithm___TruncatedSVD | dim_reduction_choice in {'TruncatedSVD'}\n",
      "    assign_labels___SpectralClustering | clustering_choice in {'SpectralClustering'}\n",
      "    bandwidth___MeanShift | clustering_choice in {'MeanShift'}\n",
      "    batch_size___IncrementalPCA | dim_reduction_choice in {'IncrementalPCA'}\n",
      "    batch_size___MiniBatchKMeans | clustering_choice in {'MiniBatchKMeans'}\n",
      "    bin_seeding___MeanShift | clustering_choice in {'MeanShift'}\n",
      "    branching_factor___Birch | clustering_choice in {'Birch'}\n",
      "    cluster_method___OPTICS | clustering_choice in {'OPTICS'}\n",
      "    covariance_type___GaussianMixture | clustering_choice in {'GaussianMixture'}\n",
      "    damping___AffinityPropagation | clustering_choice in {'AffinityPropagation'}\n",
      "    early_exaggeration___TSNE | dim_reduction_choice in {'TSNE'}\n",
      "    eigen_solver___SpectralClustering | clustering_choice in {'SpectralClustering'}\n",
      "    eps___DBSCAN | clustering_choice in {'DBSCAN'}\n",
      "    fun___FastICA | dim_reduction_choice in {'FastICA'}\n",
      "    init_params___GaussianMixture | clustering_choice in {'GaussianMixture'}\n",
      "    kernel___KernelPCA | dim_reduction_choice in {'KernelPCA'}\n",
      "    linkage___AgglomerativeClustering | clustering_choice in {'AgglomerativeClustering'}\n",
      "    metric___OPTICS | clustering_choice in {'OPTICS'}\n",
      "    min_samples___DBSCAN | clustering_choice in {'DBSCAN'}\n",
      "    min_samples___OPTICS | clustering_choice in {'OPTICS'}\n",
      "    n_clusters___AgglomerativeClustering | clustering_choice in {'AgglomerativeClustering'}\n",
      "    n_clusters___Birch | clustering_choice in {'Birch'}\n",
      "    n_clusters___KMeans | clustering_choice in {'KMeans'}\n",
      "    n_clusters___MiniBatchKMeans | clustering_choice in {'MiniBatchKMeans'}\n",
      "    n_clusters___SpectralClustering | clustering_choice in {'SpectralClustering'}\n",
      "    n_components___FastICA | dim_reduction_choice in {'FastICA'}\n",
      "    n_components___GaussianMixture | clustering_choice in {'GaussianMixture'}\n",
      "    n_components___IncrementalPCA | dim_reduction_choice in {'IncrementalPCA'}\n",
      "    n_components___KernelPCA | dim_reduction_choice in {'KernelPCA'}\n",
      "    n_components___PCA | dim_reduction_choice in {'PCA'}\n",
      "    n_components___TSNE | dim_reduction_choice in {'TSNE'}\n",
      "    n_components___TruncatedSVD | dim_reduction_choice in {'TruncatedSVD'}\n",
      "    perplexity___TSNE | dim_reduction_choice in {'TSNE'}\n",
      "    svd_solver___PCA | dim_reduction_choice in {'PCA'}\n",
      "    warm_start___GaussianMixture | clustering_choice in {'GaussianMixture'}\n",
      "    whiten___FastICA | dim_reduction_choice in {'FastICA'}\n",
      "    whiten___IncrementalPCA | dim_reduction_choice in {'IncrementalPCA'}\n",
      "    whiten___PCA | dim_reduction_choice in {'PCA'}\n",
      "  Forbidden Clauses:\n",
      "    (Forbidden: linkage___AgglomerativeClustering == 'ward' && Forbidden: affinity___AgglomerativeClustering in {'cityblock', 'cosine', 'l1', 'l2', 'manhattan'})\n",
      "\n"
     ]
    },
    {
     "name": "stderr",
     "output_type": "stream",
     "text": [
      "/home/coffeetumbler/automl_2019/autocluster/utils/metafeatures.py:43: FutureWarning: elementwise comparison failed; returning scalar instead, but in the future will perform elementwise comparison\n",
      "  return (np.count_nonzero(X == '') + np.count_nonzero(X == 0)) / X.size\n",
      "/home/coffeetumbler/automl_2019/autocluster/utils/metafeatures.py:35: FutureWarning: elementwise comparison failed; returning scalar instead, but in the future will perform elementwise comparison\n",
      "  return np.count_nonzero(X == None) + np.count_nonzero(X == '')\n",
      "/home/coffeetumbler/anaconda3/envs/automl/lib/python3.5/site-packages/numpy/lib/function_base.py:2530: RuntimeWarning: invalid value encountered in true_divide\n",
      "  c /= stddev[:, None]\n",
      "/home/coffeetumbler/anaconda3/envs/automl/lib/python3.5/site-packages/numpy/lib/function_base.py:2531: RuntimeWarning: invalid value encountered in true_divide\n",
      "  c /= stddev[None, :]\n"
     ]
    },
    {
     "name": "stdout",
     "output_type": "stream",
     "text": [
      "Found 60 relevant intial configurations from warmstarter.\n",
      "Truncated n_evaluations: 100\n",
      "{'cutoff_time': 20, 'cs': Configuration space object:\n",
      "  Hyperparameters:\n",
      "    affinity___AffinityPropagation, Type: Categorical, Choices: {euclidean}, Default: euclidean\n",
      "    affinity___AgglomerativeClustering, Type: Categorical, Choices: {euclidean, cityblock, l2, l1, manhattan, cosine}, Default: euclidean\n",
      "    affinity___SpectralClustering, Type: Categorical, Choices: {nearest_neighbors, poly, sigmoid, laplacian, rbf}, Default: rbf\n",
      "    algorithm___FastICA, Type: Categorical, Choices: {parallel, deflation}, Default: parallel\n",
      "    algorithm___TruncatedSVD, Type: Categorical, Choices: {arpack, randomized}, Default: randomized\n",
      "    assign_labels___SpectralClustering, Type: Categorical, Choices: {kmeans, discretize}, Default: kmeans\n",
      "    bandwidth___MeanShift, Type: UniformFloat, Range: [0.1, 50.0], Default: 25.05\n",
      "    batch_size___IncrementalPCA, Type: UniformInteger, Range: [10, 1000], Default: 100\n",
      "    batch_size___MiniBatchKMeans, Type: UniformInteger, Range: [10, 1000], Default: 100\n",
      "    bin_seeding___MeanShift, Type: Categorical, Choices: {True, False}, Default: False\n",
      "    branching_factor___Birch, Type: UniformInteger, Range: [10, 1000], Default: 50\n",
      "    cluster_method___OPTICS, Type: Categorical, Choices: {xi, dbscan}, Default: xi\n",
      "    clustering_choice, Type: Categorical, Choices: {KMeans, GaussianMixture, Birch, MiniBatchKMeans, AgglomerativeClustering, OPTICS, SpectralClustering, DBSCAN, AffinityPropagation, MeanShift}, Default: KMeans\n",
      "    covariance_type___GaussianMixture, Type: Categorical, Choices: {full, tied, diag, spherical}, Default: full\n",
      "    damping___AffinityPropagation, Type: UniformFloat, Range: [0.5, 1.0], Default: 0.5\n",
      "    dim_reduction_choice, Type: Categorical, Choices: {TSNE, PCA, IncrementalPCA, KernelPCA, FastICA, TruncatedSVD}, Default: TSNE\n",
      "    early_exaggeration___TSNE, Type: UniformFloat, Range: [5.0, 20.0], Default: 12.0\n",
      "    eigen_solver___SpectralClustering, Type: Categorical, Choices: {arpack}, Default: arpack\n",
      "    eps___DBSCAN, Type: UniformFloat, Range: [0.01, 5.0], Default: 0.01\n",
      "    fun___FastICA, Type: Categorical, Choices: {logcosh, exp, cube}, Default: logcosh\n",
      "    init_params___GaussianMixture, Type: Categorical, Choices: {kmeans, random}, Default: kmeans\n",
      "    kernel___KernelPCA, Type: Categorical, Choices: {linear, poly, rbf, sigmoid, cosine}, Default: linear\n",
      "    linkage___AgglomerativeClustering, Type: Categorical, Choices: {ward, complete, average, single}, Default: complete\n",
      "    metric___OPTICS, Type: Categorical, Choices: {minkowski, euclidean, manhattan, l1, l2, cosine}, Default: minkowski\n",
      "    min_samples___DBSCAN, Type: UniformInteger, Range: [5, 100], Default: 5\n",
      "    min_samples___OPTICS, Type: UniformInteger, Range: [5, 1000], Default: 100\n",
      "    n_clusters___AgglomerativeClustering, Type: UniformInteger, Range: [1, 80], Default: 10\n",
      "    n_clusters___Birch, Type: UniformInteger, Range: [1, 80], Default: 5\n",
      "    n_clusters___KMeans, Type: UniformInteger, Range: [1, 80], Default: 5\n",
      "    n_clusters___MiniBatchKMeans, Type: UniformInteger, Range: [1, 80], Default: 10\n",
      "    n_clusters___SpectralClustering, Type: UniformInteger, Range: [1, 80], Default: 10\n",
      "    n_components___FastICA, Type: Ordinal, Sequence: {2, 3}, Default: 2\n",
      "    n_components___GaussianMixture, Type: UniformInteger, Range: [1, 80], Default: 5\n",
      "    n_components___IncrementalPCA, Type: Ordinal, Sequence: {2, 3}, Default: 2\n",
      "    n_components___KernelPCA, Type: Ordinal, Sequence: {2, 3, 4, 5, 6, 7, 8, 9}, Default: 2\n",
      "    n_components___PCA, Type: Ordinal, Sequence: {2, 3}, Default: 2\n",
      "    n_components___TSNE, Type: Ordinal, Sequence: {2}, Default: 2\n",
      "    n_components___TruncatedSVD, Type: Ordinal, Sequence: {2, 3, 4, 5, 6, 7, 8, 9}, Default: 2\n",
      "    perplexity___TSNE, Type: UniformFloat, Range: [1.0, 300.0], Default: 30.0\n",
      "    svd_solver___PCA, Type: Categorical, Choices: {auto, full, arpack, randomized}, Default: auto\n",
      "    warm_start___GaussianMixture, Type: Categorical, Choices: {True, False}, Default: False\n",
      "    whiten___FastICA, Type: Categorical, Choices: {True, False}, Default: True\n",
      "    whiten___IncrementalPCA, Type: Categorical, Choices: {True, False}, Default: False\n",
      "    whiten___PCA, Type: Categorical, Choices: {True, False}, Default: False\n",
      "  Conditions:\n",
      "    affinity___AffinityPropagation | clustering_choice in {'AffinityPropagation'}\n",
      "    affinity___AgglomerativeClustering | clustering_choice in {'AgglomerativeClustering'}\n",
      "    affinity___SpectralClustering | clustering_choice in {'SpectralClustering'}\n",
      "    algorithm___FastICA | dim_reduction_choice in {'FastICA'}\n",
      "    algorithm___TruncatedSVD | dim_reduction_choice in {'TruncatedSVD'}\n",
      "    assign_labels___SpectralClustering | clustering_choice in {'SpectralClustering'}\n",
      "    bandwidth___MeanShift | clustering_choice in {'MeanShift'}\n",
      "    batch_size___IncrementalPCA | dim_reduction_choice in {'IncrementalPCA'}\n",
      "    batch_size___MiniBatchKMeans | clustering_choice in {'MiniBatchKMeans'}\n",
      "    bin_seeding___MeanShift | clustering_choice in {'MeanShift'}\n",
      "    branching_factor___Birch | clustering_choice in {'Birch'}\n",
      "    cluster_method___OPTICS | clustering_choice in {'OPTICS'}\n",
      "    covariance_type___GaussianMixture | clustering_choice in {'GaussianMixture'}\n",
      "    damping___AffinityPropagation | clustering_choice in {'AffinityPropagation'}\n",
      "    early_exaggeration___TSNE | dim_reduction_choice in {'TSNE'}\n",
      "    eigen_solver___SpectralClustering | clustering_choice in {'SpectralClustering'}\n",
      "    eps___DBSCAN | clustering_choice in {'DBSCAN'}\n",
      "    fun___FastICA | dim_reduction_choice in {'FastICA'}\n",
      "    init_params___GaussianMixture | clustering_choice in {'GaussianMixture'}\n",
      "    kernel___KernelPCA | dim_reduction_choice in {'KernelPCA'}\n",
      "    linkage___AgglomerativeClustering | clustering_choice in {'AgglomerativeClustering'}\n",
      "    metric___OPTICS | clustering_choice in {'OPTICS'}\n",
      "    min_samples___DBSCAN | clustering_choice in {'DBSCAN'}\n",
      "    min_samples___OPTICS | clustering_choice in {'OPTICS'}\n",
      "    n_clusters___AgglomerativeClustering | clustering_choice in {'AgglomerativeClustering'}\n",
      "    n_clusters___Birch | clustering_choice in {'Birch'}\n",
      "    n_clusters___KMeans | clustering_choice in {'KMeans'}\n",
      "    n_clusters___MiniBatchKMeans | clustering_choice in {'MiniBatchKMeans'}\n",
      "    n_clusters___SpectralClustering | clustering_choice in {'SpectralClustering'}\n",
      "    n_components___FastICA | dim_reduction_choice in {'FastICA'}\n",
      "    n_components___GaussianMixture | clustering_choice in {'GaussianMixture'}\n",
      "    n_components___IncrementalPCA | dim_reduction_choice in {'IncrementalPCA'}\n",
      "    n_components___KernelPCA | dim_reduction_choice in {'KernelPCA'}\n",
      "    n_components___PCA | dim_reduction_choice in {'PCA'}\n",
      "    n_components___TSNE | dim_reduction_choice in {'TSNE'}\n",
      "    n_components___TruncatedSVD | dim_reduction_choice in {'TruncatedSVD'}\n",
      "    perplexity___TSNE | dim_reduction_choice in {'TSNE'}\n",
      "    svd_solver___PCA | dim_reduction_choice in {'PCA'}\n",
      "    warm_start___GaussianMixture | clustering_choice in {'GaussianMixture'}\n",
      "    whiten___FastICA | dim_reduction_choice in {'FastICA'}\n",
      "    whiten___IncrementalPCA | dim_reduction_choice in {'IncrementalPCA'}\n",
      "    whiten___PCA | dim_reduction_choice in {'PCA'}\n",
      "  Forbidden Clauses:\n",
      "    (Forbidden: linkage___AgglomerativeClustering == 'ward' && Forbidden: affinity___AgglomerativeClustering in {'cityblock', 'cosine', 'l1', 'l2', 'manhattan'})\n",
      ", 'deterministic': 'true', 'output_dir': 'log//smac-2019-07-29_13-56-38-30482', 'abort_on_first_run_crash': False, 'runcount-limit': 100, 'run_obj': 'quality'}\n"
     ]
    },
    {
     "name": "stderr",
     "output_type": "stream",
     "text": [
      "/home/coffeetumbler/anaconda3/envs/automl/lib/python3.5/site-packages/numpy/lib/function_base.py:2530: RuntimeWarning: invalid value encountered in true_divide\n",
      "  c /= stddev[:, None]\n",
      "/home/coffeetumbler/anaconda3/envs/automl/lib/python3.5/site-packages/numpy/lib/function_base.py:2531: RuntimeWarning: invalid value encountered in true_divide\n",
      "  c /= stddev[None, :]\n"
     ]
    },
    {
     "name": "stdout",
     "output_type": "stream",
     "text": [
      "Fitting configuration: \n",
      "{'clustering_choice': 'KMeans', 'kernel___KernelPCA': 'poly', 'dim_reduction_choice': 'KernelPCA', 'n_clusters___KMeans': 4, 'n_components___KernelPCA': 2}\n",
      "Score obtained by this configuration: inf\n"
     ]
    },
    {
     "name": "stderr",
     "output_type": "stream",
     "text": [
      "Target Algorithm returned NaN or inf as quality. Algorithm run is treated as CRASHED, cost is set to 2147483647.0 for quality scenarios. (Change value through \"cost_for_crash\"-option.)\n"
     ]
    },
    {
     "name": "stdout",
     "output_type": "stream",
     "text": [
      "Fitting configuration: \n",
      "{'clustering_choice': 'Birch', 'dim_reduction_choice': 'KernelPCA', 'n_components___KernelPCA': 2, 'branching_factor___Birch': 10, 'kernel___KernelPCA': 'poly', 'n_clusters___Birch': 5}\n"
     ]
    },
    {
     "name": "stderr",
     "output_type": "stream",
     "text": [
      "/home/coffeetumbler/anaconda3/envs/automl/lib/python3.5/site-packages/sklearn/cluster/birch.py:627: ConvergenceWarning: Number of subclusters found (4) by Birch is less than (5). Decrease the threshold.\n",
      "  % (len(centroids), self.n_clusters), ConvergenceWarning)\n",
      "/home/coffeetumbler/anaconda3/envs/automl/lib/python3.5/site-packages/sklearn/cluster/birch.py:627: ConvergenceWarning: Number of subclusters found (1) by Birch is less than (5). Decrease the threshold.\n",
      "  % (len(centroids), self.n_clusters), ConvergenceWarning)\n"
     ]
    },
    {
     "name": "stdout",
     "output_type": "stream",
     "text": [
      "Score obtained by this configuration: inf\n"
     ]
    },
    {
     "name": "stderr",
     "output_type": "stream",
     "text": [
      "Target Algorithm returned NaN or inf as quality. Algorithm run is treated as CRASHED, cost is set to 2147483647.0 for quality scenarios. (Change value through \"cost_for_crash\"-option.)\n"
     ]
    },
    {
     "name": "stdout",
     "output_type": "stream",
     "text": [
      "Fitting configuration: \n",
      "{'clustering_choice': 'Birch', 'dim_reduction_choice': 'KernelPCA', 'n_components___KernelPCA': 2, 'branching_factor___Birch': 32, 'kernel___KernelPCA': 'poly', 'n_clusters___Birch': 5}\n"
     ]
    },
    {
     "name": "stderr",
     "output_type": "stream",
     "text": [
      "/home/coffeetumbler/anaconda3/envs/automl/lib/python3.5/site-packages/sklearn/cluster/birch.py:627: ConvergenceWarning: Number of subclusters found (4) by Birch is less than (5). Decrease the threshold.\n",
      "  % (len(centroids), self.n_clusters), ConvergenceWarning)\n",
      "/home/coffeetumbler/anaconda3/envs/automl/lib/python3.5/site-packages/sklearn/cluster/birch.py:627: ConvergenceWarning: Number of subclusters found (1) by Birch is less than (5). Decrease the threshold.\n",
      "  % (len(centroids), self.n_clusters), ConvergenceWarning)\n"
     ]
    },
    {
     "name": "stdout",
     "output_type": "stream",
     "text": [
      "Score obtained by this configuration: inf\n"
     ]
    },
    {
     "name": "stderr",
     "output_type": "stream",
     "text": [
      "Target Algorithm returned NaN or inf as quality. Algorithm run is treated as CRASHED, cost is set to 2147483647.0 for quality scenarios. (Change value through \"cost_for_crash\"-option.)\n"
     ]
    },
    {
     "name": "stdout",
     "output_type": "stream",
     "text": [
      "Fitting configuration: \n",
      "{'clustering_choice': 'Birch', 'dim_reduction_choice': 'KernelPCA', 'n_components___KernelPCA': 2, 'branching_factor___Birch': 64, 'kernel___KernelPCA': 'poly', 'n_clusters___Birch': 5}\n"
     ]
    },
    {
     "name": "stderr",
     "output_type": "stream",
     "text": [
      "/home/coffeetumbler/anaconda3/envs/automl/lib/python3.5/site-packages/sklearn/cluster/birch.py:627: ConvergenceWarning: Number of subclusters found (4) by Birch is less than (5). Decrease the threshold.\n",
      "  % (len(centroids), self.n_clusters), ConvergenceWarning)\n",
      "/home/coffeetumbler/anaconda3/envs/automl/lib/python3.5/site-packages/sklearn/cluster/birch.py:627: ConvergenceWarning: Number of subclusters found (1) by Birch is less than (5). Decrease the threshold.\n",
      "  % (len(centroids), self.n_clusters), ConvergenceWarning)\n"
     ]
    },
    {
     "name": "stdout",
     "output_type": "stream",
     "text": [
      "Score obtained by this configuration: inf\n"
     ]
    },
    {
     "name": "stderr",
     "output_type": "stream",
     "text": [
      "Target Algorithm returned NaN or inf as quality. Algorithm run is treated as CRASHED, cost is set to 2147483647.0 for quality scenarios. (Change value through \"cost_for_crash\"-option.)\n"
     ]
    },
    {
     "name": "stdout",
     "output_type": "stream",
     "text": [
      "Fitting configuration: \n",
      "{'clustering_choice': 'Birch', 'dim_reduction_choice': 'KernelPCA', 'n_components___KernelPCA': 2, 'branching_factor___Birch': 10, 'kernel___KernelPCA': 'poly', 'n_clusters___Birch': 6}\n"
     ]
    },
    {
     "name": "stderr",
     "output_type": "stream",
     "text": [
      "/home/coffeetumbler/anaconda3/envs/automl/lib/python3.5/site-packages/sklearn/cluster/birch.py:627: ConvergenceWarning: Number of subclusters found (4) by Birch is less than (6). Decrease the threshold.\n",
      "  % (len(centroids), self.n_clusters), ConvergenceWarning)\n",
      "/home/coffeetumbler/anaconda3/envs/automl/lib/python3.5/site-packages/sklearn/cluster/birch.py:627: ConvergenceWarning: Number of subclusters found (1) by Birch is less than (6). Decrease the threshold.\n",
      "  % (len(centroids), self.n_clusters), ConvergenceWarning)\n"
     ]
    },
    {
     "name": "stdout",
     "output_type": "stream",
     "text": [
      "Score obtained by this configuration: inf\n"
     ]
    },
    {
     "name": "stderr",
     "output_type": "stream",
     "text": [
      "Target Algorithm returned NaN or inf as quality. Algorithm run is treated as CRASHED, cost is set to 2147483647.0 for quality scenarios. (Change value through \"cost_for_crash\"-option.)\n"
     ]
    },
    {
     "name": "stdout",
     "output_type": "stream",
     "text": [
      "Fitting configuration: \n",
      "{'clustering_choice': 'SpectralClustering', 'affinity___SpectralClustering': 'laplacian', 'dim_reduction_choice': 'KernelPCA', 'n_components___KernelPCA': 2, 'assign_labels___SpectralClustering': 'kmeans', 'n_clusters___SpectralClustering': 9, 'kernel___KernelPCA': 'poly', 'eigen_solver___SpectralClustering': 'arpack'}\n"
     ]
    },
    {
     "name": "stderr",
     "output_type": "stream",
     "text": [
      "/home/coffeetumbler/anaconda3/envs/automl/lib/python3.5/site-packages/sklearn/cluster/spectral.py:268: ConvergenceWarning: Number of distinct clusters (2) found smaller than n_clusters (9). Possibly due to duplicate points in X.\n",
      "  n_init=n_init)\n"
     ]
    },
    {
     "name": "stdout",
     "output_type": "stream",
     "text": [
      "Score obtained by this configuration: inf\n"
     ]
    },
    {
     "name": "stderr",
     "output_type": "stream",
     "text": [
      "Target Algorithm returned NaN or inf as quality. Algorithm run is treated as CRASHED, cost is set to 2147483647.0 for quality scenarios. (Change value through \"cost_for_crash\"-option.)\n"
     ]
    },
    {
     "name": "stdout",
     "output_type": "stream",
     "text": [
      "Fitting configuration: \n",
      "{'clustering_choice': 'SpectralClustering', 'affinity___SpectralClustering': 'laplacian', 'dim_reduction_choice': 'KernelPCA', 'n_components___KernelPCA': 2, 'assign_labels___SpectralClustering': 'kmeans', 'n_clusters___SpectralClustering': 11, 'kernel___KernelPCA': 'poly', 'eigen_solver___SpectralClustering': 'arpack'}\n"
     ]
    },
    {
     "name": "stderr",
     "output_type": "stream",
     "text": [
      "/home/coffeetumbler/anaconda3/envs/automl/lib/python3.5/site-packages/sklearn/cluster/spectral.py:268: ConvergenceWarning: Number of distinct clusters (10) found smaller than n_clusters (11). Possibly due to duplicate points in X.\n",
      "  n_init=n_init)\n",
      "/home/coffeetumbler/anaconda3/envs/automl/lib/python3.5/site-packages/sklearn/cluster/spectral.py:268: ConvergenceWarning: Number of distinct clusters (5) found smaller than n_clusters (11). Possibly due to duplicate points in X.\n",
      "  n_init=n_init)\n",
      "/home/coffeetumbler/anaconda3/envs/automl/lib/python3.5/site-packages/sklearn/cluster/spectral.py:268: ConvergenceWarning: Number of distinct clusters (2) found smaller than n_clusters (11). Possibly due to duplicate points in X.\n",
      "  n_init=n_init)\n"
     ]
    },
    {
     "name": "stdout",
     "output_type": "stream",
     "text": [
      "Score obtained by this configuration: inf\n"
     ]
    },
    {
     "name": "stderr",
     "output_type": "stream",
     "text": [
      "Target Algorithm returned NaN or inf as quality. Algorithm run is treated as CRASHED, cost is set to 2147483647.0 for quality scenarios. (Change value through \"cost_for_crash\"-option.)\n"
     ]
    },
    {
     "name": "stdout",
     "output_type": "stream",
     "text": [
      "Fitting configuration: \n",
      "{'clustering_choice': 'SpectralClustering', 'affinity___SpectralClustering': 'laplacian', 'dim_reduction_choice': 'KernelPCA', 'n_components___KernelPCA': 2, 'assign_labels___SpectralClustering': 'discretize', 'n_clusters___SpectralClustering': 13, 'kernel___KernelPCA': 'poly', 'eigen_solver___SpectralClustering': 'arpack'}\n",
      "Score obtained by this configuration: inf\n"
     ]
    },
    {
     "name": "stderr",
     "output_type": "stream",
     "text": [
      "Target Algorithm returned NaN or inf as quality. Algorithm run is treated as CRASHED, cost is set to 2147483647.0 for quality scenarios. (Change value through \"cost_for_crash\"-option.)\n"
     ]
    },
    {
     "name": "stdout",
     "output_type": "stream",
     "text": [
      "Fitting configuration: \n",
      "{'clustering_choice': 'OPTICS', 'dim_reduction_choice': 'KernelPCA', 'metric___OPTICS': 'l1', 'min_samples___OPTICS': 787, 'cluster_method___OPTICS': 'dbscan', 'kernel___KernelPCA': 'poly', 'n_components___KernelPCA': 4}\n"
     ]
    },
    {
     "name": "stderr",
     "output_type": "stream",
     "text": [
      "Process pynisher function call:\n",
      "Traceback (most recent call last):\n",
      "  File \"/home/coffeetumbler/anaconda3/envs/automl/lib/python3.5/multiprocessing/process.py\", line 252, in _bootstrap\n",
      "    self.run()\n",
      "  File \"/home/coffeetumbler/anaconda3/envs/automl/lib/python3.5/multiprocessing/process.py\", line 93, in run\n",
      "    self._target(*self._args, **self._kwargs)\n",
      "  File \"/home/coffeetumbler/anaconda3/envs/automl/lib/python3.5/site-packages/pynisher/limit_function_call.py\", line 93, in subprocess_func\n",
      "    return_value = ((func(*args, **kwargs), 0))\n",
      "  File \"/home/coffeetumbler/automl_2019/autocluster/autocluster.py\", line 249, in evaluate_model\n",
      "    y_pred = clustering_model.fit_predict(compressed_valid_data)\n",
      "  File \"/home/coffeetumbler/anaconda3/envs/automl/lib/python3.5/site-packages/sklearn/base.py\", line 447, in fit_predict\n",
      "    self.fit(X)\n",
      "  File \"/home/coffeetumbler/anaconda3/envs/automl/lib/python3.5/site-packages/sklearn/cluster/optics_.py\", line 248, in fit\n",
      "    max_eps=self.max_eps)\n",
      "  File \"/home/coffeetumbler/anaconda3/envs/automl/lib/python3.5/site-packages/sklearn/cluster/optics_.py\", line 438, in compute_optics_graph\n",
      "    _validate_size(min_samples, n_samples, 'min_samples')\n",
      "  File \"/home/coffeetumbler/anaconda3/envs/automl/lib/python3.5/site-packages/sklearn/cluster/optics_.py\", line 290, in _validate_size\n",
      "    (param_name, n_samples, size))\n",
      "ValueError: min_samples must be no greater than the number of samples (488). Got 787\n"
     ]
    },
    {
     "name": "stdout",
     "output_type": "stream",
     "text": [
      "Fitting configuration: \n",
      "{'clustering_choice': 'SpectralClustering', 'affinity___SpectralClustering': 'laplacian', 'dim_reduction_choice': 'KernelPCA', 'n_components___KernelPCA': 7, 'assign_labels___SpectralClustering': 'kmeans', 'n_clusters___SpectralClustering': 10, 'kernel___KernelPCA': 'poly', 'eigen_solver___SpectralClustering': 'arpack'}\n",
      "Score obtained by this configuration: inf\n"
     ]
    },
    {
     "name": "stderr",
     "output_type": "stream",
     "text": [
      "Target Algorithm returned NaN or inf as quality. Algorithm run is treated as CRASHED, cost is set to 2147483647.0 for quality scenarios. (Change value through \"cost_for_crash\"-option.)\n"
     ]
    },
    {
     "name": "stdout",
     "output_type": "stream",
     "text": [
      "Fitting configuration: \n",
      "{'clustering_choice': 'Birch', 'dim_reduction_choice': 'KernelPCA', 'n_components___KernelPCA': 5, 'branching_factor___Birch': 83, 'kernel___KernelPCA': 'poly', 'n_clusters___Birch': 9}\n"
     ]
    },
    {
     "name": "stderr",
     "output_type": "stream",
     "text": [
      "/home/coffeetumbler/anaconda3/envs/automl/lib/python3.5/site-packages/sklearn/cluster/birch.py:627: ConvergenceWarning: Number of subclusters found (1) by Birch is less than (9). Decrease the threshold.\n",
      "  % (len(centroids), self.n_clusters), ConvergenceWarning)\n"
     ]
    },
    {
     "name": "stdout",
     "output_type": "stream",
     "text": [
      "Score obtained by this configuration: inf\n"
     ]
    },
    {
     "name": "stderr",
     "output_type": "stream",
     "text": [
      "Target Algorithm returned NaN or inf as quality. Algorithm run is treated as CRASHED, cost is set to 2147483647.0 for quality scenarios. (Change value through \"cost_for_crash\"-option.)\n"
     ]
    },
    {
     "name": "stdout",
     "output_type": "stream",
     "text": [
      "Fitting configuration: \n",
      "{'clustering_choice': 'AgglomerativeClustering', 'dim_reduction_choice': 'KernelPCA', 'affinity___AgglomerativeClustering': 'l2', 'kernel___KernelPCA': 'poly', 'linkage___AgglomerativeClustering': 'average', 'n_clusters___AgglomerativeClustering': 15, 'n_components___KernelPCA': 8}\n",
      "Score obtained by this configuration: inf\n"
     ]
    },
    {
     "name": "stderr",
     "output_type": "stream",
     "text": [
      "Target Algorithm returned NaN or inf as quality. Algorithm run is treated as CRASHED, cost is set to 2147483647.0 for quality scenarios. (Change value through \"cost_for_crash\"-option.)\n"
     ]
    },
    {
     "name": "stdout",
     "output_type": "stream",
     "text": [
      "Fitting configuration: \n",
      "{'clustering_choice': 'KMeans', 'kernel___KernelPCA': 'poly', 'dim_reduction_choice': 'KernelPCA', 'n_clusters___KMeans': 15, 'n_components___KernelPCA': 2}\n",
      "Score obtained by this configuration: 0.0\n",
      "Fitting configuration: \n",
      "{'clustering_choice': 'Birch', 'dim_reduction_choice': 'PCA', 'branching_factor___Birch': 50, 'svd_solver___PCA': 'auto', 'n_clusters___Birch': 3, 'n_components___PCA': 2}\n",
      "Score obtained by this configuration: 0.0\n",
      "Fitting configuration: \n",
      "{'clustering_choice': 'MiniBatchKMeans', 'n_components___TSNE': 2, 'dim_reduction_choice': 'TSNE', 'early_exaggeration___TSNE': 6.112145599966696, 'batch_size___MiniBatchKMeans': 773, 'perplexity___TSNE': 250.7576475481927, 'n_clusters___MiniBatchKMeans': 10}\n",
      "Fitting configuration: \n",
      "{'clustering_choice': 'SpectralClustering', 'affinity___SpectralClustering': 'rbf', 'dim_reduction_choice': 'TSNE', 'early_exaggeration___TSNE': 12.86122333165967, 'n_clusters___SpectralClustering': 3, 'assign_labels___SpectralClustering': 'kmeans', 'perplexity___TSNE': 237.68038043104409, 'eigen_solver___SpectralClustering': 'arpack', 'n_components___TSNE': 2}\n",
      "Fitting configuration: \n",
      "{'clustering_choice': 'MiniBatchKMeans', 'n_components___TSNE': 2, 'dim_reduction_choice': 'TSNE', 'early_exaggeration___TSNE': 5.92345241675155, 'batch_size___MiniBatchKMeans': 891, 'perplexity___TSNE': 234.05607785844984, 'n_clusters___MiniBatchKMeans': 20}\n",
      "Fitting configuration: \n",
      "{'clustering_choice': 'KMeans', 'fun___FastICA': 'cube', 'dim_reduction_choice': 'FastICA', 'whiten___FastICA': True, 'n_components___FastICA': 2, 'n_clusters___KMeans': 3, 'algorithm___FastICA': 'parallel'}\n",
      "Score obtained by this configuration: 0.0\n",
      "Fitting configuration: \n",
      "{'clustering_choice': 'DBSCAN', 'dim_reduction_choice': 'TruncatedSVD', 'algorithm___TruncatedSVD': 'randomized', 'eps___DBSCAN': 3.3348244742189315, 'n_components___TruncatedSVD': 3, 'min_samples___DBSCAN': 74}\n",
      "Score obtained by this configuration: 1.6820618971754204e-12\n",
      "Fitting configuration: \n",
      "{'clustering_choice': 'OPTICS', 'dim_reduction_choice': 'KernelPCA', 'metric___OPTICS': 'minkowski', 'min_samples___OPTICS': 788, 'cluster_method___OPTICS': 'xi', 'kernel___KernelPCA': 'poly', 'n_components___KernelPCA': 7}\n"
     ]
    },
    {
     "name": "stderr",
     "output_type": "stream",
     "text": [
      "Process pynisher function call:\n",
      "Traceback (most recent call last):\n",
      "  File \"/home/coffeetumbler/anaconda3/envs/automl/lib/python3.5/multiprocessing/process.py\", line 252, in _bootstrap\n",
      "    self.run()\n",
      "  File \"/home/coffeetumbler/anaconda3/envs/automl/lib/python3.5/multiprocessing/process.py\", line 93, in run\n",
      "    self._target(*self._args, **self._kwargs)\n",
      "  File \"/home/coffeetumbler/anaconda3/envs/automl/lib/python3.5/site-packages/pynisher/limit_function_call.py\", line 93, in subprocess_func\n",
      "    return_value = ((func(*args, **kwargs), 0))\n",
      "  File \"/home/coffeetumbler/automl_2019/autocluster/autocluster.py\", line 249, in evaluate_model\n",
      "    y_pred = clustering_model.fit_predict(compressed_valid_data)\n",
      "  File \"/home/coffeetumbler/anaconda3/envs/automl/lib/python3.5/site-packages/sklearn/base.py\", line 447, in fit_predict\n",
      "    self.fit(X)\n",
      "  File \"/home/coffeetumbler/anaconda3/envs/automl/lib/python3.5/site-packages/sklearn/cluster/optics_.py\", line 248, in fit\n",
      "    max_eps=self.max_eps)\n",
      "  File \"/home/coffeetumbler/anaconda3/envs/automl/lib/python3.5/site-packages/sklearn/cluster/optics_.py\", line 438, in compute_optics_graph\n",
      "    _validate_size(min_samples, n_samples, 'min_samples')\n",
      "  File \"/home/coffeetumbler/anaconda3/envs/automl/lib/python3.5/site-packages/sklearn/cluster/optics_.py\", line 290, in _validate_size\n",
      "    (param_name, n_samples, size))\n",
      "ValueError: min_samples must be no greater than the number of samples (488). Got 788\n"
     ]
    },
    {
     "name": "stdout",
     "output_type": "stream",
     "text": [
      "Fitting configuration: \n",
      "{'clustering_choice': 'KMeans', 'kernel___KernelPCA': 'cosine', 'dim_reduction_choice': 'KernelPCA', 'n_clusters___KMeans': 29, 'n_components___KernelPCA': 3}\n",
      "Score obtained by this configuration: 0.0\n",
      "Fitting configuration: \n",
      "{'clustering_choice': 'AffinityPropagation', 'dim_reduction_choice': 'KernelPCA', 'damping___AffinityPropagation': 0.8279287395007919, 'n_components___KernelPCA': 3, 'kernel___KernelPCA': 'cosine', 'affinity___AffinityPropagation': 'euclidean'}\n",
      "Score obtained by this configuration: 0.0\n",
      "Fitting configuration: \n",
      "{'clustering_choice': 'MiniBatchKMeans', 'dim_reduction_choice': 'KernelPCA', 'n_components___KernelPCA': 2, 'batch_size___MiniBatchKMeans': 668, 'kernel___KernelPCA': 'cosine', 'n_clusters___MiniBatchKMeans': 9}\n",
      "Score obtained by this configuration: 0.0\n",
      "Fitting configuration: \n",
      "{'clustering_choice': 'MiniBatchKMeans', 'dim_reduction_choice': 'KernelPCA', 'n_components___KernelPCA': 3, 'batch_size___MiniBatchKMeans': 362, 'kernel___KernelPCA': 'cosine', 'n_clusters___MiniBatchKMeans': 29}\n",
      "Score obtained by this configuration: 0.0\n",
      "Fitting configuration: \n",
      "{'clustering_choice': 'MiniBatchKMeans', 'dim_reduction_choice': 'KernelPCA', 'n_components___KernelPCA': 3, 'batch_size___MiniBatchKMeans': 190, 'kernel___KernelPCA': 'cosine', 'n_clusters___MiniBatchKMeans': 22}\n",
      "Score obtained by this configuration: 0.0\n",
      "Fitting configuration: \n",
      "{'clustering_choice': 'GaussianMixture', 'covariance_type___GaussianMixture': 'tied', 'dim_reduction_choice': 'KernelPCA', 'n_components___KernelPCA': 3, 'init_params___GaussianMixture': 'kmeans', 'kernel___KernelPCA': 'cosine', 'n_components___GaussianMixture': 8}\n",
      "Score obtained by this configuration: 0.0\n",
      "Fitting configuration: \n",
      "{'clustering_choice': 'MiniBatchKMeans', 'dim_reduction_choice': 'KernelPCA', 'n_components___KernelPCA': 7, 'batch_size___MiniBatchKMeans': 154, 'kernel___KernelPCA': 'cosine', 'n_clusters___MiniBatchKMeans': 9}\n",
      "Score obtained by this configuration: 0.0\n",
      "Fitting configuration: \n",
      "{'clustering_choice': 'SpectralClustering', 'affinity___SpectralClustering': 'poly', 'dim_reduction_choice': 'KernelPCA', 'n_components___KernelPCA': 2, 'assign_labels___SpectralClustering': 'kmeans', 'n_clusters___SpectralClustering': 10, 'kernel___KernelPCA': 'cosine', 'eigen_solver___SpectralClustering': 'arpack'}\n",
      "Score obtained by this configuration: 0.0\n",
      "Fitting configuration: \n",
      "{'clustering_choice': 'KMeans', 'kernel___KernelPCA': 'cosine', 'dim_reduction_choice': 'KernelPCA', 'n_clusters___KMeans': 12, 'n_components___KernelPCA': 2}\n",
      "Score obtained by this configuration: 0.0\n",
      "Fitting configuration: \n",
      "{'clustering_choice': 'GaussianMixture', 'covariance_type___GaussianMixture': 'diag', 'dim_reduction_choice': 'TruncatedSVD', 'n_components___GaussianMixture': 9, 'init_params___GaussianMixture': 'kmeans', 'algorithm___TruncatedSVD': 'arpack', 'n_components___TruncatedSVD': 5}\n",
      "Score obtained by this configuration: 0.0\n",
      "Fitting configuration: \n",
      "{'clustering_choice': 'MiniBatchKMeans', 'dim_reduction_choice': 'KernelPCA', 'n_components___KernelPCA': 3, 'batch_size___MiniBatchKMeans': 144, 'kernel___KernelPCA': 'cosine', 'n_clusters___MiniBatchKMeans': 11}\n",
      "Score obtained by this configuration: 0.0\n",
      "Fitting configuration: \n",
      "{'clustering_choice': 'MiniBatchKMeans', 'dim_reduction_choice': 'KernelPCA', 'n_components___KernelPCA': 3, 'batch_size___MiniBatchKMeans': 182, 'kernel___KernelPCA': 'cosine', 'n_clusters___MiniBatchKMeans': 23}\n",
      "Score obtained by this configuration: 0.0\n",
      "Fitting configuration: \n",
      "{'clustering_choice': 'GaussianMixture', 'covariance_type___GaussianMixture': 'tied', 'dim_reduction_choice': 'KernelPCA', 'n_components___KernelPCA': 3, 'init_params___GaussianMixture': 'kmeans', 'kernel___KernelPCA': 'cosine', 'n_components___GaussianMixture': 5}\n",
      "Score obtained by this configuration: 0.0\n",
      "Fitting configuration: \n",
      "{'clustering_choice': 'SpectralClustering', 'affinity___SpectralClustering': 'poly', 'dim_reduction_choice': 'IncrementalPCA', 'n_clusters___SpectralClustering': 1, 'assign_labels___SpectralClustering': 'kmeans', 'n_components___IncrementalPCA': 3, 'whiten___IncrementalPCA': True, 'eigen_solver___SpectralClustering': 'arpack', 'batch_size___IncrementalPCA': 780}\n",
      "Score obtained by this configuration: inf\n"
     ]
    },
    {
     "name": "stderr",
     "output_type": "stream",
     "text": [
      "Target Algorithm returned NaN or inf as quality. Algorithm run is treated as CRASHED, cost is set to 2147483647.0 for quality scenarios. (Change value through \"cost_for_crash\"-option.)\n"
     ]
    },
    {
     "name": "stdout",
     "output_type": "stream",
     "text": [
      "Fitting configuration: \n",
      "{'clustering_choice': 'GaussianMixture', 'covariance_type___GaussianMixture': 'diag', 'dim_reduction_choice': 'KernelPCA', 'n_components___KernelPCA': 3, 'init_params___GaussianMixture': 'kmeans', 'kernel___KernelPCA': 'cosine', 'n_components___GaussianMixture': 4}\n",
      "Score obtained by this configuration: 0.0\n",
      "Fitting configuration: \n",
      "{'clustering_choice': 'AgglomerativeClustering', 'dim_reduction_choice': 'KernelPCA', 'affinity___AgglomerativeClustering': 'euclidean', 'kernel___KernelPCA': 'cosine', 'linkage___AgglomerativeClustering': 'ward', 'n_clusters___AgglomerativeClustering': 28, 'n_components___KernelPCA': 3}\n",
      "Score obtained by this configuration: 0.0\n",
      "Fitting configuration: \n",
      "{'clustering_choice': 'GaussianMixture', 'covariance_type___GaussianMixture': 'diag', 'dim_reduction_choice': 'TruncatedSVD', 'n_components___GaussianMixture': 6, 'init_params___GaussianMixture': 'random', 'algorithm___TruncatedSVD': 'randomized', 'warm_start___GaussianMixture': True, 'n_components___TruncatedSVD': 8}\n",
      "Score obtained by this configuration: 0.0\n",
      "Fitting configuration: \n",
      "{'clustering_choice': 'Birch', 'dim_reduction_choice': 'KernelPCA', 'n_components___KernelPCA': 2, 'branching_factor___Birch': 385, 'kernel___KernelPCA': 'cosine', 'n_clusters___Birch': 12}\n"
     ]
    },
    {
     "name": "stderr",
     "output_type": "stream",
     "text": [
      "/home/coffeetumbler/anaconda3/envs/automl/lib/python3.5/site-packages/sklearn/cluster/birch.py:627: ConvergenceWarning: Number of subclusters found (4) by Birch is less than (12). Decrease the threshold.\n",
      "  % (len(centroids), self.n_clusters), ConvergenceWarning)\n",
      "/home/coffeetumbler/anaconda3/envs/automl/lib/python3.5/site-packages/sklearn/cluster/birch.py:627: ConvergenceWarning: Number of subclusters found (2) by Birch is less than (12). Decrease the threshold.\n",
      "  % (len(centroids), self.n_clusters), ConvergenceWarning)\n",
      "/home/coffeetumbler/anaconda3/envs/automl/lib/python3.5/site-packages/sklearn/cluster/birch.py:627: ConvergenceWarning: Number of subclusters found (2) by Birch is less than (12). Decrease the threshold.\n",
      "  % (len(centroids), self.n_clusters), ConvergenceWarning)\n",
      "/home/coffeetumbler/anaconda3/envs/automl/lib/python3.5/site-packages/sklearn/cluster/birch.py:627: ConvergenceWarning: Number of subclusters found (4) by Birch is less than (12). Decrease the threshold.\n",
      "  % (len(centroids), self.n_clusters), ConvergenceWarning)\n",
      "/home/coffeetumbler/anaconda3/envs/automl/lib/python3.5/site-packages/sklearn/cluster/birch.py:627: ConvergenceWarning: Number of subclusters found (2) by Birch is less than (12). Decrease the threshold.\n",
      "  % (len(centroids), self.n_clusters), ConvergenceWarning)\n",
      "/home/coffeetumbler/anaconda3/envs/automl/lib/python3.5/site-packages/sklearn/cluster/birch.py:627: ConvergenceWarning: Number of subclusters found (3) by Birch is less than (12). Decrease the threshold.\n",
      "  % (len(centroids), self.n_clusters), ConvergenceWarning)\n"
     ]
    },
    {
     "name": "stdout",
     "output_type": "stream",
     "text": [
      "Score obtained by this configuration: 0.0\n",
      "Fitting configuration: \n",
      "{'clustering_choice': 'MiniBatchKMeans', 'dim_reduction_choice': 'PCA', 'batch_size___MiniBatchKMeans': 191, 'svd_solver___PCA': 'arpack', 'n_clusters___MiniBatchKMeans': 6, 'n_components___PCA': 3}\n",
      "Score obtained by this configuration: 0.0\n",
      "Fitting configuration: \n",
      "{'clustering_choice': 'DBSCAN', 'dim_reduction_choice': 'KernelPCA', 'n_components___KernelPCA': 2, 'kernel___KernelPCA': 'poly', 'eps___DBSCAN': 0.33357409867392923, 'min_samples___DBSCAN': 85}\n",
      "Score obtained by this configuration: inf\n"
     ]
    },
    {
     "name": "stderr",
     "output_type": "stream",
     "text": [
      "Target Algorithm returned NaN or inf as quality. Algorithm run is treated as CRASHED, cost is set to 2147483647.0 for quality scenarios. (Change value through \"cost_for_crash\"-option.)\n"
     ]
    },
    {
     "name": "stdout",
     "output_type": "stream",
     "text": [
      "Fitting configuration: \n",
      "{'clustering_choice': 'DBSCAN', 'dim_reduction_choice': 'KernelPCA', 'n_components___KernelPCA': 3, 'kernel___KernelPCA': 'poly', 'eps___DBSCAN': 0.4911184393167958, 'min_samples___DBSCAN': 30}\n",
      "Score obtained by this configuration: inf\n"
     ]
    },
    {
     "name": "stderr",
     "output_type": "stream",
     "text": [
      "Target Algorithm returned NaN or inf as quality. Algorithm run is treated as CRASHED, cost is set to 2147483647.0 for quality scenarios. (Change value through \"cost_for_crash\"-option.)\n"
     ]
    },
    {
     "name": "stdout",
     "output_type": "stream",
     "text": [
      "Fitting configuration: \n",
      "{'clustering_choice': 'DBSCAN', 'dim_reduction_choice': 'KernelPCA', 'n_components___KernelPCA': 3, 'kernel___KernelPCA': 'poly', 'eps___DBSCAN': 0.46609068939941084, 'min_samples___DBSCAN': 8}\n",
      "Score obtained by this configuration: inf\n"
     ]
    },
    {
     "name": "stderr",
     "output_type": "stream",
     "text": [
      "Target Algorithm returned NaN or inf as quality. Algorithm run is treated as CRASHED, cost is set to 2147483647.0 for quality scenarios. (Change value through \"cost_for_crash\"-option.)\n"
     ]
    },
    {
     "name": "stdout",
     "output_type": "stream",
     "text": [
      "Fitting configuration: \n",
      "{'clustering_choice': 'DBSCAN', 'dim_reduction_choice': 'KernelPCA', 'n_components___KernelPCA': 3, 'kernel___KernelPCA': 'poly', 'eps___DBSCAN': 0.42763622817394803, 'min_samples___DBSCAN': 13}\n",
      "Score obtained by this configuration: inf\n"
     ]
    },
    {
     "name": "stderr",
     "output_type": "stream",
     "text": [
      "Target Algorithm returned NaN or inf as quality. Algorithm run is treated as CRASHED, cost is set to 2147483647.0 for quality scenarios. (Change value through \"cost_for_crash\"-option.)\n"
     ]
    },
    {
     "name": "stdout",
     "output_type": "stream",
     "text": [
      "Fitting configuration: \n",
      "{'clustering_choice': 'DBSCAN', 'dim_reduction_choice': 'KernelPCA', 'n_components___KernelPCA': 3, 'kernel___KernelPCA': 'poly', 'eps___DBSCAN': 0.3597676486445218, 'min_samples___DBSCAN': 10}\n",
      "Score obtained by this configuration: inf\n"
     ]
    },
    {
     "name": "stderr",
     "output_type": "stream",
     "text": [
      "Target Algorithm returned NaN or inf as quality. Algorithm run is treated as CRASHED, cost is set to 2147483647.0 for quality scenarios. (Change value through \"cost_for_crash\"-option.)\n"
     ]
    },
    {
     "name": "stdout",
     "output_type": "stream",
     "text": [
      "Fitting configuration: \n",
      "{'clustering_choice': 'DBSCAN', 'n_components___TSNE': 2, 'dim_reduction_choice': 'TSNE', 'early_exaggeration___TSNE': 13.486116543319527, 'eps___DBSCAN': 1.4543702868272501, 'perplexity___TSNE': 207.2286787061756, 'min_samples___DBSCAN': 73}\n",
      "Fitting configuration: \n",
      "{'clustering_choice': 'DBSCAN', 'dim_reduction_choice': 'KernelPCA', 'n_components___KernelPCA': 4, 'kernel___KernelPCA': 'poly', 'eps___DBSCAN': 0.45622940930651806, 'min_samples___DBSCAN': 25}\n",
      "Score obtained by this configuration: inf\n"
     ]
    },
    {
     "name": "stderr",
     "output_type": "stream",
     "text": [
      "Target Algorithm returned NaN or inf as quality. Algorithm run is treated as CRASHED, cost is set to 2147483647.0 for quality scenarios. (Change value through \"cost_for_crash\"-option.)\n"
     ]
    },
    {
     "name": "stdout",
     "output_type": "stream",
     "text": [
      "Fitting configuration: \n",
      "{'clustering_choice': 'DBSCAN', 'fun___FastICA': 'exp', 'dim_reduction_choice': 'FastICA', 'whiten___FastICA': True, 'n_components___FastICA': 2, 'eps___DBSCAN': 0.04642250559297685, 'algorithm___FastICA': 'deflation', 'min_samples___DBSCAN': 28}\n",
      "Score obtained by this configuration: inf\n"
     ]
    },
    {
     "name": "stderr",
     "output_type": "stream",
     "text": [
      "Target Algorithm returned NaN or inf as quality. Algorithm run is treated as CRASHED, cost is set to 2147483647.0 for quality scenarios. (Change value through \"cost_for_crash\"-option.)\n"
     ]
    },
    {
     "name": "stdout",
     "output_type": "stream",
     "text": [
      "Fitting configuration: \n",
      "{'clustering_choice': 'DBSCAN', 'dim_reduction_choice': 'KernelPCA', 'n_components___KernelPCA': 2, 'kernel___KernelPCA': 'sigmoid', 'eps___DBSCAN': 0.2613984466855124, 'min_samples___DBSCAN': 18}\n",
      "Score obtained by this configuration: inf\n"
     ]
    },
    {
     "name": "stderr",
     "output_type": "stream",
     "text": [
      "Target Algorithm returned NaN or inf as quality. Algorithm run is treated as CRASHED, cost is set to 2147483647.0 for quality scenarios. (Change value through \"cost_for_crash\"-option.)\n"
     ]
    },
    {
     "name": "stdout",
     "output_type": "stream",
     "text": [
      "Fitting configuration: \n",
      "{'clustering_choice': 'DBSCAN', 'dim_reduction_choice': 'KernelPCA', 'n_components___KernelPCA': 3, 'kernel___KernelPCA': 'sigmoid', 'eps___DBSCAN': 0.4911184393167958, 'min_samples___DBSCAN': 18}\n",
      "Score obtained by this configuration: inf\n"
     ]
    },
    {
     "name": "stderr",
     "output_type": "stream",
     "text": [
      "Target Algorithm returned NaN or inf as quality. Algorithm run is treated as CRASHED, cost is set to 2147483647.0 for quality scenarios. (Change value through \"cost_for_crash\"-option.)\n"
     ]
    },
    {
     "name": "stdout",
     "output_type": "stream",
     "text": [
      "Fitting configuration: \n",
      "{'clustering_choice': 'DBSCAN', 'dim_reduction_choice': 'KernelPCA', 'n_components___KernelPCA': 4, 'kernel___KernelPCA': 'sigmoid', 'eps___DBSCAN': 0.4431447716161244, 'min_samples___DBSCAN': 12}\n",
      "Score obtained by this configuration: inf\n"
     ]
    },
    {
     "name": "stderr",
     "output_type": "stream",
     "text": [
      "Target Algorithm returned NaN or inf as quality. Algorithm run is treated as CRASHED, cost is set to 2147483647.0 for quality scenarios. (Change value through \"cost_for_crash\"-option.)\n"
     ]
    },
    {
     "name": "stdout",
     "output_type": "stream",
     "text": [
      "Fitting configuration: \n",
      "{'clustering_choice': 'SpectralClustering', 'affinity___SpectralClustering': 'laplacian', 'dim_reduction_choice': 'TruncatedSVD', 'eigen_solver___SpectralClustering': 'arpack', 'assign_labels___SpectralClustering': 'kmeans', 'n_clusters___SpectralClustering': 7, 'algorithm___TruncatedSVD': 'randomized', 'n_components___TruncatedSVD': 2}\n",
      "Score obtained by this configuration: 0.0\n",
      "Fitting configuration: \n",
      "{'clustering_choice': 'DBSCAN', 'dim_reduction_choice': 'KernelPCA', 'n_components___KernelPCA': 5, 'kernel___KernelPCA': 'sigmoid', 'eps___DBSCAN': 0.4872295004818057, 'min_samples___DBSCAN': 15}\n",
      "Score obtained by this configuration: inf\n"
     ]
    },
    {
     "name": "stderr",
     "output_type": "stream",
     "text": [
      "Target Algorithm returned NaN or inf as quality. Algorithm run is treated as CRASHED, cost is set to 2147483647.0 for quality scenarios. (Change value through \"cost_for_crash\"-option.)\n"
     ]
    },
    {
     "name": "stdout",
     "output_type": "stream",
     "text": [
      "Fitting configuration: \n",
      "{'clustering_choice': 'DBSCAN', 'dim_reduction_choice': 'IncrementalPCA', 'eps___DBSCAN': 1.2911136728166452, 'whiten___IncrementalPCA': True, 'n_components___IncrementalPCA': 3, 'min_samples___DBSCAN': 14, 'batch_size___IncrementalPCA': 566}\n",
      "Score obtained by this configuration: inf\n"
     ]
    },
    {
     "name": "stderr",
     "output_type": "stream",
     "text": [
      "Target Algorithm returned NaN or inf as quality. Algorithm run is treated as CRASHED, cost is set to 2147483647.0 for quality scenarios. (Change value through \"cost_for_crash\"-option.)\n"
     ]
    },
    {
     "name": "stdout",
     "output_type": "stream",
     "text": [
      "Fitting configuration: \n",
      "{'clustering_choice': 'DBSCAN', 'dim_reduction_choice': 'KernelPCA', 'n_components___KernelPCA': 3, 'kernel___KernelPCA': 'sigmoid', 'eps___DBSCAN': 0.12320956350310737, 'min_samples___DBSCAN': 9}\n",
      "Score obtained by this configuration: 0.20973610804701445\n",
      "Fitting configuration: \n",
      "{'clustering_choice': 'DBSCAN', 'dim_reduction_choice': 'IncrementalPCA', 'eps___DBSCAN': 1.2410476486901236, 'min_samples___DBSCAN': 13, 'n_components___IncrementalPCA': 3, 'batch_size___IncrementalPCA': 494}\n",
      "Score obtained by this configuration: 0.0\n",
      "Fitting configuration: \n",
      "{'clustering_choice': 'DBSCAN', 'dim_reduction_choice': 'PCA', 'whiten___PCA': True, 'eps___DBSCAN': 0.4491675983200766, 'n_components___PCA': 2, 'svd_solver___PCA': 'randomized', 'min_samples___DBSCAN': 43}\n",
      "Score obtained by this configuration: 0.0\n",
      "Fitting configuration: \n",
      "{'clustering_choice': 'AgglomerativeClustering', 'dim_reduction_choice': 'TruncatedSVD', 'affinity___AgglomerativeClustering': 'l1', 'algorithm___TruncatedSVD': 'arpack', 'linkage___AgglomerativeClustering': 'single', 'n_components___TruncatedSVD': 7, 'n_clusters___AgglomerativeClustering': 19}\n",
      "Score obtained by this configuration: inf\n"
     ]
    },
    {
     "name": "stderr",
     "output_type": "stream",
     "text": [
      "Target Algorithm returned NaN or inf as quality. Algorithm run is treated as CRASHED, cost is set to 2147483647.0 for quality scenarios. (Change value through \"cost_for_crash\"-option.)\n"
     ]
    },
    {
     "name": "stdout",
     "output_type": "stream",
     "text": [
      "Fitting configuration: \n",
      "{'clustering_choice': 'GaussianMixture', 'covariance_type___GaussianMixture': 'full', 'dim_reduction_choice': 'KernelPCA', 'n_components___KernelPCA': 4, 'init_params___GaussianMixture': 'random', 'kernel___KernelPCA': 'rbf', 'warm_start___GaussianMixture': True, 'n_components___GaussianMixture': 59}\n",
      "Score obtained by this configuration: 0.0\n",
      "Fitting configuration: \n",
      "{'clustering_choice': 'GaussianMixture', 'covariance_type___GaussianMixture': 'spherical', 'dim_reduction_choice': 'KernelPCA', 'n_components___KernelPCA': 6, 'init_params___GaussianMixture': 'kmeans', 'kernel___KernelPCA': 'rbf', 'warm_start___GaussianMixture': True, 'n_components___GaussianMixture': 23}\n",
      "Score obtained by this configuration: 0.0\n",
      "Fitting configuration: \n",
      "{'clustering_choice': 'GaussianMixture', 'covariance_type___GaussianMixture': 'full', 'dim_reduction_choice': 'KernelPCA', 'n_components___KernelPCA': 8, 'init_params___GaussianMixture': 'kmeans', 'kernel___KernelPCA': 'cosine', 'warm_start___GaussianMixture': True, 'n_components___GaussianMixture': 73}\n",
      "Score obtained by this configuration: 0.0\n",
      "Fitting configuration: \n",
      "{'clustering_choice': 'MiniBatchKMeans', 'dim_reduction_choice': 'KernelPCA', 'n_components___KernelPCA': 4, 'batch_size___MiniBatchKMeans': 65, 'kernel___KernelPCA': 'rbf', 'n_clusters___MiniBatchKMeans': 40}\n",
      "Score obtained by this configuration: 0.0\n",
      "Fitting configuration: \n",
      "{'clustering_choice': 'Birch', 'dim_reduction_choice': 'KernelPCA', 'n_components___KernelPCA': 4, 'branching_factor___Birch': 315, 'kernel___KernelPCA': 'rbf', 'n_clusters___Birch': 38}\n"
     ]
    },
    {
     "name": "stderr",
     "output_type": "stream",
     "text": [
      "/home/coffeetumbler/anaconda3/envs/automl/lib/python3.5/site-packages/sklearn/cluster/birch.py:627: ConvergenceWarning: Number of subclusters found (1) by Birch is less than (38). Decrease the threshold.\n",
      "  % (len(centroids), self.n_clusters), ConvergenceWarning)\n",
      "/home/coffeetumbler/anaconda3/envs/automl/lib/python3.5/site-packages/sklearn/cluster/birch.py:627: ConvergenceWarning: Number of subclusters found (1) by Birch is less than (38). Decrease the threshold.\n",
      "  % (len(centroids), self.n_clusters), ConvergenceWarning)\n"
     ]
    },
    {
     "name": "stdout",
     "output_type": "stream",
     "text": [
      "Score obtained by this configuration: inf\n"
     ]
    },
    {
     "name": "stderr",
     "output_type": "stream",
     "text": [
      "WARNING:smac.tae.execute_func.ExecuteTAFuncDict:Target Algorithm returned NaN or inf as quality. Algorithm run is treated as CRASHED, cost is set to 2147483647.0 for quality scenarios. (Change value through \"cost_for_crash\"-option.)\n"
     ]
    },
    {
     "name": "stdout",
     "output_type": "stream",
     "text": [
      "Fitting configuration: \n",
      "{'clustering_choice': 'DBSCAN', 'fun___FastICA': 'cube', 'dim_reduction_choice': 'FastICA', 'whiten___FastICA': True, 'n_components___FastICA': 3, 'eps___DBSCAN': 0.3203676393525975, 'algorithm___FastICA': 'deflation', 'min_samples___DBSCAN': 5}\n",
      "Score obtained by this configuration: inf\n"
     ]
    },
    {
     "name": "stderr",
     "output_type": "stream",
     "text": [
      "WARNING:smac.tae.execute_func.ExecuteTAFuncDict:Target Algorithm returned NaN or inf as quality. Algorithm run is treated as CRASHED, cost is set to 2147483647.0 for quality scenarios. (Change value through \"cost_for_crash\"-option.)\n"
     ]
    },
    {
     "name": "stdout",
     "output_type": "stream",
     "text": [
      "Fitting configuration: \n",
      "{'clustering_choice': 'KMeans', 'dim_reduction_choice': 'PCA', 'whiten___PCA': True, 'svd_solver___PCA': 'randomized', 'n_clusters___KMeans': 75, 'n_components___PCA': 2}\n",
      "Score obtained by this configuration: 0.0\n",
      "Fitting configuration: \n",
      "{'clustering_choice': 'KMeans', 'dim_reduction_choice': 'PCA', 'n_clusters___KMeans': 34, 'svd_solver___PCA': 'arpack', 'n_components___PCA': 3}\n",
      "Score obtained by this configuration: 0.0\n",
      "Fitting configuration: \n",
      "{'clustering_choice': 'AffinityPropagation', 'dim_reduction_choice': 'KernelPCA', 'damping___AffinityPropagation': 0.7084857195785081, 'n_components___KernelPCA': 9, 'kernel___KernelPCA': 'rbf', 'affinity___AffinityPropagation': 'euclidean'}\n",
      "Score obtained by this configuration: 0.0\n",
      "Fitting configuration: \n",
      "{'clustering_choice': 'AffinityPropagation', 'dim_reduction_choice': 'KernelPCA', 'damping___AffinityPropagation': 0.6307595932084378, 'n_components___KernelPCA': 4, 'kernel___KernelPCA': 'rbf', 'affinity___AffinityPropagation': 'euclidean'}\n",
      "Score obtained by this configuration: 0.0\n",
      "Fitting configuration: \n",
      "{'clustering_choice': 'MiniBatchKMeans', 'fun___FastICA': 'cube', 'dim_reduction_choice': 'FastICA', 'n_components___FastICA': 2, 'batch_size___MiniBatchKMeans': 245, 'algorithm___FastICA': 'deflation', 'n_clusters___MiniBatchKMeans': 78}\n",
      "Score obtained by this configuration: 0.0\n",
      "Fitting configuration: \n",
      "{'clustering_choice': 'MiniBatchKMeans', 'fun___FastICA': 'cube', 'dim_reduction_choice': 'FastICA', 'n_components___FastICA': 2, 'batch_size___MiniBatchKMeans': 332, 'algorithm___FastICA': 'deflation', 'n_clusters___MiniBatchKMeans': 37}\n",
      "Score obtained by this configuration: 0.0\n",
      "Fitting configuration: \n",
      "{'clustering_choice': 'GaussianMixture', 'covariance_type___GaussianMixture': 'tied', 'dim_reduction_choice': 'FastICA', 'algorithm___FastICA': 'deflation', 'init_params___GaussianMixture': 'kmeans', 'n_components___FastICA': 3, 'fun___FastICA': 'cube', 'whiten___FastICA': True, 'n_components___GaussianMixture': 62}\n",
      "Score obtained by this configuration: 0.0\n",
      "Fitting configuration: \n",
      "{'clustering_choice': 'MiniBatchKMeans', 'dim_reduction_choice': 'TruncatedSVD', 'batch_size___MiniBatchKMeans': 235, 'algorithm___TruncatedSVD': 'randomized', 'n_components___TruncatedSVD': 5, 'n_clusters___MiniBatchKMeans': 28}\n",
      "Score obtained by this configuration: 0.0\n",
      "Fitting configuration: \n",
      "{'clustering_choice': 'MiniBatchKMeans', 'dim_reduction_choice': 'KernelPCA', 'n_components___KernelPCA': 8, 'batch_size___MiniBatchKMeans': 474, 'kernel___KernelPCA': 'linear', 'n_clusters___MiniBatchKMeans': 32}\n",
      "Score obtained by this configuration: 0.0\n",
      "Fitting configuration: \n",
      "{'clustering_choice': 'GaussianMixture', 'covariance_type___GaussianMixture': 'full', 'dim_reduction_choice': 'IncrementalPCA', 'init_params___GaussianMixture': 'kmeans', 'n_components___IncrementalPCA': 3, 'warm_start___GaussianMixture': True, 'n_components___GaussianMixture': 48, 'batch_size___IncrementalPCA': 35}\n",
      "Score obtained by this configuration: 0.0\n",
      "Fitting configuration: \n",
      "{'clustering_choice': 'OPTICS', 'n_components___TSNE': 2, 'dim_reduction_choice': 'TSNE', 'metric___OPTICS': 'l1', 'min_samples___OPTICS': 746, 'early_exaggeration___TSNE': 16.28310346313276, 'cluster_method___OPTICS': 'dbscan', 'perplexity___TSNE': 273.0652001299699}\n",
      "Fitting configuration: \n",
      "{'clustering_choice': 'AgglomerativeClustering', 'dim_reduction_choice': 'KernelPCA', 'affinity___AgglomerativeClustering': 'l1', 'kernel___KernelPCA': 'rbf', 'linkage___AgglomerativeClustering': 'complete', 'n_clusters___AgglomerativeClustering': 34, 'n_components___KernelPCA': 6}\n",
      "Score obtained by this configuration: 0.0\n",
      "Fitting configuration: \n",
      "{'clustering_choice': 'Birch', 'n_components___TSNE': 2, 'dim_reduction_choice': 'TSNE', 'early_exaggeration___TSNE': 8.891357869201425, 'branching_factor___Birch': 733, 'perplexity___TSNE': 271.1351072572723, 'n_clusters___Birch': 8}\n",
      "Fitting configuration: \n",
      "{'clustering_choice': 'Birch', 'n_clusters___Birch': 39, 'branching_factor___Birch': 807, 'n_components___IncrementalPCA': 3, 'batch_size___IncrementalPCA': 711, 'dim_reduction_choice': 'IncrementalPCA'}\n",
      "Score obtained by this configuration: 0.0\n",
      "Fitting configuration: \n",
      "{'clustering_choice': 'GaussianMixture', 'covariance_type___GaussianMixture': 'diag', 'dim_reduction_choice': 'KernelPCA', 'n_components___KernelPCA': 6, 'init_params___GaussianMixture': 'kmeans', 'kernel___KernelPCA': 'rbf', 'warm_start___GaussianMixture': True, 'n_components___GaussianMixture': 78}\n",
      "Score obtained by this configuration: 0.0\n",
      "Fitting configuration: \n",
      "{'clustering_choice': 'MeanShift', 'bin_seeding___MeanShift': True, 'dim_reduction_choice': 'TSNE', 'bandwidth___MeanShift': 33.012847009127846, 'early_exaggeration___TSNE': 8.622213783421856, 'n_components___TSNE': 2, 'perplexity___TSNE': 146.2437925489064}\n",
      "Fitting configuration: \n",
      "{'clustering_choice': 'SpectralClustering', 'affinity___SpectralClustering': 'rbf', 'dim_reduction_choice': 'TSNE', 'early_exaggeration___TSNE': 17.599907823169374, 'n_clusters___SpectralClustering': 13, 'assign_labels___SpectralClustering': 'discretize', 'perplexity___TSNE': 293.9662129593339, 'eigen_solver___SpectralClustering': 'arpack', 'n_components___TSNE': 2}\n",
      "Fitting configuration: \n",
      "{'clustering_choice': 'MiniBatchKMeans', 'fun___FastICA': 'logcosh', 'dim_reduction_choice': 'FastICA', 'n_components___FastICA': 3, 'batch_size___MiniBatchKMeans': 171, 'algorithm___FastICA': 'parallel', 'n_clusters___MiniBatchKMeans': 36}\n",
      "Score obtained by this configuration: 0.0\n",
      "Fitting configuration: \n",
      "{'clustering_choice': 'AffinityPropagation', 'dim_reduction_choice': 'IncrementalPCA', 'damping___AffinityPropagation': 0.7492238334978952, 'affinity___AffinityPropagation': 'euclidean', 'n_components___IncrementalPCA': 2, 'batch_size___IncrementalPCA': 51}\n",
      "Score obtained by this configuration: 0.0\n",
      "Fitting configuration: \n",
      "{'clustering_choice': 'MiniBatchKMeans', 'dim_reduction_choice': 'KernelPCA', 'n_components___KernelPCA': 8, 'batch_size___MiniBatchKMeans': 38, 'kernel___KernelPCA': 'linear', 'n_clusters___MiniBatchKMeans': 7}\n",
      "Score obtained by this configuration: 0.0\n",
      "Fitting configuration: \n",
      "{'clustering_choice': 'MiniBatchKMeans', 'fun___FastICA': 'logcosh', 'dim_reduction_choice': 'FastICA', 'n_components___FastICA': 2, 'batch_size___MiniBatchKMeans': 198, 'algorithm___FastICA': 'deflation', 'n_clusters___MiniBatchKMeans': 4}\n",
      "Score obtained by this configuration: 0.0\n",
      "Fitting configuration: \n",
      "{'clustering_choice': 'AgglomerativeClustering', 'dim_reduction_choice': 'KernelPCA', 'affinity___AgglomerativeClustering': 'euclidean', 'kernel___KernelPCA': 'cosine', 'linkage___AgglomerativeClustering': 'ward', 'n_clusters___AgglomerativeClustering': 7, 'n_components___KernelPCA': 5}\n",
      "Score obtained by this configuration: 0.0\n",
      "Fitting configuration: \n",
      "{'clustering_choice': 'AffinityPropagation', 'dim_reduction_choice': 'KernelPCA', 'damping___AffinityPropagation': 0.6384800608301505, 'n_components___KernelPCA': 3, 'kernel___KernelPCA': 'linear', 'affinity___AffinityPropagation': 'euclidean'}\n",
      "Score obtained by this configuration: 0.0\n",
      "Fitting configuration: \n",
      "{'clustering_choice': 'AffinityPropagation', 'dim_reduction_choice': 'KernelPCA', 'damping___AffinityPropagation': 0.8238794775710148, 'n_components___KernelPCA': 3, 'kernel___KernelPCA': 'sigmoid', 'affinity___AffinityPropagation': 'euclidean'}\n",
      "Score obtained by this configuration: 0.0\n",
      "Fitting configuration: \n",
      "{'clustering_choice': 'GaussianMixture', 'covariance_type___GaussianMixture': 'tied', 'dim_reduction_choice': 'KernelPCA', 'n_components___KernelPCA': 9, 'init_params___GaussianMixture': 'kmeans', 'kernel___KernelPCA': 'sigmoid', 'warm_start___GaussianMixture': True, 'n_components___GaussianMixture': 3}\n",
      "Score obtained by this configuration: 0.0\n",
      "Fitting configuration: \n",
      "{'clustering_choice': 'GaussianMixture', 'covariance_type___GaussianMixture': 'spherical', 'dim_reduction_choice': 'KernelPCA', 'n_components___KernelPCA': 7, 'init_params___GaussianMixture': 'kmeans', 'kernel___KernelPCA': 'sigmoid', 'warm_start___GaussianMixture': True, 'n_components___GaussianMixture': 61}\n",
      "Score obtained by this configuration: 0.0\n",
      "Fitting configuration: \n",
      "{'clustering_choice': 'GaussianMixture', 'covariance_type___GaussianMixture': 'full', 'dim_reduction_choice': 'KernelPCA', 'n_components___KernelPCA': 6, 'init_params___GaussianMixture': 'random', 'kernel___KernelPCA': 'poly', 'n_components___GaussianMixture': 38}\n",
      "Score obtained by this configuration: 0.0\n",
      "Fitting configuration: \n",
      "{'clustering_choice': 'MiniBatchKMeans', 'fun___FastICA': 'exp', 'dim_reduction_choice': 'FastICA', 'whiten___FastICA': True, 'n_components___FastICA': 3, 'batch_size___MiniBatchKMeans': 406, 'algorithm___FastICA': 'deflation', 'n_clusters___MiniBatchKMeans': 24}\n",
      "Score obtained by this configuration: 0.0\n",
      "Fitting configuration: \n",
      "{'clustering_choice': 'KMeans', 'kernel___KernelPCA': 'linear', 'dim_reduction_choice': 'KernelPCA', 'n_clusters___KMeans': 67, 'n_components___KernelPCA': 7}\n",
      "Score obtained by this configuration: 0.0\n",
      "Fitting configuration: \n",
      "{'clustering_choice': 'MiniBatchKMeans', 'n_components___TSNE': 2, 'dim_reduction_choice': 'TSNE', 'early_exaggeration___TSNE': 10.454660640812937, 'batch_size___MiniBatchKMeans': 163, 'perplexity___TSNE': 227.92839550946118, 'n_clusters___MiniBatchKMeans': 27}\n",
      "Fitting configuration: \n",
      "{'clustering_choice': 'MeanShift', 'dim_reduction_choice': 'PCA', 'whiten___PCA': True, 'bandwidth___MeanShift': 26.807060700054667, 'svd_solver___PCA': 'auto', 'n_components___PCA': 3}\n",
      "Score obtained by this configuration: inf\n"
     ]
    },
    {
     "name": "stderr",
     "output_type": "stream",
     "text": [
      "WARNING:smac.tae.execute_func.ExecuteTAFuncDict:Target Algorithm returned NaN or inf as quality. Algorithm run is treated as CRASHED, cost is set to 2147483647.0 for quality scenarios. (Change value through \"cost_for_crash\"-option.)\n"
     ]
    },
    {
     "name": "stdout",
     "output_type": "stream",
     "text": [
      "Fitting configuration: \n",
      "{'clustering_choice': 'OPTICS', 'fun___FastICA': 'exp', 'dim_reduction_choice': 'FastICA', 'metric___OPTICS': 'manhattan', 'min_samples___OPTICS': 634, 'cluster_method___OPTICS': 'xi', 'n_components___FastICA': 3, 'algorithm___FastICA': 'parallel'}\n"
     ]
    },
    {
     "name": "stderr",
     "output_type": "stream",
     "text": [
      "Process pynisher function call:\n",
      "Traceback (most recent call last):\n",
      "  File \"/home/coffeetumbler/anaconda3/envs/automl/lib/python3.5/multiprocessing/process.py\", line 252, in _bootstrap\n",
      "    self.run()\n",
      "  File \"/home/coffeetumbler/anaconda3/envs/automl/lib/python3.5/multiprocessing/process.py\", line 93, in run\n",
      "    self._target(*self._args, **self._kwargs)\n",
      "  File \"/home/coffeetumbler/anaconda3/envs/automl/lib/python3.5/site-packages/pynisher/limit_function_call.py\", line 93, in subprocess_func\n",
      "    return_value = ((func(*args, **kwargs), 0))\n",
      "  File \"/home/coffeetumbler/automl_2019/autocluster/autocluster.py\", line 249, in evaluate_model\n",
      "    y_pred = clustering_model.fit_predict(compressed_valid_data)\n",
      "  File \"/home/coffeetumbler/anaconda3/envs/automl/lib/python3.5/site-packages/sklearn/base.py\", line 447, in fit_predict\n",
      "    self.fit(X)\n",
      "  File \"/home/coffeetumbler/anaconda3/envs/automl/lib/python3.5/site-packages/sklearn/cluster/optics_.py\", line 248, in fit\n",
      "    max_eps=self.max_eps)\n",
      "  File \"/home/coffeetumbler/anaconda3/envs/automl/lib/python3.5/site-packages/sklearn/cluster/optics_.py\", line 438, in compute_optics_graph\n",
      "    _validate_size(min_samples, n_samples, 'min_samples')\n",
      "  File \"/home/coffeetumbler/anaconda3/envs/automl/lib/python3.5/site-packages/sklearn/cluster/optics_.py\", line 290, in _validate_size\n",
      "    (param_name, n_samples, size))\n",
      "ValueError: min_samples must be no greater than the number of samples (488). Got 634\n"
     ]
    },
    {
     "name": "stdout",
     "output_type": "stream",
     "text": [
      "Fitting configuration: \n",
      "{'clustering_choice': 'GaussianMixture', 'covariance_type___GaussianMixture': 'diag', 'dim_reduction_choice': 'TruncatedSVD', 'n_components___GaussianMixture': 48, 'init_params___GaussianMixture': 'random', 'algorithm___TruncatedSVD': 'randomized', 'warm_start___GaussianMixture': True, 'n_components___TruncatedSVD': 3}\n",
      "Score obtained by this configuration: inf\n"
     ]
    },
    {
     "name": "stderr",
     "output_type": "stream",
     "text": [
      "WARNING:smac.tae.execute_func.ExecuteTAFuncDict:Target Algorithm returned NaN or inf as quality. Algorithm run is treated as CRASHED, cost is set to 2147483647.0 for quality scenarios. (Change value through \"cost_for_crash\"-option.)\n"
     ]
    },
    {
     "name": "stdout",
     "output_type": "stream",
     "text": [
      "Fitting configuration: \n",
      "{'clustering_choice': 'AffinityPropagation', 'dim_reduction_choice': 'TruncatedSVD', 'damping___AffinityPropagation': 0.9677222247893913, 'algorithm___TruncatedSVD': 'arpack', 'affinity___AffinityPropagation': 'euclidean', 'n_components___TruncatedSVD': 2}\n",
      "Score obtained by this configuration: 0.0\n",
      "Fitting configuration: \n",
      "{'clustering_choice': 'Birch', 'n_clusters___Birch': 6, 'branching_factor___Birch': 913, 'whiten___IncrementalPCA': True, 'n_components___IncrementalPCA': 3, 'batch_size___IncrementalPCA': 748, 'dim_reduction_choice': 'IncrementalPCA'}\n",
      "Score obtained by this configuration: 0.0\n",
      "Fitting configuration: \n",
      "{'clustering_choice': 'MeanShift', 'kernel___KernelPCA': 'poly', 'dim_reduction_choice': 'KernelPCA', 'bandwidth___MeanShift': 46.36396483156826, 'n_components___KernelPCA': 6}\n",
      "Score obtained by this configuration: inf\n"
     ]
    },
    {
     "name": "stderr",
     "output_type": "stream",
     "text": [
      "WARNING:smac.tae.execute_func.ExecuteTAFuncDict:Target Algorithm returned NaN or inf as quality. Algorithm run is treated as CRASHED, cost is set to 2147483647.0 for quality scenarios. (Change value through \"cost_for_crash\"-option.)\n"
     ]
    },
    {
     "name": "stdout",
     "output_type": "stream",
     "text": [
      "Fitting configuration: \n",
      "{'clustering_choice': 'AffinityPropagation', 'dim_reduction_choice': 'IncrementalPCA', 'damping___AffinityPropagation': 0.5769954166172588, 'affinity___AffinityPropagation': 'euclidean', 'n_components___IncrementalPCA': 3, 'batch_size___IncrementalPCA': 933}\n",
      "Score obtained by this configuration: 0.0\n",
      "Optimization is complete.\n",
      "Took 465.67 seconds.\n",
      "The optimal configuration is \n",
      "Configuration:\n",
      "  clustering_choice, Value: 'KMeans'\n",
      "  dim_reduction_choice, Value: 'KernelPCA'\n",
      "  kernel___KernelPCA, Value: 'poly'\n",
      "  n_clusters___KMeans, Value: 15\n",
      "  n_components___KernelPCA, Value: 2\n",
      "\n",
      "\n",
      "Model chosen with weights = \n",
      "[0, 0, 10]\n",
      "v_score = \n",
      "0.2578515598816227\n",
      "\n",
      "\n",
      "1418/1797 datapoints remaining after outlier removal\n",
      "Configuration space object:\n",
      "  Hyperparameters:\n",
      "    affinity___AffinityPropagation, Type: Categorical, Choices: {euclidean}, Default: euclidean\n",
      "    affinity___AgglomerativeClustering, Type: Categorical, Choices: {euclidean, cityblock, l2, l1, manhattan, cosine}, Default: euclidean\n",
      "    affinity___SpectralClustering, Type: Categorical, Choices: {nearest_neighbors, poly, sigmoid, laplacian, rbf}, Default: rbf\n",
      "    algorithm___FastICA, Type: Categorical, Choices: {parallel, deflation}, Default: parallel\n",
      "    algorithm___TruncatedSVD, Type: Categorical, Choices: {arpack, randomized}, Default: randomized\n",
      "    assign_labels___SpectralClustering, Type: Categorical, Choices: {kmeans, discretize}, Default: kmeans\n",
      "    bandwidth___MeanShift, Type: UniformFloat, Range: [0.1, 50.0], Default: 25.05\n",
      "    batch_size___IncrementalPCA, Type: UniformInteger, Range: [10, 1000], Default: 100\n",
      "    batch_size___MiniBatchKMeans, Type: UniformInteger, Range: [10, 1000], Default: 100\n",
      "    bin_seeding___MeanShift, Type: Categorical, Choices: {True, False}, Default: False\n",
      "    branching_factor___Birch, Type: UniformInteger, Range: [10, 1000], Default: 50\n",
      "    cluster_method___OPTICS, Type: Categorical, Choices: {xi, dbscan}, Default: xi\n",
      "    clustering_choice, Type: Categorical, Choices: {KMeans, GaussianMixture, Birch, MiniBatchKMeans, AgglomerativeClustering, OPTICS, SpectralClustering, DBSCAN, AffinityPropagation, MeanShift}, Default: KMeans\n",
      "    covariance_type___GaussianMixture, Type: Categorical, Choices: {full, tied, diag, spherical}, Default: full\n",
      "    damping___AffinityPropagation, Type: UniformFloat, Range: [0.5, 1.0], Default: 0.5\n",
      "    dim_reduction_choice, Type: Categorical, Choices: {TSNE, PCA, IncrementalPCA, KernelPCA, FastICA, TruncatedSVD}, Default: TSNE\n",
      "    early_exaggeration___TSNE, Type: UniformFloat, Range: [5.0, 20.0], Default: 12.0\n",
      "    eigen_solver___SpectralClustering, Type: Categorical, Choices: {arpack}, Default: arpack\n",
      "    eps___DBSCAN, Type: UniformFloat, Range: [0.01, 5.0], Default: 0.01\n",
      "    fun___FastICA, Type: Categorical, Choices: {logcosh, exp, cube}, Default: logcosh\n",
      "    init_params___GaussianMixture, Type: Categorical, Choices: {kmeans, random}, Default: kmeans\n",
      "    kernel___KernelPCA, Type: Categorical, Choices: {linear, poly, rbf, sigmoid, cosine}, Default: linear\n",
      "    linkage___AgglomerativeClustering, Type: Categorical, Choices: {ward, complete, average, single}, Default: complete\n",
      "    metric___OPTICS, Type: Categorical, Choices: {minkowski, euclidean, manhattan, l1, l2, cosine}, Default: minkowski\n",
      "    min_samples___DBSCAN, Type: UniformInteger, Range: [5, 100], Default: 5\n",
      "    min_samples___OPTICS, Type: UniformInteger, Range: [5, 1000], Default: 100\n",
      "    n_clusters___AgglomerativeClustering, Type: UniformInteger, Range: [1, 80], Default: 10\n",
      "    n_clusters___Birch, Type: UniformInteger, Range: [1, 80], Default: 5\n",
      "    n_clusters___KMeans, Type: UniformInteger, Range: [1, 80], Default: 5\n",
      "    n_clusters___MiniBatchKMeans, Type: UniformInteger, Range: [1, 80], Default: 10\n",
      "    n_clusters___SpectralClustering, Type: UniformInteger, Range: [1, 80], Default: 10\n",
      "    n_components___FastICA, Type: Ordinal, Sequence: {2, 3}, Default: 2\n",
      "    n_components___GaussianMixture, Type: UniformInteger, Range: [1, 80], Default: 5\n",
      "    n_components___IncrementalPCA, Type: Ordinal, Sequence: {2, 3}, Default: 2\n",
      "    n_components___KernelPCA, Type: Ordinal, Sequence: {2, 3, 4, 5, 6, 7, 8, 9}, Default: 2\n",
      "    n_components___PCA, Type: Ordinal, Sequence: {2, 3}, Default: 2\n",
      "    n_components___TSNE, Type: Ordinal, Sequence: {2}, Default: 2\n",
      "    n_components___TruncatedSVD, Type: Ordinal, Sequence: {2, 3, 4, 5, 6, 7, 8, 9}, Default: 2\n",
      "    perplexity___TSNE, Type: UniformFloat, Range: [1.0, 300.0], Default: 30.0\n",
      "    svd_solver___PCA, Type: Categorical, Choices: {auto, full, arpack, randomized}, Default: auto\n",
      "    warm_start___GaussianMixture, Type: Categorical, Choices: {True, False}, Default: False\n",
      "    whiten___FastICA, Type: Categorical, Choices: {True, False}, Default: True\n",
      "    whiten___IncrementalPCA, Type: Categorical, Choices: {True, False}, Default: False\n",
      "    whiten___PCA, Type: Categorical, Choices: {True, False}, Default: False\n",
      "  Conditions:\n",
      "    affinity___AffinityPropagation | clustering_choice in {'AffinityPropagation'}\n",
      "    affinity___AgglomerativeClustering | clustering_choice in {'AgglomerativeClustering'}\n",
      "    affinity___SpectralClustering | clustering_choice in {'SpectralClustering'}\n",
      "    algorithm___FastICA | dim_reduction_choice in {'FastICA'}\n",
      "    algorithm___TruncatedSVD | dim_reduction_choice in {'TruncatedSVD'}\n",
      "    assign_labels___SpectralClustering | clustering_choice in {'SpectralClustering'}\n",
      "    bandwidth___MeanShift | clustering_choice in {'MeanShift'}\n",
      "    batch_size___IncrementalPCA | dim_reduction_choice in {'IncrementalPCA'}\n",
      "    batch_size___MiniBatchKMeans | clustering_choice in {'MiniBatchKMeans'}\n",
      "    bin_seeding___MeanShift | clustering_choice in {'MeanShift'}\n",
      "    branching_factor___Birch | clustering_choice in {'Birch'}\n",
      "    cluster_method___OPTICS | clustering_choice in {'OPTICS'}\n",
      "    covariance_type___GaussianMixture | clustering_choice in {'GaussianMixture'}\n",
      "    damping___AffinityPropagation | clustering_choice in {'AffinityPropagation'}\n",
      "    early_exaggeration___TSNE | dim_reduction_choice in {'TSNE'}\n",
      "    eigen_solver___SpectralClustering | clustering_choice in {'SpectralClustering'}\n",
      "    eps___DBSCAN | clustering_choice in {'DBSCAN'}\n",
      "    fun___FastICA | dim_reduction_choice in {'FastICA'}\n",
      "    init_params___GaussianMixture | clustering_choice in {'GaussianMixture'}\n",
      "    kernel___KernelPCA | dim_reduction_choice in {'KernelPCA'}\n",
      "    linkage___AgglomerativeClustering | clustering_choice in {'AgglomerativeClustering'}\n",
      "    metric___OPTICS | clustering_choice in {'OPTICS'}\n",
      "    min_samples___DBSCAN | clustering_choice in {'DBSCAN'}\n",
      "    min_samples___OPTICS | clustering_choice in {'OPTICS'}\n",
      "    n_clusters___AgglomerativeClustering | clustering_choice in {'AgglomerativeClustering'}\n",
      "    n_clusters___Birch | clustering_choice in {'Birch'}\n",
      "    n_clusters___KMeans | clustering_choice in {'KMeans'}\n",
      "    n_clusters___MiniBatchKMeans | clustering_choice in {'MiniBatchKMeans'}\n",
      "    n_clusters___SpectralClustering | clustering_choice in {'SpectralClustering'}\n",
      "    n_components___FastICA | dim_reduction_choice in {'FastICA'}\n",
      "    n_components___GaussianMixture | clustering_choice in {'GaussianMixture'}\n",
      "    n_components___IncrementalPCA | dim_reduction_choice in {'IncrementalPCA'}\n",
      "    n_components___KernelPCA | dim_reduction_choice in {'KernelPCA'}\n",
      "    n_components___PCA | dim_reduction_choice in {'PCA'}\n",
      "    n_components___TSNE | dim_reduction_choice in {'TSNE'}\n",
      "    n_components___TruncatedSVD | dim_reduction_choice in {'TruncatedSVD'}\n",
      "    perplexity___TSNE | dim_reduction_choice in {'TSNE'}\n",
      "    svd_solver___PCA | dim_reduction_choice in {'PCA'}\n",
      "    warm_start___GaussianMixture | clustering_choice in {'GaussianMixture'}\n",
      "    whiten___FastICA | dim_reduction_choice in {'FastICA'}\n",
      "    whiten___IncrementalPCA | dim_reduction_choice in {'IncrementalPCA'}\n",
      "    whiten___PCA | dim_reduction_choice in {'PCA'}\n",
      "  Forbidden Clauses:\n",
      "    (Forbidden: linkage___AgglomerativeClustering == 'ward' && Forbidden: affinity___AgglomerativeClustering in {'cityblock', 'cosine', 'l1', 'l2', 'manhattan'})\n",
      "\n"
     ]
    },
    {
     "name": "stderr",
     "output_type": "stream",
     "text": [
      "/home/coffeetumbler/automl_2019/autocluster/utils/metafeatures.py:43: FutureWarning: elementwise comparison failed; returning scalar instead, but in the future will perform elementwise comparison\n",
      "  return (np.count_nonzero(X == '') + np.count_nonzero(X == 0)) / X.size\n",
      "/home/coffeetumbler/automl_2019/autocluster/utils/metafeatures.py:35: FutureWarning: elementwise comparison failed; returning scalar instead, but in the future will perform elementwise comparison\n",
      "  return np.count_nonzero(X == None) + np.count_nonzero(X == '')\n",
      "/home/coffeetumbler/anaconda3/envs/automl/lib/python3.5/site-packages/numpy/lib/function_base.py:2530: RuntimeWarning: invalid value encountered in true_divide\n",
      "  c /= stddev[:, None]\n",
      "/home/coffeetumbler/anaconda3/envs/automl/lib/python3.5/site-packages/numpy/lib/function_base.py:2531: RuntimeWarning: invalid value encountered in true_divide\n",
      "  c /= stddev[None, :]\n",
      "/home/coffeetumbler/anaconda3/envs/automl/lib/python3.5/site-packages/numpy/lib/function_base.py:2530: RuntimeWarning: invalid value encountered in true_divide\n",
      "  c /= stddev[:, None]\n",
      "/home/coffeetumbler/anaconda3/envs/automl/lib/python3.5/site-packages/numpy/lib/function_base.py:2531: RuntimeWarning: invalid value encountered in true_divide\n",
      "  c /= stddev[None, :]\n"
     ]
    },
    {
     "name": "stdout",
     "output_type": "stream",
     "text": [
      "Found 60 relevant intial configurations from warmstarter.\n",
      "Truncated n_evaluations: 100\n",
      "{'cutoff_time': 20, 'cs': Configuration space object:\n",
      "  Hyperparameters:\n",
      "    affinity___AffinityPropagation, Type: Categorical, Choices: {euclidean}, Default: euclidean\n",
      "    affinity___AgglomerativeClustering, Type: Categorical, Choices: {euclidean, cityblock, l2, l1, manhattan, cosine}, Default: euclidean\n",
      "    affinity___SpectralClustering, Type: Categorical, Choices: {nearest_neighbors, poly, sigmoid, laplacian, rbf}, Default: rbf\n",
      "    algorithm___FastICA, Type: Categorical, Choices: {parallel, deflation}, Default: parallel\n",
      "    algorithm___TruncatedSVD, Type: Categorical, Choices: {arpack, randomized}, Default: randomized\n",
      "    assign_labels___SpectralClustering, Type: Categorical, Choices: {kmeans, discretize}, Default: kmeans\n",
      "    bandwidth___MeanShift, Type: UniformFloat, Range: [0.1, 50.0], Default: 25.05\n",
      "    batch_size___IncrementalPCA, Type: UniformInteger, Range: [10, 1000], Default: 100\n",
      "    batch_size___MiniBatchKMeans, Type: UniformInteger, Range: [10, 1000], Default: 100\n",
      "    bin_seeding___MeanShift, Type: Categorical, Choices: {True, False}, Default: False\n",
      "    branching_factor___Birch, Type: UniformInteger, Range: [10, 1000], Default: 50\n",
      "    cluster_method___OPTICS, Type: Categorical, Choices: {xi, dbscan}, Default: xi\n",
      "    clustering_choice, Type: Categorical, Choices: {KMeans, GaussianMixture, Birch, MiniBatchKMeans, AgglomerativeClustering, OPTICS, SpectralClustering, DBSCAN, AffinityPropagation, MeanShift}, Default: KMeans\n",
      "    covariance_type___GaussianMixture, Type: Categorical, Choices: {full, tied, diag, spherical}, Default: full\n",
      "    damping___AffinityPropagation, Type: UniformFloat, Range: [0.5, 1.0], Default: 0.5\n",
      "    dim_reduction_choice, Type: Categorical, Choices: {TSNE, PCA, IncrementalPCA, KernelPCA, FastICA, TruncatedSVD}, Default: TSNE\n",
      "    early_exaggeration___TSNE, Type: UniformFloat, Range: [5.0, 20.0], Default: 12.0\n",
      "    eigen_solver___SpectralClustering, Type: Categorical, Choices: {arpack}, Default: arpack\n",
      "    eps___DBSCAN, Type: UniformFloat, Range: [0.01, 5.0], Default: 0.01\n",
      "    fun___FastICA, Type: Categorical, Choices: {logcosh, exp, cube}, Default: logcosh\n",
      "    init_params___GaussianMixture, Type: Categorical, Choices: {kmeans, random}, Default: kmeans\n",
      "    kernel___KernelPCA, Type: Categorical, Choices: {linear, poly, rbf, sigmoid, cosine}, Default: linear\n",
      "    linkage___AgglomerativeClustering, Type: Categorical, Choices: {ward, complete, average, single}, Default: complete\n",
      "    metric___OPTICS, Type: Categorical, Choices: {minkowski, euclidean, manhattan, l1, l2, cosine}, Default: minkowski\n",
      "    min_samples___DBSCAN, Type: UniformInteger, Range: [5, 100], Default: 5\n",
      "    min_samples___OPTICS, Type: UniformInteger, Range: [5, 1000], Default: 100\n",
      "    n_clusters___AgglomerativeClustering, Type: UniformInteger, Range: [1, 80], Default: 10\n",
      "    n_clusters___Birch, Type: UniformInteger, Range: [1, 80], Default: 5\n",
      "    n_clusters___KMeans, Type: UniformInteger, Range: [1, 80], Default: 5\n",
      "    n_clusters___MiniBatchKMeans, Type: UniformInteger, Range: [1, 80], Default: 10\n",
      "    n_clusters___SpectralClustering, Type: UniformInteger, Range: [1, 80], Default: 10\n",
      "    n_components___FastICA, Type: Ordinal, Sequence: {2, 3}, Default: 2\n",
      "    n_components___GaussianMixture, Type: UniformInteger, Range: [1, 80], Default: 5\n",
      "    n_components___IncrementalPCA, Type: Ordinal, Sequence: {2, 3}, Default: 2\n",
      "    n_components___KernelPCA, Type: Ordinal, Sequence: {2, 3, 4, 5, 6, 7, 8, 9}, Default: 2\n",
      "    n_components___PCA, Type: Ordinal, Sequence: {2, 3}, Default: 2\n",
      "    n_components___TSNE, Type: Ordinal, Sequence: {2}, Default: 2\n",
      "    n_components___TruncatedSVD, Type: Ordinal, Sequence: {2, 3, 4, 5, 6, 7, 8, 9}, Default: 2\n",
      "    perplexity___TSNE, Type: UniformFloat, Range: [1.0, 300.0], Default: 30.0\n",
      "    svd_solver___PCA, Type: Categorical, Choices: {auto, full, arpack, randomized}, Default: auto\n",
      "    warm_start___GaussianMixture, Type: Categorical, Choices: {True, False}, Default: False\n",
      "    whiten___FastICA, Type: Categorical, Choices: {True, False}, Default: True\n",
      "    whiten___IncrementalPCA, Type: Categorical, Choices: {True, False}, Default: False\n",
      "    whiten___PCA, Type: Categorical, Choices: {True, False}, Default: False\n",
      "  Conditions:\n",
      "    affinity___AffinityPropagation | clustering_choice in {'AffinityPropagation'}\n",
      "    affinity___AgglomerativeClustering | clustering_choice in {'AgglomerativeClustering'}\n",
      "    affinity___SpectralClustering | clustering_choice in {'SpectralClustering'}\n",
      "    algorithm___FastICA | dim_reduction_choice in {'FastICA'}\n",
      "    algorithm___TruncatedSVD | dim_reduction_choice in {'TruncatedSVD'}\n",
      "    assign_labels___SpectralClustering | clustering_choice in {'SpectralClustering'}\n",
      "    bandwidth___MeanShift | clustering_choice in {'MeanShift'}\n",
      "    batch_size___IncrementalPCA | dim_reduction_choice in {'IncrementalPCA'}\n",
      "    batch_size___MiniBatchKMeans | clustering_choice in {'MiniBatchKMeans'}\n",
      "    bin_seeding___MeanShift | clustering_choice in {'MeanShift'}\n",
      "    branching_factor___Birch | clustering_choice in {'Birch'}\n",
      "    cluster_method___OPTICS | clustering_choice in {'OPTICS'}\n",
      "    covariance_type___GaussianMixture | clustering_choice in {'GaussianMixture'}\n",
      "    damping___AffinityPropagation | clustering_choice in {'AffinityPropagation'}\n",
      "    early_exaggeration___TSNE | dim_reduction_choice in {'TSNE'}\n",
      "    eigen_solver___SpectralClustering | clustering_choice in {'SpectralClustering'}\n",
      "    eps___DBSCAN | clustering_choice in {'DBSCAN'}\n",
      "    fun___FastICA | dim_reduction_choice in {'FastICA'}\n",
      "    init_params___GaussianMixture | clustering_choice in {'GaussianMixture'}\n",
      "    kernel___KernelPCA | dim_reduction_choice in {'KernelPCA'}\n",
      "    linkage___AgglomerativeClustering | clustering_choice in {'AgglomerativeClustering'}\n",
      "    metric___OPTICS | clustering_choice in {'OPTICS'}\n",
      "    min_samples___DBSCAN | clustering_choice in {'DBSCAN'}\n",
      "    min_samples___OPTICS | clustering_choice in {'OPTICS'}\n",
      "    n_clusters___AgglomerativeClustering | clustering_choice in {'AgglomerativeClustering'}\n",
      "    n_clusters___Birch | clustering_choice in {'Birch'}\n",
      "    n_clusters___KMeans | clustering_choice in {'KMeans'}\n",
      "    n_clusters___MiniBatchKMeans | clustering_choice in {'MiniBatchKMeans'}\n",
      "    n_clusters___SpectralClustering | clustering_choice in {'SpectralClustering'}\n",
      "    n_components___FastICA | dim_reduction_choice in {'FastICA'}\n",
      "    n_components___GaussianMixture | clustering_choice in {'GaussianMixture'}\n",
      "    n_components___IncrementalPCA | dim_reduction_choice in {'IncrementalPCA'}\n",
      "    n_components___KernelPCA | dim_reduction_choice in {'KernelPCA'}\n",
      "    n_components___PCA | dim_reduction_choice in {'PCA'}\n",
      "    n_components___TSNE | dim_reduction_choice in {'TSNE'}\n",
      "    n_components___TruncatedSVD | dim_reduction_choice in {'TruncatedSVD'}\n",
      "    perplexity___TSNE | dim_reduction_choice in {'TSNE'}\n",
      "    svd_solver___PCA | dim_reduction_choice in {'PCA'}\n",
      "    warm_start___GaussianMixture | clustering_choice in {'GaussianMixture'}\n",
      "    whiten___FastICA | dim_reduction_choice in {'FastICA'}\n",
      "    whiten___IncrementalPCA | dim_reduction_choice in {'IncrementalPCA'}\n",
      "    whiten___PCA | dim_reduction_choice in {'PCA'}\n",
      "  Forbidden Clauses:\n",
      "    (Forbidden: linkage___AgglomerativeClustering == 'ward' && Forbidden: affinity___AgglomerativeClustering in {'cityblock', 'cosine', 'l1', 'l2', 'manhattan'})\n",
      ", 'deterministic': 'true', 'output_dir': 'log//smac-2019-07-29_14-04-25-61950', 'abort_on_first_run_crash': False, 'runcount-limit': 100, 'run_obj': 'quality'}\n",
      "Fitting configuration: \n",
      "{'clustering_choice': 'KMeans', 'kernel___KernelPCA': 'poly', 'dim_reduction_choice': 'KernelPCA', 'n_clusters___KMeans': 4, 'n_components___KernelPCA': 2}\n",
      "Score obtained by this configuration: inf\n"
     ]
    },
    {
     "name": "stderr",
     "output_type": "stream",
     "text": [
      "WARNING:smac.tae.execute_func.ExecuteTAFuncDict:Target Algorithm returned NaN or inf as quality. Algorithm run is treated as CRASHED, cost is set to 2147483647.0 for quality scenarios. (Change value through \"cost_for_crash\"-option.)\n"
     ]
    },
    {
     "name": "stdout",
     "output_type": "stream",
     "text": [
      "Fitting configuration: \n",
      "{'clustering_choice': 'Birch', 'dim_reduction_choice': 'KernelPCA', 'n_components___KernelPCA': 2, 'branching_factor___Birch': 10, 'kernel___KernelPCA': 'poly', 'n_clusters___Birch': 5}\n"
     ]
    },
    {
     "name": "stderr",
     "output_type": "stream",
     "text": [
      "/home/coffeetumbler/anaconda3/envs/automl/lib/python3.5/site-packages/sklearn/cluster/birch.py:627: ConvergenceWarning: Number of subclusters found (3) by Birch is less than (5). Decrease the threshold.\n",
      "  % (len(centroids), self.n_clusters), ConvergenceWarning)\n",
      "/home/coffeetumbler/anaconda3/envs/automl/lib/python3.5/site-packages/sklearn/cluster/birch.py:627: ConvergenceWarning: Number of subclusters found (1) by Birch is less than (5). Decrease the threshold.\n",
      "  % (len(centroids), self.n_clusters), ConvergenceWarning)\n"
     ]
    },
    {
     "name": "stdout",
     "output_type": "stream",
     "text": [
      "Score obtained by this configuration: inf\n"
     ]
    },
    {
     "name": "stderr",
     "output_type": "stream",
     "text": [
      "WARNING:smac.tae.execute_func.ExecuteTAFuncDict:Target Algorithm returned NaN or inf as quality. Algorithm run is treated as CRASHED, cost is set to 2147483647.0 for quality scenarios. (Change value through \"cost_for_crash\"-option.)\n"
     ]
    },
    {
     "name": "stdout",
     "output_type": "stream",
     "text": [
      "Fitting configuration: \n",
      "{'clustering_choice': 'Birch', 'dim_reduction_choice': 'KernelPCA', 'n_components___KernelPCA': 2, 'branching_factor___Birch': 32, 'kernel___KernelPCA': 'poly', 'n_clusters___Birch': 5}\n"
     ]
    },
    {
     "name": "stderr",
     "output_type": "stream",
     "text": [
      "/home/coffeetumbler/anaconda3/envs/automl/lib/python3.5/site-packages/sklearn/cluster/birch.py:627: ConvergenceWarning: Number of subclusters found (3) by Birch is less than (5). Decrease the threshold.\n",
      "  % (len(centroids), self.n_clusters), ConvergenceWarning)\n",
      "/home/coffeetumbler/anaconda3/envs/automl/lib/python3.5/site-packages/sklearn/cluster/birch.py:627: ConvergenceWarning: Number of subclusters found (1) by Birch is less than (5). Decrease the threshold.\n",
      "  % (len(centroids), self.n_clusters), ConvergenceWarning)\n"
     ]
    },
    {
     "name": "stdout",
     "output_type": "stream",
     "text": [
      "Score obtained by this configuration: inf\n"
     ]
    },
    {
     "name": "stderr",
     "output_type": "stream",
     "text": [
      "WARNING:smac.tae.execute_func.ExecuteTAFuncDict:Target Algorithm returned NaN or inf as quality. Algorithm run is treated as CRASHED, cost is set to 2147483647.0 for quality scenarios. (Change value through \"cost_for_crash\"-option.)\n"
     ]
    },
    {
     "name": "stdout",
     "output_type": "stream",
     "text": [
      "Fitting configuration: \n",
      "{'clustering_choice': 'Birch', 'dim_reduction_choice': 'KernelPCA', 'n_components___KernelPCA': 2, 'branching_factor___Birch': 64, 'kernel___KernelPCA': 'poly', 'n_clusters___Birch': 5}\n"
     ]
    },
    {
     "name": "stderr",
     "output_type": "stream",
     "text": [
      "/home/coffeetumbler/anaconda3/envs/automl/lib/python3.5/site-packages/sklearn/cluster/birch.py:627: ConvergenceWarning: Number of subclusters found (3) by Birch is less than (5). Decrease the threshold.\n",
      "  % (len(centroids), self.n_clusters), ConvergenceWarning)\n",
      "/home/coffeetumbler/anaconda3/envs/automl/lib/python3.5/site-packages/sklearn/cluster/birch.py:627: ConvergenceWarning: Number of subclusters found (1) by Birch is less than (5). Decrease the threshold.\n",
      "  % (len(centroids), self.n_clusters), ConvergenceWarning)\n"
     ]
    },
    {
     "name": "stdout",
     "output_type": "stream",
     "text": [
      "Score obtained by this configuration: inf\n"
     ]
    },
    {
     "name": "stderr",
     "output_type": "stream",
     "text": [
      "WARNING:smac.tae.execute_func.ExecuteTAFuncDict:Target Algorithm returned NaN or inf as quality. Algorithm run is treated as CRASHED, cost is set to 2147483647.0 for quality scenarios. (Change value through \"cost_for_crash\"-option.)\n"
     ]
    },
    {
     "name": "stdout",
     "output_type": "stream",
     "text": [
      "Fitting configuration: \n",
      "{'clustering_choice': 'Birch', 'dim_reduction_choice': 'KernelPCA', 'n_components___KernelPCA': 2, 'branching_factor___Birch': 10, 'kernel___KernelPCA': 'poly', 'n_clusters___Birch': 6}\n"
     ]
    },
    {
     "name": "stderr",
     "output_type": "stream",
     "text": [
      "/home/coffeetumbler/anaconda3/envs/automl/lib/python3.5/site-packages/sklearn/cluster/birch.py:627: ConvergenceWarning: Number of subclusters found (3) by Birch is less than (6). Decrease the threshold.\n",
      "  % (len(centroids), self.n_clusters), ConvergenceWarning)\n",
      "/home/coffeetumbler/anaconda3/envs/automl/lib/python3.5/site-packages/sklearn/cluster/birch.py:627: ConvergenceWarning: Number of subclusters found (1) by Birch is less than (6). Decrease the threshold.\n",
      "  % (len(centroids), self.n_clusters), ConvergenceWarning)\n"
     ]
    },
    {
     "name": "stdout",
     "output_type": "stream",
     "text": [
      "Score obtained by this configuration: inf\n"
     ]
    },
    {
     "name": "stderr",
     "output_type": "stream",
     "text": [
      "WARNING:smac.tae.execute_func.ExecuteTAFuncDict:Target Algorithm returned NaN or inf as quality. Algorithm run is treated as CRASHED, cost is set to 2147483647.0 for quality scenarios. (Change value through \"cost_for_crash\"-option.)\n"
     ]
    },
    {
     "name": "stdout",
     "output_type": "stream",
     "text": [
      "Fitting configuration: \n",
      "{'clustering_choice': 'SpectralClustering', 'affinity___SpectralClustering': 'laplacian', 'dim_reduction_choice': 'KernelPCA', 'n_components___KernelPCA': 2, 'assign_labels___SpectralClustering': 'kmeans', 'n_clusters___SpectralClustering': 9, 'kernel___KernelPCA': 'poly', 'eigen_solver___SpectralClustering': 'arpack'}\n",
      "Score obtained by this configuration: inf\n"
     ]
    },
    {
     "name": "stderr",
     "output_type": "stream",
     "text": [
      "WARNING:smac.tae.execute_func.ExecuteTAFuncDict:Target Algorithm returned NaN or inf as quality. Algorithm run is treated as CRASHED, cost is set to 2147483647.0 for quality scenarios. (Change value through \"cost_for_crash\"-option.)\n"
     ]
    },
    {
     "name": "stdout",
     "output_type": "stream",
     "text": [
      "Fitting configuration: \n",
      "{'clustering_choice': 'SpectralClustering', 'affinity___SpectralClustering': 'laplacian', 'dim_reduction_choice': 'KernelPCA', 'n_components___KernelPCA': 2, 'assign_labels___SpectralClustering': 'kmeans', 'n_clusters___SpectralClustering': 11, 'kernel___KernelPCA': 'poly', 'eigen_solver___SpectralClustering': 'arpack'}\n",
      "Score obtained by this configuration: inf\n"
     ]
    },
    {
     "name": "stderr",
     "output_type": "stream",
     "text": [
      "WARNING:smac.tae.execute_func.ExecuteTAFuncDict:Target Algorithm returned NaN or inf as quality. Algorithm run is treated as CRASHED, cost is set to 2147483647.0 for quality scenarios. (Change value through \"cost_for_crash\"-option.)\n"
     ]
    },
    {
     "name": "stdout",
     "output_type": "stream",
     "text": [
      "Fitting configuration: \n",
      "{'clustering_choice': 'SpectralClustering', 'affinity___SpectralClustering': 'laplacian', 'dim_reduction_choice': 'KernelPCA', 'n_components___KernelPCA': 2, 'assign_labels___SpectralClustering': 'discretize', 'n_clusters___SpectralClustering': 13, 'kernel___KernelPCA': 'poly', 'eigen_solver___SpectralClustering': 'arpack'}\n",
      "Score obtained by this configuration: inf\n"
     ]
    },
    {
     "name": "stderr",
     "output_type": "stream",
     "text": [
      "WARNING:smac.tae.execute_func.ExecuteTAFuncDict:Target Algorithm returned NaN or inf as quality. Algorithm run is treated as CRASHED, cost is set to 2147483647.0 for quality scenarios. (Change value through \"cost_for_crash\"-option.)\n"
     ]
    },
    {
     "name": "stdout",
     "output_type": "stream",
     "text": [
      "Fitting configuration: \n",
      "{'clustering_choice': 'OPTICS', 'dim_reduction_choice': 'KernelPCA', 'metric___OPTICS': 'l1', 'min_samples___OPTICS': 787, 'cluster_method___OPTICS': 'dbscan', 'kernel___KernelPCA': 'poly', 'n_components___KernelPCA': 4}\n"
     ]
    },
    {
     "name": "stderr",
     "output_type": "stream",
     "text": [
      "Process pynisher function call:\n",
      "Traceback (most recent call last):\n",
      "  File \"/home/coffeetumbler/anaconda3/envs/automl/lib/python3.5/multiprocessing/process.py\", line 252, in _bootstrap\n",
      "    self.run()\n",
      "  File \"/home/coffeetumbler/anaconda3/envs/automl/lib/python3.5/multiprocessing/process.py\", line 93, in run\n",
      "    self._target(*self._args, **self._kwargs)\n",
      "  File \"/home/coffeetumbler/anaconda3/envs/automl/lib/python3.5/site-packages/pynisher/limit_function_call.py\", line 93, in subprocess_func\n",
      "    return_value = ((func(*args, **kwargs), 0))\n",
      "  File \"/home/coffeetumbler/automl_2019/autocluster/autocluster.py\", line 249, in evaluate_model\n",
      "    y_pred = clustering_model.fit_predict(compressed_valid_data)\n",
      "  File \"/home/coffeetumbler/anaconda3/envs/automl/lib/python3.5/site-packages/sklearn/base.py\", line 447, in fit_predict\n",
      "    self.fit(X)\n",
      "  File \"/home/coffeetumbler/anaconda3/envs/automl/lib/python3.5/site-packages/sklearn/cluster/optics_.py\", line 248, in fit\n",
      "    max_eps=self.max_eps)\n",
      "  File \"/home/coffeetumbler/anaconda3/envs/automl/lib/python3.5/site-packages/sklearn/cluster/optics_.py\", line 438, in compute_optics_graph\n",
      "    _validate_size(min_samples, n_samples, 'min_samples')\n",
      "  File \"/home/coffeetumbler/anaconda3/envs/automl/lib/python3.5/site-packages/sklearn/cluster/optics_.py\", line 290, in _validate_size\n",
      "    (param_name, n_samples, size))\n",
      "ValueError: min_samples must be no greater than the number of samples (473). Got 787\n"
     ]
    },
    {
     "name": "stdout",
     "output_type": "stream",
     "text": [
      "Fitting configuration: \n",
      "{'clustering_choice': 'SpectralClustering', 'affinity___SpectralClustering': 'laplacian', 'dim_reduction_choice': 'KernelPCA', 'n_components___KernelPCA': 7, 'assign_labels___SpectralClustering': 'kmeans', 'n_clusters___SpectralClustering': 10, 'kernel___KernelPCA': 'poly', 'eigen_solver___SpectralClustering': 'arpack'}\n",
      "Score obtained by this configuration: inf\n"
     ]
    },
    {
     "name": "stderr",
     "output_type": "stream",
     "text": [
      "WARNING:smac.tae.execute_func.ExecuteTAFuncDict:Target Algorithm returned NaN or inf as quality. Algorithm run is treated as CRASHED, cost is set to 2147483647.0 for quality scenarios. (Change value through \"cost_for_crash\"-option.)\n"
     ]
    },
    {
     "name": "stdout",
     "output_type": "stream",
     "text": [
      "Fitting configuration: \n",
      "{'clustering_choice': 'Birch', 'dim_reduction_choice': 'KernelPCA', 'n_components___KernelPCA': 5, 'branching_factor___Birch': 83, 'kernel___KernelPCA': 'poly', 'n_clusters___Birch': 9}\n"
     ]
    },
    {
     "name": "stderr",
     "output_type": "stream",
     "text": [
      "/home/coffeetumbler/anaconda3/envs/automl/lib/python3.5/site-packages/sklearn/cluster/birch.py:627: ConvergenceWarning: Number of subclusters found (3) by Birch is less than (9). Decrease the threshold.\n",
      "  % (len(centroids), self.n_clusters), ConvergenceWarning)\n"
     ]
    },
    {
     "name": "stdout",
     "output_type": "stream",
     "text": [
      "Score obtained by this configuration: inf\n"
     ]
    },
    {
     "name": "stderr",
     "output_type": "stream",
     "text": [
      "WARNING:smac.tae.execute_func.ExecuteTAFuncDict:Target Algorithm returned NaN or inf as quality. Algorithm run is treated as CRASHED, cost is set to 2147483647.0 for quality scenarios. (Change value through \"cost_for_crash\"-option.)\n"
     ]
    },
    {
     "name": "stdout",
     "output_type": "stream",
     "text": [
      "Fitting configuration: \n",
      "{'clustering_choice': 'AgglomerativeClustering', 'dim_reduction_choice': 'KernelPCA', 'affinity___AgglomerativeClustering': 'l2', 'kernel___KernelPCA': 'poly', 'linkage___AgglomerativeClustering': 'average', 'n_clusters___AgglomerativeClustering': 15, 'n_components___KernelPCA': 8}\n",
      "Score obtained by this configuration: inf\n"
     ]
    },
    {
     "name": "stderr",
     "output_type": "stream",
     "text": [
      "WARNING:smac.tae.execute_func.ExecuteTAFuncDict:Target Algorithm returned NaN or inf as quality. Algorithm run is treated as CRASHED, cost is set to 2147483647.0 for quality scenarios. (Change value through \"cost_for_crash\"-option.)\n"
     ]
    },
    {
     "name": "stdout",
     "output_type": "stream",
     "text": [
      "Fitting configuration: \n",
      "{'clustering_choice': 'KMeans', 'kernel___KernelPCA': 'poly', 'dim_reduction_choice': 'KernelPCA', 'n_clusters___KMeans': 15, 'n_components___KernelPCA': 2}\n",
      "Score obtained by this configuration: inf\n"
     ]
    },
    {
     "name": "stderr",
     "output_type": "stream",
     "text": [
      "WARNING:smac.tae.execute_func.ExecuteTAFuncDict:Target Algorithm returned NaN or inf as quality. Algorithm run is treated as CRASHED, cost is set to 2147483647.0 for quality scenarios. (Change value through \"cost_for_crash\"-option.)\n"
     ]
    },
    {
     "name": "stdout",
     "output_type": "stream",
     "text": [
      "Fitting configuration: \n",
      "{'clustering_choice': 'Birch', 'dim_reduction_choice': 'PCA', 'branching_factor___Birch': 50, 'svd_solver___PCA': 'auto', 'n_clusters___Birch': 3, 'n_components___PCA': 2}\n",
      "Score obtained by this configuration: 0.07380313945402354\n",
      "Fitting configuration: \n",
      "{'clustering_choice': 'MiniBatchKMeans', 'n_components___TSNE': 2, 'dim_reduction_choice': 'TSNE', 'early_exaggeration___TSNE': 6.112145599966696, 'batch_size___MiniBatchKMeans': 773, 'perplexity___TSNE': 250.7576475481927, 'n_clusters___MiniBatchKMeans': 10}\n",
      "Fitting configuration: \n",
      "{'clustering_choice': 'SpectralClustering', 'affinity___SpectralClustering': 'rbf', 'dim_reduction_choice': 'TSNE', 'early_exaggeration___TSNE': 12.86122333165967, 'n_clusters___SpectralClustering': 3, 'assign_labels___SpectralClustering': 'kmeans', 'perplexity___TSNE': 237.68038043104409, 'eigen_solver___SpectralClustering': 'arpack', 'n_components___TSNE': 2}\n",
      "Fitting configuration: \n",
      "{'clustering_choice': 'MiniBatchKMeans', 'n_components___TSNE': 2, 'dim_reduction_choice': 'TSNE', 'early_exaggeration___TSNE': 5.92345241675155, 'batch_size___MiniBatchKMeans': 891, 'perplexity___TSNE': 234.05607785844984, 'n_clusters___MiniBatchKMeans': 20}\n",
      "Fitting configuration: \n",
      "{'clustering_choice': 'KMeans', 'fun___FastICA': 'cube', 'dim_reduction_choice': 'FastICA', 'whiten___FastICA': True, 'n_components___FastICA': 2, 'n_clusters___KMeans': 3, 'algorithm___FastICA': 'parallel'}\n",
      "Score obtained by this configuration: 0.06396053175865588\n",
      "Fitting configuration: \n",
      "{'clustering_choice': 'DBSCAN', 'dim_reduction_choice': 'TruncatedSVD', 'algorithm___TruncatedSVD': 'randomized', 'eps___DBSCAN': 3.3348244742189315, 'n_components___TruncatedSVD': 3, 'min_samples___DBSCAN': 74}\n",
      "Score obtained by this configuration: 0.09360829955102584\n",
      "Fitting configuration: \n",
      "{'clustering_choice': 'OPTICS', 'dim_reduction_choice': 'KernelPCA', 'metric___OPTICS': 'minkowski', 'min_samples___OPTICS': 788, 'cluster_method___OPTICS': 'xi', 'kernel___KernelPCA': 'poly', 'n_components___KernelPCA': 7}\n"
     ]
    },
    {
     "name": "stderr",
     "output_type": "stream",
     "text": [
      "Process pynisher function call:\n",
      "Traceback (most recent call last):\n",
      "  File \"/home/coffeetumbler/anaconda3/envs/automl/lib/python3.5/multiprocessing/process.py\", line 252, in _bootstrap\n",
      "    self.run()\n",
      "  File \"/home/coffeetumbler/anaconda3/envs/automl/lib/python3.5/multiprocessing/process.py\", line 93, in run\n",
      "    self._target(*self._args, **self._kwargs)\n",
      "  File \"/home/coffeetumbler/anaconda3/envs/automl/lib/python3.5/site-packages/pynisher/limit_function_call.py\", line 93, in subprocess_func\n",
      "    return_value = ((func(*args, **kwargs), 0))\n",
      "  File \"/home/coffeetumbler/automl_2019/autocluster/autocluster.py\", line 249, in evaluate_model\n",
      "    y_pred = clustering_model.fit_predict(compressed_valid_data)\n",
      "  File \"/home/coffeetumbler/anaconda3/envs/automl/lib/python3.5/site-packages/sklearn/base.py\", line 447, in fit_predict\n",
      "    self.fit(X)\n",
      "  File \"/home/coffeetumbler/anaconda3/envs/automl/lib/python3.5/site-packages/sklearn/cluster/optics_.py\", line 248, in fit\n",
      "    max_eps=self.max_eps)\n",
      "  File \"/home/coffeetumbler/anaconda3/envs/automl/lib/python3.5/site-packages/sklearn/cluster/optics_.py\", line 438, in compute_optics_graph\n",
      "    _validate_size(min_samples, n_samples, 'min_samples')\n",
      "  File \"/home/coffeetumbler/anaconda3/envs/automl/lib/python3.5/site-packages/sklearn/cluster/optics_.py\", line 290, in _validate_size\n",
      "    (param_name, n_samples, size))\n",
      "ValueError: min_samples must be no greater than the number of samples (473). Got 788\n"
     ]
    },
    {
     "name": "stdout",
     "output_type": "stream",
     "text": [
      "Fitting configuration: \n",
      "{'clustering_choice': 'KMeans', 'kernel___KernelPCA': 'cosine', 'dim_reduction_choice': 'KernelPCA', 'n_clusters___KMeans': 29, 'n_components___KernelPCA': 3}\n",
      "Score obtained by this configuration: 0.07499428785919333\n",
      "Fitting configuration: \n",
      "{'clustering_choice': 'AffinityPropagation', 'dim_reduction_choice': 'KernelPCA', 'damping___AffinityPropagation': 0.8279287395007919, 'n_components___KernelPCA': 3, 'kernel___KernelPCA': 'cosine', 'affinity___AffinityPropagation': 'euclidean'}\n",
      "Score obtained by this configuration: 0.078042023058217\n",
      "Fitting configuration: \n",
      "{'clustering_choice': 'MiniBatchKMeans', 'dim_reduction_choice': 'KernelPCA', 'n_components___KernelPCA': 2, 'batch_size___MiniBatchKMeans': 668, 'kernel___KernelPCA': 'cosine', 'n_clusters___MiniBatchKMeans': 9}\n",
      "Score obtained by this configuration: 0.0677170173274766\n",
      "Fitting configuration: \n",
      "{'clustering_choice': 'MiniBatchKMeans', 'dim_reduction_choice': 'KernelPCA', 'n_components___KernelPCA': 3, 'batch_size___MiniBatchKMeans': 362, 'kernel___KernelPCA': 'cosine', 'n_clusters___MiniBatchKMeans': 29}\n",
      "Score obtained by this configuration: 0.07799341351438285\n",
      "Fitting configuration: \n",
      "{'clustering_choice': 'MiniBatchKMeans', 'dim_reduction_choice': 'KernelPCA', 'n_components___KernelPCA': 3, 'batch_size___MiniBatchKMeans': 190, 'kernel___KernelPCA': 'cosine', 'n_clusters___MiniBatchKMeans': 22}\n",
      "Score obtained by this configuration: 0.07798316847126516\n",
      "Fitting configuration: \n",
      "{'clustering_choice': 'GaussianMixture', 'covariance_type___GaussianMixture': 'tied', 'dim_reduction_choice': 'KernelPCA', 'n_components___KernelPCA': 3, 'init_params___GaussianMixture': 'kmeans', 'kernel___KernelPCA': 'cosine', 'n_components___GaussianMixture': 8}\n",
      "Score obtained by this configuration: 0.07346053099750303\n",
      "Fitting configuration: \n",
      "{'clustering_choice': 'MiniBatchKMeans', 'dim_reduction_choice': 'KernelPCA', 'n_components___KernelPCA': 7, 'batch_size___MiniBatchKMeans': 154, 'kernel___KernelPCA': 'cosine', 'n_clusters___MiniBatchKMeans': 9}\n",
      "Score obtained by this configuration: 0.0852063924709609\n",
      "Fitting configuration: \n",
      "{'clustering_choice': 'SpectralClustering', 'affinity___SpectralClustering': 'poly', 'dim_reduction_choice': 'KernelPCA', 'n_components___KernelPCA': 2, 'assign_labels___SpectralClustering': 'kmeans', 'n_clusters___SpectralClustering': 10, 'kernel___KernelPCA': 'cosine', 'eigen_solver___SpectralClustering': 'arpack'}\n",
      "Score obtained by this configuration: 0.06695622597274714\n",
      "Fitting configuration: \n",
      "{'clustering_choice': 'KMeans', 'kernel___KernelPCA': 'cosine', 'dim_reduction_choice': 'KernelPCA', 'n_clusters___KMeans': 12, 'n_components___KernelPCA': 2}\n",
      "Score obtained by this configuration: 0.0649831937425538\n",
      "Fitting configuration: \n",
      "{'clustering_choice': 'GaussianMixture', 'covariance_type___GaussianMixture': 'diag', 'dim_reduction_choice': 'TruncatedSVD', 'n_components___GaussianMixture': 9, 'init_params___GaussianMixture': 'kmeans', 'algorithm___TruncatedSVD': 'arpack', 'n_components___TruncatedSVD': 5}\n",
      "Score obtained by this configuration: 0.08228970413133932\n",
      "Fitting configuration: \n",
      "{'clustering_choice': 'MiniBatchKMeans', 'dim_reduction_choice': 'KernelPCA', 'n_components___KernelPCA': 3, 'batch_size___MiniBatchKMeans': 144, 'kernel___KernelPCA': 'cosine', 'n_clusters___MiniBatchKMeans': 11}\n",
      "Score obtained by this configuration: 0.07524528444718552\n",
      "Fitting configuration: \n",
      "{'clustering_choice': 'MiniBatchKMeans', 'dim_reduction_choice': 'KernelPCA', 'n_components___KernelPCA': 3, 'batch_size___MiniBatchKMeans': 182, 'kernel___KernelPCA': 'cosine', 'n_clusters___MiniBatchKMeans': 23}\n",
      "Score obtained by this configuration: 0.07806107200701713\n",
      "Fitting configuration: \n",
      "{'clustering_choice': 'GaussianMixture', 'covariance_type___GaussianMixture': 'tied', 'dim_reduction_choice': 'KernelPCA', 'n_components___KernelPCA': 3, 'init_params___GaussianMixture': 'kmeans', 'kernel___KernelPCA': 'cosine', 'n_components___GaussianMixture': 5}\n",
      "Score obtained by this configuration: 0.07784265786254538\n",
      "Fitting configuration: \n",
      "{'clustering_choice': 'SpectralClustering', 'affinity___SpectralClustering': 'poly', 'dim_reduction_choice': 'IncrementalPCA', 'n_clusters___SpectralClustering': 1, 'assign_labels___SpectralClustering': 'kmeans', 'n_components___IncrementalPCA': 3, 'whiten___IncrementalPCA': True, 'eigen_solver___SpectralClustering': 'arpack', 'batch_size___IncrementalPCA': 780}\n",
      "Score obtained by this configuration: inf\n"
     ]
    },
    {
     "name": "stderr",
     "output_type": "stream",
     "text": [
      "WARNING:smac.tae.execute_func.ExecuteTAFuncDict:Target Algorithm returned NaN or inf as quality. Algorithm run is treated as CRASHED, cost is set to 2147483647.0 for quality scenarios. (Change value through \"cost_for_crash\"-option.)\n"
     ]
    },
    {
     "name": "stdout",
     "output_type": "stream",
     "text": [
      "Fitting configuration: \n",
      "{'clustering_choice': 'GaussianMixture', 'covariance_type___GaussianMixture': 'diag', 'dim_reduction_choice': 'KernelPCA', 'n_components___KernelPCA': 3, 'init_params___GaussianMixture': 'kmeans', 'kernel___KernelPCA': 'cosine', 'n_components___GaussianMixture': 4}\n",
      "Score obtained by this configuration: 0.07732289623676743\n",
      "Fitting configuration: \n",
      "{'clustering_choice': 'AgglomerativeClustering', 'dim_reduction_choice': 'KernelPCA', 'affinity___AgglomerativeClustering': 'euclidean', 'kernel___KernelPCA': 'cosine', 'linkage___AgglomerativeClustering': 'ward', 'n_clusters___AgglomerativeClustering': 28, 'n_components___KernelPCA': 3}\n",
      "Score obtained by this configuration: 0.07544928254272905\n",
      "Fitting configuration: \n",
      "{'clustering_choice': 'GaussianMixture', 'covariance_type___GaussianMixture': 'diag', 'dim_reduction_choice': 'TruncatedSVD', 'n_components___GaussianMixture': 6, 'init_params___GaussianMixture': 'random', 'algorithm___TruncatedSVD': 'randomized', 'warm_start___GaussianMixture': True, 'n_components___TruncatedSVD': 8}\n",
      "Score obtained by this configuration: 0.09365734481784586\n",
      "Fitting configuration: \n",
      "{'clustering_choice': 'Birch', 'dim_reduction_choice': 'KernelPCA', 'n_components___KernelPCA': 2, 'branching_factor___Birch': 385, 'kernel___KernelPCA': 'cosine', 'n_clusters___Birch': 12}\n"
     ]
    },
    {
     "name": "stderr",
     "output_type": "stream",
     "text": [
      "/home/coffeetumbler/anaconda3/envs/automl/lib/python3.5/site-packages/sklearn/cluster/birch.py:627: ConvergenceWarning: Number of subclusters found (2) by Birch is less than (12). Decrease the threshold.\n",
      "  % (len(centroids), self.n_clusters), ConvergenceWarning)\n",
      "/home/coffeetumbler/anaconda3/envs/automl/lib/python3.5/site-packages/sklearn/cluster/birch.py:627: ConvergenceWarning: Number of subclusters found (2) by Birch is less than (12). Decrease the threshold.\n",
      "  % (len(centroids), self.n_clusters), ConvergenceWarning)\n",
      "/home/coffeetumbler/anaconda3/envs/automl/lib/python3.5/site-packages/sklearn/cluster/birch.py:627: ConvergenceWarning: Number of subclusters found (2) by Birch is less than (12). Decrease the threshold.\n",
      "  % (len(centroids), self.n_clusters), ConvergenceWarning)\n",
      "/home/coffeetumbler/anaconda3/envs/automl/lib/python3.5/site-packages/sklearn/cluster/birch.py:627: ConvergenceWarning: Number of subclusters found (3) by Birch is less than (12). Decrease the threshold.\n",
      "  % (len(centroids), self.n_clusters), ConvergenceWarning)\n",
      "/home/coffeetumbler/anaconda3/envs/automl/lib/python3.5/site-packages/sklearn/cluster/birch.py:627: ConvergenceWarning: Number of subclusters found (2) by Birch is less than (12). Decrease the threshold.\n",
      "  % (len(centroids), self.n_clusters), ConvergenceWarning)\n",
      "/home/coffeetumbler/anaconda3/envs/automl/lib/python3.5/site-packages/sklearn/cluster/birch.py:627: ConvergenceWarning: Number of subclusters found (2) by Birch is less than (12). Decrease the threshold.\n",
      "  % (len(centroids), self.n_clusters), ConvergenceWarning)\n"
     ]
    },
    {
     "name": "stdout",
     "output_type": "stream",
     "text": [
      "Score obtained by this configuration: 0.07823492936273643\n",
      "Fitting configuration: \n",
      "{'clustering_choice': 'MiniBatchKMeans', 'dim_reduction_choice': 'PCA', 'batch_size___MiniBatchKMeans': 191, 'svd_solver___PCA': 'arpack', 'n_clusters___MiniBatchKMeans': 6, 'n_components___PCA': 3}\n",
      "Score obtained by this configuration: 0.07276380526945829\n",
      "Fitting configuration: \n",
      "{'clustering_choice': 'DBSCAN', 'dim_reduction_choice': 'KernelPCA', 'n_components___KernelPCA': 2, 'kernel___KernelPCA': 'poly', 'eps___DBSCAN': 0.33357409867392923, 'min_samples___DBSCAN': 85}\n",
      "Score obtained by this configuration: inf\n"
     ]
    },
    {
     "name": "stderr",
     "output_type": "stream",
     "text": [
      "WARNING:smac.tae.execute_func.ExecuteTAFuncDict:Target Algorithm returned NaN or inf as quality. Algorithm run is treated as CRASHED, cost is set to 2147483647.0 for quality scenarios. (Change value through \"cost_for_crash\"-option.)\n"
     ]
    },
    {
     "name": "stdout",
     "output_type": "stream",
     "text": [
      "Fitting configuration: \n",
      "{'clustering_choice': 'DBSCAN', 'dim_reduction_choice': 'KernelPCA', 'n_components___KernelPCA': 3, 'kernel___KernelPCA': 'poly', 'eps___DBSCAN': 0.4911184393167958, 'min_samples___DBSCAN': 30}\n",
      "Score obtained by this configuration: inf\n"
     ]
    },
    {
     "name": "stderr",
     "output_type": "stream",
     "text": [
      "WARNING:smac.tae.execute_func.ExecuteTAFuncDict:Target Algorithm returned NaN or inf as quality. Algorithm run is treated as CRASHED, cost is set to 2147483647.0 for quality scenarios. (Change value through \"cost_for_crash\"-option.)\n"
     ]
    },
    {
     "name": "stdout",
     "output_type": "stream",
     "text": [
      "Fitting configuration: \n",
      "{'clustering_choice': 'DBSCAN', 'dim_reduction_choice': 'KernelPCA', 'n_components___KernelPCA': 3, 'kernel___KernelPCA': 'poly', 'eps___DBSCAN': 0.46609068939941084, 'min_samples___DBSCAN': 8}\n",
      "Score obtained by this configuration: inf\n"
     ]
    },
    {
     "name": "stderr",
     "output_type": "stream",
     "text": [
      "WARNING:smac.tae.execute_func.ExecuteTAFuncDict:Target Algorithm returned NaN or inf as quality. Algorithm run is treated as CRASHED, cost is set to 2147483647.0 for quality scenarios. (Change value through \"cost_for_crash\"-option.)\n"
     ]
    },
    {
     "name": "stdout",
     "output_type": "stream",
     "text": [
      "Fitting configuration: \n",
      "{'clustering_choice': 'DBSCAN', 'dim_reduction_choice': 'KernelPCA', 'n_components___KernelPCA': 3, 'kernel___KernelPCA': 'poly', 'eps___DBSCAN': 0.42763622817394803, 'min_samples___DBSCAN': 13}\n",
      "Score obtained by this configuration: inf\n"
     ]
    },
    {
     "name": "stderr",
     "output_type": "stream",
     "text": [
      "WARNING:smac.tae.execute_func.ExecuteTAFuncDict:Target Algorithm returned NaN or inf as quality. Algorithm run is treated as CRASHED, cost is set to 2147483647.0 for quality scenarios. (Change value through \"cost_for_crash\"-option.)\n"
     ]
    },
    {
     "name": "stdout",
     "output_type": "stream",
     "text": [
      "Fitting configuration: \n",
      "{'clustering_choice': 'DBSCAN', 'dim_reduction_choice': 'KernelPCA', 'n_components___KernelPCA': 3, 'kernel___KernelPCA': 'poly', 'eps___DBSCAN': 0.3597676486445218, 'min_samples___DBSCAN': 10}\n",
      "Score obtained by this configuration: inf\n"
     ]
    },
    {
     "name": "stderr",
     "output_type": "stream",
     "text": [
      "WARNING:smac.tae.execute_func.ExecuteTAFuncDict:Target Algorithm returned NaN or inf as quality. Algorithm run is treated as CRASHED, cost is set to 2147483647.0 for quality scenarios. (Change value through \"cost_for_crash\"-option.)\n"
     ]
    },
    {
     "name": "stdout",
     "output_type": "stream",
     "text": [
      "Fitting configuration: \n",
      "{'clustering_choice': 'DBSCAN', 'n_components___TSNE': 2, 'dim_reduction_choice': 'TSNE', 'early_exaggeration___TSNE': 13.486116543319527, 'eps___DBSCAN': 1.4543702868272501, 'perplexity___TSNE': 207.2286787061756, 'min_samples___DBSCAN': 73}\n",
      "Fitting configuration: \n",
      "{'clustering_choice': 'DBSCAN', 'dim_reduction_choice': 'KernelPCA', 'n_components___KernelPCA': 4, 'kernel___KernelPCA': 'poly', 'eps___DBSCAN': 0.45622940930651806, 'min_samples___DBSCAN': 25}\n",
      "Score obtained by this configuration: inf\n"
     ]
    },
    {
     "name": "stderr",
     "output_type": "stream",
     "text": [
      "WARNING:smac.tae.execute_func.ExecuteTAFuncDict:Target Algorithm returned NaN or inf as quality. Algorithm run is treated as CRASHED, cost is set to 2147483647.0 for quality scenarios. (Change value through \"cost_for_crash\"-option.)\n"
     ]
    },
    {
     "name": "stdout",
     "output_type": "stream",
     "text": [
      "Fitting configuration: \n",
      "{'clustering_choice': 'DBSCAN', 'fun___FastICA': 'exp', 'dim_reduction_choice': 'FastICA', 'whiten___FastICA': True, 'n_components___FastICA': 2, 'eps___DBSCAN': 0.04642250559297685, 'algorithm___FastICA': 'deflation', 'min_samples___DBSCAN': 28}\n",
      "Score obtained by this configuration: inf\n"
     ]
    },
    {
     "name": "stderr",
     "output_type": "stream",
     "text": [
      "WARNING:smac.tae.execute_func.ExecuteTAFuncDict:Target Algorithm returned NaN or inf as quality. Algorithm run is treated as CRASHED, cost is set to 2147483647.0 for quality scenarios. (Change value through \"cost_for_crash\"-option.)\n"
     ]
    },
    {
     "name": "stdout",
     "output_type": "stream",
     "text": [
      "Fitting configuration: \n",
      "{'clustering_choice': 'DBSCAN', 'dim_reduction_choice': 'KernelPCA', 'n_components___KernelPCA': 2, 'kernel___KernelPCA': 'sigmoid', 'eps___DBSCAN': 0.2613984466855124, 'min_samples___DBSCAN': 18}\n",
      "Score obtained by this configuration: inf\n"
     ]
    },
    {
     "name": "stderr",
     "output_type": "stream",
     "text": [
      "WARNING:smac.tae.execute_func.ExecuteTAFuncDict:Target Algorithm returned NaN or inf as quality. Algorithm run is treated as CRASHED, cost is set to 2147483647.0 for quality scenarios. (Change value through \"cost_for_crash\"-option.)\n"
     ]
    },
    {
     "name": "stdout",
     "output_type": "stream",
     "text": [
      "Fitting configuration: \n",
      "{'clustering_choice': 'DBSCAN', 'dim_reduction_choice': 'KernelPCA', 'n_components___KernelPCA': 3, 'kernel___KernelPCA': 'sigmoid', 'eps___DBSCAN': 0.4911184393167958, 'min_samples___DBSCAN': 18}\n",
      "Score obtained by this configuration: inf\n"
     ]
    },
    {
     "name": "stderr",
     "output_type": "stream",
     "text": [
      "WARNING:smac.tae.execute_func.ExecuteTAFuncDict:Target Algorithm returned NaN or inf as quality. Algorithm run is treated as CRASHED, cost is set to 2147483647.0 for quality scenarios. (Change value through \"cost_for_crash\"-option.)\n"
     ]
    },
    {
     "name": "stdout",
     "output_type": "stream",
     "text": [
      "Fitting configuration: \n",
      "{'clustering_choice': 'DBSCAN', 'dim_reduction_choice': 'KernelPCA', 'n_components___KernelPCA': 4, 'kernel___KernelPCA': 'sigmoid', 'eps___DBSCAN': 0.4431447716161244, 'min_samples___DBSCAN': 12}\n",
      "Score obtained by this configuration: inf\n"
     ]
    },
    {
     "name": "stderr",
     "output_type": "stream",
     "text": [
      "WARNING:smac.tae.execute_func.ExecuteTAFuncDict:Target Algorithm returned NaN or inf as quality. Algorithm run is treated as CRASHED, cost is set to 2147483647.0 for quality scenarios. (Change value through \"cost_for_crash\"-option.)\n"
     ]
    },
    {
     "name": "stdout",
     "output_type": "stream",
     "text": [
      "Fitting configuration: \n",
      "{'clustering_choice': 'SpectralClustering', 'affinity___SpectralClustering': 'laplacian', 'dim_reduction_choice': 'TruncatedSVD', 'eigen_solver___SpectralClustering': 'arpack', 'assign_labels___SpectralClustering': 'kmeans', 'n_clusters___SpectralClustering': 7, 'algorithm___TruncatedSVD': 'randomized', 'n_components___TruncatedSVD': 2}\n",
      "Score obtained by this configuration: 0.07108064316368526\n",
      "Fitting configuration: \n",
      "{'clustering_choice': 'DBSCAN', 'dim_reduction_choice': 'KernelPCA', 'n_components___KernelPCA': 5, 'kernel___KernelPCA': 'sigmoid', 'eps___DBSCAN': 0.4872295004818057, 'min_samples___DBSCAN': 15}\n",
      "Score obtained by this configuration: inf\n"
     ]
    },
    {
     "name": "stderr",
     "output_type": "stream",
     "text": [
      "WARNING:smac.tae.execute_func.ExecuteTAFuncDict:Target Algorithm returned NaN or inf as quality. Algorithm run is treated as CRASHED, cost is set to 2147483647.0 for quality scenarios. (Change value through \"cost_for_crash\"-option.)\n"
     ]
    },
    {
     "name": "stdout",
     "output_type": "stream",
     "text": [
      "Fitting configuration: \n",
      "{'clustering_choice': 'DBSCAN', 'dim_reduction_choice': 'IncrementalPCA', 'eps___DBSCAN': 1.2911136728166452, 'whiten___IncrementalPCA': True, 'n_components___IncrementalPCA': 3, 'min_samples___DBSCAN': 14, 'batch_size___IncrementalPCA': 566}\n",
      "Score obtained by this configuration: inf\n"
     ]
    },
    {
     "name": "stderr",
     "output_type": "stream",
     "text": [
      "WARNING:smac.tae.execute_func.ExecuteTAFuncDict:Target Algorithm returned NaN or inf as quality. Algorithm run is treated as CRASHED, cost is set to 2147483647.0 for quality scenarios. (Change value through \"cost_for_crash\"-option.)\n"
     ]
    },
    {
     "name": "stdout",
     "output_type": "stream",
     "text": [
      "Fitting configuration: \n",
      "{'clustering_choice': 'DBSCAN', 'dim_reduction_choice': 'KernelPCA', 'n_components___KernelPCA': 3, 'kernel___KernelPCA': 'sigmoid', 'eps___DBSCAN': 0.12320956350310737, 'min_samples___DBSCAN': 9}\n",
      "Score obtained by this configuration: 0.09810120518388922\n",
      "Fitting configuration: \n",
      "{'clustering_choice': 'DBSCAN', 'dim_reduction_choice': 'IncrementalPCA', 'eps___DBSCAN': 1.2410476486901236, 'min_samples___DBSCAN': 13, 'n_components___IncrementalPCA': 3, 'batch_size___IncrementalPCA': 494}\n",
      "Score obtained by this configuration: 0.0944538934516836\n",
      "Fitting configuration: \n",
      "{'clustering_choice': 'DBSCAN', 'dim_reduction_choice': 'PCA', 'whiten___PCA': True, 'eps___DBSCAN': 0.4491675983200766, 'n_components___PCA': 2, 'svd_solver___PCA': 'randomized', 'min_samples___DBSCAN': 43}\n",
      "Score obtained by this configuration: 0.09097852448333148\n",
      "Fitting configuration: \n",
      "{'clustering_choice': 'AgglomerativeClustering', 'dim_reduction_choice': 'TruncatedSVD', 'affinity___AgglomerativeClustering': 'l1', 'algorithm___TruncatedSVD': 'arpack', 'linkage___AgglomerativeClustering': 'single', 'n_components___TruncatedSVD': 7, 'n_clusters___AgglomerativeClustering': 19}\n",
      "Score obtained by this configuration: inf\n"
     ]
    },
    {
     "name": "stderr",
     "output_type": "stream",
     "text": [
      "WARNING:smac.tae.execute_func.ExecuteTAFuncDict:Target Algorithm returned NaN or inf as quality. Algorithm run is treated as CRASHED, cost is set to 2147483647.0 for quality scenarios. (Change value through \"cost_for_crash\"-option.)\n"
     ]
    },
    {
     "name": "stdout",
     "output_type": "stream",
     "text": [
      "Fitting configuration: \n",
      "{'clustering_choice': 'MiniBatchKMeans', 'dim_reduction_choice': 'KernelPCA', 'n_components___KernelPCA': 2, 'batch_size___MiniBatchKMeans': 300, 'kernel___KernelPCA': 'linear', 'n_clusters___MiniBatchKMeans': 52}\n",
      "Score obtained by this configuration: 0.06535686809566675\n",
      "Fitting configuration: \n",
      "{'clustering_choice': 'MiniBatchKMeans', 'dim_reduction_choice': 'KernelPCA', 'n_components___KernelPCA': 2, 'batch_size___MiniBatchKMeans': 231, 'kernel___KernelPCA': 'linear', 'n_clusters___MiniBatchKMeans': 11}\n",
      "Score obtained by this configuration: 0.06851695739106832\n",
      "Fitting configuration: \n",
      "{'clustering_choice': 'GaussianMixture', 'covariance_type___GaussianMixture': 'full', 'dim_reduction_choice': 'KernelPCA', 'n_components___KernelPCA': 8, 'init_params___GaussianMixture': 'kmeans', 'kernel___KernelPCA': 'cosine', 'warm_start___GaussianMixture': True, 'n_components___GaussianMixture': 73}\n",
      "Score obtained by this configuration: 0.09507526759118747\n",
      "Fitting configuration: \n",
      "{'clustering_choice': 'MeanShift', 'bin_seeding___MeanShift': True, 'dim_reduction_choice': 'KernelPCA', 'bandwidth___MeanShift': 17.707163643288776, 'kernel___KernelPCA': 'cosine', 'n_components___KernelPCA': 2}\n",
      "Score obtained by this configuration: inf\n"
     ]
    },
    {
     "name": "stderr",
     "output_type": "stream",
     "text": [
      "WARNING:smac.tae.execute_func.ExecuteTAFuncDict:Target Algorithm returned NaN or inf as quality. Algorithm run is treated as CRASHED, cost is set to 2147483647.0 for quality scenarios. (Change value through \"cost_for_crash\"-option.)\n"
     ]
    },
    {
     "name": "stdout",
     "output_type": "stream",
     "text": [
      "Fitting configuration: \n",
      "{'clustering_choice': 'Birch', 'dim_reduction_choice': 'PCA', 'branching_factor___Birch': 975, 'svd_solver___PCA': 'full', 'n_clusters___Birch': 3, 'n_components___PCA': 3}\n",
      "Score obtained by this configuration: 0.08254723428822809\n",
      "Fitting configuration: \n",
      "{'clustering_choice': 'DBSCAN', 'fun___FastICA': 'cube', 'dim_reduction_choice': 'FastICA', 'whiten___FastICA': True, 'n_components___FastICA': 3, 'eps___DBSCAN': 0.3203676393525975, 'algorithm___FastICA': 'deflation', 'min_samples___DBSCAN': 5}\n",
      "Score obtained by this configuration: inf\n"
     ]
    },
    {
     "name": "stderr",
     "output_type": "stream",
     "text": [
      "WARNING:smac.tae.execute_func.ExecuteTAFuncDict:Target Algorithm returned NaN or inf as quality. Algorithm run is treated as CRASHED, cost is set to 2147483647.0 for quality scenarios. (Change value through \"cost_for_crash\"-option.)\n"
     ]
    },
    {
     "name": "stdout",
     "output_type": "stream",
     "text": [
      "Fitting configuration: \n",
      "{'clustering_choice': 'AffinityPropagation', 'dim_reduction_choice': 'KernelPCA', 'damping___AffinityPropagation': 0.9521824779465011, 'n_components___KernelPCA': 8, 'kernel___KernelPCA': 'cosine', 'affinity___AffinityPropagation': 'euclidean'}\n",
      "Score obtained by this configuration: 0.08994406339224292\n",
      "Fitting configuration: \n",
      "{'clustering_choice': 'AffinityPropagation', 'dim_reduction_choice': 'KernelPCA', 'damping___AffinityPropagation': 0.6442296899052193, 'n_components___KernelPCA': 8, 'kernel___KernelPCA': 'cosine', 'affinity___AffinityPropagation': 'euclidean'}\n",
      "Score obtained by this configuration: 0.08966359051501993\n",
      "Fitting configuration: \n",
      "{'clustering_choice': 'MiniBatchKMeans', 'dim_reduction_choice': 'KernelPCA', 'n_components___KernelPCA': 2, 'batch_size___MiniBatchKMeans': 446, 'kernel___KernelPCA': 'cosine', 'n_clusters___MiniBatchKMeans': 7}\n",
      "Score obtained by this configuration: 0.0685364251129742\n",
      "Fitting configuration: \n",
      "{'clustering_choice': 'MiniBatchKMeans', 'dim_reduction_choice': 'KernelPCA', 'n_components___KernelPCA': 2, 'batch_size___MiniBatchKMeans': 378, 'kernel___KernelPCA': 'cosine', 'n_clusters___MiniBatchKMeans': 60}\n",
      "Score obtained by this configuration: 0.06250597635404136\n",
      "Fitting configuration: \n",
      "{'clustering_choice': 'KMeans', 'kernel___KernelPCA': 'linear', 'dim_reduction_choice': 'KernelPCA', 'n_clusters___KMeans': 1, 'n_components___KernelPCA': 2}\n",
      "Score obtained by this configuration: inf\n"
     ]
    },
    {
     "name": "stderr",
     "output_type": "stream",
     "text": [
      "WARNING:smac.tae.execute_func.ExecuteTAFuncDict:Target Algorithm returned NaN or inf as quality. Algorithm run is treated as CRASHED, cost is set to 2147483647.0 for quality scenarios. (Change value through \"cost_for_crash\"-option.)\n"
     ]
    },
    {
     "name": "stdout",
     "output_type": "stream",
     "text": [
      "Fitting configuration: \n",
      "{'clustering_choice': 'KMeans', 'kernel___KernelPCA': 'linear', 'dim_reduction_choice': 'KernelPCA', 'n_clusters___KMeans': 17, 'n_components___KernelPCA': 2}\n",
      "Score obtained by this configuration: 0.06823724513597317\n",
      "Fitting configuration: \n",
      "{'clustering_choice': 'GaussianMixture', 'covariance_type___GaussianMixture': 'tied', 'dim_reduction_choice': 'FastICA', 'algorithm___FastICA': 'deflation', 'init_params___GaussianMixture': 'kmeans', 'n_components___FastICA': 3, 'fun___FastICA': 'cube', 'whiten___FastICA': True, 'n_components___GaussianMixture': 62}\n",
      "Score obtained by this configuration: 0.07179932586275435\n",
      "Fitting configuration: \n",
      "{'clustering_choice': 'MiniBatchKMeans', 'dim_reduction_choice': 'TruncatedSVD', 'batch_size___MiniBatchKMeans': 235, 'algorithm___TruncatedSVD': 'randomized', 'n_components___TruncatedSVD': 5, 'n_clusters___MiniBatchKMeans': 28}\n",
      "Score obtained by this configuration: 0.0844549447298925\n",
      "Fitting configuration: \n",
      "{'clustering_choice': 'MiniBatchKMeans', 'dim_reduction_choice': 'KernelPCA', 'n_components___KernelPCA': 8, 'batch_size___MiniBatchKMeans': 474, 'kernel___KernelPCA': 'linear', 'n_clusters___MiniBatchKMeans': 32}\n",
      "Score obtained by this configuration: 0.08895392958684244\n",
      "Fitting configuration: \n",
      "{'clustering_choice': 'SpectralClustering', 'affinity___SpectralClustering': 'rbf', 'dim_reduction_choice': 'KernelPCA', 'n_components___KernelPCA': 3, 'assign_labels___SpectralClustering': 'kmeans', 'n_clusters___SpectralClustering': 42, 'kernel___KernelPCA': 'cosine', 'eigen_solver___SpectralClustering': 'arpack'}\n",
      "Score obtained by this configuration: 0.08569348391512405\n",
      "Fitting configuration: \n",
      "{'clustering_choice': 'OPTICS', 'n_components___TSNE': 2, 'dim_reduction_choice': 'TSNE', 'metric___OPTICS': 'l1', 'min_samples___OPTICS': 746, 'early_exaggeration___TSNE': 16.28310346313276, 'cluster_method___OPTICS': 'dbscan', 'perplexity___TSNE': 273.0652001299699}\n",
      "Fitting configuration: \n",
      "{'clustering_choice': 'AgglomerativeClustering', 'dim_reduction_choice': 'KernelPCA', 'affinity___AgglomerativeClustering': 'l1', 'kernel___KernelPCA': 'rbf', 'linkage___AgglomerativeClustering': 'complete', 'n_clusters___AgglomerativeClustering': 34, 'n_components___KernelPCA': 6}\n",
      "Score obtained by this configuration: 0.08762059245444757\n",
      "Fitting configuration: \n",
      "{'clustering_choice': 'Birch', 'n_components___TSNE': 2, 'dim_reduction_choice': 'TSNE', 'early_exaggeration___TSNE': 8.891357869201425, 'branching_factor___Birch': 733, 'perplexity___TSNE': 271.1351072572723, 'n_clusters___Birch': 8}\n",
      "Fitting configuration: \n",
      "{'clustering_choice': 'Birch', 'n_clusters___Birch': 39, 'branching_factor___Birch': 807, 'n_components___IncrementalPCA': 3, 'batch_size___IncrementalPCA': 711, 'dim_reduction_choice': 'IncrementalPCA'}\n",
      "Score obtained by this configuration: 0.07556716621504934\n",
      "Fitting configuration: \n",
      "{'clustering_choice': 'MiniBatchKMeans', 'dim_reduction_choice': 'IncrementalPCA', 'batch_size___MiniBatchKMeans': 442, 'n_components___IncrementalPCA': 3, 'n_clusters___MiniBatchKMeans': 53, 'batch_size___IncrementalPCA': 472}\n",
      "Score obtained by this configuration: 0.07546263351641258\n",
      "Fitting configuration: \n",
      "{'clustering_choice': 'MeanShift', 'bin_seeding___MeanShift': True, 'dim_reduction_choice': 'TSNE', 'bandwidth___MeanShift': 33.012847009127846, 'early_exaggeration___TSNE': 8.622213783421856, 'n_components___TSNE': 2, 'perplexity___TSNE': 146.2437925489064}\n",
      "Fitting configuration: \n",
      "{'clustering_choice': 'SpectralClustering', 'affinity___SpectralClustering': 'rbf', 'dim_reduction_choice': 'TSNE', 'early_exaggeration___TSNE': 17.599907823169374, 'n_clusters___SpectralClustering': 13, 'assign_labels___SpectralClustering': 'discretize', 'perplexity___TSNE': 293.9662129593339, 'eigen_solver___SpectralClustering': 'arpack', 'n_components___TSNE': 2}\n",
      "Fitting configuration: \n",
      "{'clustering_choice': 'Birch', 'dim_reduction_choice': 'KernelPCA', 'n_components___KernelPCA': 2, 'branching_factor___Birch': 584, 'kernel___KernelPCA': 'linear', 'n_clusters___Birch': 39}\n",
      "Score obtained by this configuration: 0.06369284776530633\n",
      "Fitting configuration: \n",
      "{'clustering_choice': 'AffinityPropagation', 'dim_reduction_choice': 'IncrementalPCA', 'damping___AffinityPropagation': 0.7492238334978952, 'affinity___AffinityPropagation': 'euclidean', 'n_components___IncrementalPCA': 2, 'batch_size___IncrementalPCA': 51}\n",
      "Score obtained by this configuration: 0.06966727163222868\n",
      "Fitting configuration: \n",
      "{'clustering_choice': 'MiniBatchKMeans', 'dim_reduction_choice': 'KernelPCA', 'n_components___KernelPCA': 2, 'batch_size___MiniBatchKMeans': 359, 'kernel___KernelPCA': 'rbf', 'n_clusters___MiniBatchKMeans': 18}\n",
      "Score obtained by this configuration: 0.07054620989068118\n",
      "Fitting configuration: \n",
      "{'clustering_choice': 'MiniBatchKMeans', 'fun___FastICA': 'logcosh', 'dim_reduction_choice': 'FastICA', 'n_components___FastICA': 2, 'batch_size___MiniBatchKMeans': 198, 'algorithm___FastICA': 'deflation', 'n_clusters___MiniBatchKMeans': 4}\n",
      "Score obtained by this configuration: 0.06158823454984308\n",
      "Fitting configuration: \n",
      "{'clustering_choice': 'MiniBatchKMeans', 'fun___FastICA': 'logcosh', 'dim_reduction_choice': 'FastICA', 'whiten___FastICA': True, 'n_components___FastICA': 3, 'batch_size___MiniBatchKMeans': 318, 'algorithm___FastICA': 'parallel', 'n_clusters___MiniBatchKMeans': 40}\n",
      "Score obtained by this configuration: 0.07745759910059159\n",
      "Fitting configuration: \n",
      "{'clustering_choice': 'AffinityPropagation', 'dim_reduction_choice': 'KernelPCA', 'damping___AffinityPropagation': 0.6384800608301505, 'n_components___KernelPCA': 3, 'kernel___KernelPCA': 'linear', 'affinity___AffinityPropagation': 'euclidean'}\n",
      "Score obtained by this configuration: 0.07674530907969891\n",
      "Fitting configuration: \n",
      "{'clustering_choice': 'MiniBatchKMeans', 'fun___FastICA': 'cube', 'dim_reduction_choice': 'FastICA', 'n_components___FastICA': 2, 'batch_size___MiniBatchKMeans': 14, 'algorithm___FastICA': 'parallel', 'n_clusters___MiniBatchKMeans': 1}\n",
      "Score obtained by this configuration: inf\n"
     ]
    },
    {
     "name": "stderr",
     "output_type": "stream",
     "text": [
      "WARNING:smac.tae.execute_func.ExecuteTAFuncDict:Target Algorithm returned NaN or inf as quality. Algorithm run is treated as CRASHED, cost is set to 2147483647.0 for quality scenarios. (Change value through \"cost_for_crash\"-option.)\n"
     ]
    },
    {
     "name": "stdout",
     "output_type": "stream",
     "text": [
      "Fitting configuration: \n",
      "{'clustering_choice': 'MiniBatchKMeans', 'dim_reduction_choice': 'KernelPCA', 'n_components___KernelPCA': 2, 'batch_size___MiniBatchKMeans': 137, 'kernel___KernelPCA': 'cosine', 'n_clusters___MiniBatchKMeans': 47}\n",
      "Score obtained by this configuration: 0.06486614790277118\n",
      "Fitting configuration: \n",
      "{'clustering_choice': 'MiniBatchKMeans', 'dim_reduction_choice': 'KernelPCA', 'n_components___KernelPCA': 2, 'batch_size___MiniBatchKMeans': 43, 'kernel___KernelPCA': 'cosine', 'n_clusters___MiniBatchKMeans': 35}\n",
      "Score obtained by this configuration: 0.0689650833457965\n",
      "Fitting configuration: \n",
      "{'clustering_choice': 'Birch', 'n_clusters___Birch': 1, 'branching_factor___Birch': 344, 'whiten___IncrementalPCA': True, 'n_components___IncrementalPCA': 3, 'batch_size___IncrementalPCA': 947, 'dim_reduction_choice': 'IncrementalPCA'}\n",
      "Score obtained by this configuration: inf\n"
     ]
    },
    {
     "name": "stderr",
     "output_type": "stream",
     "text": [
      "WARNING:smac.tae.execute_func.ExecuteTAFuncDict:Target Algorithm returned NaN or inf as quality. Algorithm run is treated as CRASHED, cost is set to 2147483647.0 for quality scenarios. (Change value through \"cost_for_crash\"-option.)\n"
     ]
    },
    {
     "name": "stdout",
     "output_type": "stream",
     "text": [
      "Fitting configuration: \n",
      "{'clustering_choice': 'MiniBatchKMeans', 'fun___FastICA': 'exp', 'dim_reduction_choice': 'FastICA', 'whiten___FastICA': True, 'n_components___FastICA': 3, 'batch_size___MiniBatchKMeans': 406, 'algorithm___FastICA': 'deflation', 'n_clusters___MiniBatchKMeans': 24}\n",
      "Score obtained by this configuration: 0.0780483524663827\n",
      "Fitting configuration: \n",
      "{'clustering_choice': 'KMeans', 'kernel___KernelPCA': 'linear', 'dim_reduction_choice': 'KernelPCA', 'n_clusters___KMeans': 67, 'n_components___KernelPCA': 7}\n",
      "Score obtained by this configuration: 0.08351957492958946\n",
      "Fitting configuration: \n",
      "{'clustering_choice': 'Birch', 'dim_reduction_choice': 'KernelPCA', 'n_components___KernelPCA': 2, 'branching_factor___Birch': 34, 'kernel___KernelPCA': 'linear', 'n_clusters___Birch': 8}\n",
      "Score obtained by this configuration: 0.07031814207623309\n",
      "Fitting configuration: \n",
      "{'clustering_choice': 'MeanShift', 'dim_reduction_choice': 'PCA', 'whiten___PCA': True, 'bandwidth___MeanShift': 26.807060700054667, 'svd_solver___PCA': 'auto', 'n_components___PCA': 3}\n",
      "Score obtained by this configuration: inf\n"
     ]
    },
    {
     "name": "stderr",
     "output_type": "stream",
     "text": [
      "WARNING:smac.tae.execute_func.ExecuteTAFuncDict:Target Algorithm returned NaN or inf as quality. Algorithm run is treated as CRASHED, cost is set to 2147483647.0 for quality scenarios. (Change value through \"cost_for_crash\"-option.)\n"
     ]
    },
    {
     "name": "stdout",
     "output_type": "stream",
     "text": [
      "Fitting configuration: \n",
      "{'clustering_choice': 'OPTICS', 'fun___FastICA': 'exp', 'dim_reduction_choice': 'FastICA', 'metric___OPTICS': 'manhattan', 'min_samples___OPTICS': 634, 'cluster_method___OPTICS': 'xi', 'n_components___FastICA': 3, 'algorithm___FastICA': 'parallel'}\n"
     ]
    },
    {
     "name": "stderr",
     "output_type": "stream",
     "text": [
      "Process pynisher function call:\n",
      "Traceback (most recent call last):\n",
      "  File \"/home/coffeetumbler/anaconda3/envs/automl/lib/python3.5/multiprocessing/process.py\", line 252, in _bootstrap\n",
      "    self.run()\n",
      "  File \"/home/coffeetumbler/anaconda3/envs/automl/lib/python3.5/multiprocessing/process.py\", line 93, in run\n",
      "    self._target(*self._args, **self._kwargs)\n",
      "  File \"/home/coffeetumbler/anaconda3/envs/automl/lib/python3.5/site-packages/pynisher/limit_function_call.py\", line 93, in subprocess_func\n",
      "    return_value = ((func(*args, **kwargs), 0))\n",
      "  File \"/home/coffeetumbler/automl_2019/autocluster/autocluster.py\", line 249, in evaluate_model\n",
      "    y_pred = clustering_model.fit_predict(compressed_valid_data)\n",
      "  File \"/home/coffeetumbler/anaconda3/envs/automl/lib/python3.5/site-packages/sklearn/base.py\", line 447, in fit_predict\n",
      "    self.fit(X)\n",
      "  File \"/home/coffeetumbler/anaconda3/envs/automl/lib/python3.5/site-packages/sklearn/cluster/optics_.py\", line 248, in fit\n",
      "    max_eps=self.max_eps)\n",
      "  File \"/home/coffeetumbler/anaconda3/envs/automl/lib/python3.5/site-packages/sklearn/cluster/optics_.py\", line 438, in compute_optics_graph\n",
      "    _validate_size(min_samples, n_samples, 'min_samples')\n",
      "  File \"/home/coffeetumbler/anaconda3/envs/automl/lib/python3.5/site-packages/sklearn/cluster/optics_.py\", line 290, in _validate_size\n",
      "    (param_name, n_samples, size))\n",
      "ValueError: min_samples must be no greater than the number of samples (473). Got 634\n"
     ]
    },
    {
     "name": "stdout",
     "output_type": "stream",
     "text": [
      "Fitting configuration: \n",
      "{'clustering_choice': 'MiniBatchKMeans', 'dim_reduction_choice': 'PCA', 'whiten___PCA': True, 'batch_size___MiniBatchKMeans': 101, 'svd_solver___PCA': 'auto', 'n_clusters___MiniBatchKMeans': 33, 'n_components___PCA': 3}\n",
      "Score obtained by this configuration: 0.07781415515267844\n",
      "Fitting configuration: \n",
      "{'clustering_choice': 'MiniBatchKMeans', 'dim_reduction_choice': 'PCA', 'batch_size___MiniBatchKMeans': 69, 'svd_solver___PCA': 'auto', 'n_clusters___MiniBatchKMeans': 41, 'n_components___PCA': 3}\n",
      "Score obtained by this configuration: 0.0771588018848216\n",
      "Fitting configuration: \n",
      "{'clustering_choice': 'Birch', 'n_clusters___Birch': 6, 'branching_factor___Birch': 913, 'whiten___IncrementalPCA': True, 'n_components___IncrementalPCA': 3, 'batch_size___IncrementalPCA': 748, 'dim_reduction_choice': 'IncrementalPCA'}\n",
      "Score obtained by this configuration: 0.07791350624432444\n",
      "Fitting configuration: \n",
      "{'clustering_choice': 'MeanShift', 'kernel___KernelPCA': 'poly', 'dim_reduction_choice': 'KernelPCA', 'bandwidth___MeanShift': 46.36396483156826, 'n_components___KernelPCA': 6}\n",
      "Score obtained by this configuration: inf\n"
     ]
    },
    {
     "name": "stderr",
     "output_type": "stream",
     "text": [
      "WARNING:smac.tae.execute_func.ExecuteTAFuncDict:Target Algorithm returned NaN or inf as quality. Algorithm run is treated as CRASHED, cost is set to 2147483647.0 for quality scenarios. (Change value through \"cost_for_crash\"-option.)\n"
     ]
    },
    {
     "name": "stdout",
     "output_type": "stream",
     "text": [
      "Fitting configuration: \n",
      "{'clustering_choice': 'Birch', 'dim_reduction_choice': 'KernelPCA', 'n_components___KernelPCA': 2, 'branching_factor___Birch': 167, 'kernel___KernelPCA': 'cosine', 'n_clusters___Birch': 13}\n"
     ]
    },
    {
     "name": "stderr",
     "output_type": "stream",
     "text": [
      "/home/coffeetumbler/anaconda3/envs/automl/lib/python3.5/site-packages/sklearn/cluster/birch.py:627: ConvergenceWarning: Number of subclusters found (2) by Birch is less than (13). Decrease the threshold.\n",
      "  % (len(centroids), self.n_clusters), ConvergenceWarning)\n",
      "/home/coffeetumbler/anaconda3/envs/automl/lib/python3.5/site-packages/sklearn/cluster/birch.py:627: ConvergenceWarning: Number of subclusters found (2) by Birch is less than (13). Decrease the threshold.\n",
      "  % (len(centroids), self.n_clusters), ConvergenceWarning)\n",
      "/home/coffeetumbler/anaconda3/envs/automl/lib/python3.5/site-packages/sklearn/cluster/birch.py:627: ConvergenceWarning: Number of subclusters found (2) by Birch is less than (13). Decrease the threshold.\n",
      "  % (len(centroids), self.n_clusters), ConvergenceWarning)\n",
      "/home/coffeetumbler/anaconda3/envs/automl/lib/python3.5/site-packages/sklearn/cluster/birch.py:627: ConvergenceWarning: Number of subclusters found (3) by Birch is less than (13). Decrease the threshold.\n",
      "  % (len(centroids), self.n_clusters), ConvergenceWarning)\n",
      "/home/coffeetumbler/anaconda3/envs/automl/lib/python3.5/site-packages/sklearn/cluster/birch.py:627: ConvergenceWarning: Number of subclusters found (2) by Birch is less than (13). Decrease the threshold.\n",
      "  % (len(centroids), self.n_clusters), ConvergenceWarning)\n",
      "/home/coffeetumbler/anaconda3/envs/automl/lib/python3.5/site-packages/sklearn/cluster/birch.py:627: ConvergenceWarning: Number of subclusters found (2) by Birch is less than (13). Decrease the threshold.\n",
      "  % (len(centroids), self.n_clusters), ConvergenceWarning)\n"
     ]
    },
    {
     "name": "stdout",
     "output_type": "stream",
     "text": [
      "Score obtained by this configuration: 0.07823492936273642\n",
      "Optimization is complete.\n",
      "Took 420.96 seconds.\n",
      "The optimal configuration is \n",
      "Configuration:\n",
      "  algorithm___FastICA, Value: 'deflation'\n",
      "  batch_size___MiniBatchKMeans, Value: 198\n",
      "  clustering_choice, Value: 'MiniBatchKMeans'\n",
      "  dim_reduction_choice, Value: 'FastICA'\n",
      "  fun___FastICA, Value: 'logcosh'\n",
      "  n_clusters___MiniBatchKMeans, Value: 4\n",
      "  n_components___FastICA, Value: 2\n",
      "  whiten___FastICA, Value: False\n",
      "\n",
      "\n",
      "Model chosen with weights = \n",
      "[0, 1, 9]\n",
      "v_score = \n",
      "0.45122414197235833\n",
      "\n",
      "\n",
      "1425/1797 datapoints remaining after outlier removal\n",
      "Configuration space object:\n",
      "  Hyperparameters:\n",
      "    affinity___AffinityPropagation, Type: Categorical, Choices: {euclidean}, Default: euclidean\n",
      "    affinity___AgglomerativeClustering, Type: Categorical, Choices: {euclidean, cityblock, l2, l1, manhattan, cosine}, Default: euclidean\n",
      "    affinity___SpectralClustering, Type: Categorical, Choices: {nearest_neighbors, poly, sigmoid, laplacian, rbf}, Default: rbf\n",
      "    algorithm___FastICA, Type: Categorical, Choices: {parallel, deflation}, Default: parallel\n",
      "    algorithm___TruncatedSVD, Type: Categorical, Choices: {arpack, randomized}, Default: randomized\n",
      "    assign_labels___SpectralClustering, Type: Categorical, Choices: {kmeans, discretize}, Default: kmeans\n",
      "    bandwidth___MeanShift, Type: UniformFloat, Range: [0.1, 50.0], Default: 25.05\n",
      "    batch_size___IncrementalPCA, Type: UniformInteger, Range: [10, 1000], Default: 100\n",
      "    batch_size___MiniBatchKMeans, Type: UniformInteger, Range: [10, 1000], Default: 100\n",
      "    bin_seeding___MeanShift, Type: Categorical, Choices: {True, False}, Default: False\n",
      "    branching_factor___Birch, Type: UniformInteger, Range: [10, 1000], Default: 50\n",
      "    cluster_method___OPTICS, Type: Categorical, Choices: {xi, dbscan}, Default: xi\n",
      "    clustering_choice, Type: Categorical, Choices: {KMeans, GaussianMixture, Birch, MiniBatchKMeans, AgglomerativeClustering, OPTICS, SpectralClustering, DBSCAN, AffinityPropagation, MeanShift}, Default: KMeans\n",
      "    covariance_type___GaussianMixture, Type: Categorical, Choices: {full, tied, diag, spherical}, Default: full\n",
      "    damping___AffinityPropagation, Type: UniformFloat, Range: [0.5, 1.0], Default: 0.5\n",
      "    dim_reduction_choice, Type: Categorical, Choices: {TSNE, PCA, IncrementalPCA, KernelPCA, FastICA, TruncatedSVD}, Default: TSNE\n",
      "    early_exaggeration___TSNE, Type: UniformFloat, Range: [5.0, 20.0], Default: 12.0\n",
      "    eigen_solver___SpectralClustering, Type: Categorical, Choices: {arpack}, Default: arpack\n",
      "    eps___DBSCAN, Type: UniformFloat, Range: [0.01, 5.0], Default: 0.01\n",
      "    fun___FastICA, Type: Categorical, Choices: {logcosh, exp, cube}, Default: logcosh\n",
      "    init_params___GaussianMixture, Type: Categorical, Choices: {kmeans, random}, Default: kmeans\n",
      "    kernel___KernelPCA, Type: Categorical, Choices: {linear, poly, rbf, sigmoid, cosine}, Default: linear\n",
      "    linkage___AgglomerativeClustering, Type: Categorical, Choices: {ward, complete, average, single}, Default: complete\n",
      "    metric___OPTICS, Type: Categorical, Choices: {minkowski, euclidean, manhattan, l1, l2, cosine}, Default: minkowski\n",
      "    min_samples___DBSCAN, Type: UniformInteger, Range: [5, 100], Default: 5\n",
      "    min_samples___OPTICS, Type: UniformInteger, Range: [5, 1000], Default: 100\n",
      "    n_clusters___AgglomerativeClustering, Type: UniformInteger, Range: [1, 80], Default: 10\n",
      "    n_clusters___Birch, Type: UniformInteger, Range: [1, 80], Default: 5\n",
      "    n_clusters___KMeans, Type: UniformInteger, Range: [1, 80], Default: 5\n",
      "    n_clusters___MiniBatchKMeans, Type: UniformInteger, Range: [1, 80], Default: 10\n",
      "    n_clusters___SpectralClustering, Type: UniformInteger, Range: [1, 80], Default: 10\n",
      "    n_components___FastICA, Type: Ordinal, Sequence: {2, 3}, Default: 2\n",
      "    n_components___GaussianMixture, Type: UniformInteger, Range: [1, 80], Default: 5\n",
      "    n_components___IncrementalPCA, Type: Ordinal, Sequence: {2, 3}, Default: 2\n",
      "    n_components___KernelPCA, Type: Ordinal, Sequence: {2, 3, 4, 5, 6, 7, 8, 9}, Default: 2\n",
      "    n_components___PCA, Type: Ordinal, Sequence: {2, 3}, Default: 2\n",
      "    n_components___TSNE, Type: Ordinal, Sequence: {2}, Default: 2\n",
      "    n_components___TruncatedSVD, Type: Ordinal, Sequence: {2, 3, 4, 5, 6, 7, 8, 9}, Default: 2\n",
      "    perplexity___TSNE, Type: UniformFloat, Range: [1.0, 300.0], Default: 30.0\n",
      "    svd_solver___PCA, Type: Categorical, Choices: {auto, full, arpack, randomized}, Default: auto\n",
      "    warm_start___GaussianMixture, Type: Categorical, Choices: {True, False}, Default: False\n",
      "    whiten___FastICA, Type: Categorical, Choices: {True, False}, Default: True\n",
      "    whiten___IncrementalPCA, Type: Categorical, Choices: {True, False}, Default: False\n",
      "    whiten___PCA, Type: Categorical, Choices: {True, False}, Default: False\n",
      "  Conditions:\n",
      "    affinity___AffinityPropagation | clustering_choice in {'AffinityPropagation'}\n",
      "    affinity___AgglomerativeClustering | clustering_choice in {'AgglomerativeClustering'}\n",
      "    affinity___SpectralClustering | clustering_choice in {'SpectralClustering'}\n",
      "    algorithm___FastICA | dim_reduction_choice in {'FastICA'}\n",
      "    algorithm___TruncatedSVD | dim_reduction_choice in {'TruncatedSVD'}\n",
      "    assign_labels___SpectralClustering | clustering_choice in {'SpectralClustering'}\n",
      "    bandwidth___MeanShift | clustering_choice in {'MeanShift'}\n",
      "    batch_size___IncrementalPCA | dim_reduction_choice in {'IncrementalPCA'}\n",
      "    batch_size___MiniBatchKMeans | clustering_choice in {'MiniBatchKMeans'}\n",
      "    bin_seeding___MeanShift | clustering_choice in {'MeanShift'}\n",
      "    branching_factor___Birch | clustering_choice in {'Birch'}\n",
      "    cluster_method___OPTICS | clustering_choice in {'OPTICS'}\n",
      "    covariance_type___GaussianMixture | clustering_choice in {'GaussianMixture'}\n",
      "    damping___AffinityPropagation | clustering_choice in {'AffinityPropagation'}\n",
      "    early_exaggeration___TSNE | dim_reduction_choice in {'TSNE'}\n",
      "    eigen_solver___SpectralClustering | clustering_choice in {'SpectralClustering'}\n",
      "    eps___DBSCAN | clustering_choice in {'DBSCAN'}\n",
      "    fun___FastICA | dim_reduction_choice in {'FastICA'}\n",
      "    init_params___GaussianMixture | clustering_choice in {'GaussianMixture'}\n",
      "    kernel___KernelPCA | dim_reduction_choice in {'KernelPCA'}\n",
      "    linkage___AgglomerativeClustering | clustering_choice in {'AgglomerativeClustering'}\n",
      "    metric___OPTICS | clustering_choice in {'OPTICS'}\n",
      "    min_samples___DBSCAN | clustering_choice in {'DBSCAN'}\n",
      "    min_samples___OPTICS | clustering_choice in {'OPTICS'}\n",
      "    n_clusters___AgglomerativeClustering | clustering_choice in {'AgglomerativeClustering'}\n",
      "    n_clusters___Birch | clustering_choice in {'Birch'}\n",
      "    n_clusters___KMeans | clustering_choice in {'KMeans'}\n",
      "    n_clusters___MiniBatchKMeans | clustering_choice in {'MiniBatchKMeans'}\n",
      "    n_clusters___SpectralClustering | clustering_choice in {'SpectralClustering'}\n",
      "    n_components___FastICA | dim_reduction_choice in {'FastICA'}\n",
      "    n_components___GaussianMixture | clustering_choice in {'GaussianMixture'}\n",
      "    n_components___IncrementalPCA | dim_reduction_choice in {'IncrementalPCA'}\n",
      "    n_components___KernelPCA | dim_reduction_choice in {'KernelPCA'}\n",
      "    n_components___PCA | dim_reduction_choice in {'PCA'}\n",
      "    n_components___TSNE | dim_reduction_choice in {'TSNE'}\n",
      "    n_components___TruncatedSVD | dim_reduction_choice in {'TruncatedSVD'}\n",
      "    perplexity___TSNE | dim_reduction_choice in {'TSNE'}\n",
      "    svd_solver___PCA | dim_reduction_choice in {'PCA'}\n",
      "    warm_start___GaussianMixture | clustering_choice in {'GaussianMixture'}\n",
      "    whiten___FastICA | dim_reduction_choice in {'FastICA'}\n",
      "    whiten___IncrementalPCA | dim_reduction_choice in {'IncrementalPCA'}\n",
      "    whiten___PCA | dim_reduction_choice in {'PCA'}\n",
      "  Forbidden Clauses:\n",
      "    (Forbidden: linkage___AgglomerativeClustering == 'ward' && Forbidden: affinity___AgglomerativeClustering in {'cityblock', 'cosine', 'l1', 'l2', 'manhattan'})\n",
      "\n"
     ]
    },
    {
     "name": "stderr",
     "output_type": "stream",
     "text": [
      "/home/coffeetumbler/automl_2019/autocluster/utils/metafeatures.py:43: FutureWarning: elementwise comparison failed; returning scalar instead, but in the future will perform elementwise comparison\n",
      "  return (np.count_nonzero(X == '') + np.count_nonzero(X == 0)) / X.size\n",
      "/home/coffeetumbler/automl_2019/autocluster/utils/metafeatures.py:35: FutureWarning: elementwise comparison failed; returning scalar instead, but in the future will perform elementwise comparison\n",
      "  return np.count_nonzero(X == None) + np.count_nonzero(X == '')\n",
      "/home/coffeetumbler/anaconda3/envs/automl/lib/python3.5/site-packages/numpy/lib/function_base.py:2530: RuntimeWarning: invalid value encountered in true_divide\n",
      "  c /= stddev[:, None]\n",
      "/home/coffeetumbler/anaconda3/envs/automl/lib/python3.5/site-packages/numpy/lib/function_base.py:2531: RuntimeWarning: invalid value encountered in true_divide\n",
      "  c /= stddev[None, :]\n"
     ]
    },
    {
     "name": "stdout",
     "output_type": "stream",
     "text": [
      "Found 60 relevant intial configurations from warmstarter.\n",
      "Truncated n_evaluations: 100\n",
      "{'cutoff_time': 20, 'cs': Configuration space object:\n",
      "  Hyperparameters:\n",
      "    affinity___AffinityPropagation, Type: Categorical, Choices: {euclidean}, Default: euclidean\n",
      "    affinity___AgglomerativeClustering, Type: Categorical, Choices: {euclidean, cityblock, l2, l1, manhattan, cosine}, Default: euclidean\n",
      "    affinity___SpectralClustering, Type: Categorical, Choices: {nearest_neighbors, poly, sigmoid, laplacian, rbf}, Default: rbf\n",
      "    algorithm___FastICA, Type: Categorical, Choices: {parallel, deflation}, Default: parallel\n",
      "    algorithm___TruncatedSVD, Type: Categorical, Choices: {arpack, randomized}, Default: randomized\n",
      "    assign_labels___SpectralClustering, Type: Categorical, Choices: {kmeans, discretize}, Default: kmeans\n",
      "    bandwidth___MeanShift, Type: UniformFloat, Range: [0.1, 50.0], Default: 25.05\n",
      "    batch_size___IncrementalPCA, Type: UniformInteger, Range: [10, 1000], Default: 100\n",
      "    batch_size___MiniBatchKMeans, Type: UniformInteger, Range: [10, 1000], Default: 100\n",
      "    bin_seeding___MeanShift, Type: Categorical, Choices: {True, False}, Default: False\n",
      "    branching_factor___Birch, Type: UniformInteger, Range: [10, 1000], Default: 50\n",
      "    cluster_method___OPTICS, Type: Categorical, Choices: {xi, dbscan}, Default: xi\n",
      "    clustering_choice, Type: Categorical, Choices: {KMeans, GaussianMixture, Birch, MiniBatchKMeans, AgglomerativeClustering, OPTICS, SpectralClustering, DBSCAN, AffinityPropagation, MeanShift}, Default: KMeans\n",
      "    covariance_type___GaussianMixture, Type: Categorical, Choices: {full, tied, diag, spherical}, Default: full\n",
      "    damping___AffinityPropagation, Type: UniformFloat, Range: [0.5, 1.0], Default: 0.5\n",
      "    dim_reduction_choice, Type: Categorical, Choices: {TSNE, PCA, IncrementalPCA, KernelPCA, FastICA, TruncatedSVD}, Default: TSNE\n",
      "    early_exaggeration___TSNE, Type: UniformFloat, Range: [5.0, 20.0], Default: 12.0\n",
      "    eigen_solver___SpectralClustering, Type: Categorical, Choices: {arpack}, Default: arpack\n",
      "    eps___DBSCAN, Type: UniformFloat, Range: [0.01, 5.0], Default: 0.01\n",
      "    fun___FastICA, Type: Categorical, Choices: {logcosh, exp, cube}, Default: logcosh\n",
      "    init_params___GaussianMixture, Type: Categorical, Choices: {kmeans, random}, Default: kmeans\n",
      "    kernel___KernelPCA, Type: Categorical, Choices: {linear, poly, rbf, sigmoid, cosine}, Default: linear\n",
      "    linkage___AgglomerativeClustering, Type: Categorical, Choices: {ward, complete, average, single}, Default: complete\n",
      "    metric___OPTICS, Type: Categorical, Choices: {minkowski, euclidean, manhattan, l1, l2, cosine}, Default: minkowski\n",
      "    min_samples___DBSCAN, Type: UniformInteger, Range: [5, 100], Default: 5\n",
      "    min_samples___OPTICS, Type: UniformInteger, Range: [5, 1000], Default: 100\n",
      "    n_clusters___AgglomerativeClustering, Type: UniformInteger, Range: [1, 80], Default: 10\n",
      "    n_clusters___Birch, Type: UniformInteger, Range: [1, 80], Default: 5\n",
      "    n_clusters___KMeans, Type: UniformInteger, Range: [1, 80], Default: 5\n",
      "    n_clusters___MiniBatchKMeans, Type: UniformInteger, Range: [1, 80], Default: 10\n",
      "    n_clusters___SpectralClustering, Type: UniformInteger, Range: [1, 80], Default: 10\n",
      "    n_components___FastICA, Type: Ordinal, Sequence: {2, 3}, Default: 2\n",
      "    n_components___GaussianMixture, Type: UniformInteger, Range: [1, 80], Default: 5\n",
      "    n_components___IncrementalPCA, Type: Ordinal, Sequence: {2, 3}, Default: 2\n",
      "    n_components___KernelPCA, Type: Ordinal, Sequence: {2, 3, 4, 5, 6, 7, 8, 9}, Default: 2\n",
      "    n_components___PCA, Type: Ordinal, Sequence: {2, 3}, Default: 2\n",
      "    n_components___TSNE, Type: Ordinal, Sequence: {2}, Default: 2\n",
      "    n_components___TruncatedSVD, Type: Ordinal, Sequence: {2, 3, 4, 5, 6, 7, 8, 9}, Default: 2\n",
      "    perplexity___TSNE, Type: UniformFloat, Range: [1.0, 300.0], Default: 30.0\n",
      "    svd_solver___PCA, Type: Categorical, Choices: {auto, full, arpack, randomized}, Default: auto\n",
      "    warm_start___GaussianMixture, Type: Categorical, Choices: {True, False}, Default: False\n",
      "    whiten___FastICA, Type: Categorical, Choices: {True, False}, Default: True\n",
      "    whiten___IncrementalPCA, Type: Categorical, Choices: {True, False}, Default: False\n",
      "    whiten___PCA, Type: Categorical, Choices: {True, False}, Default: False\n",
      "  Conditions:\n",
      "    affinity___AffinityPropagation | clustering_choice in {'AffinityPropagation'}\n",
      "    affinity___AgglomerativeClustering | clustering_choice in {'AgglomerativeClustering'}\n",
      "    affinity___SpectralClustering | clustering_choice in {'SpectralClustering'}\n",
      "    algorithm___FastICA | dim_reduction_choice in {'FastICA'}\n",
      "    algorithm___TruncatedSVD | dim_reduction_choice in {'TruncatedSVD'}\n",
      "    assign_labels___SpectralClustering | clustering_choice in {'SpectralClustering'}\n",
      "    bandwidth___MeanShift | clustering_choice in {'MeanShift'}\n",
      "    batch_size___IncrementalPCA | dim_reduction_choice in {'IncrementalPCA'}\n",
      "    batch_size___MiniBatchKMeans | clustering_choice in {'MiniBatchKMeans'}\n",
      "    bin_seeding___MeanShift | clustering_choice in {'MeanShift'}\n",
      "    branching_factor___Birch | clustering_choice in {'Birch'}\n",
      "    cluster_method___OPTICS | clustering_choice in {'OPTICS'}\n",
      "    covariance_type___GaussianMixture | clustering_choice in {'GaussianMixture'}\n",
      "    damping___AffinityPropagation | clustering_choice in {'AffinityPropagation'}\n",
      "    early_exaggeration___TSNE | dim_reduction_choice in {'TSNE'}\n",
      "    eigen_solver___SpectralClustering | clustering_choice in {'SpectralClustering'}\n",
      "    eps___DBSCAN | clustering_choice in {'DBSCAN'}\n",
      "    fun___FastICA | dim_reduction_choice in {'FastICA'}\n",
      "    init_params___GaussianMixture | clustering_choice in {'GaussianMixture'}\n",
      "    kernel___KernelPCA | dim_reduction_choice in {'KernelPCA'}\n",
      "    linkage___AgglomerativeClustering | clustering_choice in {'AgglomerativeClustering'}\n",
      "    metric___OPTICS | clustering_choice in {'OPTICS'}\n",
      "    min_samples___DBSCAN | clustering_choice in {'DBSCAN'}\n",
      "    min_samples___OPTICS | clustering_choice in {'OPTICS'}\n",
      "    n_clusters___AgglomerativeClustering | clustering_choice in {'AgglomerativeClustering'}\n",
      "    n_clusters___Birch | clustering_choice in {'Birch'}\n",
      "    n_clusters___KMeans | clustering_choice in {'KMeans'}\n",
      "    n_clusters___MiniBatchKMeans | clustering_choice in {'MiniBatchKMeans'}\n",
      "    n_clusters___SpectralClustering | clustering_choice in {'SpectralClustering'}\n",
      "    n_components___FastICA | dim_reduction_choice in {'FastICA'}\n",
      "    n_components___GaussianMixture | clustering_choice in {'GaussianMixture'}\n",
      "    n_components___IncrementalPCA | dim_reduction_choice in {'IncrementalPCA'}\n",
      "    n_components___KernelPCA | dim_reduction_choice in {'KernelPCA'}\n",
      "    n_components___PCA | dim_reduction_choice in {'PCA'}\n",
      "    n_components___TSNE | dim_reduction_choice in {'TSNE'}\n",
      "    n_components___TruncatedSVD | dim_reduction_choice in {'TruncatedSVD'}\n",
      "    perplexity___TSNE | dim_reduction_choice in {'TSNE'}\n",
      "    svd_solver___PCA | dim_reduction_choice in {'PCA'}\n",
      "    warm_start___GaussianMixture | clustering_choice in {'GaussianMixture'}\n",
      "    whiten___FastICA | dim_reduction_choice in {'FastICA'}\n",
      "    whiten___IncrementalPCA | dim_reduction_choice in {'IncrementalPCA'}\n",
      "    whiten___PCA | dim_reduction_choice in {'PCA'}\n",
      "  Forbidden Clauses:\n",
      "    (Forbidden: linkage___AgglomerativeClustering == 'ward' && Forbidden: affinity___AgglomerativeClustering in {'cityblock', 'cosine', 'l1', 'l2', 'manhattan'})\n",
      ", 'deterministic': 'true', 'output_dir': 'log//smac-2019-07-29_14-11-27-65886', 'abort_on_first_run_crash': False, 'runcount-limit': 100, 'run_obj': 'quality'}\n"
     ]
    },
    {
     "name": "stderr",
     "output_type": "stream",
     "text": [
      "/home/coffeetumbler/anaconda3/envs/automl/lib/python3.5/site-packages/numpy/lib/function_base.py:2530: RuntimeWarning: invalid value encountered in true_divide\n",
      "  c /= stddev[:, None]\n",
      "/home/coffeetumbler/anaconda3/envs/automl/lib/python3.5/site-packages/numpy/lib/function_base.py:2531: RuntimeWarning: invalid value encountered in true_divide\n",
      "  c /= stddev[None, :]\n"
     ]
    },
    {
     "name": "stdout",
     "output_type": "stream",
     "text": [
      "Fitting configuration: \n",
      "{'clustering_choice': 'KMeans', 'kernel___KernelPCA': 'poly', 'dim_reduction_choice': 'KernelPCA', 'n_clusters___KMeans': 4, 'n_components___KernelPCA': 2}\n",
      "Score obtained by this configuration: inf\n"
     ]
    },
    {
     "name": "stderr",
     "output_type": "stream",
     "text": [
      "WARNING:smac.tae.execute_func.ExecuteTAFuncDict:Target Algorithm returned NaN or inf as quality. Algorithm run is treated as CRASHED, cost is set to 2147483647.0 for quality scenarios. (Change value through \"cost_for_crash\"-option.)\n"
     ]
    },
    {
     "name": "stdout",
     "output_type": "stream",
     "text": [
      "Fitting configuration: \n",
      "{'clustering_choice': 'Birch', 'dim_reduction_choice': 'KernelPCA', 'n_components___KernelPCA': 2, 'branching_factor___Birch': 10, 'kernel___KernelPCA': 'poly', 'n_clusters___Birch': 5}\n"
     ]
    },
    {
     "name": "stderr",
     "output_type": "stream",
     "text": [
      "/home/coffeetumbler/anaconda3/envs/automl/lib/python3.5/site-packages/sklearn/cluster/birch.py:627: ConvergenceWarning: Number of subclusters found (3) by Birch is less than (5). Decrease the threshold.\n",
      "  % (len(centroids), self.n_clusters), ConvergenceWarning)\n",
      "/home/coffeetumbler/anaconda3/envs/automl/lib/python3.5/site-packages/sklearn/cluster/birch.py:627: ConvergenceWarning: Number of subclusters found (2) by Birch is less than (5). Decrease the threshold.\n",
      "  % (len(centroids), self.n_clusters), ConvergenceWarning)\n"
     ]
    },
    {
     "name": "stdout",
     "output_type": "stream",
     "text": [
      "Score obtained by this configuration: inf\n"
     ]
    },
    {
     "name": "stderr",
     "output_type": "stream",
     "text": [
      "WARNING:smac.tae.execute_func.ExecuteTAFuncDict:Target Algorithm returned NaN or inf as quality. Algorithm run is treated as CRASHED, cost is set to 2147483647.0 for quality scenarios. (Change value through \"cost_for_crash\"-option.)\n"
     ]
    },
    {
     "name": "stdout",
     "output_type": "stream",
     "text": [
      "Fitting configuration: \n",
      "{'clustering_choice': 'Birch', 'dim_reduction_choice': 'KernelPCA', 'n_components___KernelPCA': 2, 'branching_factor___Birch': 32, 'kernel___KernelPCA': 'poly', 'n_clusters___Birch': 5}\n"
     ]
    },
    {
     "name": "stderr",
     "output_type": "stream",
     "text": [
      "/home/coffeetumbler/anaconda3/envs/automl/lib/python3.5/site-packages/sklearn/cluster/birch.py:627: ConvergenceWarning: Number of subclusters found (3) by Birch is less than (5). Decrease the threshold.\n",
      "  % (len(centroids), self.n_clusters), ConvergenceWarning)\n",
      "/home/coffeetumbler/anaconda3/envs/automl/lib/python3.5/site-packages/sklearn/cluster/birch.py:627: ConvergenceWarning: Number of subclusters found (2) by Birch is less than (5). Decrease the threshold.\n",
      "  % (len(centroids), self.n_clusters), ConvergenceWarning)\n"
     ]
    },
    {
     "name": "stdout",
     "output_type": "stream",
     "text": [
      "Score obtained by this configuration: inf\n"
     ]
    },
    {
     "name": "stderr",
     "output_type": "stream",
     "text": [
      "WARNING:smac.tae.execute_func.ExecuteTAFuncDict:Target Algorithm returned NaN or inf as quality. Algorithm run is treated as CRASHED, cost is set to 2147483647.0 for quality scenarios. (Change value through \"cost_for_crash\"-option.)\n"
     ]
    },
    {
     "name": "stdout",
     "output_type": "stream",
     "text": [
      "Fitting configuration: \n",
      "{'clustering_choice': 'Birch', 'dim_reduction_choice': 'KernelPCA', 'n_components___KernelPCA': 2, 'branching_factor___Birch': 64, 'kernel___KernelPCA': 'poly', 'n_clusters___Birch': 5}\n"
     ]
    },
    {
     "name": "stderr",
     "output_type": "stream",
     "text": [
      "/home/coffeetumbler/anaconda3/envs/automl/lib/python3.5/site-packages/sklearn/cluster/birch.py:627: ConvergenceWarning: Number of subclusters found (3) by Birch is less than (5). Decrease the threshold.\n",
      "  % (len(centroids), self.n_clusters), ConvergenceWarning)\n",
      "/home/coffeetumbler/anaconda3/envs/automl/lib/python3.5/site-packages/sklearn/cluster/birch.py:627: ConvergenceWarning: Number of subclusters found (2) by Birch is less than (5). Decrease the threshold.\n",
      "  % (len(centroids), self.n_clusters), ConvergenceWarning)\n"
     ]
    },
    {
     "name": "stdout",
     "output_type": "stream",
     "text": [
      "Score obtained by this configuration: inf\n"
     ]
    },
    {
     "name": "stderr",
     "output_type": "stream",
     "text": [
      "WARNING:smac.tae.execute_func.ExecuteTAFuncDict:Target Algorithm returned NaN or inf as quality. Algorithm run is treated as CRASHED, cost is set to 2147483647.0 for quality scenarios. (Change value through \"cost_for_crash\"-option.)\n"
     ]
    },
    {
     "name": "stdout",
     "output_type": "stream",
     "text": [
      "Fitting configuration: \n",
      "{'clustering_choice': 'Birch', 'dim_reduction_choice': 'KernelPCA', 'n_components___KernelPCA': 2, 'branching_factor___Birch': 10, 'kernel___KernelPCA': 'poly', 'n_clusters___Birch': 6}\n"
     ]
    },
    {
     "name": "stderr",
     "output_type": "stream",
     "text": [
      "/home/coffeetumbler/anaconda3/envs/automl/lib/python3.5/site-packages/sklearn/cluster/birch.py:627: ConvergenceWarning: Number of subclusters found (3) by Birch is less than (6). Decrease the threshold.\n",
      "  % (len(centroids), self.n_clusters), ConvergenceWarning)\n",
      "/home/coffeetumbler/anaconda3/envs/automl/lib/python3.5/site-packages/sklearn/cluster/birch.py:627: ConvergenceWarning: Number of subclusters found (2) by Birch is less than (6). Decrease the threshold.\n",
      "  % (len(centroids), self.n_clusters), ConvergenceWarning)\n"
     ]
    },
    {
     "name": "stdout",
     "output_type": "stream",
     "text": [
      "Score obtained by this configuration: inf\n"
     ]
    },
    {
     "name": "stderr",
     "output_type": "stream",
     "text": [
      "WARNING:smac.tae.execute_func.ExecuteTAFuncDict:Target Algorithm returned NaN or inf as quality. Algorithm run is treated as CRASHED, cost is set to 2147483647.0 for quality scenarios. (Change value through \"cost_for_crash\"-option.)\n"
     ]
    },
    {
     "name": "stdout",
     "output_type": "stream",
     "text": [
      "Fitting configuration: \n",
      "{'clustering_choice': 'SpectralClustering', 'affinity___SpectralClustering': 'laplacian', 'dim_reduction_choice': 'KernelPCA', 'n_components___KernelPCA': 2, 'assign_labels___SpectralClustering': 'kmeans', 'n_clusters___SpectralClustering': 9, 'kernel___KernelPCA': 'poly', 'eigen_solver___SpectralClustering': 'arpack'}\n"
     ]
    },
    {
     "name": "stderr",
     "output_type": "stream",
     "text": [
      "/home/coffeetumbler/anaconda3/envs/automl/lib/python3.5/site-packages/sklearn/cluster/spectral.py:268: ConvergenceWarning: Number of distinct clusters (3) found smaller than n_clusters (9). Possibly due to duplicate points in X.\n",
      "  n_init=n_init)\n",
      "/home/coffeetumbler/anaconda3/envs/automl/lib/python3.5/site-packages/sklearn/cluster/spectral.py:268: ConvergenceWarning: Number of distinct clusters (2) found smaller than n_clusters (9). Possibly due to duplicate points in X.\n",
      "  n_init=n_init)\n"
     ]
    },
    {
     "name": "stdout",
     "output_type": "stream",
     "text": [
      "Score obtained by this configuration: inf\n"
     ]
    },
    {
     "name": "stderr",
     "output_type": "stream",
     "text": [
      "WARNING:smac.tae.execute_func.ExecuteTAFuncDict:Target Algorithm returned NaN or inf as quality. Algorithm run is treated as CRASHED, cost is set to 2147483647.0 for quality scenarios. (Change value through \"cost_for_crash\"-option.)\n"
     ]
    },
    {
     "name": "stdout",
     "output_type": "stream",
     "text": [
      "Fitting configuration: \n",
      "{'clustering_choice': 'SpectralClustering', 'affinity___SpectralClustering': 'laplacian', 'dim_reduction_choice': 'KernelPCA', 'n_components___KernelPCA': 2, 'assign_labels___SpectralClustering': 'kmeans', 'n_clusters___SpectralClustering': 11, 'kernel___KernelPCA': 'poly', 'eigen_solver___SpectralClustering': 'arpack'}\n"
     ]
    },
    {
     "name": "stderr",
     "output_type": "stream",
     "text": [
      "/home/coffeetumbler/anaconda3/envs/automl/lib/python3.5/site-packages/sklearn/cluster/spectral.py:268: ConvergenceWarning: Number of distinct clusters (2) found smaller than n_clusters (11). Possibly due to duplicate points in X.\n",
      "  n_init=n_init)\n"
     ]
    },
    {
     "name": "stdout",
     "output_type": "stream",
     "text": [
      "Score obtained by this configuration: inf\n"
     ]
    },
    {
     "name": "stderr",
     "output_type": "stream",
     "text": [
      "WARNING:smac.tae.execute_func.ExecuteTAFuncDict:Target Algorithm returned NaN or inf as quality. Algorithm run is treated as CRASHED, cost is set to 2147483647.0 for quality scenarios. (Change value through \"cost_for_crash\"-option.)\n"
     ]
    },
    {
     "name": "stdout",
     "output_type": "stream",
     "text": [
      "Fitting configuration: \n",
      "{'clustering_choice': 'SpectralClustering', 'affinity___SpectralClustering': 'laplacian', 'dim_reduction_choice': 'KernelPCA', 'n_components___KernelPCA': 2, 'assign_labels___SpectralClustering': 'discretize', 'n_clusters___SpectralClustering': 13, 'kernel___KernelPCA': 'poly', 'eigen_solver___SpectralClustering': 'arpack'}\n",
      "Score obtained by this configuration: inf\n"
     ]
    },
    {
     "name": "stderr",
     "output_type": "stream",
     "text": [
      "WARNING:smac.tae.execute_func.ExecuteTAFuncDict:Target Algorithm returned NaN or inf as quality. Algorithm run is treated as CRASHED, cost is set to 2147483647.0 for quality scenarios. (Change value through \"cost_for_crash\"-option.)\n"
     ]
    },
    {
     "name": "stdout",
     "output_type": "stream",
     "text": [
      "Fitting configuration: \n",
      "{'clustering_choice': 'OPTICS', 'dim_reduction_choice': 'KernelPCA', 'metric___OPTICS': 'l1', 'min_samples___OPTICS': 787, 'cluster_method___OPTICS': 'dbscan', 'kernel___KernelPCA': 'poly', 'n_components___KernelPCA': 4}\n"
     ]
    },
    {
     "name": "stderr",
     "output_type": "stream",
     "text": [
      "Process pynisher function call:\n",
      "Traceback (most recent call last):\n",
      "  File \"/home/coffeetumbler/anaconda3/envs/automl/lib/python3.5/multiprocessing/process.py\", line 252, in _bootstrap\n",
      "    self.run()\n",
      "  File \"/home/coffeetumbler/anaconda3/envs/automl/lib/python3.5/multiprocessing/process.py\", line 93, in run\n",
      "    self._target(*self._args, **self._kwargs)\n",
      "  File \"/home/coffeetumbler/anaconda3/envs/automl/lib/python3.5/site-packages/pynisher/limit_function_call.py\", line 93, in subprocess_func\n",
      "    return_value = ((func(*args, **kwargs), 0))\n",
      "  File \"/home/coffeetumbler/automl_2019/autocluster/autocluster.py\", line 249, in evaluate_model\n",
      "    y_pred = clustering_model.fit_predict(compressed_valid_data)\n",
      "  File \"/home/coffeetumbler/anaconda3/envs/automl/lib/python3.5/site-packages/sklearn/base.py\", line 447, in fit_predict\n",
      "    self.fit(X)\n",
      "  File \"/home/coffeetumbler/anaconda3/envs/automl/lib/python3.5/site-packages/sklearn/cluster/optics_.py\", line 248, in fit\n",
      "    max_eps=self.max_eps)\n",
      "  File \"/home/coffeetumbler/anaconda3/envs/automl/lib/python3.5/site-packages/sklearn/cluster/optics_.py\", line 438, in compute_optics_graph\n",
      "    _validate_size(min_samples, n_samples, 'min_samples')\n",
      "  File \"/home/coffeetumbler/anaconda3/envs/automl/lib/python3.5/site-packages/sklearn/cluster/optics_.py\", line 290, in _validate_size\n",
      "    (param_name, n_samples, size))\n",
      "ValueError: min_samples must be no greater than the number of samples (475). Got 787\n"
     ]
    },
    {
     "name": "stdout",
     "output_type": "stream",
     "text": [
      "Fitting configuration: \n",
      "{'clustering_choice': 'SpectralClustering', 'affinity___SpectralClustering': 'laplacian', 'dim_reduction_choice': 'KernelPCA', 'n_components___KernelPCA': 7, 'assign_labels___SpectralClustering': 'kmeans', 'n_clusters___SpectralClustering': 10, 'kernel___KernelPCA': 'poly', 'eigen_solver___SpectralClustering': 'arpack'}\n",
      "Score obtained by this configuration: inf\n"
     ]
    },
    {
     "name": "stderr",
     "output_type": "stream",
     "text": [
      "WARNING:smac.tae.execute_func.ExecuteTAFuncDict:Target Algorithm returned NaN or inf as quality. Algorithm run is treated as CRASHED, cost is set to 2147483647.0 for quality scenarios. (Change value through \"cost_for_crash\"-option.)\n"
     ]
    },
    {
     "name": "stdout",
     "output_type": "stream",
     "text": [
      "Fitting configuration: \n",
      "{'clustering_choice': 'Birch', 'dim_reduction_choice': 'KernelPCA', 'n_components___KernelPCA': 5, 'branching_factor___Birch': 83, 'kernel___KernelPCA': 'poly', 'n_clusters___Birch': 9}\n"
     ]
    },
    {
     "name": "stderr",
     "output_type": "stream",
     "text": [
      "/home/coffeetumbler/anaconda3/envs/automl/lib/python3.5/site-packages/sklearn/cluster/birch.py:627: ConvergenceWarning: Number of subclusters found (4) by Birch is less than (9). Decrease the threshold.\n",
      "  % (len(centroids), self.n_clusters), ConvergenceWarning)\n"
     ]
    },
    {
     "name": "stdout",
     "output_type": "stream",
     "text": [
      "Score obtained by this configuration: inf\n"
     ]
    },
    {
     "name": "stderr",
     "output_type": "stream",
     "text": [
      "WARNING:smac.tae.execute_func.ExecuteTAFuncDict:Target Algorithm returned NaN or inf as quality. Algorithm run is treated as CRASHED, cost is set to 2147483647.0 for quality scenarios. (Change value through \"cost_for_crash\"-option.)\n"
     ]
    },
    {
     "name": "stdout",
     "output_type": "stream",
     "text": [
      "Fitting configuration: \n",
      "{'clustering_choice': 'AgglomerativeClustering', 'dim_reduction_choice': 'KernelPCA', 'affinity___AgglomerativeClustering': 'l2', 'kernel___KernelPCA': 'poly', 'linkage___AgglomerativeClustering': 'average', 'n_clusters___AgglomerativeClustering': 15, 'n_components___KernelPCA': 8}\n",
      "Score obtained by this configuration: inf\n"
     ]
    },
    {
     "name": "stderr",
     "output_type": "stream",
     "text": [
      "WARNING:smac.tae.execute_func.ExecuteTAFuncDict:Target Algorithm returned NaN or inf as quality. Algorithm run is treated as CRASHED, cost is set to 2147483647.0 for quality scenarios. (Change value through \"cost_for_crash\"-option.)\n"
     ]
    },
    {
     "name": "stdout",
     "output_type": "stream",
     "text": [
      "Fitting configuration: \n",
      "{'clustering_choice': 'KMeans', 'kernel___KernelPCA': 'poly', 'dim_reduction_choice': 'KernelPCA', 'n_clusters___KMeans': 15, 'n_components___KernelPCA': 2}\n",
      "Score obtained by this configuration: inf\n"
     ]
    },
    {
     "name": "stderr",
     "output_type": "stream",
     "text": [
      "WARNING:smac.tae.execute_func.ExecuteTAFuncDict:Target Algorithm returned NaN or inf as quality. Algorithm run is treated as CRASHED, cost is set to 2147483647.0 for quality scenarios. (Change value through \"cost_for_crash\"-option.)\n"
     ]
    },
    {
     "name": "stdout",
     "output_type": "stream",
     "text": [
      "Fitting configuration: \n",
      "{'clustering_choice': 'Birch', 'dim_reduction_choice': 'PCA', 'branching_factor___Birch': 50, 'svd_solver___PCA': 'auto', 'n_clusters___Birch': 3, 'n_components___PCA': 2}\n",
      "Score obtained by this configuration: 0.13386557135246374\n",
      "Fitting configuration: \n",
      "{'clustering_choice': 'MiniBatchKMeans', 'n_components___TSNE': 2, 'dim_reduction_choice': 'TSNE', 'early_exaggeration___TSNE': 6.112145599966696, 'batch_size___MiniBatchKMeans': 773, 'perplexity___TSNE': 250.7576475481927, 'n_clusters___MiniBatchKMeans': 10}\n",
      "Fitting configuration: \n",
      "{'clustering_choice': 'SpectralClustering', 'affinity___SpectralClustering': 'rbf', 'dim_reduction_choice': 'TSNE', 'early_exaggeration___TSNE': 12.86122333165967, 'n_clusters___SpectralClustering': 3, 'assign_labels___SpectralClustering': 'kmeans', 'perplexity___TSNE': 237.68038043104409, 'eigen_solver___SpectralClustering': 'arpack', 'n_components___TSNE': 2}\n",
      "Fitting configuration: \n",
      "{'clustering_choice': 'MiniBatchKMeans', 'n_components___TSNE': 2, 'dim_reduction_choice': 'TSNE', 'early_exaggeration___TSNE': 5.92345241675155, 'batch_size___MiniBatchKMeans': 891, 'perplexity___TSNE': 234.05607785844984, 'n_clusters___MiniBatchKMeans': 20}\n",
      "Fitting configuration: \n",
      "{'clustering_choice': 'KMeans', 'fun___FastICA': 'cube', 'dim_reduction_choice': 'FastICA', 'whiten___FastICA': True, 'n_components___FastICA': 2, 'n_clusters___KMeans': 3, 'algorithm___FastICA': 'parallel'}\n",
      "Score obtained by this configuration: 0.12837704716188786\n",
      "Fitting configuration: \n",
      "{'clustering_choice': 'DBSCAN', 'dim_reduction_choice': 'TruncatedSVD', 'algorithm___TruncatedSVD': 'randomized', 'eps___DBSCAN': 3.3348244742189315, 'n_components___TruncatedSVD': 3, 'min_samples___DBSCAN': 74}\n",
      "Score obtained by this configuration: 0.19544981605894515\n",
      "Fitting configuration: \n",
      "{'clustering_choice': 'OPTICS', 'dim_reduction_choice': 'KernelPCA', 'metric___OPTICS': 'minkowski', 'min_samples___OPTICS': 788, 'cluster_method___OPTICS': 'xi', 'kernel___KernelPCA': 'poly', 'n_components___KernelPCA': 7}\n"
     ]
    },
    {
     "name": "stderr",
     "output_type": "stream",
     "text": [
      "Process pynisher function call:\n",
      "Traceback (most recent call last):\n",
      "  File \"/home/coffeetumbler/anaconda3/envs/automl/lib/python3.5/multiprocessing/process.py\", line 252, in _bootstrap\n",
      "    self.run()\n",
      "  File \"/home/coffeetumbler/anaconda3/envs/automl/lib/python3.5/multiprocessing/process.py\", line 93, in run\n",
      "    self._target(*self._args, **self._kwargs)\n",
      "  File \"/home/coffeetumbler/anaconda3/envs/automl/lib/python3.5/site-packages/pynisher/limit_function_call.py\", line 93, in subprocess_func\n",
      "    return_value = ((func(*args, **kwargs), 0))\n",
      "  File \"/home/coffeetumbler/automl_2019/autocluster/autocluster.py\", line 249, in evaluate_model\n",
      "    y_pred = clustering_model.fit_predict(compressed_valid_data)\n",
      "  File \"/home/coffeetumbler/anaconda3/envs/automl/lib/python3.5/site-packages/sklearn/base.py\", line 447, in fit_predict\n",
      "    self.fit(X)\n",
      "  File \"/home/coffeetumbler/anaconda3/envs/automl/lib/python3.5/site-packages/sklearn/cluster/optics_.py\", line 248, in fit\n",
      "    max_eps=self.max_eps)\n",
      "  File \"/home/coffeetumbler/anaconda3/envs/automl/lib/python3.5/site-packages/sklearn/cluster/optics_.py\", line 438, in compute_optics_graph\n",
      "    _validate_size(min_samples, n_samples, 'min_samples')\n",
      "  File \"/home/coffeetumbler/anaconda3/envs/automl/lib/python3.5/site-packages/sklearn/cluster/optics_.py\", line 290, in _validate_size\n",
      "    (param_name, n_samples, size))\n",
      "ValueError: min_samples must be no greater than the number of samples (475). Got 788\n"
     ]
    },
    {
     "name": "stdout",
     "output_type": "stream",
     "text": [
      "Fitting configuration: \n",
      "{'clustering_choice': 'KMeans', 'kernel___KernelPCA': 'cosine', 'dim_reduction_choice': 'KernelPCA', 'n_clusters___KMeans': 29, 'n_components___KernelPCA': 3}\n",
      "Score obtained by this configuration: 0.15156911888498087\n",
      "Fitting configuration: \n",
      "{'clustering_choice': 'AffinityPropagation', 'dim_reduction_choice': 'KernelPCA', 'damping___AffinityPropagation': 0.8279287395007919, 'n_components___KernelPCA': 3, 'kernel___KernelPCA': 'cosine', 'affinity___AffinityPropagation': 'euclidean'}\n",
      "Score obtained by this configuration: 0.15051005851082586\n",
      "Fitting configuration: \n",
      "{'clustering_choice': 'MiniBatchKMeans', 'dim_reduction_choice': 'KernelPCA', 'n_components___KernelPCA': 2, 'batch_size___MiniBatchKMeans': 668, 'kernel___KernelPCA': 'cosine', 'n_clusters___MiniBatchKMeans': 9}\n",
      "Score obtained by this configuration: 0.13473719133247766\n",
      "Fitting configuration: \n",
      "{'clustering_choice': 'MiniBatchKMeans', 'dim_reduction_choice': 'KernelPCA', 'n_components___KernelPCA': 3, 'batch_size___MiniBatchKMeans': 362, 'kernel___KernelPCA': 'cosine', 'n_clusters___MiniBatchKMeans': 29}\n",
      "Score obtained by this configuration: 0.15657240059412958\n",
      "Fitting configuration: \n",
      "{'clustering_choice': 'MiniBatchKMeans', 'dim_reduction_choice': 'KernelPCA', 'n_components___KernelPCA': 3, 'batch_size___MiniBatchKMeans': 190, 'kernel___KernelPCA': 'cosine', 'n_clusters___MiniBatchKMeans': 22}\n",
      "Score obtained by this configuration: 0.155689430978133\n",
      "Fitting configuration: \n",
      "{'clustering_choice': 'GaussianMixture', 'covariance_type___GaussianMixture': 'tied', 'dim_reduction_choice': 'KernelPCA', 'n_components___KernelPCA': 3, 'init_params___GaussianMixture': 'kmeans', 'kernel___KernelPCA': 'cosine', 'n_components___GaussianMixture': 8}\n",
      "Score obtained by this configuration: 0.14455694473168437\n",
      "Fitting configuration: \n",
      "{'clustering_choice': 'MiniBatchKMeans', 'dim_reduction_choice': 'KernelPCA', 'n_components___KernelPCA': 7, 'batch_size___MiniBatchKMeans': 154, 'kernel___KernelPCA': 'cosine', 'n_clusters___MiniBatchKMeans': 9}\n",
      "Score obtained by this configuration: 0.17435918052556662\n",
      "Fitting configuration: \n",
      "{'clustering_choice': 'SpectralClustering', 'affinity___SpectralClustering': 'poly', 'dim_reduction_choice': 'KernelPCA', 'n_components___KernelPCA': 2, 'assign_labels___SpectralClustering': 'kmeans', 'n_clusters___SpectralClustering': 10, 'kernel___KernelPCA': 'cosine', 'eigen_solver___SpectralClustering': 'arpack'}\n",
      "Score obtained by this configuration: 0.13615157784896192\n",
      "Fitting configuration: \n",
      "{'clustering_choice': 'KMeans', 'kernel___KernelPCA': 'cosine', 'dim_reduction_choice': 'KernelPCA', 'n_clusters___KMeans': 12, 'n_components___KernelPCA': 2}\n",
      "Score obtained by this configuration: 0.13337675840523572\n",
      "Fitting configuration: \n",
      "{'clustering_choice': 'GaussianMixture', 'covariance_type___GaussianMixture': 'diag', 'dim_reduction_choice': 'TruncatedSVD', 'n_components___GaussianMixture': 9, 'init_params___GaussianMixture': 'kmeans', 'algorithm___TruncatedSVD': 'arpack', 'n_components___TruncatedSVD': 5}\n",
      "Score obtained by this configuration: 0.1680336765063429\n",
      "Fitting configuration: \n",
      "{'clustering_choice': 'MiniBatchKMeans', 'dim_reduction_choice': 'KernelPCA', 'n_components___KernelPCA': 3, 'batch_size___MiniBatchKMeans': 144, 'kernel___KernelPCA': 'cosine', 'n_clusters___MiniBatchKMeans': 11}\n",
      "Score obtained by this configuration: 0.1502151211640368\n",
      "Fitting configuration: \n",
      "{'clustering_choice': 'MiniBatchKMeans', 'dim_reduction_choice': 'KernelPCA', 'n_components___KernelPCA': 3, 'batch_size___MiniBatchKMeans': 182, 'kernel___KernelPCA': 'cosine', 'n_clusters___MiniBatchKMeans': 23}\n",
      "Score obtained by this configuration: 0.15466844288436885\n",
      "Fitting configuration: \n",
      "{'clustering_choice': 'GaussianMixture', 'covariance_type___GaussianMixture': 'tied', 'dim_reduction_choice': 'KernelPCA', 'n_components___KernelPCA': 3, 'init_params___GaussianMixture': 'kmeans', 'kernel___KernelPCA': 'cosine', 'n_components___GaussianMixture': 5}\n",
      "Score obtained by this configuration: 0.1456866367385096\n",
      "Fitting configuration: \n",
      "{'clustering_choice': 'SpectralClustering', 'affinity___SpectralClustering': 'poly', 'dim_reduction_choice': 'IncrementalPCA', 'n_clusters___SpectralClustering': 1, 'assign_labels___SpectralClustering': 'kmeans', 'n_components___IncrementalPCA': 3, 'whiten___IncrementalPCA': True, 'eigen_solver___SpectralClustering': 'arpack', 'batch_size___IncrementalPCA': 780}\n",
      "Score obtained by this configuration: inf\n"
     ]
    },
    {
     "name": "stderr",
     "output_type": "stream",
     "text": [
      "WARNING:smac.tae.execute_func.ExecuteTAFuncDict:Target Algorithm returned NaN or inf as quality. Algorithm run is treated as CRASHED, cost is set to 2147483647.0 for quality scenarios. (Change value through \"cost_for_crash\"-option.)\n"
     ]
    },
    {
     "name": "stdout",
     "output_type": "stream",
     "text": [
      "Fitting configuration: \n",
      "{'clustering_choice': 'GaussianMixture', 'covariance_type___GaussianMixture': 'diag', 'dim_reduction_choice': 'KernelPCA', 'n_components___KernelPCA': 3, 'init_params___GaussianMixture': 'kmeans', 'kernel___KernelPCA': 'cosine', 'n_components___GaussianMixture': 4}\n",
      "Score obtained by this configuration: 0.1569609979031408\n",
      "Fitting configuration: \n",
      "{'clustering_choice': 'AgglomerativeClustering', 'dim_reduction_choice': 'KernelPCA', 'affinity___AgglomerativeClustering': 'euclidean', 'kernel___KernelPCA': 'cosine', 'linkage___AgglomerativeClustering': 'ward', 'n_clusters___AgglomerativeClustering': 28, 'n_components___KernelPCA': 3}\n",
      "Score obtained by this configuration: 0.1534757685255032\n",
      "Fitting configuration: \n",
      "{'clustering_choice': 'GaussianMixture', 'covariance_type___GaussianMixture': 'diag', 'dim_reduction_choice': 'TruncatedSVD', 'n_components___GaussianMixture': 6, 'init_params___GaussianMixture': 'random', 'algorithm___TruncatedSVD': 'randomized', 'warm_start___GaussianMixture': True, 'n_components___TruncatedSVD': 8}\n",
      "Score obtained by this configuration: 0.1895821935770119\n",
      "Fitting configuration: \n",
      "{'clustering_choice': 'Birch', 'dim_reduction_choice': 'KernelPCA', 'n_components___KernelPCA': 2, 'branching_factor___Birch': 385, 'kernel___KernelPCA': 'cosine', 'n_clusters___Birch': 12}\n"
     ]
    },
    {
     "name": "stderr",
     "output_type": "stream",
     "text": [
      "/home/coffeetumbler/anaconda3/envs/automl/lib/python3.5/site-packages/sklearn/cluster/birch.py:627: ConvergenceWarning: Number of subclusters found (2) by Birch is less than (12). Decrease the threshold.\n",
      "  % (len(centroids), self.n_clusters), ConvergenceWarning)\n",
      "/home/coffeetumbler/anaconda3/envs/automl/lib/python3.5/site-packages/sklearn/cluster/birch.py:627: ConvergenceWarning: Number of subclusters found (3) by Birch is less than (12). Decrease the threshold.\n",
      "  % (len(centroids), self.n_clusters), ConvergenceWarning)\n",
      "/home/coffeetumbler/anaconda3/envs/automl/lib/python3.5/site-packages/sklearn/cluster/birch.py:627: ConvergenceWarning: Number of subclusters found (2) by Birch is less than (12). Decrease the threshold.\n",
      "  % (len(centroids), self.n_clusters), ConvergenceWarning)\n",
      "/home/coffeetumbler/anaconda3/envs/automl/lib/python3.5/site-packages/sklearn/cluster/birch.py:627: ConvergenceWarning: Number of subclusters found (3) by Birch is less than (12). Decrease the threshold.\n",
      "  % (len(centroids), self.n_clusters), ConvergenceWarning)\n",
      "/home/coffeetumbler/anaconda3/envs/automl/lib/python3.5/site-packages/sklearn/cluster/birch.py:627: ConvergenceWarning: Number of subclusters found (2) by Birch is less than (12). Decrease the threshold.\n",
      "  % (len(centroids), self.n_clusters), ConvergenceWarning)\n",
      "/home/coffeetumbler/anaconda3/envs/automl/lib/python3.5/site-packages/sklearn/cluster/birch.py:627: ConvergenceWarning: Number of subclusters found (2) by Birch is less than (12). Decrease the threshold.\n",
      "  % (len(centroids), self.n_clusters), ConvergenceWarning)\n"
     ]
    },
    {
     "name": "stdout",
     "output_type": "stream",
     "text": [
      "Score obtained by this configuration: 0.14553339668238013\n",
      "Fitting configuration: \n",
      "{'clustering_choice': 'MiniBatchKMeans', 'dim_reduction_choice': 'PCA', 'batch_size___MiniBatchKMeans': 191, 'svd_solver___PCA': 'arpack', 'n_clusters___MiniBatchKMeans': 6, 'n_components___PCA': 3}\n",
      "Score obtained by this configuration: 0.14470095802435226\n",
      "Fitting configuration: \n",
      "{'clustering_choice': 'DBSCAN', 'dim_reduction_choice': 'KernelPCA', 'n_components___KernelPCA': 2, 'kernel___KernelPCA': 'poly', 'eps___DBSCAN': 0.33357409867392923, 'min_samples___DBSCAN': 85}\n",
      "Score obtained by this configuration: inf\n"
     ]
    },
    {
     "name": "stderr",
     "output_type": "stream",
     "text": [
      "WARNING:smac.tae.execute_func.ExecuteTAFuncDict:Target Algorithm returned NaN or inf as quality. Algorithm run is treated as CRASHED, cost is set to 2147483647.0 for quality scenarios. (Change value through \"cost_for_crash\"-option.)\n"
     ]
    },
    {
     "name": "stdout",
     "output_type": "stream",
     "text": [
      "Fitting configuration: \n",
      "{'clustering_choice': 'DBSCAN', 'dim_reduction_choice': 'KernelPCA', 'n_components___KernelPCA': 3, 'kernel___KernelPCA': 'poly', 'eps___DBSCAN': 0.4911184393167958, 'min_samples___DBSCAN': 30}\n",
      "Score obtained by this configuration: inf\n"
     ]
    },
    {
     "name": "stderr",
     "output_type": "stream",
     "text": [
      "WARNING:smac.tae.execute_func.ExecuteTAFuncDict:Target Algorithm returned NaN or inf as quality. Algorithm run is treated as CRASHED, cost is set to 2147483647.0 for quality scenarios. (Change value through \"cost_for_crash\"-option.)\n"
     ]
    },
    {
     "name": "stdout",
     "output_type": "stream",
     "text": [
      "Fitting configuration: \n",
      "{'clustering_choice': 'DBSCAN', 'dim_reduction_choice': 'KernelPCA', 'n_components___KernelPCA': 3, 'kernel___KernelPCA': 'poly', 'eps___DBSCAN': 0.46609068939941084, 'min_samples___DBSCAN': 8}\n",
      "Score obtained by this configuration: inf\n"
     ]
    },
    {
     "name": "stderr",
     "output_type": "stream",
     "text": [
      "WARNING:smac.tae.execute_func.ExecuteTAFuncDict:Target Algorithm returned NaN or inf as quality. Algorithm run is treated as CRASHED, cost is set to 2147483647.0 for quality scenarios. (Change value through \"cost_for_crash\"-option.)\n"
     ]
    },
    {
     "name": "stdout",
     "output_type": "stream",
     "text": [
      "Fitting configuration: \n",
      "{'clustering_choice': 'DBSCAN', 'dim_reduction_choice': 'KernelPCA', 'n_components___KernelPCA': 3, 'kernel___KernelPCA': 'poly', 'eps___DBSCAN': 0.42763622817394803, 'min_samples___DBSCAN': 13}\n",
      "Score obtained by this configuration: inf\n"
     ]
    },
    {
     "name": "stderr",
     "output_type": "stream",
     "text": [
      "WARNING:smac.tae.execute_func.ExecuteTAFuncDict:Target Algorithm returned NaN or inf as quality. Algorithm run is treated as CRASHED, cost is set to 2147483647.0 for quality scenarios. (Change value through \"cost_for_crash\"-option.)\n"
     ]
    },
    {
     "name": "stdout",
     "output_type": "stream",
     "text": [
      "Fitting configuration: \n",
      "{'clustering_choice': 'DBSCAN', 'dim_reduction_choice': 'KernelPCA', 'n_components___KernelPCA': 3, 'kernel___KernelPCA': 'poly', 'eps___DBSCAN': 0.3597676486445218, 'min_samples___DBSCAN': 10}\n",
      "Score obtained by this configuration: inf\n"
     ]
    },
    {
     "name": "stderr",
     "output_type": "stream",
     "text": [
      "WARNING:smac.tae.execute_func.ExecuteTAFuncDict:Target Algorithm returned NaN or inf as quality. Algorithm run is treated as CRASHED, cost is set to 2147483647.0 for quality scenarios. (Change value through \"cost_for_crash\"-option.)\n"
     ]
    },
    {
     "name": "stdout",
     "output_type": "stream",
     "text": [
      "Fitting configuration: \n",
      "{'clustering_choice': 'DBSCAN', 'n_components___TSNE': 2, 'dim_reduction_choice': 'TSNE', 'early_exaggeration___TSNE': 13.486116543319527, 'eps___DBSCAN': 1.4543702868272501, 'perplexity___TSNE': 207.2286787061756, 'min_samples___DBSCAN': 73}\n",
      "Fitting configuration: \n",
      "{'clustering_choice': 'DBSCAN', 'dim_reduction_choice': 'KernelPCA', 'n_components___KernelPCA': 4, 'kernel___KernelPCA': 'poly', 'eps___DBSCAN': 0.45622940930651806, 'min_samples___DBSCAN': 25}\n",
      "Score obtained by this configuration: inf\n"
     ]
    },
    {
     "name": "stderr",
     "output_type": "stream",
     "text": [
      "WARNING:smac.tae.execute_func.ExecuteTAFuncDict:Target Algorithm returned NaN or inf as quality. Algorithm run is treated as CRASHED, cost is set to 2147483647.0 for quality scenarios. (Change value through \"cost_for_crash\"-option.)\n"
     ]
    },
    {
     "name": "stdout",
     "output_type": "stream",
     "text": [
      "Fitting configuration: \n",
      "{'clustering_choice': 'DBSCAN', 'fun___FastICA': 'exp', 'dim_reduction_choice': 'FastICA', 'whiten___FastICA': True, 'n_components___FastICA': 2, 'eps___DBSCAN': 0.04642250559297685, 'algorithm___FastICA': 'deflation', 'min_samples___DBSCAN': 28}\n",
      "Score obtained by this configuration: inf\n"
     ]
    },
    {
     "name": "stderr",
     "output_type": "stream",
     "text": [
      "WARNING:smac.tae.execute_func.ExecuteTAFuncDict:Target Algorithm returned NaN or inf as quality. Algorithm run is treated as CRASHED, cost is set to 2147483647.0 for quality scenarios. (Change value through \"cost_for_crash\"-option.)\n"
     ]
    },
    {
     "name": "stdout",
     "output_type": "stream",
     "text": [
      "Fitting configuration: \n",
      "{'clustering_choice': 'DBSCAN', 'dim_reduction_choice': 'KernelPCA', 'n_components___KernelPCA': 2, 'kernel___KernelPCA': 'sigmoid', 'eps___DBSCAN': 0.2613984466855124, 'min_samples___DBSCAN': 18}\n",
      "Score obtained by this configuration: inf\n"
     ]
    },
    {
     "name": "stderr",
     "output_type": "stream",
     "text": [
      "WARNING:smac.tae.execute_func.ExecuteTAFuncDict:Target Algorithm returned NaN or inf as quality. Algorithm run is treated as CRASHED, cost is set to 2147483647.0 for quality scenarios. (Change value through \"cost_for_crash\"-option.)\n"
     ]
    },
    {
     "name": "stdout",
     "output_type": "stream",
     "text": [
      "Fitting configuration: \n",
      "{'clustering_choice': 'DBSCAN', 'dim_reduction_choice': 'KernelPCA', 'n_components___KernelPCA': 3, 'kernel___KernelPCA': 'sigmoid', 'eps___DBSCAN': 0.4911184393167958, 'min_samples___DBSCAN': 18}\n",
      "Score obtained by this configuration: inf\n"
     ]
    },
    {
     "name": "stderr",
     "output_type": "stream",
     "text": [
      "WARNING:smac.tae.execute_func.ExecuteTAFuncDict:Target Algorithm returned NaN or inf as quality. Algorithm run is treated as CRASHED, cost is set to 2147483647.0 for quality scenarios. (Change value through \"cost_for_crash\"-option.)\n"
     ]
    },
    {
     "name": "stdout",
     "output_type": "stream",
     "text": [
      "Fitting configuration: \n",
      "{'clustering_choice': 'DBSCAN', 'dim_reduction_choice': 'KernelPCA', 'n_components___KernelPCA': 4, 'kernel___KernelPCA': 'sigmoid', 'eps___DBSCAN': 0.4431447716161244, 'min_samples___DBSCAN': 12}\n",
      "Score obtained by this configuration: inf\n"
     ]
    },
    {
     "name": "stderr",
     "output_type": "stream",
     "text": [
      "WARNING:smac.tae.execute_func.ExecuteTAFuncDict:Target Algorithm returned NaN or inf as quality. Algorithm run is treated as CRASHED, cost is set to 2147483647.0 for quality scenarios. (Change value through \"cost_for_crash\"-option.)\n"
     ]
    },
    {
     "name": "stdout",
     "output_type": "stream",
     "text": [
      "Fitting configuration: \n",
      "{'clustering_choice': 'SpectralClustering', 'affinity___SpectralClustering': 'laplacian', 'dim_reduction_choice': 'TruncatedSVD', 'eigen_solver___SpectralClustering': 'arpack', 'assign_labels___SpectralClustering': 'kmeans', 'n_clusters___SpectralClustering': 7, 'algorithm___TruncatedSVD': 'randomized', 'n_components___TruncatedSVD': 2}\n",
      "Score obtained by this configuration: 0.13705855080687637\n",
      "Fitting configuration: \n",
      "{'clustering_choice': 'DBSCAN', 'dim_reduction_choice': 'KernelPCA', 'n_components___KernelPCA': 5, 'kernel___KernelPCA': 'sigmoid', 'eps___DBSCAN': 0.4872295004818057, 'min_samples___DBSCAN': 15}\n",
      "Score obtained by this configuration: inf\n"
     ]
    },
    {
     "name": "stderr",
     "output_type": "stream",
     "text": [
      "WARNING:smac.tae.execute_func.ExecuteTAFuncDict:Target Algorithm returned NaN or inf as quality. Algorithm run is treated as CRASHED, cost is set to 2147483647.0 for quality scenarios. (Change value through \"cost_for_crash\"-option.)\n"
     ]
    },
    {
     "name": "stdout",
     "output_type": "stream",
     "text": [
      "Fitting configuration: \n",
      "{'clustering_choice': 'DBSCAN', 'dim_reduction_choice': 'IncrementalPCA', 'eps___DBSCAN': 1.2911136728166452, 'whiten___IncrementalPCA': True, 'n_components___IncrementalPCA': 3, 'min_samples___DBSCAN': 14, 'batch_size___IncrementalPCA': 566}\n",
      "Score obtained by this configuration: inf\n"
     ]
    },
    {
     "name": "stderr",
     "output_type": "stream",
     "text": [
      "WARNING:smac.tae.execute_func.ExecuteTAFuncDict:Target Algorithm returned NaN or inf as quality. Algorithm run is treated as CRASHED, cost is set to 2147483647.0 for quality scenarios. (Change value through \"cost_for_crash\"-option.)\n"
     ]
    },
    {
     "name": "stdout",
     "output_type": "stream",
     "text": [
      "Fitting configuration: \n",
      "{'clustering_choice': 'DBSCAN', 'dim_reduction_choice': 'KernelPCA', 'n_components___KernelPCA': 3, 'kernel___KernelPCA': 'sigmoid', 'eps___DBSCAN': 0.12320956350310737, 'min_samples___DBSCAN': 9}\n",
      "Score obtained by this configuration: 0.3253565630643402\n",
      "Fitting configuration: \n",
      "{'clustering_choice': 'DBSCAN', 'dim_reduction_choice': 'IncrementalPCA', 'eps___DBSCAN': 1.2410476486901236, 'min_samples___DBSCAN': 13, 'n_components___IncrementalPCA': 3, 'batch_size___IncrementalPCA': 494}\n",
      "Score obtained by this configuration: 0.1929427594490267\n",
      "Fitting configuration: \n",
      "{'clustering_choice': 'DBSCAN', 'dim_reduction_choice': 'PCA', 'whiten___PCA': True, 'eps___DBSCAN': 0.4491675983200766, 'n_components___PCA': 2, 'svd_solver___PCA': 'randomized', 'min_samples___DBSCAN': 43}\n",
      "Score obtained by this configuration: 0.19241971078932116\n",
      "Fitting configuration: \n",
      "{'clustering_choice': 'AgglomerativeClustering', 'dim_reduction_choice': 'TruncatedSVD', 'affinity___AgglomerativeClustering': 'l1', 'algorithm___TruncatedSVD': 'arpack', 'linkage___AgglomerativeClustering': 'single', 'n_components___TruncatedSVD': 7, 'n_clusters___AgglomerativeClustering': 19}\n",
      "Score obtained by this configuration: inf\n"
     ]
    },
    {
     "name": "stderr",
     "output_type": "stream",
     "text": [
      "WARNING:smac.tae.execute_func.ExecuteTAFuncDict:Target Algorithm returned NaN or inf as quality. Algorithm run is treated as CRASHED, cost is set to 2147483647.0 for quality scenarios. (Change value through \"cost_for_crash\"-option.)\n"
     ]
    },
    {
     "name": "stdout",
     "output_type": "stream",
     "text": [
      "Fitting configuration: \n",
      "{'clustering_choice': 'SpectralClustering', 'affinity___SpectralClustering': 'rbf', 'dim_reduction_choice': 'KernelPCA', 'n_components___KernelPCA': 2, 'assign_labels___SpectralClustering': 'discretize', 'n_clusters___SpectralClustering': 40, 'kernel___KernelPCA': 'linear', 'eigen_solver___SpectralClustering': 'arpack'}\n",
      "Score obtained by this configuration: 0.12512237871698914\n",
      "Fitting configuration: \n",
      "{'clustering_choice': 'SpectralClustering', 'affinity___SpectralClustering': 'nearest_neighbors', 'dim_reduction_choice': 'KernelPCA', 'n_components___KernelPCA': 2, 'assign_labels___SpectralClustering': 'kmeans', 'n_clusters___SpectralClustering': 17, 'kernel___KernelPCA': 'linear', 'eigen_solver___SpectralClustering': 'arpack'}\n",
      "Score obtained by this configuration: 0.13611672481088058\n",
      "Fitting configuration: \n",
      "{'clustering_choice': 'GaussianMixture', 'covariance_type___GaussianMixture': 'full', 'dim_reduction_choice': 'KernelPCA', 'n_components___KernelPCA': 8, 'init_params___GaussianMixture': 'kmeans', 'kernel___KernelPCA': 'cosine', 'warm_start___GaussianMixture': True, 'n_components___GaussianMixture': 73}\n",
      "Score obtained by this configuration: 0.19218902273482877\n",
      "Fitting configuration: \n",
      "{'clustering_choice': 'KMeans', 'kernel___KernelPCA': 'linear', 'dim_reduction_choice': 'KernelPCA', 'n_clusters___KMeans': 59, 'n_components___KernelPCA': 4}\n",
      "Score obtained by this configuration: 0.15999877432902065\n",
      "Fitting configuration: \n",
      "{'clustering_choice': 'SpectralClustering', 'affinity___SpectralClustering': 'laplacian', 'dim_reduction_choice': 'KernelPCA', 'n_components___KernelPCA': 2, 'assign_labels___SpectralClustering': 'kmeans', 'n_clusters___SpectralClustering': 26, 'kernel___KernelPCA': 'linear', 'eigen_solver___SpectralClustering': 'arpack'}\n",
      "Score obtained by this configuration: 0.1319503962675553\n",
      "Fitting configuration: \n",
      "{'clustering_choice': 'DBSCAN', 'fun___FastICA': 'cube', 'dim_reduction_choice': 'FastICA', 'whiten___FastICA': True, 'n_components___FastICA': 3, 'eps___DBSCAN': 0.3203676393525975, 'algorithm___FastICA': 'deflation', 'min_samples___DBSCAN': 5}\n",
      "Score obtained by this configuration: inf\n"
     ]
    },
    {
     "name": "stderr",
     "output_type": "stream",
     "text": [
      "WARNING:smac.tae.execute_func.ExecuteTAFuncDict:Target Algorithm returned NaN or inf as quality. Algorithm run is treated as CRASHED, cost is set to 2147483647.0 for quality scenarios. (Change value through \"cost_for_crash\"-option.)\n"
     ]
    },
    {
     "name": "stdout",
     "output_type": "stream",
     "text": [
      "Fitting configuration: \n",
      "{'clustering_choice': 'DBSCAN', 'dim_reduction_choice': 'KernelPCA', 'n_components___KernelPCA': 4, 'kernel___KernelPCA': 'cosine', 'eps___DBSCAN': 0.47523415218154896, 'min_samples___DBSCAN': 91}\n",
      "Score obtained by this configuration: 0.19049109781011517\n",
      "Fitting configuration: \n",
      "{'clustering_choice': 'SpectralClustering', 'affinity___SpectralClustering': 'rbf', 'dim_reduction_choice': 'TruncatedSVD', 'eigen_solver___SpectralClustering': 'arpack', 'assign_labels___SpectralClustering': 'kmeans', 'n_clusters___SpectralClustering': 37, 'algorithm___TruncatedSVD': 'arpack', 'n_components___TruncatedSVD': 2}\n",
      "Score obtained by this configuration: 0.1298204340430247\n",
      "Fitting configuration: \n",
      "{'clustering_choice': 'Birch', 'dim_reduction_choice': 'KernelPCA', 'n_components___KernelPCA': 2, 'branching_factor___Birch': 202, 'kernel___KernelPCA': 'linear', 'n_clusters___Birch': 5}\n",
      "Score obtained by this configuration: 0.14153862428066785\n",
      "Fitting configuration: \n",
      "{'clustering_choice': 'Birch', 'dim_reduction_choice': 'KernelPCA', 'n_components___KernelPCA': 2, 'branching_factor___Birch': 27, 'kernel___KernelPCA': 'linear', 'n_clusters___Birch': 14}\n",
      "Score obtained by this configuration: 0.1408050191161204\n",
      "Fitting configuration: \n",
      "{'clustering_choice': 'MiniBatchKMeans', 'dim_reduction_choice': 'KernelPCA', 'n_components___KernelPCA': 2, 'batch_size___MiniBatchKMeans': 44, 'kernel___KernelPCA': 'linear', 'n_clusters___MiniBatchKMeans': 10}\n",
      "Score obtained by this configuration: 0.1417577370448693\n",
      "Fitting configuration: \n",
      "{'clustering_choice': 'Birch', 'n_clusters___Birch': 18, 'branching_factor___Birch': 936, 'n_components___IncrementalPCA': 3, 'batch_size___IncrementalPCA': 640, 'dim_reduction_choice': 'IncrementalPCA'}\n",
      "Score obtained by this configuration: 0.15282924709169435\n",
      "Fitting configuration: \n",
      "{'clustering_choice': 'MeanShift', 'fun___FastICA': 'logcosh', 'dim_reduction_choice': 'FastICA', 'bandwidth___MeanShift': 28.058663589736764, 'n_components___FastICA': 2, 'algorithm___FastICA': 'deflation'}\n",
      "Score obtained by this configuration: inf\n"
     ]
    },
    {
     "name": "stderr",
     "output_type": "stream",
     "text": [
      "WARNING:smac.tae.execute_func.ExecuteTAFuncDict:Target Algorithm returned NaN or inf as quality. Algorithm run is treated as CRASHED, cost is set to 2147483647.0 for quality scenarios. (Change value through \"cost_for_crash\"-option.)\n"
     ]
    },
    {
     "name": "stdout",
     "output_type": "stream",
     "text": [
      "Fitting configuration: \n",
      "{'clustering_choice': 'MeanShift', 'bin_seeding___MeanShift': True, 'dim_reduction_choice': 'FastICA', 'bandwidth___MeanShift': 12.407275331296686, 'n_components___FastICA': 3, 'fun___FastICA': 'cube', 'algorithm___FastICA': 'deflation'}\n",
      "Score obtained by this configuration: inf\n"
     ]
    },
    {
     "name": "stderr",
     "output_type": "stream",
     "text": [
      "WARNING:smac.tae.execute_func.ExecuteTAFuncDict:Target Algorithm returned NaN or inf as quality. Algorithm run is treated as CRASHED, cost is set to 2147483647.0 for quality scenarios. (Change value through \"cost_for_crash\"-option.)\n"
     ]
    },
    {
     "name": "stdout",
     "output_type": "stream",
     "text": [
      "Fitting configuration: \n",
      "{'clustering_choice': 'SpectralClustering', 'affinity___SpectralClustering': 'sigmoid', 'dim_reduction_choice': 'TruncatedSVD', 'eigen_solver___SpectralClustering': 'arpack', 'assign_labels___SpectralClustering': 'discretize', 'n_clusters___SpectralClustering': 38, 'algorithm___TruncatedSVD': 'randomized', 'n_components___TruncatedSVD': 2}\n"
     ]
    },
    {
     "name": "stderr",
     "output_type": "stream",
     "text": [
      "/home/coffeetumbler/anaconda3/envs/automl/lib/python3.5/site-packages/scipy/sparse/csgraph/_laplacian.py:120: RuntimeWarning: invalid value encountered in sqrt\n",
      "  w = np.where(isolated_node_mask, 1, np.sqrt(w))\n",
      "Process pynisher function call:\n",
      "Traceback (most recent call last):\n",
      "  File \"/home/coffeetumbler/anaconda3/envs/automl/lib/python3.5/multiprocessing/process.py\", line 252, in _bootstrap\n",
      "    self.run()\n",
      "  File \"/home/coffeetumbler/anaconda3/envs/automl/lib/python3.5/multiprocessing/process.py\", line 93, in run\n",
      "    self._target(*self._args, **self._kwargs)\n",
      "  File \"/home/coffeetumbler/anaconda3/envs/automl/lib/python3.5/site-packages/pynisher/limit_function_call.py\", line 93, in subprocess_func\n",
      "    return_value = ((func(*args, **kwargs), 0))\n",
      "  File \"/home/coffeetumbler/automl_2019/autocluster/autocluster.py\", line 236, in evaluate_model\n",
      "    scaler, dim_reduction_model, clustering_model = fit_models(cfg, train_data)\n",
      "  File \"/home/coffeetumbler/automl_2019/autocluster/autocluster.py\", line 204, in fit_models\n",
      "    clustering_model.fit(compressed_data)\n",
      "  File \"/home/coffeetumbler/anaconda3/envs/automl/lib/python3.5/site-packages/sklearn/cluster/spectral.py\", line 493, in fit\n",
      "    assign_labels=self.assign_labels)\n",
      "  File \"/home/coffeetumbler/anaconda3/envs/automl/lib/python3.5/site-packages/sklearn/cluster/spectral.py\", line 264, in spectral_clustering\n",
      "    eigen_tol=eigen_tol, drop_first=False)\n",
      "  File \"/home/coffeetumbler/anaconda3/envs/automl/lib/python3.5/site-packages/sklearn/manifold/spectral_embedding_.py\", line 271, in spectral_embedding\n",
      "    tol=eigen_tol, v0=v0)\n",
      "  File \"/home/coffeetumbler/anaconda3/envs/automl/lib/python3.5/site-packages/scipy/sparse/linalg/eigen/arpack/arpack.py\", line 1622, in eigsh\n",
      "    symmetric=True, tol=tol)\n",
      "  File \"/home/coffeetumbler/anaconda3/envs/automl/lib/python3.5/site-packages/scipy/sparse/linalg/eigen/arpack/arpack.py\", line 1053, in get_OPinv_matvec\n",
      "    return LuInv(A).matvec\n",
      "  File \"/home/coffeetumbler/anaconda3/envs/automl/lib/python3.5/site-packages/scipy/sparse/linalg/eigen/arpack/arpack.py\", line 931, in __init__\n",
      "    self.M_lu = lu_factor(M)\n",
      "  File \"/home/coffeetumbler/anaconda3/envs/automl/lib/python3.5/site-packages/scipy/linalg/decomp_lu.py\", line 73, in lu_factor\n",
      "    a1 = asarray_chkfinite(a)\n",
      "  File \"/home/coffeetumbler/anaconda3/envs/automl/lib/python3.5/site-packages/numpy/lib/function_base.py\", line 498, in asarray_chkfinite\n",
      "    \"array must not contain infs or NaNs\")\n",
      "ValueError: array must not contain infs or NaNs\n"
     ]
    },
    {
     "name": "stdout",
     "output_type": "stream",
     "text": [
      "Fitting configuration: \n",
      "{'clustering_choice': 'AffinityPropagation', 'n_components___TSNE': 2, 'dim_reduction_choice': 'TSNE', 'damping___AffinityPropagation': 0.9327619183509175, 'early_exaggeration___TSNE': 12.133370273932321, 'affinity___AffinityPropagation': 'euclidean', 'perplexity___TSNE': 165.9296760669942}\n",
      "Fitting configuration: \n",
      "{'clustering_choice': 'DBSCAN', 'dim_reduction_choice': 'TruncatedSVD', 'algorithm___TruncatedSVD': 'arpack', 'eps___DBSCAN': 1.7008203257247567, 'n_components___TruncatedSVD': 9, 'min_samples___DBSCAN': 88}\n",
      "Score obtained by this configuration: inf\n"
     ]
    },
    {
     "name": "stderr",
     "output_type": "stream",
     "text": [
      "WARNING:smac.tae.execute_func.ExecuteTAFuncDict:Target Algorithm returned NaN or inf as quality. Algorithm run is treated as CRASHED, cost is set to 2147483647.0 for quality scenarios. (Change value through \"cost_for_crash\"-option.)\n"
     ]
    },
    {
     "name": "stdout",
     "output_type": "stream",
     "text": [
      "Fitting configuration: \n",
      "{'clustering_choice': 'SpectralClustering', 'affinity___SpectralClustering': 'rbf', 'dim_reduction_choice': 'TSNE', 'early_exaggeration___TSNE': 16.084966050573037, 'n_clusters___SpectralClustering': 51, 'assign_labels___SpectralClustering': 'kmeans', 'perplexity___TSNE': 18.78275673833794, 'eigen_solver___SpectralClustering': 'arpack', 'n_components___TSNE': 2}\n"
     ]
    },
    {
     "name": "stderr",
     "output_type": "stream",
     "text": [
      "/home/coffeetumbler/anaconda3/envs/automl/lib/python3.5/site-packages/sklearn/manifold/spectral_embedding_.py:235: UserWarning: Graph is not fully connected, spectral embedding may not work as expected.\n",
      "  warnings.warn(\"Graph is not fully connected, spectral embedding\"\n"
     ]
    },
    {
     "name": "stdout",
     "output_type": "stream",
     "text": [
      "Fitting configuration: \n",
      "{'clustering_choice': 'MeanShift', 'bin_seeding___MeanShift': True, 'dim_reduction_choice': 'TSNE', 'bandwidth___MeanShift': 42.788747815765596, 'early_exaggeration___TSNE': 18.827897330543124, 'n_components___TSNE': 2, 'perplexity___TSNE': 81.26163514941113}\n",
      "Fitting configuration: \n",
      "{'clustering_choice': 'SpectralClustering', 'affinity___SpectralClustering': 'poly', 'dim_reduction_choice': 'KernelPCA', 'n_components___KernelPCA': 2, 'assign_labels___SpectralClustering': 'discretize', 'n_clusters___SpectralClustering': 13, 'kernel___KernelPCA': 'linear', 'eigen_solver___SpectralClustering': 'arpack'}\n"
     ]
    },
    {
     "name": "stderr",
     "output_type": "stream",
     "text": [
      "/home/coffeetumbler/anaconda3/envs/automl/lib/python3.5/site-packages/scipy/sparse/csgraph/_laplacian.py:120: RuntimeWarning: invalid value encountered in sqrt\n",
      "  w = np.where(isolated_node_mask, 1, np.sqrt(w))\n",
      "Process pynisher function call:\n",
      "Traceback (most recent call last):\n",
      "  File \"/home/coffeetumbler/anaconda3/envs/automl/lib/python3.5/multiprocessing/process.py\", line 252, in _bootstrap\n",
      "    self.run()\n",
      "  File \"/home/coffeetumbler/anaconda3/envs/automl/lib/python3.5/multiprocessing/process.py\", line 93, in run\n",
      "    self._target(*self._args, **self._kwargs)\n",
      "  File \"/home/coffeetumbler/anaconda3/envs/automl/lib/python3.5/site-packages/pynisher/limit_function_call.py\", line 93, in subprocess_func\n",
      "    return_value = ((func(*args, **kwargs), 0))\n",
      "  File \"/home/coffeetumbler/automl_2019/autocluster/autocluster.py\", line 236, in evaluate_model\n",
      "    scaler, dim_reduction_model, clustering_model = fit_models(cfg, train_data)\n",
      "  File \"/home/coffeetumbler/automl_2019/autocluster/autocluster.py\", line 204, in fit_models\n",
      "    clustering_model.fit(compressed_data)\n",
      "  File \"/home/coffeetumbler/anaconda3/envs/automl/lib/python3.5/site-packages/sklearn/cluster/spectral.py\", line 493, in fit\n",
      "    assign_labels=self.assign_labels)\n",
      "  File \"/home/coffeetumbler/anaconda3/envs/automl/lib/python3.5/site-packages/sklearn/cluster/spectral.py\", line 264, in spectral_clustering\n",
      "    eigen_tol=eigen_tol, drop_first=False)\n",
      "  File \"/home/coffeetumbler/anaconda3/envs/automl/lib/python3.5/site-packages/sklearn/manifold/spectral_embedding_.py\", line 271, in spectral_embedding\n",
      "    tol=eigen_tol, v0=v0)\n",
      "  File \"/home/coffeetumbler/anaconda3/envs/automl/lib/python3.5/site-packages/scipy/sparse/linalg/eigen/arpack/arpack.py\", line 1622, in eigsh\n",
      "    symmetric=True, tol=tol)\n",
      "  File \"/home/coffeetumbler/anaconda3/envs/automl/lib/python3.5/site-packages/scipy/sparse/linalg/eigen/arpack/arpack.py\", line 1053, in get_OPinv_matvec\n",
      "    return LuInv(A).matvec\n",
      "  File \"/home/coffeetumbler/anaconda3/envs/automl/lib/python3.5/site-packages/scipy/sparse/linalg/eigen/arpack/arpack.py\", line 931, in __init__\n",
      "    self.M_lu = lu_factor(M)\n",
      "  File \"/home/coffeetumbler/anaconda3/envs/automl/lib/python3.5/site-packages/scipy/linalg/decomp_lu.py\", line 73, in lu_factor\n",
      "    a1 = asarray_chkfinite(a)\n",
      "  File \"/home/coffeetumbler/anaconda3/envs/automl/lib/python3.5/site-packages/numpy/lib/function_base.py\", line 498, in asarray_chkfinite\n",
      "    \"array must not contain infs or NaNs\")\n",
      "ValueError: array must not contain infs or NaNs\n"
     ]
    },
    {
     "name": "stdout",
     "output_type": "stream",
     "text": [
      "Fitting configuration: \n",
      "{'clustering_choice': 'SpectralClustering', 'affinity___SpectralClustering': 'nearest_neighbors', 'dim_reduction_choice': 'TruncatedSVD', 'eigen_solver___SpectralClustering': 'arpack', 'assign_labels___SpectralClustering': 'kmeans', 'n_clusters___SpectralClustering': 45, 'algorithm___TruncatedSVD': 'randomized', 'n_components___TruncatedSVD': 7}\n",
      "Score obtained by this configuration: 0.17306367633806596\n",
      "Fitting configuration: \n",
      "{'clustering_choice': 'MeanShift', 'dim_reduction_choice': 'PCA', 'whiten___PCA': True, 'bandwidth___MeanShift': 18.119292552039987, 'svd_solver___PCA': 'auto', 'n_components___PCA': 2}\n",
      "Score obtained by this configuration: inf\n"
     ]
    },
    {
     "name": "stderr",
     "output_type": "stream",
     "text": [
      "WARNING:smac.tae.execute_func.ExecuteTAFuncDict:Target Algorithm returned NaN or inf as quality. Algorithm run is treated as CRASHED, cost is set to 2147483647.0 for quality scenarios. (Change value through \"cost_for_crash\"-option.)\n"
     ]
    },
    {
     "name": "stdout",
     "output_type": "stream",
     "text": [
      "Fitting configuration: \n",
      "{'clustering_choice': 'Birch', 'dim_reduction_choice': 'KernelPCA', 'n_components___KernelPCA': 2, 'branching_factor___Birch': 90, 'kernel___KernelPCA': 'rbf', 'n_clusters___Birch': 6}\n"
     ]
    },
    {
     "name": "stderr",
     "output_type": "stream",
     "text": [
      "/home/coffeetumbler/anaconda3/envs/automl/lib/python3.5/site-packages/sklearn/cluster/birch.py:627: ConvergenceWarning: Number of subclusters found (1) by Birch is less than (6). Decrease the threshold.\n",
      "  % (len(centroids), self.n_clusters), ConvergenceWarning)\n",
      "/home/coffeetumbler/anaconda3/envs/automl/lib/python3.5/site-packages/sklearn/cluster/birch.py:627: ConvergenceWarning: Number of subclusters found (1) by Birch is less than (6). Decrease the threshold.\n",
      "  % (len(centroids), self.n_clusters), ConvergenceWarning)\n"
     ]
    },
    {
     "name": "stdout",
     "output_type": "stream",
     "text": [
      "Score obtained by this configuration: inf\n"
     ]
    },
    {
     "name": "stderr",
     "output_type": "stream",
     "text": [
      "WARNING:smac.tae.execute_func.ExecuteTAFuncDict:Target Algorithm returned NaN or inf as quality. Algorithm run is treated as CRASHED, cost is set to 2147483647.0 for quality scenarios. (Change value through \"cost_for_crash\"-option.)\n"
     ]
    },
    {
     "name": "stdout",
     "output_type": "stream",
     "text": [
      "Fitting configuration: \n",
      "{'clustering_choice': 'OPTICS', 'n_components___TSNE': 2, 'dim_reduction_choice': 'TSNE', 'metric___OPTICS': 'cosine', 'min_samples___OPTICS': 585, 'early_exaggeration___TSNE': 19.882692461237287, 'cluster_method___OPTICS': 'dbscan', 'perplexity___TSNE': 8.09005612564916}\n"
     ]
    },
    {
     "name": "stderr",
     "output_type": "stream",
     "text": [
      "Process pynisher function call:\n",
      "Traceback (most recent call last):\n",
      "  File \"/home/coffeetumbler/anaconda3/envs/automl/lib/python3.5/multiprocessing/process.py\", line 252, in _bootstrap\n",
      "    self.run()\n",
      "  File \"/home/coffeetumbler/anaconda3/envs/automl/lib/python3.5/multiprocessing/process.py\", line 93, in run\n",
      "    self._target(*self._args, **self._kwargs)\n",
      "  File \"/home/coffeetumbler/anaconda3/envs/automl/lib/python3.5/site-packages/pynisher/limit_function_call.py\", line 93, in subprocess_func\n",
      "    return_value = ((func(*args, **kwargs), 0))\n",
      "  File \"/home/coffeetumbler/automl_2019/autocluster/autocluster.py\", line 249, in evaluate_model\n",
      "    y_pred = clustering_model.fit_predict(compressed_valid_data)\n",
      "  File \"/home/coffeetumbler/anaconda3/envs/automl/lib/python3.5/site-packages/sklearn/base.py\", line 447, in fit_predict\n",
      "    self.fit(X)\n",
      "  File \"/home/coffeetumbler/anaconda3/envs/automl/lib/python3.5/site-packages/sklearn/cluster/optics_.py\", line 248, in fit\n",
      "    max_eps=self.max_eps)\n",
      "  File \"/home/coffeetumbler/anaconda3/envs/automl/lib/python3.5/site-packages/sklearn/cluster/optics_.py\", line 438, in compute_optics_graph\n",
      "    _validate_size(min_samples, n_samples, 'min_samples')\n",
      "  File \"/home/coffeetumbler/anaconda3/envs/automl/lib/python3.5/site-packages/sklearn/cluster/optics_.py\", line 290, in _validate_size\n",
      "    (param_name, n_samples, size))\n",
      "ValueError: min_samples must be no greater than the number of samples (475). Got 585\n"
     ]
    },
    {
     "name": "stdout",
     "output_type": "stream",
     "text": [
      "Fitting configuration: \n",
      "{'clustering_choice': 'AgglomerativeClustering', 'dim_reduction_choice': 'KernelPCA', 'affinity___AgglomerativeClustering': 'l2', 'kernel___KernelPCA': 'cosine', 'linkage___AgglomerativeClustering': 'complete', 'n_clusters___AgglomerativeClustering': 49, 'n_components___KernelPCA': 2}\n",
      "Score obtained by this configuration: 0.1335894552359094\n",
      "Fitting configuration: \n",
      "{'clustering_choice': 'SpectralClustering', 'affinity___SpectralClustering': 'rbf', 'dim_reduction_choice': 'TSNE', 'early_exaggeration___TSNE': 10.670877513600058, 'n_clusters___SpectralClustering': 72, 'assign_labels___SpectralClustering': 'kmeans', 'perplexity___TSNE': 177.47000573604902, 'eigen_solver___SpectralClustering': 'arpack', 'n_components___TSNE': 2}\n",
      "Fitting configuration: \n",
      "{'clustering_choice': 'Birch', 'dim_reduction_choice': 'KernelPCA', 'n_components___KernelPCA': 2, 'branching_factor___Birch': 44, 'kernel___KernelPCA': 'cosine', 'n_clusters___Birch': 8}\n"
     ]
    },
    {
     "name": "stderr",
     "output_type": "stream",
     "text": [
      "/home/coffeetumbler/anaconda3/envs/automl/lib/python3.5/site-packages/sklearn/cluster/birch.py:627: ConvergenceWarning: Number of subclusters found (2) by Birch is less than (8). Decrease the threshold.\n",
      "  % (len(centroids), self.n_clusters), ConvergenceWarning)\n",
      "/home/coffeetumbler/anaconda3/envs/automl/lib/python3.5/site-packages/sklearn/cluster/birch.py:627: ConvergenceWarning: Number of subclusters found (3) by Birch is less than (8). Decrease the threshold.\n",
      "  % (len(centroids), self.n_clusters), ConvergenceWarning)\n",
      "/home/coffeetumbler/anaconda3/envs/automl/lib/python3.5/site-packages/sklearn/cluster/birch.py:627: ConvergenceWarning: Number of subclusters found (2) by Birch is less than (8). Decrease the threshold.\n",
      "  % (len(centroids), self.n_clusters), ConvergenceWarning)\n",
      "/home/coffeetumbler/anaconda3/envs/automl/lib/python3.5/site-packages/sklearn/cluster/birch.py:627: ConvergenceWarning: Number of subclusters found (3) by Birch is less than (8). Decrease the threshold.\n",
      "  % (len(centroids), self.n_clusters), ConvergenceWarning)\n",
      "/home/coffeetumbler/anaconda3/envs/automl/lib/python3.5/site-packages/sklearn/cluster/birch.py:627: ConvergenceWarning: Number of subclusters found (2) by Birch is less than (8). Decrease the threshold.\n",
      "  % (len(centroids), self.n_clusters), ConvergenceWarning)\n",
      "/home/coffeetumbler/anaconda3/envs/automl/lib/python3.5/site-packages/sklearn/cluster/birch.py:627: ConvergenceWarning: Number of subclusters found (2) by Birch is less than (8). Decrease the threshold.\n",
      "  % (len(centroids), self.n_clusters), ConvergenceWarning)\n"
     ]
    },
    {
     "name": "stdout",
     "output_type": "stream",
     "text": [
      "Score obtained by this configuration: 0.1455333966823802\n",
      "Fitting configuration: \n",
      "{'clustering_choice': 'Birch', 'dim_reduction_choice': 'PCA', 'whiten___PCA': True, 'branching_factor___Birch': 156, 'svd_solver___PCA': 'auto', 'n_clusters___Birch': 19, 'n_components___PCA': 3}\n",
      "Score obtained by this configuration: 0.14806262924765698\n",
      "Fitting configuration: \n",
      "{'clustering_choice': 'DBSCAN', 'dim_reduction_choice': 'KernelPCA', 'n_components___KernelPCA': 2, 'kernel___KernelPCA': 'cosine', 'eps___DBSCAN': 0.03646890616892299, 'min_samples___DBSCAN': 15}\n",
      "Score obtained by this configuration: inf\n"
     ]
    },
    {
     "name": "stderr",
     "output_type": "stream",
     "text": [
      "WARNING:smac.tae.execute_func.ExecuteTAFuncDict:Target Algorithm returned NaN or inf as quality. Algorithm run is treated as CRASHED, cost is set to 2147483647.0 for quality scenarios. (Change value through \"cost_for_crash\"-option.)\n"
     ]
    },
    {
     "name": "stdout",
     "output_type": "stream",
     "text": [
      "Fitting configuration: \n",
      "{'clustering_choice': 'DBSCAN', 'dim_reduction_choice': 'KernelPCA', 'n_components___KernelPCA': 2, 'kernel___KernelPCA': 'cosine', 'eps___DBSCAN': 0.05656398242637059, 'min_samples___DBSCAN': 15}\n",
      "Score obtained by this configuration: inf\n"
     ]
    },
    {
     "name": "stderr",
     "output_type": "stream",
     "text": [
      "WARNING:smac.tae.execute_func.ExecuteTAFuncDict:Target Algorithm returned NaN or inf as quality. Algorithm run is treated as CRASHED, cost is set to 2147483647.0 for quality scenarios. (Change value through \"cost_for_crash\"-option.)\n"
     ]
    },
    {
     "name": "stdout",
     "output_type": "stream",
     "text": [
      "Fitting configuration: \n",
      "{'clustering_choice': 'Birch', 'dim_reduction_choice': 'KernelPCA', 'n_components___KernelPCA': 2, 'branching_factor___Birch': 34, 'kernel___KernelPCA': 'linear', 'n_clusters___Birch': 4}\n",
      "Score obtained by this configuration: 0.13513275424674173\n",
      "Fitting configuration: \n",
      "{'clustering_choice': 'Birch', 'dim_reduction_choice': 'KernelPCA', 'n_components___KernelPCA': 2, 'branching_factor___Birch': 72, 'kernel___KernelPCA': 'linear', 'n_clusters___Birch': 1}\n",
      "Score obtained by this configuration: inf\n"
     ]
    },
    {
     "name": "stderr",
     "output_type": "stream",
     "text": [
      "WARNING:smac.tae.execute_func.ExecuteTAFuncDict:Target Algorithm returned NaN or inf as quality. Algorithm run is treated as CRASHED, cost is set to 2147483647.0 for quality scenarios. (Change value through \"cost_for_crash\"-option.)\n"
     ]
    },
    {
     "name": "stdout",
     "output_type": "stream",
     "text": [
      "Fitting configuration: \n",
      "{'clustering_choice': 'SpectralClustering', 'affinity___SpectralClustering': 'poly', 'dim_reduction_choice': 'KernelPCA', 'n_components___KernelPCA': 9, 'assign_labels___SpectralClustering': 'kmeans', 'n_clusters___SpectralClustering': 27, 'kernel___KernelPCA': 'cosine', 'eigen_solver___SpectralClustering': 'arpack'}\n",
      "Score obtained by this configuration: 0.17981793695340875\n",
      "Fitting configuration: \n",
      "{'clustering_choice': 'MeanShift', 'fun___FastICA': 'cube', 'dim_reduction_choice': 'FastICA', 'bandwidth___MeanShift': 11.64352942652077, 'whiten___FastICA': True, 'n_components___FastICA': 3, 'algorithm___FastICA': 'parallel'}\n",
      "Score obtained by this configuration: inf\n"
     ]
    },
    {
     "name": "stderr",
     "output_type": "stream",
     "text": [
      "WARNING:smac.tae.execute_func.ExecuteTAFuncDict:Target Algorithm returned NaN or inf as quality. Algorithm run is treated as CRASHED, cost is set to 2147483647.0 for quality scenarios. (Change value through \"cost_for_crash\"-option.)\n"
     ]
    },
    {
     "name": "stdout",
     "output_type": "stream",
     "text": [
      "Fitting configuration: \n",
      "{'clustering_choice': 'SpectralClustering', 'affinity___SpectralClustering': 'rbf', 'dim_reduction_choice': 'KernelPCA', 'n_components___KernelPCA': 2, 'assign_labels___SpectralClustering': 'kmeans', 'n_clusters___SpectralClustering': 15, 'kernel___KernelPCA': 'linear', 'eigen_solver___SpectralClustering': 'arpack'}\n",
      "Score obtained by this configuration: inf\n"
     ]
    },
    {
     "name": "stderr",
     "output_type": "stream",
     "text": [
      "WARNING:smac.tae.execute_func.ExecuteTAFuncDict:Target Algorithm returned NaN or inf as quality. Algorithm run is treated as CRASHED, cost is set to 2147483647.0 for quality scenarios. (Change value through \"cost_for_crash\"-option.)\n"
     ]
    },
    {
     "name": "stdout",
     "output_type": "stream",
     "text": [
      "Fitting configuration: \n",
      "{'clustering_choice': 'MeanShift', 'fun___FastICA': 'cube', 'dim_reduction_choice': 'FastICA', 'bandwidth___MeanShift': 36.83770749274531, 'n_components___FastICA': 2, 'algorithm___FastICA': 'deflation'}\n",
      "Score obtained by this configuration: inf\n"
     ]
    },
    {
     "name": "stderr",
     "output_type": "stream",
     "text": [
      "WARNING:smac.tae.execute_func.ExecuteTAFuncDict:Target Algorithm returned NaN or inf as quality. Algorithm run is treated as CRASHED, cost is set to 2147483647.0 for quality scenarios. (Change value through \"cost_for_crash\"-option.)\n"
     ]
    },
    {
     "name": "stdout",
     "output_type": "stream",
     "text": [
      "Fitting configuration: \n",
      "{'clustering_choice': 'MiniBatchKMeans', 'dim_reduction_choice': 'PCA', 'whiten___PCA': True, 'batch_size___MiniBatchKMeans': 743, 'svd_solver___PCA': 'randomized', 'n_clusters___MiniBatchKMeans': 71, 'n_components___PCA': 3}\n",
      "Score obtained by this configuration: 0.14740915284070955\n",
      "Fitting configuration: \n",
      "{'clustering_choice': 'Birch', 'n_clusters___Birch': 6, 'branching_factor___Birch': 24, 'whiten___IncrementalPCA': True, 'n_components___IncrementalPCA': 3, 'batch_size___IncrementalPCA': 491, 'dim_reduction_choice': 'IncrementalPCA'}\n",
      "Score obtained by this configuration: 0.15161187374055793\n",
      "Fitting configuration: \n",
      "{'clustering_choice': 'GaussianMixture', 'covariance_type___GaussianMixture': 'tied', 'dim_reduction_choice': 'PCA', 'whiten___PCA': True, 'init_params___GaussianMixture': 'kmeans', 'svd_solver___PCA': 'auto', 'n_components___GaussianMixture': 1, 'n_components___PCA': 3}\n",
      "Score obtained by this configuration: inf\n"
     ]
    },
    {
     "name": "stderr",
     "output_type": "stream",
     "text": [
      "WARNING:smac.tae.execute_func.ExecuteTAFuncDict:Target Algorithm returned NaN or inf as quality. Algorithm run is treated as CRASHED, cost is set to 2147483647.0 for quality scenarios. (Change value through \"cost_for_crash\"-option.)\n"
     ]
    },
    {
     "name": "stdout",
     "output_type": "stream",
     "text": [
      "Fitting configuration: \n",
      "{'clustering_choice': 'MiniBatchKMeans', 'fun___FastICA': 'exp', 'dim_reduction_choice': 'FastICA', 'n_components___FastICA': 2, 'batch_size___MiniBatchKMeans': 984, 'algorithm___FastICA': 'deflation', 'n_clusters___MiniBatchKMeans': 63}\n",
      "Score obtained by this configuration: 0.12589430940976606\n",
      "Fitting configuration: \n",
      "{'clustering_choice': 'DBSCAN', 'n_components___TSNE': 2, 'dim_reduction_choice': 'TSNE', 'early_exaggeration___TSNE': 9.488945000493578, 'eps___DBSCAN': 1.251459815942763, 'perplexity___TSNE': 162.96762151374716, 'min_samples___DBSCAN': 74}\n",
      "Fitting configuration: \n",
      "{'clustering_choice': 'SpectralClustering', 'affinity___SpectralClustering': 'nearest_neighbors', 'dim_reduction_choice': 'KernelPCA', 'n_components___KernelPCA': 2, 'assign_labels___SpectralClustering': 'discretize', 'n_clusters___SpectralClustering': 9, 'kernel___KernelPCA': 'linear', 'eigen_solver___SpectralClustering': 'arpack'}\n",
      "Score obtained by this configuration: 0.13589737622509143\n",
      "Fitting configuration: \n",
      "{'clustering_choice': 'MiniBatchKMeans', 'dim_reduction_choice': 'KernelPCA', 'n_components___KernelPCA': 2, 'batch_size___MiniBatchKMeans': 674, 'kernel___KernelPCA': 'linear', 'n_clusters___MiniBatchKMeans': 32}\n",
      "Score obtained by this configuration: 0.13442599679780856\n",
      "Optimization is complete.\n",
      "Took 447.87 seconds.\n",
      "The optimal configuration is \n",
      "Configuration:\n",
      "  affinity___SpectralClustering, Value: 'rbf'\n",
      "  assign_labels___SpectralClustering, Value: 'discretize'\n",
      "  clustering_choice, Value: 'SpectralClustering'\n",
      "  dim_reduction_choice, Value: 'KernelPCA'\n",
      "  eigen_solver___SpectralClustering, Value: 'arpack'\n",
      "  kernel___KernelPCA, Value: 'linear'\n",
      "  n_clusters___SpectralClustering, Value: 40\n",
      "  n_components___KernelPCA, Value: 2\n",
      "\n",
      "\n",
      "Model chosen with weights = \n",
      "[0, 2, 8]\n",
      "v_score = \n",
      "0.45610221094982384\n",
      "\n",
      "\n",
      "1517/1797 datapoints remaining after outlier removal\n",
      "Configuration space object:\n",
      "  Hyperparameters:\n",
      "    affinity___AffinityPropagation, Type: Categorical, Choices: {euclidean}, Default: euclidean\n",
      "    affinity___AgglomerativeClustering, Type: Categorical, Choices: {euclidean, cityblock, l2, l1, manhattan, cosine}, Default: euclidean\n",
      "    affinity___SpectralClustering, Type: Categorical, Choices: {nearest_neighbors, poly, sigmoid, laplacian, rbf}, Default: rbf\n",
      "    algorithm___FastICA, Type: Categorical, Choices: {parallel, deflation}, Default: parallel\n",
      "    algorithm___TruncatedSVD, Type: Categorical, Choices: {arpack, randomized}, Default: randomized\n",
      "    assign_labels___SpectralClustering, Type: Categorical, Choices: {kmeans, discretize}, Default: kmeans\n",
      "    bandwidth___MeanShift, Type: UniformFloat, Range: [0.1, 50.0], Default: 25.05\n",
      "    batch_size___IncrementalPCA, Type: UniformInteger, Range: [10, 1000], Default: 100\n",
      "    batch_size___MiniBatchKMeans, Type: UniformInteger, Range: [10, 1000], Default: 100\n",
      "    bin_seeding___MeanShift, Type: Categorical, Choices: {True, False}, Default: False\n",
      "    branching_factor___Birch, Type: UniformInteger, Range: [10, 1000], Default: 50\n",
      "    cluster_method___OPTICS, Type: Categorical, Choices: {xi, dbscan}, Default: xi\n",
      "    clustering_choice, Type: Categorical, Choices: {KMeans, GaussianMixture, Birch, MiniBatchKMeans, AgglomerativeClustering, OPTICS, SpectralClustering, DBSCAN, AffinityPropagation, MeanShift}, Default: KMeans\n",
      "    covariance_type___GaussianMixture, Type: Categorical, Choices: {full, tied, diag, spherical}, Default: full\n",
      "    damping___AffinityPropagation, Type: UniformFloat, Range: [0.5, 1.0], Default: 0.5\n",
      "    dim_reduction_choice, Type: Categorical, Choices: {TSNE, PCA, IncrementalPCA, KernelPCA, FastICA, TruncatedSVD}, Default: TSNE\n",
      "    early_exaggeration___TSNE, Type: UniformFloat, Range: [5.0, 20.0], Default: 12.0\n",
      "    eigen_solver___SpectralClustering, Type: Categorical, Choices: {arpack}, Default: arpack\n",
      "    eps___DBSCAN, Type: UniformFloat, Range: [0.01, 5.0], Default: 0.01\n",
      "    fun___FastICA, Type: Categorical, Choices: {logcosh, exp, cube}, Default: logcosh\n",
      "    init_params___GaussianMixture, Type: Categorical, Choices: {kmeans, random}, Default: kmeans\n",
      "    kernel___KernelPCA, Type: Categorical, Choices: {linear, poly, rbf, sigmoid, cosine}, Default: linear\n",
      "    linkage___AgglomerativeClustering, Type: Categorical, Choices: {ward, complete, average, single}, Default: complete\n",
      "    metric___OPTICS, Type: Categorical, Choices: {minkowski, euclidean, manhattan, l1, l2, cosine}, Default: minkowski\n",
      "    min_samples___DBSCAN, Type: UniformInteger, Range: [5, 100], Default: 5\n",
      "    min_samples___OPTICS, Type: UniformInteger, Range: [5, 1000], Default: 100\n",
      "    n_clusters___AgglomerativeClustering, Type: UniformInteger, Range: [1, 80], Default: 10\n",
      "    n_clusters___Birch, Type: UniformInteger, Range: [1, 80], Default: 5\n",
      "    n_clusters___KMeans, Type: UniformInteger, Range: [1, 80], Default: 5\n",
      "    n_clusters___MiniBatchKMeans, Type: UniformInteger, Range: [1, 80], Default: 10\n",
      "    n_clusters___SpectralClustering, Type: UniformInteger, Range: [1, 80], Default: 10\n",
      "    n_components___FastICA, Type: Ordinal, Sequence: {2, 3}, Default: 2\n",
      "    n_components___GaussianMixture, Type: UniformInteger, Range: [1, 80], Default: 5\n",
      "    n_components___IncrementalPCA, Type: Ordinal, Sequence: {2, 3}, Default: 2\n",
      "    n_components___KernelPCA, Type: Ordinal, Sequence: {2, 3, 4, 5, 6, 7, 8, 9}, Default: 2\n",
      "    n_components___PCA, Type: Ordinal, Sequence: {2, 3}, Default: 2\n",
      "    n_components___TSNE, Type: Ordinal, Sequence: {2}, Default: 2\n",
      "    n_components___TruncatedSVD, Type: Ordinal, Sequence: {2, 3, 4, 5, 6, 7, 8, 9}, Default: 2\n",
      "    perplexity___TSNE, Type: UniformFloat, Range: [1.0, 300.0], Default: 30.0\n",
      "    svd_solver___PCA, Type: Categorical, Choices: {auto, full, arpack, randomized}, Default: auto\n",
      "    warm_start___GaussianMixture, Type: Categorical, Choices: {True, False}, Default: False\n",
      "    whiten___FastICA, Type: Categorical, Choices: {True, False}, Default: True\n",
      "    whiten___IncrementalPCA, Type: Categorical, Choices: {True, False}, Default: False\n",
      "    whiten___PCA, Type: Categorical, Choices: {True, False}, Default: False\n",
      "  Conditions:\n",
      "    affinity___AffinityPropagation | clustering_choice in {'AffinityPropagation'}\n",
      "    affinity___AgglomerativeClustering | clustering_choice in {'AgglomerativeClustering'}\n",
      "    affinity___SpectralClustering | clustering_choice in {'SpectralClustering'}\n",
      "    algorithm___FastICA | dim_reduction_choice in {'FastICA'}\n",
      "    algorithm___TruncatedSVD | dim_reduction_choice in {'TruncatedSVD'}\n",
      "    assign_labels___SpectralClustering | clustering_choice in {'SpectralClustering'}\n",
      "    bandwidth___MeanShift | clustering_choice in {'MeanShift'}\n",
      "    batch_size___IncrementalPCA | dim_reduction_choice in {'IncrementalPCA'}\n",
      "    batch_size___MiniBatchKMeans | clustering_choice in {'MiniBatchKMeans'}\n",
      "    bin_seeding___MeanShift | clustering_choice in {'MeanShift'}\n",
      "    branching_factor___Birch | clustering_choice in {'Birch'}\n",
      "    cluster_method___OPTICS | clustering_choice in {'OPTICS'}\n",
      "    covariance_type___GaussianMixture | clustering_choice in {'GaussianMixture'}\n",
      "    damping___AffinityPropagation | clustering_choice in {'AffinityPropagation'}\n",
      "    early_exaggeration___TSNE | dim_reduction_choice in {'TSNE'}\n",
      "    eigen_solver___SpectralClustering | clustering_choice in {'SpectralClustering'}\n",
      "    eps___DBSCAN | clustering_choice in {'DBSCAN'}\n",
      "    fun___FastICA | dim_reduction_choice in {'FastICA'}\n",
      "    init_params___GaussianMixture | clustering_choice in {'GaussianMixture'}\n",
      "    kernel___KernelPCA | dim_reduction_choice in {'KernelPCA'}\n",
      "    linkage___AgglomerativeClustering | clustering_choice in {'AgglomerativeClustering'}\n",
      "    metric___OPTICS | clustering_choice in {'OPTICS'}\n",
      "    min_samples___DBSCAN | clustering_choice in {'DBSCAN'}\n",
      "    min_samples___OPTICS | clustering_choice in {'OPTICS'}\n",
      "    n_clusters___AgglomerativeClustering | clustering_choice in {'AgglomerativeClustering'}\n",
      "    n_clusters___Birch | clustering_choice in {'Birch'}\n",
      "    n_clusters___KMeans | clustering_choice in {'KMeans'}\n",
      "    n_clusters___MiniBatchKMeans | clustering_choice in {'MiniBatchKMeans'}\n",
      "    n_clusters___SpectralClustering | clustering_choice in {'SpectralClustering'}\n",
      "    n_components___FastICA | dim_reduction_choice in {'FastICA'}\n",
      "    n_components___GaussianMixture | clustering_choice in {'GaussianMixture'}\n",
      "    n_components___IncrementalPCA | dim_reduction_choice in {'IncrementalPCA'}\n",
      "    n_components___KernelPCA | dim_reduction_choice in {'KernelPCA'}\n",
      "    n_components___PCA | dim_reduction_choice in {'PCA'}\n",
      "    n_components___TSNE | dim_reduction_choice in {'TSNE'}\n",
      "    n_components___TruncatedSVD | dim_reduction_choice in {'TruncatedSVD'}\n",
      "    perplexity___TSNE | dim_reduction_choice in {'TSNE'}\n",
      "    svd_solver___PCA | dim_reduction_choice in {'PCA'}\n",
      "    warm_start___GaussianMixture | clustering_choice in {'GaussianMixture'}\n",
      "    whiten___FastICA | dim_reduction_choice in {'FastICA'}\n",
      "    whiten___IncrementalPCA | dim_reduction_choice in {'IncrementalPCA'}\n",
      "    whiten___PCA | dim_reduction_choice in {'PCA'}\n",
      "  Forbidden Clauses:\n",
      "    (Forbidden: linkage___AgglomerativeClustering == 'ward' && Forbidden: affinity___AgglomerativeClustering in {'cityblock', 'cosine', 'l1', 'l2', 'manhattan'})\n",
      "\n"
     ]
    },
    {
     "name": "stderr",
     "output_type": "stream",
     "text": [
      "/home/coffeetumbler/automl_2019/autocluster/utils/metafeatures.py:43: FutureWarning: elementwise comparison failed; returning scalar instead, but in the future will perform elementwise comparison\n",
      "  return (np.count_nonzero(X == '') + np.count_nonzero(X == 0)) / X.size\n",
      "/home/coffeetumbler/automl_2019/autocluster/utils/metafeatures.py:35: FutureWarning: elementwise comparison failed; returning scalar instead, but in the future will perform elementwise comparison\n",
      "  return np.count_nonzero(X == None) + np.count_nonzero(X == '')\n",
      "/home/coffeetumbler/anaconda3/envs/automl/lib/python3.5/site-packages/numpy/lib/function_base.py:2530: RuntimeWarning: invalid value encountered in true_divide\n",
      "  c /= stddev[:, None]\n",
      "/home/coffeetumbler/anaconda3/envs/automl/lib/python3.5/site-packages/numpy/lib/function_base.py:2531: RuntimeWarning: invalid value encountered in true_divide\n",
      "  c /= stddev[None, :]\n"
     ]
    },
    {
     "name": "stdout",
     "output_type": "stream",
     "text": [
      "Found 60 relevant intial configurations from warmstarter.\n",
      "Truncated n_evaluations: 100\n",
      "{'cutoff_time': 20, 'cs': Configuration space object:\n",
      "  Hyperparameters:\n",
      "    affinity___AffinityPropagation, Type: Categorical, Choices: {euclidean}, Default: euclidean\n",
      "    affinity___AgglomerativeClustering, Type: Categorical, Choices: {euclidean, cityblock, l2, l1, manhattan, cosine}, Default: euclidean\n",
      "    affinity___SpectralClustering, Type: Categorical, Choices: {nearest_neighbors, poly, sigmoid, laplacian, rbf}, Default: rbf\n",
      "    algorithm___FastICA, Type: Categorical, Choices: {parallel, deflation}, Default: parallel\n",
      "    algorithm___TruncatedSVD, Type: Categorical, Choices: {arpack, randomized}, Default: randomized\n",
      "    assign_labels___SpectralClustering, Type: Categorical, Choices: {kmeans, discretize}, Default: kmeans\n",
      "    bandwidth___MeanShift, Type: UniformFloat, Range: [0.1, 50.0], Default: 25.05\n",
      "    batch_size___IncrementalPCA, Type: UniformInteger, Range: [10, 1000], Default: 100\n",
      "    batch_size___MiniBatchKMeans, Type: UniformInteger, Range: [10, 1000], Default: 100\n",
      "    bin_seeding___MeanShift, Type: Categorical, Choices: {True, False}, Default: False\n",
      "    branching_factor___Birch, Type: UniformInteger, Range: [10, 1000], Default: 50\n",
      "    cluster_method___OPTICS, Type: Categorical, Choices: {xi, dbscan}, Default: xi\n",
      "    clustering_choice, Type: Categorical, Choices: {KMeans, GaussianMixture, Birch, MiniBatchKMeans, AgglomerativeClustering, OPTICS, SpectralClustering, DBSCAN, AffinityPropagation, MeanShift}, Default: KMeans\n",
      "    covariance_type___GaussianMixture, Type: Categorical, Choices: {full, tied, diag, spherical}, Default: full\n",
      "    damping___AffinityPropagation, Type: UniformFloat, Range: [0.5, 1.0], Default: 0.5\n",
      "    dim_reduction_choice, Type: Categorical, Choices: {TSNE, PCA, IncrementalPCA, KernelPCA, FastICA, TruncatedSVD}, Default: TSNE\n",
      "    early_exaggeration___TSNE, Type: UniformFloat, Range: [5.0, 20.0], Default: 12.0\n",
      "    eigen_solver___SpectralClustering, Type: Categorical, Choices: {arpack}, Default: arpack\n",
      "    eps___DBSCAN, Type: UniformFloat, Range: [0.01, 5.0], Default: 0.01\n",
      "    fun___FastICA, Type: Categorical, Choices: {logcosh, exp, cube}, Default: logcosh\n",
      "    init_params___GaussianMixture, Type: Categorical, Choices: {kmeans, random}, Default: kmeans\n",
      "    kernel___KernelPCA, Type: Categorical, Choices: {linear, poly, rbf, sigmoid, cosine}, Default: linear\n",
      "    linkage___AgglomerativeClustering, Type: Categorical, Choices: {ward, complete, average, single}, Default: complete\n",
      "    metric___OPTICS, Type: Categorical, Choices: {minkowski, euclidean, manhattan, l1, l2, cosine}, Default: minkowski\n",
      "    min_samples___DBSCAN, Type: UniformInteger, Range: [5, 100], Default: 5\n",
      "    min_samples___OPTICS, Type: UniformInteger, Range: [5, 1000], Default: 100\n",
      "    n_clusters___AgglomerativeClustering, Type: UniformInteger, Range: [1, 80], Default: 10\n",
      "    n_clusters___Birch, Type: UniformInteger, Range: [1, 80], Default: 5\n",
      "    n_clusters___KMeans, Type: UniformInteger, Range: [1, 80], Default: 5\n",
      "    n_clusters___MiniBatchKMeans, Type: UniformInteger, Range: [1, 80], Default: 10\n",
      "    n_clusters___SpectralClustering, Type: UniformInteger, Range: [1, 80], Default: 10\n",
      "    n_components___FastICA, Type: Ordinal, Sequence: {2, 3}, Default: 2\n",
      "    n_components___GaussianMixture, Type: UniformInteger, Range: [1, 80], Default: 5\n",
      "    n_components___IncrementalPCA, Type: Ordinal, Sequence: {2, 3}, Default: 2\n",
      "    n_components___KernelPCA, Type: Ordinal, Sequence: {2, 3, 4, 5, 6, 7, 8, 9}, Default: 2\n",
      "    n_components___PCA, Type: Ordinal, Sequence: {2, 3}, Default: 2\n",
      "    n_components___TSNE, Type: Ordinal, Sequence: {2}, Default: 2\n",
      "    n_components___TruncatedSVD, Type: Ordinal, Sequence: {2, 3, 4, 5, 6, 7, 8, 9}, Default: 2\n",
      "    perplexity___TSNE, Type: UniformFloat, Range: [1.0, 300.0], Default: 30.0\n",
      "    svd_solver___PCA, Type: Categorical, Choices: {auto, full, arpack, randomized}, Default: auto\n",
      "    warm_start___GaussianMixture, Type: Categorical, Choices: {True, False}, Default: False\n",
      "    whiten___FastICA, Type: Categorical, Choices: {True, False}, Default: True\n",
      "    whiten___IncrementalPCA, Type: Categorical, Choices: {True, False}, Default: False\n",
      "    whiten___PCA, Type: Categorical, Choices: {True, False}, Default: False\n",
      "  Conditions:\n",
      "    affinity___AffinityPropagation | clustering_choice in {'AffinityPropagation'}\n",
      "    affinity___AgglomerativeClustering | clustering_choice in {'AgglomerativeClustering'}\n",
      "    affinity___SpectralClustering | clustering_choice in {'SpectralClustering'}\n",
      "    algorithm___FastICA | dim_reduction_choice in {'FastICA'}\n",
      "    algorithm___TruncatedSVD | dim_reduction_choice in {'TruncatedSVD'}\n",
      "    assign_labels___SpectralClustering | clustering_choice in {'SpectralClustering'}\n",
      "    bandwidth___MeanShift | clustering_choice in {'MeanShift'}\n",
      "    batch_size___IncrementalPCA | dim_reduction_choice in {'IncrementalPCA'}\n",
      "    batch_size___MiniBatchKMeans | clustering_choice in {'MiniBatchKMeans'}\n",
      "    bin_seeding___MeanShift | clustering_choice in {'MeanShift'}\n",
      "    branching_factor___Birch | clustering_choice in {'Birch'}\n",
      "    cluster_method___OPTICS | clustering_choice in {'OPTICS'}\n",
      "    covariance_type___GaussianMixture | clustering_choice in {'GaussianMixture'}\n",
      "    damping___AffinityPropagation | clustering_choice in {'AffinityPropagation'}\n",
      "    early_exaggeration___TSNE | dim_reduction_choice in {'TSNE'}\n",
      "    eigen_solver___SpectralClustering | clustering_choice in {'SpectralClustering'}\n",
      "    eps___DBSCAN | clustering_choice in {'DBSCAN'}\n",
      "    fun___FastICA | dim_reduction_choice in {'FastICA'}\n",
      "    init_params___GaussianMixture | clustering_choice in {'GaussianMixture'}\n",
      "    kernel___KernelPCA | dim_reduction_choice in {'KernelPCA'}\n",
      "    linkage___AgglomerativeClustering | clustering_choice in {'AgglomerativeClustering'}\n",
      "    metric___OPTICS | clustering_choice in {'OPTICS'}\n",
      "    min_samples___DBSCAN | clustering_choice in {'DBSCAN'}\n",
      "    min_samples___OPTICS | clustering_choice in {'OPTICS'}\n",
      "    n_clusters___AgglomerativeClustering | clustering_choice in {'AgglomerativeClustering'}\n",
      "    n_clusters___Birch | clustering_choice in {'Birch'}\n",
      "    n_clusters___KMeans | clustering_choice in {'KMeans'}\n",
      "    n_clusters___MiniBatchKMeans | clustering_choice in {'MiniBatchKMeans'}\n",
      "    n_clusters___SpectralClustering | clustering_choice in {'SpectralClustering'}\n",
      "    n_components___FastICA | dim_reduction_choice in {'FastICA'}\n",
      "    n_components___GaussianMixture | clustering_choice in {'GaussianMixture'}\n",
      "    n_components___IncrementalPCA | dim_reduction_choice in {'IncrementalPCA'}\n",
      "    n_components___KernelPCA | dim_reduction_choice in {'KernelPCA'}\n",
      "    n_components___PCA | dim_reduction_choice in {'PCA'}\n",
      "    n_components___TSNE | dim_reduction_choice in {'TSNE'}\n",
      "    n_components___TruncatedSVD | dim_reduction_choice in {'TruncatedSVD'}\n",
      "    perplexity___TSNE | dim_reduction_choice in {'TSNE'}\n",
      "    svd_solver___PCA | dim_reduction_choice in {'PCA'}\n",
      "    warm_start___GaussianMixture | clustering_choice in {'GaussianMixture'}\n",
      "    whiten___FastICA | dim_reduction_choice in {'FastICA'}\n",
      "    whiten___IncrementalPCA | dim_reduction_choice in {'IncrementalPCA'}\n",
      "    whiten___PCA | dim_reduction_choice in {'PCA'}\n",
      "  Forbidden Clauses:\n",
      "    (Forbidden: linkage___AgglomerativeClustering == 'ward' && Forbidden: affinity___AgglomerativeClustering in {'cityblock', 'cosine', 'l1', 'l2', 'manhattan'})\n",
      ", 'deterministic': 'true', 'output_dir': 'log//smac-2019-07-29_14-18-58-49522', 'abort_on_first_run_crash': False, 'runcount-limit': 100, 'run_obj': 'quality'}\n"
     ]
    },
    {
     "name": "stderr",
     "output_type": "stream",
     "text": [
      "/home/coffeetumbler/anaconda3/envs/automl/lib/python3.5/site-packages/numpy/lib/function_base.py:2530: RuntimeWarning: invalid value encountered in true_divide\n",
      "  c /= stddev[:, None]\n",
      "/home/coffeetumbler/anaconda3/envs/automl/lib/python3.5/site-packages/numpy/lib/function_base.py:2531: RuntimeWarning: invalid value encountered in true_divide\n",
      "  c /= stddev[None, :]\n"
     ]
    },
    {
     "name": "stdout",
     "output_type": "stream",
     "text": [
      "Fitting configuration: \n",
      "{'clustering_choice': 'KMeans', 'kernel___KernelPCA': 'poly', 'dim_reduction_choice': 'KernelPCA', 'n_clusters___KMeans': 4, 'n_components___KernelPCA': 2}\n",
      "Score obtained by this configuration: inf\n"
     ]
    },
    {
     "name": "stderr",
     "output_type": "stream",
     "text": [
      "WARNING:smac.tae.execute_func.ExecuteTAFuncDict:Target Algorithm returned NaN or inf as quality. Algorithm run is treated as CRASHED, cost is set to 2147483647.0 for quality scenarios. (Change value through \"cost_for_crash\"-option.)\n"
     ]
    },
    {
     "name": "stdout",
     "output_type": "stream",
     "text": [
      "Fitting configuration: \n",
      "{'clustering_choice': 'Birch', 'dim_reduction_choice': 'KernelPCA', 'n_components___KernelPCA': 2, 'branching_factor___Birch': 10, 'kernel___KernelPCA': 'poly', 'n_clusters___Birch': 5}\n"
     ]
    },
    {
     "name": "stderr",
     "output_type": "stream",
     "text": [
      "/home/coffeetumbler/anaconda3/envs/automl/lib/python3.5/site-packages/sklearn/cluster/birch.py:627: ConvergenceWarning: Number of subclusters found (3) by Birch is less than (5). Decrease the threshold.\n",
      "  % (len(centroids), self.n_clusters), ConvergenceWarning)\n"
     ]
    },
    {
     "name": "stdout",
     "output_type": "stream",
     "text": [
      "Score obtained by this configuration: inf\n"
     ]
    },
    {
     "name": "stderr",
     "output_type": "stream",
     "text": [
      "WARNING:smac.tae.execute_func.ExecuteTAFuncDict:Target Algorithm returned NaN or inf as quality. Algorithm run is treated as CRASHED, cost is set to 2147483647.0 for quality scenarios. (Change value through \"cost_for_crash\"-option.)\n"
     ]
    },
    {
     "name": "stdout",
     "output_type": "stream",
     "text": [
      "Fitting configuration: \n",
      "{'clustering_choice': 'Birch', 'dim_reduction_choice': 'KernelPCA', 'n_components___KernelPCA': 2, 'branching_factor___Birch': 32, 'kernel___KernelPCA': 'poly', 'n_clusters___Birch': 5}\n"
     ]
    },
    {
     "name": "stderr",
     "output_type": "stream",
     "text": [
      "/home/coffeetumbler/anaconda3/envs/automl/lib/python3.5/site-packages/sklearn/cluster/birch.py:627: ConvergenceWarning: Number of subclusters found (3) by Birch is less than (5). Decrease the threshold.\n",
      "  % (len(centroids), self.n_clusters), ConvergenceWarning)\n"
     ]
    },
    {
     "name": "stdout",
     "output_type": "stream",
     "text": [
      "Score obtained by this configuration: inf\n"
     ]
    },
    {
     "name": "stderr",
     "output_type": "stream",
     "text": [
      "WARNING:smac.tae.execute_func.ExecuteTAFuncDict:Target Algorithm returned NaN or inf as quality. Algorithm run is treated as CRASHED, cost is set to 2147483647.0 for quality scenarios. (Change value through \"cost_for_crash\"-option.)\n"
     ]
    },
    {
     "name": "stdout",
     "output_type": "stream",
     "text": [
      "Fitting configuration: \n",
      "{'clustering_choice': 'Birch', 'dim_reduction_choice': 'KernelPCA', 'n_components___KernelPCA': 2, 'branching_factor___Birch': 64, 'kernel___KernelPCA': 'poly', 'n_clusters___Birch': 5}\n"
     ]
    },
    {
     "name": "stderr",
     "output_type": "stream",
     "text": [
      "/home/coffeetumbler/anaconda3/envs/automl/lib/python3.5/site-packages/sklearn/cluster/birch.py:627: ConvergenceWarning: Number of subclusters found (3) by Birch is less than (5). Decrease the threshold.\n",
      "  % (len(centroids), self.n_clusters), ConvergenceWarning)\n"
     ]
    },
    {
     "name": "stdout",
     "output_type": "stream",
     "text": [
      "Score obtained by this configuration: inf\n"
     ]
    },
    {
     "name": "stderr",
     "output_type": "stream",
     "text": [
      "WARNING:smac.tae.execute_func.ExecuteTAFuncDict:Target Algorithm returned NaN or inf as quality. Algorithm run is treated as CRASHED, cost is set to 2147483647.0 for quality scenarios. (Change value through \"cost_for_crash\"-option.)\n"
     ]
    },
    {
     "name": "stdout",
     "output_type": "stream",
     "text": [
      "Fitting configuration: \n",
      "{'clustering_choice': 'Birch', 'dim_reduction_choice': 'KernelPCA', 'n_components___KernelPCA': 2, 'branching_factor___Birch': 10, 'kernel___KernelPCA': 'poly', 'n_clusters___Birch': 6}\n"
     ]
    },
    {
     "name": "stderr",
     "output_type": "stream",
     "text": [
      "/home/coffeetumbler/anaconda3/envs/automl/lib/python3.5/site-packages/sklearn/cluster/birch.py:627: ConvergenceWarning: Number of subclusters found (5) by Birch is less than (6). Decrease the threshold.\n",
      "  % (len(centroids), self.n_clusters), ConvergenceWarning)\n",
      "/home/coffeetumbler/anaconda3/envs/automl/lib/python3.5/site-packages/sklearn/cluster/birch.py:627: ConvergenceWarning: Number of subclusters found (3) by Birch is less than (6). Decrease the threshold.\n",
      "  % (len(centroids), self.n_clusters), ConvergenceWarning)\n"
     ]
    },
    {
     "name": "stdout",
     "output_type": "stream",
     "text": [
      "Score obtained by this configuration: inf\n"
     ]
    },
    {
     "name": "stderr",
     "output_type": "stream",
     "text": [
      "WARNING:smac.tae.execute_func.ExecuteTAFuncDict:Target Algorithm returned NaN or inf as quality. Algorithm run is treated as CRASHED, cost is set to 2147483647.0 for quality scenarios. (Change value through \"cost_for_crash\"-option.)\n"
     ]
    },
    {
     "name": "stdout",
     "output_type": "stream",
     "text": [
      "Fitting configuration: \n",
      "{'clustering_choice': 'SpectralClustering', 'affinity___SpectralClustering': 'laplacian', 'dim_reduction_choice': 'KernelPCA', 'n_components___KernelPCA': 2, 'assign_labels___SpectralClustering': 'kmeans', 'n_clusters___SpectralClustering': 9, 'kernel___KernelPCA': 'poly', 'eigen_solver___SpectralClustering': 'arpack'}\n"
     ]
    },
    {
     "name": "stderr",
     "output_type": "stream",
     "text": [
      "/home/coffeetumbler/anaconda3/envs/automl/lib/python3.5/site-packages/sklearn/cluster/spectral.py:268: ConvergenceWarning: Number of distinct clusters (7) found smaller than n_clusters (9). Possibly due to duplicate points in X.\n",
      "  n_init=n_init)\n"
     ]
    },
    {
     "name": "stdout",
     "output_type": "stream",
     "text": [
      "Score obtained by this configuration: inf\n"
     ]
    },
    {
     "name": "stderr",
     "output_type": "stream",
     "text": [
      "WARNING:smac.tae.execute_func.ExecuteTAFuncDict:Target Algorithm returned NaN or inf as quality. Algorithm run is treated as CRASHED, cost is set to 2147483647.0 for quality scenarios. (Change value through \"cost_for_crash\"-option.)\n"
     ]
    },
    {
     "name": "stdout",
     "output_type": "stream",
     "text": [
      "Fitting configuration: \n",
      "{'clustering_choice': 'SpectralClustering', 'affinity___SpectralClustering': 'laplacian', 'dim_reduction_choice': 'KernelPCA', 'n_components___KernelPCA': 2, 'assign_labels___SpectralClustering': 'kmeans', 'n_clusters___SpectralClustering': 11, 'kernel___KernelPCA': 'poly', 'eigen_solver___SpectralClustering': 'arpack'}\n"
     ]
    },
    {
     "name": "stderr",
     "output_type": "stream",
     "text": [
      "/home/coffeetumbler/anaconda3/envs/automl/lib/python3.5/site-packages/sklearn/cluster/spectral.py:268: ConvergenceWarning: Number of distinct clusters (8) found smaller than n_clusters (11). Possibly due to duplicate points in X.\n",
      "  n_init=n_init)\n"
     ]
    },
    {
     "name": "stdout",
     "output_type": "stream",
     "text": [
      "Score obtained by this configuration: inf\n"
     ]
    },
    {
     "name": "stderr",
     "output_type": "stream",
     "text": [
      "WARNING:smac.tae.execute_func.ExecuteTAFuncDict:Target Algorithm returned NaN or inf as quality. Algorithm run is treated as CRASHED, cost is set to 2147483647.0 for quality scenarios. (Change value through \"cost_for_crash\"-option.)\n"
     ]
    },
    {
     "name": "stdout",
     "output_type": "stream",
     "text": [
      "Fitting configuration: \n",
      "{'clustering_choice': 'SpectralClustering', 'affinity___SpectralClustering': 'laplacian', 'dim_reduction_choice': 'KernelPCA', 'n_components___KernelPCA': 2, 'assign_labels___SpectralClustering': 'discretize', 'n_clusters___SpectralClustering': 13, 'kernel___KernelPCA': 'poly', 'eigen_solver___SpectralClustering': 'arpack'}\n",
      "Score obtained by this configuration: inf\n"
     ]
    },
    {
     "name": "stderr",
     "output_type": "stream",
     "text": [
      "WARNING:smac.tae.execute_func.ExecuteTAFuncDict:Target Algorithm returned NaN or inf as quality. Algorithm run is treated as CRASHED, cost is set to 2147483647.0 for quality scenarios. (Change value through \"cost_for_crash\"-option.)\n"
     ]
    },
    {
     "name": "stdout",
     "output_type": "stream",
     "text": [
      "Fitting configuration: \n",
      "{'clustering_choice': 'OPTICS', 'dim_reduction_choice': 'KernelPCA', 'metric___OPTICS': 'l1', 'min_samples___OPTICS': 787, 'cluster_method___OPTICS': 'dbscan', 'kernel___KernelPCA': 'poly', 'n_components___KernelPCA': 4}\n"
     ]
    },
    {
     "name": "stderr",
     "output_type": "stream",
     "text": [
      "Process pynisher function call:\n",
      "Traceback (most recent call last):\n",
      "  File \"/home/coffeetumbler/anaconda3/envs/automl/lib/python3.5/multiprocessing/process.py\", line 252, in _bootstrap\n",
      "    self.run()\n",
      "  File \"/home/coffeetumbler/anaconda3/envs/automl/lib/python3.5/multiprocessing/process.py\", line 93, in run\n",
      "    self._target(*self._args, **self._kwargs)\n",
      "  File \"/home/coffeetumbler/anaconda3/envs/automl/lib/python3.5/site-packages/pynisher/limit_function_call.py\", line 93, in subprocess_func\n",
      "    return_value = ((func(*args, **kwargs), 0))\n",
      "  File \"/home/coffeetumbler/automl_2019/autocluster/autocluster.py\", line 249, in evaluate_model\n",
      "    y_pred = clustering_model.fit_predict(compressed_valid_data)\n",
      "  File \"/home/coffeetumbler/anaconda3/envs/automl/lib/python3.5/site-packages/sklearn/base.py\", line 447, in fit_predict\n",
      "    self.fit(X)\n",
      "  File \"/home/coffeetumbler/anaconda3/envs/automl/lib/python3.5/site-packages/sklearn/cluster/optics_.py\", line 248, in fit\n",
      "    max_eps=self.max_eps)\n",
      "  File \"/home/coffeetumbler/anaconda3/envs/automl/lib/python3.5/site-packages/sklearn/cluster/optics_.py\", line 438, in compute_optics_graph\n",
      "    _validate_size(min_samples, n_samples, 'min_samples')\n",
      "  File \"/home/coffeetumbler/anaconda3/envs/automl/lib/python3.5/site-packages/sklearn/cluster/optics_.py\", line 290, in _validate_size\n",
      "    (param_name, n_samples, size))\n",
      "ValueError: min_samples must be no greater than the number of samples (506). Got 787\n"
     ]
    },
    {
     "name": "stdout",
     "output_type": "stream",
     "text": [
      "Fitting configuration: \n",
      "{'clustering_choice': 'SpectralClustering', 'affinity___SpectralClustering': 'laplacian', 'dim_reduction_choice': 'KernelPCA', 'n_components___KernelPCA': 7, 'assign_labels___SpectralClustering': 'kmeans', 'n_clusters___SpectralClustering': 10, 'kernel___KernelPCA': 'poly', 'eigen_solver___SpectralClustering': 'arpack'}\n"
     ]
    },
    {
     "name": "stderr",
     "output_type": "stream",
     "text": [
      "/home/coffeetumbler/anaconda3/envs/automl/lib/python3.5/site-packages/sklearn/cluster/spectral.py:268: ConvergenceWarning: Number of distinct clusters (2) found smaller than n_clusters (10). Possibly due to duplicate points in X.\n",
      "  n_init=n_init)\n"
     ]
    },
    {
     "name": "stdout",
     "output_type": "stream",
     "text": [
      "Score obtained by this configuration: inf\n"
     ]
    },
    {
     "name": "stderr",
     "output_type": "stream",
     "text": [
      "WARNING:smac.tae.execute_func.ExecuteTAFuncDict:Target Algorithm returned NaN or inf as quality. Algorithm run is treated as CRASHED, cost is set to 2147483647.0 for quality scenarios. (Change value through \"cost_for_crash\"-option.)\n"
     ]
    },
    {
     "name": "stdout",
     "output_type": "stream",
     "text": [
      "Fitting configuration: \n",
      "{'clustering_choice': 'Birch', 'dim_reduction_choice': 'KernelPCA', 'n_components___KernelPCA': 5, 'branching_factor___Birch': 83, 'kernel___KernelPCA': 'poly', 'n_clusters___Birch': 9}\n"
     ]
    },
    {
     "name": "stderr",
     "output_type": "stream",
     "text": [
      "/home/coffeetumbler/anaconda3/envs/automl/lib/python3.5/site-packages/sklearn/cluster/birch.py:627: ConvergenceWarning: Number of subclusters found (8) by Birch is less than (9). Decrease the threshold.\n",
      "  % (len(centroids), self.n_clusters), ConvergenceWarning)\n"
     ]
    },
    {
     "name": "stdout",
     "output_type": "stream",
     "text": [
      "Score obtained by this configuration: inf\n"
     ]
    },
    {
     "name": "stderr",
     "output_type": "stream",
     "text": [
      "WARNING:smac.tae.execute_func.ExecuteTAFuncDict:Target Algorithm returned NaN or inf as quality. Algorithm run is treated as CRASHED, cost is set to 2147483647.0 for quality scenarios. (Change value through \"cost_for_crash\"-option.)\n"
     ]
    },
    {
     "name": "stdout",
     "output_type": "stream",
     "text": [
      "Fitting configuration: \n",
      "{'clustering_choice': 'AgglomerativeClustering', 'dim_reduction_choice': 'KernelPCA', 'affinity___AgglomerativeClustering': 'l2', 'kernel___KernelPCA': 'poly', 'linkage___AgglomerativeClustering': 'average', 'n_clusters___AgglomerativeClustering': 15, 'n_components___KernelPCA': 8}\n",
      "Score obtained by this configuration: inf\n"
     ]
    },
    {
     "name": "stderr",
     "output_type": "stream",
     "text": [
      "WARNING:smac.tae.execute_func.ExecuteTAFuncDict:Target Algorithm returned NaN or inf as quality. Algorithm run is treated as CRASHED, cost is set to 2147483647.0 for quality scenarios. (Change value through \"cost_for_crash\"-option.)\n"
     ]
    },
    {
     "name": "stdout",
     "output_type": "stream",
     "text": [
      "Fitting configuration: \n",
      "{'clustering_choice': 'KMeans', 'kernel___KernelPCA': 'poly', 'dim_reduction_choice': 'KernelPCA', 'n_clusters___KMeans': 15, 'n_components___KernelPCA': 2}\n",
      "Score obtained by this configuration: inf\n"
     ]
    },
    {
     "name": "stderr",
     "output_type": "stream",
     "text": [
      "WARNING:smac.tae.execute_func.ExecuteTAFuncDict:Target Algorithm returned NaN or inf as quality. Algorithm run is treated as CRASHED, cost is set to 2147483647.0 for quality scenarios. (Change value through \"cost_for_crash\"-option.)\n"
     ]
    },
    {
     "name": "stdout",
     "output_type": "stream",
     "text": [
      "Fitting configuration: \n",
      "{'clustering_choice': 'Birch', 'dim_reduction_choice': 'PCA', 'branching_factor___Birch': 50, 'svd_solver___PCA': 'auto', 'n_clusters___Birch': 3, 'n_components___PCA': 2}\n",
      "Score obtained by this configuration: 0.20710283770012206\n",
      "Fitting configuration: \n",
      "{'clustering_choice': 'MiniBatchKMeans', 'n_components___TSNE': 2, 'dim_reduction_choice': 'TSNE', 'early_exaggeration___TSNE': 6.112145599966696, 'batch_size___MiniBatchKMeans': 773, 'perplexity___TSNE': 250.7576475481927, 'n_clusters___MiniBatchKMeans': 10}\n",
      "Fitting configuration: \n",
      "{'clustering_choice': 'SpectralClustering', 'affinity___SpectralClustering': 'rbf', 'dim_reduction_choice': 'TSNE', 'early_exaggeration___TSNE': 12.86122333165967, 'n_clusters___SpectralClustering': 3, 'assign_labels___SpectralClustering': 'kmeans', 'perplexity___TSNE': 237.68038043104409, 'eigen_solver___SpectralClustering': 'arpack', 'n_components___TSNE': 2}\n",
      "Fitting configuration: \n",
      "{'clustering_choice': 'MiniBatchKMeans', 'n_components___TSNE': 2, 'dim_reduction_choice': 'TSNE', 'early_exaggeration___TSNE': 5.92345241675155, 'batch_size___MiniBatchKMeans': 891, 'perplexity___TSNE': 234.05607785844984, 'n_clusters___MiniBatchKMeans': 20}\n",
      "Fitting configuration: \n",
      "{'clustering_choice': 'KMeans', 'fun___FastICA': 'cube', 'dim_reduction_choice': 'FastICA', 'whiten___FastICA': True, 'n_components___FastICA': 2, 'n_clusters___KMeans': 3, 'algorithm___FastICA': 'parallel'}\n",
      "Score obtained by this configuration: 0.19396021086531448\n",
      "Fitting configuration: \n",
      "{'clustering_choice': 'DBSCAN', 'dim_reduction_choice': 'TruncatedSVD', 'algorithm___TruncatedSVD': 'randomized', 'eps___DBSCAN': 3.3348244742189315, 'n_components___TruncatedSVD': 3, 'min_samples___DBSCAN': 74}\n",
      "Score obtained by this configuration: inf\n"
     ]
    },
    {
     "name": "stderr",
     "output_type": "stream",
     "text": [
      "WARNING:smac.tae.execute_func.ExecuteTAFuncDict:Target Algorithm returned NaN or inf as quality. Algorithm run is treated as CRASHED, cost is set to 2147483647.0 for quality scenarios. (Change value through \"cost_for_crash\"-option.)\n"
     ]
    },
    {
     "name": "stdout",
     "output_type": "stream",
     "text": [
      "Fitting configuration: \n",
      "{'clustering_choice': 'OPTICS', 'dim_reduction_choice': 'KernelPCA', 'metric___OPTICS': 'minkowski', 'min_samples___OPTICS': 788, 'cluster_method___OPTICS': 'xi', 'kernel___KernelPCA': 'poly', 'n_components___KernelPCA': 7}\n"
     ]
    },
    {
     "name": "stderr",
     "output_type": "stream",
     "text": [
      "Process pynisher function call:\n",
      "Traceback (most recent call last):\n",
      "  File \"/home/coffeetumbler/anaconda3/envs/automl/lib/python3.5/multiprocessing/process.py\", line 252, in _bootstrap\n",
      "    self.run()\n",
      "  File \"/home/coffeetumbler/anaconda3/envs/automl/lib/python3.5/multiprocessing/process.py\", line 93, in run\n",
      "    self._target(*self._args, **self._kwargs)\n",
      "  File \"/home/coffeetumbler/anaconda3/envs/automl/lib/python3.5/site-packages/pynisher/limit_function_call.py\", line 93, in subprocess_func\n",
      "    return_value = ((func(*args, **kwargs), 0))\n",
      "  File \"/home/coffeetumbler/automl_2019/autocluster/autocluster.py\", line 249, in evaluate_model\n",
      "    y_pred = clustering_model.fit_predict(compressed_valid_data)\n",
      "  File \"/home/coffeetumbler/anaconda3/envs/automl/lib/python3.5/site-packages/sklearn/base.py\", line 447, in fit_predict\n",
      "    self.fit(X)\n",
      "  File \"/home/coffeetumbler/anaconda3/envs/automl/lib/python3.5/site-packages/sklearn/cluster/optics_.py\", line 248, in fit\n",
      "    max_eps=self.max_eps)\n",
      "  File \"/home/coffeetumbler/anaconda3/envs/automl/lib/python3.5/site-packages/sklearn/cluster/optics_.py\", line 438, in compute_optics_graph\n",
      "    _validate_size(min_samples, n_samples, 'min_samples')\n",
      "  File \"/home/coffeetumbler/anaconda3/envs/automl/lib/python3.5/site-packages/sklearn/cluster/optics_.py\", line 290, in _validate_size\n",
      "    (param_name, n_samples, size))\n",
      "ValueError: min_samples must be no greater than the number of samples (506). Got 788\n"
     ]
    },
    {
     "name": "stdout",
     "output_type": "stream",
     "text": [
      "Fitting configuration: \n",
      "{'clustering_choice': 'KMeans', 'kernel___KernelPCA': 'cosine', 'dim_reduction_choice': 'KernelPCA', 'n_clusters___KMeans': 29, 'n_components___KernelPCA': 3}\n",
      "Score obtained by this configuration: 0.23160251245905625\n",
      "Fitting configuration: \n",
      "{'clustering_choice': 'AffinityPropagation', 'dim_reduction_choice': 'KernelPCA', 'damping___AffinityPropagation': 0.8279287395007919, 'n_components___KernelPCA': 3, 'kernel___KernelPCA': 'cosine', 'affinity___AffinityPropagation': 'euclidean'}\n",
      "Score obtained by this configuration: 0.2318544495720206\n",
      "Fitting configuration: \n",
      "{'clustering_choice': 'MiniBatchKMeans', 'dim_reduction_choice': 'KernelPCA', 'n_components___KernelPCA': 2, 'batch_size___MiniBatchKMeans': 668, 'kernel___KernelPCA': 'cosine', 'n_clusters___MiniBatchKMeans': 9}\n",
      "Score obtained by this configuration: 0.20409499433481523\n",
      "Fitting configuration: \n",
      "{'clustering_choice': 'MiniBatchKMeans', 'dim_reduction_choice': 'KernelPCA', 'n_components___KernelPCA': 3, 'batch_size___MiniBatchKMeans': 362, 'kernel___KernelPCA': 'cosine', 'n_clusters___MiniBatchKMeans': 29}\n",
      "Score obtained by this configuration: 0.23674842975572064\n",
      "Fitting configuration: \n",
      "{'clustering_choice': 'MiniBatchKMeans', 'dim_reduction_choice': 'KernelPCA', 'n_components___KernelPCA': 3, 'batch_size___MiniBatchKMeans': 190, 'kernel___KernelPCA': 'cosine', 'n_clusters___MiniBatchKMeans': 22}\n",
      "Score obtained by this configuration: 0.23626086726498985\n",
      "Fitting configuration: \n",
      "{'clustering_choice': 'GaussianMixture', 'covariance_type___GaussianMixture': 'tied', 'dim_reduction_choice': 'KernelPCA', 'n_components___KernelPCA': 3, 'init_params___GaussianMixture': 'kmeans', 'kernel___KernelPCA': 'cosine', 'n_components___GaussianMixture': 8}\n",
      "Score obtained by this configuration: 0.2249563344202062\n",
      "Fitting configuration: \n",
      "{'clustering_choice': 'MiniBatchKMeans', 'dim_reduction_choice': 'KernelPCA', 'n_components___KernelPCA': 7, 'batch_size___MiniBatchKMeans': 154, 'kernel___KernelPCA': 'cosine', 'n_clusters___MiniBatchKMeans': 9}\n",
      "Score obtained by this configuration: 0.2545313194144579\n",
      "Fitting configuration: \n",
      "{'clustering_choice': 'SpectralClustering', 'affinity___SpectralClustering': 'poly', 'dim_reduction_choice': 'KernelPCA', 'n_components___KernelPCA': 2, 'assign_labels___SpectralClustering': 'kmeans', 'n_clusters___SpectralClustering': 10, 'kernel___KernelPCA': 'cosine', 'eigen_solver___SpectralClustering': 'arpack'}\n",
      "Score obtained by this configuration: 0.20167783430690825\n",
      "Fitting configuration: \n",
      "{'clustering_choice': 'KMeans', 'kernel___KernelPCA': 'cosine', 'dim_reduction_choice': 'KernelPCA', 'n_clusters___KMeans': 12, 'n_components___KernelPCA': 2}\n",
      "Score obtained by this configuration: 0.19970212056129857\n",
      "Fitting configuration: \n",
      "{'clustering_choice': 'GaussianMixture', 'covariance_type___GaussianMixture': 'diag', 'dim_reduction_choice': 'TruncatedSVD', 'n_components___GaussianMixture': 9, 'init_params___GaussianMixture': 'kmeans', 'algorithm___TruncatedSVD': 'arpack', 'n_components___TruncatedSVD': 5}\n",
      "Score obtained by this configuration: 0.25284550278023626\n",
      "Fitting configuration: \n",
      "{'clustering_choice': 'MiniBatchKMeans', 'dim_reduction_choice': 'KernelPCA', 'n_components___KernelPCA': 3, 'batch_size___MiniBatchKMeans': 144, 'kernel___KernelPCA': 'cosine', 'n_clusters___MiniBatchKMeans': 11}\n",
      "Score obtained by this configuration: 0.23287270601159937\n",
      "Fitting configuration: \n",
      "{'clustering_choice': 'MiniBatchKMeans', 'dim_reduction_choice': 'KernelPCA', 'n_components___KernelPCA': 3, 'batch_size___MiniBatchKMeans': 182, 'kernel___KernelPCA': 'cosine', 'n_clusters___MiniBatchKMeans': 23}\n",
      "Score obtained by this configuration: 0.23754227210399906\n",
      "Fitting configuration: \n",
      "{'clustering_choice': 'GaussianMixture', 'covariance_type___GaussianMixture': 'tied', 'dim_reduction_choice': 'KernelPCA', 'n_components___KernelPCA': 3, 'init_params___GaussianMixture': 'kmeans', 'kernel___KernelPCA': 'cosine', 'n_components___GaussianMixture': 5}\n",
      "Score obtained by this configuration: 0.24641683637655318\n",
      "Fitting configuration: \n",
      "{'clustering_choice': 'SpectralClustering', 'affinity___SpectralClustering': 'poly', 'dim_reduction_choice': 'IncrementalPCA', 'n_clusters___SpectralClustering': 1, 'assign_labels___SpectralClustering': 'kmeans', 'n_components___IncrementalPCA': 3, 'whiten___IncrementalPCA': True, 'eigen_solver___SpectralClustering': 'arpack', 'batch_size___IncrementalPCA': 780}\n",
      "Score obtained by this configuration: inf\n"
     ]
    },
    {
     "name": "stderr",
     "output_type": "stream",
     "text": [
      "WARNING:smac.tae.execute_func.ExecuteTAFuncDict:Target Algorithm returned NaN or inf as quality. Algorithm run is treated as CRASHED, cost is set to 2147483647.0 for quality scenarios. (Change value through \"cost_for_crash\"-option.)\n"
     ]
    },
    {
     "name": "stdout",
     "output_type": "stream",
     "text": [
      "Fitting configuration: \n",
      "{'clustering_choice': 'GaussianMixture', 'covariance_type___GaussianMixture': 'diag', 'dim_reduction_choice': 'KernelPCA', 'n_components___KernelPCA': 3, 'init_params___GaussianMixture': 'kmeans', 'kernel___KernelPCA': 'cosine', 'n_components___GaussianMixture': 4}\n",
      "Score obtained by this configuration: 0.23600630595932412\n",
      "Fitting configuration: \n",
      "{'clustering_choice': 'AgglomerativeClustering', 'dim_reduction_choice': 'KernelPCA', 'affinity___AgglomerativeClustering': 'euclidean', 'kernel___KernelPCA': 'cosine', 'linkage___AgglomerativeClustering': 'ward', 'n_clusters___AgglomerativeClustering': 28, 'n_components___KernelPCA': 3}\n",
      "Score obtained by this configuration: 0.23291030796218024\n",
      "Fitting configuration: \n",
      "{'clustering_choice': 'GaussianMixture', 'covariance_type___GaussianMixture': 'diag', 'dim_reduction_choice': 'TruncatedSVD', 'n_components___GaussianMixture': 6, 'init_params___GaussianMixture': 'random', 'algorithm___TruncatedSVD': 'randomized', 'warm_start___GaussianMixture': True, 'n_components___TruncatedSVD': 8}\n",
      "Score obtained by this configuration: 0.28808735082495307\n",
      "Fitting configuration: \n",
      "{'clustering_choice': 'Birch', 'dim_reduction_choice': 'KernelPCA', 'n_components___KernelPCA': 2, 'branching_factor___Birch': 385, 'kernel___KernelPCA': 'cosine', 'n_clusters___Birch': 12}\n"
     ]
    },
    {
     "name": "stderr",
     "output_type": "stream",
     "text": [
      "/home/coffeetumbler/anaconda3/envs/automl/lib/python3.5/site-packages/sklearn/cluster/birch.py:627: ConvergenceWarning: Number of subclusters found (2) by Birch is less than (12). Decrease the threshold.\n",
      "  % (len(centroids), self.n_clusters), ConvergenceWarning)\n",
      "/home/coffeetumbler/anaconda3/envs/automl/lib/python3.5/site-packages/sklearn/cluster/birch.py:627: ConvergenceWarning: Number of subclusters found (2) by Birch is less than (12). Decrease the threshold.\n",
      "  % (len(centroids), self.n_clusters), ConvergenceWarning)\n",
      "/home/coffeetumbler/anaconda3/envs/automl/lib/python3.5/site-packages/sklearn/cluster/birch.py:627: ConvergenceWarning: Number of subclusters found (2) by Birch is less than (12). Decrease the threshold.\n",
      "  % (len(centroids), self.n_clusters), ConvergenceWarning)\n",
      "/home/coffeetumbler/anaconda3/envs/automl/lib/python3.5/site-packages/sklearn/cluster/birch.py:627: ConvergenceWarning: Number of subclusters found (4) by Birch is less than (12). Decrease the threshold.\n",
      "  % (len(centroids), self.n_clusters), ConvergenceWarning)\n",
      "/home/coffeetumbler/anaconda3/envs/automl/lib/python3.5/site-packages/sklearn/cluster/birch.py:627: ConvergenceWarning: Number of subclusters found (2) by Birch is less than (12). Decrease the threshold.\n",
      "  % (len(centroids), self.n_clusters), ConvergenceWarning)\n",
      "/home/coffeetumbler/anaconda3/envs/automl/lib/python3.5/site-packages/sklearn/cluster/birch.py:627: ConvergenceWarning: Number of subclusters found (4) by Birch is less than (12). Decrease the threshold.\n",
      "  % (len(centroids), self.n_clusters), ConvergenceWarning)\n"
     ]
    },
    {
     "name": "stdout",
     "output_type": "stream",
     "text": [
      "Score obtained by this configuration: 0.23069718119762236\n",
      "Fitting configuration: \n",
      "{'clustering_choice': 'MiniBatchKMeans', 'dim_reduction_choice': 'PCA', 'batch_size___MiniBatchKMeans': 191, 'svd_solver___PCA': 'arpack', 'n_clusters___MiniBatchKMeans': 6, 'n_components___PCA': 3}\n",
      "Score obtained by this configuration: 0.21644664746031061\n",
      "Fitting configuration: \n",
      "{'clustering_choice': 'DBSCAN', 'dim_reduction_choice': 'KernelPCA', 'n_components___KernelPCA': 2, 'kernel___KernelPCA': 'poly', 'eps___DBSCAN': 0.33357409867392923, 'min_samples___DBSCAN': 85}\n",
      "Score obtained by this configuration: inf\n"
     ]
    },
    {
     "name": "stderr",
     "output_type": "stream",
     "text": [
      "WARNING:smac.tae.execute_func.ExecuteTAFuncDict:Target Algorithm returned NaN or inf as quality. Algorithm run is treated as CRASHED, cost is set to 2147483647.0 for quality scenarios. (Change value through \"cost_for_crash\"-option.)\n"
     ]
    },
    {
     "name": "stdout",
     "output_type": "stream",
     "text": [
      "Fitting configuration: \n",
      "{'clustering_choice': 'DBSCAN', 'dim_reduction_choice': 'KernelPCA', 'n_components___KernelPCA': 3, 'kernel___KernelPCA': 'poly', 'eps___DBSCAN': 0.4911184393167958, 'min_samples___DBSCAN': 30}\n",
      "Score obtained by this configuration: inf\n"
     ]
    },
    {
     "name": "stderr",
     "output_type": "stream",
     "text": [
      "WARNING:smac.tae.execute_func.ExecuteTAFuncDict:Target Algorithm returned NaN or inf as quality. Algorithm run is treated as CRASHED, cost is set to 2147483647.0 for quality scenarios. (Change value through \"cost_for_crash\"-option.)\n"
     ]
    },
    {
     "name": "stdout",
     "output_type": "stream",
     "text": [
      "Fitting configuration: \n",
      "{'clustering_choice': 'DBSCAN', 'dim_reduction_choice': 'KernelPCA', 'n_components___KernelPCA': 3, 'kernel___KernelPCA': 'poly', 'eps___DBSCAN': 0.46609068939941084, 'min_samples___DBSCAN': 8}\n",
      "Score obtained by this configuration: inf\n"
     ]
    },
    {
     "name": "stderr",
     "output_type": "stream",
     "text": [
      "WARNING:smac.tae.execute_func.ExecuteTAFuncDict:Target Algorithm returned NaN or inf as quality. Algorithm run is treated as CRASHED, cost is set to 2147483647.0 for quality scenarios. (Change value through \"cost_for_crash\"-option.)\n"
     ]
    },
    {
     "name": "stdout",
     "output_type": "stream",
     "text": [
      "Fitting configuration: \n",
      "{'clustering_choice': 'DBSCAN', 'dim_reduction_choice': 'KernelPCA', 'n_components___KernelPCA': 3, 'kernel___KernelPCA': 'poly', 'eps___DBSCAN': 0.42763622817394803, 'min_samples___DBSCAN': 13}\n",
      "Score obtained by this configuration: inf\n"
     ]
    },
    {
     "name": "stderr",
     "output_type": "stream",
     "text": [
      "WARNING:smac.tae.execute_func.ExecuteTAFuncDict:Target Algorithm returned NaN or inf as quality. Algorithm run is treated as CRASHED, cost is set to 2147483647.0 for quality scenarios. (Change value through \"cost_for_crash\"-option.)\n"
     ]
    },
    {
     "name": "stdout",
     "output_type": "stream",
     "text": [
      "Fitting configuration: \n",
      "{'clustering_choice': 'DBSCAN', 'dim_reduction_choice': 'KernelPCA', 'n_components___KernelPCA': 3, 'kernel___KernelPCA': 'poly', 'eps___DBSCAN': 0.3597676486445218, 'min_samples___DBSCAN': 10}\n",
      "Score obtained by this configuration: inf\n"
     ]
    },
    {
     "name": "stderr",
     "output_type": "stream",
     "text": [
      "WARNING:smac.tae.execute_func.ExecuteTAFuncDict:Target Algorithm returned NaN or inf as quality. Algorithm run is treated as CRASHED, cost is set to 2147483647.0 for quality scenarios. (Change value through \"cost_for_crash\"-option.)\n"
     ]
    },
    {
     "name": "stdout",
     "output_type": "stream",
     "text": [
      "Fitting configuration: \n",
      "{'clustering_choice': 'DBSCAN', 'n_components___TSNE': 2, 'dim_reduction_choice': 'TSNE', 'early_exaggeration___TSNE': 13.486116543319527, 'eps___DBSCAN': 1.4543702868272501, 'perplexity___TSNE': 207.2286787061756, 'min_samples___DBSCAN': 73}\n",
      "Fitting configuration: \n",
      "{'clustering_choice': 'DBSCAN', 'dim_reduction_choice': 'KernelPCA', 'n_components___KernelPCA': 4, 'kernel___KernelPCA': 'poly', 'eps___DBSCAN': 0.45622940930651806, 'min_samples___DBSCAN': 25}\n",
      "Score obtained by this configuration: inf\n"
     ]
    },
    {
     "name": "stderr",
     "output_type": "stream",
     "text": [
      "WARNING:smac.tae.execute_func.ExecuteTAFuncDict:Target Algorithm returned NaN or inf as quality. Algorithm run is treated as CRASHED, cost is set to 2147483647.0 for quality scenarios. (Change value through \"cost_for_crash\"-option.)\n"
     ]
    },
    {
     "name": "stdout",
     "output_type": "stream",
     "text": [
      "Fitting configuration: \n",
      "{'clustering_choice': 'DBSCAN', 'fun___FastICA': 'exp', 'dim_reduction_choice': 'FastICA', 'whiten___FastICA': True, 'n_components___FastICA': 2, 'eps___DBSCAN': 0.04642250559297685, 'algorithm___FastICA': 'deflation', 'min_samples___DBSCAN': 28}\n",
      "Score obtained by this configuration: inf\n"
     ]
    },
    {
     "name": "stderr",
     "output_type": "stream",
     "text": [
      "WARNING:smac.tae.execute_func.ExecuteTAFuncDict:Target Algorithm returned NaN or inf as quality. Algorithm run is treated as CRASHED, cost is set to 2147483647.0 for quality scenarios. (Change value through \"cost_for_crash\"-option.)\n"
     ]
    },
    {
     "name": "stdout",
     "output_type": "stream",
     "text": [
      "Fitting configuration: \n",
      "{'clustering_choice': 'DBSCAN', 'dim_reduction_choice': 'KernelPCA', 'n_components___KernelPCA': 2, 'kernel___KernelPCA': 'sigmoid', 'eps___DBSCAN': 0.2613984466855124, 'min_samples___DBSCAN': 18}\n",
      "Score obtained by this configuration: inf\n"
     ]
    },
    {
     "name": "stderr",
     "output_type": "stream",
     "text": [
      "WARNING:smac.tae.execute_func.ExecuteTAFuncDict:Target Algorithm returned NaN or inf as quality. Algorithm run is treated as CRASHED, cost is set to 2147483647.0 for quality scenarios. (Change value through \"cost_for_crash\"-option.)\n"
     ]
    },
    {
     "name": "stdout",
     "output_type": "stream",
     "text": [
      "Fitting configuration: \n",
      "{'clustering_choice': 'DBSCAN', 'dim_reduction_choice': 'KernelPCA', 'n_components___KernelPCA': 3, 'kernel___KernelPCA': 'sigmoid', 'eps___DBSCAN': 0.4911184393167958, 'min_samples___DBSCAN': 18}\n",
      "Score obtained by this configuration: inf\n"
     ]
    },
    {
     "name": "stderr",
     "output_type": "stream",
     "text": [
      "WARNING:smac.tae.execute_func.ExecuteTAFuncDict:Target Algorithm returned NaN or inf as quality. Algorithm run is treated as CRASHED, cost is set to 2147483647.0 for quality scenarios. (Change value through \"cost_for_crash\"-option.)\n"
     ]
    },
    {
     "name": "stdout",
     "output_type": "stream",
     "text": [
      "Fitting configuration: \n",
      "{'clustering_choice': 'DBSCAN', 'dim_reduction_choice': 'KernelPCA', 'n_components___KernelPCA': 4, 'kernel___KernelPCA': 'sigmoid', 'eps___DBSCAN': 0.4431447716161244, 'min_samples___DBSCAN': 12}\n",
      "Score obtained by this configuration: inf\n"
     ]
    },
    {
     "name": "stderr",
     "output_type": "stream",
     "text": [
      "WARNING:smac.tae.execute_func.ExecuteTAFuncDict:Target Algorithm returned NaN or inf as quality. Algorithm run is treated as CRASHED, cost is set to 2147483647.0 for quality scenarios. (Change value through \"cost_for_crash\"-option.)\n"
     ]
    },
    {
     "name": "stdout",
     "output_type": "stream",
     "text": [
      "Fitting configuration: \n",
      "{'clustering_choice': 'SpectralClustering', 'affinity___SpectralClustering': 'laplacian', 'dim_reduction_choice': 'TruncatedSVD', 'eigen_solver___SpectralClustering': 'arpack', 'assign_labels___SpectralClustering': 'kmeans', 'n_clusters___SpectralClustering': 7, 'algorithm___TruncatedSVD': 'randomized', 'n_components___TruncatedSVD': 2}\n",
      "Score obtained by this configuration: 0.20463653573999827\n",
      "Fitting configuration: \n",
      "{'clustering_choice': 'DBSCAN', 'dim_reduction_choice': 'KernelPCA', 'n_components___KernelPCA': 5, 'kernel___KernelPCA': 'sigmoid', 'eps___DBSCAN': 0.4872295004818057, 'min_samples___DBSCAN': 15}\n",
      "Score obtained by this configuration: inf\n"
     ]
    },
    {
     "name": "stderr",
     "output_type": "stream",
     "text": [
      "WARNING:smac.tae.execute_func.ExecuteTAFuncDict:Target Algorithm returned NaN or inf as quality. Algorithm run is treated as CRASHED, cost is set to 2147483647.0 for quality scenarios. (Change value through \"cost_for_crash\"-option.)\n"
     ]
    },
    {
     "name": "stdout",
     "output_type": "stream",
     "text": [
      "Fitting configuration: \n",
      "{'clustering_choice': 'DBSCAN', 'dim_reduction_choice': 'IncrementalPCA', 'eps___DBSCAN': 1.2911136728166452, 'whiten___IncrementalPCA': True, 'n_components___IncrementalPCA': 3, 'min_samples___DBSCAN': 14, 'batch_size___IncrementalPCA': 566}\n",
      "Score obtained by this configuration: inf\n"
     ]
    },
    {
     "name": "stderr",
     "output_type": "stream",
     "text": [
      "WARNING:smac.tae.execute_func.ExecuteTAFuncDict:Target Algorithm returned NaN or inf as quality. Algorithm run is treated as CRASHED, cost is set to 2147483647.0 for quality scenarios. (Change value through \"cost_for_crash\"-option.)\n"
     ]
    },
    {
     "name": "stdout",
     "output_type": "stream",
     "text": [
      "Fitting configuration: \n",
      "{'clustering_choice': 'DBSCAN', 'dim_reduction_choice': 'KernelPCA', 'n_components___KernelPCA': 3, 'kernel___KernelPCA': 'sigmoid', 'eps___DBSCAN': 0.12320956350310737, 'min_samples___DBSCAN': 9}\n",
      "Score obtained by this configuration: 0.32580248238376985\n",
      "Fitting configuration: \n",
      "{'clustering_choice': 'DBSCAN', 'dim_reduction_choice': 'IncrementalPCA', 'eps___DBSCAN': 1.2410476486901236, 'min_samples___DBSCAN': 13, 'n_components___IncrementalPCA': 3, 'batch_size___IncrementalPCA': 494}\n",
      "Score obtained by this configuration: 0.291378894279259\n",
      "Fitting configuration: \n",
      "{'clustering_choice': 'DBSCAN', 'dim_reduction_choice': 'PCA', 'whiten___PCA': True, 'eps___DBSCAN': 0.4491675983200766, 'n_components___PCA': 2, 'svd_solver___PCA': 'randomized', 'min_samples___DBSCAN': 43}\n",
      "Score obtained by this configuration: 0.27983905343774146\n",
      "Fitting configuration: \n",
      "{'clustering_choice': 'AgglomerativeClustering', 'dim_reduction_choice': 'TruncatedSVD', 'affinity___AgglomerativeClustering': 'l1', 'algorithm___TruncatedSVD': 'arpack', 'linkage___AgglomerativeClustering': 'single', 'n_components___TruncatedSVD': 7, 'n_clusters___AgglomerativeClustering': 19}\n",
      "Score obtained by this configuration: inf\n"
     ]
    },
    {
     "name": "stderr",
     "output_type": "stream",
     "text": [
      "WARNING:smac.tae.execute_func.ExecuteTAFuncDict:Target Algorithm returned NaN or inf as quality. Algorithm run is treated as CRASHED, cost is set to 2147483647.0 for quality scenarios. (Change value through \"cost_for_crash\"-option.)\n"
     ]
    },
    {
     "name": "stdout",
     "output_type": "stream",
     "text": [
      "Fitting configuration: \n",
      "{'clustering_choice': 'DBSCAN', 'dim_reduction_choice': 'KernelPCA', 'n_components___KernelPCA': 2, 'kernel___KernelPCA': 'cosine', 'eps___DBSCAN': 1.3670238683447553, 'min_samples___DBSCAN': 34}\n",
      "Score obtained by this configuration: inf\n"
     ]
    },
    {
     "name": "stderr",
     "output_type": "stream",
     "text": [
      "WARNING:smac.tae.execute_func.ExecuteTAFuncDict:Target Algorithm returned NaN or inf as quality. Algorithm run is treated as CRASHED, cost is set to 2147483647.0 for quality scenarios. (Change value through \"cost_for_crash\"-option.)\n"
     ]
    },
    {
     "name": "stdout",
     "output_type": "stream",
     "text": [
      "Fitting configuration: \n",
      "{'clustering_choice': 'DBSCAN', 'dim_reduction_choice': 'KernelPCA', 'n_components___KernelPCA': 4, 'kernel___KernelPCA': 'cosine', 'eps___DBSCAN': 4.697368640132705, 'min_samples___DBSCAN': 47}\n",
      "Score obtained by this configuration: inf\n"
     ]
    },
    {
     "name": "stderr",
     "output_type": "stream",
     "text": [
      "WARNING:smac.tae.execute_func.ExecuteTAFuncDict:Target Algorithm returned NaN or inf as quality. Algorithm run is treated as CRASHED, cost is set to 2147483647.0 for quality scenarios. (Change value through \"cost_for_crash\"-option.)\n"
     ]
    },
    {
     "name": "stdout",
     "output_type": "stream",
     "text": [
      "Fitting configuration: \n",
      "{'clustering_choice': 'GaussianMixture', 'covariance_type___GaussianMixture': 'full', 'dim_reduction_choice': 'KernelPCA', 'n_components___KernelPCA': 8, 'init_params___GaussianMixture': 'kmeans', 'kernel___KernelPCA': 'cosine', 'warm_start___GaussianMixture': True, 'n_components___GaussianMixture': 73}\n",
      "Score obtained by this configuration: 0.2860702435814444\n",
      "Fitting configuration: \n",
      "{'clustering_choice': 'AffinityPropagation', 'dim_reduction_choice': 'KernelPCA', 'damping___AffinityPropagation': 0.9071043358860751, 'n_components___KernelPCA': 7, 'kernel___KernelPCA': 'rbf', 'affinity___AffinityPropagation': 'euclidean'}\n",
      "Score obtained by this configuration: 0.26499114409407815\n",
      "Fitting configuration: \n",
      "{'clustering_choice': 'MiniBatchKMeans', 'dim_reduction_choice': 'KernelPCA', 'n_components___KernelPCA': 2, 'batch_size___MiniBatchKMeans': 182, 'kernel___KernelPCA': 'linear', 'n_clusters___MiniBatchKMeans': 10}\n",
      "Score obtained by this configuration: 0.20483066880502157\n",
      "Fitting configuration: \n",
      "{'clustering_choice': 'DBSCAN', 'fun___FastICA': 'cube', 'dim_reduction_choice': 'FastICA', 'whiten___FastICA': True, 'n_components___FastICA': 3, 'eps___DBSCAN': 0.3203676393525975, 'algorithm___FastICA': 'deflation', 'min_samples___DBSCAN': 5}\n",
      "Score obtained by this configuration: inf\n"
     ]
    },
    {
     "name": "stderr",
     "output_type": "stream",
     "text": [
      "WARNING:smac.tae.execute_func.ExecuteTAFuncDict:Target Algorithm returned NaN or inf as quality. Algorithm run is treated as CRASHED, cost is set to 2147483647.0 for quality scenarios. (Change value through \"cost_for_crash\"-option.)\n"
     ]
    },
    {
     "name": "stdout",
     "output_type": "stream",
     "text": [
      "Fitting configuration: \n",
      "{'clustering_choice': 'KMeans', 'kernel___KernelPCA': 'rbf', 'dim_reduction_choice': 'KernelPCA', 'n_clusters___KMeans': 6, 'n_components___KernelPCA': 3}\n",
      "Score obtained by this configuration: 0.20472280356837536\n",
      "Fitting configuration: \n",
      "{'clustering_choice': 'KMeans', 'kernel___KernelPCA': 'rbf', 'dim_reduction_choice': 'KernelPCA', 'n_clusters___KMeans': 4, 'n_components___KernelPCA': 5}\n",
      "Score obtained by this configuration: 0.25096136988887097\n",
      "Fitting configuration: \n",
      "{'clustering_choice': 'AffinityPropagation', 'dim_reduction_choice': 'KernelPCA', 'damping___AffinityPropagation': 0.5950559082951756, 'n_components___KernelPCA': 3, 'kernel___KernelPCA': 'cosine', 'affinity___AffinityPropagation': 'euclidean'}\n",
      "Score obtained by this configuration: 0.231947660714397\n",
      "Fitting configuration: \n",
      "{'clustering_choice': 'AffinityPropagation', 'dim_reduction_choice': 'KernelPCA', 'damping___AffinityPropagation': 0.5916393513064787, 'n_components___KernelPCA': 3, 'kernel___KernelPCA': 'cosine', 'affinity___AffinityPropagation': 'euclidean'}\n",
      "Score obtained by this configuration: 0.23198538693452977\n",
      "Fitting configuration: \n",
      "{'clustering_choice': 'KMeans', 'kernel___KernelPCA': 'sigmoid', 'dim_reduction_choice': 'KernelPCA', 'n_clusters___KMeans': 27, 'n_components___KernelPCA': 2}\n",
      "Score obtained by this configuration: 0.201392744114279\n",
      "Fitting configuration: \n",
      "{'clustering_choice': 'KMeans', 'kernel___KernelPCA': 'sigmoid', 'dim_reduction_choice': 'KernelPCA', 'n_clusters___KMeans': 22, 'n_components___KernelPCA': 2}\n",
      "Score obtained by this configuration: 0.2018808673394529\n",
      "Fitting configuration: \n",
      "{'clustering_choice': 'GaussianMixture', 'covariance_type___GaussianMixture': 'tied', 'dim_reduction_choice': 'FastICA', 'algorithm___FastICA': 'deflation', 'init_params___GaussianMixture': 'kmeans', 'n_components___FastICA': 3, 'fun___FastICA': 'cube', 'whiten___FastICA': True, 'n_components___GaussianMixture': 62}\n",
      "Score obtained by this configuration: 0.2143453253223723\n",
      "Fitting configuration: \n",
      "{'clustering_choice': 'MiniBatchKMeans', 'dim_reduction_choice': 'TruncatedSVD', 'batch_size___MiniBatchKMeans': 235, 'algorithm___TruncatedSVD': 'randomized', 'n_components___TruncatedSVD': 5, 'n_clusters___MiniBatchKMeans': 28}\n",
      "Score obtained by this configuration: 0.26067853725065926\n",
      "Fitting configuration: \n",
      "{'clustering_choice': 'MiniBatchKMeans', 'dim_reduction_choice': 'KernelPCA', 'n_components___KernelPCA': 8, 'batch_size___MiniBatchKMeans': 474, 'kernel___KernelPCA': 'linear', 'n_clusters___MiniBatchKMeans': 32}\n",
      "Score obtained by this configuration: 0.25943880815827314\n",
      "Fitting configuration: \n",
      "{'clustering_choice': 'MiniBatchKMeans', 'dim_reduction_choice': 'KernelPCA', 'n_components___KernelPCA': 2, 'batch_size___MiniBatchKMeans': 187, 'kernel___KernelPCA': 'rbf', 'n_clusters___MiniBatchKMeans': 4}\n",
      "Score obtained by this configuration: 0.18437727526863287\n",
      "Fitting configuration: \n",
      "{'clustering_choice': 'OPTICS', 'n_components___TSNE': 2, 'dim_reduction_choice': 'TSNE', 'metric___OPTICS': 'l1', 'min_samples___OPTICS': 746, 'early_exaggeration___TSNE': 16.28310346313276, 'cluster_method___OPTICS': 'dbscan', 'perplexity___TSNE': 273.0652001299699}\n",
      "Fitting configuration: \n",
      "{'clustering_choice': 'AgglomerativeClustering', 'dim_reduction_choice': 'KernelPCA', 'affinity___AgglomerativeClustering': 'l1', 'kernel___KernelPCA': 'rbf', 'linkage___AgglomerativeClustering': 'complete', 'n_clusters___AgglomerativeClustering': 34, 'n_components___KernelPCA': 6}\n",
      "Score obtained by this configuration: 0.26331950286889694\n",
      "Fitting configuration: \n",
      "{'clustering_choice': 'Birch', 'n_components___TSNE': 2, 'dim_reduction_choice': 'TSNE', 'early_exaggeration___TSNE': 8.891357869201425, 'branching_factor___Birch': 733, 'perplexity___TSNE': 271.1351072572723, 'n_clusters___Birch': 8}\n",
      "Fitting configuration: \n",
      "{'clustering_choice': 'Birch', 'n_clusters___Birch': 39, 'branching_factor___Birch': 807, 'n_components___IncrementalPCA': 3, 'batch_size___IncrementalPCA': 711, 'dim_reduction_choice': 'IncrementalPCA'}\n",
      "Score obtained by this configuration: 0.23009768689742147\n",
      "Fitting configuration: \n",
      "{'clustering_choice': 'GaussianMixture', 'covariance_type___GaussianMixture': 'full', 'dim_reduction_choice': 'KernelPCA', 'n_components___KernelPCA': 2, 'init_params___GaussianMixture': 'kmeans', 'kernel___KernelPCA': 'sigmoid', 'n_components___GaussianMixture': 45}\n",
      "Score obtained by this configuration: 0.2163721575592625\n",
      "Fitting configuration: \n",
      "{'clustering_choice': 'MeanShift', 'bin_seeding___MeanShift': True, 'dim_reduction_choice': 'TSNE', 'bandwidth___MeanShift': 33.012847009127846, 'early_exaggeration___TSNE': 8.622213783421856, 'n_components___TSNE': 2, 'perplexity___TSNE': 146.2437925489064}\n",
      "Fitting configuration: \n",
      "{'clustering_choice': 'SpectralClustering', 'affinity___SpectralClustering': 'rbf', 'dim_reduction_choice': 'TSNE', 'early_exaggeration___TSNE': 17.599907823169374, 'n_clusters___SpectralClustering': 13, 'assign_labels___SpectralClustering': 'discretize', 'perplexity___TSNE': 293.9662129593339, 'eigen_solver___SpectralClustering': 'arpack', 'n_components___TSNE': 2}\n",
      "Fitting configuration: \n",
      "{'clustering_choice': 'AffinityPropagation', 'dim_reduction_choice': 'KernelPCA', 'damping___AffinityPropagation': 0.995838089937739, 'n_components___KernelPCA': 3, 'kernel___KernelPCA': 'sigmoid', 'affinity___AffinityPropagation': 'euclidean'}\n"
     ]
    },
    {
     "name": "stderr",
     "output_type": "stream",
     "text": [
      "/home/coffeetumbler/anaconda3/envs/automl/lib/python3.5/site-packages/sklearn/cluster/affinity_propagation_.py:224: ConvergenceWarning: Affinity propagation did not converge, this model will not have any cluster centers.\n",
      "  \"will not have any cluster centers.\", ConvergenceWarning)\n",
      "/home/coffeetumbler/anaconda3/envs/automl/lib/python3.5/site-packages/sklearn/cluster/affinity_propagation_.py:224: ConvergenceWarning: Affinity propagation did not converge, this model will not have any cluster centers.\n",
      "  \"will not have any cluster centers.\", ConvergenceWarning)\n"
     ]
    },
    {
     "name": "stdout",
     "output_type": "stream",
     "text": [
      "Score obtained by this configuration: inf\n"
     ]
    },
    {
     "name": "stderr",
     "output_type": "stream",
     "text": [
      "WARNING:smac.tae.execute_func.ExecuteTAFuncDict:Target Algorithm returned NaN or inf as quality. Algorithm run is treated as CRASHED, cost is set to 2147483647.0 for quality scenarios. (Change value through \"cost_for_crash\"-option.)\n"
     ]
    },
    {
     "name": "stdout",
     "output_type": "stream",
     "text": [
      "Fitting configuration: \n",
      "{'clustering_choice': 'AffinityPropagation', 'dim_reduction_choice': 'IncrementalPCA', 'damping___AffinityPropagation': 0.7492238334978952, 'affinity___AffinityPropagation': 'euclidean', 'n_components___IncrementalPCA': 2, 'batch_size___IncrementalPCA': 51}\n",
      "Score obtained by this configuration: 0.20157137884777754\n",
      "Fitting configuration: \n",
      "{'clustering_choice': 'Birch', 'dim_reduction_choice': 'PCA', 'branching_factor___Birch': 17, 'svd_solver___PCA': 'full', 'n_clusters___Birch': 34, 'n_components___PCA': 3}\n",
      "Score obtained by this configuration: 0.22970439128930545\n",
      "Fitting configuration: \n",
      "{'clustering_choice': 'MiniBatchKMeans', 'fun___FastICA': 'logcosh', 'dim_reduction_choice': 'FastICA', 'n_components___FastICA': 2, 'batch_size___MiniBatchKMeans': 198, 'algorithm___FastICA': 'deflation', 'n_clusters___MiniBatchKMeans': 4}\n",
      "Score obtained by this configuration: 0.18960122769859633\n",
      "Fitting configuration: \n",
      "{'clustering_choice': 'KMeans', 'fun___FastICA': 'logcosh', 'dim_reduction_choice': 'FastICA', 'n_components___FastICA': 2, 'n_clusters___KMeans': 6, 'algorithm___FastICA': 'deflation'}\n",
      "Score obtained by this configuration: 0.19515710755460944\n",
      "Fitting configuration: \n",
      "{'clustering_choice': 'AffinityPropagation', 'dim_reduction_choice': 'KernelPCA', 'damping___AffinityPropagation': 0.6384800608301505, 'n_components___KernelPCA': 3, 'kernel___KernelPCA': 'linear', 'affinity___AffinityPropagation': 'euclidean'}\n",
      "Score obtained by this configuration: 0.23396825845709168\n",
      "Fitting configuration: \n",
      "{'clustering_choice': 'Birch', 'dim_reduction_choice': 'KernelPCA', 'n_components___KernelPCA': 2, 'branching_factor___Birch': 563, 'kernel___KernelPCA': 'linear', 'n_clusters___Birch': 55}\n",
      "Score obtained by this configuration: 0.18394621834655786\n",
      "Fitting configuration: \n",
      "{'clustering_choice': 'KMeans', 'n_components___IncrementalPCA': 3, 'n_clusters___KMeans': 40, 'whiten___IncrementalPCA': True, 'dim_reduction_choice': 'IncrementalPCA', 'batch_size___IncrementalPCA': 673}\n",
      "Score obtained by this configuration: 0.2264825321867856\n",
      "Fitting configuration: \n",
      "{'clustering_choice': 'KMeans', 'n_components___IncrementalPCA': 3, 'n_clusters___KMeans': 51, 'dim_reduction_choice': 'IncrementalPCA', 'batch_size___IncrementalPCA': 456}\n",
      "Score obtained by this configuration: 0.22461351594289647\n",
      "Fitting configuration: \n",
      "{'clustering_choice': 'Birch', 'dim_reduction_choice': 'PCA', 'branching_factor___Birch': 625, 'svd_solver___PCA': 'auto', 'n_clusters___Birch': 62, 'n_components___PCA': 2}\n",
      "Score obtained by this configuration: 0.18150769947578513\n",
      "Fitting configuration: \n",
      "{'clustering_choice': 'MiniBatchKMeans', 'fun___FastICA': 'exp', 'dim_reduction_choice': 'FastICA', 'whiten___FastICA': True, 'n_components___FastICA': 3, 'batch_size___MiniBatchKMeans': 406, 'algorithm___FastICA': 'deflation', 'n_clusters___MiniBatchKMeans': 24}\n",
      "Score obtained by this configuration: 0.23204007840186133\n",
      "Fitting configuration: \n",
      "{'clustering_choice': 'KMeans', 'kernel___KernelPCA': 'linear', 'dim_reduction_choice': 'KernelPCA', 'n_clusters___KMeans': 67, 'n_components___KernelPCA': 7}\n",
      "Score obtained by this configuration: 0.25346683695819977\n",
      "Fitting configuration: \n",
      "{'clustering_choice': 'Birch', 'n_clusters___Birch': 1, 'branching_factor___Birch': 136, 'whiten___IncrementalPCA': True, 'n_components___IncrementalPCA': 2, 'batch_size___IncrementalPCA': 91, 'dim_reduction_choice': 'IncrementalPCA'}\n",
      "Score obtained by this configuration: inf\n"
     ]
    },
    {
     "name": "stderr",
     "output_type": "stream",
     "text": [
      "WARNING:smac.tae.execute_func.ExecuteTAFuncDict:Target Algorithm returned NaN or inf as quality. Algorithm run is treated as CRASHED, cost is set to 2147483647.0 for quality scenarios. (Change value through \"cost_for_crash\"-option.)\n"
     ]
    },
    {
     "name": "stdout",
     "output_type": "stream",
     "text": [
      "Fitting configuration: \n",
      "{'clustering_choice': 'MeanShift', 'dim_reduction_choice': 'PCA', 'whiten___PCA': True, 'bandwidth___MeanShift': 26.807060700054667, 'svd_solver___PCA': 'auto', 'n_components___PCA': 3}\n",
      "Score obtained by this configuration: inf\n"
     ]
    },
    {
     "name": "stderr",
     "output_type": "stream",
     "text": [
      "WARNING:smac.tae.execute_func.ExecuteTAFuncDict:Target Algorithm returned NaN or inf as quality. Algorithm run is treated as CRASHED, cost is set to 2147483647.0 for quality scenarios. (Change value through \"cost_for_crash\"-option.)\n"
     ]
    },
    {
     "name": "stdout",
     "output_type": "stream",
     "text": [
      "Fitting configuration: \n",
      "{'clustering_choice': 'OPTICS', 'fun___FastICA': 'exp', 'dim_reduction_choice': 'FastICA', 'metric___OPTICS': 'manhattan', 'min_samples___OPTICS': 634, 'cluster_method___OPTICS': 'xi', 'n_components___FastICA': 3, 'algorithm___FastICA': 'parallel'}\n"
     ]
    },
    {
     "name": "stderr",
     "output_type": "stream",
     "text": [
      "Process pynisher function call:\n",
      "Traceback (most recent call last):\n",
      "  File \"/home/coffeetumbler/anaconda3/envs/automl/lib/python3.5/multiprocessing/process.py\", line 252, in _bootstrap\n",
      "    self.run()\n",
      "  File \"/home/coffeetumbler/anaconda3/envs/automl/lib/python3.5/multiprocessing/process.py\", line 93, in run\n",
      "    self._target(*self._args, **self._kwargs)\n",
      "  File \"/home/coffeetumbler/anaconda3/envs/automl/lib/python3.5/site-packages/pynisher/limit_function_call.py\", line 93, in subprocess_func\n",
      "    return_value = ((func(*args, **kwargs), 0))\n",
      "  File \"/home/coffeetumbler/automl_2019/autocluster/autocluster.py\", line 249, in evaluate_model\n",
      "    y_pred = clustering_model.fit_predict(compressed_valid_data)\n",
      "  File \"/home/coffeetumbler/anaconda3/envs/automl/lib/python3.5/site-packages/sklearn/base.py\", line 447, in fit_predict\n",
      "    self.fit(X)\n",
      "  File \"/home/coffeetumbler/anaconda3/envs/automl/lib/python3.5/site-packages/sklearn/cluster/optics_.py\", line 248, in fit\n",
      "    max_eps=self.max_eps)\n",
      "  File \"/home/coffeetumbler/anaconda3/envs/automl/lib/python3.5/site-packages/sklearn/cluster/optics_.py\", line 438, in compute_optics_graph\n",
      "    _validate_size(min_samples, n_samples, 'min_samples')\n",
      "  File \"/home/coffeetumbler/anaconda3/envs/automl/lib/python3.5/site-packages/sklearn/cluster/optics_.py\", line 290, in _validate_size\n",
      "    (param_name, n_samples, size))\n",
      "ValueError: min_samples must be no greater than the number of samples (506). Got 634\n"
     ]
    },
    {
     "name": "stdout",
     "output_type": "stream",
     "text": [
      "Fitting configuration: \n",
      "{'clustering_choice': 'Birch', 'dim_reduction_choice': 'KernelPCA', 'n_components___KernelPCA': 2, 'branching_factor___Birch': 153, 'kernel___KernelPCA': 'linear', 'n_clusters___Birch': 30}\n",
      "Score obtained by this configuration: 0.19891591494336355\n",
      "Fitting configuration: \n",
      "{'clustering_choice': 'Birch', 'dim_reduction_choice': 'KernelPCA', 'n_components___KernelPCA': 2, 'branching_factor___Birch': 577, 'kernel___KernelPCA': 'linear', 'n_clusters___Birch': 66}\n",
      "Score obtained by this configuration: 0.18509145620743742\n",
      "Fitting configuration: \n",
      "{'clustering_choice': 'Birch', 'n_clusters___Birch': 6, 'branching_factor___Birch': 913, 'whiten___IncrementalPCA': True, 'n_components___IncrementalPCA': 3, 'batch_size___IncrementalPCA': 748, 'dim_reduction_choice': 'IncrementalPCA'}\n",
      "Score obtained by this configuration: 0.24488604422579086\n",
      "Fitting configuration: \n",
      "{'clustering_choice': 'MeanShift', 'kernel___KernelPCA': 'poly', 'dim_reduction_choice': 'KernelPCA', 'bandwidth___MeanShift': 46.36396483156826, 'n_components___KernelPCA': 6}\n",
      "Score obtained by this configuration: inf\n"
     ]
    },
    {
     "name": "stderr",
     "output_type": "stream",
     "text": [
      "WARNING:smac.tae.execute_func.ExecuteTAFuncDict:Target Algorithm returned NaN or inf as quality. Algorithm run is treated as CRASHED, cost is set to 2147483647.0 for quality scenarios. (Change value through \"cost_for_crash\"-option.)\n"
     ]
    },
    {
     "name": "stdout",
     "output_type": "stream",
     "text": [
      "Fitting configuration: \n",
      "{'clustering_choice': 'Birch', 'dim_reduction_choice': 'KernelPCA', 'n_components___KernelPCA': 2, 'branching_factor___Birch': 547, 'kernel___KernelPCA': 'linear', 'n_clusters___Birch': 19}\n",
      "Score obtained by this configuration: 0.20558961172614806\n",
      "Optimization is complete.\n",
      "Took 448.97 seconds.\n",
      "The optimal configuration is \n",
      "Configuration:\n",
      "  branching_factor___Birch, Value: 625\n",
      "  clustering_choice, Value: 'Birch'\n",
      "  dim_reduction_choice, Value: 'PCA'\n",
      "  n_clusters___Birch, Value: 62\n",
      "  n_components___PCA, Value: 2\n",
      "  svd_solver___PCA, Value: 'auto'\n",
      "  whiten___PCA, Value: False\n",
      "\n",
      "\n",
      "Model chosen with weights = \n",
      "[0, 3, 7]\n",
      "v_score = \n",
      "0.4349769124224168\n",
      "\n",
      "\n",
      "1410/1797 datapoints remaining after outlier removal\n",
      "Configuration space object:\n",
      "  Hyperparameters:\n",
      "    affinity___AffinityPropagation, Type: Categorical, Choices: {euclidean}, Default: euclidean\n",
      "    affinity___AgglomerativeClustering, Type: Categorical, Choices: {euclidean, cityblock, l2, l1, manhattan, cosine}, Default: euclidean\n",
      "    affinity___SpectralClustering, Type: Categorical, Choices: {nearest_neighbors, poly, sigmoid, laplacian, rbf}, Default: rbf\n",
      "    algorithm___FastICA, Type: Categorical, Choices: {parallel, deflation}, Default: parallel\n",
      "    algorithm___TruncatedSVD, Type: Categorical, Choices: {arpack, randomized}, Default: randomized\n",
      "    assign_labels___SpectralClustering, Type: Categorical, Choices: {kmeans, discretize}, Default: kmeans\n",
      "    bandwidth___MeanShift, Type: UniformFloat, Range: [0.1, 50.0], Default: 25.05\n",
      "    batch_size___IncrementalPCA, Type: UniformInteger, Range: [10, 1000], Default: 100\n",
      "    batch_size___MiniBatchKMeans, Type: UniformInteger, Range: [10, 1000], Default: 100\n",
      "    bin_seeding___MeanShift, Type: Categorical, Choices: {True, False}, Default: False\n",
      "    branching_factor___Birch, Type: UniformInteger, Range: [10, 1000], Default: 50\n",
      "    cluster_method___OPTICS, Type: Categorical, Choices: {xi, dbscan}, Default: xi\n",
      "    clustering_choice, Type: Categorical, Choices: {KMeans, GaussianMixture, Birch, MiniBatchKMeans, AgglomerativeClustering, OPTICS, SpectralClustering, DBSCAN, AffinityPropagation, MeanShift}, Default: KMeans\n",
      "    covariance_type___GaussianMixture, Type: Categorical, Choices: {full, tied, diag, spherical}, Default: full\n",
      "    damping___AffinityPropagation, Type: UniformFloat, Range: [0.5, 1.0], Default: 0.5\n",
      "    dim_reduction_choice, Type: Categorical, Choices: {TSNE, PCA, IncrementalPCA, KernelPCA, FastICA, TruncatedSVD}, Default: TSNE\n",
      "    early_exaggeration___TSNE, Type: UniformFloat, Range: [5.0, 20.0], Default: 12.0\n",
      "    eigen_solver___SpectralClustering, Type: Categorical, Choices: {arpack}, Default: arpack\n",
      "    eps___DBSCAN, Type: UniformFloat, Range: [0.01, 5.0], Default: 0.01\n",
      "    fun___FastICA, Type: Categorical, Choices: {logcosh, exp, cube}, Default: logcosh\n",
      "    init_params___GaussianMixture, Type: Categorical, Choices: {kmeans, random}, Default: kmeans\n",
      "    kernel___KernelPCA, Type: Categorical, Choices: {linear, poly, rbf, sigmoid, cosine}, Default: linear\n",
      "    linkage___AgglomerativeClustering, Type: Categorical, Choices: {ward, complete, average, single}, Default: complete\n",
      "    metric___OPTICS, Type: Categorical, Choices: {minkowski, euclidean, manhattan, l1, l2, cosine}, Default: minkowski\n",
      "    min_samples___DBSCAN, Type: UniformInteger, Range: [5, 100], Default: 5\n",
      "    min_samples___OPTICS, Type: UniformInteger, Range: [5, 1000], Default: 100\n",
      "    n_clusters___AgglomerativeClustering, Type: UniformInteger, Range: [1, 80], Default: 10\n",
      "    n_clusters___Birch, Type: UniformInteger, Range: [1, 80], Default: 5\n",
      "    n_clusters___KMeans, Type: UniformInteger, Range: [1, 80], Default: 5\n",
      "    n_clusters___MiniBatchKMeans, Type: UniformInteger, Range: [1, 80], Default: 10\n",
      "    n_clusters___SpectralClustering, Type: UniformInteger, Range: [1, 80], Default: 10\n",
      "    n_components___FastICA, Type: Ordinal, Sequence: {2, 3}, Default: 2\n",
      "    n_components___GaussianMixture, Type: UniformInteger, Range: [1, 80], Default: 5\n",
      "    n_components___IncrementalPCA, Type: Ordinal, Sequence: {2, 3}, Default: 2\n",
      "    n_components___KernelPCA, Type: Ordinal, Sequence: {2, 3, 4, 5, 6, 7, 8, 9}, Default: 2\n",
      "    n_components___PCA, Type: Ordinal, Sequence: {2, 3}, Default: 2\n",
      "    n_components___TSNE, Type: Ordinal, Sequence: {2}, Default: 2\n",
      "    n_components___TruncatedSVD, Type: Ordinal, Sequence: {2, 3, 4, 5, 6, 7, 8, 9}, Default: 2\n",
      "    perplexity___TSNE, Type: UniformFloat, Range: [1.0, 300.0], Default: 30.0\n",
      "    svd_solver___PCA, Type: Categorical, Choices: {auto, full, arpack, randomized}, Default: auto\n",
      "    warm_start___GaussianMixture, Type: Categorical, Choices: {True, False}, Default: False\n",
      "    whiten___FastICA, Type: Categorical, Choices: {True, False}, Default: True\n",
      "    whiten___IncrementalPCA, Type: Categorical, Choices: {True, False}, Default: False\n",
      "    whiten___PCA, Type: Categorical, Choices: {True, False}, Default: False\n",
      "  Conditions:\n",
      "    affinity___AffinityPropagation | clustering_choice in {'AffinityPropagation'}\n",
      "    affinity___AgglomerativeClustering | clustering_choice in {'AgglomerativeClustering'}\n",
      "    affinity___SpectralClustering | clustering_choice in {'SpectralClustering'}\n",
      "    algorithm___FastICA | dim_reduction_choice in {'FastICA'}\n",
      "    algorithm___TruncatedSVD | dim_reduction_choice in {'TruncatedSVD'}\n",
      "    assign_labels___SpectralClustering | clustering_choice in {'SpectralClustering'}\n",
      "    bandwidth___MeanShift | clustering_choice in {'MeanShift'}\n",
      "    batch_size___IncrementalPCA | dim_reduction_choice in {'IncrementalPCA'}\n",
      "    batch_size___MiniBatchKMeans | clustering_choice in {'MiniBatchKMeans'}\n",
      "    bin_seeding___MeanShift | clustering_choice in {'MeanShift'}\n",
      "    branching_factor___Birch | clustering_choice in {'Birch'}\n",
      "    cluster_method___OPTICS | clustering_choice in {'OPTICS'}\n",
      "    covariance_type___GaussianMixture | clustering_choice in {'GaussianMixture'}\n",
      "    damping___AffinityPropagation | clustering_choice in {'AffinityPropagation'}\n",
      "    early_exaggeration___TSNE | dim_reduction_choice in {'TSNE'}\n",
      "    eigen_solver___SpectralClustering | clustering_choice in {'SpectralClustering'}\n",
      "    eps___DBSCAN | clustering_choice in {'DBSCAN'}\n",
      "    fun___FastICA | dim_reduction_choice in {'FastICA'}\n",
      "    init_params___GaussianMixture | clustering_choice in {'GaussianMixture'}\n",
      "    kernel___KernelPCA | dim_reduction_choice in {'KernelPCA'}\n",
      "    linkage___AgglomerativeClustering | clustering_choice in {'AgglomerativeClustering'}\n",
      "    metric___OPTICS | clustering_choice in {'OPTICS'}\n",
      "    min_samples___DBSCAN | clustering_choice in {'DBSCAN'}\n",
      "    min_samples___OPTICS | clustering_choice in {'OPTICS'}\n",
      "    n_clusters___AgglomerativeClustering | clustering_choice in {'AgglomerativeClustering'}\n",
      "    n_clusters___Birch | clustering_choice in {'Birch'}\n",
      "    n_clusters___KMeans | clustering_choice in {'KMeans'}\n",
      "    n_clusters___MiniBatchKMeans | clustering_choice in {'MiniBatchKMeans'}\n",
      "    n_clusters___SpectralClustering | clustering_choice in {'SpectralClustering'}\n",
      "    n_components___FastICA | dim_reduction_choice in {'FastICA'}\n",
      "    n_components___GaussianMixture | clustering_choice in {'GaussianMixture'}\n",
      "    n_components___IncrementalPCA | dim_reduction_choice in {'IncrementalPCA'}\n",
      "    n_components___KernelPCA | dim_reduction_choice in {'KernelPCA'}\n",
      "    n_components___PCA | dim_reduction_choice in {'PCA'}\n",
      "    n_components___TSNE | dim_reduction_choice in {'TSNE'}\n",
      "    n_components___TruncatedSVD | dim_reduction_choice in {'TruncatedSVD'}\n",
      "    perplexity___TSNE | dim_reduction_choice in {'TSNE'}\n",
      "    svd_solver___PCA | dim_reduction_choice in {'PCA'}\n",
      "    warm_start___GaussianMixture | clustering_choice in {'GaussianMixture'}\n",
      "    whiten___FastICA | dim_reduction_choice in {'FastICA'}\n",
      "    whiten___IncrementalPCA | dim_reduction_choice in {'IncrementalPCA'}\n",
      "    whiten___PCA | dim_reduction_choice in {'PCA'}\n",
      "  Forbidden Clauses:\n",
      "    (Forbidden: linkage___AgglomerativeClustering == 'ward' && Forbidden: affinity___AgglomerativeClustering in {'cityblock', 'cosine', 'l1', 'l2', 'manhattan'})\n",
      "\n"
     ]
    },
    {
     "name": "stderr",
     "output_type": "stream",
     "text": [
      "/home/coffeetumbler/automl_2019/autocluster/utils/metafeatures.py:43: FutureWarning: elementwise comparison failed; returning scalar instead, but in the future will perform elementwise comparison\n",
      "  return (np.count_nonzero(X == '') + np.count_nonzero(X == 0)) / X.size\n",
      "/home/coffeetumbler/automl_2019/autocluster/utils/metafeatures.py:35: FutureWarning: elementwise comparison failed; returning scalar instead, but in the future will perform elementwise comparison\n",
      "  return np.count_nonzero(X == None) + np.count_nonzero(X == '')\n",
      "/home/coffeetumbler/anaconda3/envs/automl/lib/python3.5/site-packages/numpy/lib/function_base.py:2530: RuntimeWarning: invalid value encountered in true_divide\n",
      "  c /= stddev[:, None]\n",
      "/home/coffeetumbler/anaconda3/envs/automl/lib/python3.5/site-packages/numpy/lib/function_base.py:2531: RuntimeWarning: invalid value encountered in true_divide\n",
      "  c /= stddev[None, :]\n"
     ]
    },
    {
     "name": "stdout",
     "output_type": "stream",
     "text": [
      "Found 60 relevant intial configurations from warmstarter.\n",
      "Truncated n_evaluations: 100\n",
      "{'cutoff_time': 20, 'cs': Configuration space object:\n",
      "  Hyperparameters:\n",
      "    affinity___AffinityPropagation, Type: Categorical, Choices: {euclidean}, Default: euclidean\n",
      "    affinity___AgglomerativeClustering, Type: Categorical, Choices: {euclidean, cityblock, l2, l1, manhattan, cosine}, Default: euclidean\n",
      "    affinity___SpectralClustering, Type: Categorical, Choices: {nearest_neighbors, poly, sigmoid, laplacian, rbf}, Default: rbf\n",
      "    algorithm___FastICA, Type: Categorical, Choices: {parallel, deflation}, Default: parallel\n",
      "    algorithm___TruncatedSVD, Type: Categorical, Choices: {arpack, randomized}, Default: randomized\n",
      "    assign_labels___SpectralClustering, Type: Categorical, Choices: {kmeans, discretize}, Default: kmeans\n",
      "    bandwidth___MeanShift, Type: UniformFloat, Range: [0.1, 50.0], Default: 25.05\n",
      "    batch_size___IncrementalPCA, Type: UniformInteger, Range: [10, 1000], Default: 100\n",
      "    batch_size___MiniBatchKMeans, Type: UniformInteger, Range: [10, 1000], Default: 100\n",
      "    bin_seeding___MeanShift, Type: Categorical, Choices: {True, False}, Default: False\n",
      "    branching_factor___Birch, Type: UniformInteger, Range: [10, 1000], Default: 50\n",
      "    cluster_method___OPTICS, Type: Categorical, Choices: {xi, dbscan}, Default: xi\n",
      "    clustering_choice, Type: Categorical, Choices: {KMeans, GaussianMixture, Birch, MiniBatchKMeans, AgglomerativeClustering, OPTICS, SpectralClustering, DBSCAN, AffinityPropagation, MeanShift}, Default: KMeans\n",
      "    covariance_type___GaussianMixture, Type: Categorical, Choices: {full, tied, diag, spherical}, Default: full\n",
      "    damping___AffinityPropagation, Type: UniformFloat, Range: [0.5, 1.0], Default: 0.5\n",
      "    dim_reduction_choice, Type: Categorical, Choices: {TSNE, PCA, IncrementalPCA, KernelPCA, FastICA, TruncatedSVD}, Default: TSNE\n",
      "    early_exaggeration___TSNE, Type: UniformFloat, Range: [5.0, 20.0], Default: 12.0\n",
      "    eigen_solver___SpectralClustering, Type: Categorical, Choices: {arpack}, Default: arpack\n",
      "    eps___DBSCAN, Type: UniformFloat, Range: [0.01, 5.0], Default: 0.01\n",
      "    fun___FastICA, Type: Categorical, Choices: {logcosh, exp, cube}, Default: logcosh\n",
      "    init_params___GaussianMixture, Type: Categorical, Choices: {kmeans, random}, Default: kmeans\n",
      "    kernel___KernelPCA, Type: Categorical, Choices: {linear, poly, rbf, sigmoid, cosine}, Default: linear\n",
      "    linkage___AgglomerativeClustering, Type: Categorical, Choices: {ward, complete, average, single}, Default: complete\n",
      "    metric___OPTICS, Type: Categorical, Choices: {minkowski, euclidean, manhattan, l1, l2, cosine}, Default: minkowski\n",
      "    min_samples___DBSCAN, Type: UniformInteger, Range: [5, 100], Default: 5\n",
      "    min_samples___OPTICS, Type: UniformInteger, Range: [5, 1000], Default: 100\n",
      "    n_clusters___AgglomerativeClustering, Type: UniformInteger, Range: [1, 80], Default: 10\n",
      "    n_clusters___Birch, Type: UniformInteger, Range: [1, 80], Default: 5\n",
      "    n_clusters___KMeans, Type: UniformInteger, Range: [1, 80], Default: 5\n",
      "    n_clusters___MiniBatchKMeans, Type: UniformInteger, Range: [1, 80], Default: 10\n",
      "    n_clusters___SpectralClustering, Type: UniformInteger, Range: [1, 80], Default: 10\n",
      "    n_components___FastICA, Type: Ordinal, Sequence: {2, 3}, Default: 2\n",
      "    n_components___GaussianMixture, Type: UniformInteger, Range: [1, 80], Default: 5\n",
      "    n_components___IncrementalPCA, Type: Ordinal, Sequence: {2, 3}, Default: 2\n",
      "    n_components___KernelPCA, Type: Ordinal, Sequence: {2, 3, 4, 5, 6, 7, 8, 9}, Default: 2\n",
      "    n_components___PCA, Type: Ordinal, Sequence: {2, 3}, Default: 2\n",
      "    n_components___TSNE, Type: Ordinal, Sequence: {2}, Default: 2\n",
      "    n_components___TruncatedSVD, Type: Ordinal, Sequence: {2, 3, 4, 5, 6, 7, 8, 9}, Default: 2\n",
      "    perplexity___TSNE, Type: UniformFloat, Range: [1.0, 300.0], Default: 30.0\n",
      "    svd_solver___PCA, Type: Categorical, Choices: {auto, full, arpack, randomized}, Default: auto\n",
      "    warm_start___GaussianMixture, Type: Categorical, Choices: {True, False}, Default: False\n",
      "    whiten___FastICA, Type: Categorical, Choices: {True, False}, Default: True\n",
      "    whiten___IncrementalPCA, Type: Categorical, Choices: {True, False}, Default: False\n",
      "    whiten___PCA, Type: Categorical, Choices: {True, False}, Default: False\n",
      "  Conditions:\n",
      "    affinity___AffinityPropagation | clustering_choice in {'AffinityPropagation'}\n",
      "    affinity___AgglomerativeClustering | clustering_choice in {'AgglomerativeClustering'}\n",
      "    affinity___SpectralClustering | clustering_choice in {'SpectralClustering'}\n",
      "    algorithm___FastICA | dim_reduction_choice in {'FastICA'}\n",
      "    algorithm___TruncatedSVD | dim_reduction_choice in {'TruncatedSVD'}\n",
      "    assign_labels___SpectralClustering | clustering_choice in {'SpectralClustering'}\n",
      "    bandwidth___MeanShift | clustering_choice in {'MeanShift'}\n",
      "    batch_size___IncrementalPCA | dim_reduction_choice in {'IncrementalPCA'}\n",
      "    batch_size___MiniBatchKMeans | clustering_choice in {'MiniBatchKMeans'}\n",
      "    bin_seeding___MeanShift | clustering_choice in {'MeanShift'}\n",
      "    branching_factor___Birch | clustering_choice in {'Birch'}\n",
      "    cluster_method___OPTICS | clustering_choice in {'OPTICS'}\n",
      "    covariance_type___GaussianMixture | clustering_choice in {'GaussianMixture'}\n",
      "    damping___AffinityPropagation | clustering_choice in {'AffinityPropagation'}\n",
      "    early_exaggeration___TSNE | dim_reduction_choice in {'TSNE'}\n",
      "    eigen_solver___SpectralClustering | clustering_choice in {'SpectralClustering'}\n",
      "    eps___DBSCAN | clustering_choice in {'DBSCAN'}\n",
      "    fun___FastICA | dim_reduction_choice in {'FastICA'}\n",
      "    init_params___GaussianMixture | clustering_choice in {'GaussianMixture'}\n",
      "    kernel___KernelPCA | dim_reduction_choice in {'KernelPCA'}\n",
      "    linkage___AgglomerativeClustering | clustering_choice in {'AgglomerativeClustering'}\n",
      "    metric___OPTICS | clustering_choice in {'OPTICS'}\n",
      "    min_samples___DBSCAN | clustering_choice in {'DBSCAN'}\n",
      "    min_samples___OPTICS | clustering_choice in {'OPTICS'}\n",
      "    n_clusters___AgglomerativeClustering | clustering_choice in {'AgglomerativeClustering'}\n",
      "    n_clusters___Birch | clustering_choice in {'Birch'}\n",
      "    n_clusters___KMeans | clustering_choice in {'KMeans'}\n",
      "    n_clusters___MiniBatchKMeans | clustering_choice in {'MiniBatchKMeans'}\n",
      "    n_clusters___SpectralClustering | clustering_choice in {'SpectralClustering'}\n",
      "    n_components___FastICA | dim_reduction_choice in {'FastICA'}\n",
      "    n_components___GaussianMixture | clustering_choice in {'GaussianMixture'}\n",
      "    n_components___IncrementalPCA | dim_reduction_choice in {'IncrementalPCA'}\n",
      "    n_components___KernelPCA | dim_reduction_choice in {'KernelPCA'}\n",
      "    n_components___PCA | dim_reduction_choice in {'PCA'}\n",
      "    n_components___TSNE | dim_reduction_choice in {'TSNE'}\n",
      "    n_components___TruncatedSVD | dim_reduction_choice in {'TruncatedSVD'}\n",
      "    perplexity___TSNE | dim_reduction_choice in {'TSNE'}\n",
      "    svd_solver___PCA | dim_reduction_choice in {'PCA'}\n",
      "    warm_start___GaussianMixture | clustering_choice in {'GaussianMixture'}\n",
      "    whiten___FastICA | dim_reduction_choice in {'FastICA'}\n",
      "    whiten___IncrementalPCA | dim_reduction_choice in {'IncrementalPCA'}\n",
      "    whiten___PCA | dim_reduction_choice in {'PCA'}\n",
      "  Forbidden Clauses:\n",
      "    (Forbidden: linkage___AgglomerativeClustering == 'ward' && Forbidden: affinity___AgglomerativeClustering in {'cityblock', 'cosine', 'l1', 'l2', 'manhattan'})\n",
      ", 'deterministic': 'true', 'output_dir': 'log//smac-2019-07-29_14-26-28-65481', 'abort_on_first_run_crash': False, 'runcount-limit': 100, 'run_obj': 'quality'}\n"
     ]
    },
    {
     "name": "stderr",
     "output_type": "stream",
     "text": [
      "/home/coffeetumbler/anaconda3/envs/automl/lib/python3.5/site-packages/numpy/lib/function_base.py:2530: RuntimeWarning: invalid value encountered in true_divide\n",
      "  c /= stddev[:, None]\n",
      "/home/coffeetumbler/anaconda3/envs/automl/lib/python3.5/site-packages/numpy/lib/function_base.py:2531: RuntimeWarning: invalid value encountered in true_divide\n",
      "  c /= stddev[None, :]\n"
     ]
    },
    {
     "name": "stdout",
     "output_type": "stream",
     "text": [
      "Fitting configuration: \n",
      "{'clustering_choice': 'KMeans', 'kernel___KernelPCA': 'poly', 'dim_reduction_choice': 'KernelPCA', 'n_clusters___KMeans': 4, 'n_components___KernelPCA': 2}\n",
      "Score obtained by this configuration: inf\n"
     ]
    },
    {
     "name": "stderr",
     "output_type": "stream",
     "text": [
      "WARNING:smac.tae.execute_func.ExecuteTAFuncDict:Target Algorithm returned NaN or inf as quality. Algorithm run is treated as CRASHED, cost is set to 2147483647.0 for quality scenarios. (Change value through \"cost_for_crash\"-option.)\n"
     ]
    },
    {
     "name": "stdout",
     "output_type": "stream",
     "text": [
      "Fitting configuration: \n",
      "{'clustering_choice': 'Birch', 'dim_reduction_choice': 'KernelPCA', 'n_components___KernelPCA': 2, 'branching_factor___Birch': 10, 'kernel___KernelPCA': 'poly', 'n_clusters___Birch': 5}\n"
     ]
    },
    {
     "name": "stderr",
     "output_type": "stream",
     "text": [
      "/home/coffeetumbler/anaconda3/envs/automl/lib/python3.5/site-packages/sklearn/cluster/birch.py:627: ConvergenceWarning: Number of subclusters found (3) by Birch is less than (5). Decrease the threshold.\n",
      "  % (len(centroids), self.n_clusters), ConvergenceWarning)\n",
      "/home/coffeetumbler/anaconda3/envs/automl/lib/python3.5/site-packages/sklearn/cluster/birch.py:627: ConvergenceWarning: Number of subclusters found (1) by Birch is less than (5). Decrease the threshold.\n",
      "  % (len(centroids), self.n_clusters), ConvergenceWarning)\n"
     ]
    },
    {
     "name": "stdout",
     "output_type": "stream",
     "text": [
      "Score obtained by this configuration: inf\n"
     ]
    },
    {
     "name": "stderr",
     "output_type": "stream",
     "text": [
      "WARNING:smac.tae.execute_func.ExecuteTAFuncDict:Target Algorithm returned NaN or inf as quality. Algorithm run is treated as CRASHED, cost is set to 2147483647.0 for quality scenarios. (Change value through \"cost_for_crash\"-option.)\n"
     ]
    },
    {
     "name": "stdout",
     "output_type": "stream",
     "text": [
      "Fitting configuration: \n",
      "{'clustering_choice': 'Birch', 'dim_reduction_choice': 'KernelPCA', 'n_components___KernelPCA': 2, 'branching_factor___Birch': 32, 'kernel___KernelPCA': 'poly', 'n_clusters___Birch': 5}\n"
     ]
    },
    {
     "name": "stderr",
     "output_type": "stream",
     "text": [
      "/home/coffeetumbler/anaconda3/envs/automl/lib/python3.5/site-packages/sklearn/cluster/birch.py:627: ConvergenceWarning: Number of subclusters found (3) by Birch is less than (5). Decrease the threshold.\n",
      "  % (len(centroids), self.n_clusters), ConvergenceWarning)\n",
      "/home/coffeetumbler/anaconda3/envs/automl/lib/python3.5/site-packages/sklearn/cluster/birch.py:627: ConvergenceWarning: Number of subclusters found (1) by Birch is less than (5). Decrease the threshold.\n",
      "  % (len(centroids), self.n_clusters), ConvergenceWarning)\n"
     ]
    },
    {
     "name": "stdout",
     "output_type": "stream",
     "text": [
      "Score obtained by this configuration: inf\n"
     ]
    },
    {
     "name": "stderr",
     "output_type": "stream",
     "text": [
      "WARNING:smac.tae.execute_func.ExecuteTAFuncDict:Target Algorithm returned NaN or inf as quality. Algorithm run is treated as CRASHED, cost is set to 2147483647.0 for quality scenarios. (Change value through \"cost_for_crash\"-option.)\n"
     ]
    },
    {
     "name": "stdout",
     "output_type": "stream",
     "text": [
      "Fitting configuration: \n",
      "{'clustering_choice': 'Birch', 'dim_reduction_choice': 'KernelPCA', 'n_components___KernelPCA': 2, 'branching_factor___Birch': 64, 'kernel___KernelPCA': 'poly', 'n_clusters___Birch': 5}\n"
     ]
    },
    {
     "name": "stderr",
     "output_type": "stream",
     "text": [
      "/home/coffeetumbler/anaconda3/envs/automl/lib/python3.5/site-packages/sklearn/cluster/birch.py:627: ConvergenceWarning: Number of subclusters found (3) by Birch is less than (5). Decrease the threshold.\n",
      "  % (len(centroids), self.n_clusters), ConvergenceWarning)\n",
      "/home/coffeetumbler/anaconda3/envs/automl/lib/python3.5/site-packages/sklearn/cluster/birch.py:627: ConvergenceWarning: Number of subclusters found (1) by Birch is less than (5). Decrease the threshold.\n",
      "  % (len(centroids), self.n_clusters), ConvergenceWarning)\n"
     ]
    },
    {
     "name": "stdout",
     "output_type": "stream",
     "text": [
      "Score obtained by this configuration: inf\n"
     ]
    },
    {
     "name": "stderr",
     "output_type": "stream",
     "text": [
      "WARNING:smac.tae.execute_func.ExecuteTAFuncDict:Target Algorithm returned NaN or inf as quality. Algorithm run is treated as CRASHED, cost is set to 2147483647.0 for quality scenarios. (Change value through \"cost_for_crash\"-option.)\n"
     ]
    },
    {
     "name": "stdout",
     "output_type": "stream",
     "text": [
      "Fitting configuration: \n",
      "{'clustering_choice': 'Birch', 'dim_reduction_choice': 'KernelPCA', 'n_components___KernelPCA': 2, 'branching_factor___Birch': 10, 'kernel___KernelPCA': 'poly', 'n_clusters___Birch': 6}\n"
     ]
    },
    {
     "name": "stderr",
     "output_type": "stream",
     "text": [
      "/home/coffeetumbler/anaconda3/envs/automl/lib/python3.5/site-packages/sklearn/cluster/birch.py:627: ConvergenceWarning: Number of subclusters found (3) by Birch is less than (6). Decrease the threshold.\n",
      "  % (len(centroids), self.n_clusters), ConvergenceWarning)\n",
      "/home/coffeetumbler/anaconda3/envs/automl/lib/python3.5/site-packages/sklearn/cluster/birch.py:627: ConvergenceWarning: Number of subclusters found (1) by Birch is less than (6). Decrease the threshold.\n",
      "  % (len(centroids), self.n_clusters), ConvergenceWarning)\n"
     ]
    },
    {
     "name": "stdout",
     "output_type": "stream",
     "text": [
      "Score obtained by this configuration: inf\n"
     ]
    },
    {
     "name": "stderr",
     "output_type": "stream",
     "text": [
      "WARNING:smac.tae.execute_func.ExecuteTAFuncDict:Target Algorithm returned NaN or inf as quality. Algorithm run is treated as CRASHED, cost is set to 2147483647.0 for quality scenarios. (Change value through \"cost_for_crash\"-option.)\n"
     ]
    },
    {
     "name": "stdout",
     "output_type": "stream",
     "text": [
      "Fitting configuration: \n",
      "{'clustering_choice': 'SpectralClustering', 'affinity___SpectralClustering': 'laplacian', 'dim_reduction_choice': 'KernelPCA', 'n_components___KernelPCA': 2, 'assign_labels___SpectralClustering': 'kmeans', 'n_clusters___SpectralClustering': 9, 'kernel___KernelPCA': 'poly', 'eigen_solver___SpectralClustering': 'arpack'}\n"
     ]
    },
    {
     "name": "stderr",
     "output_type": "stream",
     "text": [
      "/home/coffeetumbler/anaconda3/envs/automl/lib/python3.5/site-packages/sklearn/cluster/spectral.py:268: ConvergenceWarning: Number of distinct clusters (7) found smaller than n_clusters (9). Possibly due to duplicate points in X.\n",
      "  n_init=n_init)\n",
      "/home/coffeetumbler/anaconda3/envs/automl/lib/python3.5/site-packages/sklearn/cluster/spectral.py:268: ConvergenceWarning: Number of distinct clusters (7) found smaller than n_clusters (9). Possibly due to duplicate points in X.\n",
      "  n_init=n_init)\n"
     ]
    },
    {
     "name": "stdout",
     "output_type": "stream",
     "text": [
      "Score obtained by this configuration: inf\n"
     ]
    },
    {
     "name": "stderr",
     "output_type": "stream",
     "text": [
      "WARNING:smac.tae.execute_func.ExecuteTAFuncDict:Target Algorithm returned NaN or inf as quality. Algorithm run is treated as CRASHED, cost is set to 2147483647.0 for quality scenarios. (Change value through \"cost_for_crash\"-option.)\n"
     ]
    },
    {
     "name": "stdout",
     "output_type": "stream",
     "text": [
      "Fitting configuration: \n",
      "{'clustering_choice': 'SpectralClustering', 'affinity___SpectralClustering': 'laplacian', 'dim_reduction_choice': 'KernelPCA', 'n_components___KernelPCA': 2, 'assign_labels___SpectralClustering': 'kmeans', 'n_clusters___SpectralClustering': 11, 'kernel___KernelPCA': 'poly', 'eigen_solver___SpectralClustering': 'arpack'}\n"
     ]
    },
    {
     "name": "stderr",
     "output_type": "stream",
     "text": [
      "/home/coffeetumbler/anaconda3/envs/automl/lib/python3.5/site-packages/sklearn/cluster/spectral.py:268: ConvergenceWarning: Number of distinct clusters (9) found smaller than n_clusters (11). Possibly due to duplicate points in X.\n",
      "  n_init=n_init)\n",
      "/home/coffeetumbler/anaconda3/envs/automl/lib/python3.5/site-packages/sklearn/cluster/spectral.py:268: ConvergenceWarning: Number of distinct clusters (9) found smaller than n_clusters (11). Possibly due to duplicate points in X.\n",
      "  n_init=n_init)\n"
     ]
    },
    {
     "name": "stdout",
     "output_type": "stream",
     "text": [
      "Score obtained by this configuration: inf\n"
     ]
    },
    {
     "name": "stderr",
     "output_type": "stream",
     "text": [
      "WARNING:smac.tae.execute_func.ExecuteTAFuncDict:Target Algorithm returned NaN or inf as quality. Algorithm run is treated as CRASHED, cost is set to 2147483647.0 for quality scenarios. (Change value through \"cost_for_crash\"-option.)\n"
     ]
    },
    {
     "name": "stdout",
     "output_type": "stream",
     "text": [
      "Fitting configuration: \n",
      "{'clustering_choice': 'SpectralClustering', 'affinity___SpectralClustering': 'laplacian', 'dim_reduction_choice': 'KernelPCA', 'n_components___KernelPCA': 2, 'assign_labels___SpectralClustering': 'discretize', 'n_clusters___SpectralClustering': 13, 'kernel___KernelPCA': 'poly', 'eigen_solver___SpectralClustering': 'arpack'}\n",
      "Score obtained by this configuration: 0.27574158811862803\n",
      "Fitting configuration: \n",
      "{'clustering_choice': 'OPTICS', 'dim_reduction_choice': 'KernelPCA', 'metric___OPTICS': 'l1', 'min_samples___OPTICS': 787, 'cluster_method___OPTICS': 'dbscan', 'kernel___KernelPCA': 'poly', 'n_components___KernelPCA': 4}\n"
     ]
    },
    {
     "name": "stderr",
     "output_type": "stream",
     "text": [
      "Process pynisher function call:\n",
      "Traceback (most recent call last):\n",
      "  File \"/home/coffeetumbler/anaconda3/envs/automl/lib/python3.5/multiprocessing/process.py\", line 252, in _bootstrap\n",
      "    self.run()\n",
      "  File \"/home/coffeetumbler/anaconda3/envs/automl/lib/python3.5/multiprocessing/process.py\", line 93, in run\n",
      "    self._target(*self._args, **self._kwargs)\n",
      "  File \"/home/coffeetumbler/anaconda3/envs/automl/lib/python3.5/site-packages/pynisher/limit_function_call.py\", line 93, in subprocess_func\n",
      "    return_value = ((func(*args, **kwargs), 0))\n",
      "  File \"/home/coffeetumbler/automl_2019/autocluster/autocluster.py\", line 249, in evaluate_model\n",
      "    y_pred = clustering_model.fit_predict(compressed_valid_data)\n",
      "  File \"/home/coffeetumbler/anaconda3/envs/automl/lib/python3.5/site-packages/sklearn/base.py\", line 447, in fit_predict\n",
      "    self.fit(X)\n",
      "  File \"/home/coffeetumbler/anaconda3/envs/automl/lib/python3.5/site-packages/sklearn/cluster/optics_.py\", line 248, in fit\n",
      "    max_eps=self.max_eps)\n",
      "  File \"/home/coffeetumbler/anaconda3/envs/automl/lib/python3.5/site-packages/sklearn/cluster/optics_.py\", line 438, in compute_optics_graph\n",
      "    _validate_size(min_samples, n_samples, 'min_samples')\n",
      "  File \"/home/coffeetumbler/anaconda3/envs/automl/lib/python3.5/site-packages/sklearn/cluster/optics_.py\", line 290, in _validate_size\n",
      "    (param_name, n_samples, size))\n",
      "ValueError: min_samples must be no greater than the number of samples (470). Got 787\n"
     ]
    },
    {
     "name": "stdout",
     "output_type": "stream",
     "text": [
      "Fitting configuration: \n",
      "{'clustering_choice': 'SpectralClustering', 'affinity___SpectralClustering': 'laplacian', 'dim_reduction_choice': 'KernelPCA', 'n_components___KernelPCA': 7, 'assign_labels___SpectralClustering': 'kmeans', 'n_clusters___SpectralClustering': 10, 'kernel___KernelPCA': 'poly', 'eigen_solver___SpectralClustering': 'arpack'}\n"
     ]
    },
    {
     "name": "stderr",
     "output_type": "stream",
     "text": [
      "/home/coffeetumbler/anaconda3/envs/automl/lib/python3.5/site-packages/sklearn/cluster/spectral.py:268: ConvergenceWarning: Number of distinct clusters (6) found smaller than n_clusters (10). Possibly due to duplicate points in X.\n",
      "  n_init=n_init)\n"
     ]
    },
    {
     "name": "stdout",
     "output_type": "stream",
     "text": [
      "Score obtained by this configuration: inf\n"
     ]
    },
    {
     "name": "stderr",
     "output_type": "stream",
     "text": [
      "WARNING:smac.tae.execute_func.ExecuteTAFuncDict:Target Algorithm returned NaN or inf as quality. Algorithm run is treated as CRASHED, cost is set to 2147483647.0 for quality scenarios. (Change value through \"cost_for_crash\"-option.)\n"
     ]
    },
    {
     "name": "stdout",
     "output_type": "stream",
     "text": [
      "Fitting configuration: \n",
      "{'clustering_choice': 'Birch', 'dim_reduction_choice': 'KernelPCA', 'n_components___KernelPCA': 5, 'branching_factor___Birch': 83, 'kernel___KernelPCA': 'poly', 'n_clusters___Birch': 9}\n"
     ]
    },
    {
     "name": "stderr",
     "output_type": "stream",
     "text": [
      "/home/coffeetumbler/anaconda3/envs/automl/lib/python3.5/site-packages/sklearn/cluster/birch.py:627: ConvergenceWarning: Number of subclusters found (5) by Birch is less than (9). Decrease the threshold.\n",
      "  % (len(centroids), self.n_clusters), ConvergenceWarning)\n"
     ]
    },
    {
     "name": "stdout",
     "output_type": "stream",
     "text": [
      "Score obtained by this configuration: inf\n"
     ]
    },
    {
     "name": "stderr",
     "output_type": "stream",
     "text": [
      "WARNING:smac.tae.execute_func.ExecuteTAFuncDict:Target Algorithm returned NaN or inf as quality. Algorithm run is treated as CRASHED, cost is set to 2147483647.0 for quality scenarios. (Change value through \"cost_for_crash\"-option.)\n"
     ]
    },
    {
     "name": "stdout",
     "output_type": "stream",
     "text": [
      "Fitting configuration: \n",
      "{'clustering_choice': 'AgglomerativeClustering', 'dim_reduction_choice': 'KernelPCA', 'affinity___AgglomerativeClustering': 'l2', 'kernel___KernelPCA': 'poly', 'linkage___AgglomerativeClustering': 'average', 'n_clusters___AgglomerativeClustering': 15, 'n_components___KernelPCA': 8}\n",
      "Score obtained by this configuration: inf\n"
     ]
    },
    {
     "name": "stderr",
     "output_type": "stream",
     "text": [
      "WARNING:smac.tae.execute_func.ExecuteTAFuncDict:Target Algorithm returned NaN or inf as quality. Algorithm run is treated as CRASHED, cost is set to 2147483647.0 for quality scenarios. (Change value through \"cost_for_crash\"-option.)\n"
     ]
    },
    {
     "name": "stdout",
     "output_type": "stream",
     "text": [
      "Fitting configuration: \n",
      "{'clustering_choice': 'KMeans', 'kernel___KernelPCA': 'poly', 'dim_reduction_choice': 'KernelPCA', 'n_clusters___KMeans': 15, 'n_components___KernelPCA': 2}\n",
      "Score obtained by this configuration: inf\n"
     ]
    },
    {
     "name": "stderr",
     "output_type": "stream",
     "text": [
      "WARNING:smac.tae.execute_func.ExecuteTAFuncDict:Target Algorithm returned NaN or inf as quality. Algorithm run is treated as CRASHED, cost is set to 2147483647.0 for quality scenarios. (Change value through \"cost_for_crash\"-option.)\n"
     ]
    },
    {
     "name": "stdout",
     "output_type": "stream",
     "text": [
      "Fitting configuration: \n",
      "{'clustering_choice': 'Birch', 'dim_reduction_choice': 'PCA', 'branching_factor___Birch': 50, 'svd_solver___PCA': 'auto', 'n_clusters___Birch': 3, 'n_components___PCA': 2}\n",
      "Score obtained by this configuration: 0.27443892807832304\n",
      "Fitting configuration: \n",
      "{'clustering_choice': 'MiniBatchKMeans', 'n_components___TSNE': 2, 'dim_reduction_choice': 'TSNE', 'early_exaggeration___TSNE': 6.112145599966696, 'batch_size___MiniBatchKMeans': 773, 'perplexity___TSNE': 250.7576475481927, 'n_clusters___MiniBatchKMeans': 10}\n",
      "Fitting configuration: \n",
      "{'clustering_choice': 'SpectralClustering', 'affinity___SpectralClustering': 'rbf', 'dim_reduction_choice': 'TSNE', 'early_exaggeration___TSNE': 12.86122333165967, 'n_clusters___SpectralClustering': 3, 'assign_labels___SpectralClustering': 'kmeans', 'perplexity___TSNE': 237.68038043104409, 'eigen_solver___SpectralClustering': 'arpack', 'n_components___TSNE': 2}\n",
      "Fitting configuration: \n",
      "{'clustering_choice': 'MiniBatchKMeans', 'n_components___TSNE': 2, 'dim_reduction_choice': 'TSNE', 'early_exaggeration___TSNE': 5.92345241675155, 'batch_size___MiniBatchKMeans': 891, 'perplexity___TSNE': 234.05607785844984, 'n_clusters___MiniBatchKMeans': 20}\n",
      "Fitting configuration: \n",
      "{'clustering_choice': 'KMeans', 'fun___FastICA': 'cube', 'dim_reduction_choice': 'FastICA', 'whiten___FastICA': True, 'n_components___FastICA': 2, 'n_clusters___KMeans': 3, 'algorithm___FastICA': 'parallel'}\n",
      "Score obtained by this configuration: 0.25358402637907423\n",
      "Fitting configuration: \n",
      "{'clustering_choice': 'DBSCAN', 'dim_reduction_choice': 'TruncatedSVD', 'algorithm___TruncatedSVD': 'randomized', 'eps___DBSCAN': 3.3348244742189315, 'n_components___TruncatedSVD': 3, 'min_samples___DBSCAN': 74}\n",
      "Score obtained by this configuration: 0.3864022200572656\n",
      "Fitting configuration: \n",
      "{'clustering_choice': 'OPTICS', 'dim_reduction_choice': 'KernelPCA', 'metric___OPTICS': 'minkowski', 'min_samples___OPTICS': 788, 'cluster_method___OPTICS': 'xi', 'kernel___KernelPCA': 'poly', 'n_components___KernelPCA': 7}\n"
     ]
    },
    {
     "name": "stderr",
     "output_type": "stream",
     "text": [
      "Process pynisher function call:\n",
      "Traceback (most recent call last):\n",
      "  File \"/home/coffeetumbler/anaconda3/envs/automl/lib/python3.5/multiprocessing/process.py\", line 252, in _bootstrap\n",
      "    self.run()\n",
      "  File \"/home/coffeetumbler/anaconda3/envs/automl/lib/python3.5/multiprocessing/process.py\", line 93, in run\n",
      "    self._target(*self._args, **self._kwargs)\n",
      "  File \"/home/coffeetumbler/anaconda3/envs/automl/lib/python3.5/site-packages/pynisher/limit_function_call.py\", line 93, in subprocess_func\n",
      "    return_value = ((func(*args, **kwargs), 0))\n",
      "  File \"/home/coffeetumbler/automl_2019/autocluster/autocluster.py\", line 249, in evaluate_model\n",
      "    y_pred = clustering_model.fit_predict(compressed_valid_data)\n",
      "  File \"/home/coffeetumbler/anaconda3/envs/automl/lib/python3.5/site-packages/sklearn/base.py\", line 447, in fit_predict\n",
      "    self.fit(X)\n",
      "  File \"/home/coffeetumbler/anaconda3/envs/automl/lib/python3.5/site-packages/sklearn/cluster/optics_.py\", line 248, in fit\n",
      "    max_eps=self.max_eps)\n",
      "  File \"/home/coffeetumbler/anaconda3/envs/automl/lib/python3.5/site-packages/sklearn/cluster/optics_.py\", line 438, in compute_optics_graph\n",
      "    _validate_size(min_samples, n_samples, 'min_samples')\n",
      "  File \"/home/coffeetumbler/anaconda3/envs/automl/lib/python3.5/site-packages/sklearn/cluster/optics_.py\", line 290, in _validate_size\n",
      "    (param_name, n_samples, size))\n",
      "ValueError: min_samples must be no greater than the number of samples (470). Got 788\n"
     ]
    },
    {
     "name": "stdout",
     "output_type": "stream",
     "text": [
      "Fitting configuration: \n",
      "{'clustering_choice': 'KMeans', 'kernel___KernelPCA': 'cosine', 'dim_reduction_choice': 'KernelPCA', 'n_clusters___KMeans': 29, 'n_components___KernelPCA': 3}\n",
      "Score obtained by this configuration: 0.30722561762815853\n",
      "Fitting configuration: \n",
      "{'clustering_choice': 'AffinityPropagation', 'dim_reduction_choice': 'KernelPCA', 'damping___AffinityPropagation': 0.8279287395007919, 'n_components___KernelPCA': 3, 'kernel___KernelPCA': 'cosine', 'affinity___AffinityPropagation': 'euclidean'}\n",
      "Score obtained by this configuration: 0.30518029229692173\n",
      "Fitting configuration: \n",
      "{'clustering_choice': 'MiniBatchKMeans', 'dim_reduction_choice': 'KernelPCA', 'n_components___KernelPCA': 2, 'batch_size___MiniBatchKMeans': 668, 'kernel___KernelPCA': 'cosine', 'n_clusters___MiniBatchKMeans': 9}\n",
      "Score obtained by this configuration: 0.2700995716286493\n",
      "Fitting configuration: \n",
      "{'clustering_choice': 'MiniBatchKMeans', 'dim_reduction_choice': 'KernelPCA', 'n_components___KernelPCA': 3, 'batch_size___MiniBatchKMeans': 362, 'kernel___KernelPCA': 'cosine', 'n_clusters___MiniBatchKMeans': 29}\n",
      "Score obtained by this configuration: 0.31334050415546905\n",
      "Fitting configuration: \n",
      "{'clustering_choice': 'MiniBatchKMeans', 'dim_reduction_choice': 'KernelPCA', 'n_components___KernelPCA': 3, 'batch_size___MiniBatchKMeans': 190, 'kernel___KernelPCA': 'cosine', 'n_clusters___MiniBatchKMeans': 22}\n",
      "Score obtained by this configuration: 0.3133200412262047\n",
      "Fitting configuration: \n",
      "{'clustering_choice': 'GaussianMixture', 'covariance_type___GaussianMixture': 'tied', 'dim_reduction_choice': 'KernelPCA', 'n_components___KernelPCA': 3, 'init_params___GaussianMixture': 'kmeans', 'kernel___KernelPCA': 'cosine', 'n_components___GaussianMixture': 8}\n",
      "Score obtained by this configuration: 0.29668011854660553\n",
      "Fitting configuration: \n",
      "{'clustering_choice': 'MiniBatchKMeans', 'dim_reduction_choice': 'KernelPCA', 'n_components___KernelPCA': 7, 'batch_size___MiniBatchKMeans': 154, 'kernel___KernelPCA': 'cosine', 'n_clusters___MiniBatchKMeans': 9}\n",
      "Score obtained by this configuration: 0.3517763484672843\n",
      "Fitting configuration: \n",
      "{'clustering_choice': 'SpectralClustering', 'affinity___SpectralClustering': 'poly', 'dim_reduction_choice': 'KernelPCA', 'n_components___KernelPCA': 2, 'assign_labels___SpectralClustering': 'kmeans', 'n_clusters___SpectralClustering': 10, 'kernel___KernelPCA': 'cosine', 'eigen_solver___SpectralClustering': 'arpack'}\n",
      "Score obtained by this configuration: 0.267614839655109\n",
      "Fitting configuration: \n",
      "{'clustering_choice': 'KMeans', 'kernel___KernelPCA': 'cosine', 'dim_reduction_choice': 'KernelPCA', 'n_clusters___KMeans': 12, 'n_components___KernelPCA': 2}\n",
      "Score obtained by this configuration: 0.2672685270159795\n",
      "Fitting configuration: \n",
      "{'clustering_choice': 'GaussianMixture', 'covariance_type___GaussianMixture': 'diag', 'dim_reduction_choice': 'TruncatedSVD', 'n_components___GaussianMixture': 9, 'init_params___GaussianMixture': 'kmeans', 'algorithm___TruncatedSVD': 'arpack', 'n_components___TruncatedSVD': 5}\n",
      "Score obtained by this configuration: 0.33701603685015485\n",
      "Fitting configuration: \n",
      "{'clustering_choice': 'MiniBatchKMeans', 'dim_reduction_choice': 'KernelPCA', 'n_components___KernelPCA': 3, 'batch_size___MiniBatchKMeans': 144, 'kernel___KernelPCA': 'cosine', 'n_clusters___MiniBatchKMeans': 11}\n",
      "Score obtained by this configuration: 0.30583846382776\n",
      "Fitting configuration: \n",
      "{'clustering_choice': 'MiniBatchKMeans', 'dim_reduction_choice': 'KernelPCA', 'n_components___KernelPCA': 3, 'batch_size___MiniBatchKMeans': 182, 'kernel___KernelPCA': 'cosine', 'n_clusters___MiniBatchKMeans': 23}\n",
      "Score obtained by this configuration: 0.310612712239297\n",
      "Fitting configuration: \n",
      "{'clustering_choice': 'GaussianMixture', 'covariance_type___GaussianMixture': 'tied', 'dim_reduction_choice': 'KernelPCA', 'n_components___KernelPCA': 3, 'init_params___GaussianMixture': 'kmeans', 'kernel___KernelPCA': 'cosine', 'n_components___GaussianMixture': 5}\n",
      "Score obtained by this configuration: 0.31736046382329003\n",
      "Fitting configuration: \n",
      "{'clustering_choice': 'SpectralClustering', 'affinity___SpectralClustering': 'poly', 'dim_reduction_choice': 'IncrementalPCA', 'n_clusters___SpectralClustering': 1, 'assign_labels___SpectralClustering': 'kmeans', 'n_components___IncrementalPCA': 3, 'whiten___IncrementalPCA': True, 'eigen_solver___SpectralClustering': 'arpack', 'batch_size___IncrementalPCA': 780}\n",
      "Score obtained by this configuration: inf\n"
     ]
    },
    {
     "name": "stderr",
     "output_type": "stream",
     "text": [
      "WARNING:smac.tae.execute_func.ExecuteTAFuncDict:Target Algorithm returned NaN or inf as quality. Algorithm run is treated as CRASHED, cost is set to 2147483647.0 for quality scenarios. (Change value through \"cost_for_crash\"-option.)\n"
     ]
    },
    {
     "name": "stdout",
     "output_type": "stream",
     "text": [
      "Fitting configuration: \n",
      "{'clustering_choice': 'GaussianMixture', 'covariance_type___GaussianMixture': 'diag', 'dim_reduction_choice': 'KernelPCA', 'n_components___KernelPCA': 3, 'init_params___GaussianMixture': 'kmeans', 'kernel___KernelPCA': 'cosine', 'n_components___GaussianMixture': 4}\n",
      "Score obtained by this configuration: 0.3140853288874878\n",
      "Fitting configuration: \n",
      "{'clustering_choice': 'AgglomerativeClustering', 'dim_reduction_choice': 'KernelPCA', 'affinity___AgglomerativeClustering': 'euclidean', 'kernel___KernelPCA': 'cosine', 'linkage___AgglomerativeClustering': 'ward', 'n_clusters___AgglomerativeClustering': 28, 'n_components___KernelPCA': 3}\n",
      "Score obtained by this configuration: 0.3091792505710593\n",
      "Fitting configuration: \n",
      "{'clustering_choice': 'GaussianMixture', 'covariance_type___GaussianMixture': 'diag', 'dim_reduction_choice': 'TruncatedSVD', 'n_components___GaussianMixture': 6, 'init_params___GaussianMixture': 'random', 'algorithm___TruncatedSVD': 'randomized', 'warm_start___GaussianMixture': True, 'n_components___TruncatedSVD': 8}\n",
      "Score obtained by this configuration: 0.3744823171409059\n",
      "Fitting configuration: \n",
      "{'clustering_choice': 'Birch', 'dim_reduction_choice': 'KernelPCA', 'n_components___KernelPCA': 2, 'branching_factor___Birch': 385, 'kernel___KernelPCA': 'cosine', 'n_clusters___Birch': 12}\n"
     ]
    },
    {
     "name": "stderr",
     "output_type": "stream",
     "text": [
      "/home/coffeetumbler/anaconda3/envs/automl/lib/python3.5/site-packages/sklearn/cluster/birch.py:627: ConvergenceWarning: Number of subclusters found (2) by Birch is less than (12). Decrease the threshold.\n",
      "  % (len(centroids), self.n_clusters), ConvergenceWarning)\n",
      "/home/coffeetumbler/anaconda3/envs/automl/lib/python3.5/site-packages/sklearn/cluster/birch.py:627: ConvergenceWarning: Number of subclusters found (2) by Birch is less than (12). Decrease the threshold.\n",
      "  % (len(centroids), self.n_clusters), ConvergenceWarning)\n",
      "/home/coffeetumbler/anaconda3/envs/automl/lib/python3.5/site-packages/sklearn/cluster/birch.py:627: ConvergenceWarning: Number of subclusters found (2) by Birch is less than (12). Decrease the threshold.\n",
      "  % (len(centroids), self.n_clusters), ConvergenceWarning)\n",
      "/home/coffeetumbler/anaconda3/envs/automl/lib/python3.5/site-packages/sklearn/cluster/birch.py:627: ConvergenceWarning: Number of subclusters found (4) by Birch is less than (12). Decrease the threshold.\n",
      "  % (len(centroids), self.n_clusters), ConvergenceWarning)\n",
      "/home/coffeetumbler/anaconda3/envs/automl/lib/python3.5/site-packages/sklearn/cluster/birch.py:627: ConvergenceWarning: Number of subclusters found (2) by Birch is less than (12). Decrease the threshold.\n",
      "  % (len(centroids), self.n_clusters), ConvergenceWarning)\n",
      "/home/coffeetumbler/anaconda3/envs/automl/lib/python3.5/site-packages/sklearn/cluster/birch.py:627: ConvergenceWarning: Number of subclusters found (2) by Birch is less than (12). Decrease the threshold.\n",
      "  % (len(centroids), self.n_clusters), ConvergenceWarning)\n"
     ]
    },
    {
     "name": "stdout",
     "output_type": "stream",
     "text": [
      "Score obtained by this configuration: 0.3199299756412363\n",
      "Fitting configuration: \n",
      "{'clustering_choice': 'MiniBatchKMeans', 'dim_reduction_choice': 'PCA', 'batch_size___MiniBatchKMeans': 191, 'svd_solver___PCA': 'arpack', 'n_clusters___MiniBatchKMeans': 6, 'n_components___PCA': 3}\n",
      "Score obtained by this configuration: 0.2944515587761489\n",
      "Fitting configuration: \n",
      "{'clustering_choice': 'DBSCAN', 'dim_reduction_choice': 'KernelPCA', 'n_components___KernelPCA': 2, 'kernel___KernelPCA': 'poly', 'eps___DBSCAN': 0.33357409867392923, 'min_samples___DBSCAN': 85}\n",
      "Score obtained by this configuration: inf\n"
     ]
    },
    {
     "name": "stderr",
     "output_type": "stream",
     "text": [
      "WARNING:smac.tae.execute_func.ExecuteTAFuncDict:Target Algorithm returned NaN or inf as quality. Algorithm run is treated as CRASHED, cost is set to 2147483647.0 for quality scenarios. (Change value through \"cost_for_crash\"-option.)\n"
     ]
    },
    {
     "name": "stdout",
     "output_type": "stream",
     "text": [
      "Fitting configuration: \n",
      "{'clustering_choice': 'DBSCAN', 'dim_reduction_choice': 'KernelPCA', 'n_components___KernelPCA': 3, 'kernel___KernelPCA': 'poly', 'eps___DBSCAN': 0.4911184393167958, 'min_samples___DBSCAN': 30}\n",
      "Score obtained by this configuration: inf\n"
     ]
    },
    {
     "name": "stderr",
     "output_type": "stream",
     "text": [
      "WARNING:smac.tae.execute_func.ExecuteTAFuncDict:Target Algorithm returned NaN or inf as quality. Algorithm run is treated as CRASHED, cost is set to 2147483647.0 for quality scenarios. (Change value through \"cost_for_crash\"-option.)\n"
     ]
    },
    {
     "name": "stdout",
     "output_type": "stream",
     "text": [
      "Fitting configuration: \n",
      "{'clustering_choice': 'DBSCAN', 'dim_reduction_choice': 'KernelPCA', 'n_components___KernelPCA': 3, 'kernel___KernelPCA': 'poly', 'eps___DBSCAN': 0.46609068939941084, 'min_samples___DBSCAN': 8}\n",
      "Score obtained by this configuration: inf\n"
     ]
    },
    {
     "name": "stderr",
     "output_type": "stream",
     "text": [
      "WARNING:smac.tae.execute_func.ExecuteTAFuncDict:Target Algorithm returned NaN or inf as quality. Algorithm run is treated as CRASHED, cost is set to 2147483647.0 for quality scenarios. (Change value through \"cost_for_crash\"-option.)\n"
     ]
    },
    {
     "name": "stdout",
     "output_type": "stream",
     "text": [
      "Fitting configuration: \n",
      "{'clustering_choice': 'DBSCAN', 'dim_reduction_choice': 'KernelPCA', 'n_components___KernelPCA': 3, 'kernel___KernelPCA': 'poly', 'eps___DBSCAN': 0.42763622817394803, 'min_samples___DBSCAN': 13}\n",
      "Score obtained by this configuration: inf\n"
     ]
    },
    {
     "name": "stderr",
     "output_type": "stream",
     "text": [
      "WARNING:smac.tae.execute_func.ExecuteTAFuncDict:Target Algorithm returned NaN or inf as quality. Algorithm run is treated as CRASHED, cost is set to 2147483647.0 for quality scenarios. (Change value through \"cost_for_crash\"-option.)\n"
     ]
    },
    {
     "name": "stdout",
     "output_type": "stream",
     "text": [
      "Fitting configuration: \n",
      "{'clustering_choice': 'DBSCAN', 'dim_reduction_choice': 'KernelPCA', 'n_components___KernelPCA': 3, 'kernel___KernelPCA': 'poly', 'eps___DBSCAN': 0.3597676486445218, 'min_samples___DBSCAN': 10}\n",
      "Score obtained by this configuration: inf\n"
     ]
    },
    {
     "name": "stderr",
     "output_type": "stream",
     "text": [
      "WARNING:smac.tae.execute_func.ExecuteTAFuncDict:Target Algorithm returned NaN or inf as quality. Algorithm run is treated as CRASHED, cost is set to 2147483647.0 for quality scenarios. (Change value through \"cost_for_crash\"-option.)\n"
     ]
    },
    {
     "name": "stdout",
     "output_type": "stream",
     "text": [
      "Fitting configuration: \n",
      "{'clustering_choice': 'DBSCAN', 'n_components___TSNE': 2, 'dim_reduction_choice': 'TSNE', 'early_exaggeration___TSNE': 13.486116543319527, 'eps___DBSCAN': 1.4543702868272501, 'perplexity___TSNE': 207.2286787061756, 'min_samples___DBSCAN': 73}\n",
      "Fitting configuration: \n",
      "{'clustering_choice': 'DBSCAN', 'dim_reduction_choice': 'KernelPCA', 'n_components___KernelPCA': 4, 'kernel___KernelPCA': 'poly', 'eps___DBSCAN': 0.45622940930651806, 'min_samples___DBSCAN': 25}\n",
      "Score obtained by this configuration: 0.3794389741135666\n",
      "Fitting configuration: \n",
      "{'clustering_choice': 'DBSCAN', 'fun___FastICA': 'exp', 'dim_reduction_choice': 'FastICA', 'whiten___FastICA': True, 'n_components___FastICA': 2, 'eps___DBSCAN': 0.04642250559297685, 'algorithm___FastICA': 'deflation', 'min_samples___DBSCAN': 28}\n",
      "Score obtained by this configuration: inf\n"
     ]
    },
    {
     "name": "stderr",
     "output_type": "stream",
     "text": [
      "WARNING:smac.tae.execute_func.ExecuteTAFuncDict:Target Algorithm returned NaN or inf as quality. Algorithm run is treated as CRASHED, cost is set to 2147483647.0 for quality scenarios. (Change value through \"cost_for_crash\"-option.)\n"
     ]
    },
    {
     "name": "stdout",
     "output_type": "stream",
     "text": [
      "Fitting configuration: \n",
      "{'clustering_choice': 'DBSCAN', 'dim_reduction_choice': 'KernelPCA', 'n_components___KernelPCA': 2, 'kernel___KernelPCA': 'sigmoid', 'eps___DBSCAN': 0.2613984466855124, 'min_samples___DBSCAN': 18}\n",
      "Score obtained by this configuration: inf\n"
     ]
    },
    {
     "name": "stderr",
     "output_type": "stream",
     "text": [
      "WARNING:smac.tae.execute_func.ExecuteTAFuncDict:Target Algorithm returned NaN or inf as quality. Algorithm run is treated as CRASHED, cost is set to 2147483647.0 for quality scenarios. (Change value through \"cost_for_crash\"-option.)\n"
     ]
    },
    {
     "name": "stdout",
     "output_type": "stream",
     "text": [
      "Fitting configuration: \n",
      "{'clustering_choice': 'DBSCAN', 'dim_reduction_choice': 'KernelPCA', 'n_components___KernelPCA': 3, 'kernel___KernelPCA': 'sigmoid', 'eps___DBSCAN': 0.4911184393167958, 'min_samples___DBSCAN': 18}\n",
      "Score obtained by this configuration: inf\n"
     ]
    },
    {
     "name": "stderr",
     "output_type": "stream",
     "text": [
      "WARNING:smac.tae.execute_func.ExecuteTAFuncDict:Target Algorithm returned NaN or inf as quality. Algorithm run is treated as CRASHED, cost is set to 2147483647.0 for quality scenarios. (Change value through \"cost_for_crash\"-option.)\n"
     ]
    },
    {
     "name": "stdout",
     "output_type": "stream",
     "text": [
      "Fitting configuration: \n",
      "{'clustering_choice': 'DBSCAN', 'dim_reduction_choice': 'KernelPCA', 'n_components___KernelPCA': 4, 'kernel___KernelPCA': 'sigmoid', 'eps___DBSCAN': 0.4431447716161244, 'min_samples___DBSCAN': 12}\n",
      "Score obtained by this configuration: inf\n"
     ]
    },
    {
     "name": "stderr",
     "output_type": "stream",
     "text": [
      "WARNING:smac.tae.execute_func.ExecuteTAFuncDict:Target Algorithm returned NaN or inf as quality. Algorithm run is treated as CRASHED, cost is set to 2147483647.0 for quality scenarios. (Change value through \"cost_for_crash\"-option.)\n"
     ]
    },
    {
     "name": "stdout",
     "output_type": "stream",
     "text": [
      "Fitting configuration: \n",
      "{'clustering_choice': 'SpectralClustering', 'affinity___SpectralClustering': 'laplacian', 'dim_reduction_choice': 'TruncatedSVD', 'eigen_solver___SpectralClustering': 'arpack', 'assign_labels___SpectralClustering': 'kmeans', 'n_clusters___SpectralClustering': 7, 'algorithm___TruncatedSVD': 'randomized', 'n_components___TruncatedSVD': 2}\n",
      "Score obtained by this configuration: 0.2677309559648642\n",
      "Fitting configuration: \n",
      "{'clustering_choice': 'DBSCAN', 'dim_reduction_choice': 'KernelPCA', 'n_components___KernelPCA': 5, 'kernel___KernelPCA': 'sigmoid', 'eps___DBSCAN': 0.4872295004818057, 'min_samples___DBSCAN': 15}\n",
      "Score obtained by this configuration: inf\n"
     ]
    },
    {
     "name": "stderr",
     "output_type": "stream",
     "text": [
      "WARNING:smac.tae.execute_func.ExecuteTAFuncDict:Target Algorithm returned NaN or inf as quality. Algorithm run is treated as CRASHED, cost is set to 2147483647.0 for quality scenarios. (Change value through \"cost_for_crash\"-option.)\n"
     ]
    },
    {
     "name": "stdout",
     "output_type": "stream",
     "text": [
      "Fitting configuration: \n",
      "{'clustering_choice': 'DBSCAN', 'dim_reduction_choice': 'IncrementalPCA', 'eps___DBSCAN': 1.2911136728166452, 'whiten___IncrementalPCA': True, 'n_components___IncrementalPCA': 3, 'min_samples___DBSCAN': 14, 'batch_size___IncrementalPCA': 566}\n",
      "Score obtained by this configuration: inf\n"
     ]
    },
    {
     "name": "stderr",
     "output_type": "stream",
     "text": [
      "WARNING:smac.tae.execute_func.ExecuteTAFuncDict:Target Algorithm returned NaN or inf as quality. Algorithm run is treated as CRASHED, cost is set to 2147483647.0 for quality scenarios. (Change value through \"cost_for_crash\"-option.)\n"
     ]
    },
    {
     "name": "stdout",
     "output_type": "stream",
     "text": [
      "Fitting configuration: \n",
      "{'clustering_choice': 'DBSCAN', 'dim_reduction_choice': 'KernelPCA', 'n_components___KernelPCA': 3, 'kernel___KernelPCA': 'sigmoid', 'eps___DBSCAN': 0.12320956350310737, 'min_samples___DBSCAN': 9}\n",
      "Score obtained by this configuration: 0.39987616699393863\n",
      "Fitting configuration: \n",
      "{'clustering_choice': 'DBSCAN', 'dim_reduction_choice': 'IncrementalPCA', 'eps___DBSCAN': 1.2410476486901236, 'min_samples___DBSCAN': 13, 'n_components___IncrementalPCA': 3, 'batch_size___IncrementalPCA': 494}\n",
      "Score obtained by this configuration: 0.3836543177111045\n",
      "Fitting configuration: \n",
      "{'clustering_choice': 'DBSCAN', 'dim_reduction_choice': 'PCA', 'whiten___PCA': True, 'eps___DBSCAN': 0.4491675983200766, 'n_components___PCA': 2, 'svd_solver___PCA': 'randomized', 'min_samples___DBSCAN': 43}\n",
      "Score obtained by this configuration: 0.3545207825918713\n",
      "Fitting configuration: \n",
      "{'clustering_choice': 'AgglomerativeClustering', 'dim_reduction_choice': 'TruncatedSVD', 'affinity___AgglomerativeClustering': 'l1', 'algorithm___TruncatedSVD': 'arpack', 'linkage___AgglomerativeClustering': 'single', 'n_components___TruncatedSVD': 7, 'n_clusters___AgglomerativeClustering': 19}\n",
      "Score obtained by this configuration: inf\n"
     ]
    },
    {
     "name": "stderr",
     "output_type": "stream",
     "text": [
      "WARNING:smac.tae.execute_func.ExecuteTAFuncDict:Target Algorithm returned NaN or inf as quality. Algorithm run is treated as CRASHED, cost is set to 2147483647.0 for quality scenarios. (Change value through \"cost_for_crash\"-option.)\n"
     ]
    },
    {
     "name": "stdout",
     "output_type": "stream",
     "text": [
      "Fitting configuration: \n",
      "{'clustering_choice': 'MeanShift', 'bin_seeding___MeanShift': True, 'dim_reduction_choice': 'KernelPCA', 'bandwidth___MeanShift': 49.347366210398675, 'kernel___KernelPCA': 'cosine', 'n_components___KernelPCA': 9}\n",
      "Score obtained by this configuration: inf\n"
     ]
    },
    {
     "name": "stderr",
     "output_type": "stream",
     "text": [
      "WARNING:smac.tae.execute_func.ExecuteTAFuncDict:Target Algorithm returned NaN or inf as quality. Algorithm run is treated as CRASHED, cost is set to 2147483647.0 for quality scenarios. (Change value through \"cost_for_crash\"-option.)\n"
     ]
    },
    {
     "name": "stdout",
     "output_type": "stream",
     "text": [
      "Fitting configuration: \n",
      "{'clustering_choice': 'MeanShift', 'bin_seeding___MeanShift': True, 'dim_reduction_choice': 'KernelPCA', 'bandwidth___MeanShift': 40.878467225898376, 'kernel___KernelPCA': 'cosine', 'n_components___KernelPCA': 8}\n",
      "Score obtained by this configuration: inf\n"
     ]
    },
    {
     "name": "stderr",
     "output_type": "stream",
     "text": [
      "WARNING:smac.tae.execute_func.ExecuteTAFuncDict:Target Algorithm returned NaN or inf as quality. Algorithm run is treated as CRASHED, cost is set to 2147483647.0 for quality scenarios. (Change value through \"cost_for_crash\"-option.)\n"
     ]
    },
    {
     "name": "stdout",
     "output_type": "stream",
     "text": [
      "Fitting configuration: \n",
      "{'clustering_choice': 'GaussianMixture', 'covariance_type___GaussianMixture': 'full', 'dim_reduction_choice': 'KernelPCA', 'n_components___KernelPCA': 8, 'init_params___GaussianMixture': 'kmeans', 'kernel___KernelPCA': 'cosine', 'warm_start___GaussianMixture': True, 'n_components___GaussianMixture': 73}\n",
      "Score obtained by this configuration: 0.37974265052345224\n",
      "Fitting configuration: \n",
      "{'clustering_choice': 'MiniBatchKMeans', 'dim_reduction_choice': 'KernelPCA', 'n_components___KernelPCA': 2, 'batch_size___MiniBatchKMeans': 34, 'kernel___KernelPCA': 'linear', 'n_clusters___MiniBatchKMeans': 4}\n",
      "Score obtained by this configuration: 0.2503458903183456\n",
      "Fitting configuration: \n",
      "{'clustering_choice': 'Birch', 'dim_reduction_choice': 'KernelPCA', 'n_components___KernelPCA': 2, 'branching_factor___Birch': 818, 'kernel___KernelPCA': 'cosine', 'n_clusters___Birch': 17}\n"
     ]
    },
    {
     "name": "stderr",
     "output_type": "stream",
     "text": [
      "/home/coffeetumbler/anaconda3/envs/automl/lib/python3.5/site-packages/sklearn/cluster/birch.py:627: ConvergenceWarning: Number of subclusters found (2) by Birch is less than (17). Decrease the threshold.\n",
      "  % (len(centroids), self.n_clusters), ConvergenceWarning)\n",
      "/home/coffeetumbler/anaconda3/envs/automl/lib/python3.5/site-packages/sklearn/cluster/birch.py:627: ConvergenceWarning: Number of subclusters found (2) by Birch is less than (17). Decrease the threshold.\n",
      "  % (len(centroids), self.n_clusters), ConvergenceWarning)\n",
      "/home/coffeetumbler/anaconda3/envs/automl/lib/python3.5/site-packages/sklearn/cluster/birch.py:627: ConvergenceWarning: Number of subclusters found (2) by Birch is less than (17). Decrease the threshold.\n",
      "  % (len(centroids), self.n_clusters), ConvergenceWarning)\n",
      "/home/coffeetumbler/anaconda3/envs/automl/lib/python3.5/site-packages/sklearn/cluster/birch.py:627: ConvergenceWarning: Number of subclusters found (4) by Birch is less than (17). Decrease the threshold.\n",
      "  % (len(centroids), self.n_clusters), ConvergenceWarning)\n",
      "/home/coffeetumbler/anaconda3/envs/automl/lib/python3.5/site-packages/sklearn/cluster/birch.py:627: ConvergenceWarning: Number of subclusters found (2) by Birch is less than (17). Decrease the threshold.\n",
      "  % (len(centroids), self.n_clusters), ConvergenceWarning)\n",
      "/home/coffeetumbler/anaconda3/envs/automl/lib/python3.5/site-packages/sklearn/cluster/birch.py:627: ConvergenceWarning: Number of subclusters found (2) by Birch is less than (17). Decrease the threshold.\n",
      "  % (len(centroids), self.n_clusters), ConvergenceWarning)\n"
     ]
    },
    {
     "name": "stdout",
     "output_type": "stream",
     "text": [
      "Score obtained by this configuration: 0.3199299756412363\n",
      "Fitting configuration: \n",
      "{'clustering_choice': 'DBSCAN', 'fun___FastICA': 'cube', 'dim_reduction_choice': 'FastICA', 'whiten___FastICA': True, 'n_components___FastICA': 3, 'eps___DBSCAN': 0.3203676393525975, 'algorithm___FastICA': 'deflation', 'min_samples___DBSCAN': 5}\n",
      "Score obtained by this configuration: inf\n"
     ]
    },
    {
     "name": "stderr",
     "output_type": "stream",
     "text": [
      "WARNING:smac.tae.execute_func.ExecuteTAFuncDict:Target Algorithm returned NaN or inf as quality. Algorithm run is treated as CRASHED, cost is set to 2147483647.0 for quality scenarios. (Change value through \"cost_for_crash\"-option.)\n"
     ]
    },
    {
     "name": "stdout",
     "output_type": "stream",
     "text": [
      "Fitting configuration: \n",
      "{'clustering_choice': 'KMeans', 'dim_reduction_choice': 'PCA', 'whiten___PCA': True, 'svd_solver___PCA': 'randomized', 'n_clusters___KMeans': 67, 'n_components___PCA': 2}\n",
      "Score obtained by this configuration: 0.24880987100585092\n",
      "Fitting configuration: \n",
      "{'clustering_choice': 'KMeans', 'dim_reduction_choice': 'PCA', 'n_clusters___KMeans': 77, 'svd_solver___PCA': 'auto', 'n_components___PCA': 2}\n",
      "Score obtained by this configuration: 0.243778011509879\n",
      "Fitting configuration: \n",
      "{'clustering_choice': 'MiniBatchKMeans', 'dim_reduction_choice': 'KernelPCA', 'n_components___KernelPCA': 9, 'batch_size___MiniBatchKMeans': 61, 'kernel___KernelPCA': 'cosine', 'n_clusters___MiniBatchKMeans': 17}\n",
      "Score obtained by this configuration: 0.364928783674151\n",
      "Fitting configuration: \n",
      "{'clustering_choice': 'MiniBatchKMeans', 'dim_reduction_choice': 'KernelPCA', 'n_components___KernelPCA': 4, 'batch_size___MiniBatchKMeans': 93, 'kernel___KernelPCA': 'cosine', 'n_clusters___MiniBatchKMeans': 10}\n",
      "Score obtained by this configuration: 0.3268602205903139\n",
      "Fitting configuration: \n",
      "{'clustering_choice': 'KMeans', 'algorithm___TruncatedSVD': 'randomized', 'dim_reduction_choice': 'TruncatedSVD', 'n_clusters___KMeans': 40, 'n_components___TruncatedSVD': 2}\n",
      "Score obtained by this configuration: 0.26336823465844283\n",
      "Fitting configuration: \n",
      "{'clustering_choice': 'KMeans', 'algorithm___TruncatedSVD': 'arpack', 'dim_reduction_choice': 'TruncatedSVD', 'n_clusters___KMeans': 41, 'n_components___TruncatedSVD': 2}\n",
      "Score obtained by this configuration: 0.2653815322924232\n",
      "Fitting configuration: \n",
      "{'clustering_choice': 'GaussianMixture', 'covariance_type___GaussianMixture': 'tied', 'dim_reduction_choice': 'FastICA', 'algorithm___FastICA': 'deflation', 'init_params___GaussianMixture': 'kmeans', 'n_components___FastICA': 3, 'fun___FastICA': 'cube', 'whiten___FastICA': True, 'n_components___GaussianMixture': 62}\n",
      "Score obtained by this configuration: 0.2853225279564508\n",
      "Fitting configuration: \n",
      "{'clustering_choice': 'MiniBatchKMeans', 'dim_reduction_choice': 'TruncatedSVD', 'batch_size___MiniBatchKMeans': 235, 'algorithm___TruncatedSVD': 'randomized', 'n_components___TruncatedSVD': 5, 'n_clusters___MiniBatchKMeans': 28}\n",
      "Score obtained by this configuration: 0.3411500446462929\n",
      "Fitting configuration: \n",
      "{'clustering_choice': 'MiniBatchKMeans', 'dim_reduction_choice': 'KernelPCA', 'n_components___KernelPCA': 8, 'batch_size___MiniBatchKMeans': 474, 'kernel___KernelPCA': 'linear', 'n_clusters___MiniBatchKMeans': 32}\n",
      "Score obtained by this configuration: 0.35089073548414856\n",
      "Fitting configuration: \n",
      "{'clustering_choice': 'MiniBatchKMeans', 'dim_reduction_choice': 'IncrementalPCA', 'batch_size___MiniBatchKMeans': 97, 'whiten___IncrementalPCA': True, 'n_components___IncrementalPCA': 3, 'n_clusters___MiniBatchKMeans': 13, 'batch_size___IncrementalPCA': 894}\n",
      "Score obtained by this configuration: 0.3120986528410249\n",
      "Fitting configuration: \n",
      "{'clustering_choice': 'OPTICS', 'n_components___TSNE': 2, 'dim_reduction_choice': 'TSNE', 'metric___OPTICS': 'l1', 'min_samples___OPTICS': 746, 'early_exaggeration___TSNE': 16.28310346313276, 'cluster_method___OPTICS': 'dbscan', 'perplexity___TSNE': 273.0652001299699}\n",
      "Fitting configuration: \n",
      "{'clustering_choice': 'AgglomerativeClustering', 'dim_reduction_choice': 'KernelPCA', 'affinity___AgglomerativeClustering': 'l1', 'kernel___KernelPCA': 'rbf', 'linkage___AgglomerativeClustering': 'complete', 'n_clusters___AgglomerativeClustering': 34, 'n_components___KernelPCA': 6}\n",
      "Score obtained by this configuration: 0.35526163326450444\n",
      "Fitting configuration: \n",
      "{'clustering_choice': 'Birch', 'n_components___TSNE': 2, 'dim_reduction_choice': 'TSNE', 'early_exaggeration___TSNE': 8.891357869201425, 'branching_factor___Birch': 733, 'perplexity___TSNE': 271.1351072572723, 'n_clusters___Birch': 8}\n",
      "Fitting configuration: \n",
      "{'clustering_choice': 'Birch', 'n_clusters___Birch': 39, 'branching_factor___Birch': 807, 'n_components___IncrementalPCA': 3, 'batch_size___IncrementalPCA': 711, 'dim_reduction_choice': 'IncrementalPCA'}\n",
      "Score obtained by this configuration: 0.3022527289589804\n",
      "Fitting configuration: \n",
      "{'clustering_choice': 'MiniBatchKMeans', 'dim_reduction_choice': 'IncrementalPCA', 'batch_size___MiniBatchKMeans': 540, 'whiten___IncrementalPCA': True, 'n_components___IncrementalPCA': 2, 'n_clusters___MiniBatchKMeans': 8, 'batch_size___IncrementalPCA': 379}\n",
      "Score obtained by this configuration: 0.27100598693947425\n",
      "Fitting configuration: \n",
      "{'clustering_choice': 'MeanShift', 'bin_seeding___MeanShift': True, 'dim_reduction_choice': 'TSNE', 'bandwidth___MeanShift': 33.012847009127846, 'early_exaggeration___TSNE': 8.622213783421856, 'n_components___TSNE': 2, 'perplexity___TSNE': 146.2437925489064}\n",
      "Fitting configuration: \n",
      "{'clustering_choice': 'SpectralClustering', 'affinity___SpectralClustering': 'rbf', 'dim_reduction_choice': 'TSNE', 'early_exaggeration___TSNE': 17.599907823169374, 'n_clusters___SpectralClustering': 13, 'assign_labels___SpectralClustering': 'discretize', 'perplexity___TSNE': 293.9662129593339, 'eigen_solver___SpectralClustering': 'arpack', 'n_components___TSNE': 2}\n",
      "Fitting configuration: \n",
      "{'clustering_choice': 'MiniBatchKMeans', 'dim_reduction_choice': 'KernelPCA', 'n_components___KernelPCA': 2, 'batch_size___MiniBatchKMeans': 157, 'kernel___KernelPCA': 'rbf', 'n_clusters___MiniBatchKMeans': 1}\n",
      "Score obtained by this configuration: inf\n"
     ]
    },
    {
     "name": "stderr",
     "output_type": "stream",
     "text": [
      "WARNING:smac.tae.execute_func.ExecuteTAFuncDict:Target Algorithm returned NaN or inf as quality. Algorithm run is treated as CRASHED, cost is set to 2147483647.0 for quality scenarios. (Change value through \"cost_for_crash\"-option.)\n"
     ]
    },
    {
     "name": "stdout",
     "output_type": "stream",
     "text": [
      "Fitting configuration: \n",
      "{'clustering_choice': 'AffinityPropagation', 'dim_reduction_choice': 'IncrementalPCA', 'damping___AffinityPropagation': 0.7492238334978952, 'affinity___AffinityPropagation': 'euclidean', 'n_components___IncrementalPCA': 2, 'batch_size___IncrementalPCA': 51}\n",
      "Score obtained by this configuration: 0.26744731906040736\n",
      "Fitting configuration: \n",
      "{'clustering_choice': 'AffinityPropagation', 'dim_reduction_choice': 'KernelPCA', 'damping___AffinityPropagation': 0.7235656323749087, 'n_components___KernelPCA': 2, 'kernel___KernelPCA': 'cosine', 'affinity___AffinityPropagation': 'euclidean'}\n",
      "Score obtained by this configuration: 0.27219097214454563\n",
      "Fitting configuration: \n",
      "{'clustering_choice': 'MiniBatchKMeans', 'fun___FastICA': 'logcosh', 'dim_reduction_choice': 'FastICA', 'n_components___FastICA': 2, 'batch_size___MiniBatchKMeans': 198, 'algorithm___FastICA': 'deflation', 'n_clusters___MiniBatchKMeans': 4}\n",
      "Score obtained by this configuration: 0.24702070981907173\n",
      "Fitting configuration: \n",
      "{'clustering_choice': 'KMeans', 'fun___FastICA': 'exp', 'dim_reduction_choice': 'FastICA', 'n_components___FastICA': 3, 'n_clusters___KMeans': 49, 'algorithm___FastICA': 'deflation'}\n",
      "Score obtained by this configuration: 0.29722791946260635\n",
      "Fitting configuration: \n",
      "{'clustering_choice': 'AffinityPropagation', 'dim_reduction_choice': 'KernelPCA', 'damping___AffinityPropagation': 0.6384800608301505, 'n_components___KernelPCA': 3, 'kernel___KernelPCA': 'linear', 'affinity___AffinityPropagation': 'euclidean'}\n",
      "Score obtained by this configuration: 0.3126369196879099\n",
      "Fitting configuration: \n",
      "{'clustering_choice': 'AgglomerativeClustering', 'dim_reduction_choice': 'KernelPCA', 'affinity___AgglomerativeClustering': 'manhattan', 'kernel___KernelPCA': 'linear', 'linkage___AgglomerativeClustering': 'single', 'n_clusters___AgglomerativeClustering': 8, 'n_components___KernelPCA': 2}\n",
      "Score obtained by this configuration: inf\n"
     ]
    },
    {
     "name": "stderr",
     "output_type": "stream",
     "text": [
      "WARNING:smac.tae.execute_func.ExecuteTAFuncDict:Target Algorithm returned NaN or inf as quality. Algorithm run is treated as CRASHED, cost is set to 2147483647.0 for quality scenarios. (Change value through \"cost_for_crash\"-option.)\n"
     ]
    },
    {
     "name": "stdout",
     "output_type": "stream",
     "text": [
      "Fitting configuration: \n",
      "{'clustering_choice': 'AffinityPropagation', 'fun___FastICA': 'logcosh', 'dim_reduction_choice': 'FastICA', 'damping___AffinityPropagation': 0.9717481970428685, 'n_components___FastICA': 3, 'affinity___AffinityPropagation': 'euclidean', 'algorithm___FastICA': 'parallel'}\n",
      "Score obtained by this configuration: inf\n"
     ]
    },
    {
     "name": "stderr",
     "output_type": "stream",
     "text": [
      "WARNING:smac.tae.execute_func.ExecuteTAFuncDict:Target Algorithm returned NaN or inf as quality. Algorithm run is treated as CRASHED, cost is set to 2147483647.0 for quality scenarios. (Change value through \"cost_for_crash\"-option.)\n"
     ]
    },
    {
     "name": "stdout",
     "output_type": "stream",
     "text": [
      "Fitting configuration: \n",
      "{'clustering_choice': 'AffinityPropagation', 'fun___FastICA': 'logcosh', 'dim_reduction_choice': 'FastICA', 'damping___AffinityPropagation': 0.9265016347714272, 'whiten___FastICA': True, 'n_components___FastICA': 3, 'affinity___AffinityPropagation': 'euclidean', 'algorithm___FastICA': 'deflation'}\n",
      "Score obtained by this configuration: 0.3084507433453627\n",
      "Fitting configuration: \n",
      "{'clustering_choice': 'SpectralClustering', 'affinity___SpectralClustering': 'nearest_neighbors', 'dim_reduction_choice': 'TruncatedSVD', 'eigen_solver___SpectralClustering': 'arpack', 'assign_labels___SpectralClustering': 'kmeans', 'n_clusters___SpectralClustering': 71, 'algorithm___TruncatedSVD': 'arpack', 'n_components___TruncatedSVD': 4}\n",
      "Score obtained by this configuration: 0.3178547051300215\n",
      "Fitting configuration: \n",
      "{'clustering_choice': 'MiniBatchKMeans', 'fun___FastICA': 'exp', 'dim_reduction_choice': 'FastICA', 'whiten___FastICA': True, 'n_components___FastICA': 3, 'batch_size___MiniBatchKMeans': 406, 'algorithm___FastICA': 'deflation', 'n_clusters___MiniBatchKMeans': 24}\n",
      "Score obtained by this configuration: 0.30625904528178527\n",
      "Fitting configuration: \n",
      "{'clustering_choice': 'KMeans', 'kernel___KernelPCA': 'linear', 'dim_reduction_choice': 'KernelPCA', 'n_clusters___KMeans': 67, 'n_components___KernelPCA': 7}\n",
      "Score obtained by this configuration: 0.33736825900098166\n",
      "Fitting configuration: \n",
      "{'clustering_choice': 'KMeans', 'kernel___KernelPCA': 'cosine', 'dim_reduction_choice': 'KernelPCA', 'n_clusters___KMeans': 4, 'n_components___KernelPCA': 2}\n",
      "Score obtained by this configuration: 0.25298231303827345\n",
      "Fitting configuration: \n",
      "{'clustering_choice': 'MeanShift', 'dim_reduction_choice': 'PCA', 'whiten___PCA': True, 'bandwidth___MeanShift': 26.807060700054667, 'svd_solver___PCA': 'auto', 'n_components___PCA': 3}\n",
      "Score obtained by this configuration: inf\n"
     ]
    },
    {
     "name": "stderr",
     "output_type": "stream",
     "text": [
      "WARNING:smac.tae.execute_func.ExecuteTAFuncDict:Target Algorithm returned NaN or inf as quality. Algorithm run is treated as CRASHED, cost is set to 2147483647.0 for quality scenarios. (Change value through \"cost_for_crash\"-option.)\n"
     ]
    },
    {
     "name": "stdout",
     "output_type": "stream",
     "text": [
      "Fitting configuration: \n",
      "{'clustering_choice': 'OPTICS', 'fun___FastICA': 'exp', 'dim_reduction_choice': 'FastICA', 'metric___OPTICS': 'manhattan', 'min_samples___OPTICS': 634, 'cluster_method___OPTICS': 'xi', 'n_components___FastICA': 3, 'algorithm___FastICA': 'parallel'}\n"
     ]
    },
    {
     "name": "stderr",
     "output_type": "stream",
     "text": [
      "Process pynisher function call:\n",
      "Traceback (most recent call last):\n",
      "  File \"/home/coffeetumbler/anaconda3/envs/automl/lib/python3.5/multiprocessing/process.py\", line 252, in _bootstrap\n",
      "    self.run()\n",
      "  File \"/home/coffeetumbler/anaconda3/envs/automl/lib/python3.5/multiprocessing/process.py\", line 93, in run\n",
      "    self._target(*self._args, **self._kwargs)\n",
      "  File \"/home/coffeetumbler/anaconda3/envs/automl/lib/python3.5/site-packages/pynisher/limit_function_call.py\", line 93, in subprocess_func\n",
      "    return_value = ((func(*args, **kwargs), 0))\n",
      "  File \"/home/coffeetumbler/automl_2019/autocluster/autocluster.py\", line 249, in evaluate_model\n",
      "    y_pred = clustering_model.fit_predict(compressed_valid_data)\n",
      "  File \"/home/coffeetumbler/anaconda3/envs/automl/lib/python3.5/site-packages/sklearn/base.py\", line 447, in fit_predict\n",
      "    self.fit(X)\n",
      "  File \"/home/coffeetumbler/anaconda3/envs/automl/lib/python3.5/site-packages/sklearn/cluster/optics_.py\", line 248, in fit\n",
      "    max_eps=self.max_eps)\n",
      "  File \"/home/coffeetumbler/anaconda3/envs/automl/lib/python3.5/site-packages/sklearn/cluster/optics_.py\", line 438, in compute_optics_graph\n",
      "    _validate_size(min_samples, n_samples, 'min_samples')\n",
      "  File \"/home/coffeetumbler/anaconda3/envs/automl/lib/python3.5/site-packages/sklearn/cluster/optics_.py\", line 290, in _validate_size\n",
      "    (param_name, n_samples, size))\n",
      "ValueError: min_samples must be no greater than the number of samples (470). Got 634\n"
     ]
    },
    {
     "name": "stdout",
     "output_type": "stream",
     "text": [
      "Fitting configuration: \n",
      "{'clustering_choice': 'AffinityPropagation', 'dim_reduction_choice': 'PCA', 'damping___AffinityPropagation': 0.7646581734531417, 'svd_solver___PCA': 'randomized', 'affinity___AffinityPropagation': 'euclidean', 'n_components___PCA': 3}\n",
      "Score obtained by this configuration: 0.30697034481603486\n",
      "Fitting configuration: \n",
      "{'clustering_choice': 'AffinityPropagation', 'dim_reduction_choice': 'PCA', 'whiten___PCA': True, 'damping___AffinityPropagation': 0.7265426871849686, 'svd_solver___PCA': 'auto', 'affinity___AffinityPropagation': 'euclidean', 'n_components___PCA': 3}\n",
      "Score obtained by this configuration: 0.30555920143054377\n",
      "Fitting configuration: \n",
      "{'clustering_choice': 'Birch', 'n_clusters___Birch': 6, 'branching_factor___Birch': 913, 'whiten___IncrementalPCA': True, 'n_components___IncrementalPCA': 3, 'batch_size___IncrementalPCA': 748, 'dim_reduction_choice': 'IncrementalPCA'}\n",
      "Score obtained by this configuration: inf\n"
     ]
    },
    {
     "name": "stderr",
     "output_type": "stream",
     "text": [
      "WARNING:smac.tae.execute_func.ExecuteTAFuncDict:Target Algorithm returned NaN or inf as quality. Algorithm run is treated as CRASHED, cost is set to 2147483647.0 for quality scenarios. (Change value through \"cost_for_crash\"-option.)\n"
     ]
    },
    {
     "name": "stdout",
     "output_type": "stream",
     "text": [
      "Fitting configuration: \n",
      "{'clustering_choice': 'MeanShift', 'kernel___KernelPCA': 'poly', 'dim_reduction_choice': 'KernelPCA', 'bandwidth___MeanShift': 46.36396483156826, 'n_components___KernelPCA': 6}\n",
      "Score obtained by this configuration: inf\n"
     ]
    },
    {
     "name": "stderr",
     "output_type": "stream",
     "text": [
      "WARNING:smac.tae.execute_func.ExecuteTAFuncDict:Target Algorithm returned NaN or inf as quality. Algorithm run is treated as CRASHED, cost is set to 2147483647.0 for quality scenarios. (Change value through \"cost_for_crash\"-option.)\n"
     ]
    },
    {
     "name": "stdout",
     "output_type": "stream",
     "text": [
      "Fitting configuration: \n",
      "{'clustering_choice': 'AffinityPropagation', 'dim_reduction_choice': 'TruncatedSVD', 'damping___AffinityPropagation': 0.7892423478971228, 'algorithm___TruncatedSVD': 'randomized', 'affinity___AffinityPropagation': 'euclidean', 'n_components___TruncatedSVD': 2}\n",
      "Score obtained by this configuration: 0.2694040642993762\n",
      "Optimization is complete.\n",
      "Took 445.32 seconds.\n",
      "The optimal configuration is \n",
      "Configuration:\n",
      "  clustering_choice, Value: 'KMeans'\n",
      "  dim_reduction_choice, Value: 'PCA'\n",
      "  n_clusters___KMeans, Value: 77\n",
      "  n_components___PCA, Value: 2\n",
      "  svd_solver___PCA, Value: 'auto'\n",
      "  whiten___PCA, Value: False\n",
      "\n",
      "\n",
      "Model chosen with weights = \n",
      "[0, 4, 6]\n",
      "v_score = \n",
      "0.42199447243616384\n",
      "\n",
      "\n",
      "1469/1797 datapoints remaining after outlier removal\n",
      "Configuration space object:\n",
      "  Hyperparameters:\n",
      "    affinity___AffinityPropagation, Type: Categorical, Choices: {euclidean}, Default: euclidean\n",
      "    affinity___AgglomerativeClustering, Type: Categorical, Choices: {euclidean, cityblock, l2, l1, manhattan, cosine}, Default: euclidean\n",
      "    affinity___SpectralClustering, Type: Categorical, Choices: {nearest_neighbors, poly, sigmoid, laplacian, rbf}, Default: rbf\n",
      "    algorithm___FastICA, Type: Categorical, Choices: {parallel, deflation}, Default: parallel\n",
      "    algorithm___TruncatedSVD, Type: Categorical, Choices: {arpack, randomized}, Default: randomized\n",
      "    assign_labels___SpectralClustering, Type: Categorical, Choices: {kmeans, discretize}, Default: kmeans\n",
      "    bandwidth___MeanShift, Type: UniformFloat, Range: [0.1, 50.0], Default: 25.05\n",
      "    batch_size___IncrementalPCA, Type: UniformInteger, Range: [10, 1000], Default: 100\n",
      "    batch_size___MiniBatchKMeans, Type: UniformInteger, Range: [10, 1000], Default: 100\n",
      "    bin_seeding___MeanShift, Type: Categorical, Choices: {True, False}, Default: False\n",
      "    branching_factor___Birch, Type: UniformInteger, Range: [10, 1000], Default: 50\n",
      "    cluster_method___OPTICS, Type: Categorical, Choices: {xi, dbscan}, Default: xi\n",
      "    clustering_choice, Type: Categorical, Choices: {KMeans, GaussianMixture, Birch, MiniBatchKMeans, AgglomerativeClustering, OPTICS, SpectralClustering, DBSCAN, AffinityPropagation, MeanShift}, Default: KMeans\n",
      "    covariance_type___GaussianMixture, Type: Categorical, Choices: {full, tied, diag, spherical}, Default: full\n",
      "    damping___AffinityPropagation, Type: UniformFloat, Range: [0.5, 1.0], Default: 0.5\n",
      "    dim_reduction_choice, Type: Categorical, Choices: {TSNE, PCA, IncrementalPCA, KernelPCA, FastICA, TruncatedSVD}, Default: TSNE\n",
      "    early_exaggeration___TSNE, Type: UniformFloat, Range: [5.0, 20.0], Default: 12.0\n",
      "    eigen_solver___SpectralClustering, Type: Categorical, Choices: {arpack}, Default: arpack\n",
      "    eps___DBSCAN, Type: UniformFloat, Range: [0.01, 5.0], Default: 0.01\n",
      "    fun___FastICA, Type: Categorical, Choices: {logcosh, exp, cube}, Default: logcosh\n",
      "    init_params___GaussianMixture, Type: Categorical, Choices: {kmeans, random}, Default: kmeans\n",
      "    kernel___KernelPCA, Type: Categorical, Choices: {linear, poly, rbf, sigmoid, cosine}, Default: linear\n",
      "    linkage___AgglomerativeClustering, Type: Categorical, Choices: {ward, complete, average, single}, Default: complete\n",
      "    metric___OPTICS, Type: Categorical, Choices: {minkowski, euclidean, manhattan, l1, l2, cosine}, Default: minkowski\n",
      "    min_samples___DBSCAN, Type: UniformInteger, Range: [5, 100], Default: 5\n",
      "    min_samples___OPTICS, Type: UniformInteger, Range: [5, 1000], Default: 100\n",
      "    n_clusters___AgglomerativeClustering, Type: UniformInteger, Range: [1, 80], Default: 10\n",
      "    n_clusters___Birch, Type: UniformInteger, Range: [1, 80], Default: 5\n",
      "    n_clusters___KMeans, Type: UniformInteger, Range: [1, 80], Default: 5\n",
      "    n_clusters___MiniBatchKMeans, Type: UniformInteger, Range: [1, 80], Default: 10\n",
      "    n_clusters___SpectralClustering, Type: UniformInteger, Range: [1, 80], Default: 10\n",
      "    n_components___FastICA, Type: Ordinal, Sequence: {2, 3}, Default: 2\n",
      "    n_components___GaussianMixture, Type: UniformInteger, Range: [1, 80], Default: 5\n",
      "    n_components___IncrementalPCA, Type: Ordinal, Sequence: {2, 3}, Default: 2\n",
      "    n_components___KernelPCA, Type: Ordinal, Sequence: {2, 3, 4, 5, 6, 7, 8, 9}, Default: 2\n",
      "    n_components___PCA, Type: Ordinal, Sequence: {2, 3}, Default: 2\n",
      "    n_components___TSNE, Type: Ordinal, Sequence: {2}, Default: 2\n",
      "    n_components___TruncatedSVD, Type: Ordinal, Sequence: {2, 3, 4, 5, 6, 7, 8, 9}, Default: 2\n",
      "    perplexity___TSNE, Type: UniformFloat, Range: [1.0, 300.0], Default: 30.0\n",
      "    svd_solver___PCA, Type: Categorical, Choices: {auto, full, arpack, randomized}, Default: auto\n",
      "    warm_start___GaussianMixture, Type: Categorical, Choices: {True, False}, Default: False\n",
      "    whiten___FastICA, Type: Categorical, Choices: {True, False}, Default: True\n",
      "    whiten___IncrementalPCA, Type: Categorical, Choices: {True, False}, Default: False\n",
      "    whiten___PCA, Type: Categorical, Choices: {True, False}, Default: False\n",
      "  Conditions:\n",
      "    affinity___AffinityPropagation | clustering_choice in {'AffinityPropagation'}\n",
      "    affinity___AgglomerativeClustering | clustering_choice in {'AgglomerativeClustering'}\n",
      "    affinity___SpectralClustering | clustering_choice in {'SpectralClustering'}\n",
      "    algorithm___FastICA | dim_reduction_choice in {'FastICA'}\n",
      "    algorithm___TruncatedSVD | dim_reduction_choice in {'TruncatedSVD'}\n",
      "    assign_labels___SpectralClustering | clustering_choice in {'SpectralClustering'}\n",
      "    bandwidth___MeanShift | clustering_choice in {'MeanShift'}\n",
      "    batch_size___IncrementalPCA | dim_reduction_choice in {'IncrementalPCA'}\n",
      "    batch_size___MiniBatchKMeans | clustering_choice in {'MiniBatchKMeans'}\n",
      "    bin_seeding___MeanShift | clustering_choice in {'MeanShift'}\n",
      "    branching_factor___Birch | clustering_choice in {'Birch'}\n",
      "    cluster_method___OPTICS | clustering_choice in {'OPTICS'}\n",
      "    covariance_type___GaussianMixture | clustering_choice in {'GaussianMixture'}\n",
      "    damping___AffinityPropagation | clustering_choice in {'AffinityPropagation'}\n",
      "    early_exaggeration___TSNE | dim_reduction_choice in {'TSNE'}\n",
      "    eigen_solver___SpectralClustering | clustering_choice in {'SpectralClustering'}\n",
      "    eps___DBSCAN | clustering_choice in {'DBSCAN'}\n",
      "    fun___FastICA | dim_reduction_choice in {'FastICA'}\n",
      "    init_params___GaussianMixture | clustering_choice in {'GaussianMixture'}\n",
      "    kernel___KernelPCA | dim_reduction_choice in {'KernelPCA'}\n",
      "    linkage___AgglomerativeClustering | clustering_choice in {'AgglomerativeClustering'}\n",
      "    metric___OPTICS | clustering_choice in {'OPTICS'}\n",
      "    min_samples___DBSCAN | clustering_choice in {'DBSCAN'}\n",
      "    min_samples___OPTICS | clustering_choice in {'OPTICS'}\n",
      "    n_clusters___AgglomerativeClustering | clustering_choice in {'AgglomerativeClustering'}\n",
      "    n_clusters___Birch | clustering_choice in {'Birch'}\n",
      "    n_clusters___KMeans | clustering_choice in {'KMeans'}\n",
      "    n_clusters___MiniBatchKMeans | clustering_choice in {'MiniBatchKMeans'}\n",
      "    n_clusters___SpectralClustering | clustering_choice in {'SpectralClustering'}\n",
      "    n_components___FastICA | dim_reduction_choice in {'FastICA'}\n",
      "    n_components___GaussianMixture | clustering_choice in {'GaussianMixture'}\n",
      "    n_components___IncrementalPCA | dim_reduction_choice in {'IncrementalPCA'}\n",
      "    n_components___KernelPCA | dim_reduction_choice in {'KernelPCA'}\n",
      "    n_components___PCA | dim_reduction_choice in {'PCA'}\n",
      "    n_components___TSNE | dim_reduction_choice in {'TSNE'}\n",
      "    n_components___TruncatedSVD | dim_reduction_choice in {'TruncatedSVD'}\n",
      "    perplexity___TSNE | dim_reduction_choice in {'TSNE'}\n",
      "    svd_solver___PCA | dim_reduction_choice in {'PCA'}\n",
      "    warm_start___GaussianMixture | clustering_choice in {'GaussianMixture'}\n",
      "    whiten___FastICA | dim_reduction_choice in {'FastICA'}\n",
      "    whiten___IncrementalPCA | dim_reduction_choice in {'IncrementalPCA'}\n",
      "    whiten___PCA | dim_reduction_choice in {'PCA'}\n",
      "  Forbidden Clauses:\n",
      "    (Forbidden: linkage___AgglomerativeClustering == 'ward' && Forbidden: affinity___AgglomerativeClustering in {'cityblock', 'cosine', 'l1', 'l2', 'manhattan'})\n",
      "\n"
     ]
    },
    {
     "name": "stderr",
     "output_type": "stream",
     "text": [
      "/home/coffeetumbler/automl_2019/autocluster/utils/metafeatures.py:43: FutureWarning: elementwise comparison failed; returning scalar instead, but in the future will perform elementwise comparison\n",
      "  return (np.count_nonzero(X == '') + np.count_nonzero(X == 0)) / X.size\n",
      "/home/coffeetumbler/automl_2019/autocluster/utils/metafeatures.py:35: FutureWarning: elementwise comparison failed; returning scalar instead, but in the future will perform elementwise comparison\n",
      "  return np.count_nonzero(X == None) + np.count_nonzero(X == '')\n",
      "/home/coffeetumbler/anaconda3/envs/automl/lib/python3.5/site-packages/numpy/lib/function_base.py:2530: RuntimeWarning: invalid value encountered in true_divide\n",
      "  c /= stddev[:, None]\n",
      "/home/coffeetumbler/anaconda3/envs/automl/lib/python3.5/site-packages/numpy/lib/function_base.py:2531: RuntimeWarning: invalid value encountered in true_divide\n",
      "  c /= stddev[None, :]\n"
     ]
    },
    {
     "name": "stdout",
     "output_type": "stream",
     "text": [
      "Found 60 relevant intial configurations from warmstarter.\n",
      "Truncated n_evaluations: 100\n",
      "{'cutoff_time': 20, 'cs': Configuration space object:\n",
      "  Hyperparameters:\n",
      "    affinity___AffinityPropagation, Type: Categorical, Choices: {euclidean}, Default: euclidean\n",
      "    affinity___AgglomerativeClustering, Type: Categorical, Choices: {euclidean, cityblock, l2, l1, manhattan, cosine}, Default: euclidean\n",
      "    affinity___SpectralClustering, Type: Categorical, Choices: {nearest_neighbors, poly, sigmoid, laplacian, rbf}, Default: rbf\n",
      "    algorithm___FastICA, Type: Categorical, Choices: {parallel, deflation}, Default: parallel\n",
      "    algorithm___TruncatedSVD, Type: Categorical, Choices: {arpack, randomized}, Default: randomized\n",
      "    assign_labels___SpectralClustering, Type: Categorical, Choices: {kmeans, discretize}, Default: kmeans\n",
      "    bandwidth___MeanShift, Type: UniformFloat, Range: [0.1, 50.0], Default: 25.05\n",
      "    batch_size___IncrementalPCA, Type: UniformInteger, Range: [10, 1000], Default: 100\n",
      "    batch_size___MiniBatchKMeans, Type: UniformInteger, Range: [10, 1000], Default: 100\n",
      "    bin_seeding___MeanShift, Type: Categorical, Choices: {True, False}, Default: False\n",
      "    branching_factor___Birch, Type: UniformInteger, Range: [10, 1000], Default: 50\n",
      "    cluster_method___OPTICS, Type: Categorical, Choices: {xi, dbscan}, Default: xi\n",
      "    clustering_choice, Type: Categorical, Choices: {KMeans, GaussianMixture, Birch, MiniBatchKMeans, AgglomerativeClustering, OPTICS, SpectralClustering, DBSCAN, AffinityPropagation, MeanShift}, Default: KMeans\n",
      "    covariance_type___GaussianMixture, Type: Categorical, Choices: {full, tied, diag, spherical}, Default: full\n",
      "    damping___AffinityPropagation, Type: UniformFloat, Range: [0.5, 1.0], Default: 0.5\n",
      "    dim_reduction_choice, Type: Categorical, Choices: {TSNE, PCA, IncrementalPCA, KernelPCA, FastICA, TruncatedSVD}, Default: TSNE\n",
      "    early_exaggeration___TSNE, Type: UniformFloat, Range: [5.0, 20.0], Default: 12.0\n",
      "    eigen_solver___SpectralClustering, Type: Categorical, Choices: {arpack}, Default: arpack\n",
      "    eps___DBSCAN, Type: UniformFloat, Range: [0.01, 5.0], Default: 0.01\n",
      "    fun___FastICA, Type: Categorical, Choices: {logcosh, exp, cube}, Default: logcosh\n",
      "    init_params___GaussianMixture, Type: Categorical, Choices: {kmeans, random}, Default: kmeans\n",
      "    kernel___KernelPCA, Type: Categorical, Choices: {linear, poly, rbf, sigmoid, cosine}, Default: linear\n",
      "    linkage___AgglomerativeClustering, Type: Categorical, Choices: {ward, complete, average, single}, Default: complete\n",
      "    metric___OPTICS, Type: Categorical, Choices: {minkowski, euclidean, manhattan, l1, l2, cosine}, Default: minkowski\n",
      "    min_samples___DBSCAN, Type: UniformInteger, Range: [5, 100], Default: 5\n",
      "    min_samples___OPTICS, Type: UniformInteger, Range: [5, 1000], Default: 100\n",
      "    n_clusters___AgglomerativeClustering, Type: UniformInteger, Range: [1, 80], Default: 10\n",
      "    n_clusters___Birch, Type: UniformInteger, Range: [1, 80], Default: 5\n",
      "    n_clusters___KMeans, Type: UniformInteger, Range: [1, 80], Default: 5\n",
      "    n_clusters___MiniBatchKMeans, Type: UniformInteger, Range: [1, 80], Default: 10\n",
      "    n_clusters___SpectralClustering, Type: UniformInteger, Range: [1, 80], Default: 10\n",
      "    n_components___FastICA, Type: Ordinal, Sequence: {2, 3}, Default: 2\n",
      "    n_components___GaussianMixture, Type: UniformInteger, Range: [1, 80], Default: 5\n",
      "    n_components___IncrementalPCA, Type: Ordinal, Sequence: {2, 3}, Default: 2\n",
      "    n_components___KernelPCA, Type: Ordinal, Sequence: {2, 3, 4, 5, 6, 7, 8, 9}, Default: 2\n",
      "    n_components___PCA, Type: Ordinal, Sequence: {2, 3}, Default: 2\n",
      "    n_components___TSNE, Type: Ordinal, Sequence: {2}, Default: 2\n",
      "    n_components___TruncatedSVD, Type: Ordinal, Sequence: {2, 3, 4, 5, 6, 7, 8, 9}, Default: 2\n",
      "    perplexity___TSNE, Type: UniformFloat, Range: [1.0, 300.0], Default: 30.0\n",
      "    svd_solver___PCA, Type: Categorical, Choices: {auto, full, arpack, randomized}, Default: auto\n",
      "    warm_start___GaussianMixture, Type: Categorical, Choices: {True, False}, Default: False\n",
      "    whiten___FastICA, Type: Categorical, Choices: {True, False}, Default: True\n",
      "    whiten___IncrementalPCA, Type: Categorical, Choices: {True, False}, Default: False\n",
      "    whiten___PCA, Type: Categorical, Choices: {True, False}, Default: False\n",
      "  Conditions:\n",
      "    affinity___AffinityPropagation | clustering_choice in {'AffinityPropagation'}\n",
      "    affinity___AgglomerativeClustering | clustering_choice in {'AgglomerativeClustering'}\n",
      "    affinity___SpectralClustering | clustering_choice in {'SpectralClustering'}\n",
      "    algorithm___FastICA | dim_reduction_choice in {'FastICA'}\n",
      "    algorithm___TruncatedSVD | dim_reduction_choice in {'TruncatedSVD'}\n",
      "    assign_labels___SpectralClustering | clustering_choice in {'SpectralClustering'}\n",
      "    bandwidth___MeanShift | clustering_choice in {'MeanShift'}\n",
      "    batch_size___IncrementalPCA | dim_reduction_choice in {'IncrementalPCA'}\n",
      "    batch_size___MiniBatchKMeans | clustering_choice in {'MiniBatchKMeans'}\n",
      "    bin_seeding___MeanShift | clustering_choice in {'MeanShift'}\n",
      "    branching_factor___Birch | clustering_choice in {'Birch'}\n",
      "    cluster_method___OPTICS | clustering_choice in {'OPTICS'}\n",
      "    covariance_type___GaussianMixture | clustering_choice in {'GaussianMixture'}\n",
      "    damping___AffinityPropagation | clustering_choice in {'AffinityPropagation'}\n",
      "    early_exaggeration___TSNE | dim_reduction_choice in {'TSNE'}\n",
      "    eigen_solver___SpectralClustering | clustering_choice in {'SpectralClustering'}\n",
      "    eps___DBSCAN | clustering_choice in {'DBSCAN'}\n",
      "    fun___FastICA | dim_reduction_choice in {'FastICA'}\n",
      "    init_params___GaussianMixture | clustering_choice in {'GaussianMixture'}\n",
      "    kernel___KernelPCA | dim_reduction_choice in {'KernelPCA'}\n",
      "    linkage___AgglomerativeClustering | clustering_choice in {'AgglomerativeClustering'}\n",
      "    metric___OPTICS | clustering_choice in {'OPTICS'}\n",
      "    min_samples___DBSCAN | clustering_choice in {'DBSCAN'}\n",
      "    min_samples___OPTICS | clustering_choice in {'OPTICS'}\n",
      "    n_clusters___AgglomerativeClustering | clustering_choice in {'AgglomerativeClustering'}\n",
      "    n_clusters___Birch | clustering_choice in {'Birch'}\n",
      "    n_clusters___KMeans | clustering_choice in {'KMeans'}\n",
      "    n_clusters___MiniBatchKMeans | clustering_choice in {'MiniBatchKMeans'}\n",
      "    n_clusters___SpectralClustering | clustering_choice in {'SpectralClustering'}\n",
      "    n_components___FastICA | dim_reduction_choice in {'FastICA'}\n",
      "    n_components___GaussianMixture | clustering_choice in {'GaussianMixture'}\n",
      "    n_components___IncrementalPCA | dim_reduction_choice in {'IncrementalPCA'}\n",
      "    n_components___KernelPCA | dim_reduction_choice in {'KernelPCA'}\n",
      "    n_components___PCA | dim_reduction_choice in {'PCA'}\n",
      "    n_components___TSNE | dim_reduction_choice in {'TSNE'}\n",
      "    n_components___TruncatedSVD | dim_reduction_choice in {'TruncatedSVD'}\n",
      "    perplexity___TSNE | dim_reduction_choice in {'TSNE'}\n",
      "    svd_solver___PCA | dim_reduction_choice in {'PCA'}\n",
      "    warm_start___GaussianMixture | clustering_choice in {'GaussianMixture'}\n",
      "    whiten___FastICA | dim_reduction_choice in {'FastICA'}\n",
      "    whiten___IncrementalPCA | dim_reduction_choice in {'IncrementalPCA'}\n",
      "    whiten___PCA | dim_reduction_choice in {'PCA'}\n",
      "  Forbidden Clauses:\n",
      "    (Forbidden: linkage___AgglomerativeClustering == 'ward' && Forbidden: affinity___AgglomerativeClustering in {'cityblock', 'cosine', 'l1', 'l2', 'manhattan'})\n",
      ", 'deterministic': 'true', 'output_dir': 'log//smac-2019-07-29_14-33-55-08613', 'abort_on_first_run_crash': False, 'runcount-limit': 100, 'run_obj': 'quality'}\n"
     ]
    },
    {
     "name": "stderr",
     "output_type": "stream",
     "text": [
      "/home/coffeetumbler/anaconda3/envs/automl/lib/python3.5/site-packages/numpy/lib/function_base.py:2530: RuntimeWarning: invalid value encountered in true_divide\n",
      "  c /= stddev[:, None]\n",
      "/home/coffeetumbler/anaconda3/envs/automl/lib/python3.5/site-packages/numpy/lib/function_base.py:2531: RuntimeWarning: invalid value encountered in true_divide\n",
      "  c /= stddev[None, :]\n"
     ]
    },
    {
     "name": "stdout",
     "output_type": "stream",
     "text": [
      "Fitting configuration: \n",
      "{'clustering_choice': 'KMeans', 'kernel___KernelPCA': 'poly', 'dim_reduction_choice': 'KernelPCA', 'n_clusters___KMeans': 4, 'n_components___KernelPCA': 2}\n",
      "Score obtained by this configuration: inf\n"
     ]
    },
    {
     "name": "stderr",
     "output_type": "stream",
     "text": [
      "WARNING:smac.tae.execute_func.ExecuteTAFuncDict:Target Algorithm returned NaN or inf as quality. Algorithm run is treated as CRASHED, cost is set to 2147483647.0 for quality scenarios. (Change value through \"cost_for_crash\"-option.)\n"
     ]
    },
    {
     "name": "stdout",
     "output_type": "stream",
     "text": [
      "Fitting configuration: \n",
      "{'clustering_choice': 'Birch', 'dim_reduction_choice': 'KernelPCA', 'n_components___KernelPCA': 2, 'branching_factor___Birch': 10, 'kernel___KernelPCA': 'poly', 'n_clusters___Birch': 5}\n"
     ]
    },
    {
     "name": "stderr",
     "output_type": "stream",
     "text": [
      "/home/coffeetumbler/anaconda3/envs/automl/lib/python3.5/site-packages/sklearn/cluster/birch.py:627: ConvergenceWarning: Number of subclusters found (3) by Birch is less than (5). Decrease the threshold.\n",
      "  % (len(centroids), self.n_clusters), ConvergenceWarning)\n",
      "/home/coffeetumbler/anaconda3/envs/automl/lib/python3.5/site-packages/sklearn/cluster/birch.py:627: ConvergenceWarning: Number of subclusters found (1) by Birch is less than (5). Decrease the threshold.\n",
      "  % (len(centroids), self.n_clusters), ConvergenceWarning)\n"
     ]
    },
    {
     "name": "stdout",
     "output_type": "stream",
     "text": [
      "Score obtained by this configuration: inf\n"
     ]
    },
    {
     "name": "stderr",
     "output_type": "stream",
     "text": [
      "WARNING:smac.tae.execute_func.ExecuteTAFuncDict:Target Algorithm returned NaN or inf as quality. Algorithm run is treated as CRASHED, cost is set to 2147483647.0 for quality scenarios. (Change value through \"cost_for_crash\"-option.)\n"
     ]
    },
    {
     "name": "stdout",
     "output_type": "stream",
     "text": [
      "Fitting configuration: \n",
      "{'clustering_choice': 'Birch', 'dim_reduction_choice': 'KernelPCA', 'n_components___KernelPCA': 2, 'branching_factor___Birch': 32, 'kernel___KernelPCA': 'poly', 'n_clusters___Birch': 5}\n"
     ]
    },
    {
     "name": "stderr",
     "output_type": "stream",
     "text": [
      "/home/coffeetumbler/anaconda3/envs/automl/lib/python3.5/site-packages/sklearn/cluster/birch.py:627: ConvergenceWarning: Number of subclusters found (3) by Birch is less than (5). Decrease the threshold.\n",
      "  % (len(centroids), self.n_clusters), ConvergenceWarning)\n",
      "/home/coffeetumbler/anaconda3/envs/automl/lib/python3.5/site-packages/sklearn/cluster/birch.py:627: ConvergenceWarning: Number of subclusters found (1) by Birch is less than (5). Decrease the threshold.\n",
      "  % (len(centroids), self.n_clusters), ConvergenceWarning)\n"
     ]
    },
    {
     "name": "stdout",
     "output_type": "stream",
     "text": [
      "Score obtained by this configuration: inf\n"
     ]
    },
    {
     "name": "stderr",
     "output_type": "stream",
     "text": [
      "WARNING:smac.tae.execute_func.ExecuteTAFuncDict:Target Algorithm returned NaN or inf as quality. Algorithm run is treated as CRASHED, cost is set to 2147483647.0 for quality scenarios. (Change value through \"cost_for_crash\"-option.)\n"
     ]
    },
    {
     "name": "stdout",
     "output_type": "stream",
     "text": [
      "Fitting configuration: \n",
      "{'clustering_choice': 'Birch', 'dim_reduction_choice': 'KernelPCA', 'n_components___KernelPCA': 2, 'branching_factor___Birch': 64, 'kernel___KernelPCA': 'poly', 'n_clusters___Birch': 5}\n"
     ]
    },
    {
     "name": "stderr",
     "output_type": "stream",
     "text": [
      "/home/coffeetumbler/anaconda3/envs/automl/lib/python3.5/site-packages/sklearn/cluster/birch.py:627: ConvergenceWarning: Number of subclusters found (3) by Birch is less than (5). Decrease the threshold.\n",
      "  % (len(centroids), self.n_clusters), ConvergenceWarning)\n",
      "/home/coffeetumbler/anaconda3/envs/automl/lib/python3.5/site-packages/sklearn/cluster/birch.py:627: ConvergenceWarning: Number of subclusters found (1) by Birch is less than (5). Decrease the threshold.\n",
      "  % (len(centroids), self.n_clusters), ConvergenceWarning)\n"
     ]
    },
    {
     "name": "stdout",
     "output_type": "stream",
     "text": [
      "Score obtained by this configuration: inf\n"
     ]
    },
    {
     "name": "stderr",
     "output_type": "stream",
     "text": [
      "WARNING:smac.tae.execute_func.ExecuteTAFuncDict:Target Algorithm returned NaN or inf as quality. Algorithm run is treated as CRASHED, cost is set to 2147483647.0 for quality scenarios. (Change value through \"cost_for_crash\"-option.)\n"
     ]
    },
    {
     "name": "stdout",
     "output_type": "stream",
     "text": [
      "Fitting configuration: \n",
      "{'clustering_choice': 'Birch', 'dim_reduction_choice': 'KernelPCA', 'n_components___KernelPCA': 2, 'branching_factor___Birch': 10, 'kernel___KernelPCA': 'poly', 'n_clusters___Birch': 6}\n"
     ]
    },
    {
     "name": "stderr",
     "output_type": "stream",
     "text": [
      "/home/coffeetumbler/anaconda3/envs/automl/lib/python3.5/site-packages/sklearn/cluster/birch.py:627: ConvergenceWarning: Number of subclusters found (3) by Birch is less than (6). Decrease the threshold.\n",
      "  % (len(centroids), self.n_clusters), ConvergenceWarning)\n",
      "/home/coffeetumbler/anaconda3/envs/automl/lib/python3.5/site-packages/sklearn/cluster/birch.py:627: ConvergenceWarning: Number of subclusters found (1) by Birch is less than (6). Decrease the threshold.\n",
      "  % (len(centroids), self.n_clusters), ConvergenceWarning)\n"
     ]
    },
    {
     "name": "stdout",
     "output_type": "stream",
     "text": [
      "Score obtained by this configuration: inf\n"
     ]
    },
    {
     "name": "stderr",
     "output_type": "stream",
     "text": [
      "WARNING:smac.tae.execute_func.ExecuteTAFuncDict:Target Algorithm returned NaN or inf as quality. Algorithm run is treated as CRASHED, cost is set to 2147483647.0 for quality scenarios. (Change value through \"cost_for_crash\"-option.)\n"
     ]
    },
    {
     "name": "stdout",
     "output_type": "stream",
     "text": [
      "Fitting configuration: \n",
      "{'clustering_choice': 'SpectralClustering', 'affinity___SpectralClustering': 'laplacian', 'dim_reduction_choice': 'KernelPCA', 'n_components___KernelPCA': 2, 'assign_labels___SpectralClustering': 'kmeans', 'n_clusters___SpectralClustering': 9, 'kernel___KernelPCA': 'poly', 'eigen_solver___SpectralClustering': 'arpack'}\n"
     ]
    },
    {
     "name": "stderr",
     "output_type": "stream",
     "text": [
      "/home/coffeetumbler/anaconda3/envs/automl/lib/python3.5/site-packages/sklearn/cluster/spectral.py:268: ConvergenceWarning: Number of distinct clusters (8) found smaller than n_clusters (9). Possibly due to duplicate points in X.\n",
      "  n_init=n_init)\n",
      "/home/coffeetumbler/anaconda3/envs/automl/lib/python3.5/site-packages/sklearn/cluster/spectral.py:268: ConvergenceWarning: Number of distinct clusters (8) found smaller than n_clusters (9). Possibly due to duplicate points in X.\n",
      "  n_init=n_init)\n",
      "/home/coffeetumbler/anaconda3/envs/automl/lib/python3.5/site-packages/sklearn/cluster/spectral.py:268: ConvergenceWarning: Number of distinct clusters (2) found smaller than n_clusters (9). Possibly due to duplicate points in X.\n",
      "  n_init=n_init)\n"
     ]
    },
    {
     "name": "stdout",
     "output_type": "stream",
     "text": [
      "Score obtained by this configuration: inf\n"
     ]
    },
    {
     "name": "stderr",
     "output_type": "stream",
     "text": [
      "WARNING:smac.tae.execute_func.ExecuteTAFuncDict:Target Algorithm returned NaN or inf as quality. Algorithm run is treated as CRASHED, cost is set to 2147483647.0 for quality scenarios. (Change value through \"cost_for_crash\"-option.)\n"
     ]
    },
    {
     "name": "stdout",
     "output_type": "stream",
     "text": [
      "Fitting configuration: \n",
      "{'clustering_choice': 'SpectralClustering', 'affinity___SpectralClustering': 'laplacian', 'dim_reduction_choice': 'KernelPCA', 'n_components___KernelPCA': 2, 'assign_labels___SpectralClustering': 'kmeans', 'n_clusters___SpectralClustering': 11, 'kernel___KernelPCA': 'poly', 'eigen_solver___SpectralClustering': 'arpack'}\n"
     ]
    },
    {
     "name": "stderr",
     "output_type": "stream",
     "text": [
      "/home/coffeetumbler/anaconda3/envs/automl/lib/python3.5/site-packages/sklearn/cluster/spectral.py:268: ConvergenceWarning: Number of distinct clusters (10) found smaller than n_clusters (11). Possibly due to duplicate points in X.\n",
      "  n_init=n_init)\n",
      "/home/coffeetumbler/anaconda3/envs/automl/lib/python3.5/site-packages/sklearn/cluster/spectral.py:268: ConvergenceWarning: Number of distinct clusters (10) found smaller than n_clusters (11). Possibly due to duplicate points in X.\n",
      "  n_init=n_init)\n",
      "/home/coffeetumbler/anaconda3/envs/automl/lib/python3.5/site-packages/sklearn/cluster/spectral.py:268: ConvergenceWarning: Number of distinct clusters (2) found smaller than n_clusters (11). Possibly due to duplicate points in X.\n",
      "  n_init=n_init)\n"
     ]
    },
    {
     "name": "stdout",
     "output_type": "stream",
     "text": [
      "Score obtained by this configuration: inf\n"
     ]
    },
    {
     "name": "stderr",
     "output_type": "stream",
     "text": [
      "WARNING:smac.tae.execute_func.ExecuteTAFuncDict:Target Algorithm returned NaN or inf as quality. Algorithm run is treated as CRASHED, cost is set to 2147483647.0 for quality scenarios. (Change value through \"cost_for_crash\"-option.)\n"
     ]
    },
    {
     "name": "stdout",
     "output_type": "stream",
     "text": [
      "Fitting configuration: \n",
      "{'clustering_choice': 'SpectralClustering', 'affinity___SpectralClustering': 'laplacian', 'dim_reduction_choice': 'KernelPCA', 'n_components___KernelPCA': 2, 'assign_labels___SpectralClustering': 'discretize', 'n_clusters___SpectralClustering': 13, 'kernel___KernelPCA': 'poly', 'eigen_solver___SpectralClustering': 'arpack'}\n",
      "Score obtained by this configuration: inf\n"
     ]
    },
    {
     "name": "stderr",
     "output_type": "stream",
     "text": [
      "WARNING:smac.tae.execute_func.ExecuteTAFuncDict:Target Algorithm returned NaN or inf as quality. Algorithm run is treated as CRASHED, cost is set to 2147483647.0 for quality scenarios. (Change value through \"cost_for_crash\"-option.)\n"
     ]
    },
    {
     "name": "stdout",
     "output_type": "stream",
     "text": [
      "Fitting configuration: \n",
      "{'clustering_choice': 'OPTICS', 'dim_reduction_choice': 'KernelPCA', 'metric___OPTICS': 'l1', 'min_samples___OPTICS': 787, 'cluster_method___OPTICS': 'dbscan', 'kernel___KernelPCA': 'poly', 'n_components___KernelPCA': 4}\n"
     ]
    },
    {
     "name": "stderr",
     "output_type": "stream",
     "text": [
      "Process pynisher function call:\n",
      "Traceback (most recent call last):\n",
      "  File \"/home/coffeetumbler/anaconda3/envs/automl/lib/python3.5/multiprocessing/process.py\", line 252, in _bootstrap\n",
      "    self.run()\n",
      "  File \"/home/coffeetumbler/anaconda3/envs/automl/lib/python3.5/multiprocessing/process.py\", line 93, in run\n",
      "    self._target(*self._args, **self._kwargs)\n",
      "  File \"/home/coffeetumbler/anaconda3/envs/automl/lib/python3.5/site-packages/pynisher/limit_function_call.py\", line 93, in subprocess_func\n",
      "    return_value = ((func(*args, **kwargs), 0))\n",
      "  File \"/home/coffeetumbler/automl_2019/autocluster/autocluster.py\", line 249, in evaluate_model\n",
      "    y_pred = clustering_model.fit_predict(compressed_valid_data)\n",
      "  File \"/home/coffeetumbler/anaconda3/envs/automl/lib/python3.5/site-packages/sklearn/base.py\", line 447, in fit_predict\n",
      "    self.fit(X)\n",
      "  File \"/home/coffeetumbler/anaconda3/envs/automl/lib/python3.5/site-packages/sklearn/cluster/optics_.py\", line 248, in fit\n",
      "    max_eps=self.max_eps)\n",
      "  File \"/home/coffeetumbler/anaconda3/envs/automl/lib/python3.5/site-packages/sklearn/cluster/optics_.py\", line 438, in compute_optics_graph\n",
      "    _validate_size(min_samples, n_samples, 'min_samples')\n",
      "  File \"/home/coffeetumbler/anaconda3/envs/automl/lib/python3.5/site-packages/sklearn/cluster/optics_.py\", line 290, in _validate_size\n",
      "    (param_name, n_samples, size))\n",
      "ValueError: min_samples must be no greater than the number of samples (490). Got 787\n"
     ]
    },
    {
     "name": "stdout",
     "output_type": "stream",
     "text": [
      "Fitting configuration: \n",
      "{'clustering_choice': 'SpectralClustering', 'affinity___SpectralClustering': 'laplacian', 'dim_reduction_choice': 'KernelPCA', 'n_components___KernelPCA': 7, 'assign_labels___SpectralClustering': 'kmeans', 'n_clusters___SpectralClustering': 10, 'kernel___KernelPCA': 'poly', 'eigen_solver___SpectralClustering': 'arpack'}\n",
      "Score obtained by this configuration: inf\n"
     ]
    },
    {
     "name": "stderr",
     "output_type": "stream",
     "text": [
      "WARNING:smac.tae.execute_func.ExecuteTAFuncDict:Target Algorithm returned NaN or inf as quality. Algorithm run is treated as CRASHED, cost is set to 2147483647.0 for quality scenarios. (Change value through \"cost_for_crash\"-option.)\n"
     ]
    },
    {
     "name": "stdout",
     "output_type": "stream",
     "text": [
      "Fitting configuration: \n",
      "{'clustering_choice': 'Birch', 'dim_reduction_choice': 'KernelPCA', 'n_components___KernelPCA': 5, 'branching_factor___Birch': 83, 'kernel___KernelPCA': 'poly', 'n_clusters___Birch': 9}\n"
     ]
    },
    {
     "name": "stderr",
     "output_type": "stream",
     "text": [
      "/home/coffeetumbler/anaconda3/envs/automl/lib/python3.5/site-packages/sklearn/cluster/birch.py:627: ConvergenceWarning: Number of subclusters found (8) by Birch is less than (9). Decrease the threshold.\n",
      "  % (len(centroids), self.n_clusters), ConvergenceWarning)\n",
      "/home/coffeetumbler/anaconda3/envs/automl/lib/python3.5/site-packages/sklearn/cluster/birch.py:627: ConvergenceWarning: Number of subclusters found (1) by Birch is less than (9). Decrease the threshold.\n",
      "  % (len(centroids), self.n_clusters), ConvergenceWarning)\n"
     ]
    },
    {
     "name": "stdout",
     "output_type": "stream",
     "text": [
      "Score obtained by this configuration: inf\n"
     ]
    },
    {
     "name": "stderr",
     "output_type": "stream",
     "text": [
      "WARNING:smac.tae.execute_func.ExecuteTAFuncDict:Target Algorithm returned NaN or inf as quality. Algorithm run is treated as CRASHED, cost is set to 2147483647.0 for quality scenarios. (Change value through \"cost_for_crash\"-option.)\n"
     ]
    },
    {
     "name": "stdout",
     "output_type": "stream",
     "text": [
      "Fitting configuration: \n",
      "{'clustering_choice': 'AgglomerativeClustering', 'dim_reduction_choice': 'KernelPCA', 'affinity___AgglomerativeClustering': 'l2', 'kernel___KernelPCA': 'poly', 'linkage___AgglomerativeClustering': 'average', 'n_clusters___AgglomerativeClustering': 15, 'n_components___KernelPCA': 8}\n",
      "Score obtained by this configuration: inf\n"
     ]
    },
    {
     "name": "stderr",
     "output_type": "stream",
     "text": [
      "WARNING:smac.tae.execute_func.ExecuteTAFuncDict:Target Algorithm returned NaN or inf as quality. Algorithm run is treated as CRASHED, cost is set to 2147483647.0 for quality scenarios. (Change value through \"cost_for_crash\"-option.)\n"
     ]
    },
    {
     "name": "stdout",
     "output_type": "stream",
     "text": [
      "Fitting configuration: \n",
      "{'clustering_choice': 'KMeans', 'kernel___KernelPCA': 'poly', 'dim_reduction_choice': 'KernelPCA', 'n_clusters___KMeans': 15, 'n_components___KernelPCA': 2}\n",
      "Score obtained by this configuration: inf\n"
     ]
    },
    {
     "name": "stderr",
     "output_type": "stream",
     "text": [
      "WARNING:smac.tae.execute_func.ExecuteTAFuncDict:Target Algorithm returned NaN or inf as quality. Algorithm run is treated as CRASHED, cost is set to 2147483647.0 for quality scenarios. (Change value through \"cost_for_crash\"-option.)\n"
     ]
    },
    {
     "name": "stdout",
     "output_type": "stream",
     "text": [
      "Fitting configuration: \n",
      "{'clustering_choice': 'Birch', 'dim_reduction_choice': 'PCA', 'branching_factor___Birch': 50, 'svd_solver___PCA': 'auto', 'n_clusters___Birch': 3, 'n_components___PCA': 2}\n",
      "Score obtained by this configuration: 0.35589395268192936\n",
      "Fitting configuration: \n",
      "{'clustering_choice': 'MiniBatchKMeans', 'n_components___TSNE': 2, 'dim_reduction_choice': 'TSNE', 'early_exaggeration___TSNE': 6.112145599966696, 'batch_size___MiniBatchKMeans': 773, 'perplexity___TSNE': 250.7576475481927, 'n_clusters___MiniBatchKMeans': 10}\n",
      "Fitting configuration: \n",
      "{'clustering_choice': 'SpectralClustering', 'affinity___SpectralClustering': 'rbf', 'dim_reduction_choice': 'TSNE', 'early_exaggeration___TSNE': 12.86122333165967, 'n_clusters___SpectralClustering': 3, 'assign_labels___SpectralClustering': 'kmeans', 'perplexity___TSNE': 237.68038043104409, 'eigen_solver___SpectralClustering': 'arpack', 'n_components___TSNE': 2}\n",
      "Fitting configuration: \n",
      "{'clustering_choice': 'MiniBatchKMeans', 'n_components___TSNE': 2, 'dim_reduction_choice': 'TSNE', 'early_exaggeration___TSNE': 5.92345241675155, 'batch_size___MiniBatchKMeans': 891, 'perplexity___TSNE': 234.05607785844984, 'n_clusters___MiniBatchKMeans': 20}\n",
      "Fitting configuration: \n",
      "{'clustering_choice': 'KMeans', 'fun___FastICA': 'cube', 'dim_reduction_choice': 'FastICA', 'whiten___FastICA': True, 'n_components___FastICA': 2, 'n_clusters___KMeans': 3, 'algorithm___FastICA': 'parallel'}\n",
      "Score obtained by this configuration: 0.3194983562234932\n",
      "Fitting configuration: \n",
      "{'clustering_choice': 'DBSCAN', 'dim_reduction_choice': 'TruncatedSVD', 'algorithm___TruncatedSVD': 'randomized', 'eps___DBSCAN': 3.3348244742189315, 'n_components___TruncatedSVD': 3, 'min_samples___DBSCAN': 74}\n",
      "Score obtained by this configuration: 0.4770587082743692\n",
      "Fitting configuration: \n",
      "{'clustering_choice': 'OPTICS', 'dim_reduction_choice': 'KernelPCA', 'metric___OPTICS': 'minkowski', 'min_samples___OPTICS': 788, 'cluster_method___OPTICS': 'xi', 'kernel___KernelPCA': 'poly', 'n_components___KernelPCA': 7}\n"
     ]
    },
    {
     "name": "stderr",
     "output_type": "stream",
     "text": [
      "Process pynisher function call:\n",
      "Traceback (most recent call last):\n",
      "  File \"/home/coffeetumbler/anaconda3/envs/automl/lib/python3.5/multiprocessing/process.py\", line 252, in _bootstrap\n",
      "    self.run()\n",
      "  File \"/home/coffeetumbler/anaconda3/envs/automl/lib/python3.5/multiprocessing/process.py\", line 93, in run\n",
      "    self._target(*self._args, **self._kwargs)\n",
      "  File \"/home/coffeetumbler/anaconda3/envs/automl/lib/python3.5/site-packages/pynisher/limit_function_call.py\", line 93, in subprocess_func\n",
      "    return_value = ((func(*args, **kwargs), 0))\n",
      "  File \"/home/coffeetumbler/automl_2019/autocluster/autocluster.py\", line 249, in evaluate_model\n",
      "    y_pred = clustering_model.fit_predict(compressed_valid_data)\n",
      "  File \"/home/coffeetumbler/anaconda3/envs/automl/lib/python3.5/site-packages/sklearn/base.py\", line 447, in fit_predict\n",
      "    self.fit(X)\n",
      "  File \"/home/coffeetumbler/anaconda3/envs/automl/lib/python3.5/site-packages/sklearn/cluster/optics_.py\", line 248, in fit\n",
      "    max_eps=self.max_eps)\n",
      "  File \"/home/coffeetumbler/anaconda3/envs/automl/lib/python3.5/site-packages/sklearn/cluster/optics_.py\", line 438, in compute_optics_graph\n",
      "    _validate_size(min_samples, n_samples, 'min_samples')\n",
      "  File \"/home/coffeetumbler/anaconda3/envs/automl/lib/python3.5/site-packages/sklearn/cluster/optics_.py\", line 290, in _validate_size\n",
      "    (param_name, n_samples, size))\n",
      "ValueError: min_samples must be no greater than the number of samples (490). Got 788\n"
     ]
    },
    {
     "name": "stdout",
     "output_type": "stream",
     "text": [
      "Fitting configuration: \n",
      "{'clustering_choice': 'KMeans', 'kernel___KernelPCA': 'cosine', 'dim_reduction_choice': 'KernelPCA', 'n_clusters___KMeans': 29, 'n_components___KernelPCA': 3}\n",
      "Score obtained by this configuration: 0.39124554619729707\n",
      "Fitting configuration: \n",
      "{'clustering_choice': 'AffinityPropagation', 'dim_reduction_choice': 'KernelPCA', 'damping___AffinityPropagation': 0.8279287395007919, 'n_components___KernelPCA': 3, 'kernel___KernelPCA': 'cosine', 'affinity___AffinityPropagation': 'euclidean'}\n",
      "Score obtained by this configuration: 0.3863328265440651\n",
      "Fitting configuration: \n",
      "{'clustering_choice': 'MiniBatchKMeans', 'dim_reduction_choice': 'KernelPCA', 'n_components___KernelPCA': 2, 'batch_size___MiniBatchKMeans': 668, 'kernel___KernelPCA': 'cosine', 'n_clusters___MiniBatchKMeans': 9}\n",
      "Score obtained by this configuration: 0.32945343610460853\n",
      "Fitting configuration: \n",
      "{'clustering_choice': 'MiniBatchKMeans', 'dim_reduction_choice': 'KernelPCA', 'n_components___KernelPCA': 3, 'batch_size___MiniBatchKMeans': 362, 'kernel___KernelPCA': 'cosine', 'n_clusters___MiniBatchKMeans': 29}\n",
      "Score obtained by this configuration: 0.39193542185918573\n",
      "Fitting configuration: \n",
      "{'clustering_choice': 'MiniBatchKMeans', 'dim_reduction_choice': 'KernelPCA', 'n_components___KernelPCA': 3, 'batch_size___MiniBatchKMeans': 190, 'kernel___KernelPCA': 'cosine', 'n_clusters___MiniBatchKMeans': 22}\n",
      "Score obtained by this configuration: 0.391807642888383\n",
      "Fitting configuration: \n",
      "{'clustering_choice': 'GaussianMixture', 'covariance_type___GaussianMixture': 'tied', 'dim_reduction_choice': 'KernelPCA', 'n_components___KernelPCA': 3, 'init_params___GaussianMixture': 'kmeans', 'kernel___KernelPCA': 'cosine', 'n_components___GaussianMixture': 8}\n",
      "Score obtained by this configuration: 0.3702079180876641\n",
      "Fitting configuration: \n",
      "{'clustering_choice': 'MiniBatchKMeans', 'dim_reduction_choice': 'KernelPCA', 'n_components___KernelPCA': 7, 'batch_size___MiniBatchKMeans': 154, 'kernel___KernelPCA': 'cosine', 'n_clusters___MiniBatchKMeans': 9}\n",
      "Score obtained by this configuration: 0.4260175279486465\n",
      "Fitting configuration: \n",
      "{'clustering_choice': 'SpectralClustering', 'affinity___SpectralClustering': 'poly', 'dim_reduction_choice': 'KernelPCA', 'n_components___KernelPCA': 2, 'assign_labels___SpectralClustering': 'kmeans', 'n_clusters___SpectralClustering': 10, 'kernel___KernelPCA': 'cosine', 'eigen_solver___SpectralClustering': 'arpack'}\n",
      "Score obtained by this configuration: 0.3315439429264184\n",
      "Fitting configuration: \n",
      "{'clustering_choice': 'KMeans', 'kernel___KernelPCA': 'cosine', 'dim_reduction_choice': 'KernelPCA', 'n_clusters___KMeans': 12, 'n_components___KernelPCA': 2}\n",
      "Score obtained by this configuration: 0.32992928235625263\n",
      "Fitting configuration: \n",
      "{'clustering_choice': 'GaussianMixture', 'covariance_type___GaussianMixture': 'diag', 'dim_reduction_choice': 'TruncatedSVD', 'n_components___GaussianMixture': 9, 'init_params___GaussianMixture': 'kmeans', 'algorithm___TruncatedSVD': 'arpack', 'n_components___TruncatedSVD': 5}\n",
      "Score obtained by this configuration: 0.4142633566597648\n",
      "Fitting configuration: \n",
      "{'clustering_choice': 'MiniBatchKMeans', 'dim_reduction_choice': 'KernelPCA', 'n_components___KernelPCA': 3, 'batch_size___MiniBatchKMeans': 144, 'kernel___KernelPCA': 'cosine', 'n_clusters___MiniBatchKMeans': 11}\n",
      "Score obtained by this configuration: 0.3879738775018218\n",
      "Fitting configuration: \n",
      "{'clustering_choice': 'MiniBatchKMeans', 'dim_reduction_choice': 'KernelPCA', 'n_components___KernelPCA': 3, 'batch_size___MiniBatchKMeans': 182, 'kernel___KernelPCA': 'cosine', 'n_clusters___MiniBatchKMeans': 23}\n",
      "Score obtained by this configuration: 0.40050390082752546\n",
      "Fitting configuration: \n",
      "{'clustering_choice': 'GaussianMixture', 'covariance_type___GaussianMixture': 'tied', 'dim_reduction_choice': 'KernelPCA', 'n_components___KernelPCA': 3, 'init_params___GaussianMixture': 'kmeans', 'kernel___KernelPCA': 'cosine', 'n_components___GaussianMixture': 5}\n",
      "Score obtained by this configuration: 0.3863176319756256\n",
      "Fitting configuration: \n",
      "{'clustering_choice': 'SpectralClustering', 'affinity___SpectralClustering': 'poly', 'dim_reduction_choice': 'IncrementalPCA', 'n_clusters___SpectralClustering': 1, 'assign_labels___SpectralClustering': 'kmeans', 'n_components___IncrementalPCA': 3, 'whiten___IncrementalPCA': True, 'eigen_solver___SpectralClustering': 'arpack', 'batch_size___IncrementalPCA': 780}\n",
      "Score obtained by this configuration: inf\n"
     ]
    },
    {
     "name": "stderr",
     "output_type": "stream",
     "text": [
      "WARNING:smac.tae.execute_func.ExecuteTAFuncDict:Target Algorithm returned NaN or inf as quality. Algorithm run is treated as CRASHED, cost is set to 2147483647.0 for quality scenarios. (Change value through \"cost_for_crash\"-option.)\n"
     ]
    },
    {
     "name": "stdout",
     "output_type": "stream",
     "text": [
      "Fitting configuration: \n",
      "{'clustering_choice': 'GaussianMixture', 'covariance_type___GaussianMixture': 'diag', 'dim_reduction_choice': 'KernelPCA', 'n_components___KernelPCA': 3, 'init_params___GaussianMixture': 'kmeans', 'kernel___KernelPCA': 'cosine', 'n_components___GaussianMixture': 4}\n",
      "Score obtained by this configuration: 0.3816251665939377\n",
      "Fitting configuration: \n",
      "{'clustering_choice': 'AgglomerativeClustering', 'dim_reduction_choice': 'KernelPCA', 'affinity___AgglomerativeClustering': 'euclidean', 'kernel___KernelPCA': 'cosine', 'linkage___AgglomerativeClustering': 'ward', 'n_clusters___AgglomerativeClustering': 28, 'n_components___KernelPCA': 3}\n",
      "Score obtained by this configuration: 0.3880577369667828\n",
      "Fitting configuration: \n",
      "{'clustering_choice': 'GaussianMixture', 'covariance_type___GaussianMixture': 'diag', 'dim_reduction_choice': 'TruncatedSVD', 'n_components___GaussianMixture': 6, 'init_params___GaussianMixture': 'random', 'algorithm___TruncatedSVD': 'randomized', 'warm_start___GaussianMixture': True, 'n_components___TruncatedSVD': 8}\n",
      "Score obtained by this configuration: 0.4794176942829889\n",
      "Fitting configuration: \n",
      "{'clustering_choice': 'Birch', 'dim_reduction_choice': 'KernelPCA', 'n_components___KernelPCA': 2, 'branching_factor___Birch': 385, 'kernel___KernelPCA': 'cosine', 'n_clusters___Birch': 12}\n"
     ]
    },
    {
     "name": "stderr",
     "output_type": "stream",
     "text": [
      "/home/coffeetumbler/anaconda3/envs/automl/lib/python3.5/site-packages/sklearn/cluster/birch.py:627: ConvergenceWarning: Number of subclusters found (2) by Birch is less than (12). Decrease the threshold.\n",
      "  % (len(centroids), self.n_clusters), ConvergenceWarning)\n",
      "/home/coffeetumbler/anaconda3/envs/automl/lib/python3.5/site-packages/sklearn/cluster/birch.py:627: ConvergenceWarning: Number of subclusters found (2) by Birch is less than (12). Decrease the threshold.\n",
      "  % (len(centroids), self.n_clusters), ConvergenceWarning)\n",
      "/home/coffeetumbler/anaconda3/envs/automl/lib/python3.5/site-packages/sklearn/cluster/birch.py:627: ConvergenceWarning: Number of subclusters found (2) by Birch is less than (12). Decrease the threshold.\n",
      "  % (len(centroids), self.n_clusters), ConvergenceWarning)\n",
      "/home/coffeetumbler/anaconda3/envs/automl/lib/python3.5/site-packages/sklearn/cluster/birch.py:627: ConvergenceWarning: Number of subclusters found (4) by Birch is less than (12). Decrease the threshold.\n",
      "  % (len(centroids), self.n_clusters), ConvergenceWarning)\n",
      "/home/coffeetumbler/anaconda3/envs/automl/lib/python3.5/site-packages/sklearn/cluster/birch.py:627: ConvergenceWarning: Number of subclusters found (2) by Birch is less than (12). Decrease the threshold.\n",
      "  % (len(centroids), self.n_clusters), ConvergenceWarning)\n",
      "/home/coffeetumbler/anaconda3/envs/automl/lib/python3.5/site-packages/sklearn/cluster/birch.py:627: ConvergenceWarning: Number of subclusters found (2) by Birch is less than (12). Decrease the threshold.\n",
      "  % (len(centroids), self.n_clusters), ConvergenceWarning)\n"
     ]
    },
    {
     "name": "stdout",
     "output_type": "stream",
     "text": [
      "Score obtained by this configuration: 0.38626053934682947\n",
      "Fitting configuration: \n",
      "{'clustering_choice': 'MiniBatchKMeans', 'dim_reduction_choice': 'PCA', 'batch_size___MiniBatchKMeans': 191, 'svd_solver___PCA': 'arpack', 'n_clusters___MiniBatchKMeans': 6, 'n_components___PCA': 3}\n",
      "Score obtained by this configuration: 0.3564625361163072\n",
      "Fitting configuration: \n",
      "{'clustering_choice': 'DBSCAN', 'dim_reduction_choice': 'KernelPCA', 'n_components___KernelPCA': 2, 'kernel___KernelPCA': 'poly', 'eps___DBSCAN': 0.33357409867392923, 'min_samples___DBSCAN': 85}\n",
      "Score obtained by this configuration: inf\n"
     ]
    },
    {
     "name": "stderr",
     "output_type": "stream",
     "text": [
      "WARNING:smac.tae.execute_func.ExecuteTAFuncDict:Target Algorithm returned NaN or inf as quality. Algorithm run is treated as CRASHED, cost is set to 2147483647.0 for quality scenarios. (Change value through \"cost_for_crash\"-option.)\n"
     ]
    },
    {
     "name": "stdout",
     "output_type": "stream",
     "text": [
      "Fitting configuration: \n",
      "{'clustering_choice': 'DBSCAN', 'dim_reduction_choice': 'KernelPCA', 'n_components___KernelPCA': 3, 'kernel___KernelPCA': 'poly', 'eps___DBSCAN': 0.4911184393167958, 'min_samples___DBSCAN': 30}\n",
      "Score obtained by this configuration: inf\n"
     ]
    },
    {
     "name": "stderr",
     "output_type": "stream",
     "text": [
      "WARNING:smac.tae.execute_func.ExecuteTAFuncDict:Target Algorithm returned NaN or inf as quality. Algorithm run is treated as CRASHED, cost is set to 2147483647.0 for quality scenarios. (Change value through \"cost_for_crash\"-option.)\n"
     ]
    },
    {
     "name": "stdout",
     "output_type": "stream",
     "text": [
      "Fitting configuration: \n",
      "{'clustering_choice': 'DBSCAN', 'dim_reduction_choice': 'KernelPCA', 'n_components___KernelPCA': 3, 'kernel___KernelPCA': 'poly', 'eps___DBSCAN': 0.46609068939941084, 'min_samples___DBSCAN': 8}\n",
      "Score obtained by this configuration: inf\n"
     ]
    },
    {
     "name": "stderr",
     "output_type": "stream",
     "text": [
      "WARNING:smac.tae.execute_func.ExecuteTAFuncDict:Target Algorithm returned NaN or inf as quality. Algorithm run is treated as CRASHED, cost is set to 2147483647.0 for quality scenarios. (Change value through \"cost_for_crash\"-option.)\n"
     ]
    },
    {
     "name": "stdout",
     "output_type": "stream",
     "text": [
      "Fitting configuration: \n",
      "{'clustering_choice': 'DBSCAN', 'dim_reduction_choice': 'KernelPCA', 'n_components___KernelPCA': 3, 'kernel___KernelPCA': 'poly', 'eps___DBSCAN': 0.42763622817394803, 'min_samples___DBSCAN': 13}\n",
      "Score obtained by this configuration: inf\n"
     ]
    },
    {
     "name": "stderr",
     "output_type": "stream",
     "text": [
      "WARNING:smac.tae.execute_func.ExecuteTAFuncDict:Target Algorithm returned NaN or inf as quality. Algorithm run is treated as CRASHED, cost is set to 2147483647.0 for quality scenarios. (Change value through \"cost_for_crash\"-option.)\n"
     ]
    },
    {
     "name": "stdout",
     "output_type": "stream",
     "text": [
      "Fitting configuration: \n",
      "{'clustering_choice': 'DBSCAN', 'dim_reduction_choice': 'KernelPCA', 'n_components___KernelPCA': 3, 'kernel___KernelPCA': 'poly', 'eps___DBSCAN': 0.3597676486445218, 'min_samples___DBSCAN': 10}\n",
      "Score obtained by this configuration: inf\n"
     ]
    },
    {
     "name": "stderr",
     "output_type": "stream",
     "text": [
      "WARNING:smac.tae.execute_func.ExecuteTAFuncDict:Target Algorithm returned NaN or inf as quality. Algorithm run is treated as CRASHED, cost is set to 2147483647.0 for quality scenarios. (Change value through \"cost_for_crash\"-option.)\n"
     ]
    },
    {
     "name": "stdout",
     "output_type": "stream",
     "text": [
      "Fitting configuration: \n",
      "{'clustering_choice': 'DBSCAN', 'n_components___TSNE': 2, 'dim_reduction_choice': 'TSNE', 'early_exaggeration___TSNE': 13.486116543319527, 'eps___DBSCAN': 1.4543702868272501, 'perplexity___TSNE': 207.2286787061756, 'min_samples___DBSCAN': 73}\n",
      "Fitting configuration: \n",
      "{'clustering_choice': 'DBSCAN', 'dim_reduction_choice': 'KernelPCA', 'n_components___KernelPCA': 4, 'kernel___KernelPCA': 'poly', 'eps___DBSCAN': 0.45622940930651806, 'min_samples___DBSCAN': 25}\n",
      "Score obtained by this configuration: inf\n"
     ]
    },
    {
     "name": "stderr",
     "output_type": "stream",
     "text": [
      "WARNING:smac.tae.execute_func.ExecuteTAFuncDict:Target Algorithm returned NaN or inf as quality. Algorithm run is treated as CRASHED, cost is set to 2147483647.0 for quality scenarios. (Change value through \"cost_for_crash\"-option.)\n"
     ]
    },
    {
     "name": "stdout",
     "output_type": "stream",
     "text": [
      "Fitting configuration: \n",
      "{'clustering_choice': 'DBSCAN', 'fun___FastICA': 'exp', 'dim_reduction_choice': 'FastICA', 'whiten___FastICA': True, 'n_components___FastICA': 2, 'eps___DBSCAN': 0.04642250559297685, 'algorithm___FastICA': 'deflation', 'min_samples___DBSCAN': 28}\n",
      "Score obtained by this configuration: inf\n"
     ]
    },
    {
     "name": "stderr",
     "output_type": "stream",
     "text": [
      "WARNING:smac.tae.execute_func.ExecuteTAFuncDict:Target Algorithm returned NaN or inf as quality. Algorithm run is treated as CRASHED, cost is set to 2147483647.0 for quality scenarios. (Change value through \"cost_for_crash\"-option.)\n"
     ]
    },
    {
     "name": "stdout",
     "output_type": "stream",
     "text": [
      "Fitting configuration: \n",
      "{'clustering_choice': 'DBSCAN', 'dim_reduction_choice': 'KernelPCA', 'n_components___KernelPCA': 2, 'kernel___KernelPCA': 'sigmoid', 'eps___DBSCAN': 0.2613984466855124, 'min_samples___DBSCAN': 18}\n",
      "Score obtained by this configuration: inf\n"
     ]
    },
    {
     "name": "stderr",
     "output_type": "stream",
     "text": [
      "WARNING:smac.tae.execute_func.ExecuteTAFuncDict:Target Algorithm returned NaN or inf as quality. Algorithm run is treated as CRASHED, cost is set to 2147483647.0 for quality scenarios. (Change value through \"cost_for_crash\"-option.)\n"
     ]
    },
    {
     "name": "stdout",
     "output_type": "stream",
     "text": [
      "Fitting configuration: \n",
      "{'clustering_choice': 'DBSCAN', 'dim_reduction_choice': 'KernelPCA', 'n_components___KernelPCA': 3, 'kernel___KernelPCA': 'sigmoid', 'eps___DBSCAN': 0.4911184393167958, 'min_samples___DBSCAN': 18}\n",
      "Score obtained by this configuration: inf\n"
     ]
    },
    {
     "name": "stderr",
     "output_type": "stream",
     "text": [
      "WARNING:smac.tae.execute_func.ExecuteTAFuncDict:Target Algorithm returned NaN or inf as quality. Algorithm run is treated as CRASHED, cost is set to 2147483647.0 for quality scenarios. (Change value through \"cost_for_crash\"-option.)\n"
     ]
    },
    {
     "name": "stdout",
     "output_type": "stream",
     "text": [
      "Fitting configuration: \n",
      "{'clustering_choice': 'DBSCAN', 'dim_reduction_choice': 'KernelPCA', 'n_components___KernelPCA': 4, 'kernel___KernelPCA': 'sigmoid', 'eps___DBSCAN': 0.4431447716161244, 'min_samples___DBSCAN': 12}\n",
      "Score obtained by this configuration: inf\n"
     ]
    },
    {
     "name": "stderr",
     "output_type": "stream",
     "text": [
      "WARNING:smac.tae.execute_func.ExecuteTAFuncDict:Target Algorithm returned NaN or inf as quality. Algorithm run is treated as CRASHED, cost is set to 2147483647.0 for quality scenarios. (Change value through \"cost_for_crash\"-option.)\n"
     ]
    },
    {
     "name": "stdout",
     "output_type": "stream",
     "text": [
      "Fitting configuration: \n",
      "{'clustering_choice': 'SpectralClustering', 'affinity___SpectralClustering': 'laplacian', 'dim_reduction_choice': 'TruncatedSVD', 'eigen_solver___SpectralClustering': 'arpack', 'assign_labels___SpectralClustering': 'kmeans', 'n_clusters___SpectralClustering': 7, 'algorithm___TruncatedSVD': 'randomized', 'n_components___TruncatedSVD': 2}\n",
      "Score obtained by this configuration: 0.3298112461142641\n",
      "Fitting configuration: \n",
      "{'clustering_choice': 'DBSCAN', 'dim_reduction_choice': 'KernelPCA', 'n_components___KernelPCA': 5, 'kernel___KernelPCA': 'sigmoid', 'eps___DBSCAN': 0.4872295004818057, 'min_samples___DBSCAN': 15}\n",
      "Score obtained by this configuration: inf\n"
     ]
    },
    {
     "name": "stderr",
     "output_type": "stream",
     "text": [
      "WARNING:smac.tae.execute_func.ExecuteTAFuncDict:Target Algorithm returned NaN or inf as quality. Algorithm run is treated as CRASHED, cost is set to 2147483647.0 for quality scenarios. (Change value through \"cost_for_crash\"-option.)\n"
     ]
    },
    {
     "name": "stdout",
     "output_type": "stream",
     "text": [
      "Fitting configuration: \n",
      "{'clustering_choice': 'DBSCAN', 'dim_reduction_choice': 'IncrementalPCA', 'eps___DBSCAN': 1.2911136728166452, 'whiten___IncrementalPCA': True, 'n_components___IncrementalPCA': 3, 'min_samples___DBSCAN': 14, 'batch_size___IncrementalPCA': 566}\n",
      "Score obtained by this configuration: inf\n"
     ]
    },
    {
     "name": "stderr",
     "output_type": "stream",
     "text": [
      "WARNING:smac.tae.execute_func.ExecuteTAFuncDict:Target Algorithm returned NaN or inf as quality. Algorithm run is treated as CRASHED, cost is set to 2147483647.0 for quality scenarios. (Change value through \"cost_for_crash\"-option.)\n"
     ]
    },
    {
     "name": "stdout",
     "output_type": "stream",
     "text": [
      "Fitting configuration: \n",
      "{'clustering_choice': 'DBSCAN', 'dim_reduction_choice': 'KernelPCA', 'n_components___KernelPCA': 3, 'kernel___KernelPCA': 'sigmoid', 'eps___DBSCAN': 0.12320956350310737, 'min_samples___DBSCAN': 9}\n",
      "Score obtained by this configuration: 0.5013643757716733\n",
      "Fitting configuration: \n",
      "{'clustering_choice': 'DBSCAN', 'dim_reduction_choice': 'IncrementalPCA', 'eps___DBSCAN': 1.2410476486901236, 'min_samples___DBSCAN': 13, 'n_components___IncrementalPCA': 3, 'batch_size___IncrementalPCA': 494}\n",
      "Score obtained by this configuration: 0.47831640974460815\n",
      "Fitting configuration: \n",
      "{'clustering_choice': 'DBSCAN', 'dim_reduction_choice': 'PCA', 'whiten___PCA': True, 'eps___DBSCAN': 0.4491675983200766, 'n_components___PCA': 2, 'svd_solver___PCA': 'randomized', 'min_samples___DBSCAN': 43}\n",
      "Score obtained by this configuration: 0.4502868462154532\n",
      "Fitting configuration: \n",
      "{'clustering_choice': 'AgglomerativeClustering', 'dim_reduction_choice': 'TruncatedSVD', 'affinity___AgglomerativeClustering': 'l1', 'algorithm___TruncatedSVD': 'arpack', 'linkage___AgglomerativeClustering': 'single', 'n_components___TruncatedSVD': 7, 'n_clusters___AgglomerativeClustering': 19}\n",
      "Score obtained by this configuration: inf\n"
     ]
    },
    {
     "name": "stderr",
     "output_type": "stream",
     "text": [
      "WARNING:smac.tae.execute_func.ExecuteTAFuncDict:Target Algorithm returned NaN or inf as quality. Algorithm run is treated as CRASHED, cost is set to 2147483647.0 for quality scenarios. (Change value through \"cost_for_crash\"-option.)\n"
     ]
    },
    {
     "name": "stdout",
     "output_type": "stream",
     "text": [
      "Fitting configuration: \n",
      "{'clustering_choice': 'Birch', 'dim_reduction_choice': 'KernelPCA', 'n_components___KernelPCA': 2, 'branching_factor___Birch': 637, 'kernel___KernelPCA': 'linear', 'n_clusters___Birch': 17}\n",
      "Score obtained by this configuration: 0.34523774041096483\n",
      "Fitting configuration: \n",
      "{'clustering_choice': 'Birch', 'dim_reduction_choice': 'KernelPCA', 'n_components___KernelPCA': 2, 'branching_factor___Birch': 53, 'kernel___KernelPCA': 'linear', 'n_clusters___Birch': 8}\n",
      "Score obtained by this configuration: 0.346349273108715\n",
      "Fitting configuration: \n",
      "{'clustering_choice': 'GaussianMixture', 'covariance_type___GaussianMixture': 'full', 'dim_reduction_choice': 'KernelPCA', 'n_components___KernelPCA': 8, 'init_params___GaussianMixture': 'kmeans', 'kernel___KernelPCA': 'cosine', 'warm_start___GaussianMixture': True, 'n_components___GaussianMixture': 73}\n",
      "Score obtained by this configuration: 0.48081668482450907\n",
      "Fitting configuration: \n",
      "{'clustering_choice': 'Birch', 'dim_reduction_choice': 'KernelPCA', 'n_components___KernelPCA': 2, 'branching_factor___Birch': 731, 'kernel___KernelPCA': 'linear', 'n_clusters___Birch': 31}\n",
      "Score obtained by this configuration: 0.3388684278963611\n",
      "Fitting configuration: \n",
      "{'clustering_choice': 'KMeans', 'kernel___KernelPCA': 'linear', 'dim_reduction_choice': 'KernelPCA', 'n_clusters___KMeans': 58, 'n_components___KernelPCA': 2}\n",
      "Score obtained by this configuration: 0.3107342092058561\n",
      "Fitting configuration: \n",
      "{'clustering_choice': 'DBSCAN', 'fun___FastICA': 'cube', 'dim_reduction_choice': 'FastICA', 'whiten___FastICA': True, 'n_components___FastICA': 3, 'eps___DBSCAN': 0.3203676393525975, 'algorithm___FastICA': 'deflation', 'min_samples___DBSCAN': 5}\n",
      "Score obtained by this configuration: inf\n"
     ]
    },
    {
     "name": "stderr",
     "output_type": "stream",
     "text": [
      "WARNING:smac.tae.execute_func.ExecuteTAFuncDict:Target Algorithm returned NaN or inf as quality. Algorithm run is treated as CRASHED, cost is set to 2147483647.0 for quality scenarios. (Change value through \"cost_for_crash\"-option.)\n"
     ]
    },
    {
     "name": "stdout",
     "output_type": "stream",
     "text": [
      "Fitting configuration: \n",
      "{'clustering_choice': 'SpectralClustering', 'affinity___SpectralClustering': 'rbf', 'dim_reduction_choice': 'KernelPCA', 'n_components___KernelPCA': 2, 'assign_labels___SpectralClustering': 'kmeans', 'n_clusters___SpectralClustering': 67, 'kernel___KernelPCA': 'linear', 'eigen_solver___SpectralClustering': 'arpack'}\n",
      "Score obtained by this configuration: 0.3349776515004053\n",
      "Fitting configuration: \n",
      "{'clustering_choice': 'SpectralClustering', 'affinity___SpectralClustering': 'nearest_neighbors', 'dim_reduction_choice': 'KernelPCA', 'n_components___KernelPCA': 2, 'assign_labels___SpectralClustering': 'discretize', 'n_clusters___SpectralClustering': 26, 'kernel___KernelPCA': 'linear', 'eigen_solver___SpectralClustering': 'arpack'}\n",
      "Score obtained by this configuration: 0.33969205033316335\n",
      "Fitting configuration: \n",
      "{'clustering_choice': 'SpectralClustering', 'affinity___SpectralClustering': 'sigmoid', 'dim_reduction_choice': 'PCA', 'whiten___PCA': True, 'n_clusters___SpectralClustering': 64, 'assign_labels___SpectralClustering': 'discretize', 'svd_solver___PCA': 'arpack', 'eigen_solver___SpectralClustering': 'arpack', 'n_components___PCA': 3}\n",
      "Score obtained by this configuration: 0.4999972478051764\n",
      "Fitting configuration: \n",
      "{'clustering_choice': 'SpectralClustering', 'affinity___SpectralClustering': 'laplacian', 'dim_reduction_choice': 'PCA', 'whiten___PCA': True, 'n_clusters___SpectralClustering': 7, 'assign_labels___SpectralClustering': 'kmeans', 'svd_solver___PCA': 'auto', 'eigen_solver___SpectralClustering': 'arpack', 'n_components___PCA': 3}\n",
      "Score obtained by this configuration: 0.34989653335375603\n",
      "Fitting configuration: \n",
      "{'clustering_choice': 'SpectralClustering', 'affinity___SpectralClustering': 'poly', 'dim_reduction_choice': 'TruncatedSVD', 'eigen_solver___SpectralClustering': 'arpack', 'assign_labels___SpectralClustering': 'kmeans', 'n_clusters___SpectralClustering': 74, 'algorithm___TruncatedSVD': 'randomized', 'n_components___TruncatedSVD': 2}\n"
     ]
    },
    {
     "name": "stderr",
     "output_type": "stream",
     "text": [
      "/home/coffeetumbler/anaconda3/envs/automl/lib/python3.5/site-packages/scipy/sparse/csgraph/_laplacian.py:120: RuntimeWarning: invalid value encountered in sqrt\n",
      "  w = np.where(isolated_node_mask, 1, np.sqrt(w))\n",
      "Process pynisher function call:\n",
      "Traceback (most recent call last):\n",
      "  File \"/home/coffeetumbler/anaconda3/envs/automl/lib/python3.5/multiprocessing/process.py\", line 252, in _bootstrap\n",
      "    self.run()\n",
      "  File \"/home/coffeetumbler/anaconda3/envs/automl/lib/python3.5/multiprocessing/process.py\", line 93, in run\n",
      "    self._target(*self._args, **self._kwargs)\n",
      "  File \"/home/coffeetumbler/anaconda3/envs/automl/lib/python3.5/site-packages/pynisher/limit_function_call.py\", line 93, in subprocess_func\n",
      "    return_value = ((func(*args, **kwargs), 0))\n",
      "  File \"/home/coffeetumbler/automl_2019/autocluster/autocluster.py\", line 236, in evaluate_model\n",
      "    scaler, dim_reduction_model, clustering_model = fit_models(cfg, train_data)\n",
      "  File \"/home/coffeetumbler/automl_2019/autocluster/autocluster.py\", line 204, in fit_models\n",
      "    clustering_model.fit(compressed_data)\n",
      "  File \"/home/coffeetumbler/anaconda3/envs/automl/lib/python3.5/site-packages/sklearn/cluster/spectral.py\", line 493, in fit\n",
      "    assign_labels=self.assign_labels)\n",
      "  File \"/home/coffeetumbler/anaconda3/envs/automl/lib/python3.5/site-packages/sklearn/cluster/spectral.py\", line 264, in spectral_clustering\n",
      "    eigen_tol=eigen_tol, drop_first=False)\n",
      "  File \"/home/coffeetumbler/anaconda3/envs/automl/lib/python3.5/site-packages/sklearn/manifold/spectral_embedding_.py\", line 271, in spectral_embedding\n",
      "    tol=eigen_tol, v0=v0)\n",
      "  File \"/home/coffeetumbler/anaconda3/envs/automl/lib/python3.5/site-packages/scipy/sparse/linalg/eigen/arpack/arpack.py\", line 1622, in eigsh\n",
      "    symmetric=True, tol=tol)\n",
      "  File \"/home/coffeetumbler/anaconda3/envs/automl/lib/python3.5/site-packages/scipy/sparse/linalg/eigen/arpack/arpack.py\", line 1053, in get_OPinv_matvec\n",
      "    return LuInv(A).matvec\n",
      "  File \"/home/coffeetumbler/anaconda3/envs/automl/lib/python3.5/site-packages/scipy/sparse/linalg/eigen/arpack/arpack.py\", line 931, in __init__\n",
      "    self.M_lu = lu_factor(M)\n",
      "  File \"/home/coffeetumbler/anaconda3/envs/automl/lib/python3.5/site-packages/scipy/linalg/decomp_lu.py\", line 73, in lu_factor\n",
      "    a1 = asarray_chkfinite(a)\n",
      "  File \"/home/coffeetumbler/anaconda3/envs/automl/lib/python3.5/site-packages/numpy/lib/function_base.py\", line 498, in asarray_chkfinite\n",
      "    \"array must not contain infs or NaNs\")\n",
      "ValueError: array must not contain infs or NaNs\n"
     ]
    },
    {
     "name": "stdout",
     "output_type": "stream",
     "text": [
      "Fitting configuration: \n",
      "{'clustering_choice': 'SpectralClustering', 'affinity___SpectralClustering': 'laplacian', 'dim_reduction_choice': 'TruncatedSVD', 'eigen_solver___SpectralClustering': 'arpack', 'assign_labels___SpectralClustering': 'discretize', 'n_clusters___SpectralClustering': 62, 'algorithm___TruncatedSVD': 'randomized', 'n_components___TruncatedSVD': 2}\n",
      "Score obtained by this configuration: 0.3475881747263844\n",
      "Fitting configuration: \n",
      "{'clustering_choice': 'GaussianMixture', 'covariance_type___GaussianMixture': 'tied', 'dim_reduction_choice': 'FastICA', 'algorithm___FastICA': 'deflation', 'init_params___GaussianMixture': 'kmeans', 'n_components___FastICA': 3, 'fun___FastICA': 'cube', 'whiten___FastICA': True, 'n_components___GaussianMixture': 62}\n",
      "Score obtained by this configuration: 0.3537232035658537\n",
      "Fitting configuration: \n",
      "{'clustering_choice': 'MiniBatchKMeans', 'dim_reduction_choice': 'TruncatedSVD', 'batch_size___MiniBatchKMeans': 235, 'algorithm___TruncatedSVD': 'randomized', 'n_components___TruncatedSVD': 5, 'n_clusters___MiniBatchKMeans': 28}\n",
      "Score obtained by this configuration: 0.4254320614983998\n",
      "Fitting configuration: \n",
      "{'clustering_choice': 'MiniBatchKMeans', 'dim_reduction_choice': 'KernelPCA', 'n_components___KernelPCA': 8, 'batch_size___MiniBatchKMeans': 474, 'kernel___KernelPCA': 'linear', 'n_clusters___MiniBatchKMeans': 32}\n",
      "Score obtained by this configuration: 0.4412734912978223\n",
      "Fitting configuration: \n",
      "{'clustering_choice': 'SpectralClustering', 'affinity___SpectralClustering': 'nearest_neighbors', 'dim_reduction_choice': 'KernelPCA', 'n_components___KernelPCA': 2, 'assign_labels___SpectralClustering': 'discretize', 'n_clusters___SpectralClustering': 14, 'kernel___KernelPCA': 'linear', 'eigen_solver___SpectralClustering': 'arpack'}\n",
      "Score obtained by this configuration: 0.3531339683706322\n",
      "Fitting configuration: \n",
      "{'clustering_choice': 'OPTICS', 'n_components___TSNE': 2, 'dim_reduction_choice': 'TSNE', 'metric___OPTICS': 'l1', 'min_samples___OPTICS': 746, 'early_exaggeration___TSNE': 16.28310346313276, 'cluster_method___OPTICS': 'dbscan', 'perplexity___TSNE': 273.0652001299699}\n",
      "Fitting configuration: \n",
      "{'clustering_choice': 'AgglomerativeClustering', 'dim_reduction_choice': 'KernelPCA', 'affinity___AgglomerativeClustering': 'l1', 'kernel___KernelPCA': 'rbf', 'linkage___AgglomerativeClustering': 'complete', 'n_clusters___AgglomerativeClustering': 34, 'n_components___KernelPCA': 6}\n",
      "Score obtained by this configuration: 0.43648378430632445\n",
      "Fitting configuration: \n",
      "{'clustering_choice': 'Birch', 'n_components___TSNE': 2, 'dim_reduction_choice': 'TSNE', 'early_exaggeration___TSNE': 8.891357869201425, 'branching_factor___Birch': 733, 'perplexity___TSNE': 271.1351072572723, 'n_clusters___Birch': 8}\n",
      "Fitting configuration: \n",
      "{'clustering_choice': 'Birch', 'n_clusters___Birch': 39, 'branching_factor___Birch': 807, 'n_components___IncrementalPCA': 3, 'batch_size___IncrementalPCA': 711, 'dim_reduction_choice': 'IncrementalPCA'}\n",
      "Score obtained by this configuration: 0.38042251247464526\n",
      "Fitting configuration: \n",
      "{'clustering_choice': 'SpectralClustering', 'affinity___SpectralClustering': 'nearest_neighbors', 'dim_reduction_choice': 'KernelPCA', 'n_components___KernelPCA': 2, 'assign_labels___SpectralClustering': 'kmeans', 'n_clusters___SpectralClustering': 51, 'kernel___KernelPCA': 'rbf', 'eigen_solver___SpectralClustering': 'arpack'}\n",
      "Score obtained by this configuration: 0.3262506946247319\n",
      "Fitting configuration: \n",
      "{'clustering_choice': 'MeanShift', 'bin_seeding___MeanShift': True, 'dim_reduction_choice': 'TSNE', 'bandwidth___MeanShift': 33.012847009127846, 'early_exaggeration___TSNE': 8.622213783421856, 'n_components___TSNE': 2, 'perplexity___TSNE': 146.2437925489064}\n",
      "Fitting configuration: \n",
      "{'clustering_choice': 'SpectralClustering', 'affinity___SpectralClustering': 'rbf', 'dim_reduction_choice': 'TSNE', 'early_exaggeration___TSNE': 17.599907823169374, 'n_clusters___SpectralClustering': 13, 'assign_labels___SpectralClustering': 'discretize', 'perplexity___TSNE': 293.9662129593339, 'eigen_solver___SpectralClustering': 'arpack', 'n_components___TSNE': 2}\n",
      "Fitting configuration: \n",
      "{'clustering_choice': 'MiniBatchKMeans', 'dim_reduction_choice': 'KernelPCA', 'n_components___KernelPCA': 2, 'batch_size___MiniBatchKMeans': 113, 'kernel___KernelPCA': 'rbf', 'n_clusters___MiniBatchKMeans': 6}\n",
      "Score obtained by this configuration: 0.339895340670366\n",
      "Fitting configuration: \n",
      "{'clustering_choice': 'AffinityPropagation', 'dim_reduction_choice': 'IncrementalPCA', 'damping___AffinityPropagation': 0.7492238334978952, 'affinity___AffinityPropagation': 'euclidean', 'n_components___IncrementalPCA': 2, 'batch_size___IncrementalPCA': 51}\n",
      "Score obtained by this configuration: 0.34277524633842926\n",
      "Fitting configuration: \n",
      "{'clustering_choice': 'SpectralClustering', 'affinity___SpectralClustering': 'sigmoid', 'dim_reduction_choice': 'KernelPCA', 'n_components___KernelPCA': 2, 'assign_labels___SpectralClustering': 'discretize', 'n_clusters___SpectralClustering': 7, 'kernel___KernelPCA': 'rbf', 'eigen_solver___SpectralClustering': 'arpack'}\n",
      "Score obtained by this configuration: inf\n"
     ]
    },
    {
     "name": "stderr",
     "output_type": "stream",
     "text": [
      "WARNING:smac.tae.execute_func.ExecuteTAFuncDict:Target Algorithm returned NaN or inf as quality. Algorithm run is treated as CRASHED, cost is set to 2147483647.0 for quality scenarios. (Change value through \"cost_for_crash\"-option.)\n"
     ]
    },
    {
     "name": "stdout",
     "output_type": "stream",
     "text": [
      "Fitting configuration: \n",
      "{'clustering_choice': 'MiniBatchKMeans', 'fun___FastICA': 'logcosh', 'dim_reduction_choice': 'FastICA', 'n_components___FastICA': 2, 'batch_size___MiniBatchKMeans': 198, 'algorithm___FastICA': 'deflation', 'n_clusters___MiniBatchKMeans': 4}\n",
      "Score obtained by this configuration: 0.297779974560209\n",
      "Fitting configuration: \n",
      "{'clustering_choice': 'SpectralClustering', 'affinity___SpectralClustering': 'sigmoid', 'dim_reduction_choice': 'KernelPCA', 'n_components___KernelPCA': 2, 'assign_labels___SpectralClustering': 'kmeans', 'n_clusters___SpectralClustering': 10, 'kernel___KernelPCA': 'cosine', 'eigen_solver___SpectralClustering': 'arpack'}\n",
      "Score obtained by this configuration: inf\n"
     ]
    },
    {
     "name": "stderr",
     "output_type": "stream",
     "text": [
      "WARNING:smac.tae.execute_func.ExecuteTAFuncDict:Target Algorithm returned NaN or inf as quality. Algorithm run is treated as CRASHED, cost is set to 2147483647.0 for quality scenarios. (Change value through \"cost_for_crash\"-option.)\n"
     ]
    },
    {
     "name": "stdout",
     "output_type": "stream",
     "text": [
      "Fitting configuration: \n",
      "{'clustering_choice': 'AffinityPropagation', 'dim_reduction_choice': 'KernelPCA', 'damping___AffinityPropagation': 0.6384800608301505, 'n_components___KernelPCA': 3, 'kernel___KernelPCA': 'linear', 'affinity___AffinityPropagation': 'euclidean'}\n",
      "Score obtained by this configuration: 0.3880046863666366\n",
      "Fitting configuration: \n",
      "{'clustering_choice': 'KMeans', 'kernel___KernelPCA': 'rbf', 'dim_reduction_choice': 'KernelPCA', 'n_clusters___KMeans': 2, 'n_components___KernelPCA': 2}\n",
      "Score obtained by this configuration: 0.38006762148216394\n",
      "Fitting configuration: \n",
      "{'clustering_choice': 'KMeans', 'algorithm___TruncatedSVD': 'randomized', 'dim_reduction_choice': 'TruncatedSVD', 'n_clusters___KMeans': 31, 'n_components___TruncatedSVD': 2}\n",
      "Score obtained by this configuration: 0.33000405856604437\n",
      "Fitting configuration: \n",
      "{'clustering_choice': 'KMeans', 'algorithm___TruncatedSVD': 'randomized', 'dim_reduction_choice': 'TruncatedSVD', 'n_clusters___KMeans': 37, 'n_components___TruncatedSVD': 2}\n",
      "Score obtained by this configuration: 0.3293123478964354\n",
      "Fitting configuration: \n",
      "{'clustering_choice': 'MiniBatchKMeans', 'fun___FastICA': 'logcosh', 'dim_reduction_choice': 'FastICA', 'n_components___FastICA': 3, 'batch_size___MiniBatchKMeans': 815, 'algorithm___FastICA': 'deflation', 'n_clusters___MiniBatchKMeans': 4}\n",
      "Score obtained by this configuration: 0.3981383092513098\n",
      "Fitting configuration: \n",
      "{'clustering_choice': 'MiniBatchKMeans', 'fun___FastICA': 'exp', 'dim_reduction_choice': 'FastICA', 'whiten___FastICA': True, 'n_components___FastICA': 3, 'batch_size___MiniBatchKMeans': 406, 'algorithm___FastICA': 'deflation', 'n_clusters___MiniBatchKMeans': 24}\n",
      "Score obtained by this configuration: 0.3917979966990532\n",
      "Fitting configuration: \n",
      "{'clustering_choice': 'KMeans', 'kernel___KernelPCA': 'linear', 'dim_reduction_choice': 'KernelPCA', 'n_clusters___KMeans': 67, 'n_components___KernelPCA': 7}\n",
      "Score obtained by this configuration: 0.42130043722997196\n",
      "Fitting configuration: \n",
      "{'clustering_choice': 'Birch', 'dim_reduction_choice': 'KernelPCA', 'n_components___KernelPCA': 2, 'branching_factor___Birch': 359, 'kernel___KernelPCA': 'rbf', 'n_clusters___Birch': 9}\n"
     ]
    },
    {
     "name": "stderr",
     "output_type": "stream",
     "text": [
      "/home/coffeetumbler/anaconda3/envs/automl/lib/python3.5/site-packages/sklearn/cluster/birch.py:627: ConvergenceWarning: Number of subclusters found (1) by Birch is less than (9). Decrease the threshold.\n",
      "  % (len(centroids), self.n_clusters), ConvergenceWarning)\n",
      "/home/coffeetumbler/anaconda3/envs/automl/lib/python3.5/site-packages/sklearn/cluster/birch.py:627: ConvergenceWarning: Number of subclusters found (1) by Birch is less than (9). Decrease the threshold.\n",
      "  % (len(centroids), self.n_clusters), ConvergenceWarning)\n"
     ]
    },
    {
     "name": "stdout",
     "output_type": "stream",
     "text": [
      "Score obtained by this configuration: inf\n"
     ]
    },
    {
     "name": "stderr",
     "output_type": "stream",
     "text": [
      "WARNING:smac.tae.execute_func.ExecuteTAFuncDict:Target Algorithm returned NaN or inf as quality. Algorithm run is treated as CRASHED, cost is set to 2147483647.0 for quality scenarios. (Change value through \"cost_for_crash\"-option.)\n"
     ]
    },
    {
     "name": "stdout",
     "output_type": "stream",
     "text": [
      "Fitting configuration: \n",
      "{'clustering_choice': 'MeanShift', 'dim_reduction_choice': 'PCA', 'whiten___PCA': True, 'bandwidth___MeanShift': 26.807060700054667, 'svd_solver___PCA': 'auto', 'n_components___PCA': 3}\n",
      "Score obtained by this configuration: inf\n"
     ]
    },
    {
     "name": "stderr",
     "output_type": "stream",
     "text": [
      "WARNING:smac.tae.execute_func.ExecuteTAFuncDict:Target Algorithm returned NaN or inf as quality. Algorithm run is treated as CRASHED, cost is set to 2147483647.0 for quality scenarios. (Change value through \"cost_for_crash\"-option.)\n"
     ]
    },
    {
     "name": "stdout",
     "output_type": "stream",
     "text": [
      "Fitting configuration: \n",
      "{'clustering_choice': 'OPTICS', 'fun___FastICA': 'exp', 'dim_reduction_choice': 'FastICA', 'metric___OPTICS': 'manhattan', 'min_samples___OPTICS': 634, 'cluster_method___OPTICS': 'xi', 'n_components___FastICA': 3, 'algorithm___FastICA': 'parallel'}\n"
     ]
    },
    {
     "name": "stderr",
     "output_type": "stream",
     "text": [
      "Process pynisher function call:\n",
      "Traceback (most recent call last):\n",
      "  File \"/home/coffeetumbler/anaconda3/envs/automl/lib/python3.5/multiprocessing/process.py\", line 252, in _bootstrap\n",
      "    self.run()\n",
      "  File \"/home/coffeetumbler/anaconda3/envs/automl/lib/python3.5/multiprocessing/process.py\", line 93, in run\n",
      "    self._target(*self._args, **self._kwargs)\n",
      "  File \"/home/coffeetumbler/anaconda3/envs/automl/lib/python3.5/site-packages/pynisher/limit_function_call.py\", line 93, in subprocess_func\n",
      "    return_value = ((func(*args, **kwargs), 0))\n",
      "  File \"/home/coffeetumbler/automl_2019/autocluster/autocluster.py\", line 249, in evaluate_model\n",
      "    y_pred = clustering_model.fit_predict(compressed_valid_data)\n",
      "  File \"/home/coffeetumbler/anaconda3/envs/automl/lib/python3.5/site-packages/sklearn/base.py\", line 447, in fit_predict\n",
      "    self.fit(X)\n",
      "  File \"/home/coffeetumbler/anaconda3/envs/automl/lib/python3.5/site-packages/sklearn/cluster/optics_.py\", line 248, in fit\n",
      "    max_eps=self.max_eps)\n",
      "  File \"/home/coffeetumbler/anaconda3/envs/automl/lib/python3.5/site-packages/sklearn/cluster/optics_.py\", line 438, in compute_optics_graph\n",
      "    _validate_size(min_samples, n_samples, 'min_samples')\n",
      "  File \"/home/coffeetumbler/anaconda3/envs/automl/lib/python3.5/site-packages/sklearn/cluster/optics_.py\", line 290, in _validate_size\n",
      "    (param_name, n_samples, size))\n",
      "ValueError: min_samples must be no greater than the number of samples (490). Got 634\n"
     ]
    },
    {
     "name": "stdout",
     "output_type": "stream",
     "text": [
      "Fitting configuration: \n",
      "{'clustering_choice': 'KMeans', 'n_components___IncrementalPCA': 3, 'n_clusters___KMeans': 51, 'whiten___IncrementalPCA': True, 'dim_reduction_choice': 'IncrementalPCA', 'batch_size___IncrementalPCA': 62}\n",
      "Score obtained by this configuration: 0.3669553988321573\n",
      "Fitting configuration: \n",
      "{'clustering_choice': 'KMeans', 'n_components___IncrementalPCA': 3, 'n_clusters___KMeans': 34, 'whiten___IncrementalPCA': True, 'dim_reduction_choice': 'IncrementalPCA', 'batch_size___IncrementalPCA': 476}\n",
      "Score obtained by this configuration: 0.38348720990094853\n",
      "Fitting configuration: \n",
      "{'clustering_choice': 'Birch', 'n_clusters___Birch': 6, 'branching_factor___Birch': 913, 'whiten___IncrementalPCA': True, 'n_components___IncrementalPCA': 3, 'batch_size___IncrementalPCA': 748, 'dim_reduction_choice': 'IncrementalPCA'}\n",
      "Score obtained by this configuration: 0.3986288594213427\n",
      "Fitting configuration: \n",
      "{'clustering_choice': 'MeanShift', 'kernel___KernelPCA': 'poly', 'dim_reduction_choice': 'KernelPCA', 'bandwidth___MeanShift': 46.36396483156826, 'n_components___KernelPCA': 6}\n",
      "Score obtained by this configuration: inf\n"
     ]
    },
    {
     "name": "stderr",
     "output_type": "stream",
     "text": [
      "WARNING:smac.tae.execute_func.ExecuteTAFuncDict:Target Algorithm returned NaN or inf as quality. Algorithm run is treated as CRASHED, cost is set to 2147483647.0 for quality scenarios. (Change value through \"cost_for_crash\"-option.)\n"
     ]
    },
    {
     "name": "stdout",
     "output_type": "stream",
     "text": [
      "Fitting configuration: \n",
      "{'clustering_choice': 'SpectralClustering', 'affinity___SpectralClustering': 'nearest_neighbors', 'dim_reduction_choice': 'KernelPCA', 'n_components___KernelPCA': 2, 'assign_labels___SpectralClustering': 'discretize', 'n_clusters___SpectralClustering': 16, 'kernel___KernelPCA': 'linear', 'eigen_solver___SpectralClustering': 'arpack'}\n",
      "Score obtained by this configuration: 0.3459572285990755\n",
      "Optimization is complete.\n",
      "Took 439.68 seconds.\n",
      "The optimal configuration is \n",
      "Configuration:\n",
      "  algorithm___FastICA, Value: 'deflation'\n",
      "  batch_size___MiniBatchKMeans, Value: 198\n",
      "  clustering_choice, Value: 'MiniBatchKMeans'\n",
      "  dim_reduction_choice, Value: 'FastICA'\n",
      "  fun___FastICA, Value: 'logcosh'\n",
      "  n_clusters___MiniBatchKMeans, Value: 4\n",
      "  n_components___FastICA, Value: 2\n",
      "  whiten___FastICA, Value: False\n",
      "\n",
      "\n",
      "Model chosen with weights = \n",
      "[0, 5, 5]\n",
      "v_score = \n",
      "0.45098536614853085\n",
      "\n",
      "\n",
      "1341/1797 datapoints remaining after outlier removal\n",
      "Configuration space object:\n",
      "  Hyperparameters:\n",
      "    affinity___AffinityPropagation, Type: Categorical, Choices: {euclidean}, Default: euclidean\n",
      "    affinity___AgglomerativeClustering, Type: Categorical, Choices: {euclidean, cityblock, l2, l1, manhattan, cosine}, Default: euclidean\n",
      "    affinity___SpectralClustering, Type: Categorical, Choices: {nearest_neighbors, poly, sigmoid, laplacian, rbf}, Default: rbf\n",
      "    algorithm___FastICA, Type: Categorical, Choices: {parallel, deflation}, Default: parallel\n",
      "    algorithm___TruncatedSVD, Type: Categorical, Choices: {arpack, randomized}, Default: randomized\n",
      "    assign_labels___SpectralClustering, Type: Categorical, Choices: {kmeans, discretize}, Default: kmeans\n",
      "    bandwidth___MeanShift, Type: UniformFloat, Range: [0.1, 50.0], Default: 25.05\n",
      "    batch_size___IncrementalPCA, Type: UniformInteger, Range: [10, 1000], Default: 100\n",
      "    batch_size___MiniBatchKMeans, Type: UniformInteger, Range: [10, 1000], Default: 100\n",
      "    bin_seeding___MeanShift, Type: Categorical, Choices: {True, False}, Default: False\n",
      "    branching_factor___Birch, Type: UniformInteger, Range: [10, 1000], Default: 50\n",
      "    cluster_method___OPTICS, Type: Categorical, Choices: {xi, dbscan}, Default: xi\n",
      "    clustering_choice, Type: Categorical, Choices: {KMeans, GaussianMixture, Birch, MiniBatchKMeans, AgglomerativeClustering, OPTICS, SpectralClustering, DBSCAN, AffinityPropagation, MeanShift}, Default: KMeans\n",
      "    covariance_type___GaussianMixture, Type: Categorical, Choices: {full, tied, diag, spherical}, Default: full\n",
      "    damping___AffinityPropagation, Type: UniformFloat, Range: [0.5, 1.0], Default: 0.5\n",
      "    dim_reduction_choice, Type: Categorical, Choices: {TSNE, PCA, IncrementalPCA, KernelPCA, FastICA, TruncatedSVD}, Default: TSNE\n",
      "    early_exaggeration___TSNE, Type: UniformFloat, Range: [5.0, 20.0], Default: 12.0\n",
      "    eigen_solver___SpectralClustering, Type: Categorical, Choices: {arpack}, Default: arpack\n",
      "    eps___DBSCAN, Type: UniformFloat, Range: [0.01, 5.0], Default: 0.01\n",
      "    fun___FastICA, Type: Categorical, Choices: {logcosh, exp, cube}, Default: logcosh\n",
      "    init_params___GaussianMixture, Type: Categorical, Choices: {kmeans, random}, Default: kmeans\n",
      "    kernel___KernelPCA, Type: Categorical, Choices: {linear, poly, rbf, sigmoid, cosine}, Default: linear\n",
      "    linkage___AgglomerativeClustering, Type: Categorical, Choices: {ward, complete, average, single}, Default: complete\n",
      "    metric___OPTICS, Type: Categorical, Choices: {minkowski, euclidean, manhattan, l1, l2, cosine}, Default: minkowski\n",
      "    min_samples___DBSCAN, Type: UniformInteger, Range: [5, 100], Default: 5\n",
      "    min_samples___OPTICS, Type: UniformInteger, Range: [5, 1000], Default: 100\n",
      "    n_clusters___AgglomerativeClustering, Type: UniformInteger, Range: [1, 80], Default: 10\n",
      "    n_clusters___Birch, Type: UniformInteger, Range: [1, 80], Default: 5\n",
      "    n_clusters___KMeans, Type: UniformInteger, Range: [1, 80], Default: 5\n",
      "    n_clusters___MiniBatchKMeans, Type: UniformInteger, Range: [1, 80], Default: 10\n",
      "    n_clusters___SpectralClustering, Type: UniformInteger, Range: [1, 80], Default: 10\n",
      "    n_components___FastICA, Type: Ordinal, Sequence: {2, 3}, Default: 2\n",
      "    n_components___GaussianMixture, Type: UniformInteger, Range: [1, 80], Default: 5\n",
      "    n_components___IncrementalPCA, Type: Ordinal, Sequence: {2, 3}, Default: 2\n",
      "    n_components___KernelPCA, Type: Ordinal, Sequence: {2, 3, 4, 5, 6, 7, 8, 9}, Default: 2\n",
      "    n_components___PCA, Type: Ordinal, Sequence: {2, 3}, Default: 2\n",
      "    n_components___TSNE, Type: Ordinal, Sequence: {2}, Default: 2\n",
      "    n_components___TruncatedSVD, Type: Ordinal, Sequence: {2, 3, 4, 5, 6, 7, 8, 9}, Default: 2\n",
      "    perplexity___TSNE, Type: UniformFloat, Range: [1.0, 300.0], Default: 30.0\n",
      "    svd_solver___PCA, Type: Categorical, Choices: {auto, full, arpack, randomized}, Default: auto\n",
      "    warm_start___GaussianMixture, Type: Categorical, Choices: {True, False}, Default: False\n",
      "    whiten___FastICA, Type: Categorical, Choices: {True, False}, Default: True\n",
      "    whiten___IncrementalPCA, Type: Categorical, Choices: {True, False}, Default: False\n",
      "    whiten___PCA, Type: Categorical, Choices: {True, False}, Default: False\n",
      "  Conditions:\n",
      "    affinity___AffinityPropagation | clustering_choice in {'AffinityPropagation'}\n",
      "    affinity___AgglomerativeClustering | clustering_choice in {'AgglomerativeClustering'}\n",
      "    affinity___SpectralClustering | clustering_choice in {'SpectralClustering'}\n",
      "    algorithm___FastICA | dim_reduction_choice in {'FastICA'}\n",
      "    algorithm___TruncatedSVD | dim_reduction_choice in {'TruncatedSVD'}\n",
      "    assign_labels___SpectralClustering | clustering_choice in {'SpectralClustering'}\n",
      "    bandwidth___MeanShift | clustering_choice in {'MeanShift'}\n",
      "    batch_size___IncrementalPCA | dim_reduction_choice in {'IncrementalPCA'}\n",
      "    batch_size___MiniBatchKMeans | clustering_choice in {'MiniBatchKMeans'}\n",
      "    bin_seeding___MeanShift | clustering_choice in {'MeanShift'}\n",
      "    branching_factor___Birch | clustering_choice in {'Birch'}\n",
      "    cluster_method___OPTICS | clustering_choice in {'OPTICS'}\n",
      "    covariance_type___GaussianMixture | clustering_choice in {'GaussianMixture'}\n",
      "    damping___AffinityPropagation | clustering_choice in {'AffinityPropagation'}\n",
      "    early_exaggeration___TSNE | dim_reduction_choice in {'TSNE'}\n",
      "    eigen_solver___SpectralClustering | clustering_choice in {'SpectralClustering'}\n",
      "    eps___DBSCAN | clustering_choice in {'DBSCAN'}\n",
      "    fun___FastICA | dim_reduction_choice in {'FastICA'}\n",
      "    init_params___GaussianMixture | clustering_choice in {'GaussianMixture'}\n",
      "    kernel___KernelPCA | dim_reduction_choice in {'KernelPCA'}\n",
      "    linkage___AgglomerativeClustering | clustering_choice in {'AgglomerativeClustering'}\n",
      "    metric___OPTICS | clustering_choice in {'OPTICS'}\n",
      "    min_samples___DBSCAN | clustering_choice in {'DBSCAN'}\n",
      "    min_samples___OPTICS | clustering_choice in {'OPTICS'}\n",
      "    n_clusters___AgglomerativeClustering | clustering_choice in {'AgglomerativeClustering'}\n",
      "    n_clusters___Birch | clustering_choice in {'Birch'}\n",
      "    n_clusters___KMeans | clustering_choice in {'KMeans'}\n",
      "    n_clusters___MiniBatchKMeans | clustering_choice in {'MiniBatchKMeans'}\n",
      "    n_clusters___SpectralClustering | clustering_choice in {'SpectralClustering'}\n",
      "    n_components___FastICA | dim_reduction_choice in {'FastICA'}\n",
      "    n_components___GaussianMixture | clustering_choice in {'GaussianMixture'}\n",
      "    n_components___IncrementalPCA | dim_reduction_choice in {'IncrementalPCA'}\n",
      "    n_components___KernelPCA | dim_reduction_choice in {'KernelPCA'}\n",
      "    n_components___PCA | dim_reduction_choice in {'PCA'}\n",
      "    n_components___TSNE | dim_reduction_choice in {'TSNE'}\n",
      "    n_components___TruncatedSVD | dim_reduction_choice in {'TruncatedSVD'}\n",
      "    perplexity___TSNE | dim_reduction_choice in {'TSNE'}\n",
      "    svd_solver___PCA | dim_reduction_choice in {'PCA'}\n",
      "    warm_start___GaussianMixture | clustering_choice in {'GaussianMixture'}\n",
      "    whiten___FastICA | dim_reduction_choice in {'FastICA'}\n",
      "    whiten___IncrementalPCA | dim_reduction_choice in {'IncrementalPCA'}\n",
      "    whiten___PCA | dim_reduction_choice in {'PCA'}\n",
      "  Forbidden Clauses:\n",
      "    (Forbidden: linkage___AgglomerativeClustering == 'ward' && Forbidden: affinity___AgglomerativeClustering in {'cityblock', 'cosine', 'l1', 'l2', 'manhattan'})\n",
      "\n"
     ]
    },
    {
     "name": "stderr",
     "output_type": "stream",
     "text": [
      "/home/coffeetumbler/automl_2019/autocluster/utils/metafeatures.py:43: FutureWarning: elementwise comparison failed; returning scalar instead, but in the future will perform elementwise comparison\n",
      "  return (np.count_nonzero(X == '') + np.count_nonzero(X == 0)) / X.size\n",
      "/home/coffeetumbler/automl_2019/autocluster/utils/metafeatures.py:35: FutureWarning: elementwise comparison failed; returning scalar instead, but in the future will perform elementwise comparison\n",
      "  return np.count_nonzero(X == None) + np.count_nonzero(X == '')\n",
      "/home/coffeetumbler/anaconda3/envs/automl/lib/python3.5/site-packages/numpy/lib/function_base.py:2530: RuntimeWarning: invalid value encountered in true_divide\n",
      "  c /= stddev[:, None]\n",
      "/home/coffeetumbler/anaconda3/envs/automl/lib/python3.5/site-packages/numpy/lib/function_base.py:2531: RuntimeWarning: invalid value encountered in true_divide\n",
      "  c /= stddev[None, :]\n"
     ]
    },
    {
     "name": "stdout",
     "output_type": "stream",
     "text": [
      "Found 60 relevant intial configurations from warmstarter.\n",
      "Truncated n_evaluations: 100\n",
      "{'cutoff_time': 20, 'cs': Configuration space object:\n",
      "  Hyperparameters:\n",
      "    affinity___AffinityPropagation, Type: Categorical, Choices: {euclidean}, Default: euclidean\n",
      "    affinity___AgglomerativeClustering, Type: Categorical, Choices: {euclidean, cityblock, l2, l1, manhattan, cosine}, Default: euclidean\n",
      "    affinity___SpectralClustering, Type: Categorical, Choices: {nearest_neighbors, poly, sigmoid, laplacian, rbf}, Default: rbf\n",
      "    algorithm___FastICA, Type: Categorical, Choices: {parallel, deflation}, Default: parallel\n",
      "    algorithm___TruncatedSVD, Type: Categorical, Choices: {arpack, randomized}, Default: randomized\n",
      "    assign_labels___SpectralClustering, Type: Categorical, Choices: {kmeans, discretize}, Default: kmeans\n",
      "    bandwidth___MeanShift, Type: UniformFloat, Range: [0.1, 50.0], Default: 25.05\n",
      "    batch_size___IncrementalPCA, Type: UniformInteger, Range: [10, 1000], Default: 100\n",
      "    batch_size___MiniBatchKMeans, Type: UniformInteger, Range: [10, 1000], Default: 100\n",
      "    bin_seeding___MeanShift, Type: Categorical, Choices: {True, False}, Default: False\n",
      "    branching_factor___Birch, Type: UniformInteger, Range: [10, 1000], Default: 50\n",
      "    cluster_method___OPTICS, Type: Categorical, Choices: {xi, dbscan}, Default: xi\n",
      "    clustering_choice, Type: Categorical, Choices: {KMeans, GaussianMixture, Birch, MiniBatchKMeans, AgglomerativeClustering, OPTICS, SpectralClustering, DBSCAN, AffinityPropagation, MeanShift}, Default: KMeans\n",
      "    covariance_type___GaussianMixture, Type: Categorical, Choices: {full, tied, diag, spherical}, Default: full\n",
      "    damping___AffinityPropagation, Type: UniformFloat, Range: [0.5, 1.0], Default: 0.5\n",
      "    dim_reduction_choice, Type: Categorical, Choices: {TSNE, PCA, IncrementalPCA, KernelPCA, FastICA, TruncatedSVD}, Default: TSNE\n",
      "    early_exaggeration___TSNE, Type: UniformFloat, Range: [5.0, 20.0], Default: 12.0\n",
      "    eigen_solver___SpectralClustering, Type: Categorical, Choices: {arpack}, Default: arpack\n",
      "    eps___DBSCAN, Type: UniformFloat, Range: [0.01, 5.0], Default: 0.01\n",
      "    fun___FastICA, Type: Categorical, Choices: {logcosh, exp, cube}, Default: logcosh\n",
      "    init_params___GaussianMixture, Type: Categorical, Choices: {kmeans, random}, Default: kmeans\n",
      "    kernel___KernelPCA, Type: Categorical, Choices: {linear, poly, rbf, sigmoid, cosine}, Default: linear\n",
      "    linkage___AgglomerativeClustering, Type: Categorical, Choices: {ward, complete, average, single}, Default: complete\n",
      "    metric___OPTICS, Type: Categorical, Choices: {minkowski, euclidean, manhattan, l1, l2, cosine}, Default: minkowski\n",
      "    min_samples___DBSCAN, Type: UniformInteger, Range: [5, 100], Default: 5\n",
      "    min_samples___OPTICS, Type: UniformInteger, Range: [5, 1000], Default: 100\n",
      "    n_clusters___AgglomerativeClustering, Type: UniformInteger, Range: [1, 80], Default: 10\n",
      "    n_clusters___Birch, Type: UniformInteger, Range: [1, 80], Default: 5\n",
      "    n_clusters___KMeans, Type: UniformInteger, Range: [1, 80], Default: 5\n",
      "    n_clusters___MiniBatchKMeans, Type: UniformInteger, Range: [1, 80], Default: 10\n",
      "    n_clusters___SpectralClustering, Type: UniformInteger, Range: [1, 80], Default: 10\n",
      "    n_components___FastICA, Type: Ordinal, Sequence: {2, 3}, Default: 2\n",
      "    n_components___GaussianMixture, Type: UniformInteger, Range: [1, 80], Default: 5\n",
      "    n_components___IncrementalPCA, Type: Ordinal, Sequence: {2, 3}, Default: 2\n",
      "    n_components___KernelPCA, Type: Ordinal, Sequence: {2, 3, 4, 5, 6, 7, 8, 9}, Default: 2\n",
      "    n_components___PCA, Type: Ordinal, Sequence: {2, 3}, Default: 2\n",
      "    n_components___TSNE, Type: Ordinal, Sequence: {2}, Default: 2\n",
      "    n_components___TruncatedSVD, Type: Ordinal, Sequence: {2, 3, 4, 5, 6, 7, 8, 9}, Default: 2\n",
      "    perplexity___TSNE, Type: UniformFloat, Range: [1.0, 300.0], Default: 30.0\n",
      "    svd_solver___PCA, Type: Categorical, Choices: {auto, full, arpack, randomized}, Default: auto\n",
      "    warm_start___GaussianMixture, Type: Categorical, Choices: {True, False}, Default: False\n",
      "    whiten___FastICA, Type: Categorical, Choices: {True, False}, Default: True\n",
      "    whiten___IncrementalPCA, Type: Categorical, Choices: {True, False}, Default: False\n",
      "    whiten___PCA, Type: Categorical, Choices: {True, False}, Default: False\n",
      "  Conditions:\n",
      "    affinity___AffinityPropagation | clustering_choice in {'AffinityPropagation'}\n",
      "    affinity___AgglomerativeClustering | clustering_choice in {'AgglomerativeClustering'}\n",
      "    affinity___SpectralClustering | clustering_choice in {'SpectralClustering'}\n",
      "    algorithm___FastICA | dim_reduction_choice in {'FastICA'}\n",
      "    algorithm___TruncatedSVD | dim_reduction_choice in {'TruncatedSVD'}\n",
      "    assign_labels___SpectralClustering | clustering_choice in {'SpectralClustering'}\n",
      "    bandwidth___MeanShift | clustering_choice in {'MeanShift'}\n",
      "    batch_size___IncrementalPCA | dim_reduction_choice in {'IncrementalPCA'}\n",
      "    batch_size___MiniBatchKMeans | clustering_choice in {'MiniBatchKMeans'}\n",
      "    bin_seeding___MeanShift | clustering_choice in {'MeanShift'}\n",
      "    branching_factor___Birch | clustering_choice in {'Birch'}\n",
      "    cluster_method___OPTICS | clustering_choice in {'OPTICS'}\n",
      "    covariance_type___GaussianMixture | clustering_choice in {'GaussianMixture'}\n",
      "    damping___AffinityPropagation | clustering_choice in {'AffinityPropagation'}\n",
      "    early_exaggeration___TSNE | dim_reduction_choice in {'TSNE'}\n",
      "    eigen_solver___SpectralClustering | clustering_choice in {'SpectralClustering'}\n",
      "    eps___DBSCAN | clustering_choice in {'DBSCAN'}\n",
      "    fun___FastICA | dim_reduction_choice in {'FastICA'}\n",
      "    init_params___GaussianMixture | clustering_choice in {'GaussianMixture'}\n",
      "    kernel___KernelPCA | dim_reduction_choice in {'KernelPCA'}\n",
      "    linkage___AgglomerativeClustering | clustering_choice in {'AgglomerativeClustering'}\n",
      "    metric___OPTICS | clustering_choice in {'OPTICS'}\n",
      "    min_samples___DBSCAN | clustering_choice in {'DBSCAN'}\n",
      "    min_samples___OPTICS | clustering_choice in {'OPTICS'}\n",
      "    n_clusters___AgglomerativeClustering | clustering_choice in {'AgglomerativeClustering'}\n",
      "    n_clusters___Birch | clustering_choice in {'Birch'}\n",
      "    n_clusters___KMeans | clustering_choice in {'KMeans'}\n",
      "    n_clusters___MiniBatchKMeans | clustering_choice in {'MiniBatchKMeans'}\n",
      "    n_clusters___SpectralClustering | clustering_choice in {'SpectralClustering'}\n",
      "    n_components___FastICA | dim_reduction_choice in {'FastICA'}\n",
      "    n_components___GaussianMixture | clustering_choice in {'GaussianMixture'}\n",
      "    n_components___IncrementalPCA | dim_reduction_choice in {'IncrementalPCA'}\n",
      "    n_components___KernelPCA | dim_reduction_choice in {'KernelPCA'}\n",
      "    n_components___PCA | dim_reduction_choice in {'PCA'}\n",
      "    n_components___TSNE | dim_reduction_choice in {'TSNE'}\n",
      "    n_components___TruncatedSVD | dim_reduction_choice in {'TruncatedSVD'}\n",
      "    perplexity___TSNE | dim_reduction_choice in {'TSNE'}\n",
      "    svd_solver___PCA | dim_reduction_choice in {'PCA'}\n",
      "    warm_start___GaussianMixture | clustering_choice in {'GaussianMixture'}\n",
      "    whiten___FastICA | dim_reduction_choice in {'FastICA'}\n",
      "    whiten___IncrementalPCA | dim_reduction_choice in {'IncrementalPCA'}\n",
      "    whiten___PCA | dim_reduction_choice in {'PCA'}\n",
      "  Forbidden Clauses:\n",
      "    (Forbidden: linkage___AgglomerativeClustering == 'ward' && Forbidden: affinity___AgglomerativeClustering in {'cityblock', 'cosine', 'l1', 'l2', 'manhattan'})\n",
      ", 'deterministic': 'true', 'output_dir': 'log//smac-2019-07-29_14-41-15-77167', 'abort_on_first_run_crash': False, 'runcount-limit': 100, 'run_obj': 'quality'}\n"
     ]
    },
    {
     "name": "stderr",
     "output_type": "stream",
     "text": [
      "/home/coffeetumbler/anaconda3/envs/automl/lib/python3.5/site-packages/numpy/lib/function_base.py:2530: RuntimeWarning: invalid value encountered in true_divide\n",
      "  c /= stddev[:, None]\n",
      "/home/coffeetumbler/anaconda3/envs/automl/lib/python3.5/site-packages/numpy/lib/function_base.py:2531: RuntimeWarning: invalid value encountered in true_divide\n",
      "  c /= stddev[None, :]\n"
     ]
    },
    {
     "name": "stdout",
     "output_type": "stream",
     "text": [
      "Fitting configuration: \n",
      "{'clustering_choice': 'KMeans', 'kernel___KernelPCA': 'poly', 'dim_reduction_choice': 'KernelPCA', 'n_clusters___KMeans': 4, 'n_components___KernelPCA': 2}\n",
      "Score obtained by this configuration: inf\n"
     ]
    },
    {
     "name": "stderr",
     "output_type": "stream",
     "text": [
      "WARNING:smac.tae.execute_func.ExecuteTAFuncDict:Target Algorithm returned NaN or inf as quality. Algorithm run is treated as CRASHED, cost is set to 2147483647.0 for quality scenarios. (Change value through \"cost_for_crash\"-option.)\n"
     ]
    },
    {
     "name": "stdout",
     "output_type": "stream",
     "text": [
      "Fitting configuration: \n",
      "{'clustering_choice': 'Birch', 'dim_reduction_choice': 'KernelPCA', 'n_components___KernelPCA': 2, 'branching_factor___Birch': 10, 'kernel___KernelPCA': 'poly', 'n_clusters___Birch': 5}\n"
     ]
    },
    {
     "name": "stderr",
     "output_type": "stream",
     "text": [
      "/home/coffeetumbler/anaconda3/envs/automl/lib/python3.5/site-packages/sklearn/cluster/birch.py:627: ConvergenceWarning: Number of subclusters found (3) by Birch is less than (5). Decrease the threshold.\n",
      "  % (len(centroids), self.n_clusters), ConvergenceWarning)\n",
      "/home/coffeetumbler/anaconda3/envs/automl/lib/python3.5/site-packages/sklearn/cluster/birch.py:627: ConvergenceWarning: Number of subclusters found (2) by Birch is less than (5). Decrease the threshold.\n",
      "  % (len(centroids), self.n_clusters), ConvergenceWarning)\n"
     ]
    },
    {
     "name": "stdout",
     "output_type": "stream",
     "text": [
      "Score obtained by this configuration: inf\n"
     ]
    },
    {
     "name": "stderr",
     "output_type": "stream",
     "text": [
      "WARNING:smac.tae.execute_func.ExecuteTAFuncDict:Target Algorithm returned NaN or inf as quality. Algorithm run is treated as CRASHED, cost is set to 2147483647.0 for quality scenarios. (Change value through \"cost_for_crash\"-option.)\n"
     ]
    },
    {
     "name": "stdout",
     "output_type": "stream",
     "text": [
      "Fitting configuration: \n",
      "{'clustering_choice': 'Birch', 'dim_reduction_choice': 'KernelPCA', 'n_components___KernelPCA': 2, 'branching_factor___Birch': 32, 'kernel___KernelPCA': 'poly', 'n_clusters___Birch': 5}\n"
     ]
    },
    {
     "name": "stderr",
     "output_type": "stream",
     "text": [
      "/home/coffeetumbler/anaconda3/envs/automl/lib/python3.5/site-packages/sklearn/cluster/birch.py:627: ConvergenceWarning: Number of subclusters found (3) by Birch is less than (5). Decrease the threshold.\n",
      "  % (len(centroids), self.n_clusters), ConvergenceWarning)\n",
      "/home/coffeetumbler/anaconda3/envs/automl/lib/python3.5/site-packages/sklearn/cluster/birch.py:627: ConvergenceWarning: Number of subclusters found (2) by Birch is less than (5). Decrease the threshold.\n",
      "  % (len(centroids), self.n_clusters), ConvergenceWarning)\n"
     ]
    },
    {
     "name": "stdout",
     "output_type": "stream",
     "text": [
      "Score obtained by this configuration: inf\n"
     ]
    },
    {
     "name": "stderr",
     "output_type": "stream",
     "text": [
      "WARNING:smac.tae.execute_func.ExecuteTAFuncDict:Target Algorithm returned NaN or inf as quality. Algorithm run is treated as CRASHED, cost is set to 2147483647.0 for quality scenarios. (Change value through \"cost_for_crash\"-option.)\n"
     ]
    },
    {
     "name": "stdout",
     "output_type": "stream",
     "text": [
      "Fitting configuration: \n",
      "{'clustering_choice': 'Birch', 'dim_reduction_choice': 'KernelPCA', 'n_components___KernelPCA': 2, 'branching_factor___Birch': 64, 'kernel___KernelPCA': 'poly', 'n_clusters___Birch': 5}\n"
     ]
    },
    {
     "name": "stderr",
     "output_type": "stream",
     "text": [
      "/home/coffeetumbler/anaconda3/envs/automl/lib/python3.5/site-packages/sklearn/cluster/birch.py:627: ConvergenceWarning: Number of subclusters found (3) by Birch is less than (5). Decrease the threshold.\n",
      "  % (len(centroids), self.n_clusters), ConvergenceWarning)\n",
      "/home/coffeetumbler/anaconda3/envs/automl/lib/python3.5/site-packages/sklearn/cluster/birch.py:627: ConvergenceWarning: Number of subclusters found (2) by Birch is less than (5). Decrease the threshold.\n",
      "  % (len(centroids), self.n_clusters), ConvergenceWarning)\n"
     ]
    },
    {
     "name": "stdout",
     "output_type": "stream",
     "text": [
      "Score obtained by this configuration: inf\n"
     ]
    },
    {
     "name": "stderr",
     "output_type": "stream",
     "text": [
      "WARNING:smac.tae.execute_func.ExecuteTAFuncDict:Target Algorithm returned NaN or inf as quality. Algorithm run is treated as CRASHED, cost is set to 2147483647.0 for quality scenarios. (Change value through \"cost_for_crash\"-option.)\n"
     ]
    },
    {
     "name": "stdout",
     "output_type": "stream",
     "text": [
      "Fitting configuration: \n",
      "{'clustering_choice': 'Birch', 'dim_reduction_choice': 'KernelPCA', 'n_components___KernelPCA': 2, 'branching_factor___Birch': 10, 'kernel___KernelPCA': 'poly', 'n_clusters___Birch': 6}\n"
     ]
    },
    {
     "name": "stderr",
     "output_type": "stream",
     "text": [
      "/home/coffeetumbler/anaconda3/envs/automl/lib/python3.5/site-packages/sklearn/cluster/birch.py:627: ConvergenceWarning: Number of subclusters found (3) by Birch is less than (6). Decrease the threshold.\n",
      "  % (len(centroids), self.n_clusters), ConvergenceWarning)\n",
      "/home/coffeetumbler/anaconda3/envs/automl/lib/python3.5/site-packages/sklearn/cluster/birch.py:627: ConvergenceWarning: Number of subclusters found (2) by Birch is less than (6). Decrease the threshold.\n",
      "  % (len(centroids), self.n_clusters), ConvergenceWarning)\n"
     ]
    },
    {
     "name": "stdout",
     "output_type": "stream",
     "text": [
      "Score obtained by this configuration: inf\n"
     ]
    },
    {
     "name": "stderr",
     "output_type": "stream",
     "text": [
      "WARNING:smac.tae.execute_func.ExecuteTAFuncDict:Target Algorithm returned NaN or inf as quality. Algorithm run is treated as CRASHED, cost is set to 2147483647.0 for quality scenarios. (Change value through \"cost_for_crash\"-option.)\n"
     ]
    },
    {
     "name": "stdout",
     "output_type": "stream",
     "text": [
      "Fitting configuration: \n",
      "{'clustering_choice': 'SpectralClustering', 'affinity___SpectralClustering': 'laplacian', 'dim_reduction_choice': 'KernelPCA', 'n_components___KernelPCA': 2, 'assign_labels___SpectralClustering': 'kmeans', 'n_clusters___SpectralClustering': 9, 'kernel___KernelPCA': 'poly', 'eigen_solver___SpectralClustering': 'arpack'}\n",
      "Score obtained by this configuration: inf\n"
     ]
    },
    {
     "name": "stderr",
     "output_type": "stream",
     "text": [
      "WARNING:smac.tae.execute_func.ExecuteTAFuncDict:Target Algorithm returned NaN or inf as quality. Algorithm run is treated as CRASHED, cost is set to 2147483647.0 for quality scenarios. (Change value through \"cost_for_crash\"-option.)\n"
     ]
    },
    {
     "name": "stdout",
     "output_type": "stream",
     "text": [
      "Fitting configuration: \n",
      "{'clustering_choice': 'SpectralClustering', 'affinity___SpectralClustering': 'laplacian', 'dim_reduction_choice': 'KernelPCA', 'n_components___KernelPCA': 2, 'assign_labels___SpectralClustering': 'kmeans', 'n_clusters___SpectralClustering': 11, 'kernel___KernelPCA': 'poly', 'eigen_solver___SpectralClustering': 'arpack'}\n"
     ]
    },
    {
     "name": "stderr",
     "output_type": "stream",
     "text": [
      "/home/coffeetumbler/anaconda3/envs/automl/lib/python3.5/site-packages/sklearn/cluster/spectral.py:268: ConvergenceWarning: Number of distinct clusters (10) found smaller than n_clusters (11). Possibly due to duplicate points in X.\n",
      "  n_init=n_init)\n"
     ]
    },
    {
     "name": "stdout",
     "output_type": "stream",
     "text": [
      "Score obtained by this configuration: inf\n"
     ]
    },
    {
     "name": "stderr",
     "output_type": "stream",
     "text": [
      "WARNING:smac.tae.execute_func.ExecuteTAFuncDict:Target Algorithm returned NaN or inf as quality. Algorithm run is treated as CRASHED, cost is set to 2147483647.0 for quality scenarios. (Change value through \"cost_for_crash\"-option.)\n"
     ]
    },
    {
     "name": "stdout",
     "output_type": "stream",
     "text": [
      "Fitting configuration: \n",
      "{'clustering_choice': 'SpectralClustering', 'affinity___SpectralClustering': 'laplacian', 'dim_reduction_choice': 'KernelPCA', 'n_components___KernelPCA': 2, 'assign_labels___SpectralClustering': 'discretize', 'n_clusters___SpectralClustering': 13, 'kernel___KernelPCA': 'poly', 'eigen_solver___SpectralClustering': 'arpack'}\n",
      "Score obtained by this configuration: 0.4776673066206327\n",
      "Fitting configuration: \n",
      "{'clustering_choice': 'OPTICS', 'dim_reduction_choice': 'KernelPCA', 'metric___OPTICS': 'l1', 'min_samples___OPTICS': 787, 'cluster_method___OPTICS': 'dbscan', 'kernel___KernelPCA': 'poly', 'n_components___KernelPCA': 4}\n"
     ]
    },
    {
     "name": "stderr",
     "output_type": "stream",
     "text": [
      "Process pynisher function call:\n",
      "Traceback (most recent call last):\n",
      "  File \"/home/coffeetumbler/anaconda3/envs/automl/lib/python3.5/multiprocessing/process.py\", line 252, in _bootstrap\n",
      "    self.run()\n",
      "  File \"/home/coffeetumbler/anaconda3/envs/automl/lib/python3.5/multiprocessing/process.py\", line 93, in run\n",
      "    self._target(*self._args, **self._kwargs)\n",
      "  File \"/home/coffeetumbler/anaconda3/envs/automl/lib/python3.5/site-packages/pynisher/limit_function_call.py\", line 93, in subprocess_func\n",
      "    return_value = ((func(*args, **kwargs), 0))\n",
      "  File \"/home/coffeetumbler/automl_2019/autocluster/autocluster.py\", line 249, in evaluate_model\n",
      "    y_pred = clustering_model.fit_predict(compressed_valid_data)\n",
      "  File \"/home/coffeetumbler/anaconda3/envs/automl/lib/python3.5/site-packages/sklearn/base.py\", line 447, in fit_predict\n",
      "    self.fit(X)\n",
      "  File \"/home/coffeetumbler/anaconda3/envs/automl/lib/python3.5/site-packages/sklearn/cluster/optics_.py\", line 248, in fit\n",
      "    max_eps=self.max_eps)\n",
      "  File \"/home/coffeetumbler/anaconda3/envs/automl/lib/python3.5/site-packages/sklearn/cluster/optics_.py\", line 438, in compute_optics_graph\n",
      "    _validate_size(min_samples, n_samples, 'min_samples')\n",
      "  File \"/home/coffeetumbler/anaconda3/envs/automl/lib/python3.5/site-packages/sklearn/cluster/optics_.py\", line 290, in _validate_size\n",
      "    (param_name, n_samples, size))\n",
      "ValueError: min_samples must be no greater than the number of samples (447). Got 787\n"
     ]
    },
    {
     "name": "stdout",
     "output_type": "stream",
     "text": [
      "Fitting configuration: \n",
      "{'clustering_choice': 'SpectralClustering', 'affinity___SpectralClustering': 'laplacian', 'dim_reduction_choice': 'KernelPCA', 'n_components___KernelPCA': 7, 'assign_labels___SpectralClustering': 'kmeans', 'n_clusters___SpectralClustering': 10, 'kernel___KernelPCA': 'poly', 'eigen_solver___SpectralClustering': 'arpack'}\n",
      "Score obtained by this configuration: inf\n"
     ]
    },
    {
     "name": "stderr",
     "output_type": "stream",
     "text": [
      "WARNING:smac.tae.execute_func.ExecuteTAFuncDict:Target Algorithm returned NaN or inf as quality. Algorithm run is treated as CRASHED, cost is set to 2147483647.0 for quality scenarios. (Change value through \"cost_for_crash\"-option.)\n"
     ]
    },
    {
     "name": "stdout",
     "output_type": "stream",
     "text": [
      "Fitting configuration: \n",
      "{'clustering_choice': 'Birch', 'dim_reduction_choice': 'KernelPCA', 'n_components___KernelPCA': 5, 'branching_factor___Birch': 83, 'kernel___KernelPCA': 'poly', 'n_clusters___Birch': 9}\n"
     ]
    },
    {
     "name": "stderr",
     "output_type": "stream",
     "text": [
      "/home/coffeetumbler/anaconda3/envs/automl/lib/python3.5/site-packages/sklearn/cluster/birch.py:627: ConvergenceWarning: Number of subclusters found (3) by Birch is less than (9). Decrease the threshold.\n",
      "  % (len(centroids), self.n_clusters), ConvergenceWarning)\n"
     ]
    },
    {
     "name": "stdout",
     "output_type": "stream",
     "text": [
      "Score obtained by this configuration: inf\n"
     ]
    },
    {
     "name": "stderr",
     "output_type": "stream",
     "text": [
      "WARNING:smac.tae.execute_func.ExecuteTAFuncDict:Target Algorithm returned NaN or inf as quality. Algorithm run is treated as CRASHED, cost is set to 2147483647.0 for quality scenarios. (Change value through \"cost_for_crash\"-option.)\n"
     ]
    },
    {
     "name": "stdout",
     "output_type": "stream",
     "text": [
      "Fitting configuration: \n",
      "{'clustering_choice': 'AgglomerativeClustering', 'dim_reduction_choice': 'KernelPCA', 'affinity___AgglomerativeClustering': 'l2', 'kernel___KernelPCA': 'poly', 'linkage___AgglomerativeClustering': 'average', 'n_clusters___AgglomerativeClustering': 15, 'n_components___KernelPCA': 8}\n",
      "Score obtained by this configuration: inf\n"
     ]
    },
    {
     "name": "stderr",
     "output_type": "stream",
     "text": [
      "WARNING:smac.tae.execute_func.ExecuteTAFuncDict:Target Algorithm returned NaN or inf as quality. Algorithm run is treated as CRASHED, cost is set to 2147483647.0 for quality scenarios. (Change value through \"cost_for_crash\"-option.)\n"
     ]
    },
    {
     "name": "stdout",
     "output_type": "stream",
     "text": [
      "Fitting configuration: \n",
      "{'clustering_choice': 'KMeans', 'kernel___KernelPCA': 'poly', 'dim_reduction_choice': 'KernelPCA', 'n_clusters___KMeans': 15, 'n_components___KernelPCA': 2}\n",
      "Score obtained by this configuration: inf\n"
     ]
    },
    {
     "name": "stderr",
     "output_type": "stream",
     "text": [
      "WARNING:smac.tae.execute_func.ExecuteTAFuncDict:Target Algorithm returned NaN or inf as quality. Algorithm run is treated as CRASHED, cost is set to 2147483647.0 for quality scenarios. (Change value through \"cost_for_crash\"-option.)\n"
     ]
    },
    {
     "name": "stdout",
     "output_type": "stream",
     "text": [
      "Fitting configuration: \n",
      "{'clustering_choice': 'Birch', 'dim_reduction_choice': 'PCA', 'branching_factor___Birch': 50, 'svd_solver___PCA': 'auto', 'n_clusters___Birch': 3, 'n_components___PCA': 2}\n",
      "Score obtained by this configuration: 0.40243766643343903\n",
      "Fitting configuration: \n",
      "{'clustering_choice': 'MiniBatchKMeans', 'n_components___TSNE': 2, 'dim_reduction_choice': 'TSNE', 'early_exaggeration___TSNE': 6.112145599966696, 'batch_size___MiniBatchKMeans': 773, 'perplexity___TSNE': 250.7576475481927, 'n_clusters___MiniBatchKMeans': 10}\n",
      "Fitting configuration: \n",
      "{'clustering_choice': 'SpectralClustering', 'affinity___SpectralClustering': 'rbf', 'dim_reduction_choice': 'TSNE', 'early_exaggeration___TSNE': 12.86122333165967, 'n_clusters___SpectralClustering': 3, 'assign_labels___SpectralClustering': 'kmeans', 'perplexity___TSNE': 237.68038043104409, 'eigen_solver___SpectralClustering': 'arpack', 'n_components___TSNE': 2}\n",
      "Fitting configuration: \n",
      "{'clustering_choice': 'MiniBatchKMeans', 'n_components___TSNE': 2, 'dim_reduction_choice': 'TSNE', 'early_exaggeration___TSNE': 5.92345241675155, 'batch_size___MiniBatchKMeans': 891, 'perplexity___TSNE': 234.05607785844984, 'n_clusters___MiniBatchKMeans': 20}\n",
      "Fitting configuration: \n",
      "{'clustering_choice': 'KMeans', 'fun___FastICA': 'cube', 'dim_reduction_choice': 'FastICA', 'whiten___FastICA': True, 'n_components___FastICA': 2, 'n_clusters___KMeans': 3, 'algorithm___FastICA': 'parallel'}\n",
      "Score obtained by this configuration: 0.3791339369500181\n",
      "Fitting configuration: \n",
      "{'clustering_choice': 'DBSCAN', 'dim_reduction_choice': 'TruncatedSVD', 'algorithm___TruncatedSVD': 'randomized', 'eps___DBSCAN': 3.3348244742189315, 'n_components___TruncatedSVD': 3, 'min_samples___DBSCAN': 74}\n",
      "Score obtained by this configuration: 0.5378150571928654\n",
      "Fitting configuration: \n",
      "{'clustering_choice': 'OPTICS', 'dim_reduction_choice': 'KernelPCA', 'metric___OPTICS': 'minkowski', 'min_samples___OPTICS': 788, 'cluster_method___OPTICS': 'xi', 'kernel___KernelPCA': 'poly', 'n_components___KernelPCA': 7}\n"
     ]
    },
    {
     "name": "stderr",
     "output_type": "stream",
     "text": [
      "Process pynisher function call:\n",
      "Traceback (most recent call last):\n",
      "  File \"/home/coffeetumbler/anaconda3/envs/automl/lib/python3.5/multiprocessing/process.py\", line 252, in _bootstrap\n",
      "    self.run()\n",
      "  File \"/home/coffeetumbler/anaconda3/envs/automl/lib/python3.5/multiprocessing/process.py\", line 93, in run\n",
      "    self._target(*self._args, **self._kwargs)\n",
      "  File \"/home/coffeetumbler/anaconda3/envs/automl/lib/python3.5/site-packages/pynisher/limit_function_call.py\", line 93, in subprocess_func\n",
      "    return_value = ((func(*args, **kwargs), 0))\n",
      "  File \"/home/coffeetumbler/automl_2019/autocluster/autocluster.py\", line 249, in evaluate_model\n",
      "    y_pred = clustering_model.fit_predict(compressed_valid_data)\n",
      "  File \"/home/coffeetumbler/anaconda3/envs/automl/lib/python3.5/site-packages/sklearn/base.py\", line 447, in fit_predict\n",
      "    self.fit(X)\n",
      "  File \"/home/coffeetumbler/anaconda3/envs/automl/lib/python3.5/site-packages/sklearn/cluster/optics_.py\", line 248, in fit\n",
      "    max_eps=self.max_eps)\n",
      "  File \"/home/coffeetumbler/anaconda3/envs/automl/lib/python3.5/site-packages/sklearn/cluster/optics_.py\", line 438, in compute_optics_graph\n",
      "    _validate_size(min_samples, n_samples, 'min_samples')\n",
      "  File \"/home/coffeetumbler/anaconda3/envs/automl/lib/python3.5/site-packages/sklearn/cluster/optics_.py\", line 290, in _validate_size\n",
      "    (param_name, n_samples, size))\n",
      "ValueError: min_samples must be no greater than the number of samples (447). Got 788\n"
     ]
    },
    {
     "name": "stdout",
     "output_type": "stream",
     "text": [
      "Fitting configuration: \n",
      "{'clustering_choice': 'KMeans', 'kernel___KernelPCA': 'cosine', 'dim_reduction_choice': 'KernelPCA', 'n_clusters___KMeans': 29, 'n_components___KernelPCA': 3}\n",
      "Score obtained by this configuration: 0.4608222686965544\n",
      "Fitting configuration: \n",
      "{'clustering_choice': 'AffinityPropagation', 'dim_reduction_choice': 'KernelPCA', 'damping___AffinityPropagation': 0.8279287395007919, 'n_components___KernelPCA': 3, 'kernel___KernelPCA': 'cosine', 'affinity___AffinityPropagation': 'euclidean'}\n",
      "Score obtained by this configuration: 0.4578853808780298\n",
      "Fitting configuration: \n",
      "{'clustering_choice': 'MiniBatchKMeans', 'dim_reduction_choice': 'KernelPCA', 'n_components___KernelPCA': 2, 'batch_size___MiniBatchKMeans': 668, 'kernel___KernelPCA': 'cosine', 'n_clusters___MiniBatchKMeans': 9}\n",
      "Score obtained by this configuration: 0.3951628818638058\n",
      "Fitting configuration: \n",
      "{'clustering_choice': 'MiniBatchKMeans', 'dim_reduction_choice': 'KernelPCA', 'n_components___KernelPCA': 3, 'batch_size___MiniBatchKMeans': 362, 'kernel___KernelPCA': 'cosine', 'n_clusters___MiniBatchKMeans': 29}\n",
      "Score obtained by this configuration: 0.4645336655016288\n",
      "Fitting configuration: \n",
      "{'clustering_choice': 'MiniBatchKMeans', 'dim_reduction_choice': 'KernelPCA', 'n_components___KernelPCA': 3, 'batch_size___MiniBatchKMeans': 190, 'kernel___KernelPCA': 'cosine', 'n_clusters___MiniBatchKMeans': 22}\n",
      "Score obtained by this configuration: 0.46457346065834854\n",
      "Fitting configuration: \n",
      "{'clustering_choice': 'GaussianMixture', 'covariance_type___GaussianMixture': 'tied', 'dim_reduction_choice': 'KernelPCA', 'n_components___KernelPCA': 3, 'init_params___GaussianMixture': 'kmeans', 'kernel___KernelPCA': 'cosine', 'n_components___GaussianMixture': 8}\n",
      "Score obtained by this configuration: 0.43158485203011754\n",
      "Fitting configuration: \n",
      "{'clustering_choice': 'MiniBatchKMeans', 'dim_reduction_choice': 'KernelPCA', 'n_components___KernelPCA': 7, 'batch_size___MiniBatchKMeans': 154, 'kernel___KernelPCA': 'cosine', 'n_clusters___MiniBatchKMeans': 9}\n",
      "Score obtained by this configuration: 0.5225154920340163\n",
      "Fitting configuration: \n",
      "{'clustering_choice': 'SpectralClustering', 'affinity___SpectralClustering': 'poly', 'dim_reduction_choice': 'KernelPCA', 'n_components___KernelPCA': 2, 'assign_labels___SpectralClustering': 'kmeans', 'n_clusters___SpectralClustering': 10, 'kernel___KernelPCA': 'cosine', 'eigen_solver___SpectralClustering': 'arpack'}\n",
      "Score obtained by this configuration: 0.39518115990315245\n",
      "Fitting configuration: \n",
      "{'clustering_choice': 'KMeans', 'kernel___KernelPCA': 'cosine', 'dim_reduction_choice': 'KernelPCA', 'n_clusters___KMeans': 12, 'n_components___KernelPCA': 2}\n",
      "Score obtained by this configuration: 0.398756695843927\n",
      "Fitting configuration: \n",
      "{'clustering_choice': 'GaussianMixture', 'covariance_type___GaussianMixture': 'diag', 'dim_reduction_choice': 'TruncatedSVD', 'n_components___GaussianMixture': 9, 'init_params___GaussianMixture': 'kmeans', 'algorithm___TruncatedSVD': 'arpack', 'n_components___TruncatedSVD': 5}\n",
      "Score obtained by this configuration: 0.5115363219048842\n",
      "Fitting configuration: \n",
      "{'clustering_choice': 'MiniBatchKMeans', 'dim_reduction_choice': 'KernelPCA', 'n_components___KernelPCA': 3, 'batch_size___MiniBatchKMeans': 144, 'kernel___KernelPCA': 'cosine', 'n_clusters___MiniBatchKMeans': 11}\n",
      "Score obtained by this configuration: 0.45481599712189663\n",
      "Fitting configuration: \n",
      "{'clustering_choice': 'MiniBatchKMeans', 'dim_reduction_choice': 'KernelPCA', 'n_components___KernelPCA': 3, 'batch_size___MiniBatchKMeans': 182, 'kernel___KernelPCA': 'cosine', 'n_clusters___MiniBatchKMeans': 23}\n",
      "Score obtained by this configuration: 0.4647347256956118\n",
      "Fitting configuration: \n",
      "{'clustering_choice': 'GaussianMixture', 'covariance_type___GaussianMixture': 'tied', 'dim_reduction_choice': 'KernelPCA', 'n_components___KernelPCA': 3, 'init_params___GaussianMixture': 'kmeans', 'kernel___KernelPCA': 'cosine', 'n_components___GaussianMixture': 5}\n",
      "Score obtained by this configuration: 0.4476984837514781\n",
      "Fitting configuration: \n",
      "{'clustering_choice': 'SpectralClustering', 'affinity___SpectralClustering': 'poly', 'dim_reduction_choice': 'IncrementalPCA', 'n_clusters___SpectralClustering': 1, 'assign_labels___SpectralClustering': 'kmeans', 'n_components___IncrementalPCA': 3, 'whiten___IncrementalPCA': True, 'eigen_solver___SpectralClustering': 'arpack', 'batch_size___IncrementalPCA': 780}\n",
      "Score obtained by this configuration: inf\n"
     ]
    },
    {
     "name": "stderr",
     "output_type": "stream",
     "text": [
      "WARNING:smac.tae.execute_func.ExecuteTAFuncDict:Target Algorithm returned NaN or inf as quality. Algorithm run is treated as CRASHED, cost is set to 2147483647.0 for quality scenarios. (Change value through \"cost_for_crash\"-option.)\n"
     ]
    },
    {
     "name": "stdout",
     "output_type": "stream",
     "text": [
      "Fitting configuration: \n",
      "{'clustering_choice': 'GaussianMixture', 'covariance_type___GaussianMixture': 'diag', 'dim_reduction_choice': 'KernelPCA', 'n_components___KernelPCA': 3, 'init_params___GaussianMixture': 'kmeans', 'kernel___KernelPCA': 'cosine', 'n_components___GaussianMixture': 4}\n",
      "Score obtained by this configuration: 0.4517615588592725\n",
      "Fitting configuration: \n",
      "{'clustering_choice': 'AgglomerativeClustering', 'dim_reduction_choice': 'KernelPCA', 'affinity___AgglomerativeClustering': 'euclidean', 'kernel___KernelPCA': 'cosine', 'linkage___AgglomerativeClustering': 'ward', 'n_clusters___AgglomerativeClustering': 28, 'n_components___KernelPCA': 3}\n",
      "Score obtained by this configuration: 0.45941624565510164\n",
      "Fitting configuration: \n",
      "{'clustering_choice': 'GaussianMixture', 'covariance_type___GaussianMixture': 'diag', 'dim_reduction_choice': 'TruncatedSVD', 'n_components___GaussianMixture': 6, 'init_params___GaussianMixture': 'random', 'algorithm___TruncatedSVD': 'randomized', 'warm_start___GaussianMixture': True, 'n_components___TruncatedSVD': 8}\n",
      "Score obtained by this configuration: 0.5525128219586719\n",
      "Fitting configuration: \n",
      "{'clustering_choice': 'Birch', 'dim_reduction_choice': 'KernelPCA', 'n_components___KernelPCA': 2, 'branching_factor___Birch': 385, 'kernel___KernelPCA': 'cosine', 'n_clusters___Birch': 12}\n"
     ]
    },
    {
     "name": "stderr",
     "output_type": "stream",
     "text": [
      "/home/coffeetumbler/anaconda3/envs/automl/lib/python3.5/site-packages/sklearn/cluster/birch.py:627: ConvergenceWarning: Number of subclusters found (2) by Birch is less than (12). Decrease the threshold.\n",
      "  % (len(centroids), self.n_clusters), ConvergenceWarning)\n",
      "/home/coffeetumbler/anaconda3/envs/automl/lib/python3.5/site-packages/sklearn/cluster/birch.py:627: ConvergenceWarning: Number of subclusters found (2) by Birch is less than (12). Decrease the threshold.\n",
      "  % (len(centroids), self.n_clusters), ConvergenceWarning)\n",
      "/home/coffeetumbler/anaconda3/envs/automl/lib/python3.5/site-packages/sklearn/cluster/birch.py:627: ConvergenceWarning: Number of subclusters found (2) by Birch is less than (12). Decrease the threshold.\n",
      "  % (len(centroids), self.n_clusters), ConvergenceWarning)\n",
      "/home/coffeetumbler/anaconda3/envs/automl/lib/python3.5/site-packages/sklearn/cluster/birch.py:627: ConvergenceWarning: Number of subclusters found (4) by Birch is less than (12). Decrease the threshold.\n",
      "  % (len(centroids), self.n_clusters), ConvergenceWarning)\n",
      "/home/coffeetumbler/anaconda3/envs/automl/lib/python3.5/site-packages/sklearn/cluster/birch.py:627: ConvergenceWarning: Number of subclusters found (2) by Birch is less than (12). Decrease the threshold.\n",
      "  % (len(centroids), self.n_clusters), ConvergenceWarning)\n",
      "/home/coffeetumbler/anaconda3/envs/automl/lib/python3.5/site-packages/sklearn/cluster/birch.py:627: ConvergenceWarning: Number of subclusters found (2) by Birch is less than (12). Decrease the threshold.\n",
      "  % (len(centroids), self.n_clusters), ConvergenceWarning)\n"
     ]
    },
    {
     "name": "stdout",
     "output_type": "stream",
     "text": [
      "Score obtained by this configuration: 0.4591151898536629\n",
      "Fitting configuration: \n",
      "{'clustering_choice': 'MiniBatchKMeans', 'dim_reduction_choice': 'PCA', 'batch_size___MiniBatchKMeans': 191, 'svd_solver___PCA': 'arpack', 'n_clusters___MiniBatchKMeans': 6, 'n_components___PCA': 3}\n",
      "Score obtained by this configuration: 0.4464022373583516\n",
      "Fitting configuration: \n",
      "{'clustering_choice': 'DBSCAN', 'dim_reduction_choice': 'KernelPCA', 'n_components___KernelPCA': 2, 'kernel___KernelPCA': 'poly', 'eps___DBSCAN': 0.33357409867392923, 'min_samples___DBSCAN': 85}\n",
      "Score obtained by this configuration: inf\n"
     ]
    },
    {
     "name": "stderr",
     "output_type": "stream",
     "text": [
      "WARNING:smac.tae.execute_func.ExecuteTAFuncDict:Target Algorithm returned NaN or inf as quality. Algorithm run is treated as CRASHED, cost is set to 2147483647.0 for quality scenarios. (Change value through \"cost_for_crash\"-option.)\n"
     ]
    },
    {
     "name": "stdout",
     "output_type": "stream",
     "text": [
      "Fitting configuration: \n",
      "{'clustering_choice': 'DBSCAN', 'dim_reduction_choice': 'KernelPCA', 'n_components___KernelPCA': 3, 'kernel___KernelPCA': 'poly', 'eps___DBSCAN': 0.4911184393167958, 'min_samples___DBSCAN': 30}\n",
      "Score obtained by this configuration: inf\n"
     ]
    },
    {
     "name": "stderr",
     "output_type": "stream",
     "text": [
      "WARNING:smac.tae.execute_func.ExecuteTAFuncDict:Target Algorithm returned NaN or inf as quality. Algorithm run is treated as CRASHED, cost is set to 2147483647.0 for quality scenarios. (Change value through \"cost_for_crash\"-option.)\n"
     ]
    },
    {
     "name": "stdout",
     "output_type": "stream",
     "text": [
      "Fitting configuration: \n",
      "{'clustering_choice': 'DBSCAN', 'dim_reduction_choice': 'KernelPCA', 'n_components___KernelPCA': 3, 'kernel___KernelPCA': 'poly', 'eps___DBSCAN': 0.46609068939941084, 'min_samples___DBSCAN': 8}\n",
      "Score obtained by this configuration: inf\n"
     ]
    },
    {
     "name": "stderr",
     "output_type": "stream",
     "text": [
      "WARNING:smac.tae.execute_func.ExecuteTAFuncDict:Target Algorithm returned NaN or inf as quality. Algorithm run is treated as CRASHED, cost is set to 2147483647.0 for quality scenarios. (Change value through \"cost_for_crash\"-option.)\n"
     ]
    },
    {
     "name": "stdout",
     "output_type": "stream",
     "text": [
      "Fitting configuration: \n",
      "{'clustering_choice': 'DBSCAN', 'dim_reduction_choice': 'KernelPCA', 'n_components___KernelPCA': 3, 'kernel___KernelPCA': 'poly', 'eps___DBSCAN': 0.42763622817394803, 'min_samples___DBSCAN': 13}\n",
      "Score obtained by this configuration: inf\n"
     ]
    },
    {
     "name": "stderr",
     "output_type": "stream",
     "text": [
      "WARNING:smac.tae.execute_func.ExecuteTAFuncDict:Target Algorithm returned NaN or inf as quality. Algorithm run is treated as CRASHED, cost is set to 2147483647.0 for quality scenarios. (Change value through \"cost_for_crash\"-option.)\n"
     ]
    },
    {
     "name": "stdout",
     "output_type": "stream",
     "text": [
      "Fitting configuration: \n",
      "{'clustering_choice': 'DBSCAN', 'dim_reduction_choice': 'KernelPCA', 'n_components___KernelPCA': 3, 'kernel___KernelPCA': 'poly', 'eps___DBSCAN': 0.3597676486445218, 'min_samples___DBSCAN': 10}\n",
      "Score obtained by this configuration: inf\n"
     ]
    },
    {
     "name": "stderr",
     "output_type": "stream",
     "text": [
      "WARNING:smac.tae.execute_func.ExecuteTAFuncDict:Target Algorithm returned NaN or inf as quality. Algorithm run is treated as CRASHED, cost is set to 2147483647.0 for quality scenarios. (Change value through \"cost_for_crash\"-option.)\n"
     ]
    },
    {
     "name": "stdout",
     "output_type": "stream",
     "text": [
      "Fitting configuration: \n",
      "{'clustering_choice': 'DBSCAN', 'n_components___TSNE': 2, 'dim_reduction_choice': 'TSNE', 'early_exaggeration___TSNE': 13.486116543319527, 'eps___DBSCAN': 1.4543702868272501, 'perplexity___TSNE': 207.2286787061756, 'min_samples___DBSCAN': 73}\n",
      "Fitting configuration: \n",
      "{'clustering_choice': 'DBSCAN', 'dim_reduction_choice': 'KernelPCA', 'n_components___KernelPCA': 4, 'kernel___KernelPCA': 'poly', 'eps___DBSCAN': 0.45622940930651806, 'min_samples___DBSCAN': 25}\n",
      "Score obtained by this configuration: inf\n"
     ]
    },
    {
     "name": "stderr",
     "output_type": "stream",
     "text": [
      "WARNING:smac.tae.execute_func.ExecuteTAFuncDict:Target Algorithm returned NaN or inf as quality. Algorithm run is treated as CRASHED, cost is set to 2147483647.0 for quality scenarios. (Change value through \"cost_for_crash\"-option.)\n"
     ]
    },
    {
     "name": "stdout",
     "output_type": "stream",
     "text": [
      "Fitting configuration: \n",
      "{'clustering_choice': 'DBSCAN', 'fun___FastICA': 'exp', 'dim_reduction_choice': 'FastICA', 'whiten___FastICA': True, 'n_components___FastICA': 2, 'eps___DBSCAN': 0.04642250559297685, 'algorithm___FastICA': 'deflation', 'min_samples___DBSCAN': 28}\n",
      "Score obtained by this configuration: inf\n"
     ]
    },
    {
     "name": "stderr",
     "output_type": "stream",
     "text": [
      "WARNING:smac.tae.execute_func.ExecuteTAFuncDict:Target Algorithm returned NaN or inf as quality. Algorithm run is treated as CRASHED, cost is set to 2147483647.0 for quality scenarios. (Change value through \"cost_for_crash\"-option.)\n"
     ]
    },
    {
     "name": "stdout",
     "output_type": "stream",
     "text": [
      "Fitting configuration: \n",
      "{'clustering_choice': 'DBSCAN', 'dim_reduction_choice': 'KernelPCA', 'n_components___KernelPCA': 2, 'kernel___KernelPCA': 'sigmoid', 'eps___DBSCAN': 0.2613984466855124, 'min_samples___DBSCAN': 18}\n",
      "Score obtained by this configuration: inf\n"
     ]
    },
    {
     "name": "stderr",
     "output_type": "stream",
     "text": [
      "WARNING:smac.tae.execute_func.ExecuteTAFuncDict:Target Algorithm returned NaN or inf as quality. Algorithm run is treated as CRASHED, cost is set to 2147483647.0 for quality scenarios. (Change value through \"cost_for_crash\"-option.)\n"
     ]
    },
    {
     "name": "stdout",
     "output_type": "stream",
     "text": [
      "Fitting configuration: \n",
      "{'clustering_choice': 'DBSCAN', 'dim_reduction_choice': 'KernelPCA', 'n_components___KernelPCA': 3, 'kernel___KernelPCA': 'sigmoid', 'eps___DBSCAN': 0.4911184393167958, 'min_samples___DBSCAN': 18}\n",
      "Score obtained by this configuration: inf\n"
     ]
    },
    {
     "name": "stderr",
     "output_type": "stream",
     "text": [
      "WARNING:smac.tae.execute_func.ExecuteTAFuncDict:Target Algorithm returned NaN or inf as quality. Algorithm run is treated as CRASHED, cost is set to 2147483647.0 for quality scenarios. (Change value through \"cost_for_crash\"-option.)\n"
     ]
    },
    {
     "name": "stdout",
     "output_type": "stream",
     "text": [
      "Fitting configuration: \n",
      "{'clustering_choice': 'DBSCAN', 'dim_reduction_choice': 'KernelPCA', 'n_components___KernelPCA': 4, 'kernel___KernelPCA': 'sigmoid', 'eps___DBSCAN': 0.4431447716161244, 'min_samples___DBSCAN': 12}\n",
      "Score obtained by this configuration: inf\n"
     ]
    },
    {
     "name": "stderr",
     "output_type": "stream",
     "text": [
      "WARNING:smac.tae.execute_func.ExecuteTAFuncDict:Target Algorithm returned NaN or inf as quality. Algorithm run is treated as CRASHED, cost is set to 2147483647.0 for quality scenarios. (Change value through \"cost_for_crash\"-option.)\n"
     ]
    },
    {
     "name": "stdout",
     "output_type": "stream",
     "text": [
      "Fitting configuration: \n",
      "{'clustering_choice': 'SpectralClustering', 'affinity___SpectralClustering': 'laplacian', 'dim_reduction_choice': 'TruncatedSVD', 'eigen_solver___SpectralClustering': 'arpack', 'assign_labels___SpectralClustering': 'kmeans', 'n_clusters___SpectralClustering': 7, 'algorithm___TruncatedSVD': 'randomized', 'n_components___TruncatedSVD': 2}\n",
      "Score obtained by this configuration: 0.39498724227356324\n",
      "Fitting configuration: \n",
      "{'clustering_choice': 'DBSCAN', 'dim_reduction_choice': 'KernelPCA', 'n_components___KernelPCA': 5, 'kernel___KernelPCA': 'sigmoid', 'eps___DBSCAN': 0.4872295004818057, 'min_samples___DBSCAN': 15}\n",
      "Score obtained by this configuration: inf\n"
     ]
    },
    {
     "name": "stderr",
     "output_type": "stream",
     "text": [
      "WARNING:smac.tae.execute_func.ExecuteTAFuncDict:Target Algorithm returned NaN or inf as quality. Algorithm run is treated as CRASHED, cost is set to 2147483647.0 for quality scenarios. (Change value through \"cost_for_crash\"-option.)\n"
     ]
    },
    {
     "name": "stdout",
     "output_type": "stream",
     "text": [
      "Fitting configuration: \n",
      "{'clustering_choice': 'DBSCAN', 'dim_reduction_choice': 'IncrementalPCA', 'eps___DBSCAN': 1.2911136728166452, 'whiten___IncrementalPCA': True, 'n_components___IncrementalPCA': 3, 'min_samples___DBSCAN': 14, 'batch_size___IncrementalPCA': 566}\n",
      "Score obtained by this configuration: inf\n"
     ]
    },
    {
     "name": "stderr",
     "output_type": "stream",
     "text": [
      "WARNING:smac.tae.execute_func.ExecuteTAFuncDict:Target Algorithm returned NaN or inf as quality. Algorithm run is treated as CRASHED, cost is set to 2147483647.0 for quality scenarios. (Change value through \"cost_for_crash\"-option.)\n"
     ]
    },
    {
     "name": "stdout",
     "output_type": "stream",
     "text": [
      "Fitting configuration: \n",
      "{'clustering_choice': 'DBSCAN', 'dim_reduction_choice': 'KernelPCA', 'n_components___KernelPCA': 3, 'kernel___KernelPCA': 'sigmoid', 'eps___DBSCAN': 0.12320956350310737, 'min_samples___DBSCAN': 9}\n",
      "Score obtained by this configuration: 0.5982198547916354\n",
      "Fitting configuration: \n",
      "{'clustering_choice': 'DBSCAN', 'dim_reduction_choice': 'IncrementalPCA', 'eps___DBSCAN': 1.2410476486901236, 'min_samples___DBSCAN': 13, 'n_components___IncrementalPCA': 3, 'batch_size___IncrementalPCA': 494}\n",
      "Score obtained by this configuration: 0.5780520771520251\n",
      "Fitting configuration: \n",
      "{'clustering_choice': 'DBSCAN', 'dim_reduction_choice': 'PCA', 'whiten___PCA': True, 'eps___DBSCAN': 0.4491675983200766, 'n_components___PCA': 2, 'svd_solver___PCA': 'randomized', 'min_samples___DBSCAN': 43}\n",
      "Score obtained by this configuration: 0.5106124214148123\n",
      "Fitting configuration: \n",
      "{'clustering_choice': 'AgglomerativeClustering', 'dim_reduction_choice': 'TruncatedSVD', 'affinity___AgglomerativeClustering': 'l1', 'algorithm___TruncatedSVD': 'arpack', 'linkage___AgglomerativeClustering': 'single', 'n_components___TruncatedSVD': 7, 'n_clusters___AgglomerativeClustering': 19}\n",
      "Score obtained by this configuration: inf\n"
     ]
    },
    {
     "name": "stderr",
     "output_type": "stream",
     "text": [
      "WARNING:smac.tae.execute_func.ExecuteTAFuncDict:Target Algorithm returned NaN or inf as quality. Algorithm run is treated as CRASHED, cost is set to 2147483647.0 for quality scenarios. (Change value through \"cost_for_crash\"-option.)\n"
     ]
    },
    {
     "name": "stdout",
     "output_type": "stream",
     "text": [
      "Fitting configuration: \n",
      "{'clustering_choice': 'GaussianMixture', 'covariance_type___GaussianMixture': 'tied', 'dim_reduction_choice': 'KernelPCA', 'n_components___KernelPCA': 5, 'init_params___GaussianMixture': 'kmeans', 'kernel___KernelPCA': 'rbf', 'warm_start___GaussianMixture': True, 'n_components___GaussianMixture': 11}\n",
      "Score obtained by this configuration: 0.496073990510723\n",
      "Fitting configuration: \n",
      "{'clustering_choice': 'GaussianMixture', 'covariance_type___GaussianMixture': 'tied', 'dim_reduction_choice': 'KernelPCA', 'n_components___KernelPCA': 5, 'init_params___GaussianMixture': 'random', 'kernel___KernelPCA': 'rbf', 'warm_start___GaussianMixture': True, 'n_components___GaussianMixture': 44}\n",
      "Score obtained by this configuration: inf\n"
     ]
    },
    {
     "name": "stderr",
     "output_type": "stream",
     "text": [
      "WARNING:smac.tae.execute_func.ExecuteTAFuncDict:Target Algorithm returned NaN or inf as quality. Algorithm run is treated as CRASHED, cost is set to 2147483647.0 for quality scenarios. (Change value through \"cost_for_crash\"-option.)\n"
     ]
    },
    {
     "name": "stdout",
     "output_type": "stream",
     "text": [
      "Fitting configuration: \n",
      "{'clustering_choice': 'GaussianMixture', 'covariance_type___GaussianMixture': 'full', 'dim_reduction_choice': 'KernelPCA', 'n_components___KernelPCA': 8, 'init_params___GaussianMixture': 'kmeans', 'kernel___KernelPCA': 'cosine', 'warm_start___GaussianMixture': True, 'n_components___GaussianMixture': 73}\n",
      "Score obtained by this configuration: 0.5768314983762988\n",
      "Fitting configuration: \n",
      "{'clustering_choice': 'SpectralClustering', 'fun___FastICA': 'logcosh', 'dim_reduction_choice': 'FastICA', 'n_components___FastICA': 3, 'whiten___FastICA': True, 'n_clusters___SpectralClustering': 2, 'assign_labels___SpectralClustering': 'kmeans', 'affinity___SpectralClustering': 'sigmoid', 'algorithm___FastICA': 'parallel', 'eigen_solver___SpectralClustering': 'arpack'}\n",
      "Score obtained by this configuration: 0.5565541374288808\n",
      "Fitting configuration: \n",
      "{'clustering_choice': 'AgglomerativeClustering', 'dim_reduction_choice': 'KernelPCA', 'affinity___AgglomerativeClustering': 'cosine', 'kernel___KernelPCA': 'linear', 'linkage___AgglomerativeClustering': 'single', 'n_clusters___AgglomerativeClustering': 53, 'n_components___KernelPCA': 2}\n",
      "Score obtained by this configuration: 0.5960708538283953\n",
      "Fitting configuration: \n",
      "{'clustering_choice': 'DBSCAN', 'fun___FastICA': 'cube', 'dim_reduction_choice': 'FastICA', 'whiten___FastICA': True, 'n_components___FastICA': 3, 'eps___DBSCAN': 0.3203676393525975, 'algorithm___FastICA': 'deflation', 'min_samples___DBSCAN': 5}\n",
      "Score obtained by this configuration: inf\n"
     ]
    },
    {
     "name": "stderr",
     "output_type": "stream",
     "text": [
      "WARNING:smac.tae.execute_func.ExecuteTAFuncDict:Target Algorithm returned NaN or inf as quality. Algorithm run is treated as CRASHED, cost is set to 2147483647.0 for quality scenarios. (Change value through \"cost_for_crash\"-option.)\n"
     ]
    },
    {
     "name": "stdout",
     "output_type": "stream",
     "text": [
      "Fitting configuration: \n",
      "{'clustering_choice': 'KMeans', 'kernel___KernelPCA': 'linear', 'dim_reduction_choice': 'KernelPCA', 'n_clusters___KMeans': 13, 'n_components___KernelPCA': 4}\n",
      "Score obtained by this configuration: 0.47384340944037034\n",
      "Fitting configuration: \n",
      "{'clustering_choice': 'KMeans', 'kernel___KernelPCA': 'linear', 'dim_reduction_choice': 'KernelPCA', 'n_clusters___KMeans': 8, 'n_components___KernelPCA': 4}\n",
      "Score obtained by this configuration: 0.4664813365322136\n",
      "Fitting configuration: \n",
      "{'clustering_choice': 'Birch', 'dim_reduction_choice': 'KernelPCA', 'n_components___KernelPCA': 2, 'branching_factor___Birch': 174, 'kernel___KernelPCA': 'linear', 'n_clusters___Birch': 10}\n",
      "Score obtained by this configuration: 0.4052013632209041\n",
      "Fitting configuration: \n",
      "{'clustering_choice': 'Birch', 'dim_reduction_choice': 'KernelPCA', 'n_components___KernelPCA': 2, 'branching_factor___Birch': 10, 'kernel___KernelPCA': 'linear', 'n_clusters___Birch': 1}\n",
      "Score obtained by this configuration: inf\n"
     ]
    },
    {
     "name": "stderr",
     "output_type": "stream",
     "text": [
      "WARNING:smac.tae.execute_func.ExecuteTAFuncDict:Target Algorithm returned NaN or inf as quality. Algorithm run is treated as CRASHED, cost is set to 2147483647.0 for quality scenarios. (Change value through \"cost_for_crash\"-option.)\n"
     ]
    },
    {
     "name": "stdout",
     "output_type": "stream",
     "text": [
      "Fitting configuration: \n",
      "{'clustering_choice': 'AffinityPropagation', 'dim_reduction_choice': 'KernelPCA', 'damping___AffinityPropagation': 0.5900083848195896, 'n_components___KernelPCA': 2, 'kernel___KernelPCA': 'cosine', 'affinity___AffinityPropagation': 'euclidean'}\n",
      "Score obtained by this configuration: 0.4074551043954691\n",
      "Fitting configuration: \n",
      "{'clustering_choice': 'AffinityPropagation', 'dim_reduction_choice': 'KernelPCA', 'damping___AffinityPropagation': 0.7561435239297982, 'n_components___KernelPCA': 2, 'kernel___KernelPCA': 'cosine', 'affinity___AffinityPropagation': 'euclidean'}\n",
      "Score obtained by this configuration: 0.4107968760475706\n",
      "Fitting configuration: \n",
      "{'clustering_choice': 'GaussianMixture', 'covariance_type___GaussianMixture': 'tied', 'dim_reduction_choice': 'FastICA', 'algorithm___FastICA': 'deflation', 'init_params___GaussianMixture': 'kmeans', 'n_components___FastICA': 3, 'fun___FastICA': 'cube', 'whiten___FastICA': True, 'n_components___GaussianMixture': 62}\n",
      "Score obtained by this configuration: 0.42526325489652334\n",
      "Fitting configuration: \n",
      "{'clustering_choice': 'MiniBatchKMeans', 'dim_reduction_choice': 'TruncatedSVD', 'batch_size___MiniBatchKMeans': 235, 'algorithm___TruncatedSVD': 'randomized', 'n_components___TruncatedSVD': 5, 'n_clusters___MiniBatchKMeans': 28}\n",
      "Score obtained by this configuration: 0.5054634605461371\n",
      "Fitting configuration: \n",
      "{'clustering_choice': 'MiniBatchKMeans', 'dim_reduction_choice': 'KernelPCA', 'n_components___KernelPCA': 8, 'batch_size___MiniBatchKMeans': 474, 'kernel___KernelPCA': 'linear', 'n_clusters___MiniBatchKMeans': 32}\n",
      "Score obtained by this configuration: 0.5261551470869307\n",
      "Fitting configuration: \n",
      "{'clustering_choice': 'MiniBatchKMeans', 'dim_reduction_choice': 'KernelPCA', 'n_components___KernelPCA': 2, 'batch_size___MiniBatchKMeans': 73, 'kernel___KernelPCA': 'linear', 'n_clusters___MiniBatchKMeans': 55}\n",
      "Score obtained by this configuration: 0.39076919132463467\n",
      "Fitting configuration: \n",
      "{'clustering_choice': 'OPTICS', 'n_components___TSNE': 2, 'dim_reduction_choice': 'TSNE', 'metric___OPTICS': 'l1', 'min_samples___OPTICS': 746, 'early_exaggeration___TSNE': 16.28310346313276, 'cluster_method___OPTICS': 'dbscan', 'perplexity___TSNE': 273.0652001299699}\n",
      "Fitting configuration: \n",
      "{'clustering_choice': 'AgglomerativeClustering', 'dim_reduction_choice': 'KernelPCA', 'affinity___AgglomerativeClustering': 'l1', 'kernel___KernelPCA': 'rbf', 'linkage___AgglomerativeClustering': 'complete', 'n_clusters___AgglomerativeClustering': 34, 'n_components___KernelPCA': 6}\n",
      "Score obtained by this configuration: 0.5210908109851559\n",
      "Fitting configuration: \n",
      "{'clustering_choice': 'Birch', 'n_components___TSNE': 2, 'dim_reduction_choice': 'TSNE', 'early_exaggeration___TSNE': 8.891357869201425, 'branching_factor___Birch': 733, 'perplexity___TSNE': 271.1351072572723, 'n_clusters___Birch': 8}\n",
      "Fitting configuration: \n",
      "{'clustering_choice': 'Birch', 'n_clusters___Birch': 39, 'branching_factor___Birch': 807, 'n_components___IncrementalPCA': 3, 'batch_size___IncrementalPCA': 711, 'dim_reduction_choice': 'IncrementalPCA'}\n",
      "Score obtained by this configuration: 0.44994502764944033\n",
      "Fitting configuration: \n",
      "{'clustering_choice': 'SpectralClustering', 'affinity___SpectralClustering': 'rbf', 'dim_reduction_choice': 'TruncatedSVD', 'eigen_solver___SpectralClustering': 'arpack', 'assign_labels___SpectralClustering': 'discretize', 'n_clusters___SpectralClustering': 34, 'algorithm___TruncatedSVD': 'arpack', 'n_components___TruncatedSVD': 3}\n",
      "Score obtained by this configuration: 0.43724257687560336\n",
      "Fitting configuration: \n",
      "{'clustering_choice': 'MeanShift', 'bin_seeding___MeanShift': True, 'dim_reduction_choice': 'TSNE', 'bandwidth___MeanShift': 33.012847009127846, 'early_exaggeration___TSNE': 8.622213783421856, 'n_components___TSNE': 2, 'perplexity___TSNE': 146.2437925489064}\n",
      "Fitting configuration: \n",
      "{'clustering_choice': 'SpectralClustering', 'affinity___SpectralClustering': 'rbf', 'dim_reduction_choice': 'TSNE', 'early_exaggeration___TSNE': 17.599907823169374, 'n_clusters___SpectralClustering': 13, 'assign_labels___SpectralClustering': 'discretize', 'perplexity___TSNE': 293.9662129593339, 'eigen_solver___SpectralClustering': 'arpack', 'n_components___TSNE': 2}\n",
      "Fitting configuration: \n",
      "{'clustering_choice': 'KMeans', 'fun___FastICA': 'exp', 'dim_reduction_choice': 'FastICA', 'whiten___FastICA': True, 'n_components___FastICA': 3, 'n_clusters___KMeans': 2, 'algorithm___FastICA': 'parallel'}\n",
      "Score obtained by this configuration: 0.5391150375754775\n",
      "Fitting configuration: \n",
      "{'clustering_choice': 'AffinityPropagation', 'dim_reduction_choice': 'IncrementalPCA', 'damping___AffinityPropagation': 0.7492238334978952, 'affinity___AffinityPropagation': 'euclidean', 'n_components___IncrementalPCA': 2, 'batch_size___IncrementalPCA': 51}\n",
      "Score obtained by this configuration: 0.4006292492183576\n",
      "Fitting configuration: \n",
      "{'clustering_choice': 'AffinityPropagation', 'dim_reduction_choice': 'KernelPCA', 'damping___AffinityPropagation': 0.8975941997984136, 'n_components___KernelPCA': 2, 'kernel___KernelPCA': 'linear', 'affinity___AffinityPropagation': 'euclidean'}\n",
      "Score obtained by this configuration: 0.4002369409427571\n",
      "Fitting configuration: \n",
      "{'clustering_choice': 'MiniBatchKMeans', 'fun___FastICA': 'logcosh', 'dim_reduction_choice': 'FastICA', 'n_components___FastICA': 2, 'batch_size___MiniBatchKMeans': 198, 'algorithm___FastICA': 'deflation', 'n_clusters___MiniBatchKMeans': 4}\n",
      "Score obtained by this configuration: 0.36549986030161885\n",
      "Fitting configuration: \n",
      "{'clustering_choice': 'AffinityPropagation', 'dim_reduction_choice': 'IncrementalPCA', 'damping___AffinityPropagation': 0.7000547799101566, 'whiten___IncrementalPCA': True, 'affinity___AffinityPropagation': 'euclidean', 'n_components___IncrementalPCA': 2, 'batch_size___IncrementalPCA': 283}\n",
      "Score obtained by this configuration: 0.4120163878883718\n",
      "Fitting configuration: \n",
      "{'clustering_choice': 'AffinityPropagation', 'dim_reduction_choice': 'KernelPCA', 'damping___AffinityPropagation': 0.6384800608301505, 'n_components___KernelPCA': 3, 'kernel___KernelPCA': 'linear', 'affinity___AffinityPropagation': 'euclidean'}\n",
      "Score obtained by this configuration: 0.46038925628928196\n",
      "Fitting configuration: \n",
      "{'clustering_choice': 'SpectralClustering', 'affinity___SpectralClustering': 'nearest_neighbors', 'dim_reduction_choice': 'KernelPCA', 'n_components___KernelPCA': 2, 'assign_labels___SpectralClustering': 'discretize', 'n_clusters___SpectralClustering': 54, 'kernel___KernelPCA': 'cosine', 'eigen_solver___SpectralClustering': 'arpack'}\n",
      "Score obtained by this configuration: 0.38591594736297957\n",
      "Fitting configuration: \n",
      "{'clustering_choice': 'AffinityPropagation', 'n_components___TSNE': 2, 'dim_reduction_choice': 'TSNE', 'damping___AffinityPropagation': 0.8903629979106831, 'early_exaggeration___TSNE': 11.356171017320138, 'affinity___AffinityPropagation': 'euclidean', 'perplexity___TSNE': 91.66677884166688}\n",
      "Fitting configuration: \n",
      "{'clustering_choice': 'AffinityPropagation', 'n_components___TSNE': 2, 'dim_reduction_choice': 'TSNE', 'damping___AffinityPropagation': 0.950768216896239, 'early_exaggeration___TSNE': 6.379964514235319, 'affinity___AffinityPropagation': 'euclidean', 'perplexity___TSNE': 8.982813168378364}\n",
      "Fitting configuration: \n",
      "{'clustering_choice': 'KMeans', 'kernel___KernelPCA': 'cosine', 'dim_reduction_choice': 'KernelPCA', 'n_clusters___KMeans': 39, 'n_components___KernelPCA': 2}\n",
      "Score obtained by this configuration: 0.3891949637591113\n",
      "Fitting configuration: \n",
      "{'clustering_choice': 'MiniBatchKMeans', 'fun___FastICA': 'exp', 'dim_reduction_choice': 'FastICA', 'whiten___FastICA': True, 'n_components___FastICA': 3, 'batch_size___MiniBatchKMeans': 406, 'algorithm___FastICA': 'deflation', 'n_clusters___MiniBatchKMeans': 24}\n",
      "Score obtained by this configuration: 0.4578161554632867\n",
      "Fitting configuration: \n",
      "{'clustering_choice': 'KMeans', 'kernel___KernelPCA': 'linear', 'dim_reduction_choice': 'KernelPCA', 'n_clusters___KMeans': 67, 'n_components___KernelPCA': 7}\n",
      "Score obtained by this configuration: 0.5018410107174526\n",
      "Fitting configuration: \n",
      "{'clustering_choice': 'MiniBatchKMeans', 'dim_reduction_choice': 'KernelPCA', 'n_components___KernelPCA': 2, 'batch_size___MiniBatchKMeans': 68, 'kernel___KernelPCA': 'rbf', 'n_clusters___MiniBatchKMeans': 9}\n",
      "Score obtained by this configuration: 0.39455059386194763\n",
      "Fitting configuration: \n",
      "{'clustering_choice': 'MeanShift', 'dim_reduction_choice': 'PCA', 'whiten___PCA': True, 'bandwidth___MeanShift': 26.807060700054667, 'svd_solver___PCA': 'auto', 'n_components___PCA': 3}\n",
      "Score obtained by this configuration: inf\n"
     ]
    },
    {
     "name": "stderr",
     "output_type": "stream",
     "text": [
      "WARNING:smac.tae.execute_func.ExecuteTAFuncDict:Target Algorithm returned NaN or inf as quality. Algorithm run is treated as CRASHED, cost is set to 2147483647.0 for quality scenarios. (Change value through \"cost_for_crash\"-option.)\n"
     ]
    },
    {
     "name": "stdout",
     "output_type": "stream",
     "text": [
      "Fitting configuration: \n",
      "{'clustering_choice': 'OPTICS', 'fun___FastICA': 'exp', 'dim_reduction_choice': 'FastICA', 'metric___OPTICS': 'manhattan', 'min_samples___OPTICS': 634, 'cluster_method___OPTICS': 'xi', 'n_components___FastICA': 3, 'algorithm___FastICA': 'parallel'}\n"
     ]
    },
    {
     "name": "stderr",
     "output_type": "stream",
     "text": [
      "Process pynisher function call:\n",
      "Traceback (most recent call last):\n",
      "  File \"/home/coffeetumbler/anaconda3/envs/automl/lib/python3.5/multiprocessing/process.py\", line 252, in _bootstrap\n",
      "    self.run()\n",
      "  File \"/home/coffeetumbler/anaconda3/envs/automl/lib/python3.5/multiprocessing/process.py\", line 93, in run\n",
      "    self._target(*self._args, **self._kwargs)\n",
      "  File \"/home/coffeetumbler/anaconda3/envs/automl/lib/python3.5/site-packages/pynisher/limit_function_call.py\", line 93, in subprocess_func\n",
      "    return_value = ((func(*args, **kwargs), 0))\n",
      "  File \"/home/coffeetumbler/automl_2019/autocluster/autocluster.py\", line 249, in evaluate_model\n",
      "    y_pred = clustering_model.fit_predict(compressed_valid_data)\n",
      "  File \"/home/coffeetumbler/anaconda3/envs/automl/lib/python3.5/site-packages/sklearn/base.py\", line 447, in fit_predict\n",
      "    self.fit(X)\n",
      "  File \"/home/coffeetumbler/anaconda3/envs/automl/lib/python3.5/site-packages/sklearn/cluster/optics_.py\", line 248, in fit\n",
      "    max_eps=self.max_eps)\n",
      "  File \"/home/coffeetumbler/anaconda3/envs/automl/lib/python3.5/site-packages/sklearn/cluster/optics_.py\", line 438, in compute_optics_graph\n",
      "    _validate_size(min_samples, n_samples, 'min_samples')\n",
      "  File \"/home/coffeetumbler/anaconda3/envs/automl/lib/python3.5/site-packages/sklearn/cluster/optics_.py\", line 290, in _validate_size\n",
      "    (param_name, n_samples, size))\n",
      "ValueError: min_samples must be no greater than the number of samples (447). Got 634\n"
     ]
    },
    {
     "name": "stdout",
     "output_type": "stream",
     "text": [
      "Fitting configuration: \n",
      "{'clustering_choice': 'MiniBatchKMeans', 'fun___FastICA': 'logcosh', 'dim_reduction_choice': 'FastICA', 'whiten___FastICA': True, 'n_components___FastICA': 3, 'batch_size___MiniBatchKMeans': 109, 'algorithm___FastICA': 'parallel', 'n_clusters___MiniBatchKMeans': 4}\n",
      "Score obtained by this configuration: 0.4774809969400038\n",
      "Fitting configuration: \n",
      "{'clustering_choice': 'MiniBatchKMeans', 'fun___FastICA': 'exp', 'dim_reduction_choice': 'FastICA', 'whiten___FastICA': True, 'n_components___FastICA': 3, 'batch_size___MiniBatchKMeans': 57, 'algorithm___FastICA': 'parallel', 'n_clusters___MiniBatchKMeans': 6}\n",
      "Score obtained by this configuration: 0.449258159730316\n",
      "Fitting configuration: \n",
      "{'clustering_choice': 'Birch', 'n_clusters___Birch': 6, 'branching_factor___Birch': 913, 'whiten___IncrementalPCA': True, 'n_components___IncrementalPCA': 3, 'batch_size___IncrementalPCA': 748, 'dim_reduction_choice': 'IncrementalPCA'}\n",
      "Score obtained by this configuration: 0.46994306068595787\n",
      "Fitting configuration: \n",
      "{'clustering_choice': 'MeanShift', 'kernel___KernelPCA': 'poly', 'dim_reduction_choice': 'KernelPCA', 'bandwidth___MeanShift': 46.36396483156826, 'n_components___KernelPCA': 6}\n",
      "Score obtained by this configuration: inf\n"
     ]
    },
    {
     "name": "stderr",
     "output_type": "stream",
     "text": [
      "WARNING:smac.tae.execute_func.ExecuteTAFuncDict:Target Algorithm returned NaN or inf as quality. Algorithm run is treated as CRASHED, cost is set to 2147483647.0 for quality scenarios. (Change value through \"cost_for_crash\"-option.)\n"
     ]
    }
   ],
   "source": [
    "for silhouette in range(0, 11):\n",
    "    for davies in range(0, 11 - silhouette):\n",
    "        calinski = 10 - silhouette - davies\n",
    "        cluster = AutoCluster()\n",
    "        fit_params = {\n",
    "            \"df\": df, \n",
    "            \"cluster_alg_ls\": [\n",
    "                'KMeans', 'GaussianMixture', 'Birch', \n",
    "                'MiniBatchKMeans', 'AgglomerativeClustering', 'OPTICS', \n",
    "                'SpectralClustering', 'DBSCAN', 'AffinityPropagation', 'MeanShift'\n",
    "            ], \n",
    "            \"dim_reduction_alg_ls\": [\n",
    "                'TSNE', 'PCA', 'IncrementalPCA', \n",
    "                'KernelPCA', 'FastICA', 'TruncatedSVD'\n",
    "            ],\n",
    "            \"n_evaluations\": 100,\n",
    "            \"run_obj\": 'quality',\n",
    "            \"seed\": 27,\n",
    "            \"cutoff_time\": 20,\n",
    "            \"preprocess_dict\": {\n",
    "                \"numeric_cols\": list(range(64)),\n",
    "                \"categorical_cols\": [],\n",
    "                \"ordinal_cols\": [],\n",
    "                \"y_col\": []\n",
    "            },\n",
    "            \"evaluator\": get_evaluator(evaluator_ls = ['silhouetteScore', 'daviesBouldinScore', 'calinskiHarabaszScore'], \n",
    "                                       weights = [silhouette, davies, calinski], clustering_num = None, \n",
    "                                       min_proportion = .01),\n",
    "            \"n_folds\": 3,\n",
    "            \"warmstart\": True,\n",
    "            \"general_metafeatures\": MetafeatureMapper.getGeneralMetafeatures(),\n",
    "            \"numeric_metafeatures\": MetafeatureMapper.getNumericMetafeatures(),\n",
    "            \"categorical_metafeatures\": [],\n",
    "        }\n",
    "        result_dict = cluster.fit(**fit_params)\n",
    "        predictions = cluster.predict(df, plot=False)\n",
    "        v_score = v_measure_score(predictions, datasets.load_digits()['target'])\n",
    "\n",
    "        if prediction_num < 10:\n",
    "            for i in range(prediction_num):\n",
    "                if v_score > top10_v_scores[i]:\n",
    "                    top10_v_scores.insert(i, v_score)\n",
    "                    top10_models.insert(i, cluster)\n",
    "                    top10_evaluator_weights.insert(i, [silhouette, davies, calinski])\n",
    "                    break\n",
    "            if len(top10_v_scores) == prediction_num:\n",
    "                top10_v_scores.append(v_score)\n",
    "                top10_models.append(cluster)\n",
    "                top10_evaluator_weights.append([silhouette, davies, calinski])\n",
    "            prediction_num += 1\n",
    "            print(\"\\nModel chosen with weights = \")\n",
    "            print([silhouette, davies, calinski])\n",
    "            print(\"v_score = \")\n",
    "            print(v_score)\n",
    "            print(\"\\n\")\n",
    "        else:\n",
    "            for i in range(10):\n",
    "                if v_score > top10_v_scores[i]:\n",
    "                    top10_v_scores.insert(i, v_score)\n",
    "                    top10_models.insert(i, cluster)\n",
    "                    top10_evaluator_weights.insert(i, [silhouette, davies, calinski])\n",
    "                    del(top10_v_scores[10])\n",
    "                    del(top10_models[10])\n",
    "                    del(top10_evaluator_weights[10])\n",
    "                    print(\"\\nModel chosen with weights = \")\n",
    "                    print([silhouette, davies, calinski])\n",
    "                    print(\"v_score = \")\n",
    "                    print(v_score)\n",
    "                    print(\"\\n\")\n",
    "                    break"
   ]
  },
  {
   "cell_type": "code",
   "execution_count": 6,
   "metadata": {},
   "outputs": [
    {
     "name": "stdout",
     "output_type": "stream",
     "text": [
      "[0.41808277342253314, 0.41192910001986005, 0.3898970117303303, 0.387771914872209, 0.38726644246922376, 0.38617927933419116, 0.3843626081929543, 0.3825177202473243, 0.3816118496001381, 0.38074120988119203]\n",
      "[[0, 3, 97], [0, 0, 100], [0, 7, 93], [0, 10, 90], [0, 9, 91], [0, 6, 94], [0, 2, 98], [0, 5, 95], [0, 4, 96], [0, 8, 92], [0, 1, 99]]\n"
     ]
    }
   ],
   "source": [
    "print(top10_v_scores)\n",
    "print(top10_evaluator_weights)"
   ]
  },
  {
   "cell_type": "code",
   "execution_count": 14,
   "metadata": {},
   "outputs": [
    {
     "data": {
      "text/plain": [
       "array([ 7.28000825e+00,  0.00000000e+00,  0.00000000e+00,  4.89371554e-01,\n",
       "        1.45100000e+03,  1.44600069e+03,  1.80591445e-01, -5.98208294e-01,\n",
       "       -1.42356631e+00,  0.00000000e+00, -3.00000000e+00, -1.11403012e-02,\n",
       "       -2.51757975e-01,  9.27284850e-01, -8.07725984e-01,  4.37500000e-01,\n",
       "        6.01279269e+00, -9.17630852e-02,  3.80526042e+01,  4.89371554e-01,\n",
       "       -8.46963666e-01,  4.27892564e+01,  2.54027097e-02,  3.74324201e+00,\n",
       "       -1.93527394e+01,  2.38688385e+00,  6.24879644e-02,  2.00430975e-01,\n",
       "        2.94463539e-01, -1.37877117e+00,  4.41589963e-03,  8.80353297e+01,\n",
       "       -4.35831412e-01])"
      ]
     },
     "execution_count": 14,
     "metadata": {},
     "output_type": "execute_result"
    }
   ],
   "source": [
    "result_dict['metafeatures'][0]"
   ]
  },
  {
   "cell_type": "code",
   "execution_count": 15,
   "metadata": {},
   "outputs": [
    {
     "data": {
      "image/png": "[encoded data removed]",
      "text/plain": [
       "<Figure size 720x720 with 1 Axes>"
      ]
     },
     "metadata": {
      "needs_background": "dark"
     },
     "output_type": "display_data"
    }
   ],
   "source": [
    "predictions = cluster.predict(df)"
   ]
  },
  {
   "cell_type": "code",
   "execution_count": 16,
   "metadata": {},
   "outputs": [
    {
     "data": {
      "text/plain": [
       "Counter({0: 575, 1: 335, 2: 689, 3: 198})"
      ]
     },
     "execution_count": 16,
     "metadata": {},
     "output_type": "execute_result"
    }
   ],
   "source": [
    "Counter(predictions)"
   ]
  },
  {
   "cell_type": "code",
   "execution_count": 17,
   "metadata": {},
   "outputs": [
    {
     "data": {
      "text/plain": [
       "0.4846394526181437"
      ]
     },
     "execution_count": 17,
     "metadata": {},
     "output_type": "execute_result"
    }
   ],
   "source": [
    "v_measure_score(predictions, datasets.load_digits()['target'])"
   ]
  },
  {
   "cell_type": "code",
   "execution_count": 18,
   "metadata": {},
   "outputs": [
    {
     "data": {
      "image/png": "[encoded data removed]",
      "text/plain": [
       "<Figure size 720x720 with 1 Axes>"
      ]
     },
     "metadata": {
      "needs_background": "dark"
     },
     "output_type": "display_data"
    }
   ],
   "source": [
    "cluster.plot_convergence()"
   ]
  },
  {
   "cell_type": "code",
   "execution_count": 19,
   "metadata": {},
   "outputs": [
    {
     "data": {
      "text/plain": [
       "[({'clustering_choice': 'KMeans',\n",
       "   'dim_reduction_choice': 'TSNE',\n",
       "   'early_exaggeration___TSNE': 12.0,\n",
       "   'n_clusters___KMeans': 5,\n",
       "   'n_components___TSNE': 2,\n",
       "   'perplexity___TSNE': 30.0},\n",
       "  2147483648),\n",
       " ({'clustering_choice': 'KMeans',\n",
       "   'dim_reduction_choice': 'TSNE',\n",
       "   'early_exaggeration___TSNE': 12.0,\n",
       "   'n_clusters___KMeans': 5,\n",
       "   'n_components___TSNE': 2,\n",
       "   'perplexity___TSNE': 30.0},\n",
       "  2147483647.0),\n",
       " ({'affinity___SpectralClustering': 'laplacian',\n",
       "   'algorithm___TruncatedSVD': 'randomized',\n",
       "   'assign_labels___SpectralClustering': 'kmeans',\n",
       "   'clustering_choice': 'SpectralClustering',\n",
       "   'dim_reduction_choice': 'TruncatedSVD',\n",
       "   'eigen_solver___SpectralClustering': 'arpack',\n",
       "   'n_clusters___SpectralClustering': 7,\n",
       "   'n_components___TruncatedSVD': 2},\n",
       "  0.3100351283090242),\n",
       " ({'algorithm___FastICA': 'parallel',\n",
       "   'clustering_choice': 'KMeans',\n",
       "   'dim_reduction_choice': 'FastICA',\n",
       "   'fun___FastICA': 'cube',\n",
       "   'n_clusters___KMeans': 3,\n",
       "   'n_components___FastICA': 2,\n",
       "   'whiten___FastICA': False},\n",
       "  0.27194144737375897),\n",
       " ({'clustering_choice': 'GaussianMixture',\n",
       "   'covariance_type___GaussianMixture': 'spherical',\n",
       "   'dim_reduction_choice': 'KernelPCA',\n",
       "   'init_params___GaussianMixture': 'kmeans',\n",
       "   'kernel___KernelPCA': 'linear',\n",
       "   'n_components___GaussianMixture': 4,\n",
       "   'n_components___KernelPCA': 2,\n",
       "   'warm_start___GaussianMixture': False},\n",
       "  0.26894450579467655)]"
      ]
     },
     "execution_count": 19,
     "metadata": {},
     "output_type": "execute_result"
    }
   ],
   "source": [
    "cluster.get_trajectory()"
   ]
  }
 ],
 "metadata": {
  "kernelspec": {
   "display_name": "Python [conda env:automl]",
   "language": "python",
   "name": "conda-env-automl-py"
  },
  "language_info": {
   "codemirror_mode": {
    "name": "ipython",
    "version": 3
   },
   "file_extension": ".py",
   "mimetype": "text/x-python",
   "name": "python",
   "nbconvert_exporter": "python",
   "pygments_lexer": "ipython3",
   "version": "3.5.6"
  }
 },
 "nbformat": 4,
 "nbformat_minor": 2
}
