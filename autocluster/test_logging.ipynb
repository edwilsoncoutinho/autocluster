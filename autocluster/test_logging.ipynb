{
 "cells": [
  {
   "cell_type": "code",
   "execution_count": 1,
   "metadata": {},
   "outputs": [],
   "source": [
    "from log_helper.log_helper import LogHelper\n",
    "from datetime import datetime\n",
    "from pytz import timezone\n",
    "\n",
    "import os\n",
    "import pathlib\n",
    "import logging"
   ]
  },
  {
   "cell_type": "code",
   "execution_count": 2,
   "metadata": {},
   "outputs": [
    {
     "name": "stderr",
     "output_type": "stream",
     "text": [
      "2019-07-10 13:21:20,177 INFO - log_helper.log_helper - Finished configuring logger\n"
     ]
    }
   ],
   "source": [
    "##################################################################################################\n",
    "# Setup logger and output dir                                                                    #\n",
    "##################################################################################################\n",
    "output_dir = 'log/test-{}'.format(datetime.now(timezone('Asia/Seoul')).strftime('%Y-%m-%d_%H-%M-%S-%f')[:-3])\n",
    "if not os.path.exists(output_dir):\n",
    "    pathlib.Path(output_dir).mkdir(parents=True, exist_ok=True)\n",
    "\n",
    "# Setup logger\n",
    "LogHelper.setup(log_path='{}/test.log'.format(output_dir), log_level=logging.INFO)\n",
    "_logger = logging.getLogger(__name__)"
   ]
  },
  {
   "cell_type": "code",
   "execution_count": null,
   "metadata": {},
   "outputs": [],
   "source": []
  }
 ],
 "metadata": {
  "kernelspec": {
   "display_name": "Python [conda env:spia2019]",
   "language": "python",
   "name": "conda-env-spia2019-py"
  },
  "language_info": {
   "codemirror_mode": {
    "name": "ipython",
    "version": 3
   },
   "file_extension": ".py",
   "mimetype": "text/x-python",
   "name": "python",
   "nbconvert_exporter": "python",
   "pygments_lexer": "ipython3",
   "version": "3.5.6"
  }
 },
 "nbformat": 4,
 "nbformat_minor": 2
}
